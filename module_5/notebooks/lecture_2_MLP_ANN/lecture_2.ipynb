{
 "nbformat": 4,
 "nbformat_minor": 0,
 "metadata": {
  "kernelspec": {
   "display_name": "Python 3",
   "language": "python",
   "name": "python3"
  },
  "language_info": {
   "codemirror_mode": {
    "name": "ipython",
    "version": 3
   },
   "file_extension": ".py",
   "mimetype": "text/x-python",
   "name": "python",
   "nbconvert_exporter": "python",
   "pygments_lexer": "ipython3",
   "version": "3.7.1"
  },
  "colab": {
   "name": "Лекция 3.ipynb",
   "provenance": [],
   "collapsed_sections": []
  }
 },
 "cells": [
  {
   "cell_type": "markdown",
   "metadata": {
    "id": "24IF9wcGmPZM",
    "colab_type": "text",
    "pycharm": {
     "name": "#%% md\n"
    }
   },
   "source": [
    "## Функции Активации"
   ]
  },
  {
   "cell_type": "code",
   "metadata": {
    "id": "WGoorsK6mPZP",
    "colab_type": "code",
    "colab": {},
    "pycharm": {
     "name": "#%%\n"
    },
    "ExecuteTime": {
     "end_time": "2023-07-26T18:24:25.773986Z",
     "start_time": "2023-07-26T18:24:21.883213Z"
    }
   },
   "source": [
    "import matplotlib.pyplot as plt\n",
    "%matplotlib inline\n",
    "import torch\n",
    "import numpy as np\n",
    "import warnings\n",
    "warnings.filterwarnings(\"ignore\")"
   ],
   "execution_count": 1,
   "outputs": []
  },
  {
   "cell_type": "markdown",
   "metadata": {
    "id": "uTrwDt0OmPZj",
    "colab_type": "text",
    "pycharm": {
     "name": "#%% md\n"
    }
   },
   "source": [
    "## MLP"
   ]
  },
  {
   "cell_type": "markdown",
   "metadata": {
    "id": "BQEb43_PmPZk",
    "colab_type": "text",
    "pycharm": {
     "name": "#%% md\n"
    }
   },
   "source": [
    "## Данные"
   ]
  },
  {
   "cell_type": "code",
   "metadata": {
    "id": "RAge7EI-mPZl",
    "colab_type": "code",
    "colab": {},
    "pycharm": {
     "name": "#%%\n"
    },
    "ExecuteTime": {
     "end_time": "2023-07-26T18:24:42.036064Z",
     "start_time": "2023-07-26T18:24:41.277323Z"
    }
   },
   "source": [
    "import torchvision as tv\n",
    "import time"
   ],
   "execution_count": 2,
   "outputs": []
  },
  {
   "cell_type": "code",
   "metadata": {
    "id": "qb_NW7cVmPZs",
    "colab_type": "code",
    "colab": {},
    "pycharm": {
     "name": "#%%\n"
    },
    "ExecuteTime": {
     "end_time": "2023-07-26T18:43:49.517603Z",
     "start_time": "2023-07-26T18:43:49.513991Z"
    }
   },
   "source": [
    "BATCH_SIZE=256\n",
    "device = \"cuda\" if torch.cuda.is_available() else \"cpu\""
   ],
   "execution_count": 13,
   "outputs": []
  },
  {
   "cell_type": "code",
   "metadata": {
    "id": "Kw5Kv2i6mPZu",
    "colab_type": "code",
    "colab": {},
    "pycharm": {
     "name": "#%%\n"
    },
    "ExecuteTime": {
     "end_time": "2023-07-26T18:47:43.632632Z",
     "start_time": "2023-07-26T18:47:43.582577Z"
    }
   },
   "source": [
    "train_dataset = tv.datasets.MNIST('.', train=True, transform=tv.transforms.ToTensor(), download=True)\n",
    "test_dataset = tv.datasets.MNIST('.', train=False, transform=tv.transforms.ToTensor(), download=True)\n",
    "train = torch.utils.data.DataLoader(train_dataset, batch_size=BATCH_SIZE)\n",
    "test = torch.utils.data.DataLoader(test_dataset, batch_size=BATCH_SIZE)\n",
    "\n",
    "train_dataset.train_data.to(device)\n",
    "train_dataset.train_labels.to(device)\n",
    "\n",
    "test_dataset.test_data.to(device)\n",
    "train_dataset.test_labels.to(device)"
   ],
   "execution_count": 19,
   "outputs": [
    {
     "data": {
      "text/plain": "tensor([5, 0, 4,  ..., 5, 6, 8])"
     },
     "execution_count": 19,
     "metadata": {},
     "output_type": "execute_result"
    }
   ]
  },
  {
   "cell_type": "code",
   "metadata": {
    "scrolled": false,
    "id": "1pgo64r1mPZx",
    "colab_type": "code",
    "outputId": "4821bec4-c762-4b55-faf9-512f01cfd22a",
    "colab": {},
    "pycharm": {
     "name": "#%%\n"
    },
    "ExecuteTime": {
     "end_time": "2023-07-26T18:26:47.260619Z",
     "start_time": "2023-07-26T18:26:47.042221Z"
    }
   },
   "source": [
    "plt.imshow(train_dataset[0][0].numpy().reshape(28,28), cmap='gray')"
   ],
   "execution_count": 5,
   "outputs": [
    {
     "data": {
      "text/plain": "<matplotlib.image.AxesImage at 0x12c860130>"
     },
     "execution_count": 5,
     "metadata": {},
     "output_type": "execute_result"
    },
    {
     "data": {
      "text/plain": "<Figure size 640x480 with 1 Axes>",
      "image/png": "[encoded data removed]"
     },
     "metadata": {},
     "output_type": "display_data"
    }
   ]
  },
  {
   "cell_type": "code",
   "metadata": {
    "id": "SKhbDXt_mPZ0",
    "colab_type": "code",
    "outputId": "1f0ddd67-aa80-4da2-b6c1-45a3c7de33f3",
    "colab": {},
    "pycharm": {
     "name": "#%%\n"
    },
    "ExecuteTime": {
     "end_time": "2023-07-26T18:26:59.890868Z",
     "start_time": "2023-07-26T18:26:59.886113Z"
    }
   },
   "source": [
    "train_dataset[0][0].shape"
   ],
   "execution_count": 6,
   "outputs": [
    {
     "data": {
      "text/plain": "torch.Size([1, 28, 28])"
     },
     "execution_count": 6,
     "metadata": {},
     "output_type": "execute_result"
    }
   ]
  },
  {
   "cell_type": "markdown",
   "metadata": {
    "id": "-LcgNXwOmPZ5",
    "colab_type": "text",
    "pycharm": {
     "name": "#%% md\n"
    }
   },
   "source": [
    "## Модель"
   ]
  },
  {
   "cell_type": "code",
   "execution_count": 17,
   "outputs": [],
   "source": [
    "model = torch.nn.Sequential(\n",
    "    torch.nn.Flatten(),\n",
    "    torch.nn.Linear(784, 256),\n",
    "\n",
    "    torch.nn.ReLU(),\n",
    "\n",
    "    torch.nn.Linear(256, 10)\n",
    "\n",
    ").to(device)"
   ],
   "metadata": {
    "collapsed": false,
    "ExecuteTime": {
     "end_time": "2023-07-26T18:46:45.117150Z",
     "start_time": "2023-07-26T18:46:45.110359Z"
    }
   }
  },
  {
   "cell_type": "code",
   "execution_count": 18,
   "outputs": [
    {
     "data": {
      "text/plain": "OrderedDict([('1.weight',\n              tensor([[ 0.0221, -0.0061, -0.0046,  ...,  0.0053,  0.0145,  0.0281],\n                      [-0.0246,  0.0105,  0.0273,  ...,  0.0003,  0.0237,  0.0045],\n                      [ 0.0150,  0.0193, -0.0170,  ...,  0.0206,  0.0043, -0.0055],\n                      ...,\n                      [-0.0017, -0.0040,  0.0117,  ..., -0.0225, -0.0151,  0.0157],\n                      [ 0.0012, -0.0145, -0.0216,  ..., -0.0071, -0.0210, -0.0331],\n                      [-0.0233, -0.0042,  0.0047,  ..., -0.0314,  0.0173, -0.0199]])),\n             ('1.bias',\n              tensor([ 0.0107, -0.0341,  0.0156, -0.0090, -0.0289,  0.0252, -0.0173,  0.0283,\n                      -0.0241, -0.0245,  0.0159, -0.0306,  0.0263, -0.0084,  0.0004, -0.0350,\n                       0.0293,  0.0211, -0.0294,  0.0320, -0.0243, -0.0291,  0.0234,  0.0048,\n                      -0.0323, -0.0204,  0.0324,  0.0115, -0.0262, -0.0088, -0.0224, -0.0203,\n                      -0.0303,  0.0351, -0.0259, -0.0067, -0.0121,  0.0343, -0.0304,  0.0002,\n                      -0.0105, -0.0126,  0.0089,  0.0294, -0.0143,  0.0267,  0.0191, -0.0135,\n                      -0.0215, -0.0209,  0.0164, -0.0102, -0.0245,  0.0023,  0.0170,  0.0284,\n                       0.0341,  0.0039,  0.0203,  0.0295,  0.0330,  0.0334, -0.0246, -0.0318,\n                      -0.0159, -0.0094, -0.0170,  0.0348, -0.0275,  0.0029, -0.0243,  0.0271,\n                       0.0040,  0.0346,  0.0034,  0.0145,  0.0159, -0.0034, -0.0194,  0.0342,\n                       0.0119,  0.0206, -0.0299,  0.0039,  0.0006,  0.0237, -0.0062, -0.0073,\n                       0.0326,  0.0336, -0.0145,  0.0158, -0.0012,  0.0183, -0.0339,  0.0089,\n                      -0.0020,  0.0005, -0.0352,  0.0163, -0.0343,  0.0339,  0.0172,  0.0014,\n                      -0.0093,  0.0088,  0.0305, -0.0103,  0.0235, -0.0130, -0.0143, -0.0240,\n                      -0.0118, -0.0310,  0.0137, -0.0069, -0.0116,  0.0100,  0.0299,  0.0130,\n                       0.0337, -0.0009,  0.0312,  0.0081,  0.0291,  0.0057,  0.0121, -0.0319,\n                       0.0151, -0.0251, -0.0288,  0.0119, -0.0308, -0.0133, -0.0320,  0.0086,\n                       0.0152,  0.0117, -0.0224,  0.0235, -0.0035,  0.0213, -0.0307, -0.0043,\n                       0.0040, -0.0028,  0.0064,  0.0086,  0.0205, -0.0241, -0.0318,  0.0003,\n                       0.0301, -0.0203,  0.0047, -0.0117,  0.0073,  0.0086,  0.0158, -0.0253,\n                      -0.0320, -0.0026, -0.0351,  0.0194,  0.0260,  0.0203, -0.0071,  0.0273,\n                       0.0329,  0.0096, -0.0283,  0.0246,  0.0326, -0.0047,  0.0201,  0.0140,\n                       0.0106,  0.0289, -0.0322, -0.0328,  0.0032, -0.0322, -0.0079,  0.0042,\n                      -0.0217,  0.0100,  0.0309,  0.0261, -0.0126, -0.0338,  0.0314, -0.0054,\n                       0.0201, -0.0312,  0.0353,  0.0085, -0.0311, -0.0305,  0.0041,  0.0135,\n                       0.0334,  0.0100,  0.0145,  0.0173, -0.0218,  0.0288, -0.0312, -0.0164,\n                      -0.0058, -0.0153, -0.0334, -0.0034, -0.0300, -0.0042,  0.0203,  0.0064,\n                      -0.0266, -0.0148,  0.0334, -0.0031, -0.0216, -0.0340, -0.0021,  0.0149,\n                      -0.0237,  0.0124,  0.0240, -0.0068, -0.0129, -0.0099, -0.0300, -0.0213,\n                      -0.0100,  0.0240,  0.0086,  0.0071,  0.0045,  0.0225,  0.0023, -0.0198,\n                       0.0108,  0.0295, -0.0203, -0.0340,  0.0067, -0.0291, -0.0015,  0.0192,\n                       0.0179,  0.0304,  0.0026, -0.0148,  0.0081,  0.0223, -0.0275, -0.0127])),\n             ('3.weight',\n              tensor([[ 0.0354,  0.0031,  0.0354,  ..., -0.0549, -0.0393,  0.0162],\n                      [-0.0197, -0.0115,  0.0409,  ...,  0.0003, -0.0100,  0.0615],\n                      [-0.0306,  0.0291,  0.0585,  ...,  0.0516, -0.0521,  0.0609],\n                      ...,\n                      [ 0.0146, -0.0210,  0.0232,  ...,  0.0573, -0.0611, -0.0494],\n                      [-0.0316,  0.0568,  0.0171,  ..., -0.0088,  0.0133,  0.0476],\n                      [ 0.0026,  0.0422,  0.0096,  ...,  0.0222,  0.0240, -0.0240]])),\n             ('3.bias',\n              tensor([-0.0527, -0.0178,  0.0552,  0.0426, -0.0211, -0.0354,  0.0006, -0.0249,\n                       0.0357,  0.0015]))])"
     },
     "execution_count": 18,
     "metadata": {},
     "output_type": "execute_result"
    }
   ],
   "source": [
    "model.state_dict()"
   ],
   "metadata": {
    "collapsed": false,
    "ExecuteTime": {
     "end_time": "2023-07-26T18:46:46.338821Z",
     "start_time": "2023-07-26T18:46:46.324846Z"
    }
   }
  },
  {
   "cell_type": "code",
   "metadata": {
    "id": "fDqkL214mPZ7",
    "colab_type": "code",
    "colab": {},
    "pycharm": {
     "name": "#%%\n"
    },
    "ExecuteTime": {
     "end_time": "2023-07-26T18:31:22.939354Z",
     "start_time": "2023-07-26T18:31:22.934520Z"
    }
   },
   "source": [
    "loss = torch.nn.CrossEntropyLoss()\n",
    "trainer = torch.optim.SGD(model.parameters(), lr=.01)\n",
    "# trainer = torch.optim.Adam(model.parameters(), lr=.01)\n",
    "num_epochs = 10"
   ],
   "execution_count": 10,
   "outputs": []
  },
  {
   "cell_type": "code",
   "metadata": {
    "id": "vVqz1hvTmPaA",
    "colab_type": "code",
    "outputId": "c612dc63-3553-4576-eb01-82e13a11b8d4",
    "colab": {},
    "pycharm": {
     "name": "#%%\n"
    },
    "ExecuteTime": {
     "end_time": "2023-07-26T18:33:35.828706Z",
     "start_time": "2023-07-26T18:32:23.939509Z"
    }
   },
   "source": [
    "for ep in range(num_epochs):\n",
    "    train_iters, train_passed  = 0, 0\n",
    "    train_loss, train_acc = 0., 0.\n",
    "    start=time.time()\n",
    "    \n",
    "    model.train()\n",
    "\n",
    "    for X, y in train:\n",
    "        trainer.zero_grad()\n",
    "\n",
    "        y_pred = model(X)\n",
    "\n",
    "        l = loss(y_pred, y)\n",
    "        l.backward()\n",
    "\n",
    "        trainer.step()\n",
    "\n",
    "        train_loss += l.item()\n",
    "        train_acc += (y_pred.argmax(dim=1) == y).sum().item()\n",
    "\n",
    "        train_iters += 1\n",
    "        train_passed += len(X)\n",
    "    \n",
    "    test_iters, test_passed  = 0, 0\n",
    "    test_loss, test_acc = 0., 0.\n",
    "    model.eval()\n",
    "\n",
    "    for X, y in test:\n",
    "        y_pred = model(X)\n",
    "\n",
    "        l = loss(y_pred, y)\n",
    "\n",
    "        test_loss += l.item()\n",
    "\n",
    "        test_acc += (y_pred.argmax(dim=1) == y).sum().item()\n",
    "        test_iters += 1\n",
    "\n",
    "        test_passed += len(X)\n",
    "        \n",
    "    print(\"ep: {}, taked: {:.3f}, train_loss: {}, train_acc: {}, test_loss: {}, test_acc: {}\".format(\n",
    "        ep, time.time() - start, train_loss / train_iters, train_acc / train_passed,\n",
    "        test_loss / test_iters, test_acc / test_passed)\n",
    "    )"
   ],
   "execution_count": 11,
   "outputs": [
    {
     "name": "stdout",
     "output_type": "stream",
     "text": [
      "ep: 0, taked: 7.591, train_loss: 2.0367799647310947, train_acc: 0.5815333333333333, test_loss: 1.6728292882442475, test_acc: 0.7624\n",
      "ep: 1, taked: 7.163, train_loss: 1.3228253004398751, train_acc: 0.7844, test_loss: 0.9938917249441147, test_acc: 0.8237\n",
      "ep: 2, taked: 7.128, train_loss: 0.8554999721811173, train_acc: 0.82835, test_loss: 0.7031305260956288, test_acc: 0.85\n",
      "ep: 3, taked: 7.223, train_loss: 0.6579810609208777, train_acc: 0.8509666666666666, test_loss: 0.5715175073593854, test_acc: 0.8666\n",
      "ep: 4, taked: 7.277, train_loss: 0.5586896357384133, train_acc: 0.8648, test_loss: 0.4980107232928276, test_acc: 0.8789\n",
      "ep: 5, taked: 7.015, train_loss: 0.4993258491475531, train_acc: 0.8744833333333333, test_loss: 0.4512976109981537, test_acc: 0.8866\n",
      "ep: 6, taked: 7.002, train_loss: 0.4598706865564306, train_acc: 0.88085, test_loss: 0.41910808328539134, test_acc: 0.892\n",
      "ep: 7, taked: 7.089, train_loss: 0.43171432582621877, train_acc: 0.8859, test_loss: 0.3955828368663788, test_acc: 0.8957\n",
      "ep: 8, taked: 7.223, train_loss: 0.4105131537356275, train_acc: 0.8894333333333333, test_loss: 0.3775735698640347, test_acc: 0.8986\n",
      "ep: 9, taked: 7.175, train_loss: 0.39385943542769614, train_acc: 0.8926, test_loss: 0.3632698815315962, test_acc: 0.9002\n"
     ]
    }
   ]
  },
  {
   "cell_type": "markdown",
   "metadata": {
    "id": "q6BCfLUEmPaD",
    "colab_type": "text",
    "pycharm": {
     "name": "#%% md\n"
    }
   },
   "source": [
    "## Практика - попробуйте заменить SGD на Adam и RMSProp. Увеличиться ли скорость сходимости?"
   ]
  },
  {
   "cell_type": "code",
   "metadata": {
    "id": "MMX0U9rNmPaD",
    "colab_type": "code",
    "colab": {},
    "pycharm": {
     "name": "#%%\n"
    }
   },
   "source": [],
   "execution_count": null,
   "outputs": []
  },
  {
   "cell_type": "markdown",
   "metadata": {
    "id": "urhJrVvSmPaF",
    "colab_type": "text",
    "pycharm": {
     "name": "#%% md\n"
    }
   },
   "source": [
    "## Практика - попробуйте сделать больше слоев в сети  - увеличиться ли качество?"
   ]
  },
  {
   "cell_type": "code",
   "metadata": {
    "id": "lqYmS2z6mPaG",
    "colab_type": "code",
    "colab": {},
    "pycharm": {
     "name": "#%%\n"
    }
   },
   "source": [],
   "execution_count": null,
   "outputs": []
  },
  {
   "cell_type": "markdown",
   "metadata": {
    "id": "MMELAZ3dmPaI",
    "colab_type": "text",
    "pycharm": {
     "name": "#%% md\n"
    }
   },
   "source": [
    "## Практика - попробуйте добавить регуляризацию, dropout и/или batchnorm-слои. Увеличится ли качество?"
   ]
  },
  {
   "cell_type": "code",
   "metadata": {
    "id": "bW8thRZnmPaI",
    "colab_type": "code",
    "colab": {},
    "pycharm": {
     "name": "#%%\n"
    }
   },
   "source": [],
   "execution_count": null,
   "outputs": []
  }
 ]
}
