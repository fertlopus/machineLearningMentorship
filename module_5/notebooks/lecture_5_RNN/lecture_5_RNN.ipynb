{
 "cells": [
  {
   "cell_type": "code",
   "execution_count": 19,
   "metadata": {
    "pycharm": {
     "name": "#%%\n"
    },
    "ExecuteTime": {
     "end_time": "2023-08-09T16:57:33.786587Z",
     "start_time": "2023-08-09T16:57:33.760720Z"
    }
   },
   "outputs": [],
   "source": [
    "import pandas as pd\n",
    "import time\n",
    "import torch"
   ]
  },
  {
   "cell_type": "markdown",
   "metadata": {
    "pycharm": {
     "name": "#%% md\n"
    }
   },
   "source": [
    "## Загрузка данных"
   ]
  },
  {
   "cell_type": "code",
   "execution_count": 20,
   "metadata": {
    "pycharm": {
     "name": "#%%\n",
     "is_executing": true
    },
    "ExecuteTime": {
     "end_time": "2023-08-09T16:57:34.492956Z",
     "start_time": "2023-08-09T16:57:34.393471Z"
    }
   },
   "outputs": [
    {
     "data": {
      "text/plain": "   Unnamed: 0     id  episode_id  number   \n0           0  10368          35      29  \\\n1           1  10369          35      30   \n2           2  10370          35      31   \n3           3  10372          35      33   \n4           4  10374          35      35   \n\n                                            raw_text  timestamp_in_ms   \n0           Lisa Simpson: Maggie, look. What's that?           235000  \\\n1                    Lisa Simpson: Lee-mur. Lee-mur.           237000   \n2                    Lisa Simpson: Zee-boo. Zee-boo.           239000   \n3  Lisa Simpson: I'm trying to teach Maggie that ...           245000   \n4  Lisa Simpson: It's like an ox, only it has a h...           254000   \n\n   speaking_line  character_id  location_id raw_character_text   \n0           True             9          5.0       Lisa Simpson  \\\n1           True             9          5.0       Lisa Simpson   \n2           True             9          5.0       Lisa Simpson   \n3           True             9          5.0       Lisa Simpson   \n4           True             9          5.0       Lisa Simpson   \n\n  raw_location_text                                       spoken_words   \n0      Simpson Home                         Maggie, look. What's that?  \\\n1      Simpson Home                                  Lee-mur. Lee-mur.   \n2      Simpson Home                                  Zee-boo. Zee-boo.   \n3      Simpson Home  I'm trying to teach Maggie that nature doesn't...   \n4      Simpson Home  It's like an ox, only it has a hump and a dewl...   \n\n                                     normalized_text  word_count  \n0                             maggie look whats that         4.0  \n1                                    lee-mur lee-mur         2.0  \n2                                    zee-boo zee-boo         2.0  \n3  im trying to teach maggie that nature doesnt e...        24.0  \n4  its like an ox only it has a hump and a dewlap...        18.0  ",
      "text/html": "<div>\n<style scoped>\n    .dataframe tbody tr th:only-of-type {\n        vertical-align: middle;\n    }\n\n    .dataframe tbody tr th {\n        vertical-align: top;\n    }\n\n    .dataframe thead th {\n        text-align: right;\n    }\n</style>\n<table border=\"1\" class=\"dataframe\">\n  <thead>\n    <tr style=\"text-align: right;\">\n      <th></th>\n      <th>Unnamed: 0</th>\n      <th>id</th>\n      <th>episode_id</th>\n      <th>number</th>\n      <th>raw_text</th>\n      <th>timestamp_in_ms</th>\n      <th>speaking_line</th>\n      <th>character_id</th>\n      <th>location_id</th>\n      <th>raw_character_text</th>\n      <th>raw_location_text</th>\n      <th>spoken_words</th>\n      <th>normalized_text</th>\n      <th>word_count</th>\n    </tr>\n  </thead>\n  <tbody>\n    <tr>\n      <th>0</th>\n      <td>0</td>\n      <td>10368</td>\n      <td>35</td>\n      <td>29</td>\n      <td>Lisa Simpson: Maggie, look. What's that?</td>\n      <td>235000</td>\n      <td>True</td>\n      <td>9</td>\n      <td>5.0</td>\n      <td>Lisa Simpson</td>\n      <td>Simpson Home</td>\n      <td>Maggie, look. What's that?</td>\n      <td>maggie look whats that</td>\n      <td>4.0</td>\n    </tr>\n    <tr>\n      <th>1</th>\n      <td>1</td>\n      <td>10369</td>\n      <td>35</td>\n      <td>30</td>\n      <td>Lisa Simpson: Lee-mur. Lee-mur.</td>\n      <td>237000</td>\n      <td>True</td>\n      <td>9</td>\n      <td>5.0</td>\n      <td>Lisa Simpson</td>\n      <td>Simpson Home</td>\n      <td>Lee-mur. Lee-mur.</td>\n      <td>lee-mur lee-mur</td>\n      <td>2.0</td>\n    </tr>\n    <tr>\n      <th>2</th>\n      <td>2</td>\n      <td>10370</td>\n      <td>35</td>\n      <td>31</td>\n      <td>Lisa Simpson: Zee-boo. Zee-boo.</td>\n      <td>239000</td>\n      <td>True</td>\n      <td>9</td>\n      <td>5.0</td>\n      <td>Lisa Simpson</td>\n      <td>Simpson Home</td>\n      <td>Zee-boo. Zee-boo.</td>\n      <td>zee-boo zee-boo</td>\n      <td>2.0</td>\n    </tr>\n    <tr>\n      <th>3</th>\n      <td>3</td>\n      <td>10372</td>\n      <td>35</td>\n      <td>33</td>\n      <td>Lisa Simpson: I'm trying to teach Maggie that ...</td>\n      <td>245000</td>\n      <td>True</td>\n      <td>9</td>\n      <td>5.0</td>\n      <td>Lisa Simpson</td>\n      <td>Simpson Home</td>\n      <td>I'm trying to teach Maggie that nature doesn't...</td>\n      <td>im trying to teach maggie that nature doesnt e...</td>\n      <td>24.0</td>\n    </tr>\n    <tr>\n      <th>4</th>\n      <td>4</td>\n      <td>10374</td>\n      <td>35</td>\n      <td>35</td>\n      <td>Lisa Simpson: It's like an ox, only it has a h...</td>\n      <td>254000</td>\n      <td>True</td>\n      <td>9</td>\n      <td>5.0</td>\n      <td>Lisa Simpson</td>\n      <td>Simpson Home</td>\n      <td>It's like an ox, only it has a hump and a dewl...</td>\n      <td>its like an ox only it has a hump and a dewlap...</td>\n      <td>18.0</td>\n    </tr>\n  </tbody>\n</table>\n</div>"
     },
     "execution_count": 20,
     "metadata": {},
     "output_type": "execute_result"
    }
   ],
   "source": [
    "df = pd.read_csv('./data/data.csv')\n",
    "df.head()"
   ]
  },
  {
   "cell_type": "code",
   "execution_count": 21,
   "metadata": {
    "pycharm": {
     "name": "#%%\n",
     "is_executing": true
    },
    "ExecuteTime": {
     "end_time": "2023-08-09T16:57:34.889411Z",
     "start_time": "2023-08-09T16:57:34.810426Z"
    }
   },
   "outputs": [
    {
     "data": {
      "text/plain": "['maggie look whats that',\n 'lee-mur lee-mur',\n 'zee-boo zee-boo',\n 'im trying to teach maggie that nature doesnt end with the barnyard i want her to have all the advantages that i didnt have',\n 'its like an ox only it has a hump and a dewlap hump and dew-lap hump and dew-lap',\n 'you know his blood type how romantic',\n 'oh yeah whats my shoe size',\n 'ring',\n 'yes dad',\n 'ooh look maggie what is that do-dec-ah-edron dodecahedron']"
     },
     "execution_count": 21,
     "metadata": {},
     "output_type": "execute_result"
    }
   ],
   "source": [
    "phrases = df['normalized_text'].tolist()\n",
    "phrases[:10]"
   ]
  },
  {
   "cell_type": "code",
   "execution_count": 22,
   "metadata": {
    "pycharm": {
     "name": "#%%\n"
    },
    "ExecuteTime": {
     "end_time": "2023-08-09T16:57:35.237251Z",
     "start_time": "2023-08-09T16:57:35.195606Z"
    }
   },
   "outputs": [],
   "source": [
    "text = [[c for c in ph] for ph in phrases if type(ph) is str]"
   ]
  },
  {
   "cell_type": "code",
   "execution_count": 23,
   "outputs": [
    {
     "data": {
      "text/plain": "['m',\n 'a',\n 'g',\n 'g',\n 'i',\n 'e',\n ' ',\n 'l',\n 'o',\n 'o',\n 'k',\n ' ',\n 'w',\n 'h',\n 'a',\n 't',\n 's',\n ' ',\n 't',\n 'h',\n 'a',\n 't']"
     },
     "execution_count": 23,
     "metadata": {},
     "output_type": "execute_result"
    }
   ],
   "source": [
    "text[0]"
   ],
   "metadata": {
    "collapsed": false,
    "pycharm": {
     "name": "#%%\n"
    },
    "ExecuteTime": {
     "end_time": "2023-08-09T16:57:35.705948Z",
     "start_time": "2023-08-09T16:57:35.697417Z"
    }
   }
  },
  {
   "cell_type": "markdown",
   "metadata": {
    "pycharm": {
     "name": "#%% md\n"
    }
   },
   "source": [
    "## Делаем массив с данными то есть создаем наш словарь:"
   ]
  },
  {
   "cell_type": "code",
   "execution_count": 24,
   "metadata": {
    "pycharm": {
     "name": "#%%\n"
    },
    "ExecuteTime": {
     "end_time": "2023-08-09T16:57:37.305880Z",
     "start_time": "2023-08-09T16:57:37.279997Z"
    }
   },
   "outputs": [],
   "source": [
    "CHARS = set('abcdefghijklmnopqrstuvwxyz ')\n",
    "INDEX_TO_CHAR = ['none'] + [w for w in CHARS]\n",
    "CHAR_TO_INDEX = {w: i for i, w in enumerate(INDEX_TO_CHAR)}"
   ]
  },
  {
   "cell_type": "code",
   "execution_count": 25,
   "metadata": {
    "pycharm": {
     "name": "#%%\n"
    },
    "ExecuteTime": {
     "end_time": "2023-08-09T16:57:41.508443Z",
     "start_time": "2023-08-09T16:57:37.803335Z"
    }
   },
   "outputs": [],
   "source": [
    "MAX_LEN = 50\n",
    "X = torch.zeros((len(text), MAX_LEN), dtype=int)\n",
    "\n",
    "for i in range(len(text)):\n",
    "    for j, w in enumerate(text[i]):\n",
    "        if j >= MAX_LEN:\n",
    "            break\n",
    "        X[i, j] = CHAR_TO_INDEX.get(w, CHAR_TO_INDEX['none'])"
   ]
  },
  {
   "cell_type": "code",
   "execution_count": 26,
   "metadata": {
    "scrolled": true,
    "pycharm": {
     "name": "#%%\n",
     "is_executing": true
    },
    "ExecuteTime": {
     "end_time": "2023-08-09T16:57:41.534933Z",
     "start_time": "2023-08-09T16:57:41.509669Z"
    }
   },
   "outputs": [
    {
     "data": {
      "text/plain": "tensor([[16, 12,  4,  4,  7, 18, 21, 27, 20, 20, 17, 21,  6,  3, 12, 22, 15, 21,\n         22,  3, 12, 22,  0,  0,  0,  0,  0,  0,  0,  0,  0,  0,  0,  0,  0,  0,\n          0,  0,  0,  0,  0,  0,  0,  0,  0,  0,  0,  0,  0,  0],\n        [27, 18, 18,  0, 16,  5,  9, 21, 27, 18, 18,  0, 16,  5,  9,  0,  0,  0,\n          0,  0,  0,  0,  0,  0,  0,  0,  0,  0,  0,  0,  0,  0,  0,  0,  0,  0,\n          0,  0,  0,  0,  0,  0,  0,  0,  0,  0,  0,  0,  0,  0],\n        [ 8, 18, 18,  0, 24, 20, 20, 21,  8, 18, 18,  0, 24, 20, 20,  0,  0,  0,\n          0,  0,  0,  0,  0,  0,  0,  0,  0,  0,  0,  0,  0,  0,  0,  0,  0,  0,\n          0,  0,  0,  0,  0,  0,  0,  0,  0,  0,  0,  0,  0,  0],\n        [ 7, 16, 21, 22,  9, 10,  7, 25,  4, 21, 22, 20, 21, 22, 18, 12,  1,  3,\n         21, 16, 12,  4,  4,  7, 18, 21, 22,  3, 12, 22, 21, 25, 12, 22,  5,  9,\n         18, 21, 23, 20, 18, 15, 25, 22, 21, 18, 25, 23, 21,  6],\n        [ 7, 22, 15, 21, 27,  7, 17, 18, 21, 12, 25, 21, 20, 13, 21, 20, 25, 27,\n         10, 21,  7, 22, 21,  3, 12, 15, 21, 12, 21,  3,  5, 16, 26, 21, 12, 25,\n         23, 21, 12, 21, 23, 18,  6, 27, 12, 26, 21,  3,  5, 16],\n        [10, 20,  5, 21, 17, 25, 20,  6, 21,  3,  7, 15, 21, 24, 27, 20, 20, 23,\n         21, 22, 10, 26, 18, 21,  3, 20,  6, 21,  9, 20, 16, 12, 25, 22,  7,  1,\n          0,  0,  0,  0,  0,  0,  0,  0,  0,  0,  0,  0,  0,  0],\n        [20,  3, 21, 10, 18, 12,  3, 21,  6,  3, 12, 22, 15, 21, 16, 10, 21, 15,\n          3, 20, 18, 21, 15,  7,  8, 18,  0,  0,  0,  0,  0,  0,  0,  0,  0,  0,\n          0,  0,  0,  0,  0,  0,  0,  0,  0,  0,  0,  0,  0,  0],\n        [ 9,  7, 25,  4,  0,  0,  0,  0,  0,  0,  0,  0,  0,  0,  0,  0,  0,  0,\n          0,  0,  0,  0,  0,  0,  0,  0,  0,  0,  0,  0,  0,  0,  0,  0,  0,  0,\n          0,  0,  0,  0,  0,  0,  0,  0,  0,  0,  0,  0,  0,  0],\n        [10, 18, 15, 21, 23, 12, 23,  0,  0,  0,  0,  0,  0,  0,  0,  0,  0,  0,\n          0,  0,  0,  0,  0,  0,  0,  0,  0,  0,  0,  0,  0,  0,  0,  0,  0,  0,\n          0,  0,  0,  0,  0,  0,  0,  0,  0,  0,  0,  0,  0,  0],\n        [20, 20,  3, 21, 27, 20, 20, 17, 21, 16, 12,  4,  4,  7, 18, 21,  6,  3,\n         12, 22, 21,  7, 15, 21, 22,  3, 12, 22, 21, 23, 20,  0, 23, 18,  1,  0,\n         12,  3,  0, 18, 23,  9, 20, 25, 21, 23, 20, 23, 18,  1]])"
     },
     "execution_count": 26,
     "metadata": {},
     "output_type": "execute_result"
    }
   ],
   "source": [
    "X[0:10]"
   ]
  },
  {
   "cell_type": "markdown",
   "metadata": {
    "pycharm": {
     "name": "#%% md\n"
    }
   },
   "source": [
    "## Смотрим на Embedding и RNN ячейку"
   ]
  },
  {
   "cell_type": "code",
   "execution_count": 27,
   "metadata": {
    "pycharm": {
     "name": "#%%\n",
     "is_executing": true
    },
    "ExecuteTime": {
     "end_time": "2023-08-09T16:57:42.253352Z",
     "start_time": "2023-08-09T16:57:42.241968Z"
    }
   },
   "outputs": [
    {
     "data": {
      "text/plain": "tensor([[[-0.9061, -1.2353,  0.7974,  ...,  0.0033, -1.2187, -0.8302],\n         [-0.4225, -0.0876, -0.1724,  ...,  0.6524,  0.4807, -2.0386],\n         [-1.6586,  0.1539,  0.5801,  ...,  0.8103, -0.7022, -0.2910],\n         ...,\n         [ 1.9036,  0.9599,  0.2450,  ...,  1.2360,  0.0876, -0.1994],\n         [ 1.9036,  0.9599,  0.2450,  ...,  1.2360,  0.0876, -0.1994],\n         [ 1.9036,  0.9599,  0.2450,  ...,  1.2360,  0.0876, -0.1994]],\n\n        [[-0.4540, -1.6186,  0.9846,  ..., -0.2465,  0.7290,  0.5281],\n         [ 1.2531, -0.8410, -0.0323,  ...,  1.0981, -0.2238,  0.8668],\n         [ 1.2531, -0.8410, -0.0323,  ...,  1.0981, -0.2238,  0.8668],\n         ...,\n         [ 1.9036,  0.9599,  0.2450,  ...,  1.2360,  0.0876, -0.1994],\n         [ 1.9036,  0.9599,  0.2450,  ...,  1.2360,  0.0876, -0.1994],\n         [ 1.9036,  0.9599,  0.2450,  ...,  1.2360,  0.0876, -0.1994]],\n\n        [[-0.5864,  0.4137, -0.7974,  ...,  0.0323,  0.4236,  0.8530],\n         [ 1.2531, -0.8410, -0.0323,  ...,  1.0981, -0.2238,  0.8668],\n         [ 1.2531, -0.8410, -0.0323,  ...,  1.0981, -0.2238,  0.8668],\n         ...,\n         [ 1.9036,  0.9599,  0.2450,  ...,  1.2360,  0.0876, -0.1994],\n         [ 1.9036,  0.9599,  0.2450,  ...,  1.2360,  0.0876, -0.1994],\n         [ 1.9036,  0.9599,  0.2450,  ...,  1.2360,  0.0876, -0.1994]],\n\n        ...,\n\n        [[ 0.9727, -0.4366, -0.8470,  ..., -0.5487,  2.3094, -0.9132],\n         [-1.4733, -0.2890,  0.0832,  ..., -0.6967, -1.6697, -0.1499],\n         [ 0.6716, -0.4625, -0.9822,  ...,  0.5431, -1.2303,  1.3242],\n         ...,\n         [ 1.9036,  0.9599,  0.2450,  ...,  1.2360,  0.0876, -0.1994],\n         [ 1.9036,  0.9599,  0.2450,  ...,  1.2360,  0.0876, -0.1994],\n         [ 1.9036,  0.9599,  0.2450,  ...,  1.2360,  0.0876, -0.1994]],\n\n        [[ 0.9773, -0.1328,  0.5413,  ...,  0.4434,  0.1965,  1.0985],\n         [ 1.2531, -0.8410, -0.0323,  ...,  1.0981, -0.2238,  0.8668],\n         [-0.3216, -0.6454, -0.3865,  ...,  0.3838, -0.8018,  1.2602],\n         ...,\n         [ 1.9036,  0.9599,  0.2450,  ...,  1.2360,  0.0876, -0.1994],\n         [ 1.9036,  0.9599,  0.2450,  ...,  1.2360,  0.0876, -0.1994],\n         [ 1.9036,  0.9599,  0.2450,  ...,  1.2360,  0.0876, -0.1994]],\n\n        [[-0.3108, -0.4507, -0.9410,  ...,  1.4404, -0.0647, -1.2435],\n         [-0.3108, -0.4507, -0.9410,  ...,  1.4404, -0.0647, -1.2435],\n         [-1.5762, -1.3569,  1.0954,  ..., -0.2008, -0.4320,  1.6223],\n         ...,\n         [-0.7364,  0.4917,  0.9951,  ..., -0.2704, -1.3971, -0.2891],\n         [ 1.2531, -0.8410, -0.0323,  ...,  1.0981, -0.2238,  0.8668],\n         [ 0.9141, -0.5833, -0.5250,  ..., -0.7227, -0.9395,  1.3715]]],\n       grad_fn=<EmbeddingBackward0>)"
     },
     "execution_count": 27,
     "metadata": {},
     "output_type": "execute_result"
    }
   ],
   "source": [
    "embeddings = torch.nn.Embedding(len(INDEX_TO_CHAR), 28)\n",
    "t = embeddings(X[0:10])\n",
    "t"
   ]
  },
  {
   "cell_type": "code",
   "execution_count": 28,
   "metadata": {
    "pycharm": {
     "name": "#%%\n",
     "is_executing": true
    },
    "ExecuteTime": {
     "end_time": "2023-08-09T16:57:42.949020Z",
     "start_time": "2023-08-09T16:57:42.932582Z"
    }
   },
   "outputs": [
    {
     "data": {
      "text/plain": "(torch.Size([10, 50, 28]), torch.Size([10, 50]))"
     },
     "execution_count": 28,
     "metadata": {},
     "output_type": "execute_result"
    }
   ],
   "source": [
    "t.shape, X[0:10].shape"
   ]
  },
  {
   "cell_type": "code",
   "execution_count": 29,
   "metadata": {
    "pycharm": {
     "name": "#%%\n",
     "is_executing": true
    },
    "ExecuteTime": {
     "end_time": "2023-08-09T16:57:45.389749Z",
     "start_time": "2023-08-09T16:57:45.329868Z"
    }
   },
   "outputs": [
    {
     "data": {
      "text/plain": "(torch.Size([10, 50, 128]), torch.Size([1, 10, 128]))"
     },
     "execution_count": 29,
     "metadata": {},
     "output_type": "execute_result"
    }
   ],
   "source": [
    "rnn = torch.nn.RNN(28, 128, batch_first=True)\n",
    "o, s = rnn(t)\n",
    "# o - состоит из всех выходов скрытых состояний (10 предложений по 50 символов и 128 элементов )\n",
    "# s - последнее скрытое состояние (1 скрытое состояние размерностью 128 )\n",
    "o.shape, s.shape"
   ]
  },
  {
   "cell_type": "code",
   "execution_count": 14,
   "metadata": {
    "pycharm": {
     "name": "#%%\n",
     "is_executing": true
    },
    "ExecuteTime": {
     "end_time": "2023-08-09T16:45:14.181762Z",
     "start_time": "2023-08-09T16:45:14.139564Z"
    }
   },
   "outputs": [
    {
     "data": {
      "text/plain": "(torch.Size([10, 50, 128]), torch.Size([1, 10, 128]))"
     },
     "execution_count": 14,
     "metadata": {},
     "output_type": "execute_result"
    }
   ],
   "source": [
    "o, s2 = rnn(t, s)\n",
    "o.shape, s2.shape"
   ]
  },
  {
   "cell_type": "markdown",
   "metadata": {
    "pycharm": {
     "name": "#%% md\n"
    }
   },
   "source": [
    "## Практика. Реализуйте код модели нейронной сети\n",
    "3 слоя - embeding (28), скрытая ячейка (128), полносвязанный из состояния rnn в букву (28)"
   ]
  },
  {
   "cell_type": "code",
   "execution_count": 30,
   "metadata": {
    "pycharm": {
     "name": "#%%\n",
     "is_executing": true
    },
    "ExecuteTime": {
     "end_time": "2023-08-09T16:57:48.751501Z",
     "start_time": "2023-08-09T16:57:48.739844Z"
    }
   },
   "outputs": [],
   "source": [
    "class Network(torch.nn.Module):\n",
    "    def __init__(self):\n",
    "        super(Network, self).__init__()\n",
    "        self.embed = torch.nn.Embedding(len(CHAR_TO_INDEX), 28)\n",
    "        self.rnn = torch.nn.RNN(28, 128, batch_first=True)\n",
    "        self.linear = torch.nn.Linear(128, len(INDEX_TO_CHAR))\n",
    "        \n",
    "    def forward(self, sentences, state=None):\n",
    "        embed = self.embed(sentences)\n",
    "        o, a = self.rnn(embed)\n",
    "        out = self.linear(o)\n",
    "        return out"
   ]
  },
  {
   "cell_type": "code",
   "execution_count": 31,
   "metadata": {
    "pycharm": {
     "name": "#%%\n"
    },
    "ExecuteTime": {
     "end_time": "2023-08-09T16:57:49.492628Z",
     "start_time": "2023-08-09T16:57:49.484297Z"
    }
   },
   "outputs": [],
   "source": [
    "model = Network()"
   ]
  },
  {
   "cell_type": "code",
   "execution_count": 32,
   "metadata": {
    "pycharm": {
     "name": "#%%\n"
    },
    "ExecuteTime": {
     "end_time": "2023-08-09T16:57:49.835333Z",
     "start_time": "2023-08-09T16:57:49.808826Z"
    }
   },
   "outputs": [],
   "source": [
    "criterion = torch.nn.CrossEntropyLoss()\n",
    "optimizer = torch.optim.SGD(model.parameters(), lr=.05)"
   ]
  },
  {
   "cell_type": "code",
   "execution_count": 34,
   "metadata": {
    "scrolled": true,
    "pycharm": {
     "name": "#%%\n",
     "is_executing": true
    },
    "ExecuteTime": {
     "end_time": "2023-08-09T16:58:28.397394Z",
     "start_time": "2023-08-09T16:58:00.492150Z"
    }
   },
   "outputs": [
    {
     "name": "stdout",
     "output_type": "stream",
     "text": [
      "Epoch 0. Time: 3.443, Train loss: 2.069\n",
      "Epoch 1. Time: 2.728, Train loss: 1.822\n",
      "Epoch 2. Time: 2.715, Train loss: 1.746\n",
      "Epoch 3. Time: 2.601, Train loss: 1.699\n",
      "Epoch 4. Time: 2.706, Train loss: 1.665\n",
      "Epoch 5. Time: 2.686, Train loss: 1.639\n",
      "Epoch 6. Time: 2.621, Train loss: 1.618\n",
      "Epoch 7. Time: 2.688, Train loss: 1.599\n",
      "Epoch 8. Time: 2.808, Train loss: 1.584\n",
      "Epoch 9. Time: 2.888, Train loss: 1.569\n"
     ]
    }
   ],
   "source": [
    "for ep in range(10):\n",
    "    start = time.time()\n",
    "    train_loss = 0.\n",
    "    train_passed = 0\n",
    "\n",
    "    for i in range(int(len(X) / 100)):\n",
    "        batch = X[i * 100:(i + 1) * 100]\n",
    "        X_batch = batch[:, :-1]\n",
    "        Y_batch = batch[:, 1:].flatten()\n",
    "\n",
    "        optimizer.zero_grad()\n",
    "        answers = model.forward(X_batch)\n",
    "        answers = answers.view(-1, len(INDEX_TO_CHAR))\n",
    "        loss = criterion(answers, Y_batch)\n",
    "        train_loss += loss.item()\n",
    "\n",
    "        loss.backward()\n",
    "        optimizer.step()\n",
    "        train_passed += 1\n",
    "\n",
    "    print(\"Epoch {}. Time: {:.3f}, Train loss: {:.3f}\".format(ep, time.time() - start, train_loss / train_passed))"
   ]
  },
  {
   "cell_type": "markdown",
   "metadata": {
    "ExecuteTime": {
     "end_time": "2020-03-12T15:28:40.363097Z",
     "start_time": "2020-03-12T15:28:40.357998Z"
    },
    "pycharm": {
     "name": "#%% md\n"
    }
   },
   "source": [
    "## Практика. Реализуйте код генерации следующей буквы на основе модели\n",
    "Логика такая:\n",
    "    - Сначала кормим в нее буквы из sentence (прогревая состояние)\n",
    "    - Затем пока не получим none (0) берем самую вероятную букву и добавляем ее в sentence\n",
    "    - Повторяем"
   ]
  },
  {
   "cell_type": "code",
   "execution_count": 49,
   "metadata": {
    "pycharm": {
     "name": "#%%\n"
    },
    "ExecuteTime": {
     "end_time": "2023-08-09T17:16:30.757485Z",
     "start_time": "2023-08-09T17:16:30.712656Z"
    }
   },
   "outputs": [],
   "source": [
    "def generate_sentence():\n",
    "    sentence = ['h', 'e', 'l', 'l', 'o']\n",
    "    # Todo\n",
    "    x = torch.zeros((1, len(sentence)), dtype=int)\n",
    "\n",
    "    for j, w in enumerate(sentence):\n",
    "        if j >= MAX_LEN:\n",
    "            break\n",
    "        x[0, j] = CHAR_TO_INDEX.get(w, CHAR_TO_INDEX['none'])\n",
    "\n",
    "    for i in range(28):\n",
    "        o = model(x)\n",
    "        # print(o)\n",
    "        # print(o.shape)\n",
    "        w = torch.argmax(o[-1, -1, i], keepdim=True)\n",
    "        x = torch.cat([x, w.unsqueeze(0).unsqueeze(1)], axis=1)\n",
    "        ww = INDEX_TO_CHAR[w]\n"
   ]
  },
  {
   "cell_type": "code",
   "execution_count": 50,
   "metadata": {
    "pycharm": {
     "name": "#%%\n"
    },
    "ExecuteTime": {
     "end_time": "2023-08-09T17:16:31.491941Z",
     "start_time": "2023-08-09T17:16:31.444017Z"
    }
   },
   "outputs": [],
   "source": [
    "generate_sentence()"
   ]
  },
  {
   "cell_type": "code",
   "execution_count": 52,
   "metadata": {
    "pycharm": {
     "name": "#%%\n",
     "is_executing": true
    },
    "ExecuteTime": {
     "end_time": "2023-08-09T17:17:09.448496Z",
     "start_time": "2023-08-09T17:16:40.803447Z"
    }
   },
   "outputs": [
    {
     "name": "stdout",
     "output_type": "stream",
     "text": [
      "Epoch 0. Time: 3.214, Train loss: 1.557\n",
      "Epoch 1. Time: 2.698, Train loss: 1.545\n",
      "Epoch 2. Time: 2.746, Train loss: 1.534\n",
      "Epoch 3. Time: 2.801, Train loss: 1.524\n",
      "Epoch 4. Time: 3.000, Train loss: 1.514\n",
      "Epoch 5. Time: 2.833, Train loss: 1.505\n",
      "Epoch 6. Time: 2.776, Train loss: 1.496\n",
      "Epoch 7. Time: 2.940, Train loss: 1.488\n",
      "Epoch 8. Time: 2.677, Train loss: 1.480\n",
      "Epoch 9. Time: 2.643, Train loss: 1.473\n"
     ]
    }
   ],
   "source": [
    "for ep in range(10):\n",
    "    start = time.time()\n",
    "    train_loss = 0.\n",
    "    train_passed = 0\n",
    "\n",
    "    for i in range(int(len(X) / 100)):\n",
    "        batch = X[i * 100:(i + 1) * 100]\n",
    "        X_batch = batch[:, :-1]\n",
    "        Y_batch = batch[:, 1:].flatten()\n",
    "\n",
    "        optimizer.zero_grad()\n",
    "        answers= model.forward(X_batch)\n",
    "        answers = answers.view(-1, len(INDEX_TO_CHAR))\n",
    "        loss = criterion(answers, Y_batch)\n",
    "        train_loss += loss.item()\n",
    "\n",
    "        loss.backward()\n",
    "        optimizer.step()\n",
    "        train_passed += 1\n",
    "\n",
    "    print(\"Epoch {}. Time: {:.3f}, Train loss: {:.3f}\".format(ep, time.time() - start, train_loss / train_passed))\n",
    "    generate_sentence()"
   ]
  },
  {
   "cell_type": "code",
   "execution_count": null,
   "outputs": [],
   "source": [],
   "metadata": {
    "collapsed": false
   }
  }
 ],
 "metadata": {
  "kernelspec": {
   "display_name": "Python 3",
   "language": "python",
   "name": "python3"
  },
  "language_info": {
   "codemirror_mode": {
    "name": "ipython",
    "version": 3
   },
   "file_extension": ".py",
   "mimetype": "text/x-python",
   "name": "python",
   "nbconvert_exporter": "python",
   "pygments_lexer": "ipython3",
   "version": "3.7.1"
  }
 },
 "nbformat": 4,
 "nbformat_minor": 2
}
