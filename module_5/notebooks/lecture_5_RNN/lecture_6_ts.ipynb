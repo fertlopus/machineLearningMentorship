{
 "cells": [
  {
   "cell_type": "code",
   "execution_count": null,
   "metadata": {
    "collapsed": true,
    "pycharm": {
     "name": "#%%\n"
    }
   },
   "outputs": [],
   "source": [
    "import torch\n",
    "import torchvision\n",
    "import numpy as np\n",
    "import matplotlib.pyplot as plt\n",
    "import warnings\n",
    "warnings.filterwarnings('ignore')"
   ]
  },
  {
   "cell_type": "code",
   "execution_count": null,
   "outputs": [],
   "source": [
    "# make testing data\n",
    "N = 1000\n",
    "ts_series = np.sin(0.1*np.arange(N))\n",
    "ts_series_with_noise = np.sin(0.1*np.arange(N)) + np.random.randn(N) * 0.1\n",
    "\n",
    "\n",
    "# Plot the data\n",
    "plt.rcParams.update({'figure.figsize':(12,5), 'figure.dpi':100})\n",
    "fig, ax = plt.subplots(1, 2)\n",
    "plt.figure(figsize=(10, 5))\n",
    "ax[0].plot(ts_series)\n",
    "ax[1].plot(ts_series_with_noise)\n",
    "plt.show();"
   ],
   "metadata": {
    "collapsed": false,
    "pycharm": {
     "name": "#%%\n"
    }
   }
  },
  {
   "cell_type": "markdown",
   "source": [
    "#### Построим датасет из синтетических данных для иллюстрации прогнозирования временного ряда:"
   ],
   "metadata": {
    "collapsed": false,
    "pycharm": {
     "name": "#%% md\n"
    }
   }
  },
  {
   "cell_type": "code",
   "execution_count": null,
   "outputs": [],
   "source": [
    "# Let's experiment if we can use T past values to predict the next value (values)\n",
    "T = 10\n",
    "X = []\n",
    "Y = []\n",
    "\n",
    "for val in range(len(ts_series) - T):\n",
    "    x = ts_series[val:val+T] # 0:10, 1:11, 2:12, 3:13, 4:14, 5:15...\n",
    "    X.append(x)\n",
    "    y = ts_series[val+T] # 0:10 constant\n",
    "    Y.append(y)\n",
    "\n",
    "# Reshaping formed array to ensure the valid dims\n",
    "X = np.array(X).reshape(-1, T) # any number of rows and only with 10 number of feature-columns\n",
    "Y = np.array(Y).reshape(-1, 1) # any number of rows and only 1 dim feature-vector\n",
    "N = len(X)\n",
    "print(\"X shape: {}  Y shape: {} and N = {}\".format(X.shape, Y.shape, N))"
   ],
   "metadata": {
    "collapsed": false,
    "pycharm": {
     "name": "#%%\n"
    }
   }
  },
  {
   "cell_type": "code",
   "execution_count": null,
   "outputs": [],
   "source": [
    "X[:5]"
   ],
   "metadata": {
    "collapsed": false,
    "pycharm": {
     "name": "#%%\n"
    }
   }
  },
  {
   "cell_type": "code",
   "execution_count": null,
   "outputs": [],
   "source": [
    "Y[:5]"
   ],
   "metadata": {
    "collapsed": false,
    "pycharm": {
     "name": "#%%\n"
    }
   }
  },
  {
   "cell_type": "markdown",
   "source": [
    "### Build Autoregressive linear model:"
   ],
   "metadata": {
    "collapsed": false,
    "pycharm": {
     "name": "#%% md\n"
    }
   }
  },
  {
   "cell_type": "code",
   "execution_count": null,
   "outputs": [],
   "source": [
    "model = torch.nn.Linear(T, 1)\n",
    "\n",
    "# Loss and optimizer\n",
    "criterion = torch.nn.MSELoss()\n",
    "optimizer = torch.optim.Adam(model.parameters(), lr=0.05)\n",
    "\n",
    "# Make inputs and targets in the form of tensor\n",
    "X_train = torch.from_numpy(X[:-N//2].astype(np.float32))\n",
    "y_train = torch.from_numpy(Y[:-N//2].astype(np.float32))\n",
    "\n",
    "X_test = torch.from_numpy(X[-N//2:].astype(np.float32))\n",
    "y_test = torch.from_numpy(Y[-N//2:].astype(np.float32))"
   ],
   "metadata": {
    "collapsed": false,
    "pycharm": {
     "name": "#%%\n"
    }
   }
  },
  {
   "cell_type": "code",
   "execution_count": null,
   "outputs": [],
   "source": [
    "# Training process\n",
    "def full_GD(model, criterion, optimizer, X_train, y_train, X_test, y_test, epochs=200):\n",
    "    train_losses = np.zeros(epochs)\n",
    "    test_losses = np.zeros(epochs)\n",
    "\n",
    "    for epoch in range(epochs):\n",
    "        optimizer.zero_grad()\n",
    "        outputs = model(X_train)\n",
    "\n",
    "        loss = criterion(outputs, y_train)\n",
    "        loss.backward()\n",
    "        optimizer.step()\n",
    "\n",
    "        train_losses[epoch] = loss.item()\n",
    "\n",
    "        test_outputs = model(X_test)\n",
    "        test_loss = criterion(test_outputs, y_test)\n",
    "        test_losses[epoch] = test_loss.item()\n",
    "\n",
    "        print(f\"Epoch: {epoch+1}/{epochs}       Train Loss: {loss.item():.4f}      Test Loss: {test_loss.item():.4f}\")\n",
    "    return train_losses, test_losses"
   ],
   "metadata": {
    "collapsed": false,
    "pycharm": {
     "name": "#%%\n"
    }
   }
  },
  {
   "cell_type": "code",
   "execution_count": null,
   "outputs": [],
   "source": [
    "train_losses, test_losses = full_GD(model, criterion, optimizer, X_train, y_train, X_test, y_test)"
   ],
   "metadata": {
    "collapsed": false,
    "pycharm": {
     "name": "#%%\n"
    }
   }
  },
  {
   "cell_type": "code",
   "execution_count": null,
   "outputs": [],
   "source": [
    "plt.plot(train_losses,label=\"train loss\")\n",
    "plt.plot(test_losses, label=\"test loss\")\n",
    "plt.legend()\n",
    "plt.show();"
   ],
   "metadata": {
    "collapsed": false,
    "pycharm": {
     "name": "#%%\n"
    }
   }
  },
  {
   "cell_type": "code",
   "execution_count": null,
   "outputs": [],
   "source": [
    "# Wrong forecast using true targets\n",
    "validation_target = Y[-N//2:]\n",
    "validation_prediction = []\n",
    "\n",
    "# index of 1st validation input\n",
    "i = 0\n",
    "\n",
    "while len(validation_prediction) < len(validation_target):\n",
    "    input_ = X_test[i].view(1, -1)\n",
    "    p = model(input_)[0, 0].item() # 1x1 array -> scalar\n",
    "    i+=1\n",
    "\n",
    "    validation_prediction.append(p)"
   ],
   "metadata": {
    "collapsed": false,
    "pycharm": {
     "name": "#%%\n"
    }
   }
  },
  {
   "cell_type": "code",
   "execution_count": null,
   "outputs": [],
   "source": [
    "plt.plot(validation_target, label='forecast target')\n",
    "plt.plot(validation_prediction, label='forecast predictions')\n",
    "plt.legend()"
   ],
   "metadata": {
    "collapsed": false,
    "pycharm": {
     "name": "#%%\n"
    }
   }
  },
  {
   "cell_type": "code",
   "execution_count": null,
   "outputs": [],
   "source": [
    "# Forecast future values (use only self-predictions for making future predictions)\n",
    "\n",
    "validation_target = Y[-N//2:]\n",
    "validation_predictions = []\n",
    "\n",
    "# last train input\n",
    "# 1-D array of length T\n",
    "last_x = torch.from_numpy(X[-N//2].astype(np.float32))\n",
    "\n",
    "while len(validation_predictions) < len(validation_target):\n",
    "  input_ = last_x.view(1, -1)\n",
    "  p = model(input_)\n",
    "  # [0,0] # 1x1 array -> scalar\n",
    "\n",
    "  # update the predictions list\n",
    "  validation_predictions.append(p[0,0].item())\n",
    "\n",
    "  # make the new input\n",
    "  last_x = torch.cat((last_x[1:], p[0]))"
   ],
   "metadata": {
    "collapsed": false,
    "pycharm": {
     "name": "#%%\n"
    }
   }
  },
  {
   "cell_type": "code",
   "execution_count": null,
   "outputs": [],
   "source": [
    "plt.plot(validation_target, label='forecast target')\n",
    "plt.plot(validation_predictions, label='forecast prediction')\n",
    "plt.legend()"
   ],
   "metadata": {
    "collapsed": false,
    "pycharm": {
     "name": "#%%\n"
    }
   }
  },
  {
   "cell_type": "code",
   "execution_count": null,
   "outputs": [],
   "source": [],
   "metadata": {
    "collapsed": false,
    "pycharm": {
     "name": "#%%\n"
    }
   }
  }
 ],
 "metadata": {
  "kernelspec": {
   "display_name": "Python 3",
   "language": "python",
   "name": "python3"
  },
  "language_info": {
   "codemirror_mode": {
    "name": "ipython",
    "version": 2
   },
   "file_extension": ".py",
   "mimetype": "text/x-python",
   "name": "python",
   "nbconvert_exporter": "python",
   "pygments_lexer": "ipython2",
   "version": "2.7.6"
  }
 },
 "nbformat": 4,
 "nbformat_minor": 0
}
