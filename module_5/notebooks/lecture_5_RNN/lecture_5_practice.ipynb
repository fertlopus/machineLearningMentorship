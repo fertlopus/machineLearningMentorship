{
 "cells": [
  {
   "cell_type": "code",
   "execution_count": 1,
   "metadata": {
    "collapsed": true,
    "pycharm": {
     "name": "#%%\n"
    },
    "ExecuteTime": {
     "end_time": "2023-08-09T16:21:26.420430Z",
     "start_time": "2023-08-09T16:21:21.736401Z"
    }
   },
   "outputs": [],
   "source": [
    "import pandas as pd\n",
    "import time\n",
    "import torch"
   ]
  },
  {
   "cell_type": "markdown",
   "source": [
    "## Загрузка данных"
   ],
   "metadata": {
    "collapsed": false,
    "pycharm": {
     "name": "#%% md\n"
    }
   }
  },
  {
   "cell_type": "code",
   "execution_count": 2,
   "outputs": [
    {
     "data": {
      "text/plain": "   Unnamed: 0     id  episode_id  number   \n0           0  10368          35      29  \\\n1           1  10369          35      30   \n2           2  10370          35      31   \n3           3  10372          35      33   \n4           4  10374          35      35   \n\n                                            raw_text  timestamp_in_ms   \n0           Lisa Simpson: Maggie, look. What's that?           235000  \\\n1                    Lisa Simpson: Lee-mur. Lee-mur.           237000   \n2                    Lisa Simpson: Zee-boo. Zee-boo.           239000   \n3  Lisa Simpson: I'm trying to teach Maggie that ...           245000   \n4  Lisa Simpson: It's like an ox, only it has a h...           254000   \n\n   speaking_line  character_id  location_id raw_character_text   \n0           True             9          5.0       Lisa Simpson  \\\n1           True             9          5.0       Lisa Simpson   \n2           True             9          5.0       Lisa Simpson   \n3           True             9          5.0       Lisa Simpson   \n4           True             9          5.0       Lisa Simpson   \n\n  raw_location_text                                       spoken_words   \n0      Simpson Home                         Maggie, look. What's that?  \\\n1      Simpson Home                                  Lee-mur. Lee-mur.   \n2      Simpson Home                                  Zee-boo. Zee-boo.   \n3      Simpson Home  I'm trying to teach Maggie that nature doesn't...   \n4      Simpson Home  It's like an ox, only it has a hump and a dewl...   \n\n                                     normalized_text  word_count  \n0                             maggie look whats that         4.0  \n1                                    lee-mur lee-mur         2.0  \n2                                    zee-boo zee-boo         2.0  \n3  im trying to teach maggie that nature doesnt e...        24.0  \n4  its like an ox only it has a hump and a dewlap...        18.0  ",
      "text/html": "<div>\n<style scoped>\n    .dataframe tbody tr th:only-of-type {\n        vertical-align: middle;\n    }\n\n    .dataframe tbody tr th {\n        vertical-align: top;\n    }\n\n    .dataframe thead th {\n        text-align: right;\n    }\n</style>\n<table border=\"1\" class=\"dataframe\">\n  <thead>\n    <tr style=\"text-align: right;\">\n      <th></th>\n      <th>Unnamed: 0</th>\n      <th>id</th>\n      <th>episode_id</th>\n      <th>number</th>\n      <th>raw_text</th>\n      <th>timestamp_in_ms</th>\n      <th>speaking_line</th>\n      <th>character_id</th>\n      <th>location_id</th>\n      <th>raw_character_text</th>\n      <th>raw_location_text</th>\n      <th>spoken_words</th>\n      <th>normalized_text</th>\n      <th>word_count</th>\n    </tr>\n  </thead>\n  <tbody>\n    <tr>\n      <th>0</th>\n      <td>0</td>\n      <td>10368</td>\n      <td>35</td>\n      <td>29</td>\n      <td>Lisa Simpson: Maggie, look. What's that?</td>\n      <td>235000</td>\n      <td>True</td>\n      <td>9</td>\n      <td>5.0</td>\n      <td>Lisa Simpson</td>\n      <td>Simpson Home</td>\n      <td>Maggie, look. What's that?</td>\n      <td>maggie look whats that</td>\n      <td>4.0</td>\n    </tr>\n    <tr>\n      <th>1</th>\n      <td>1</td>\n      <td>10369</td>\n      <td>35</td>\n      <td>30</td>\n      <td>Lisa Simpson: Lee-mur. Lee-mur.</td>\n      <td>237000</td>\n      <td>True</td>\n      <td>9</td>\n      <td>5.0</td>\n      <td>Lisa Simpson</td>\n      <td>Simpson Home</td>\n      <td>Lee-mur. Lee-mur.</td>\n      <td>lee-mur lee-mur</td>\n      <td>2.0</td>\n    </tr>\n    <tr>\n      <th>2</th>\n      <td>2</td>\n      <td>10370</td>\n      <td>35</td>\n      <td>31</td>\n      <td>Lisa Simpson: Zee-boo. Zee-boo.</td>\n      <td>239000</td>\n      <td>True</td>\n      <td>9</td>\n      <td>5.0</td>\n      <td>Lisa Simpson</td>\n      <td>Simpson Home</td>\n      <td>Zee-boo. Zee-boo.</td>\n      <td>zee-boo zee-boo</td>\n      <td>2.0</td>\n    </tr>\n    <tr>\n      <th>3</th>\n      <td>3</td>\n      <td>10372</td>\n      <td>35</td>\n      <td>33</td>\n      <td>Lisa Simpson: I'm trying to teach Maggie that ...</td>\n      <td>245000</td>\n      <td>True</td>\n      <td>9</td>\n      <td>5.0</td>\n      <td>Lisa Simpson</td>\n      <td>Simpson Home</td>\n      <td>I'm trying to teach Maggie that nature doesn't...</td>\n      <td>im trying to teach maggie that nature doesnt e...</td>\n      <td>24.0</td>\n    </tr>\n    <tr>\n      <th>4</th>\n      <td>4</td>\n      <td>10374</td>\n      <td>35</td>\n      <td>35</td>\n      <td>Lisa Simpson: It's like an ox, only it has a h...</td>\n      <td>254000</td>\n      <td>True</td>\n      <td>9</td>\n      <td>5.0</td>\n      <td>Lisa Simpson</td>\n      <td>Simpson Home</td>\n      <td>It's like an ox, only it has a hump and a dewl...</td>\n      <td>its like an ox only it has a hump and a dewlap...</td>\n      <td>18.0</td>\n    </tr>\n  </tbody>\n</table>\n</div>"
     },
     "execution_count": 2,
     "metadata": {},
     "output_type": "execute_result"
    }
   ],
   "source": [
    "df = pd.read_csv('./data/data.csv')\n",
    "df.head()"
   ],
   "metadata": {
    "collapsed": false,
    "pycharm": {
     "name": "#%%\n"
    },
    "ExecuteTime": {
     "end_time": "2023-08-09T16:21:32.413100Z",
     "start_time": "2023-08-09T16:21:32.269326Z"
    }
   }
  },
  {
   "cell_type": "code",
   "execution_count": 3,
   "outputs": [
    {
     "data": {
      "text/plain": "['maggie look whats that',\n 'lee-mur lee-mur',\n 'zee-boo zee-boo',\n 'im trying to teach maggie that nature doesnt end with the barnyard i want her to have all the advantages that i didnt have',\n 'its like an ox only it has a hump and a dewlap hump and dew-lap hump and dew-lap',\n 'you know his blood type how romantic',\n 'oh yeah whats my shoe size',\n 'ring',\n 'yes dad',\n 'ooh look maggie what is that do-dec-ah-edron dodecahedron']"
     },
     "execution_count": 3,
     "metadata": {},
     "output_type": "execute_result"
    }
   ],
   "source": [
    "phrases = df['normalized_text'].tolist()\n",
    "phrases[:10]"
   ],
   "metadata": {
    "collapsed": false,
    "pycharm": {
     "name": "#%%\n"
    },
    "ExecuteTime": {
     "end_time": "2023-08-09T16:22:57.266607Z",
     "start_time": "2023-08-09T16:22:57.241454Z"
    }
   }
  },
  {
   "cell_type": "code",
   "execution_count": 4,
   "outputs": [],
   "source": [
    "text = [[c for c in ph] for ph in phrases if type(ph) is str]"
   ],
   "metadata": {
    "collapsed": false,
    "pycharm": {
     "name": "#%%\n"
    },
    "ExecuteTime": {
     "end_time": "2023-08-09T16:23:56.127426Z",
     "start_time": "2023-08-09T16:23:56.084962Z"
    }
   }
  },
  {
   "cell_type": "code",
   "execution_count": 5,
   "outputs": [
    {
     "data": {
      "text/plain": "['m',\n 'a',\n 'g',\n 'g',\n 'i',\n 'e',\n ' ',\n 'l',\n 'o',\n 'o',\n 'k',\n ' ',\n 'w',\n 'h',\n 'a',\n 't',\n 's',\n ' ',\n 't',\n 'h',\n 'a',\n 't']"
     },
     "execution_count": 5,
     "metadata": {},
     "output_type": "execute_result"
    }
   ],
   "source": [
    "text[0]"
   ],
   "metadata": {
    "collapsed": false,
    "pycharm": {
     "name": "#%%\n"
    },
    "ExecuteTime": {
     "end_time": "2023-08-09T16:24:02.822190Z",
     "start_time": "2023-08-09T16:24:02.812548Z"
    }
   }
  },
  {
   "cell_type": "markdown",
   "source": [
    "## Делаем массив с данными то есть создаем наш словарь:"
   ],
   "metadata": {
    "collapsed": false,
    "pycharm": {
     "name": "#%% md\n"
    }
   }
  },
  {
   "cell_type": "code",
   "execution_count": 6,
   "outputs": [],
   "source": [
    "CHARS = set('abcdefghijklmnopqrstuvwxyz ')\n",
    "INDEX_TO_CHAR = ['none'] + [w for w in CHARS]\n",
    "CHAR_TO_INDEX = {w: i for i, w in enumerate(INDEX_TO_CHAR)}"
   ],
   "metadata": {
    "collapsed": false,
    "pycharm": {
     "name": "#%%\n"
    },
    "ExecuteTime": {
     "end_time": "2023-08-09T16:27:14.868928Z",
     "start_time": "2023-08-09T16:27:14.864176Z"
    }
   }
  },
  {
   "cell_type": "code",
   "execution_count": 8,
   "outputs": [
    {
     "data": {
      "text/plain": "['none',\n 'r',\n 'j',\n 'f',\n 'g',\n 'z',\n 's',\n 'i',\n 'y',\n 'l',\n 'x',\n 'q',\n 'h',\n ' ',\n 'a',\n 't',\n 'e',\n 'b',\n 'p',\n 'n',\n 'd',\n 'c',\n 'u',\n 'o',\n 'w',\n 'v',\n 'm',\n 'k']"
     },
     "execution_count": 8,
     "metadata": {},
     "output_type": "execute_result"
    }
   ],
   "source": [
    "INDEX_TO_CHAR"
   ],
   "metadata": {
    "collapsed": false,
    "ExecuteTime": {
     "end_time": "2023-08-09T16:27:30.225800Z",
     "start_time": "2023-08-09T16:27:30.208273Z"
    }
   }
  },
  {
   "cell_type": "code",
   "execution_count": 9,
   "outputs": [
    {
     "data": {
      "text/plain": "{'none': 0,\n 'r': 1,\n 'j': 2,\n 'f': 3,\n 'g': 4,\n 'z': 5,\n 's': 6,\n 'i': 7,\n 'y': 8,\n 'l': 9,\n 'x': 10,\n 'q': 11,\n 'h': 12,\n ' ': 13,\n 'a': 14,\n 't': 15,\n 'e': 16,\n 'b': 17,\n 'p': 18,\n 'n': 19,\n 'd': 20,\n 'c': 21,\n 'u': 22,\n 'o': 23,\n 'w': 24,\n 'v': 25,\n 'm': 26,\n 'k': 27}"
     },
     "execution_count": 9,
     "metadata": {},
     "output_type": "execute_result"
    }
   ],
   "source": [
    "CHAR_TO_INDEX"
   ],
   "metadata": {
    "collapsed": false,
    "ExecuteTime": {
     "end_time": "2023-08-09T16:27:57.936207Z",
     "start_time": "2023-08-09T16:27:57.919772Z"
    }
   }
  },
  {
   "cell_type": "code",
   "execution_count": 10,
   "outputs": [],
   "source": [
    "MAX_LEN = 50\n",
    "X = torch.zeros((len(text), MAX_LEN), dtype=int)\n",
    "\n",
    "for i in range(len(text)):\n",
    "    for j, w in enumerate(text[i]):\n",
    "        if j >= MAX_LEN:\n",
    "            break\n",
    "        X[i, j] = CHAR_TO_INDEX.get(w, CHAR_TO_INDEX['none'])"
   ],
   "metadata": {
    "collapsed": false,
    "pycharm": {
     "name": "#%%\n"
    },
    "ExecuteTime": {
     "end_time": "2023-08-09T16:31:36.258690Z",
     "start_time": "2023-08-09T16:31:32.755822Z"
    }
   }
  },
  {
   "cell_type": "code",
   "execution_count": 11,
   "outputs": [
    {
     "data": {
      "text/plain": "tensor([[26, 14,  4,  4,  7, 16, 13,  9, 23, 23, 27, 13, 24, 12, 14, 15,  6, 13,\n         15, 12, 14, 15,  0,  0,  0,  0,  0,  0,  0,  0,  0,  0,  0,  0,  0,  0,\n          0,  0,  0,  0,  0,  0,  0,  0,  0,  0,  0,  0,  0,  0],\n        [ 9, 16, 16,  0, 26, 22,  1, 13,  9, 16, 16,  0, 26, 22,  1,  0,  0,  0,\n          0,  0,  0,  0,  0,  0,  0,  0,  0,  0,  0,  0,  0,  0,  0,  0,  0,  0,\n          0,  0,  0,  0,  0,  0,  0,  0,  0,  0,  0,  0,  0,  0],\n        [ 5, 16, 16,  0, 17, 23, 23, 13,  5, 16, 16,  0, 17, 23, 23,  0,  0,  0,\n          0,  0,  0,  0,  0,  0,  0,  0,  0,  0,  0,  0,  0,  0,  0,  0,  0,  0,\n          0,  0,  0,  0,  0,  0,  0,  0,  0,  0,  0,  0,  0,  0],\n        [ 7, 26, 13, 15,  1,  8,  7, 19,  4, 13, 15, 23, 13, 15, 16, 14, 21, 12,\n         13, 26, 14,  4,  4,  7, 16, 13, 15, 12, 14, 15, 13, 19, 14, 15, 22,  1,\n         16, 13, 20, 23, 16,  6, 19, 15, 13, 16, 19, 20, 13, 24],\n        [ 7, 15,  6, 13,  9,  7, 27, 16, 13, 14, 19, 13, 23, 10, 13, 23, 19,  9,\n          8, 13,  7, 15, 13, 12, 14,  6, 13, 14, 13, 12, 22, 26, 18, 13, 14, 19,\n         20, 13, 14, 13, 20, 16, 24,  9, 14, 18, 13, 12, 22, 26],\n        [ 8, 23, 22, 13, 27, 19, 23, 24, 13, 12,  7,  6, 13, 17,  9, 23, 23, 20,\n         13, 15,  8, 18, 16, 13, 12, 23, 24, 13,  1, 23, 26, 14, 19, 15,  7, 21,\n          0,  0,  0,  0,  0,  0,  0,  0,  0,  0,  0,  0,  0,  0],\n        [23, 12, 13,  8, 16, 14, 12, 13, 24, 12, 14, 15,  6, 13, 26,  8, 13,  6,\n         12, 23, 16, 13,  6,  7,  5, 16,  0,  0,  0,  0,  0,  0,  0,  0,  0,  0,\n          0,  0,  0,  0,  0,  0,  0,  0,  0,  0,  0,  0,  0,  0],\n        [ 1,  7, 19,  4,  0,  0,  0,  0,  0,  0,  0,  0,  0,  0,  0,  0,  0,  0,\n          0,  0,  0,  0,  0,  0,  0,  0,  0,  0,  0,  0,  0,  0,  0,  0,  0,  0,\n          0,  0,  0,  0,  0,  0,  0,  0,  0,  0,  0,  0,  0,  0],\n        [ 8, 16,  6, 13, 20, 14, 20,  0,  0,  0,  0,  0,  0,  0,  0,  0,  0,  0,\n          0,  0,  0,  0,  0,  0,  0,  0,  0,  0,  0,  0,  0,  0,  0,  0,  0,  0,\n          0,  0,  0,  0,  0,  0,  0,  0,  0,  0,  0,  0,  0,  0],\n        [23, 23, 12, 13,  9, 23, 23, 27, 13, 26, 14,  4,  4,  7, 16, 13, 24, 12,\n         14, 15, 13,  7,  6, 13, 15, 12, 14, 15, 13, 20, 23,  0, 20, 16, 21,  0,\n         14, 12,  0, 16, 20,  1, 23, 19, 13, 20, 23, 20, 16, 21]])"
     },
     "execution_count": 11,
     "metadata": {},
     "output_type": "execute_result"
    }
   ],
   "source": [
    "X[0:10]"
   ],
   "metadata": {
    "collapsed": false,
    "pycharm": {
     "name": "#%%\n"
    },
    "ExecuteTime": {
     "end_time": "2023-08-09T16:31:38.311415Z",
     "start_time": "2023-08-09T16:31:38.299915Z"
    }
   }
  },
  {
   "cell_type": "markdown",
   "source": [
    "## Смотрим на Embedding и RNN ячейку"
   ],
   "metadata": {
    "collapsed": false,
    "pycharm": {
     "name": "#%% md\n"
    }
   }
  },
  {
   "cell_type": "code",
   "execution_count": 13,
   "outputs": [
    {
     "data": {
      "text/plain": "tensor([[[-1.2979, -0.0067, -0.0343,  ..., -0.3603,  0.5358, -0.1214],\n         [-0.5331, -1.5967, -0.8203,  ..., -0.8086, -0.8330,  0.8528],\n         [ 0.0668,  0.0030,  0.3252,  ..., -0.1896,  0.7070, -0.4201],\n         ...,\n         [ 0.7193,  0.7376, -0.3651,  ...,  0.5934, -1.3055,  1.6610],\n         [ 0.7193,  0.7376, -0.3651,  ...,  0.5934, -1.3055,  1.6610],\n         [ 0.7193,  0.7376, -0.3651,  ...,  0.5934, -1.3055,  1.6610]]],\n       grad_fn=<EmbeddingBackward0>)"
     },
     "execution_count": 13,
     "metadata": {},
     "output_type": "execute_result"
    }
   ],
   "source": [
    "embeddings = torch.nn.Embedding(len(INDEX_TO_CHAR), 28)\n",
    "t = embeddings(X[0:1])\n",
    "t"
   ],
   "metadata": {
    "collapsed": false,
    "pycharm": {
     "name": "#%%\n"
    },
    "ExecuteTime": {
     "end_time": "2023-08-09T16:34:54.167547Z",
     "start_time": "2023-08-09T16:34:54.153537Z"
    }
   }
  },
  {
   "cell_type": "code",
   "execution_count": 14,
   "outputs": [
    {
     "data": {
      "text/plain": "(torch.Size([1, 50, 28]), torch.Size([10, 50]))"
     },
     "execution_count": 14,
     "metadata": {},
     "output_type": "execute_result"
    }
   ],
   "source": [
    "t.shape, X[0:10].shape"
   ],
   "metadata": {
    "collapsed": false,
    "pycharm": {
     "name": "#%%\n"
    },
    "ExecuteTime": {
     "end_time": "2023-08-09T16:35:13.715394Z",
     "start_time": "2023-08-09T16:35:13.700535Z"
    }
   }
  },
  {
   "cell_type": "code",
   "execution_count": 15,
   "outputs": [
    {
     "data": {
      "text/plain": "(torch.Size([1, 50, 128]), torch.Size([1, 1, 128]))"
     },
     "execution_count": 15,
     "metadata": {},
     "output_type": "execute_result"
    }
   ],
   "source": [
    "rnn = torch.nn.RNN(28, 128, batch_first=True)\n",
    "o, s = rnn(t)\n",
    "o.shape, s.shape"
   ],
   "metadata": {
    "collapsed": false,
    "pycharm": {
     "name": "#%%\n"
    },
    "ExecuteTime": {
     "end_time": "2023-08-09T16:42:16.712547Z",
     "start_time": "2023-08-09T16:42:16.646796Z"
    }
   }
  },
  {
   "cell_type": "code",
   "execution_count": 16,
   "outputs": [
    {
     "data": {
      "text/plain": "(torch.Size([1, 50, 128]), torch.Size([1, 1, 128]))"
     },
     "execution_count": 16,
     "metadata": {},
     "output_type": "execute_result"
    }
   ],
   "source": [
    "rnn = torch.nn.RNN(28, 128, batch_first=True)\n",
    "o, s = rnn(t)\n",
    "o.shape, s.shape"
   ],
   "metadata": {
    "collapsed": false,
    "pycharm": {
     "name": "#%%\n"
    },
    "ExecuteTime": {
     "end_time": "2023-08-09T16:44:16.409512Z",
     "start_time": "2023-08-09T16:44:16.392414Z"
    }
   }
  },
  {
   "cell_type": "code",
   "execution_count": 17,
   "outputs": [
    {
     "data": {
      "text/plain": "(torch.Size([1, 50, 128]), torch.Size([1, 1, 128]))"
     },
     "execution_count": 17,
     "metadata": {},
     "output_type": "execute_result"
    }
   ],
   "source": [
    "o, s2 = rnn(t, s)\n",
    "o.shape, s2.shape"
   ],
   "metadata": {
    "collapsed": false,
    "pycharm": {
     "name": "#%%\n"
    },
    "ExecuteTime": {
     "end_time": "2023-08-09T16:44:16.794789Z",
     "start_time": "2023-08-09T16:44:16.760749Z"
    }
   }
  },
  {
   "cell_type": "markdown",
   "source": [
    "## Практика. Реализуйте код модели нейронной сети\n",
    "3 слоя - embeding (28), скрытая ячейка (128), полносвязанный из состояния rnn в букву (28)"
   ],
   "metadata": {
    "collapsed": false,
    "pycharm": {
     "name": "#%% md\n"
    }
   }
  },
  {
   "cell_type": "code",
   "execution_count": null,
   "outputs": [],
   "source": [
    "class Network(torch.nn.Module):\n",
    "    def __init__(self):\n",
    "        super(Network, self).__init__()\n",
    "        ## Здесь создать слои\n",
    "\n",
    "    def forward(self, sentences, state=None):\n",
    "        ## Здесь применить"
   ],
   "metadata": {
    "collapsed": false,
    "pycharm": {
     "name": "#%%\n"
    }
   }
  },
  {
   "cell_type": "code",
   "execution_count": null,
   "outputs": [],
   "source": [
    "model = Network()"
   ],
   "metadata": {
    "collapsed": false,
    "pycharm": {
     "name": "#%%\n"
    }
   }
  },
  {
   "cell_type": "code",
   "execution_count": null,
   "outputs": [],
   "source": [
    "criterion = torch.nn.CrossEntropyLoss()\n",
    "optimizer = torch.optim.SGD(model.parameters(), lr=.05)"
   ],
   "metadata": {
    "collapsed": false,
    "pycharm": {
     "name": "#%%\n"
    }
   }
  },
  {
   "cell_type": "code",
   "execution_count": null,
   "outputs": [],
   "source": [
    "for ep in range(10):\n",
    "    start = time.time()\n",
    "    train_loss = 0.\n",
    "    train_passed = 0\n",
    "\n",
    "    for i in range(int(len(X) / 100)):\n",
    "        batch = X[i * 100:(i + 1) * 100]\n",
    "        X_batch = batch[:, :-1]\n",
    "        Y_batch = batch[:, 1:].flatten()\n",
    "\n",
    "        optimizer.zero_grad()\n",
    "        answers, _ = model.forward(X_batch)\n",
    "        answers = answers.view(-1, len(INDEX_TO_CHAR))\n",
    "        loss = criterion(answers, Y_batch)\n",
    "        train_loss += loss.item()\n",
    "\n",
    "        loss.backward()\n",
    "        optimizer.step()\n",
    "        train_passed += 1\n",
    "\n",
    "    print(\"Epoch {}. Time: {:.3f}, Train loss: {:.3f}\".format(ep, time.time() - start, train_loss / train_passed))"
   ],
   "metadata": {
    "collapsed": false,
    "pycharm": {
     "name": "#%%\n"
    }
   }
  },
  {
   "cell_type": "markdown",
   "source": [
    "## Практика. Реализуйте код генерации следующей буквы на основе модели\n",
    "Логика такая:\n",
    "    - Сначала кормим в нее буквы из sentence (прогревая состояние)\n",
    "    - Затем пока не получим none (0) берем самую вероятную букву и добавляем ее в sentence\n",
    "    - Повторяем"
   ],
   "metadata": {
    "collapsed": false,
    "pycharm": {
     "name": "#%% md\n"
    }
   }
  },
  {
   "cell_type": "code",
   "execution_count": null,
   "outputs": [],
   "source": [
    "def generate_sentence():\n",
    "    sentence = ['h', 'e', 'l', 'l', 'o']\n",
    "    # Todo\n"
   ],
   "metadata": {
    "collapsed": false,
    "pycharm": {
     "name": "#%%\n"
    }
   }
  },
  {
   "cell_type": "code",
   "execution_count": null,
   "outputs": [],
   "source": [
    "generate_sentence()"
   ],
   "metadata": {
    "collapsed": false,
    "pycharm": {
     "name": "#%%\n"
    }
   }
  },
  {
   "cell_type": "code",
   "execution_count": null,
   "outputs": [],
   "source": [
    "for ep in range(10):\n",
    "    start = time.time()\n",
    "    train_loss = 0.\n",
    "    train_passed = 0\n",
    "\n",
    "    for i in range(int(len(X) / 100)):\n",
    "        batch = X[i * 100:(i + 1) * 100]\n",
    "        X_batch = batch[:, :-1]\n",
    "        Y_batch = batch[:, 1:].flatten()\n",
    "\n",
    "        optimizer.zero_grad()\n",
    "        answers, _ = model.forward(X_batch)\n",
    "        answers = answers.view(-1, len(INDEX_TO_CHAR))\n",
    "        loss = criterion(answers, Y_batch)\n",
    "        train_loss += loss.item()\n",
    "\n",
    "        loss.backward()\n",
    "        optimizer.step()\n",
    "        train_passed += 1\n",
    "\n",
    "    print(\"Epoch {}. Time: {:.3f}, Train loss: {:.3f}\".format(ep, time.time() - start, train_loss / train_passed))\n",
    "    generate_sentence()"
   ],
   "metadata": {
    "collapsed": false,
    "pycharm": {
     "name": "#%%\n"
    }
   }
  }
 ],
 "metadata": {
  "kernelspec": {
   "display_name": "Python 3",
   "language": "python",
   "name": "python3"
  },
  "language_info": {
   "codemirror_mode": {
    "name": "ipython",
    "version": 2
   },
   "file_extension": ".py",
   "mimetype": "text/x-python",
   "name": "python",
   "nbconvert_exporter": "python",
   "pygments_lexer": "ipython2",
   "version": "2.7.6"
  }
 },
 "nbformat": 4,
 "nbformat_minor": 0
}
