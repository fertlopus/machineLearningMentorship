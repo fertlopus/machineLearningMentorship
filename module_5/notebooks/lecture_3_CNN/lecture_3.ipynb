{
 "cells": [
  {
   "cell_type": "code",
   "execution_count": 2,
   "metadata": {
    "colab": {},
    "colab_type": "code",
    "id": "HjmIRXdQwwUo",
    "pycharm": {
     "name": "#%%\n"
    },
    "ExecuteTime": {
     "end_time": "2023-07-31T18:32:31.555826Z",
     "start_time": "2023-07-31T18:32:31.536371Z"
    }
   },
   "outputs": [],
   "source": [
    "import torch\n",
    "import numpy as np\n",
    "import warnings\n",
    "\n",
    "warnings.filterwarnings(\"ignore\")"
   ]
  },
  {
   "cell_type": "markdown",
   "metadata": {
    "colab_type": "text",
    "id": "XwJt51p3wwUt",
    "pycharm": {
     "name": "#%% md\n"
    }
   },
   "source": [
    "## Самостоятельная реализация свертки"
   ]
  },
  {
   "cell_type": "code",
   "execution_count": 3,
   "metadata": {
    "colab": {},
    "colab_type": "code",
    "id": "OMFdmIHZwwUu",
    "pycharm": {
     "name": "#%%\n"
    },
    "ExecuteTime": {
     "end_time": "2023-07-31T18:35:05.230609Z",
     "start_time": "2023-07-31T18:35:05.216050Z"
    }
   },
   "outputs": [],
   "source": [
    "def corr2d(X, K):  \n",
    "    h, w = K.shape\n",
    "    Y = torch.zeros((X.shape[0] - h + 1, X.shape[1] - w + 1))\n",
    "    for i in range(Y.shape[0]):\n",
    "        for j in range(Y.shape[1]):\n",
    "            Y[i, j] = (X[i: i + h, j: j + w] * K).sum()\n",
    "    return Y"
   ]
  },
  {
   "cell_type": "code",
   "execution_count": 4,
   "metadata": {
    "colab": {},
    "colab_type": "code",
    "id": "WZqpW4vxwwUy",
    "outputId": "f354a045-685d-4847-e415-6eff856a4743",
    "pycharm": {
     "name": "#%%\n"
    },
    "ExecuteTime": {
     "end_time": "2023-07-31T18:35:06.407814Z",
     "start_time": "2023-07-31T18:35:06.345261Z"
    }
   },
   "outputs": [
    {
     "data": {
      "text/plain": "tensor([[19., 25.],\n        [37., 43.]])"
     },
     "execution_count": 4,
     "metadata": {},
     "output_type": "execute_result"
    }
   ],
   "source": [
    "X = torch.Tensor([[0, 1, 2], [3, 4, 5], [6, 7, 8]])\n",
    "K = torch.Tensor([[0, 1], [2, 3]])\n",
    "corr2d(X, K)"
   ]
  },
  {
   "cell_type": "markdown",
   "metadata": {
    "colab_type": "text",
    "id": "GJ3UR_PXwwU2",
    "pycharm": {
     "name": "#%% md\n"
    }
   },
   "source": [
    "## Детекция граней"
   ]
  },
  {
   "cell_type": "code",
   "execution_count": 5,
   "metadata": {
    "colab": {},
    "colab_type": "code",
    "id": "uv5_Pmh0wwU3",
    "outputId": "ea688263-116c-4ff2-edd5-95c1823b406c",
    "scrolled": true,
    "pycharm": {
     "name": "#%%\n",
     "is_executing": true
    },
    "ExecuteTime": {
     "end_time": "2023-07-31T18:35:21.253258Z",
     "start_time": "2023-07-31T18:35:21.234936Z"
    }
   },
   "outputs": [
    {
     "data": {
      "text/plain": "tensor([[1., 1., 0., 0., 0., 0., 1., 1.],\n        [1., 1., 0., 0., 0., 0., 1., 1.],\n        [1., 1., 0., 0., 0., 0., 1., 1.],\n        [1., 1., 0., 0., 0., 0., 1., 1.],\n        [1., 1., 0., 0., 0., 0., 1., 1.],\n        [1., 1., 0., 0., 0., 0., 1., 1.]])"
     },
     "execution_count": 5,
     "metadata": {},
     "output_type": "execute_result"
    }
   ],
   "source": [
    "X = torch.ones((6, 8))\n",
    "X[:, 2:6] = 0\n",
    "X"
   ]
  },
  {
   "cell_type": "code",
   "execution_count": 6,
   "metadata": {
    "colab": {},
    "colab_type": "code",
    "id": "1WzBhrGiwwU6",
    "outputId": "922a5001-4b2d-4872-921c-4bc5ea0936b9",
    "scrolled": true,
    "pycharm": {
     "name": "#%%\n",
     "is_executing": true
    },
    "ExecuteTime": {
     "end_time": "2023-07-31T18:35:46.365001Z",
     "start_time": "2023-07-31T18:35:46.346643Z"
    }
   },
   "outputs": [
    {
     "name": "stdout",
     "output_type": "stream",
     "text": [
      "tensor([[1., 1., 0., 0., 0., 0., 1., 1.],\n",
      "        [1., 1., 0., 0., 0., 0., 1., 1.],\n",
      "        [1., 1., 0., 0., 0., 0., 1., 1.],\n",
      "        [1., 1., 0., 0., 0., 0., 1., 1.],\n",
      "        [1., 1., 0., 0., 0., 0., 1., 1.],\n",
      "        [1., 1., 0., 0., 0., 0., 1., 1.]])\n",
      "tensor([[ 0.,  1.,  0.,  0.,  0., -1.,  0.],\n",
      "        [ 0.,  1.,  0.,  0.,  0., -1.,  0.],\n",
      "        [ 0.,  1.,  0.,  0.,  0., -1.,  0.],\n",
      "        [ 0.,  1.,  0.,  0.,  0., -1.,  0.],\n",
      "        [ 0.,  1.,  0.,  0.,  0., -1.,  0.],\n",
      "        [ 0.,  1.,  0.,  0.,  0., -1.,  0.]])\n"
     ]
    }
   ],
   "source": [
    "## вертикальные грани есть\n",
    "K = torch.Tensor([[1, -1]])\n",
    "Y = corr2d(X, K)\n",
    "print(X)\n",
    "print(Y)"
   ]
  },
  {
   "cell_type": "code",
   "execution_count": 7,
   "metadata": {
    "colab": {},
    "colab_type": "code",
    "id": "bS90HMpOwwU9",
    "outputId": "2eee47ba-b56a-461b-fa6f-f5d860e93f1a",
    "pycharm": {
     "name": "#%%\n",
     "is_executing": true
    },
    "ExecuteTime": {
     "end_time": "2023-07-31T18:36:02.928832Z",
     "start_time": "2023-07-31T18:36:02.900238Z"
    }
   },
   "outputs": [
    {
     "name": "stdout",
     "output_type": "stream",
     "text": [
      "tensor([[1., 1., 1., 1., 1., 1.],\n",
      "        [1., 1., 1., 1., 1., 1.],\n",
      "        [0., 0., 0., 0., 0., 0.],\n",
      "        [0., 0., 0., 0., 0., 0.],\n",
      "        [0., 0., 0., 0., 0., 0.],\n",
      "        [0., 0., 0., 0., 0., 0.],\n",
      "        [1., 1., 1., 1., 1., 1.],\n",
      "        [1., 1., 1., 1., 1., 1.]])\n",
      "tensor([[0., 0., 0., 0., 0.],\n",
      "        [0., 0., 0., 0., 0.],\n",
      "        [0., 0., 0., 0., 0.],\n",
      "        [0., 0., 0., 0., 0.],\n",
      "        [0., 0., 0., 0., 0.],\n",
      "        [0., 0., 0., 0., 0.],\n",
      "        [0., 0., 0., 0., 0.],\n",
      "        [0., 0., 0., 0., 0.]])\n"
     ]
    }
   ],
   "source": [
    "## вертикальных граней нет\n",
    "Z = corr2d(X.T, K)\n",
    "print(X.T)\n",
    "print(Z)"
   ]
  },
  {
   "cell_type": "markdown",
   "metadata": {
    "colab_type": "text",
    "id": "y1oiNJ3KwwU_",
    "pycharm": {
     "name": "#%% md\n"
    }
   },
   "source": [
    "## Сверточный слой"
   ]
  },
  {
   "cell_type": "markdown",
   "source": [
    "Реализуем сверточный слой, который будет детектировать грани \"изображения\".\n"
   ],
   "metadata": {
    "collapsed": false,
    "pycharm": {
     "name": "#%% md\n"
    }
   }
  },
  {
   "cell_type": "code",
   "execution_count": null,
   "metadata": {
    "colab": {},
    "colab_type": "code",
    "id": "jyMOumrZwwVA",
    "pycharm": {
     "name": "#%%\n"
    }
   },
   "outputs": [],
   "source": [
    "# Делаем reshape (можно воспользоваться view()) для того чтобы приравнять изображение к стандартному входу (размер_батча, высота, ширина, каналы)\n",
    "X = X.reshape(1, 1, 6, 8)\n",
    "Y = Y.reshape(1, 1, 6, 7)"
   ]
  },
  {
   "cell_type": "code",
   "execution_count": null,
   "metadata": {
    "colab": {},
    "colab_type": "code",
    "id": "xbT2M_S1wwVC",
    "pycharm": {
     "name": "#%%\n"
    }
   },
   "outputs": [],
   "source": [
    "# Зададим сверточный слой который будет принимать аргументы (количество_входных_каналов, количество_выходных_каналов, (размер сверточного ядра))\n",
    "# Так же можно задать Padding, Stride и Delay\n",
    "conv2d = torch.nn.Conv2d(1, 1, (1,2))"
   ]
  },
  {
   "cell_type": "code",
   "execution_count": null,
   "metadata": {
    "colab": {},
    "colab_type": "code",
    "id": "hHdwEZoOwwVE",
    "pycharm": {
     "name": "#%%\n"
    }
   },
   "outputs": [],
   "source": [
    "trainer = torch.optim.SGD(conv2d.parameters(), lr=0.001)\n",
    "criterion = torch.nn.MSELoss(reduction='sum')"
   ]
  },
  {
   "cell_type": "code",
   "execution_count": null,
   "metadata": {
    "colab": {},
    "colab_type": "code",
    "id": "uzxBTiNvwwVG",
    "outputId": "a4cdb5a9-e944-43a7-c825-e3e185d0bbb0",
    "pycharm": {
     "name": "#%%\n",
     "is_executing": true
    }
   },
   "outputs": [],
   "source": [
    "for i in range(500):\n",
    "    trainer.zero_grad()\n",
    "    Y_hat = conv2d(X)\n",
    "    l = criterion(Y_hat,Y)\n",
    "    l.backward()\n",
    "    trainer.step()\n",
    "    if (i + 1) % 2 == 0:\n",
    "        print('batch %d, loss %.3f' % (i + 1, l.item()))"
   ]
  },
  {
   "cell_type": "code",
   "execution_count": null,
   "metadata": {
    "colab": {},
    "colab_type": "code",
    "id": "2Zjwy0t7wwVJ",
    "outputId": "5aeeafe3-39d4-4690-8427-d6d066b009d2",
    "pycharm": {
     "name": "#%%\n",
     "is_executing": true
    }
   },
   "outputs": [],
   "source": [
    "print(conv2d.weight)\n",
    "print(conv2d.bias)"
   ]
  },
  {
   "cell_type": "markdown",
   "metadata": {
    "ExecuteTime": {
     "end_time": "2019-11-14T20:43:29.333030Z",
     "start_time": "2019-11-14T20:43:29.330547Z"
    },
    "colab_type": "text",
    "id": "kmyuFDYqwwVL",
    "pycharm": {
     "name": "#%% md\n"
    }
   },
   "source": [
    "## Padding и stride"
   ]
  },
  {
   "cell_type": "code",
   "execution_count": null,
   "metadata": {
    "colab": {},
    "colab_type": "code",
    "id": "zabESWcYwwVL",
    "outputId": "49f0c4ed-2f51-46aa-b069-c6ec5d024fbc",
    "pycharm": {
     "name": "#%%\n",
     "is_executing": true
    }
   },
   "outputs": [],
   "source": [
    "conv2d = torch.nn.Conv2d(1, 1, kernel_size=3, padding=1)\n",
    "X = torch.randn((1, 1, 8, 8))\n",
    "conv2d(X).shape"
   ]
  },
  {
   "cell_type": "code",
   "execution_count": null,
   "metadata": {
    "colab": {},
    "colab_type": "code",
    "id": "Q2QyeAuowwVN",
    "outputId": "c18c38c7-6dac-4cd8-b4f0-16a49307ae64",
    "pycharm": {
     "name": "#%%\n",
     "is_executing": true
    }
   },
   "outputs": [],
   "source": [
    "conv2d =torch.nn.Conv2d(1, 1, kernel_size=3, padding=1, stride=2)\n",
    "X = torch.randn((1, 1, 8, 8))\n",
    "conv2d(X).shape"
   ]
  },
  {
   "cell_type": "markdown",
   "metadata": {
    "colab_type": "text",
    "id": "AYX9WvRPwwVO",
    "pycharm": {
     "name": "#%% md\n"
    }
   },
   "source": [
    "## Каналы"
   ]
  },
  {
   "cell_type": "code",
   "execution_count": null,
   "metadata": {
    "colab": {},
    "colab_type": "code",
    "id": "y1WWkiyewwVO",
    "outputId": "803454a4-b4c7-45d9-c2d7-180957078bcd",
    "pycharm": {
     "name": "#%%\n"
    }
   },
   "outputs": [],
   "source": [
    "conv2d = torch.nn.Conv2d(1, 1, kernel_size=3, padding=1)\n",
    "X = torch.randn((1, 1, 8, 8))\n",
    "conv2d(X).shape"
   ]
  },
  {
   "cell_type": "code",
   "execution_count": null,
   "metadata": {
    "colab": {},
    "colab_type": "code",
    "id": "0mrfPVQxwwVQ",
    "outputId": "5b2d3612-60bf-4a04-a710-b4214ffd7d86",
    "pycharm": {
     "name": "#%%\n"
    }
   },
   "outputs": [],
   "source": [
    "conv2d.weight.shape"
   ]
  },
  {
   "cell_type": "code",
   "execution_count": null,
   "metadata": {
    "colab": {},
    "colab_type": "code",
    "id": "fXwQ8T-9wwVR",
    "outputId": "8e7b0ea5-a42d-4038-a22b-062d7d0c553a",
    "pycharm": {
     "name": "#%%\n"
    }
   },
   "outputs": [],
   "source": [
    "conv2d = torch.nn.Conv2d(3, 32, kernel_size=3, padding=1)\n",
    "X = torch.randn((1, 3, 8, 8))\n",
    "conv2d(X).shape"
   ]
  },
  {
   "cell_type": "code",
   "execution_count": null,
   "metadata": {
    "colab": {},
    "colab_type": "code",
    "id": "iKNd1ZbswwVS",
    "outputId": "267776d0-d16d-479b-f927-beb23fdc7b71",
    "pycharm": {
     "name": "#%%\n"
    }
   },
   "outputs": [],
   "source": [
    "conv2d.weight.shape"
   ]
  },
  {
   "cell_type": "markdown",
   "metadata": {
    "colab_type": "text",
    "id": "NzTZ9t5nwwVU",
    "pycharm": {
     "name": "#%% md\n"
    }
   },
   "source": [
    "## Pooling"
   ]
  },
  {
   "cell_type": "code",
   "execution_count": null,
   "metadata": {
    "colab": {},
    "colab_type": "code",
    "id": "1hpPwkj-wwVU",
    "pycharm": {
     "name": "#%%\n"
    }
   },
   "outputs": [],
   "source": [
    "def pool2d(X, pool_size, mode='max'):\n",
    "    p_h, p_w = pool_size\n",
    "    Y = torch.zeros((X.shape[0] - p_h + 1, X.shape[1] - p_w + 1))\n",
    "    for i in range(Y.shape[0]):\n",
    "        for j in range(Y.shape[1]):\n",
    "            if mode == 'max':\n",
    "                Y[i, j] = X[i: i + p_h, j: j + p_w].max()\n",
    "            elif mode == 'avg':\n",
    "                Y[i, j] = X[i: i + p_h, j: j + p_w].mean()\n",
    "    return Y"
   ]
  },
  {
   "cell_type": "code",
   "execution_count": null,
   "metadata": {
    "colab": {},
    "colab_type": "code",
    "id": "XyIhgiBmwwVV",
    "outputId": "1f41c223-35a2-41f9-afdb-bdbee37ab369",
    "pycharm": {
     "name": "#%%\n",
     "is_executing": true
    }
   },
   "outputs": [],
   "source": [
    "X = torch.Tensor([[0, 1, 2], [3, 4, 5], [6, 7, 8]])\n",
    "print(X)\n",
    "print(pool2d(X, (2, 2)))"
   ]
  },
  {
   "cell_type": "code",
   "execution_count": null,
   "metadata": {
    "colab": {},
    "colab_type": "code",
    "id": "UtcjAFhNwwVX",
    "outputId": "0d1efde8-0eb3-423b-c863-6c5892d00e7e",
    "pycharm": {
     "name": "#%%\n"
    }
   },
   "outputs": [],
   "source": [
    "pool2d(X, (2, 2), 'avg')"
   ]
  },
  {
   "cell_type": "code",
   "execution_count": null,
   "metadata": {
    "colab": {},
    "colab_type": "code",
    "id": "8yRj27hZwwVY",
    "outputId": "0a96d442-09bc-4e4c-b16a-615dde34602d",
    "pycharm": {
     "name": "#%%\n"
    }
   },
   "outputs": [],
   "source": [
    "X = torch.arange(16).reshape((1, 1, 4, 4)).type(torch.float)\n",
    "X"
   ]
  },
  {
   "cell_type": "code",
   "execution_count": null,
   "outputs": [],
   "source": [
    "X.shape"
   ],
   "metadata": {
    "collapsed": false,
    "pycharm": {
     "name": "#%%\n"
    }
   }
  },
  {
   "cell_type": "code",
   "execution_count": null,
   "metadata": {
    "colab": {},
    "colab_type": "code",
    "id": "MwiDUSyKwwVZ",
    "outputId": "e606ff1e-5d09-4d58-d52e-21eaace0d38d",
    "pycharm": {
     "name": "#%%\n"
    }
   },
   "outputs": [],
   "source": [
    "pool2d = torch.nn.MaxPool2d(3)\n",
    "pool2d(X)"
   ]
  },
  {
   "cell_type": "code",
   "execution_count": null,
   "metadata": {
    "colab": {},
    "colab_type": "code",
    "id": "qpdqv7K-wwVa",
    "outputId": "89658867-b760-49dd-95bc-8fa15b256495",
    "pycharm": {
     "name": "#%%\n"
    }
   },
   "outputs": [],
   "source": [
    "pool2d = torch.nn.MaxPool2d(3, padding=1, stride=2)\n",
    "pool2d(X)"
   ]
  },
  {
   "cell_type": "code",
   "execution_count": null,
   "metadata": {
    "colab": {},
    "colab_type": "code",
    "id": "Nvb8XuyPwwVb",
    "outputId": "5b05db70-837f-4001-c156-e56e3a80d85d",
    "pycharm": {
     "name": "#%%\n"
    }
   },
   "outputs": [],
   "source": [
    "pool2d = torch.nn.MaxPool2d((2, 3), padding=(1, 1), stride=(2, 3))\n",
    "pool2d(X)"
   ]
  },
  {
   "cell_type": "code",
   "execution_count": null,
   "metadata": {
    "colab": {},
    "colab_type": "code",
    "id": "uiyibEq8wwVc",
    "outputId": "6517c5f6-a212-4c06-8efe-5e3bd88b7752",
    "pycharm": {
     "name": "#%%\n"
    }
   },
   "outputs": [],
   "source": [
    "X = torch.cat((X, X + 1), dim=1)\n",
    "X"
   ]
  },
  {
   "cell_type": "code",
   "execution_count": null,
   "metadata": {
    "colab": {},
    "colab_type": "code",
    "id": "jeY2GcgFwwVd",
    "outputId": "7ec59614-03a5-4b63-82e8-8f05c80e4887",
    "pycharm": {
     "name": "#%%\n"
    }
   },
   "outputs": [],
   "source": [
    "pool2d = torch.nn.MaxPool2d(3, padding=1, stride=2)\n",
    "pool2d(X)"
   ]
  },
  {
   "cell_type": "markdown",
   "metadata": {
    "colab_type": "text",
    "id": "h_Ie1jQkwwVe",
    "pycharm": {
     "name": "#%% md\n"
    }
   },
   "source": [
    "## Lenet"
   ]
  },
  {
   "cell_type": "code",
   "execution_count": 9,
   "metadata": {
    "colab": {},
    "colab_type": "code",
    "id": "CWPqsQfFwwVe",
    "pycharm": {
     "name": "#%%\n"
    },
    "ExecuteTime": {
     "end_time": "2023-07-31T18:48:34.787086Z",
     "start_time": "2023-07-31T18:48:34.044424Z"
    }
   },
   "outputs": [],
   "source": [
    "import torchvision as tv\n",
    "import time\n",
    "import matplotlib.pyplot as plt\n",
    "%matplotlib inline"
   ]
  },
  {
   "cell_type": "code",
   "execution_count": 10,
   "metadata": {
    "colab": {},
    "colab_type": "code",
    "id": "kyRHaE2rwwVf",
    "pycharm": {
     "name": "#%%\n"
    },
    "ExecuteTime": {
     "end_time": "2023-07-31T18:48:34.798849Z",
     "start_time": "2023-07-31T18:48:34.789547Z"
    }
   },
   "outputs": [],
   "source": [
    "BATCH_SIZE=256"
   ]
  },
  {
   "cell_type": "code",
   "execution_count": 11,
   "metadata": {
    "colab": {
     "base_uri": "https://localhost:8080/",
     "height": 249
    },
    "colab_type": "code",
    "id": "UcX_rUpBwwVg",
    "outputId": "ee8a2bf5-c135-48a9-d7aa-a1aa05e5862f",
    "pycharm": {
     "name": "#%%\n"
    },
    "ExecuteTime": {
     "end_time": "2023-07-31T18:48:34.909158Z",
     "start_time": "2023-07-31T18:48:34.827585Z"
    }
   },
   "outputs": [],
   "source": [
    "train_dataset = tv.datasets.MNIST('.', train=True, transform=tv.transforms.ToTensor(), download=True)\n",
    "test_dataset = tv.datasets.MNIST('.', train=False, transform=tv.transforms.ToTensor(), download=True)\n",
    "train_iter = torch.utils.data.DataLoader(train_dataset, batch_size=BATCH_SIZE)\n",
    "test_iter = torch.utils.data.DataLoader(test_dataset, batch_size=BATCH_SIZE)"
   ]
  },
  {
   "cell_type": "code",
   "execution_count": 12,
   "metadata": {
    "colab": {
     "base_uri": "https://localhost:8080/",
     "height": 282
    },
    "colab_type": "code",
    "id": "RJPJjLRowwVh",
    "outputId": "f2f8b226-bc0d-46a8-a723-a2459381d115",
    "scrolled": false,
    "pycharm": {
     "name": "#%%\n"
    },
    "ExecuteTime": {
     "end_time": "2023-07-31T18:48:35.884768Z",
     "start_time": "2023-07-31T18:48:35.696006Z"
    }
   },
   "outputs": [
    {
     "data": {
      "text/plain": "<matplotlib.image.AxesImage at 0x126c0f4f0>"
     },
     "execution_count": 12,
     "metadata": {},
     "output_type": "execute_result"
    },
    {
     "data": {
      "text/plain": "<Figure size 640x480 with 1 Axes>",
      "image/png": "[encoded data removed]"
     },
     "metadata": {},
     "output_type": "display_data"
    }
   ],
   "source": [
    "plt.imshow(train_dataset[0][0].numpy().reshape(28,28), cmap='gray')"
   ]
  },
  {
   "cell_type": "code",
   "execution_count": 13,
   "metadata": {
    "colab": {},
    "colab_type": "code",
    "id": "03bIaRblwwVi",
    "pycharm": {
     "name": "#%%\n"
    },
    "ExecuteTime": {
     "end_time": "2023-07-31T18:51:05.076308Z",
     "start_time": "2023-07-31T18:51:05.061983Z"
    }
   },
   "outputs": [],
   "source": [
    "model = torch.nn.Sequential(\n",
    "    torch.nn.Conv2d(1, 6, kernel_size=5, padding=2),\n",
    "    torch.nn.ReLU(),\n",
    "    torch.nn.MaxPool2d(2, stride=2),\n",
    "    torch.nn.Conv2d(6, 12, kernel_size=5),\n",
    "    torch.nn.ReLU(),\n",
    "    torch.nn.MaxPool2d(2, stride=2),\n",
    "    torch.nn.Flatten(),\n",
    "    torch.nn.Linear(300, 50),\n",
    "    torch.nn.ReLU(),\n",
    "    torch.nn.Linear(50, 10)\n",
    ")"
   ]
  },
  {
   "cell_type": "code",
   "execution_count": 15,
   "outputs": [
    {
     "data": {
      "text/plain": "[Parameter containing:\n tensor([[[[ 0.1647,  0.1717,  0.1011,  0.0921,  0.0666],\n           [ 0.0009,  0.0918,  0.1175, -0.0223,  0.1462],\n           [ 0.0510, -0.0760,  0.0976,  0.0518, -0.0859],\n           [-0.0979, -0.0053, -0.1588, -0.1454,  0.0970],\n           [ 0.0903, -0.1364,  0.0827,  0.0557, -0.1885]]],\n \n \n         [[[-0.0129, -0.0014, -0.1177,  0.1094, -0.1596],\n           [ 0.0331, -0.0093,  0.0552,  0.0717,  0.1612],\n           [-0.0585, -0.0840, -0.1302, -0.0907,  0.1514],\n           [ 0.1224,  0.0862, -0.1437, -0.0219,  0.1748],\n           [ 0.0417, -0.1873,  0.0885,  0.0678, -0.0018]]],\n \n \n         [[[ 0.0061, -0.0628, -0.0877,  0.1280, -0.1031],\n           [-0.0544, -0.1150, -0.1857,  0.1303,  0.0493],\n           [ 0.0130,  0.0731,  0.1789, -0.0612,  0.0614],\n           [ 0.1223, -0.0183, -0.1217, -0.1357,  0.1015],\n           [ 0.1583, -0.0784,  0.1219, -0.1096,  0.0881]]],\n \n \n         [[[-0.0731, -0.1491,  0.1409, -0.1161,  0.1617],\n           [-0.0788, -0.1076, -0.0217,  0.0213, -0.0371],\n           [-0.1353, -0.1778,  0.1428, -0.1494, -0.0252],\n           [ 0.1005, -0.0433,  0.0371, -0.1175, -0.1743],\n           [ 0.1496,  0.0624, -0.1945,  0.0393, -0.0819]]],\n \n \n         [[[-0.1354,  0.1905,  0.0620,  0.1234,  0.0859],\n           [ 0.0099,  0.0410,  0.0709, -0.1484, -0.0042],\n           [-0.1064, -0.0037,  0.0269,  0.0700,  0.1792],\n           [ 0.0645, -0.1759,  0.1302, -0.0924,  0.1491],\n           [ 0.0614, -0.1529,  0.1244, -0.0379,  0.1958]]],\n \n \n         [[[ 0.1168,  0.0266,  0.1618,  0.1262,  0.1787],\n           [-0.1573,  0.1475, -0.0320, -0.0495,  0.0662],\n           [-0.0536,  0.1107,  0.1277, -0.0321, -0.1864],\n           [-0.0485, -0.1176,  0.0899,  0.0898,  0.0461],\n           [-0.0623, -0.1034, -0.0100, -0.0646,  0.1710]]]], requires_grad=True),\n Parameter containing:\n tensor([-0.0643, -0.1810,  0.1006,  0.0764,  0.1048,  0.1845],\n        requires_grad=True),\n Parameter containing:\n tensor([[[[ 7.3002e-02, -3.2468e-02, -1.9529e-02, -2.7126e-02,  1.0506e-02],\n           [-4.6344e-02,  6.7610e-03, -5.1233e-02, -1.2778e-02, -8.1444e-02],\n           [ 2.7517e-02,  5.6529e-02, -2.4307e-02,  1.1566e-02, -3.0833e-02],\n           [ 7.4407e-02, -6.8440e-02, -5.2199e-02,  2.4234e-02,  1.8747e-02],\n           [ 6.9017e-02, -2.4181e-03, -6.3856e-02,  2.2852e-03, -4.1231e-02]],\n \n          [[-7.9716e-02, -4.6879e-02,  6.7779e-02, -2.2282e-02,  2.7550e-02],\n           [-2.0590e-03, -8.1235e-02,  5.6500e-02, -8.0711e-03,  5.3333e-02],\n           [-3.1787e-02,  1.5404e-02, -7.3793e-02, -7.0238e-02,  6.2550e-02],\n           [ 2.9559e-02,  1.3901e-02,  1.4728e-02, -9.3013e-03,  3.5097e-02],\n           [ 4.5966e-02,  4.4480e-02, -2.2646e-02,  4.0620e-02,  2.6385e-02]],\n \n          [[ 3.1018e-02, -1.7729e-02, -7.1047e-02,  3.9180e-02, -2.5800e-02],\n           [ 3.3785e-02,  7.1294e-02, -6.2013e-02,  2.8976e-02,  6.4124e-02],\n           [-4.0500e-03,  8.0083e-02, -3.9540e-02, -6.3268e-03,  1.3502e-02],\n           [ 5.1993e-02,  3.4995e-02,  9.0165e-04, -4.4452e-02, -3.0002e-02],\n           [ 2.3409e-02, -7.4176e-03,  6.0683e-02, -3.7276e-02, -8.5545e-03]],\n \n          [[ 8.3427e-03,  6.9651e-02, -7.4619e-02,  8.0639e-02, -7.7021e-02],\n           [ 9.7309e-03, -5.8596e-02,  8.0969e-02, -7.2212e-02, -2.7819e-02],\n           [-4.1232e-03, -5.2358e-02,  6.5484e-02,  7.7466e-02,  5.8805e-02],\n           [ 1.8674e-02,  1.3579e-02,  2.8557e-02,  3.9425e-02,  5.9765e-02],\n           [-3.7664e-02,  6.1760e-03,  4.9803e-02,  3.7227e-02, -4.5372e-02]],\n \n          [[ 4.7718e-02, -1.8027e-02,  2.8323e-02,  6.8475e-02,  5.8013e-02],\n           [ 3.1064e-02,  1.3904e-02, -5.5578e-02, -8.9162e-03, -5.3478e-02],\n           [-6.8297e-02, -5.9261e-02, -7.9913e-02, -2.9098e-02,  9.3633e-03],\n           [-5.7404e-02,  4.5006e-02,  5.1908e-02, -7.3272e-02,  3.7615e-02],\n           [ 4.2209e-02, -5.6433e-02, -4.5685e-02,  6.6475e-02,  4.3886e-03]],\n \n          [[-3.8374e-02,  7.7400e-02, -5.4796e-02, -5.5471e-03,  5.5195e-03],\n           [-1.1175e-02, -6.5913e-02,  4.8436e-03, -7.6257e-02,  1.9913e-02],\n           [-7.1320e-02, -1.8759e-02, -3.8850e-02, -3.6604e-02, -6.4801e-02],\n           [ 7.0959e-02,  4.4893e-02, -3.8547e-04,  5.8208e-02,  7.0848e-02],\n           [ 5.0261e-02, -4.3146e-02, -5.5668e-02, -3.9802e-02, -8.7144e-03]]],\n \n \n         [[[-7.5383e-02, -4.2088e-02, -2.5960e-02,  7.0211e-02,  2.3145e-02],\n           [ 3.2145e-02,  8.7795e-03, -4.4336e-02, -7.0168e-02, -6.9812e-02],\n           [ 4.4163e-04,  4.1784e-02, -2.6043e-02, -4.5227e-02,  5.2476e-02],\n           [ 1.5773e-02,  7.1456e-02,  3.1500e-02, -3.6101e-02, -5.1416e-02],\n           [ 3.6575e-02,  4.0102e-02, -2.6023e-02, -1.2490e-02,  4.5967e-03]],\n \n          [[ 3.5738e-02, -3.7216e-02, -5.9607e-02,  4.8914e-02, -6.4927e-03],\n           [-1.6000e-02,  1.1778e-02,  3.0218e-03,  5.5377e-02, -1.7281e-03],\n           [ 3.3671e-02,  6.0660e-02, -5.0522e-02, -2.3036e-02, -3.6240e-02],\n           [ 7.4832e-02,  5.9376e-02,  1.7581e-02,  7.0674e-02, -3.9258e-02],\n           [-5.6778e-02,  2.7872e-03,  6.9087e-02, -4.6171e-02,  2.0828e-02]],\n \n          [[ 3.4623e-03,  4.2941e-02,  6.8499e-03, -5.4890e-02,  4.3862e-02],\n           [ 2.0280e-02, -6.4825e-02, -6.4023e-03,  4.5253e-02, -7.9507e-02],\n           [ 7.3342e-03,  4.9477e-02,  5.6640e-02, -5.9651e-02,  9.4869e-03],\n           [-1.4865e-02, -7.8922e-02,  1.9565e-02,  5.8620e-02, -1.5335e-02],\n           [-7.6390e-02, -1.3565e-02, -7.4186e-02, -4.8346e-02, -1.0377e-02]],\n \n          [[-2.6297e-02,  3.1136e-02,  4.5104e-02,  7.5996e-02, -2.1777e-02],\n           [ 8.0933e-02, -1.4798e-02,  7.7886e-02,  7.5026e-02,  5.4878e-02],\n           [-6.1273e-02, -4.6052e-02,  3.4834e-03, -4.1209e-02,  4.4230e-02],\n           [-5.3714e-03,  7.0580e-02, -2.0609e-02,  8.8475e-03,  4.7744e-04],\n           [ 1.2657e-03, -7.2044e-02,  2.0733e-02, -4.5375e-02,  6.7625e-02]],\n \n          [[ 4.5379e-02,  7.8203e-02, -7.6426e-03, -2.1835e-02,  2.4478e-02],\n           [-3.7637e-02, -2.4432e-03,  6.7838e-02, -3.4224e-02, -2.6663e-02],\n           [-3.2585e-03, -3.7769e-02,  4.3188e-02,  2.8199e-02,  1.6472e-02],\n           [-3.7753e-02,  2.2635e-02,  4.7136e-02, -2.0163e-02, -7.0029e-02],\n           [-5.8433e-03, -6.4049e-03,  5.0877e-02,  5.5682e-02, -7.5534e-03]],\n \n          [[ 5.6224e-04, -3.6046e-02,  3.9751e-02,  6.7053e-02, -6.7059e-02],\n           [-3.1213e-02,  7.5302e-02,  4.9733e-02,  7.5544e-02,  1.1274e-02],\n           [-2.1011e-02, -2.5971e-02, -5.6590e-02,  5.3550e-02, -3.3799e-02],\n           [-1.7370e-02,  4.9063e-02,  4.3115e-02,  6.2523e-02,  3.8705e-02],\n           [-6.7770e-02, -2.6626e-02,  5.0439e-02,  5.3570e-02,  7.9361e-02]]],\n \n \n         [[[-7.2717e-02, -1.4715e-02, -8.2601e-03,  2.0908e-02, -8.6177e-03],\n           [ 2.7116e-02, -2.0117e-02, -1.4242e-03, -3.5827e-02, -2.8491e-02],\n           [ 3.3798e-02,  6.8530e-03,  9.0731e-03, -7.1261e-03, -1.5827e-04],\n           [ 5.6235e-02, -2.1534e-02,  6.4989e-02, -7.4272e-02, -6.0964e-02],\n           [ 8.4629e-03, -3.3954e-03,  4.9859e-02, -5.1230e-02, -8.5897e-03]],\n \n          [[-2.5251e-02,  4.5894e-02, -6.4423e-03,  2.9327e-02, -1.2978e-02],\n           [-7.0344e-03,  7.7565e-02, -2.8647e-02, -9.2973e-03, -6.3474e-02],\n           [ 3.3786e-02,  5.5411e-02, -7.2583e-02, -3.6710e-02, -3.6533e-02],\n           [ 3.0350e-02,  6.4660e-02, -1.6216e-02, -4.2016e-02,  6.2737e-03],\n           [-8.0816e-02, -3.9123e-02,  2.4664e-02, -5.9793e-02, -2.8416e-02]],\n \n          [[ 2.1813e-02,  6.1180e-02,  1.4380e-03, -1.9431e-02, -6.3107e-03],\n           [ 7.9611e-02, -2.2040e-02, -6.0391e-02,  1.4031e-02, -1.1536e-02],\n           [ 1.4112e-02, -3.2885e-02,  6.8828e-02, -2.5237e-02, -4.5172e-03],\n           [ 6.4369e-02, -1.3307e-04,  4.0202e-02, -1.4922e-02, -3.0109e-02],\n           [ 1.7292e-02,  5.2412e-02,  2.6508e-02,  1.7915e-02,  6.8454e-02]],\n \n          [[ 1.5368e-02, -1.8380e-02,  7.1953e-02, -6.8118e-02,  5.8321e-03],\n           [-5.7903e-02, -5.8097e-02,  7.2423e-03, -6.3732e-02,  7.7036e-02],\n           [-2.5110e-02, -3.6126e-02,  6.9834e-02, -2.0189e-03,  4.1789e-02],\n           [-4.7325e-03, -6.3008e-02,  9.0632e-03,  5.1299e-02,  7.0321e-02],\n           [-5.6820e-02, -2.4526e-02,  2.8844e-02, -6.6447e-02, -4.4250e-02]],\n \n          [[-7.0718e-02, -2.5553e-02, -1.8988e-02,  3.6527e-02, -5.9484e-02],\n           [-3.2642e-02,  7.5971e-02,  1.1813e-02,  1.0327e-02, -7.6853e-02],\n           [-7.3528e-02,  7.9046e-02, -1.0026e-02,  7.1134e-02, -3.4073e-02],\n           [-1.3396e-02, -2.3423e-02, -3.1321e-02,  7.9368e-02,  5.4316e-02],\n           [-4.9046e-02,  6.7463e-02,  5.7078e-02, -3.8779e-02, -6.4457e-02]],\n \n          [[-7.1228e-02,  5.6409e-02, -4.0507e-02, -7.6849e-02,  9.1871e-04],\n           [ 6.1351e-02,  8.3517e-04, -2.6784e-02, -1.5481e-02, -3.8064e-02],\n           [-5.4746e-03, -1.1204e-02, -2.6028e-02,  5.4182e-02,  5.1583e-02],\n           [ 7.9870e-02, -7.2487e-02,  7.0457e-02,  5.0919e-02, -3.3529e-03],\n           [ 5.2818e-02, -4.3702e-03, -2.9769e-02, -5.1233e-02, -7.1270e-04]]],\n \n \n         ...,\n \n \n         [[[ 2.6295e-02,  7.4576e-02,  2.7344e-02,  3.5724e-02, -6.5491e-02],\n           [ 4.3882e-02,  4.5471e-02,  4.4297e-02,  7.3447e-02,  5.5760e-02],\n           [ 1.9497e-02,  7.4616e-03,  3.1220e-02, -5.3340e-02,  7.0745e-02],\n           [-1.8649e-02, -7.1066e-02,  4.3981e-02, -2.7167e-02, -6.4560e-02],\n           [-6.8468e-02,  2.9496e-02,  4.7979e-02, -7.8046e-02,  4.7464e-02]],\n \n          [[-6.9650e-02, -2.2992e-02, -6.1690e-02,  2.8499e-02,  6.5927e-02],\n           [-4.7436e-02, -2.3196e-02, -4.2397e-03,  1.5931e-02, -7.8743e-02],\n           [-3.6417e-02, -5.1299e-02,  1.1748e-02,  2.6321e-02,  5.1049e-02],\n           [ 6.4385e-02,  5.8027e-02, -4.2333e-02, -3.0296e-03,  2.9702e-02],\n           [-2.4857e-02, -5.3452e-02,  5.6097e-02,  4.1391e-02, -4.2269e-02]],\n \n          [[ 1.7686e-02, -4.5191e-02,  4.2075e-02, -7.6194e-02, -9.5568e-03],\n           [ 1.2024e-02,  1.2861e-02,  6.3476e-02, -3.8813e-02, -3.1329e-02],\n           [ 4.6036e-02,  7.4931e-02, -7.6379e-02,  7.1646e-02,  5.6435e-02],\n           [ 3.5431e-02,  5.9867e-02,  6.9636e-02, -5.6707e-02,  3.3730e-02],\n           [-1.4022e-02, -6.3796e-02, -4.9688e-02,  7.3055e-02, -3.4853e-02]],\n \n          [[ 7.3484e-02, -3.5972e-02,  4.3291e-02, -6.9396e-02,  7.2420e-02],\n           [-1.8135e-04, -4.6278e-02, -1.0969e-02,  3.8624e-03,  4.7333e-02],\n           [-7.3856e-02,  6.7892e-02, -2.1368e-02, -4.7456e-02,  3.8040e-02],\n           [-8.0019e-02,  3.3757e-02,  3.7751e-02,  4.9954e-02, -7.5570e-02],\n           [-3.0130e-02,  6.2379e-02, -7.3798e-02, -5.1385e-02,  1.6141e-02]],\n \n          [[-3.7216e-02,  7.1799e-02,  1.0380e-02,  6.2390e-02, -4.1948e-02],\n           [ 6.5465e-02, -6.8758e-02,  3.6478e-02, -4.5484e-02, -6.1467e-02],\n           [ 4.0538e-02, -3.1754e-02, -1.0831e-02, -2.6808e-02, -2.6414e-02],\n           [ 6.5194e-02,  4.6140e-02, -1.2053e-02,  6.1882e-02, -8.0123e-02],\n           [ 5.4825e-02,  3.1397e-02, -9.4508e-03, -5.4188e-02,  1.4520e-02]],\n \n          [[ 2.0346e-02, -3.1618e-03, -6.9110e-03, -5.1732e-02,  3.8237e-02],\n           [ 6.7714e-02, -5.9121e-02,  7.1040e-02, -5.1776e-03, -4.1016e-02],\n           [ 2.3914e-02,  4.3308e-02,  6.9611e-02, -4.3494e-02,  1.0957e-02],\n           [ 6.3355e-02, -2.9266e-02,  5.9048e-02, -3.8975e-03,  2.5393e-02],\n           [ 5.8514e-02,  4.0249e-02, -4.0305e-02, -4.0961e-02, -6.7104e-02]]],\n \n \n         [[[-1.1493e-02,  2.9131e-02, -5.0981e-02, -4.2299e-02,  2.9988e-02],\n           [ 2.2231e-02,  4.7274e-02,  7.5323e-02, -7.9937e-02,  1.0029e-02],\n           [-3.9901e-02,  1.4249e-02,  5.8158e-02, -2.4501e-02,  6.1943e-02],\n           [ 7.4380e-02, -7.0883e-02, -7.3091e-02, -7.0079e-02,  2.6156e-02],\n           [ 5.7023e-02,  2.1328e-02,  1.9160e-02, -6.2057e-02, -4.3473e-02]],\n \n          [[ 4.2982e-04, -3.1668e-02,  3.5350e-02, -5.4081e-02, -5.4086e-02],\n           [ 2.1884e-02, -2.2452e-02, -6.3052e-02,  5.2303e-02,  2.9097e-02],\n           [-9.9796e-03, -3.8534e-02,  6.1727e-02,  3.4419e-02,  2.0541e-02],\n           [-3.2431e-02, -4.7439e-02, -4.1918e-02,  7.6676e-02,  4.7190e-02],\n           [ 4.0015e-02, -6.2404e-02, -3.7287e-02, -7.5036e-02, -1.3373e-02]],\n \n          [[ 6.4627e-02, -6.2417e-02,  6.7465e-02,  2.7645e-02, -6.1233e-02],\n           [ 1.3449e-02,  3.7574e-02, -6.4950e-02, -2.5469e-02,  4.6776e-02],\n           [ 1.8514e-03, -4.4863e-02, -3.7827e-02, -7.9943e-03, -2.5322e-02],\n           [-2.2869e-02,  5.5267e-03, -8.0472e-02,  7.1850e-02,  3.5876e-02],\n           [ 4.0663e-03,  2.7308e-02, -4.8070e-03,  1.1032e-02, -2.1776e-02]],\n \n          [[ 3.3745e-02, -6.9462e-02, -7.9762e-03, -6.7508e-02,  1.1729e-02],\n           [ 4.0313e-02,  3.2196e-02,  5.5563e-02,  9.6269e-03,  4.5673e-02],\n           [-5.9901e-02, -5.1125e-02,  3.3952e-02,  5.9114e-02,  6.0426e-02],\n           [-5.7318e-02,  6.1373e-02,  4.1352e-02,  9.4688e-03, -1.9475e-02],\n           [ 1.4659e-02,  4.6246e-02, -7.5122e-02, -7.0399e-02,  3.2080e-02]],\n \n          [[-7.5674e-02, -2.2433e-02,  1.1696e-02, -6.3591e-02, -1.2882e-03],\n           [-5.8534e-02,  2.0656e-02, -4.8917e-02,  2.8013e-02, -2.4463e-02],\n           [ 3.3106e-03, -7.9901e-02,  7.5114e-02,  7.9152e-02,  7.5662e-02],\n           [ 6.3738e-02, -6.5445e-03,  2.0285e-02, -3.9229e-02, -4.8602e-02],\n           [-1.3493e-02,  6.6228e-02, -5.3547e-02, -6.2007e-02, -6.6094e-02]],\n \n          [[ 4.6370e-02,  2.0486e-02,  4.2820e-02,  5.4620e-02, -7.3403e-02],\n           [-5.9448e-02,  1.4068e-02, -7.0352e-02,  8.0530e-02, -1.4306e-02],\n           [-1.7232e-02, -7.9553e-02,  3.0925e-02, -6.1107e-02, -2.9236e-02],\n           [ 3.2365e-02,  6.6320e-02,  4.6909e-02, -4.0279e-02, -3.5596e-02],\n           [-1.9722e-02,  7.8733e-02,  4.6447e-02, -2.2661e-02, -2.1270e-02]]],\n \n \n         [[[ 5.3625e-02,  2.0109e-03,  4.8162e-02,  7.0914e-02,  7.0093e-02],\n           [ 3.0789e-02,  6.7962e-02, -1.3258e-02, -1.6241e-02,  3.3862e-02],\n           [ 1.8537e-02, -3.1431e-02, -8.1407e-02, -5.8862e-02, -1.7825e-03],\n           [ 3.6091e-02, -2.0377e-02,  9.3258e-03,  5.5274e-02,  1.8921e-02],\n           [-1.3486e-02, -6.2780e-02, -6.6088e-02,  6.6156e-02,  4.5360e-02]],\n \n          [[-1.6840e-02,  2.9690e-02, -7.7940e-02,  2.5728e-02,  6.3197e-02],\n           [ 1.1487e-02,  3.3343e-03,  2.6720e-02,  4.2272e-02, -4.4501e-02],\n           [ 6.4247e-02,  4.9920e-02, -3.3504e-02,  7.2300e-02,  6.0038e-02],\n           [ 3.6391e-02, -7.1300e-02,  6.7941e-02, -7.8915e-02,  5.8748e-02],\n           [ 6.7105e-02,  5.7923e-02,  5.5939e-02, -1.9664e-02,  2.1608e-02]],\n \n          [[ 2.2098e-02, -5.4456e-02, -1.6526e-02,  4.1956e-02, -2.5890e-02],\n           [-4.6673e-02,  6.5252e-02, -5.0845e-02, -1.0037e-03, -1.3504e-02],\n           [ 7.1972e-02,  5.9709e-03,  6.2725e-02, -2.0364e-02,  5.3216e-02],\n           [-2.7255e-02, -8.0438e-02, -6.1711e-03,  1.7908e-02,  7.4591e-02],\n           [ 7.7330e-02,  4.2095e-02,  3.9803e-02,  3.5103e-02, -9.0453e-03]],\n \n          [[-1.6355e-02,  6.3361e-02,  1.3887e-02, -6.0741e-02,  3.9905e-02],\n           [-2.2802e-02, -4.0250e-02,  7.2830e-02,  2.6298e-02, -1.1161e-02],\n           [-4.0792e-02,  8.0325e-02, -3.7709e-02,  4.2398e-02, -1.3015e-02],\n           [ 5.5186e-02,  4.9543e-02, -8.0615e-02, -3.5209e-02,  2.4047e-02],\n           [ 4.8823e-02,  6.4712e-02, -1.1783e-02, -7.6072e-02, -6.8092e-02]],\n \n          [[ 1.7886e-02, -8.1336e-03,  5.2904e-03, -5.3183e-02,  1.1365e-02],\n           [ 2.5151e-02, -1.5153e-02,  1.6345e-02,  2.8909e-02,  8.1187e-02],\n           [ 5.5450e-02,  5.5478e-02,  3.3033e-03, -6.1313e-02,  6.4255e-02],\n           [ 7.2751e-02,  2.5733e-02, -3.8300e-02, -4.4378e-02, -3.4954e-02],\n           [-8.1115e-02, -3.0099e-02, -5.5523e-02,  1.0420e-02, -2.7377e-02]],\n \n          [[-6.3312e-02, -3.9970e-02,  7.1765e-02,  3.3439e-04,  5.4155e-03],\n           [ 1.1478e-02, -7.7478e-02, -2.8738e-02, -5.9203e-02,  3.9594e-02],\n           [-2.3721e-03,  1.0557e-05, -5.5165e-02,  1.3276e-02,  2.7126e-02],\n           [ 2.0110e-02, -5.5511e-02,  3.8973e-02, -3.7536e-02,  2.9577e-02],\n           [ 4.5844e-02,  4.0443e-02,  3.1571e-02,  3.8238e-02,  9.9699e-03]]]],\n        requires_grad=True),\n Parameter containing:\n tensor([ 0.0131, -0.0170, -0.0390,  0.0264, -0.0061, -0.0391,  0.0405,  0.0366,\n          0.0283, -0.0810,  0.0340, -0.0029], requires_grad=True),\n Parameter containing:\n tensor([[-4.4237e-02, -3.5968e-02, -9.6505e-03,  ...,  3.6972e-02,\n           2.4072e-02, -1.0700e-02],\n         [ 5.6278e-02,  3.4419e-02,  6.6545e-03,  ..., -2.3794e-02,\n           2.7109e-02,  3.7899e-02],\n         [-5.7705e-02,  4.8417e-02, -3.4009e-02,  ...,  4.1881e-02,\n          -2.5882e-02, -1.1109e-02],\n         ...,\n         [ 1.3576e-02, -5.4727e-02, -3.1816e-02,  ...,  6.3010e-03,\n          -9.4138e-06, -3.3761e-02],\n         [ 2.7860e-02,  1.1747e-02, -3.5902e-02,  ...,  5.6523e-02,\n           4.7378e-02,  3.8297e-02],\n         [ 1.0534e-02,  4.8338e-02,  4.8703e-02,  ...,  4.3715e-02,\n          -5.6963e-02, -8.8677e-03]], requires_grad=True),\n Parameter containing:\n tensor([ 0.0561,  0.0121,  0.0322, -0.0358,  0.0121, -0.0099,  0.0170, -0.0252,\n         -0.0337, -0.0553, -0.0402, -0.0254, -0.0091, -0.0207, -0.0066, -0.0467,\n          0.0055, -0.0297, -0.0046, -0.0171,  0.0017,  0.0480, -0.0311,  0.0389,\n          0.0035, -0.0035,  0.0370, -0.0571,  0.0099,  0.0087,  0.0521,  0.0481,\n         -0.0019,  0.0333, -0.0210,  0.0318, -0.0518, -0.0031,  0.0033, -0.0136,\n         -0.0576,  0.0036, -0.0243, -0.0448,  0.0035,  0.0507, -0.0412, -0.0570,\n          0.0141, -0.0328], requires_grad=True),\n Parameter containing:\n tensor([[ 8.5502e-02, -1.1897e-01, -1.1608e-01, -1.2616e-01,  4.8500e-03,\n           1.1775e-01,  1.1376e-01, -9.1097e-02, -5.6689e-02, -1.1370e-01,\n           6.3400e-02,  9.8173e-02,  7.7059e-03,  7.9229e-02,  4.5459e-02,\n          -1.1935e-01,  5.5532e-02,  4.5137e-03, -1.2043e-01, -1.1866e-02,\n          -7.4929e-02,  4.5406e-02, -1.3921e-02, -1.2500e-01, -5.5020e-02,\n           1.0370e-01,  3.5506e-02,  8.7618e-02, -1.1117e-01, -5.7905e-02,\n          -1.2421e-01,  1.1385e-02, -5.3097e-02, -8.9397e-02, -9.7516e-02,\n          -6.3489e-02, -6.1555e-02, -7.3621e-02, -3.6858e-02, -2.0195e-02,\n           6.7595e-02, -1.8433e-02,  1.5493e-02, -4.0509e-02, -1.3164e-01,\n          -1.1114e-01, -8.7886e-02, -5.4869e-02, -2.9168e-02, -1.4354e-02],\n         [ 7.1163e-02,  5.2026e-02,  6.0140e-02, -9.7884e-02, -1.1284e-01,\n           7.2534e-02, -1.1379e-01, -1.1599e-01,  1.0555e-01,  7.4308e-02,\n           4.9678e-02,  7.4435e-02,  7.6296e-02, -1.2211e-01, -8.1668e-02,\n           1.3631e-01, -6.1280e-02,  3.3029e-02, -4.1298e-02,  7.4132e-02,\n           1.1412e-01,  1.2707e-01,  4.5613e-02, -5.4182e-03,  3.4790e-02,\n          -1.2032e-01, -1.0925e-01,  8.2837e-02,  1.1144e-01,  7.8456e-02,\n          -7.0386e-02,  1.0496e-02, -1.3880e-01, -1.3173e-01,  1.0460e-01,\n          -6.6120e-03, -1.2920e-02,  1.1564e-01, -6.1236e-02,  1.3561e-01,\n           5.5959e-02,  6.2518e-02,  1.0603e-01, -2.7481e-02, -1.0739e-01,\n           4.4720e-02,  1.1316e-01,  1.2058e-01,  1.0299e-01,  1.4181e-02],\n         [ 5.6580e-02,  1.3083e-01, -9.5479e-04, -4.4093e-03, -5.7106e-03,\n           1.1610e-01,  1.1382e-01, -2.5417e-02, -1.1684e-01,  6.5379e-02,\n           5.3864e-02,  7.1286e-03,  1.1246e-01, -1.3138e-01,  5.6445e-02,\n          -6.0171e-02,  1.6851e-02,  1.2174e-01,  1.1971e-02,  1.0089e-01,\n           5.7407e-02, -4.1824e-02,  1.1749e-01,  1.0333e-01,  2.8849e-02,\n           1.2576e-01,  8.2045e-02,  1.2007e-02,  6.6881e-02,  9.5397e-03,\n          -2.4654e-02, -1.1785e-02, -4.2983e-02,  1.0657e-01, -1.0421e-01,\n           1.8797e-02, -4.7962e-02,  1.2654e-01,  1.3412e-01, -1.1172e-01,\n           9.0277e-02, -7.5139e-02, -8.5910e-02,  4.3063e-02,  1.0772e-01,\n          -1.3050e-02, -6.2160e-02,  4.4211e-02,  1.1479e-01, -9.4004e-02],\n         [ 9.8460e-02, -4.8377e-02,  2.0417e-02, -1.3428e-01,  6.6622e-02,\n           2.6543e-02, -2.5462e-02,  6.3277e-02,  5.8384e-02,  4.9197e-02,\n           5.2203e-02,  8.8139e-02, -1.1992e-01, -7.7282e-02, -6.0049e-02,\n           9.6777e-02,  3.2623e-02,  1.1798e-01,  1.2010e-01,  2.6481e-02,\n           2.9908e-02, -9.0141e-02, -1.3227e-01,  1.1993e-01, -1.2288e-02,\n          -6.5206e-02,  1.1193e-01, -1.2589e-01,  1.4042e-01,  6.5772e-02,\n           3.9264e-03, -1.1378e-01,  1.3875e-01, -5.8810e-02,  4.2200e-02,\n          -1.3337e-02, -3.8026e-02, -1.1689e-01, -1.0256e-01, -9.0117e-02,\n           6.3214e-02, -1.3918e-02, -1.2711e-01, -1.2365e-01,  1.0877e-02,\n          -4.4959e-02, -9.7661e-02,  1.3986e-01,  4.9085e-02,  5.5434e-02],\n         [ 2.0587e-02,  9.5159e-02,  7.0467e-02,  9.0059e-02, -1.0342e-01,\n          -3.5292e-03, -4.6315e-02, -5.4797e-03, -8.3769e-02, -1.0818e-01,\n           1.5519e-02, -6.0235e-03,  1.3936e-02,  1.3018e-01, -2.8480e-02,\n           1.1615e-02, -1.3789e-01,  1.3080e-01,  9.7494e-03, -5.7746e-02,\n           2.7731e-02,  9.8387e-02, -1.3598e-01, -9.4808e-02,  1.1239e-01,\n          -9.8379e-02, -2.7914e-02, -4.9705e-02, -6.3284e-02,  1.3735e-01,\n          -4.6298e-02, -1.2123e-01,  1.1869e-01,  3.4301e-02, -1.1581e-01,\n           1.3306e-01,  1.0171e-01, -9.1686e-02,  1.0825e-01, -9.0210e-02,\n          -1.2575e-01, -6.0376e-02,  8.9543e-02, -2.3764e-02,  1.1824e-01,\n          -4.9384e-02,  1.1089e-01, -1.1153e-01,  1.0785e-01, -7.8900e-02],\n         [ 1.1460e-01, -1.3148e-01, -1.0852e-01,  3.9265e-02, -5.4907e-02,\n          -6.5197e-02, -1.2483e-01,  1.1125e-01, -9.4678e-02,  3.7514e-02,\n          -1.3071e-01,  6.7910e-03, -1.2673e-01,  4.8856e-02, -3.2514e-03,\n          -1.3257e-01,  4.1846e-02, -3.6428e-02,  4.4190e-02, -5.3549e-02,\n          -5.6603e-02, -4.9361e-02, -3.0158e-02,  2.5416e-02,  5.5775e-02,\n           8.5709e-02, -8.7856e-02,  5.7962e-02, -1.0327e-01,  1.2116e-04,\n          -9.5154e-02, -2.5197e-02,  3.5627e-02, -7.0820e-03,  6.4805e-02,\n           9.4626e-03,  3.4128e-02, -1.0680e-01,  1.0508e-01, -8.1949e-02,\n           9.4355e-02,  2.6947e-02,  3.9470e-02, -1.2007e-01,  1.1873e-01,\n          -1.1636e-01,  8.4789e-03, -4.3815e-02,  4.2013e-02, -4.7455e-02],\n         [ 2.4803e-02,  8.4924e-02, -5.5754e-02, -1.2148e-01,  5.0781e-02,\n          -2.0014e-02,  4.4697e-02,  5.0200e-02, -3.6943e-02,  1.1198e-01,\n           1.2512e-01,  1.1492e-01,  3.9234e-03, -1.2912e-01, -1.2183e-01,\n           4.0011e-02,  7.8116e-04,  1.2004e-01,  3.0584e-02,  8.0350e-02,\n          -3.5214e-02, -1.1929e-01,  1.3787e-01, -1.1832e-01,  8.4853e-02,\n          -1.0184e-01, -3.3868e-02,  2.7738e-02, -6.2924e-02, -4.8464e-02,\n           7.5078e-02,  7.7186e-02,  7.5244e-02, -7.7429e-02, -4.4098e-02,\n          -7.8984e-02,  2.9609e-02,  1.6899e-02, -1.0488e-01,  2.9440e-03,\n           1.9433e-02,  1.0937e-01, -4.5157e-02, -1.1269e-01, -1.7327e-02,\n           1.2012e-01,  2.1006e-02,  1.2864e-01, -9.8842e-02, -9.1337e-02],\n         [-8.6384e-02, -8.9040e-02, -9.0485e-02,  7.1277e-02, -3.9340e-02,\n           3.7434e-02, -8.2077e-02, -3.8418e-02,  9.0633e-03, -5.6241e-02,\n          -5.2017e-02,  4.3534e-02, -9.8108e-02, -5.9590e-02,  4.9371e-02,\n           8.2166e-02,  9.2468e-03,  6.6707e-02, -1.0197e-01, -1.4107e-01,\n          -9.7724e-02,  5.8074e-02, -1.2087e-01, -9.7752e-02,  4.1322e-02,\n           5.4299e-02,  1.0742e-01, -4.6257e-02, -1.3114e-01,  8.7420e-02,\n          -7.5127e-02,  3.2893e-02,  9.5690e-02, -6.7795e-02,  4.7487e-02,\n          -6.9961e-02,  1.0432e-01, -3.5745e-03,  4.0143e-02,  1.1936e-02,\n          -1.5237e-02,  8.9073e-02, -2.6150e-02,  4.5346e-03,  1.0619e-01,\n          -8.7130e-02,  4.3496e-02,  8.3407e-02, -8.0914e-02, -1.3297e-02],\n         [ 1.2673e-01, -1.1794e-01,  8.5187e-02, -1.0406e-01, -5.2794e-02,\n           1.2842e-01, -1.1321e-01, -1.9161e-02,  9.2767e-02,  1.2662e-01,\n           2.8176e-02,  6.8391e-02, -9.5104e-02,  5.1130e-03,  5.8133e-02,\n          -4.5117e-02,  6.0539e-02, -1.3598e-01, -1.2499e-01, -6.9997e-02,\n          -5.3676e-02,  8.3096e-02,  1.2810e-01, -6.0818e-02,  1.2739e-01,\n          -7.4433e-02, -4.2839e-04, -1.3214e-01,  1.1522e-01, -2.1508e-02,\n          -1.1141e-01,  4.9535e-02, -1.2843e-01, -1.2751e-01, -7.4131e-02,\n           1.0879e-01, -1.2920e-01, -8.7697e-02,  3.3686e-02,  1.3556e-01,\n          -1.0279e-01, -2.2085e-02, -6.5947e-02,  7.0243e-02,  1.2703e-01,\n           1.2180e-01, -9.3318e-02, -5.0718e-02,  1.3559e-01,  4.0520e-02],\n         [-3.1608e-02,  1.3156e-01, -8.2082e-02,  1.3242e-01, -1.3035e-01,\n           1.3049e-01, -9.9181e-02, -1.8293e-02, -1.3027e-01, -3.1516e-02,\n           8.4990e-02, -1.3854e-01, -1.1680e-01,  3.0884e-02, -5.1774e-02,\n          -1.4658e-02, -1.0620e-01, -1.7183e-03,  3.5929e-02, -7.9758e-02,\n           7.9456e-02,  3.1908e-02,  5.1450e-02, -3.2043e-02,  8.0130e-03,\n           3.3815e-03,  1.1703e-01, -1.3240e-01,  2.0891e-02,  1.0082e-01,\n           6.9436e-02, -9.3125e-02,  1.0900e-01, -8.3953e-02, -6.3179e-02,\n           6.2474e-02, -8.5492e-02, -1.2305e-01,  9.7804e-02, -5.5484e-03,\n          -7.1294e-02, -4.3271e-02,  1.8006e-02,  1.3066e-01, -8.5020e-02,\n           4.0877e-02, -3.6244e-02, -6.2736e-02, -4.5493e-02, -9.9521e-02]],\n        requires_grad=True),\n Parameter containing:\n tensor([-0.0285,  0.0133, -0.0554, -0.0083, -0.0596, -0.1041,  0.0651, -0.0409,\n         -0.0915, -0.1093], requires_grad=True)]"
     },
     "execution_count": 15,
     "metadata": {},
     "output_type": "execute_result"
    }
   ],
   "source": [
    "list(model.parameters())"
   ],
   "metadata": {
    "collapsed": false,
    "ExecuteTime": {
     "end_time": "2023-07-31T18:51:36.766550Z",
     "start_time": "2023-07-31T18:51:36.701614Z"
    }
   }
  },
  {
   "cell_type": "code",
   "execution_count": 18,
   "metadata": {
    "colab": {
     "base_uri": "https://localhost:8080/",
     "height": 200
    },
    "colab_type": "code",
    "id": "BXvTFxX7wwVj",
    "outputId": "3784d1cc-f692-4ba6-9172-cb46d12883f1",
    "pycharm": {
     "name": "#%%\n",
     "is_executing": true
    },
    "ExecuteTime": {
     "end_time": "2023-07-31T18:55:57.355701Z",
     "start_time": "2023-07-31T18:55:57.336739Z"
    }
   },
   "outputs": [
    {
     "name": "stdout",
     "output_type": "stream",
     "text": [
      "torch.Size([1, 1, 28, 28])\n",
      "Layer Conv2d(1, 6, kernel_size=(5, 5), stride=(1, 1), padding=(2, 2)). X shape: torch.Size([1, 6, 28, 28])\n",
      "Layer ReLU(). X shape: torch.Size([1, 6, 28, 28])\n",
      "Layer MaxPool2d(kernel_size=2, stride=2, padding=0, dilation=1, ceil_mode=False). X shape: torch.Size([1, 6, 14, 14])\n",
      "Layer Conv2d(6, 12, kernel_size=(5, 5), stride=(1, 1)). X shape: torch.Size([1, 12, 10, 10])\n",
      "Layer ReLU(). X shape: torch.Size([1, 12, 10, 10])\n",
      "Layer MaxPool2d(kernel_size=2, stride=2, padding=0, dilation=1, ceil_mode=False). X shape: torch.Size([1, 12, 5, 5])\n",
      "Layer Flatten(start_dim=1, end_dim=-1). X shape: torch.Size([1, 300])\n",
      "Layer Linear(in_features=300, out_features=50, bias=True). X shape: torch.Size([1, 50])\n",
      "Layer ReLU(). X shape: torch.Size([1, 50])\n",
      "Layer Linear(in_features=50, out_features=10, bias=True). X shape: torch.Size([1, 10])\n"
     ]
    }
   ],
   "source": [
    "X = train_dataset[0][0]\n",
    "X = X.reshape(1, 1, 28, 28)\n",
    "print(X.shape)\n",
    "for l in model:\n",
    "    X = l(X)\n",
    "    print(\"Layer {}. X shape: {}\".format(l, X.shape))"
   ]
  },
  {
   "cell_type": "code",
   "execution_count": 19,
   "metadata": {
    "colab": {
     "base_uri": "https://localhost:8080/",
     "height": 34
    },
    "colab_type": "code",
    "id": "j6_CkvdhwwVk",
    "outputId": "5113868e-6f5a-4ba9-a806-e6d2122a3945",
    "pycharm": {
     "name": "#%%\n"
    },
    "ExecuteTime": {
     "end_time": "2023-07-31T18:55:57.718321Z",
     "start_time": "2023-07-31T18:55:57.699982Z"
    }
   },
   "outputs": [
    {
     "name": "stdout",
     "output_type": "stream",
     "text": [
      "torch.Size([1, 10])\n"
     ]
    }
   ],
   "source": [
    "X = train_dataset[0][0]\n",
    "X = X.reshape(1, 1, 28, 28)\n",
    "y = model(X)\n",
    "print(y.shape)"
   ]
  },
  {
   "cell_type": "code",
   "execution_count": 20,
   "metadata": {
    "colab": {},
    "colab_type": "code",
    "id": "eT7GAboqwwVl",
    "pycharm": {
     "name": "#%%\n"
    },
    "ExecuteTime": {
     "end_time": "2023-07-31T18:55:58.190884Z",
     "start_time": "2023-07-31T18:55:58.171384Z"
    }
   },
   "outputs": [],
   "source": [
    "def evaluate_accuracy(data_iter, net):\n",
    "    acc_sum, n = torch.Tensor([0]), 0\n",
    "    for X, y in data_iter:\n",
    "        acc_sum += (net(X).argmax(axis=1) == y).sum()\n",
    "        n += y.shape[0]\n",
    "    return acc_sum.item() / n"
   ]
  },
  {
   "cell_type": "code",
   "execution_count": 21,
   "metadata": {
    "colab": {},
    "colab_type": "code",
    "id": "uHoUxdoAwwVm",
    "pycharm": {
     "name": "#%%\n"
    },
    "ExecuteTime": {
     "end_time": "2023-07-31T18:55:58.748981Z",
     "start_time": "2023-07-31T18:55:58.732014Z"
    }
   },
   "outputs": [],
   "source": [
    "def train(net, train_iter, test_iter, trainer, num_epochs):\n",
    "    loss = torch.nn.CrossEntropyLoss(reduction='sum')\n",
    "    for epoch in range(num_epochs):\n",
    "        train_l_sum, train_acc_sum, n, start = 0.0, 0.0, 0, time.time()\n",
    "        for X, y in train_iter:\n",
    "            trainer.zero_grad()\n",
    "            y_hat = net(X)\n",
    "            l = loss(y_hat, y)\n",
    "            l.backward()\n",
    "            trainer.step()\n",
    "            train_l_sum += l.item()\n",
    "            train_acc_sum += (y_hat.argmax(axis=1) == y).sum().item()\n",
    "            n += y.shape[0]\n",
    "        test_acc = evaluate_accuracy(test_iter, net)\n",
    "        print('epoch %d, loss %.4f, train acc %.3f, test acc %.3f, '\n",
    "              'time %.1f sec'\n",
    "              % (epoch + 1, train_l_sum / n, train_acc_sum / n, test_acc,\n",
    "                 time.time() - start))"
   ]
  },
  {
   "cell_type": "code",
   "execution_count": 22,
   "metadata": {
    "colab": {},
    "colab_type": "code",
    "id": "qRiMJlYhwwVm",
    "outputId": "32441310-5d91-4d07-bb89-67dbd9926aac",
    "pycharm": {
     "name": "#%%\n"
    },
    "ExecuteTime": {
     "end_time": "2023-07-31T18:56:54.426743Z",
     "start_time": "2023-07-31T18:55:59.471919Z"
    }
   },
   "outputs": [
    {
     "name": "stdout",
     "output_type": "stream",
     "text": [
      "epoch 1, loss 0.1070, train acc 0.967, test acc 0.975, time 11.2 sec\n",
      "epoch 2, loss 0.0744, train acc 0.977, test acc 0.978, time 10.4 sec\n",
      "epoch 3, loss 0.0598, train acc 0.982, test acc 0.982, time 10.5 sec\n",
      "epoch 4, loss 0.0513, train acc 0.984, test acc 0.985, time 10.5 sec\n",
      "epoch 5, loss 0.0447, train acc 0.987, test acc 0.985, time 12.4 sec\n"
     ]
    }
   ],
   "source": [
    "lr, num_epochs = 0.001, 5\n",
    "trainer = torch.optim.SGD(model.parameters(), lr=lr)\n",
    "train(model, train_iter, test_iter, trainer, num_epochs)"
   ]
  },
  {
   "cell_type": "markdown",
   "metadata": {
    "colab_type": "text",
    "id": "VCfAmvJPw45A",
    "pycharm": {
     "name": "#%% md\n"
    }
   },
   "source": [
    "## Обучение на GPU"
   ]
  },
  {
   "cell_type": "code",
   "execution_count": null,
   "metadata": {
    "colab": {},
    "colab_type": "code",
    "id": "AXokXQUzw6Lr",
    "pycharm": {
     "name": "#%%\n"
    }
   },
   "outputs": [],
   "source": [
    "dev = torch.device(\"cuda\") if torch.cuda.is_available() else torch.device(\"cpu\")"
   ]
  },
  {
   "cell_type": "code",
   "execution_count": null,
   "metadata": {
    "colab": {
     "base_uri": "https://localhost:8080/",
     "height": 34
    },
    "colab_type": "code",
    "id": "xLQMfiFVxRfv",
    "outputId": "4abcca57-4e9f-46cc-9963-4c221f293080",
    "pycharm": {
     "name": "#%%\n"
    }
   },
   "outputs": [],
   "source": [
    "dev"
   ]
  },
  {
   "cell_type": "code",
   "execution_count": null,
   "metadata": {
    "colab": {},
    "colab_type": "code",
    "id": "3DSc7YPtxClu",
    "pycharm": {
     "name": "#%%\n"
    }
   },
   "outputs": [],
   "source": [
    "model = model.to(dev)"
   ]
  },
  {
   "cell_type": "code",
   "execution_count": null,
   "metadata": {
    "colab": {},
    "colab_type": "code",
    "id": "1kAS0WRUxQU9",
    "pycharm": {
     "name": "#%%\n"
    }
   },
   "outputs": [],
   "source": [
    "def train(net, train_iter, test_iter, trainer, num_epochs, dev):\n",
    "    loss = nn.CrossEntropyLoss(reduction='sum')\n",
    "    for epoch in range(num_epochs):\n",
    "        train_l_sum, train_acc_sum, n, start = 0.0, 0.0, 0, time.time()\n",
    "        for X, y in train_iter:\n",
    "            trainer.zero_grad()\n",
    "            X, y = X.to(dev), y.to(dev)\n",
    "            y_hat = net(X)\n",
    "            l = loss(y_hat, y)\n",
    "            l.backward()\n",
    "            trainer.step()\n",
    "            train_l_sum += l.item()\n",
    "            train_acc_sum += (y_hat.argmax(axis=1) == y).sum().item()\n",
    "            n += y.shape[0]\n",
    "        test_acc = evaluate_accuracy(test_iter, net, dev)\n",
    "        print('epoch %d, loss %.4f, train acc %.3f, test acc %.3f, '\n",
    "              'time %.1f sec'\n",
    "              % (epoch + 1, train_l_sum / n, train_acc_sum / n, test_acc,\n",
    "                 time.time() - start))"
   ]
  },
  {
   "cell_type": "code",
   "execution_count": null,
   "metadata": {
    "colab": {},
    "colab_type": "code",
    "id": "luDfZTfjxX3j",
    "pycharm": {
     "name": "#%%\n"
    }
   },
   "outputs": [],
   "source": [
    "def evaluate_accuracy(data_iter, net, dev):\n",
    "    acc_sum, n = torch.Tensor([0]).to(dev), 0\n",
    "    for X, y in data_iter:\n",
    "        X, y = X.to(dev), y.to(dev)\n",
    "        acc_sum += (net(X).argmax(axis=1) == y).sum()\n",
    "        n += y.shape[0]\n",
    "    return acc_sum.item() / n"
   ]
  },
  {
   "cell_type": "code",
   "execution_count": null,
   "metadata": {
    "colab": {
     "base_uri": "https://localhost:8080/",
     "height": 100
    },
    "colab_type": "code",
    "id": "gRP8hgY1xedj",
    "outputId": "2804178b-cf8d-4910-c930-1d927810e755",
    "pycharm": {
     "name": "#%%\n"
    }
   },
   "outputs": [],
   "source": [
    "lr, num_epochs = 0.001, 5\n",
    "trainer = torch.optim.SGD(model.parameters(), lr=lr)\n",
    "train(model, train_iter, test_iter, trainer, num_epochs, dev)"
   ]
  },
  {
   "cell_type": "code",
   "execution_count": null,
   "metadata": {
    "pycharm": {
     "name": "#%%\n"
    }
   },
   "outputs": [],
   "source": []
  }
 ],
 "metadata": {
  "accelerator": "GPU",
  "colab": {
   "name": "Материалы.ipynb",
   "provenance": []
  },
  "kernelspec": {
   "display_name": "Python 3",
   "language": "python",
   "name": "python3"
  },
  "language_info": {
   "codemirror_mode": {
    "name": "ipython",
    "version": 3
   },
   "file_extension": ".py",
   "mimetype": "text/x-python",
   "name": "python",
   "nbconvert_exporter": "python",
   "pygments_lexer": "ipython3",
   "version": "3.7.1"
  }
 },
 "nbformat": 4,
 "nbformat_minor": 1
}
