{
 "cells": [
  {
   "cell_type": "code",
   "execution_count": 1,
   "metadata": {
    "collapsed": true,
    "pycharm": {
     "name": "#%%\n"
    }
   },
   "outputs": [],
   "source": [
    "import torch\n",
    "import torchvision\n",
    "import numpy as np\n",
    "import matplotlib.pyplot as plt\n",
    "import datetime\n",
    "import warnings\n",
    "warnings.filterwarnings(\"ignore\")"
   ]
  },
  {
   "cell_type": "code",
   "execution_count": null,
   "outputs": [],
   "source": [
    "# Загрузим из пакета torchvision тренировочный датасет FashionMnist\n",
    "train_dataset = torchvision.datasets.FashionMNIST(root='./data',\n",
    "                                                  train=True,\n",
    "                                                  download=True,\n",
    "                                                  transform=torchvision.transforms.ToTensor())"
   ],
   "metadata": {
    "collapsed": false,
    "pycharm": {
     "name": "#%%\n",
     "is_executing": true
    }
   }
  },
  {
   "cell_type": "code",
   "execution_count": null,
   "outputs": [],
   "source": [
    "train_dataset.data.shape"
   ],
   "metadata": {
    "collapsed": false,
    "pycharm": {
     "name": "#%%\n",
     "is_executing": true
    }
   }
  },
  {
   "cell_type": "code",
   "execution_count": 4,
   "outputs": [],
   "source": [
    "# Загрузим из пакета torchvision валидационный датасет FashionMnist\n",
    "test_dataset = torchvision.datasets.FashionMNIST(root='./data',\n",
    "                                                 train=False,\n",
    "                                                 download=True,\n",
    "                                                 transform=torchvision.transforms.ToTensor())"
   ],
   "metadata": {
    "collapsed": false,
    "pycharm": {
     "name": "#%%\n"
    }
   }
  },
  {
   "cell_type": "code",
   "execution_count": null,
   "outputs": [],
   "source": [
    "test_dataset.data.shape"
   ],
   "metadata": {
    "collapsed": false,
    "pycharm": {
     "name": "#%%\n",
     "is_executing": true
    }
   }
  },
  {
   "cell_type": "code",
   "execution_count": null,
   "outputs": [],
   "source": [
    "# Определим количество классов для задачи классификации картинок\n",
    "classes = len(set(train_dataset.targets.numpy())) # Не забываем переводить тензор PyTorch в нужный нам тип данных иначе операция не выполнится\n",
    "print(\"Number of classes in FMNIST: {}\".format(classes))"
   ],
   "metadata": {
    "collapsed": false,
    "pycharm": {
     "name": "#%%\n",
     "is_executing": true
    }
   }
  },
  {
   "cell_type": "code",
   "execution_count": 26,
   "outputs": [],
   "source": [
    "# Построим модель\n",
    "class CNN(torch.nn.Module):\n",
    "    def __init__(self, classes):\n",
    "        super(CNN, self).__init__()\n",
    "        # Слой операций трансформации признакового пространства при помощи операций сверток:\n",
    "        self.convolutional_layers = torch.nn.Sequential(\n",
    "            torch.nn.Conv2d(in_channels=1, out_channels=32, kernel_size=3, stride=2),\n",
    "            torch.nn.ReLU(),\n",
    "            torch.nn.Conv2d(in_channels=32, out_channels=64, kernel_size=3, stride=2),\n",
    "            torch.nn.ReLU(),\n",
    "            torch.nn.Conv2d(in_channels=64, out_channels=128, kernel_size=3, stride=2),\n",
    "            torch.nn.ReLU()\n",
    "        )\n",
    "        # Полезные ссылки для рассчета формы и измерений сверток\n",
    "        # https://github.com/vdumoulin/conv_arithmetic\n",
    "        # Полносвязный слой отвечающий за классификатор\n",
    "        self.dense_layers = torch.nn.Sequential(\n",
    "            torch.nn.Dropout(),\n",
    "            torch.nn.Linear(128 * 2 * 2, 512),\n",
    "            torch.nn.ReLU(),\n",
    "            torch.nn.Dropout(0.2),\n",
    "            torch.nn.Linear(512, classes)\n",
    "        )\n",
    "    # Метод отвечающий за комбинацию слоёв сверточной нейронной сети и метод прямого распространения ошибки\n",
    "    def forward(self, X):\n",
    "        out = self.convolutional_layers(X)\n",
    "        out = out.view(out.size(0), -1)\n",
    "        out = self.dense_layers(out)\n",
    "        return out\n"
   ],
   "metadata": {
    "collapsed": false,
    "pycharm": {
     "name": "#%%\n"
    }
   }
  },
  {
   "cell_type": "code",
   "execution_count": 27,
   "outputs": [],
   "source": [
    "# инициализируем модель сверточной нейронной сети построенную выше\n",
    "model = CNN(classes=classes)"
   ],
   "metadata": {
    "collapsed": false,
    "pycharm": {
     "name": "#%%\n"
    }
   }
  },
  {
   "cell_type": "code",
   "execution_count": 28,
   "outputs": [
    {
     "name": "stdout",
     "output_type": "stream",
     "text": [
      "cuda:0\n"
     ]
    }
   ],
   "source": [
    "# Перенесем все на устройство которое нам необходимо (если есть GPU переводим на GPU если нет, оставляем модель для обучения на CPU)\n",
    "device = torch.device(\"cuda:0\" if torch.cuda.is_available() else \"cpu\")\n",
    "print(device)"
   ],
   "metadata": {
    "collapsed": false,
    "pycharm": {
     "name": "#%%\n"
    }
   }
  },
  {
   "cell_type": "code",
   "execution_count": 29,
   "outputs": [
    {
     "data": {
      "text/plain": "CNN(\n  (convolutional_layers): Sequential(\n    (0): Conv2d(1, 32, kernel_size=(3, 3), stride=(2, 2))\n    (1): ReLU()\n    (2): Conv2d(32, 64, kernel_size=(3, 3), stride=(2, 2))\n    (3): ReLU()\n    (4): Conv2d(64, 128, kernel_size=(3, 3), stride=(2, 2))\n    (5): ReLU()\n  )\n  (dense_layers): Sequential(\n    (0): Dropout(p=0.5, inplace=False)\n    (1): Linear(in_features=512, out_features=512, bias=True)\n    (2): ReLU()\n    (3): Dropout(p=0.2, inplace=False)\n    (4): Linear(in_features=512, out_features=10, bias=True)\n  )\n)"
     },
     "execution_count": 29,
     "metadata": {},
     "output_type": "execute_result"
    }
   ],
   "source": [
    "model.to(device)"
   ],
   "metadata": {
    "collapsed": false,
    "pycharm": {
     "name": "#%%\n"
    }
   }
  },
  {
   "cell_type": "code",
   "execution_count": 30,
   "outputs": [],
   "source": [
    "# Зададим функцию потерь и метод градиентного спуска\n",
    "loss = torch.nn.CrossEntropyLoss()\n",
    "optimizer = torch.optim.Adam(model.parameters())"
   ],
   "metadata": {
    "collapsed": false,
    "pycharm": {
     "name": "#%%\n"
    }
   }
  },
  {
   "cell_type": "code",
   "execution_count": 31,
   "outputs": [],
   "source": [
    "# Создадим DataLoader для того чтобы передавать данные по батчам\n",
    "batch_size = 256\n",
    "train_loader = torch.utils.data.DataLoader(dataset=train_dataset,\n",
    "                                           batch_size=batch_size,\n",
    "                                           shuffle=True)\n",
    "test_loader = torch.utils.data.DataLoader(dataset=test_dataset,\n",
    "                                     batch_size=batch_size,\n",
    "                                     shuffle=False)"
   ],
   "metadata": {
    "collapsed": false,
    "pycharm": {
     "name": "#%%\n"
    }
   }
  },
  {
   "cell_type": "code",
   "execution_count": 34,
   "outputs": [],
   "source": [
    "# Создадим функцию которая будет отвечать за обучение модельки (полезно чтобы каждый раз не писать стандартные шаги предназначенные для тренировки)\n",
    "def batch_GD(model, loss, optimizer, train_loader, test_loader, epochs):\n",
    "  train_losses = np.zeros(epochs)\n",
    "  test_losses = np.zeros(epochs)\n",
    "\n",
    "  for it in range(epochs):\n",
    "    model.train()\n",
    "    t0 = datetime.datetime.now()\n",
    "    train_loss = []\n",
    "    for inputs, targets in train_loader:\n",
    "      inputs, targets = inputs.to(device), targets.to(device)\n",
    "      optimizer.zero_grad()\n",
    "      outputs = model(inputs)\n",
    "      losses = loss(outputs, targets)\n",
    "      losses.backward()\n",
    "      optimizer.step()\n",
    "      train_loss.append(losses.item())\n",
    "    train_loss = np.mean(train_loss)\n",
    "\n",
    "    model.eval()\n",
    "    test_loss = []\n",
    "    for inputs, targets in test_loader:\n",
    "      inputs, targets = inputs.to(device), targets.to(device)\n",
    "      outputs = model(inputs)\n",
    "      losses = loss(outputs, targets)\n",
    "      test_loss.append(losses.item())\n",
    "    test_loss = np.mean(test_loss)\n",
    "\n",
    "    train_losses[it] = train_loss\n",
    "    test_losses[it] = test_loss\n",
    "\n",
    "    dt = datetime.datetime.now() - t0\n",
    "    print(f'Epoch {it+1}/{epochs}  Train Loss: {train_loss:.4f}  Test Loss: {test_loss:.4f}  Duration: {dt}')\n",
    "\n",
    "  return train_losses, test_losses"
   ],
   "metadata": {
    "collapsed": false,
    "pycharm": {
     "name": "#%%\n"
    }
   }
  },
  {
   "cell_type": "code",
   "execution_count": 35,
   "outputs": [
    {
     "name": "stdout",
     "output_type": "stream",
     "text": [
      "Epoch 1/15, Train Loss: 0.7643,       Test Loss: 0.5287, Duration: 0:00:07.567817\n",
      "Epoch 2/15, Train Loss: 0.5072,       Test Loss: 0.4507, Duration: 0:00:07.119001\n",
      "Epoch 3/15, Train Loss: 0.4480,       Test Loss: 0.4119, Duration: 0:00:07.086095\n",
      "Epoch 4/15, Train Loss: 0.4116,       Test Loss: 0.3817, Duration: 0:00:07.052000\n",
      "Epoch 5/15, Train Loss: 0.3889,       Test Loss: 0.3649, Duration: 0:00:07.210001\n",
      "Epoch 6/15, Train Loss: 0.3682,       Test Loss: 0.3602, Duration: 0:00:07.179000\n",
      "Epoch 7/15, Train Loss: 0.3508,       Test Loss: 0.3438, Duration: 0:00:07.117999\n",
      "Epoch 8/15, Train Loss: 0.3364,       Test Loss: 0.3379, Duration: 0:00:07.165096\n",
      "Epoch 9/15, Train Loss: 0.3227,       Test Loss: 0.3244, Duration: 0:00:06.869130\n",
      "Epoch 10/15, Train Loss: 0.3114,       Test Loss: 0.3077, Duration: 0:00:06.821733\n",
      "Epoch 11/15, Train Loss: 0.3000,       Test Loss: 0.3103, Duration: 0:00:07.134559\n",
      "Epoch 12/15, Train Loss: 0.2886,       Test Loss: 0.2983, Duration: 0:00:07.023746\n",
      "Epoch 13/15, Train Loss: 0.2835,       Test Loss: 0.2924, Duration: 0:00:07.072000\n",
      "Epoch 14/15, Train Loss: 0.2753,       Test Loss: 0.2970, Duration: 0:00:07.157041\n",
      "Epoch 15/15, Train Loss: 0.2664,       Test Loss: 0.2844, Duration: 0:00:06.924539\n"
     ]
    }
   ],
   "source": [
    "train_losses, test_losses = batch_GD(\n",
    "    model, loss, optimizer, train_loader, test_loader, epochs=15)"
   ],
   "metadata": {
    "collapsed": false,
    "pycharm": {
     "name": "#%%\n"
    }
   }
  },
  {
   "cell_type": "code",
   "execution_count": 36,
   "outputs": [
    {
     "data": {
      "text/plain": "<Figure size 432x288 with 1 Axes>",
      "image/png": "[encoded data removed]"
     },
     "metadata": {
      "needs_background": "light"
     },
     "output_type": "display_data"
    }
   ],
   "source": [
    "plt.plot(train_losses, label='train loss')\n",
    "plt.plot(test_losses, label='test loss')\n",
    "plt.legend()\n",
    "plt.show()"
   ],
   "metadata": {
    "collapsed": false,
    "pycharm": {
     "name": "#%%\n"
    }
   }
  },
  {
   "cell_type": "code",
   "execution_count": 37,
   "outputs": [
    {
     "name": "stdout",
     "output_type": "stream",
     "text": [
      "Train acc: 0.9227, Test acc: 0.8940\n"
     ]
    }
   ],
   "source": [
    "# Accuracy\n",
    "\n",
    "model.eval()\n",
    "n_correct = 0.\n",
    "n_total = 0.\n",
    "for inputs, targets in train_loader:\n",
    "  # move data to GPU\n",
    "  inputs, targets = inputs.to(device), targets.to(device)\n",
    "  # Forward pass\n",
    "  outputs = model(inputs)\n",
    "  # Get prediction\n",
    "  # torch.max returns both max and argmax\n",
    "  _, predictions = torch.max(outputs, 1)\n",
    "  # update counts\n",
    "  n_correct += (predictions == targets).sum().item()\n",
    "  n_total += targets.shape[0]\n",
    "\n",
    "\n",
    "train_acc = n_correct / n_total\n",
    "\n",
    "\n",
    "n_correct = 0.\n",
    "n_total = 0.\n",
    "for inputs, targets in test_loader:\n",
    "  # move data to GPU\n",
    "  inputs, targets = inputs.to(device), targets.to(device)\n",
    "  # Forward pass\n",
    "  outputs = model(inputs)\n",
    "  # Get prediction\n",
    "  # torch.max returns both max and argmax\n",
    "  _, predictions = torch.max(outputs, 1)\n",
    "  # update counts\n",
    "  n_correct += (predictions == targets).sum().item()\n",
    "  n_total += targets.shape[0]\n",
    "\n",
    "test_acc = n_correct / n_total\n",
    "print(f\"Train acc: {train_acc:.4f}, Test acc: {test_acc:.4f}\")"
   ],
   "metadata": {
    "collapsed": false,
    "pycharm": {
     "name": "#%%\n"
    }
   }
  },
  {
   "cell_type": "code",
   "execution_count": 38,
   "outputs": [],
   "source": [
    "# Confusion matrix\n",
    "from sklearn.metrics import confusion_matrix\n",
    "import itertools\n",
    "\n",
    "def plot_confusion_matrix(cm, classes,\n",
    "                          normalize=False,\n",
    "                          title='Confusion matrix',\n",
    "                          cmap=plt.cm.Blues):\n",
    "  \"\"\"\n",
    "  This function prints and plots the confusion matrix.\n",
    "  Normalization can be applied by setting `normalize=True`.\n",
    "  \"\"\"\n",
    "  if normalize:\n",
    "      cm = cm.astype('float') / cm.sum(axis=1)[:, np.newaxis]\n",
    "      print(\"Normalized confusion matrix\")\n",
    "  else:\n",
    "      print('Confusion matrix, without normalization')\n",
    "\n",
    "  print(cm)\n",
    "\n",
    "  plt.imshow(cm, interpolation='nearest', cmap=cmap)\n",
    "  plt.title(title)\n",
    "  plt.colorbar()\n",
    "  tick_marks = np.arange(len(classes))\n",
    "  plt.xticks(tick_marks, classes, rotation=45)\n",
    "  plt.yticks(tick_marks, classes)\n",
    "\n",
    "  fmt = '.2f' if normalize else 'd'\n",
    "  thresh = cm.max() / 2.\n",
    "  for i, j in itertools.product(range(cm.shape[0]), range(cm.shape[1])):\n",
    "      plt.text(j, i, format(cm[i, j], fmt),\n",
    "               horizontalalignment=\"center\",\n",
    "               color=\"white\" if cm[i, j] > thresh else \"black\")\n",
    "\n",
    "  plt.tight_layout()\n",
    "  plt.ylabel('True label')\n",
    "  plt.xlabel('Predicted label')\n",
    "  plt.show()"
   ],
   "metadata": {
    "collapsed": false,
    "pycharm": {
     "name": "#%%\n"
    }
   }
  },
  {
   "cell_type": "code",
   "execution_count": 39,
   "outputs": [
    {
     "name": "stdout",
     "output_type": "stream",
     "text": [
      "Confusion matrix, without normalization\n",
      "[[859   1  28  26   2   1  78   0   5   0]\n",
      " [  2 974   0  17   3   0   2   0   2   0]\n",
      " [ 13   1 833   9  77   0  66   0   1   0]\n",
      " [ 13   1  17 916  30   0  20   0   3   0]\n",
      " [  0   1  37  26 850   0  85   0   1   0]\n",
      " [  0   0   0   2   0 973   0  17   0   8]\n",
      " [121   0  79  28 104   0 658   0  10   0]\n",
      " [  0   0   0   0   0  11   0 931   0  58]\n",
      " [  1   1   6   2   5   2   3   4 976   0]\n",
      " [  1   0   0   0   0   4   0  24   1 970]]\n"
     ]
    },
    {
     "data": {
      "text/plain": "<Figure size 432x288 with 2 Axes>",
      "image/png": "[encoded data removed]"
     },
     "metadata": {
      "needs_background": "light"
     },
     "output_type": "display_data"
    }
   ],
   "source": [
    "# get all predictions in an array and plot confusion matrix\n",
    "\n",
    "x_test = test_dataset.data.numpy()\n",
    "y_test = test_dataset.targets.numpy()\n",
    "p_test = np.array([])\n",
    "for inputs, targets in test_loader:\n",
    "  # move data to GPU\n",
    "  inputs, targets = inputs.to(device), targets.to(device)\n",
    "\n",
    "  # Forward pass\n",
    "  outputs = model(inputs)\n",
    "\n",
    "  # Get prediction\n",
    "  _, predictions = torch.max(outputs, 1)\n",
    "\n",
    "  # update p_test\n",
    "  p_test = np.concatenate((p_test, predictions.cpu().numpy()))\n",
    "\n",
    "cm = confusion_matrix(y_test, p_test)\n",
    "plot_confusion_matrix(cm, list(range(10)))"
   ],
   "metadata": {
    "collapsed": false,
    "pycharm": {
     "name": "#%%\n"
    }
   }
  },
  {
   "cell_type": "code",
   "execution_count": 40,
   "outputs": [],
   "source": [
    "# Label mapping\n",
    "labels = '''T-shirt/top\n",
    "Trouser\n",
    "Pullover\n",
    "Dress\n",
    "Coat\n",
    "Sandal\n",
    "Shirt\n",
    "Sneaker\n",
    "Bag\n",
    "Ankle boot'''.split(\"\\n\")"
   ],
   "metadata": {
    "collapsed": false,
    "pycharm": {
     "name": "#%%\n"
    }
   }
  },
  {
   "cell_type": "code",
   "execution_count": 41,
   "outputs": [
    {
     "data": {
      "text/plain": "<Figure size 432x288 with 1 Axes>",
      "image/png": "[encoded data removed]"
     },
     "metadata": {
      "needs_background": "light"
     },
     "output_type": "display_data"
    }
   ],
   "source": [
    "# Show some misclassified examples\n",
    "p_test = p_test.astype(np.uint8)\n",
    "misclassified_idx = np.where(p_test != y_test)[0]\n",
    "i = np.random.choice(misclassified_idx)\n",
    "plt.imshow(x_test[i].reshape(28,28), cmap='gray')\n",
    "plt.title(\"True label: %s Predicted: %s\" % (labels[y_test[i]], labels[p_test[i]]));"
   ],
   "metadata": {
    "collapsed": false,
    "pycharm": {
     "name": "#%%\n"
    }
   }
  },
  {
   "cell_type": "code",
   "execution_count": null,
   "outputs": [],
   "source": [],
   "metadata": {
    "collapsed": false,
    "pycharm": {
     "name": "#%%\n"
    }
   }
  }
 ],
 "metadata": {
  "kernelspec": {
   "display_name": "Python 3",
   "language": "python",
   "name": "python3"
  },
  "language_info": {
   "codemirror_mode": {
    "name": "ipython",
    "version": 2
   },
   "file_extension": ".py",
   "mimetype": "text/x-python",
   "name": "python",
   "nbconvert_exporter": "python",
   "pygments_lexer": "ipython2",
   "version": "2.7.6"
  }
 },
 "nbformat": 4,
 "nbformat_minor": 0
}