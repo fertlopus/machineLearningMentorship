{
 "cells": [
  {
   "cell_type": "code",
   "execution_count": 257,
   "metadata": {
    "ExecuteTime": {
     "end_time": "2019-11-14T21:34:19.658915Z",
     "start_time": "2019-11-14T21:34:19.656278Z"
    },
    "colab": {},
    "colab_type": "code",
    "id": "HjmIRXdQwwUo",
    "pycharm": {
     "name": "#%%\n"
    }
   },
   "outputs": [],
   "source": [
    "import torch\n",
    "from torch import nn\n",
    "import torchvision as tv\n",
    "import matplotlib.pyplot as plt"
   ]
  },
  {
   "cell_type": "markdown",
   "metadata": {
    "pycharm": {
     "name": "#%% md\n"
    }
   },
   "source": [
    "## Аугментация данных"
   ]
  },
  {
   "cell_type": "code",
   "execution_count": 421,
   "metadata": {
    "ExecuteTime": {
     "end_time": "2019-11-15T17:28:28.506033Z",
     "start_time": "2019-11-15T17:28:28.491475Z"
    },
    "pycharm": {
     "name": "#%%\n"
    }
   },
   "outputs": [],
   "source": [
    "def show_images(imgs, num_rows, num_cols, scale=2):\n",
    "    figsize = (num_cols * scale, num_rows * scale)\n",
    "    _, axes = plt.subplots(num_rows, num_cols, figsize=figsize)\n",
    "    for i in range(num_rows):\n",
    "        for j in range(num_cols):\n",
    "            axes[i][j].imshow(imgs[i * num_cols + j], cmap='gray')\n",
    "            axes[i][j].axes.get_xaxis().set_visible(False)\n",
    "            axes[i][j].axes.get_yaxis().set_visible(False)\n",
    "    plt.show()"
   ]
  },
  {
   "cell_type": "code",
   "execution_count": 422,
   "metadata": {
    "ExecuteTime": {
     "end_time": "2019-11-15T17:28:38.418645Z",
     "start_time": "2019-11-15T17:28:38.414498Z"
    },
    "pycharm": {
     "name": "#%%\n"
    }
   },
   "outputs": [],
   "source": [
    "def apply(img, aug, num_rows=2, num_cols=4, scale=2):\n",
    "    Y = [aug(img) for _ in range(num_rows * num_cols)]\n",
    "    show_images(Y, num_rows, num_cols, scale)"
   ]
  },
  {
   "cell_type": "code",
   "execution_count": null,
   "metadata": {
    "ExecuteTime": {
     "end_time": "2019-11-15T17:30:23.183858Z",
     "start_time": "2019-11-15T17:30:22.964600Z"
    },
    "scrolled": true,
    "pycharm": {
     "name": "#%%\n",
     "is_executing": true
    }
   },
   "outputs": [],
   "source": [
    "dataset = tv.datasets.MNIST('.', train=True, download=True)\n",
    "img = dataset[2][0]\n",
    "plt.imshow(img, cmap='gray')"
   ]
  },
  {
   "cell_type": "code",
   "execution_count": 425,
   "metadata": {
    "ExecuteTime": {
     "end_time": "2019-11-15T17:29:47.238113Z",
     "start_time": "2019-11-15T17:29:47.232030Z"
    },
    "pycharm": {
     "name": "#%%\n"
    }
   },
   "outputs": [
    {
     "data": {
      "text/plain": [
       "PIL.Image.Image"
      ]
     },
     "execution_count": 425,
     "metadata": {},
     "output_type": "execute_result"
    }
   ],
   "source": [
    "type(img)"
   ]
  },
  {
   "cell_type": "code",
   "execution_count": null,
   "metadata": {
    "ExecuteTime": {
     "end_time": "2019-11-15T17:30:50.830331Z",
     "start_time": "2019-11-15T17:30:50.539558Z"
    },
    "pycharm": {
     "name": "#%%\n",
     "is_executing": true
    }
   },
   "outputs": [],
   "source": [
    "apply(img, tv.transforms.RandomHorizontalFlip())"
   ]
  },
  {
   "cell_type": "code",
   "execution_count": null,
   "metadata": {
    "ExecuteTime": {
     "end_time": "2019-11-15T17:31:01.631398Z",
     "start_time": "2019-11-15T17:31:01.341460Z"
    },
    "pycharm": {
     "name": "#%%\n",
     "is_executing": true
    }
   },
   "outputs": [],
   "source": [
    "apply(img, tv.transforms.RandomVerticalFlip())"
   ]
  },
  {
   "cell_type": "code",
   "execution_count": null,
   "metadata": {
    "ExecuteTime": {
     "end_time": "2019-11-15T17:31:47.992686Z",
     "start_time": "2019-11-15T17:31:47.705403Z"
    },
    "pycharm": {
     "name": "#%%\n",
     "is_executing": true
    }
   },
   "outputs": [],
   "source": [
    "## A crop of random size (default: of 0.08 to 1.0) of the original size and a random aspect ratio\n",
    "## (default: of 3/4 to 4/3) of the original aspect ratio is made.\n",
    "## This crop is finally resized to given size. \n",
    "apply(img, tv.transforms.RandomResizedCrop((20,20), scale=(0.1, 1.), ratio=(0.5, 2)))"
   ]
  },
  {
   "cell_type": "code",
   "execution_count": null,
   "metadata": {
    "ExecuteTime": {
     "end_time": "2019-11-15T17:32:23.663738Z",
     "start_time": "2019-11-15T17:32:23.365084Z"
    },
    "pycharm": {
     "name": "#%%\n",
     "is_executing": true
    }
   },
   "outputs": [],
   "source": [
    "augs = tv.transforms.Compose([\n",
    "    tv.transforms.RandomHorizontalFlip(),\n",
    "    tv.transforms.RandomVerticalFlip(),\n",
    "    tv.transforms.RandomResizedCrop(\n",
    "        (200, 200), scale=(0.1, 1), ratio=(0.5, 2))])\n",
    "apply(img, augs)"
   ]
  },
  {
   "cell_type": "code",
   "execution_count": null,
   "metadata": {
    "ExecuteTime": {
     "end_time": "2019-11-15T17:33:04.661763Z",
     "start_time": "2019-11-15T17:33:04.055184Z"
    },
    "pycharm": {
     "name": "#%%\n",
     "is_executing": true
    }
   },
   "outputs": [],
   "source": [
    "augs = tv.transforms.Compose([\n",
    "    tv.transforms.RandomHorizontalFlip(),\n",
    "    tv.transforms.RandomVerticalFlip(),\n",
    "    tv.transforms.RandomResizedCrop(\n",
    "        (28, 28), scale=(0.1, 1), ratio=(0.5, 2)),\n",
    "    tv.transforms.ToTensor()])\n",
    "dataset = tv.datasets.MNIST('.', train=True, transform=augs, download=True)\n",
    "loader = torch.utils.data.DataLoader(dataset, batch_size=16)\n",
    "\n",
    "for X, _ in loader:\n",
    "    X = X.reshape(16, 28, 28)\n",
    "    show_images(X, 4, 4)\n",
    "    break"
   ]
  },
  {
   "cell_type": "code",
   "execution_count": null,
   "metadata": {
    "pycharm": {
     "name": "#%%\n"
    }
   },
   "outputs": [],
   "source": []
  }
 ],
 "metadata": {
  "accelerator": "GPU",
  "colab": {
   "name": "Материалы.ipynb",
   "provenance": []
  },
  "kernelspec": {
   "display_name": "Python 3",
   "language": "python",
   "name": "python3"
  },
  "language_info": {
   "codemirror_mode": {
    "name": "ipython",
    "version": 3
   },
   "file_extension": ".py",
   "mimetype": "text/x-python",
   "name": "python",
   "nbconvert_exporter": "python",
   "pygments_lexer": "ipython3",
   "version": "3.7.1"
  }
 },
 "nbformat": 4,
 "nbformat_minor": 1
}