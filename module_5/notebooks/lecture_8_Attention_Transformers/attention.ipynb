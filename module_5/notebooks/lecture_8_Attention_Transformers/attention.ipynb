{
 "cells": [
  {
   "cell_type": "code",
   "execution_count": 2,
   "metadata": {
    "collapsed": true,
    "pycharm": {
     "name": "#%%\n"
    }
   },
   "outputs": [],
   "source": [
    "import torch\n",
    "import numpy as np\n",
    "import warnings\n",
    "\n",
    "warnings.filterwarnings(\"ignore\")"
   ]
  },
  {
   "cell_type": "markdown",
   "source": [
    "# Basic attention mechanism:"
   ],
   "metadata": {
    "collapsed": false,
    "pycharm": {
     "name": "#%% md\n"
    }
   }
  },
  {
   "cell_type": "code",
   "execution_count": 11,
   "outputs": [],
   "source": [
    "# Basic attention mechanism\n",
    "tokenized_sentence = torch.tensor([0, 7, 5, 9, 11, 8, 3, 2])\n",
    "embedding = torch.nn.Embedding(12, 12)\n",
    "embedded_sentence = embedding(tokenized_sentence).detach()\n",
    "\n",
    "# считаем скалярное произведение между i-ым и j-ым представлением слов в эмбеддинге\n",
    "omega = embedded_sentence.matmul(embedded_sentence.T)"
   ],
   "metadata": {
    "collapsed": false,
    "pycharm": {
     "name": "#%%\n"
    }
   }
  },
  {
   "cell_type": "code",
   "execution_count": 13,
   "outputs": [
    {
     "data": {
      "text/plain": "torch.Size([8, 8])"
     },
     "execution_count": 13,
     "metadata": {},
     "output_type": "execute_result"
    }
   ],
   "source": [
    "omega.shape"
   ],
   "metadata": {
    "collapsed": false,
    "pycharm": {
     "name": "#%%\n"
    }
   }
  },
  {
   "cell_type": "code",
   "execution_count": 14,
   "outputs": [],
   "source": [
    "# softmax --> attention_weights\n",
    "attention_weights = torch.nn.functional.softmax(omega, dim=1)"
   ],
   "metadata": {
    "collapsed": false,
    "pycharm": {
     "name": "#%%\n"
    }
   }
  },
  {
   "cell_type": "code",
   "execution_count": 19,
   "outputs": [],
   "source": [
    "context_vectors = torch.matmul(attention_weights, embedded_sentence)"
   ],
   "metadata": {
    "collapsed": false,
    "pycharm": {
     "name": "#%%\n"
    }
   }
  },
  {
   "cell_type": "code",
   "execution_count": 21,
   "outputs": [
    {
     "data": {
      "text/plain": "torch.Size([8, 12])"
     },
     "execution_count": 21,
     "metadata": {},
     "output_type": "execute_result"
    }
   ],
   "source": [
    "context_vectors.shape"
   ],
   "metadata": {
    "collapsed": false,
    "pycharm": {
     "name": "#%%\n"
    }
   }
  },
  {
   "cell_type": "markdown",
   "source": [
    "# Self-Attention aka Attention through dot-product:"
   ],
   "metadata": {
    "collapsed": false,
    "pycharm": {
     "name": "#%% md\n"
    }
   }
  },
  {
   "cell_type": "code",
   "execution_count": 23,
   "outputs": [],
   "source": [
    "d = embedded_sentence.shape[1]\n",
    "\n",
    "U_q = torch.rand(d, d)\n",
    "U_k = torch.rand(d, d)\n",
    "U_v = torch.rand(d, d)\n",
    "\n",
    "# рассчитать query, keys и vals нашей последовательности\n",
    "keys = U_k.matmul(embedded_sentence.T).T\n",
    "values = U_v.matmul(embedded_sentence.T).T\n",
    "query = U_q.matmul(embedded_sentence.T).T\n",
    "\n",
    "# Считаем attention weights\n",
    "omega = query.matmul(keys.T)\n",
    "\n",
    "# Attention weights\n",
    "attention_weights = torch.nn.functional.softmax(omega / d ** 0.5, dim=0)\n"
   ],
   "metadata": {
    "collapsed": false,
    "pycharm": {
     "name": "#%%\n"
    }
   }
  },
  {
   "cell_type": "code",
   "execution_count": 25,
   "outputs": [
    {
     "data": {
      "text/plain": "torch.Size([8, 8])"
     },
     "execution_count": 25,
     "metadata": {},
     "output_type": "execute_result"
    }
   ],
   "source": [
    "attention_weights.shape"
   ],
   "metadata": {
    "collapsed": false,
    "pycharm": {
     "name": "#%%\n"
    }
   }
  },
  {
   "cell_type": "code",
   "execution_count": 26,
   "outputs": [
    {
     "data": {
      "text/plain": "tensor([[-7.5360e-03,  3.2416e-04, -1.4195e-02, -2.9190e-02, -1.2971e-02,\n         -2.3977e-02, -1.3986e-02, -2.0549e-02,  4.7757e-03,  2.4786e-03,\n          1.1371e-02,  2.6096e-03],\n        [-6.5697e-02,  1.1763e-02, -6.4170e-02, -8.2132e-02, -1.3475e-01,\n         -6.0997e-02, -1.3428e-01, -1.0798e-01, -5.3122e-02, -3.7381e-02,\n          8.4399e-03, -3.4060e-02],\n        [ 1.3254e-01,  8.6926e-02, -3.5757e-01, -5.9508e-01,  8.8479e-02,\n         -3.5136e-01,  1.8633e-01,  7.5474e-02,  6.4725e-01,  7.0064e-01,\n          6.3117e-01,  6.7068e-01],\n        [ 7.2395e+00,  7.8502e+00,  8.9919e+00,  5.2928e+00,  5.6007e+00,\n          7.7833e+00,  7.6186e+00,  9.6064e+00,  8.6596e+00,  6.4060e+00,\n          1.3511e+01,  7.8573e+00],\n        [ 3.4186e-02, -1.9933e-02, -6.7640e-02, -2.4487e-01,  1.0417e-01,\n         -2.1397e-01,  8.9445e-02, -6.1391e-02,  1.8659e-01,  1.2050e-01,\n          1.4870e-01,  1.1503e-01],\n        [-9.7492e-02,  1.6399e-02, -9.1928e-02, -1.0772e-01, -1.9973e-01,\n         -8.0766e-02, -1.9837e-01, -1.5598e-01, -8.6550e-02, -5.9550e-02,\n          2.0383e-03, -5.5225e-02],\n        [-4.4466e+00, -2.9870e+00, -5.3924e+00, -2.6405e+00, -6.9840e+00,\n         -4.4198e+00, -6.0504e+00, -8.5351e+00, -6.9690e+00, -3.9066e+00,\n         -8.3145e+00, -5.0201e+00],\n        [-1.8278e-02,  2.3921e-03, -2.3688e-02, -3.9751e-02, -3.5357e-02,\n         -3.1492e-02, -3.6145e-02, -3.7027e-02, -5.4919e-03, -4.6275e-03,\n          1.1234e-02, -3.9167e-03]])"
     },
     "execution_count": 26,
     "metadata": {},
     "output_type": "execute_result"
    }
   ],
   "source": [
    "context_vectors = attention_weights.matmul(values)\n",
    "context_vectors"
   ],
   "metadata": {
    "collapsed": false,
    "pycharm": {
     "name": "#%%\n"
    }
   }
  },
  {
   "cell_type": "code",
   "execution_count": null,
   "outputs": [],
   "source": [],
   "metadata": {
    "collapsed": false,
    "pycharm": {
     "name": "#%%\n"
    }
   }
  }
 ],
 "metadata": {
  "kernelspec": {
   "display_name": "Python 3",
   "language": "python",
   "name": "python3"
  },
  "language_info": {
   "codemirror_mode": {
    "name": "ipython",
    "version": 2
   },
   "file_extension": ".py",
   "mimetype": "text/x-python",
   "name": "python",
   "nbconvert_exporter": "python",
   "pygments_lexer": "ipython2",
   "version": "2.7.6"
  }
 },
 "nbformat": 4,
 "nbformat_minor": 0
}