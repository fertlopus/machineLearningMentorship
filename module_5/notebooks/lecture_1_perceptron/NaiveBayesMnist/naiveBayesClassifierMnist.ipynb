{
 "cells": [
  {
   "cell_type": "code",
   "execution_count": 11,
   "metadata": {
    "collapsed": true,
    "pycharm": {
     "name": "#%%\n"
    }
   },
   "outputs": [],
   "source": [
    "import numpy as np\n",
    "import matplotlib\n",
    "import matplotlib.pyplot as plt\n",
    "import pandas as pd\n",
    "from sklearn import datasets\n",
    "from sklearn.metrics import classification_report\n",
    "from tqdm import tqdm\n",
    "from time import time\n",
    "import numpy as np"
   ]
  },
  {
   "cell_type": "code",
   "execution_count": 12,
   "outputs": [],
   "source": [
    "from keras.datasets import mnist\n",
    "(x_train, y_train), (x_test, y_test) = mnist.load_data()\n",
    "\n",
    "x_train=x_train.reshape(60000,784)\n",
    "x_test=x_test.reshape(10000,784)\n",
    "\n",
    "data=np.zeros([70000,784])\n",
    "data[:60000,:]=x_train\n",
    "data[60000:,:]=x_test\n",
    "\n",
    "label=np.zeros(70000)\n",
    "label[:60000]= y_train\n",
    "label[60000:]= y_test\n",
    "\n",
    "train_filter = np.where((y_train == 1 ) | (y_train == 2))\n",
    "test_filter = np.where((y_test == 1) | (y_test == 2))"
   ],
   "metadata": {
    "collapsed": false,
    "pycharm": {
     "name": "#%%\n"
    }
   }
  },
  {
   "cell_type": "code",
   "execution_count": 13,
   "outputs": [],
   "source": [
    "x_train, y_train = x_train[train_filter], y_train[train_filter]\n",
    "x_test, y_test = x_test[test_filter], y_test[test_filter]"
   ],
   "metadata": {
    "collapsed": false,
    "pycharm": {
     "name": "#%%\n"
    }
   }
  },
  {
   "cell_type": "code",
   "execution_count": 6,
   "outputs": [],
   "source": [
    "def naive_bayes(data,label):\n",
    "\n",
    "    n_s,n_f=data.shape\n",
    "    classes=np.unique(label)\n",
    "    n_c=len(classes)\n",
    "\n",
    "    total_data=np.zeros([n_s,n_f+1])\n",
    "    total_data[:,:-1]=data\n",
    "    total_data[:,-1]=label\n",
    "\n",
    "    np.random.shuffle(total_data)\n",
    "    trainX=total_data[:60000,:]\n",
    "\n",
    "    np.random.shuffle(trainX)\n",
    "    testX=total_data[60000:,:]\n",
    "\n",
    "    np.random.shuffle(testX)\n",
    "    testX_c=testX[:,:-1]\n",
    "    testX_l=testX[:,-1]\n",
    "\n",
    "    mean_v=np.zeros([n_c,n_f])\n",
    "    var_v=np.zeros([n_c,n_f])\n",
    "\n",
    "    c_prob=[]\n",
    "    confusion_matrix=np.zeros([n_c,n_c])\n",
    "\n",
    "    d_acc=[]\n",
    "\n",
    "    for c in classes:\n",
    "        trainX_c=trainX[trainX[:,-1]==c]\n",
    "        trainX_c=trainX_c[:,:-1]\n",
    "        c_prob.append(len(trainX_c)/len(trainX))\n",
    "        mean_v[int(c),:]=trainX_c.mean(axis=0)\n",
    "        var_v[int(c),:]=trainX_c.var(axis=0)\n",
    "\n",
    "    var_v=var_v+1000\n",
    "    count=0\n",
    "\n",
    "    for i in range(testX.shape[0]):\n",
    "        lists=[]\n",
    "        for j in range(n_c):\n",
    "            numerator=np.exp(-((testX_c[i]-mean_v[j])**2)/(2*var_v[j]))\n",
    "            denominator=np.sqrt(2*np.pi*(var_v[j]))\n",
    "            prob_xc=numerator/denominator\n",
    "            ratio=np.sum(np.log(prob_xc))\n",
    "            lists.append(ratio)\n",
    "        pred=lists.index(max(lists))\n",
    "        if pred == testX_l[i]:\n",
    "            count=count+1\n",
    "            confusion_matrix[int(testX_l[i])][int(testX_l[i])]=confusion_matrix[int(testX_l[i])][int(testX_l[i])]+1\n",
    "        else:\n",
    "            for k in range(n_c):\n",
    "                if pred == k:\n",
    "                    confusion_matrix[int(testX_l[k])][int(testX_l[i])]=confusion_matrix[int(testX_l[k])][int(testX_l[i])]+1\n",
    "    for l in classes:\n",
    "        check=testX[testX[:,-1]==l]\n",
    "        a=(confusion_matrix[int(l)][int(l)])/check.shape[0]\n",
    "        d_acc.append(a)\n",
    "    o_acc=count/testX.shape[0]\n",
    "    return(d_acc,o_acc,confusion_matrix,mean_v,var_v)"
   ],
   "metadata": {
    "collapsed": false,
    "pycharm": {
     "name": "#%%\n"
    }
   }
  },
  {
   "cell_type": "code",
   "execution_count": 16,
   "outputs": [],
   "source": [
    "# Вызов классификатор из Naive Bayes Function\n",
    "(digit_accuracy,overall_accuracy,matrix,mean_v,var_v)=naive_bayes(data,label)"
   ],
   "metadata": {
    "collapsed": false,
    "pycharm": {
     "name": "#%%\n"
    }
   }
  },
  {
   "cell_type": "code",
   "execution_count": 17,
   "outputs": [
    {
     "name": "stdout",
     "output_type": "stream",
     "text": [
      "Digit (Individual Class) Accuracy of the Samples:\n"
     ]
    },
    {
     "data": {
      "text/plain": "  Digit  Digit Accuracy\n0     1        0.899092\n1     2        0.972801",
      "text/html": "<div>\n<style scoped>\n    .dataframe tbody tr th:only-of-type {\n        vertical-align: middle;\n    }\n\n    .dataframe tbody tr th {\n        vertical-align: top;\n    }\n\n    .dataframe thead th {\n        text-align: right;\n    }\n</style>\n<table border=\"1\" class=\"dataframe\">\n  <thead>\n    <tr style=\"text-align: right;\">\n      <th></th>\n      <th>Digit</th>\n      <th>Digit Accuracy</th>\n    </tr>\n  </thead>\n  <tbody>\n    <tr>\n      <th>0</th>\n      <td>1</td>\n      <td>0.899092</td>\n    </tr>\n    <tr>\n      <th>1</th>\n      <td>2</td>\n      <td>0.972801</td>\n    </tr>\n  </tbody>\n</table>\n</div>"
     },
     "execution_count": 17,
     "metadata": {},
     "output_type": "execute_result"
    }
   ],
   "source": [
    "digit=['1', '2']\n",
    "naive_df = pd.DataFrame(list(zip(digit, digit_accuracy)), columns =['Digit','Digit Accuracy'])\n",
    "print('Digit (Individual Class) Accuracy of the Samples:')\n",
    "naive_df"
   ],
   "metadata": {
    "collapsed": false,
    "pycharm": {
     "name": "#%%\n"
    }
   }
  },
  {
   "cell_type": "code",
   "execution_count": 20,
   "outputs": [
    {
     "name": "stdout",
     "output_type": "stream",
     "text": [
      "Overall Accuracy of Naive Bayes Model: 0.7975\n"
     ]
    },
    {
     "data": {
      "text/plain": "0.7975"
     },
     "execution_count": 20,
     "metadata": {},
     "output_type": "execute_result"
    }
   ],
   "source": [
    "print('Overall Accuracy of Naive Bayes Model: '+str(overall_accuracy))\n",
    "overall_accuracy"
   ],
   "metadata": {
    "collapsed": false,
    "pycharm": {
     "name": "#%%\n"
    }
   }
  },
  {
   "cell_type": "code",
   "execution_count": null,
   "outputs": [],
   "source": [],
   "metadata": {
    "collapsed": false,
    "pycharm": {
     "name": "#%%\n"
    }
   }
  }
 ],
 "metadata": {
  "kernelspec": {
   "display_name": "Python 3",
   "language": "python",
   "name": "python3"
  },
  "language_info": {
   "codemirror_mode": {
    "name": "ipython",
    "version": 2
   },
   "file_extension": ".py",
   "mimetype": "text/x-python",
   "name": "python",
   "nbconvert_exporter": "python",
   "pygments_lexer": "ipython2",
   "version": "2.7.6"
  }
 },
 "nbformat": 4,
 "nbformat_minor": 0
}