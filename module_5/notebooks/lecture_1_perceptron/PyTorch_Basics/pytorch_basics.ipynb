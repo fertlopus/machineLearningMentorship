{
 "cells": [
  {
   "cell_type": "markdown",
   "source": [
    "## Введение во фреймворк PyTorch\n",
    "\n",
    "**PyTorch** - оптимизированная библиотека для работы с тензорами, включающая набор пакетов для глубокого обучения. Основное понятие этой библиотеки - тензор (Tensor).\n",
    "Тензор - математический объект для хранения многомерных данных.\n",
    "\n",
    "Как мы видели в презентации тензор ранга 0 - это просто число или скаляр. Тензор ранга 1 - вектор, и аналогично тензор ранга 2 - матрица и тензор ранга n - n-мерный массив скалярных значений.\n",
    "\n",
    "-------\n",
    "Установка PyTorch:\n",
    "\n",
    "Установка осущетсвляется либо просто при помощи пакетного менеджера Pip/conda при помощи команды:\n",
    "\n",
    "```pip install torchvision -c pytorch```\n",
    "\n",
    "Но лучше заходить на официальный сайт фреймворка, выбирать свою спецификацию и выполнять установку предложенной коммандой.\n",
    "\n",
    "[Сайт фреймворка:](https://pytorch.org/)\n",
    "\n",
    "\n",
    "```pip3 install torch torchvision torchaudio```\n",
    "\n",
    "\n"
   ],
   "metadata": {
    "collapsed": false,
    "pycharm": {
     "name": "#%% md\n"
    }
   }
  },
  {
   "cell_type": "markdown",
   "source": [
    "# Создание Тензоров\n",
    "\n",
    "Тензор - фундаментальный объект фреймворка PyTorch и всего глубокого обучения. Задача тензоров - представить данные в числовом виде, чтобы их можно было бы использовать для обучения моделей машинного обучения или моделей нейронных сетей. Например RGB картинка может быть представленна в виде тензора с размерностью [3, 224, 224] где [color_channel, height, width], так как картинка имеет 3 цветовых канала (красный, зеленый и синий), высоту и ширину равную 224 пикселям."
   ],
   "metadata": {
    "collapsed": false,
    "pycharm": {
     "name": "#%% md\n"
    }
   }
  },
  {
   "cell_type": "code",
   "execution_count": 2,
   "outputs": [],
   "source": [
    "# Опишем функцию которая будет просто выводить информацию об объекте, чтобы не захламлять ненужным кодом ноутбук\n",
    "def describe(x):\n",
    "    print(\"Type: {}\".format(x.type()))\n",
    "    print(\"Shape/Size: {}\".format(x.shape))\n",
    "    print(\"Values: \\n{}\".format(x))"
   ],
   "metadata": {
    "collapsed": false,
    "pycharm": {
     "name": "#%%\n"
    },
    "ExecuteTime": {
     "end_time": "2023-07-17T17:20:43.842073Z",
     "start_time": "2023-07-17T17:20:43.812245Z"
    }
   }
  },
  {
   "cell_type": "markdown",
   "source": [
    "При помощи PytTytorch можно создавать тензоры множеством способов. Один из них состоит в том, чтобы задать для тензора случайные значения, просто указав нужные размерности:\n",
    "\n",
    "[Тензор и операции с тензорами, официальная документация.](https://pytorch.org/docs/stable/tensors.html)"
   ],
   "metadata": {
    "collapsed": false,
    "pycharm": {
     "name": "#%% md\n"
    }
   }
  },
  {
   "cell_type": "code",
   "execution_count": 3,
   "outputs": [
    {
     "name": "stdout",
     "output_type": "stream",
     "text": [
      "2.0.1\n"
     ]
    }
   ],
   "source": [
    "import torch\n",
    "print(torch.__version__)"
   ],
   "metadata": {
    "collapsed": false,
    "pycharm": {
     "name": "#%%\n"
    },
    "ExecuteTime": {
     "end_time": "2023-07-17T17:22:40.905842Z",
     "start_time": "2023-07-17T17:22:38.303361Z"
    }
   }
  },
  {
   "cell_type": "markdown",
   "source": [
    "#### Создание тензоров"
   ],
   "metadata": {
    "collapsed": false
   }
  },
  {
   "cell_type": "code",
   "execution_count": 4,
   "outputs": [
    {
     "name": "stdout",
     "output_type": "stream",
     "text": [
      "Type: torch.FloatTensor\n",
      "Shape/Size: torch.Size([2, 3])\n",
      "Values: \n",
      "tensor([[0., 0., 0.],\n",
      "        [0., 0., 0.]])\n"
     ]
    }
   ],
   "source": [
    "# torch.Tensor -> alias for torch.FloatTensor\n",
    "x_tensor = torch.Tensor(2, 3)\n",
    "describe(x_tensor)"
   ],
   "metadata": {
    "collapsed": false,
    "pycharm": {
     "name": "#%%\n",
     "is_executing": true
    },
    "ExecuteTime": {
     "end_time": "2023-07-17T17:23:11.078625Z",
     "start_time": "2023-07-17T17:23:10.990491Z"
    }
   }
  },
  {
   "cell_type": "markdown",
   "source": [
    "#### Scalar"
   ],
   "metadata": {
    "collapsed": false
   }
  },
  {
   "cell_type": "code",
   "execution_count": 5,
   "outputs": [
    {
     "name": "stdout",
     "output_type": "stream",
     "text": [
      "Type: torch.LongTensor\n",
      "Shape/Size: torch.Size([])\n",
      "Values: \n",
      "7\n"
     ]
    }
   ],
   "source": [
    "scalar = torch.tensor(7)\n",
    "describe(scalar)"
   ],
   "metadata": {
    "collapsed": false,
    "ExecuteTime": {
     "end_time": "2023-07-17T17:23:57.912512Z",
     "start_time": "2023-07-17T17:23:57.883868Z"
    }
   }
  },
  {
   "cell_type": "code",
   "execution_count": 6,
   "outputs": [
    {
     "data": {
      "text/plain": "0"
     },
     "execution_count": 6,
     "metadata": {},
     "output_type": "execute_result"
    }
   ],
   "source": [
    "# object's dimension\n",
    "scalar.ndim"
   ],
   "metadata": {
    "collapsed": false,
    "ExecuteTime": {
     "end_time": "2023-07-17T17:24:58.976901Z",
     "start_time": "2023-07-17T17:24:58.967506Z"
    }
   }
  },
  {
   "cell_type": "code",
   "execution_count": 7,
   "outputs": [
    {
     "data": {
      "text/plain": "7"
     },
     "execution_count": 7,
     "metadata": {},
     "output_type": "execute_result"
    }
   ],
   "source": [
    "# Get tensor back as Python's int object\n",
    "scalar.item()"
   ],
   "metadata": {
    "collapsed": false,
    "ExecuteTime": {
     "end_time": "2023-07-17T17:25:23.043259Z",
     "start_time": "2023-07-17T17:25:23.038112Z"
    }
   }
  },
  {
   "cell_type": "markdown",
   "source": [
    "#### Vectors:"
   ],
   "metadata": {
    "collapsed": false
   }
  },
  {
   "cell_type": "code",
   "execution_count": 8,
   "outputs": [
    {
     "name": "stdout",
     "output_type": "stream",
     "text": [
      "Type: torch.LongTensor\n",
      "Shape/Size: torch.Size([2])\n",
      "Values: \n",
      "tensor([42, 24])\n"
     ]
    }
   ],
   "source": [
    "vector = torch.tensor([42, 24])\n",
    "describe(vector)"
   ],
   "metadata": {
    "collapsed": false,
    "ExecuteTime": {
     "end_time": "2023-07-17T17:25:43.193393Z",
     "start_time": "2023-07-17T17:25:43.188353Z"
    }
   }
  },
  {
   "cell_type": "code",
   "execution_count": 9,
   "outputs": [
    {
     "data": {
      "text/plain": "1"
     },
     "execution_count": 9,
     "metadata": {},
     "output_type": "execute_result"
    }
   ],
   "source": [
    "vector.ndim"
   ],
   "metadata": {
    "collapsed": false,
    "ExecuteTime": {
     "end_time": "2023-07-17T17:26:00.928182Z",
     "start_time": "2023-07-17T17:26:00.923353Z"
    }
   }
  },
  {
   "cell_type": "markdown",
   "source": [
    "#### Matrix:"
   ],
   "metadata": {
    "collapsed": false
   }
  },
  {
   "cell_type": "code",
   "execution_count": 10,
   "outputs": [],
   "source": [
    "matrix = torch.tensor([\n",
    "    [22, 0, 12],\n",
    "    [13, 21, 22],\n",
    "    [44, 32, 21]\n",
    "])"
   ],
   "metadata": {
    "collapsed": false,
    "ExecuteTime": {
     "end_time": "2023-07-17T17:26:37.251362Z",
     "start_time": "2023-07-17T17:26:37.244611Z"
    }
   }
  },
  {
   "cell_type": "code",
   "execution_count": 11,
   "outputs": [
    {
     "name": "stdout",
     "output_type": "stream",
     "text": [
      "Type: torch.LongTensor\n",
      "Shape/Size: torch.Size([3, 3])\n",
      "Values: \n",
      "tensor([[22,  0, 12],\n",
      "        [13, 21, 22],\n",
      "        [44, 32, 21]])\n"
     ]
    }
   ],
   "source": [
    "describe(matrix)"
   ],
   "metadata": {
    "collapsed": false,
    "ExecuteTime": {
     "end_time": "2023-07-17T17:26:38.599391Z",
     "start_time": "2023-07-17T17:26:38.592838Z"
    }
   }
  },
  {
   "cell_type": "code",
   "execution_count": 12,
   "outputs": [
    {
     "data": {
      "text/plain": "2"
     },
     "execution_count": 12,
     "metadata": {},
     "output_type": "execute_result"
    }
   ],
   "source": [
    "matrix.ndim"
   ],
   "metadata": {
    "collapsed": false,
    "ExecuteTime": {
     "end_time": "2023-07-17T17:27:05.781108Z",
     "start_time": "2023-07-17T17:27:05.775831Z"
    }
   }
  },
  {
   "cell_type": "markdown",
   "source": [
    "#### Tensor:"
   ],
   "metadata": {
    "collapsed": false
   }
  },
  {
   "cell_type": "code",
   "execution_count": 13,
   "outputs": [],
   "source": [
    "tensor = torch.tensor([\n",
    "    [\n",
    "        [3, 6, 9, 10],\n",
    "        [11, 22, 33, 22],\n",
    "        [22, 32, 22, 11]\n",
    "    ],\n",
    "    [\n",
    "        [0, 0, 0, 1],\n",
    "        [0, 0, 0, 1],\n",
    "        [0, 0, 0, 1],\n",
    "    ],\n",
    "    [\n",
    "        [1, 0, 0, 1],\n",
    "        [0, 1, 0, 0],\n",
    "        [0, 1, 1, 0],\n",
    "    ],\n",
    "    [\n",
    "        [0, 0, 0, 1],\n",
    "        [0, 0, 0, 1],\n",
    "        [0, 0, 0, 1],\n",
    "    ],\n",
    "    [\n",
    "        [0, 0, 0, 1],\n",
    "        [0, 0, 0, 1],\n",
    "        [0, 0, 0, 1],\n",
    "    ],\n",
    "])"
   ],
   "metadata": {
    "collapsed": false,
    "ExecuteTime": {
     "end_time": "2023-07-17T17:27:31.594467Z",
     "start_time": "2023-07-17T17:27:31.590571Z"
    }
   }
  },
  {
   "cell_type": "code",
   "execution_count": 14,
   "outputs": [
    {
     "name": "stdout",
     "output_type": "stream",
     "text": [
      "Type: torch.LongTensor\n",
      "Shape/Size: torch.Size([5, 3, 4])\n",
      "Values: \n",
      "tensor([[[ 3,  6,  9, 10],\n",
      "         [11, 22, 33, 22],\n",
      "         [22, 32, 22, 11]],\n",
      "\n",
      "        [[ 0,  0,  0,  1],\n",
      "         [ 0,  0,  0,  1],\n",
      "         [ 0,  0,  0,  1]],\n",
      "\n",
      "        [[ 1,  0,  0,  1],\n",
      "         [ 0,  1,  0,  0],\n",
      "         [ 0,  1,  1,  0]],\n",
      "\n",
      "        [[ 0,  0,  0,  1],\n",
      "         [ 0,  0,  0,  1],\n",
      "         [ 0,  0,  0,  1]],\n",
      "\n",
      "        [[ 0,  0,  0,  1],\n",
      "         [ 0,  0,  0,  1],\n",
      "         [ 0,  0,  0,  1]]])\n"
     ]
    }
   ],
   "source": [
    "describe(tensor)"
   ],
   "metadata": {
    "collapsed": false,
    "ExecuteTime": {
     "end_time": "2023-07-17T17:27:33.796807Z",
     "start_time": "2023-07-17T17:27:33.791332Z"
    }
   }
  },
  {
   "cell_type": "code",
   "execution_count": 15,
   "outputs": [
    {
     "data": {
      "text/plain": "3"
     },
     "execution_count": 15,
     "metadata": {},
     "output_type": "execute_result"
    }
   ],
   "source": [
    "tensor.ndim"
   ],
   "metadata": {
    "collapsed": false,
    "ExecuteTime": {
     "end_time": "2023-07-17T17:27:57.588697Z",
     "start_time": "2023-07-17T17:27:57.583354Z"
    }
   }
  },
  {
   "cell_type": "code",
   "execution_count": 16,
   "outputs": [
    {
     "data": {
      "text/plain": "torch.Size([5, 3, 4])"
     },
     "execution_count": 16,
     "metadata": {},
     "output_type": "execute_result"
    }
   ],
   "source": [
    "tensor.shape"
   ],
   "metadata": {
    "collapsed": false,
    "ExecuteTime": {
     "end_time": "2023-07-17T17:28:06.876771Z",
     "start_time": "2023-07-17T17:28:06.870683Z"
    }
   }
  },
  {
   "cell_type": "markdown",
   "source": [
    "### Создание случайных тензоров:\n",
    "\n",
    "\n",
    "[Documentation](https://pytorch.org/docs/stable/generated/torch.rand.html)"
   ],
   "metadata": {
    "collapsed": false
   }
  },
  {
   "cell_type": "markdown",
   "source": [
    "Можно также создать тензор, инициализируя его случайными значениями из ```равномерного распределения по интервалу [0, 1)``` или ```стандартного нормального распределения```. Знать это важно так как такой способ будет использоваться в последующем для разного рода инициализаций в различных архитектурах нейронных сетей:"
   ],
   "metadata": {
    "collapsed": false,
    "pycharm": {
     "name": "#%% md\n"
    }
   }
  },
  {
   "cell_type": "code",
   "execution_count": 17,
   "outputs": [
    {
     "name": "stdout",
     "output_type": "stream",
     "text": [
      "Type: torch.FloatTensor\n",
      "Shape/Size: torch.Size([2, 3])\n",
      "Values: \n",
      "tensor([[0.7524, 0.4548, 0.6980],\n",
      "        [0.7420, 0.7527, 0.6934]])\n"
     ]
    }
   ],
   "source": [
    "x_tensor = torch.rand(2,3) # случайное равномерное распределение\n",
    "describe(x_tensor)"
   ],
   "metadata": {
    "collapsed": false,
    "pycharm": {
     "name": "#%%\n",
     "is_executing": true
    },
    "ExecuteTime": {
     "end_time": "2023-07-17T17:30:29.592318Z",
     "start_time": "2023-07-17T17:30:29.545491Z"
    }
   }
  },
  {
   "cell_type": "code",
   "execution_count": 42,
   "outputs": [
    {
     "name": "stdout",
     "output_type": "stream",
     "text": [
      "Type: torch.FloatTensor\n",
      "Shape/Size: torch.Size([2, 3])\n",
      "Values: \n",
      "tensor([[-0.7437,  0.3821, -0.9328],\n",
      "        [-0.1273,  0.5889, -2.2915]])\n"
     ]
    }
   ],
   "source": [
    "x_tensor = torch.randn(2,3)\n",
    "describe(x_tensor)"
   ],
   "metadata": {
    "collapsed": false,
    "pycharm": {
     "name": "#%%\n",
     "is_executing": true
    },
    "ExecuteTime": {
     "end_time": "2023-07-17T17:35:01.614959Z",
     "start_time": "2023-07-17T17:35:01.608747Z"
    }
   }
  },
  {
   "cell_type": "markdown",
   "source": [
    "Можно также создавать тензоры, заполненные одним и тем же скалярным значением. Для создания тензора из нулей или единиц существуют встроенные функции, а для заполнения конкретными значениями можно воспользоваться методом ```fill_()```\n",
    "\n",
    "\n",
    "\n",
    "Знак подчеркивания в методах объектов PyTorch означает что операция выполняется \"на месте\", то есть модифицирует данные объекта без создания новых объектов:"
   ],
   "metadata": {
    "collapsed": false,
    "pycharm": {
     "name": "#%% md\n"
    }
   }
  },
  {
   "cell_type": "code",
   "execution_count": 19,
   "outputs": [
    {
     "name": "stdout",
     "output_type": "stream",
     "text": [
      "Type: torch.FloatTensor\n",
      "Shape/Size: torch.Size([2, 3])\n",
      "Values: \n",
      "tensor([[0., 0., 0.],\n",
      "        [0., 0., 0.]])\n"
     ]
    }
   ],
   "source": [
    "# тензор из нулей\n",
    "zero_like_tensor = torch.zeros(2,3)\n",
    "describe(zero_like_tensor)"
   ],
   "metadata": {
    "collapsed": false,
    "pycharm": {
     "name": "#%%\n",
     "is_executing": true
    },
    "ExecuteTime": {
     "end_time": "2023-07-17T17:32:49.239850Z",
     "start_time": "2023-07-17T17:32:49.234731Z"
    }
   }
  },
  {
   "cell_type": "code",
   "execution_count": 20,
   "outputs": [
    {
     "name": "stdout",
     "output_type": "stream",
     "text": [
      "Type: torch.FloatTensor\n",
      "Shape/Size: torch.Size([2, 3])\n",
      "Values: \n",
      "tensor([[1., 1., 1.],\n",
      "        [1., 1., 1.]])\n"
     ]
    }
   ],
   "source": [
    "# тензор из 1\n",
    "ones_like_tensor = torch.ones(2, 3)\n",
    "describe(ones_like_tensor)"
   ],
   "metadata": {
    "collapsed": false,
    "pycharm": {
     "name": "#%%\n",
     "is_executing": true
    },
    "ExecuteTime": {
     "end_time": "2023-07-17T17:32:59.026580Z",
     "start_time": "2023-07-17T17:32:59.019179Z"
    }
   }
  },
  {
   "cell_type": "code",
   "execution_count": 43,
   "outputs": [
    {
     "name": "stdout",
     "output_type": "stream",
     "text": [
      "Type: torch.FloatTensor\n",
      "Shape/Size: torch.Size([2, 3])\n",
      "Values: \n",
      "tensor([[22., 22., 22.],\n",
      "        [22., 22., 22.]])\n"
     ]
    }
   ],
   "source": [
    "# заполнение нулевого тензора случайным скалярным значением\n",
    "zero_like_tensor.fill_(22)\n",
    "describe(zero_like_tensor)"
   ],
   "metadata": {
    "collapsed": false,
    "pycharm": {
     "name": "#%%\n",
     "is_executing": true
    },
    "ExecuteTime": {
     "end_time": "2023-07-17T17:35:57.249931Z",
     "start_time": "2023-07-17T17:35:57.242401Z"
    }
   }
  },
  {
   "cell_type": "markdown",
   "source": [
    "Range in Tensors:"
   ],
   "metadata": {
    "collapsed": false
   }
  },
  {
   "cell_type": "code",
   "execution_count": 46,
   "outputs": [
    {
     "data": {
      "text/plain": "tensor([0, 1, 2, 3, 4, 5, 6, 7, 8, 9])"
     },
     "execution_count": 46,
     "metadata": {},
     "output_type": "execute_result"
    }
   ],
   "source": [
    "# torch.range(2, 15)\n",
    "range_tensor = torch.arange(0, 10)\n",
    "range_tensor"
   ],
   "metadata": {
    "collapsed": false,
    "ExecuteTime": {
     "end_time": "2023-07-17T17:37:44.698954Z",
     "start_time": "2023-07-17T17:37:44.657649Z"
    }
   }
  },
  {
   "cell_type": "code",
   "execution_count": 47,
   "outputs": [
    {
     "data": {
      "text/plain": "tensor([ 1,  3,  5,  7,  9, 11, 13, 15, 17, 19, 21])"
     },
     "execution_count": 47,
     "metadata": {},
     "output_type": "execute_result"
    }
   ],
   "source": [
    "another_range_tensor = torch.arange(start=1, step=2, end=22)\n",
    "another_range_tensor"
   ],
   "metadata": {
    "collapsed": false,
    "ExecuteTime": {
     "end_time": "2023-07-17T17:38:17.442541Z",
     "start_time": "2023-07-17T17:38:17.437271Z"
    }
   }
  },
  {
   "cell_type": "code",
   "execution_count": 48,
   "outputs": [
    {
     "data": {
      "text/plain": "tensor([0, 0, 0, 0, 0, 0, 0, 0, 0, 0, 0])"
     },
     "execution_count": 48,
     "metadata": {},
     "output_type": "execute_result"
    }
   ],
   "source": [
    "# creating tensors like\n",
    "nills = torch.zeros_like(input=another_range_tensor)\n",
    "nills"
   ],
   "metadata": {
    "collapsed": false,
    "ExecuteTime": {
     "end_time": "2023-07-17T17:39:31.404613Z",
     "start_time": "2023-07-17T17:39:31.396945Z"
    }
   }
  },
  {
   "cell_type": "markdown",
   "source": [
    "У нас также есть возможность создавать тензоры декларативным образом, то есть используя уже заранее готовый список данных либо NumPy массив:\n",
    "\n",
    "! **Тензор PyTorch всегда можно преобразовать в массив numpy и наоборот, будьте внимательны с типом данных, в случае создания тензора из массива numpy типом данных будет являться DoubleTensor!**\n",
    "\n",
    "Возможность преобразования данных из массивов NumPy в тензоры PyTorch и наоборот играет важную роль при работе с унаследованными библиотеками, в которых используются числовые значения в формате NumPy.|"
   ],
   "metadata": {
    "collapsed": false,
    "pycharm": {
     "name": "#%% md\n"
    }
   }
  },
  {
   "cell_type": "code",
   "execution_count": 49,
   "outputs": [
    {
     "name": "stdout",
     "output_type": "stream",
     "text": [
      "Type: torch.FloatTensor\n",
      "Shape/Size: torch.Size([2, 3])\n",
      "Values: \n",
      "tensor([[1., 2., 3.],\n",
      "        [4., 5., 6.]])\n"
     ]
    }
   ],
   "source": [
    "some_array = ([\n",
    "    [1, 2, 3],\n",
    "    [4, 5, 6]\n",
    "])\n",
    "\n",
    "declarative_tensor = torch.Tensor(some_array)\n",
    "\n",
    "describe(declarative_tensor)"
   ],
   "metadata": {
    "collapsed": false,
    "pycharm": {
     "name": "#%%\n",
     "is_executing": true
    },
    "ExecuteTime": {
     "end_time": "2023-07-17T17:42:03.365715Z",
     "start_time": "2023-07-17T17:42:03.358797Z"
    }
   }
  },
  {
   "cell_type": "code",
   "execution_count": 52,
   "outputs": [
    {
     "name": "stdout",
     "output_type": "stream",
     "text": [
      "Type: torch.DoubleTensor\n",
      "Shape/Size: torch.Size([3, 5])\n",
      "Values: \n",
      "tensor([[0.3412, 0.4621, 0.1891, 0.0411, 0.6706],\n",
      "        [0.6413, 0.0761, 0.7915, 0.1222, 0.8971],\n",
      "        [0.0943, 0.5336, 0.0808, 0.2176, 0.6384]], dtype=torch.float64)\n"
     ]
    }
   ],
   "source": [
    "import numpy as np\n",
    "\n",
    "np_array = np.random.rand(3, 5)\n",
    "\n",
    "tensor_from_np = torch.tensor(np_array)\n",
    "describe(tensor_from_np)"
   ],
   "metadata": {
    "collapsed": false,
    "pycharm": {
     "name": "#%%\n",
     "is_executing": true
    },
    "ExecuteTime": {
     "end_time": "2023-07-17T17:44:37.848102Z",
     "start_time": "2023-07-17T17:44:37.837076Z"
    }
   }
  },
  {
   "cell_type": "code",
   "execution_count": 53,
   "outputs": [
    {
     "data": {
      "text/plain": "dtype('float64')"
     },
     "execution_count": 53,
     "metadata": {},
     "output_type": "execute_result"
    }
   ],
   "source": [
    "np_array.dtype"
   ],
   "metadata": {
    "collapsed": false,
    "ExecuteTime": {
     "end_time": "2023-07-17T17:44:53.296229Z",
     "start_time": "2023-07-17T17:44:53.240928Z"
    }
   }
  },
  {
   "cell_type": "markdown",
   "source": [
    "#### Tensor Datatypes\n",
    "\n",
    "Наиболее часто во время работы над моделями нейронных сетей, вы будете сталкиваться с 3 наиболее распространнеными ошибками в коде:\n",
    "1. Tensors are not right datatype\n",
    "2. Tensors are not right shape\n",
    "3. Tensors are not on the right device"
   ],
   "metadata": {
    "collapsed": false
   }
  },
  {
   "cell_type": "code",
   "execution_count": 54,
   "outputs": [
    {
     "name": "stdout",
     "output_type": "stream",
     "text": [
      "Type: torch.FloatTensor\n",
      "Shape/Size: torch.Size([3])\n",
      "Values: \n",
      "tensor([3., 6., 9.])\n"
     ]
    }
   ],
   "source": [
    "# Float 32 tensor\n",
    "float_32_tensor = torch.tensor([3.0, 6.0, 9.0],\n",
    "                               dtype=None, # e.g. float16, float32, bfloat16, complex32 etc.\n",
    "                               device=None, # \"cuda\" or \"cpu\"\n",
    "                               requires_grad=False) # for automatic differentiation process\n",
    "describe(float_32_tensor)"
   ],
   "metadata": {
    "collapsed": false,
    "ExecuteTime": {
     "end_time": "2023-07-17T17:49:55.252930Z",
     "start_time": "2023-07-17T17:49:55.248444Z"
    }
   }
  },
  {
   "cell_type": "code",
   "execution_count": 55,
   "outputs": [
    {
     "data": {
      "text/plain": "torch.float32"
     },
     "execution_count": 55,
     "metadata": {},
     "output_type": "execute_result"
    }
   ],
   "source": [
    "float_32_tensor.dtype"
   ],
   "metadata": {
    "collapsed": false,
    "ExecuteTime": {
     "end_time": "2023-07-17T17:50:23.216944Z",
     "start_time": "2023-07-17T17:50:23.211672Z"
    }
   }
  },
  {
   "cell_type": "markdown",
   "source": [
    "# Типы и Размер Тензоров"
   ],
   "metadata": {
    "collapsed": false,
    "pycharm": {
     "name": "#%% md\n"
    }
   }
  },
  {
   "cell_type": "markdown",
   "source": [
    "У каждого тензора есть тип и размер. Тип тензора по умолчанию при использовании конструктора torch.Tensor -> torch.FloatTensor.\n",
    "-----\n",
    "\n",
    "\n",
    "\n",
    "Также существуют возможности преобразовать тензор в другой тип (float, long, double и т.д.)\n",
    "Менять тип тензора можно либо при инициализации либо воспользовавшись одним из методов приведения типов.\n",
    "\n",
    "Всего 2 способа указания типа при инициализации:\n",
    "\n",
    "1. Непосредственно вызвать конструктор конкретного типа тензора, например FloatTensor или LongTensor\n",
    "2. Воспользоваться специальным методом torch.tensor() добавив параметр dtype (не путать с конструктором тензора torch.Tensor())\n",
    "\n",
    "Рассмотрим на примере:"
   ],
   "metadata": {
    "collapsed": false,
    "pycharm": {
     "name": "#%% md\n"
    }
   }
  },
  {
   "cell_type": "code",
   "execution_count": 56,
   "outputs": [
    {
     "name": "stdout",
     "output_type": "stream",
     "text": [
      "Type: torch.FloatTensor\n",
      "Shape/Size: torch.Size([2, 4])\n",
      "Values: \n",
      "tensor([[2., 2., 3., 4.],\n",
      "        [2., 0., 1., 0.]])\n"
     ]
    }
   ],
   "source": [
    "x_tensor = torch.FloatTensor([\n",
    "    [2, 2, 3, 4],\n",
    "    [2, 0, 1, 0]\n",
    "])\n",
    "\n",
    "describe(x_tensor)"
   ],
   "metadata": {
    "collapsed": false,
    "pycharm": {
     "name": "#%%\n",
     "is_executing": true
    },
    "ExecuteTime": {
     "end_time": "2023-07-17T17:51:53.412633Z",
     "start_time": "2023-07-17T17:51:53.408537Z"
    }
   }
  },
  {
   "cell_type": "code",
   "execution_count": 57,
   "outputs": [
    {
     "name": "stdout",
     "output_type": "stream",
     "text": [
      "Type: torch.LongTensor\n",
      "Shape/Size: torch.Size([2, 4])\n",
      "Values: \n",
      "tensor([[2, 2, 3, 4],\n",
      "        [2, 0, 1, 0]])\n"
     ]
    }
   ],
   "source": [
    "# Приведение типа данных тензора\n",
    "x_tensor = x_tensor.long()\n",
    "describe(x_tensor)"
   ],
   "metadata": {
    "collapsed": false,
    "pycharm": {
     "name": "#%%\n",
     "is_executing": true
    },
    "ExecuteTime": {
     "end_time": "2023-07-17T17:52:11.837730Z",
     "start_time": "2023-07-17T17:52:11.832023Z"
    }
   }
  },
  {
   "cell_type": "code",
   "execution_count": 58,
   "outputs": [
    {
     "name": "stdout",
     "output_type": "stream",
     "text": [
      "Type: torch.FloatTensor\n",
      "Shape/Size: torch.Size([2, 4])\n",
      "Values: \n",
      "tensor([[2., 2., 3., 4.],\n",
      "        [2., 0., 1., 0.]])\n"
     ]
    }
   ],
   "source": [
    "x_tensor = x_tensor.float()\n",
    "describe(x_tensor)"
   ],
   "metadata": {
    "collapsed": false,
    "pycharm": {
     "name": "#%%\n",
     "is_executing": true
    },
    "ExecuteTime": {
     "end_time": "2023-07-17T17:52:20.251162Z",
     "start_time": "2023-07-17T17:52:20.246390Z"
    }
   }
  },
  {
   "cell_type": "markdown",
   "source": [
    "Для получения информации о размерах измерений объекта-тензора используется аттрибут ```shape``` и метод ```size()``` (Они идентичны).\n",
    "Помните и берите на вооружение - проверка формы тензора - ваш лучший друг и напарник при отладке моделей и кода PyTorch. :)"
   ],
   "metadata": {
    "collapsed": false,
    "pycharm": {
     "name": "#%% md\n"
    }
   }
  },
  {
   "cell_type": "code",
   "execution_count": 59,
   "outputs": [
    {
     "data": {
      "text/plain": "torch.Size([2, 4])"
     },
     "execution_count": 59,
     "metadata": {},
     "output_type": "execute_result"
    }
   ],
   "source": [
    "x_tensor.size()"
   ],
   "metadata": {
    "collapsed": false,
    "pycharm": {
     "name": "#%%\n",
     "is_executing": true
    },
    "ExecuteTime": {
     "end_time": "2023-07-17T17:53:23.514429Z",
     "start_time": "2023-07-17T17:53:23.509472Z"
    }
   }
  },
  {
   "cell_type": "code",
   "execution_count": 60,
   "outputs": [
    {
     "data": {
      "text/plain": "torch.Size([2, 4])"
     },
     "execution_count": 60,
     "metadata": {},
     "output_type": "execute_result"
    }
   ],
   "source": [
    "x_tensor.shape"
   ],
   "metadata": {
    "collapsed": false,
    "pycharm": {
     "name": "#%%\n",
     "is_executing": true
    },
    "ExecuteTime": {
     "end_time": "2023-07-17T17:53:29.804330Z",
     "start_time": "2023-07-17T17:53:29.797945Z"
    }
   }
  },
  {
   "cell_type": "code",
   "execution_count": 61,
   "outputs": [
    {
     "data": {
      "text/plain": "torch.float32"
     },
     "execution_count": 61,
     "metadata": {},
     "output_type": "execute_result"
    }
   ],
   "source": [
    "x_tensor.dtype"
   ],
   "metadata": {
    "collapsed": false,
    "ExecuteTime": {
     "end_time": "2023-07-17T17:53:44.974352Z",
     "start_time": "2023-07-17T17:53:44.969330Z"
    }
   }
  },
  {
   "cell_type": "code",
   "execution_count": 62,
   "outputs": [
    {
     "data": {
      "text/plain": "device(type='cpu')"
     },
     "execution_count": 62,
     "metadata": {},
     "output_type": "execute_result"
    }
   ],
   "source": [
    "x_tensor.device"
   ],
   "metadata": {
    "collapsed": false,
    "ExecuteTime": {
     "end_time": "2023-07-17T17:53:50.479271Z",
     "start_time": "2023-07-17T17:53:50.474481Z"
    }
   }
  },
  {
   "cell_type": "markdown",
   "source": [
    "# Операции над тензорами"
   ],
   "metadata": {
    "collapsed": false,
    "pycharm": {
     "name": "#%% md\n"
    }
   }
  },
  {
   "cell_type": "markdown",
   "source": [
    "После создания тензоров с ними можно работать так же как и с базовыми типами данных большинства языков программирования.\n",
    "Унаследована вся арифметическая база:\n",
    "1. Сложение\n",
    "2. Вычитание\n",
    "3. Деление\n",
    "4. Умножение\n",
    "\n",
    "[Документация по математическим операциям в PyTorch](https://pytorch.org/docs/stable/torch.html#math-operations)"
   ],
   "metadata": {
    "collapsed": false,
    "pycharm": {
     "name": "#%% md\n"
    }
   }
  },
  {
   "cell_type": "markdown",
   "source": [
    "#### Сложение тензоров"
   ],
   "metadata": {
    "collapsed": false,
    "pycharm": {
     "name": "#%% md\n"
    }
   }
  },
  {
   "cell_type": "code",
   "execution_count": 63,
   "outputs": [
    {
     "name": "stdout",
     "output_type": "stream",
     "text": [
      "Type: torch.FloatTensor\n",
      "Shape/Size: torch.Size([3, 3])\n",
      "Values: \n",
      "tensor([[ 0.1474, -0.4158, -1.6655],\n",
      "        [-0.1914, -2.0580,  3.2619],\n",
      "        [ 1.2915,  0.1179,  0.5573]])\n"
     ]
    }
   ],
   "source": [
    "# Сложение тензоров\n",
    "x_tensor = torch.randn(3, 3)\n",
    "\n",
    "describe(x_tensor)"
   ],
   "metadata": {
    "collapsed": false,
    "pycharm": {
     "name": "#%%\n",
     "is_executing": true
    },
    "ExecuteTime": {
     "end_time": "2023-07-17T17:56:49.186849Z",
     "start_time": "2023-07-17T17:56:49.183200Z"
    }
   }
  },
  {
   "cell_type": "code",
   "execution_count": 64,
   "outputs": [
    {
     "data": {
      "text/plain": "tensor([[42.1474, 41.5842, 40.3345],\n        [41.8086, 39.9420, 45.2619],\n        [43.2915, 42.1179, 42.5573]])"
     },
     "execution_count": 64,
     "metadata": {},
     "output_type": "execute_result"
    }
   ],
   "source": [
    "# Добавление скаляра к тензору\n",
    "x_tensor + 42.0"
   ],
   "metadata": {
    "collapsed": false,
    "ExecuteTime": {
     "end_time": "2023-07-17T17:57:51.572897Z",
     "start_time": "2023-07-17T17:57:51.558732Z"
    }
   }
  },
  {
   "cell_type": "code",
   "execution_count": 65,
   "outputs": [
    {
     "name": "stdout",
     "output_type": "stream",
     "text": [
      "Type: torch.FloatTensor\n",
      "Shape/Size: torch.Size([3, 3])\n",
      "Values: \n",
      "tensor([[ 0.2949, -0.8316, -3.3310],\n",
      "        [-0.3828, -4.1161,  6.5239],\n",
      "        [ 2.5830,  0.2358,  1.1147]])\n"
     ]
    }
   ],
   "source": [
    "# сложение 2-х тензоров\n",
    "sum_of_tensors = torch.add(x_tensor, x_tensor)\n",
    "describe(sum_of_tensors)"
   ],
   "metadata": {
    "collapsed": false,
    "pycharm": {
     "name": "#%%\n",
     "is_executing": true
    },
    "ExecuteTime": {
     "end_time": "2023-07-17T17:58:24.227724Z",
     "start_time": "2023-07-17T17:58:24.221808Z"
    }
   }
  },
  {
   "cell_type": "code",
   "execution_count": 66,
   "outputs": [
    {
     "name": "stdout",
     "output_type": "stream",
     "text": [
      "Type: torch.FloatTensor\n",
      "Shape/Size: torch.Size([3, 3])\n",
      "Values: \n",
      "tensor([[ 0.2949, -0.8316, -3.3310],\n",
      "        [-0.3828, -4.1161,  6.5239],\n",
      "        [ 2.5830,  0.2358,  1.1147]])\n"
     ]
    }
   ],
   "source": [
    "describe(x_tensor + x_tensor)"
   ],
   "metadata": {
    "collapsed": false,
    "pycharm": {
     "name": "#%%\n",
     "is_executing": true
    },
    "ExecuteTime": {
     "end_time": "2023-07-17T17:58:48.971424Z",
     "start_time": "2023-07-17T17:58:48.965970Z"
    }
   }
  },
  {
   "cell_type": "markdown",
   "source": [
    "#### Вычитание тензоров"
   ],
   "metadata": {
    "collapsed": false
   }
  },
  {
   "cell_type": "code",
   "execution_count": 67,
   "outputs": [
    {
     "data": {
      "text/plain": "tensor([[ 0.0474, -0.5158, -1.7655],\n        [-0.2914, -2.1580,  3.1619],\n        [ 1.1915,  0.0179,  0.4573]])"
     },
     "execution_count": 67,
     "metadata": {},
     "output_type": "execute_result"
    }
   ],
   "source": [
    "# Subtracting tensor and scalar\n",
    "x_tensor - 0.1"
   ],
   "metadata": {
    "collapsed": false,
    "ExecuteTime": {
     "end_time": "2023-07-17T17:58:55.726680Z",
     "start_time": "2023-07-17T17:58:55.718813Z"
    }
   }
  },
  {
   "cell_type": "code",
   "execution_count": 68,
   "outputs": [
    {
     "data": {
      "text/plain": "tensor([[0., 0., 0.],\n        [0., 0., 0.],\n        [0., 0., 0.]])"
     },
     "execution_count": 68,
     "metadata": {},
     "output_type": "execute_result"
    }
   ],
   "source": [
    "# Subtracting tensors\n",
    "x_tensor - x_tensor"
   ],
   "metadata": {
    "collapsed": false,
    "ExecuteTime": {
     "end_time": "2023-07-17T17:59:15.807920Z",
     "start_time": "2023-07-17T17:59:15.802746Z"
    }
   }
  },
  {
   "cell_type": "markdown",
   "source": [
    "### Умножение тензоров"
   ],
   "metadata": {
    "collapsed": false
   }
  },
  {
   "cell_type": "code",
   "execution_count": 69,
   "outputs": [
    {
     "data": {
      "text/plain": "tensor([[ 0.1474, -0.4158, -1.6655],\n        [-0.1914, -2.0580,  3.2619],\n        [ 1.2915,  0.1179,  0.5573]])"
     },
     "execution_count": 69,
     "metadata": {},
     "output_type": "execute_result"
    }
   ],
   "source": [
    "x_tensor"
   ],
   "metadata": {
    "collapsed": false,
    "ExecuteTime": {
     "end_time": "2023-07-17T18:00:09.641654Z",
     "start_time": "2023-07-17T18:00:09.636412Z"
    }
   }
  },
  {
   "cell_type": "code",
   "execution_count": 70,
   "outputs": [
    {
     "data": {
      "text/plain": "tensor([[  1.4743,  -4.1579, -16.6553],\n        [ -1.9140, -20.5804,  32.6194],\n        [ 12.9151,   1.1792,   5.5734]])"
     },
     "execution_count": 70,
     "metadata": {},
     "output_type": "execute_result"
    }
   ],
   "source": [
    "# Tensor-Scalar multiplication\n",
    "torch.mul(x_tensor, 10)"
   ],
   "metadata": {
    "collapsed": false,
    "ExecuteTime": {
     "end_time": "2023-07-17T18:00:37.147394Z",
     "start_time": "2023-07-17T18:00:37.139558Z"
    }
   }
  },
  {
   "cell_type": "markdown",
   "source": [
    "### [Матричное умножение тензоров](https://pytorch.org/docs/stable/generated/torch.matmul.html)"
   ],
   "metadata": {
    "collapsed": false
   }
  },
  {
   "cell_type": "code",
   "execution_count": 71,
   "outputs": [
    {
     "data": {
      "text/plain": "tensor([1., 2., 3.])"
     },
     "execution_count": 71,
     "metadata": {},
     "output_type": "execute_result"
    }
   ],
   "source": [
    "tensor = torch.tensor([1., 2., 3.])\n",
    "tensor"
   ],
   "metadata": {
    "collapsed": false,
    "ExecuteTime": {
     "end_time": "2023-07-17T18:00:50.664843Z",
     "start_time": "2023-07-17T18:00:50.659137Z"
    }
   }
  },
  {
   "cell_type": "code",
   "execution_count": 76,
   "outputs": [
    {
     "data": {
      "text/plain": "tensor([1., 4., 9.])"
     },
     "execution_count": 76,
     "metadata": {},
     "output_type": "execute_result"
    }
   ],
   "source": [
    "# Element-wise multiplication\n",
    "tensor * tensor"
   ],
   "metadata": {
    "collapsed": false,
    "ExecuteTime": {
     "end_time": "2023-07-17T18:01:55.382276Z",
     "start_time": "2023-07-17T18:01:55.369325Z"
    }
   }
  },
  {
   "cell_type": "code",
   "execution_count": 73,
   "outputs": [
    {
     "data": {
      "text/plain": "tensor(14.)"
     },
     "execution_count": 73,
     "metadata": {},
     "output_type": "execute_result"
    }
   ],
   "source": [
    "# Matrix (dot product) multiplication\n",
    "torch.matmul(tensor, tensor)"
   ],
   "metadata": {
    "collapsed": false,
    "ExecuteTime": {
     "end_time": "2023-07-17T18:01:00.644214Z",
     "start_time": "2023-07-17T18:01:00.629396Z"
    }
   }
  },
  {
   "cell_type": "code",
   "execution_count": 74,
   "outputs": [
    {
     "data": {
      "text/plain": "tensor(14.)"
     },
     "execution_count": 74,
     "metadata": {},
     "output_type": "execute_result"
    }
   ],
   "source": [
    "tensor @ tensor"
   ],
   "metadata": {
    "collapsed": false,
    "ExecuteTime": {
     "end_time": "2023-07-17T18:01:18.406956Z",
     "start_time": "2023-07-17T18:01:18.397876Z"
    }
   }
  },
  {
   "cell_type": "code",
   "execution_count": 75,
   "outputs": [
    {
     "data": {
      "text/plain": "tensor([[-2.0497,  0.5980, -2.5301],\n        [ 4.5785,  4.6997, -4.5764],\n        [ 0.8876, -0.7140, -1.4558]])"
     },
     "execution_count": 75,
     "metadata": {},
     "output_type": "execute_result"
    }
   ],
   "source": [
    "# Only for 2-D (matrix) multiplications\n",
    "torch.mm(x_tensor, x_tensor)"
   ],
   "metadata": {
    "collapsed": false,
    "ExecuteTime": {
     "end_time": "2023-07-17T18:01:34.539894Z",
     "start_time": "2023-07-17T18:01:34.525692Z"
    }
   }
  },
  {
   "cell_type": "markdown",
   "source": [
    "Дополнительные операции по манипулированию тензорами:\n",
    "\n",
    "- Операция ```arange``` служит для создания одномерных тензоров заданного размера со значениями представляющими собой арифметическую прогрессию с указанным шагом  (по умолчанию 1). Вне зависимости от глобальных настроек типом по умолчанию возвращаемых arange значений может быть ```LongTensor```\n",
    "- Операция ```view``` возвращает новый тензор с теми же данными что и прежде, но разной формы.\n",
    "- Операция ```sum``` возвращает свертку тензора по заданному измерению.\n",
    "- Операция ```transpose``` транспонирует тензор меняя местами два указанных измерения.\n",
    "\n",
    "Рассмотрим все на примерах:"
   ],
   "metadata": {
    "collapsed": false,
    "pycharm": {
     "name": "#%% md\n"
    }
   }
  },
  {
   "cell_type": "code",
   "execution_count": 83,
   "outputs": [
    {
     "name": "stdout",
     "output_type": "stream",
     "text": [
      "Type: torch.LongTensor\n",
      "Shape/Size: torch.Size([6])\n",
      "Values: \n",
      "tensor([0, 1, 2, 3, 4, 5])\n"
     ]
    }
   ],
   "source": [
    "# Одномерный массив арифметической прогрессии\n",
    "x_tensor = torch.arange(6)\n",
    "describe(x_tensor)"
   ],
   "metadata": {
    "collapsed": false,
    "pycharm": {
     "name": "#%%\n",
     "is_executing": true
    },
    "ExecuteTime": {
     "end_time": "2023-07-17T18:05:31.482335Z",
     "start_time": "2023-07-17T18:05:31.449564Z"
    }
   }
  },
  {
   "cell_type": "code",
   "execution_count": 84,
   "outputs": [
    {
     "name": "stdout",
     "output_type": "stream",
     "text": [
      "Type: torch.LongTensor\n",
      "Shape/Size: torch.Size([3, 2])\n",
      "Values: \n",
      "tensor([[0, 1],\n",
      "        [2, 3],\n",
      "        [4, 5]])\n"
     ]
    }
   ],
   "source": [
    "# Изменение формы тензора\n",
    "x_tensor = x_tensor.view(3, 2) # или x_tensor.view(2, 3) так как всего 6 элементов в тензоре\n",
    "describe(x_tensor)"
   ],
   "metadata": {
    "collapsed": false,
    "pycharm": {
     "name": "#%%\n",
     "is_executing": true
    },
    "ExecuteTime": {
     "end_time": "2023-07-17T18:05:32.028293Z",
     "start_time": "2023-07-17T18:05:31.979532Z"
    }
   }
  },
  {
   "cell_type": "code",
   "execution_count": 85,
   "outputs": [
    {
     "name": "stdout",
     "output_type": "stream",
     "text": [
      "Type: torch.LongTensor\n",
      "Shape/Size: torch.Size([3])\n",
      "Values: \n",
      "tensor([1, 5, 9])\n"
     ]
    }
   ],
   "source": [
    "# Операция свертки по заданному измерению (в данном случае свертка по столбцам\n",
    "x_tensor = torch.sum(x_tensor, dim=1)\n",
    "describe(x_tensor)"
   ],
   "metadata": {
    "collapsed": false,
    "pycharm": {
     "name": "#%%\n",
     "is_executing": true
    },
    "ExecuteTime": {
     "end_time": "2023-07-17T18:05:35.515289Z",
     "start_time": "2023-07-17T18:05:35.482468Z"
    }
   }
  },
  {
   "cell_type": "code",
   "execution_count": 86,
   "outputs": [
    {
     "name": "stdout",
     "output_type": "stream",
     "text": [
      "Type: torch.LongTensor\n",
      "Shape/Size: torch.Size([])\n",
      "Values: \n",
      "15\n"
     ]
    }
   ],
   "source": [
    "# Операция свертки по заданному измерению (в данном случае свертка по всем значениям (сумма каждого элемента в тензоре)\n",
    "x_tensor = torch.sum(x_tensor, dim=-1)\n",
    "describe(x_tensor)"
   ],
   "metadata": {
    "collapsed": false,
    "pycharm": {
     "name": "#%%\n",
     "is_executing": true
    },
    "ExecuteTime": {
     "end_time": "2023-07-17T18:06:42.682738Z",
     "start_time": "2023-07-17T18:06:42.677356Z"
    }
   }
  },
  {
   "cell_type": "code",
   "execution_count": 87,
   "outputs": [
    {
     "name": "stdout",
     "output_type": "stream",
     "text": [
      "Type: torch.FloatTensor\n",
      "Shape/Size: torch.Size([4])\n",
      "Values: \n",
      "tensor([1.8875, 3.2706, 1.2645, 1.5729])\n"
     ]
    }
   ],
   "source": [
    "x_tensor = torch.randn(4, 4)\n",
    "x_tensor = torch.sum(x_tensor, dim=1)\n",
    "describe(x_tensor)"
   ],
   "metadata": {
    "collapsed": false,
    "pycharm": {
     "name": "#%%\n",
     "is_executing": true
    },
    "ExecuteTime": {
     "end_time": "2023-07-17T18:06:57.240314Z",
     "start_time": "2023-07-17T18:06:57.234481Z"
    }
   }
  },
  {
   "cell_type": "code",
   "execution_count": 88,
   "outputs": [],
   "source": [
    "# Операция транспонирования тензора\n",
    "x = torch.arange(6).view(2,3)\n",
    "x = torch.transpose(x, 0, 1)"
   ],
   "metadata": {
    "collapsed": false,
    "pycharm": {
     "name": "#%%\n",
     "is_executing": true
    },
    "ExecuteTime": {
     "end_time": "2023-07-17T18:07:47.596794Z",
     "start_time": "2023-07-17T18:07:47.543143Z"
    }
   }
  },
  {
   "cell_type": "code",
   "execution_count": 89,
   "outputs": [
    {
     "data": {
      "text/plain": "tensor([[0, 1, 2],\n        [3, 4, 5]])"
     },
     "execution_count": 89,
     "metadata": {},
     "output_type": "execute_result"
    }
   ],
   "source": [
    "x.T"
   ],
   "metadata": {
    "collapsed": false,
    "ExecuteTime": {
     "end_time": "2023-07-17T18:07:59.120991Z",
     "start_time": "2023-07-17T18:07:59.110256Z"
    }
   }
  },
  {
   "cell_type": "markdown",
   "source": [
    "### Поиск min, max, mean, mode и т.д. (tensor aggregation):"
   ],
   "metadata": {
    "collapsed": false
   }
  },
  {
   "cell_type": "code",
   "execution_count": 90,
   "outputs": [],
   "source": [
    "# Random tensor\n",
    "x = torch.arange(0, 100, 10)"
   ],
   "metadata": {
    "collapsed": false,
    "ExecuteTime": {
     "end_time": "2023-07-17T18:11:56.206853Z",
     "start_time": "2023-07-17T18:11:56.202690Z"
    }
   }
  },
  {
   "cell_type": "code",
   "execution_count": 91,
   "outputs": [
    {
     "data": {
      "text/plain": "tensor([ 0, 10, 20, 30, 40, 50, 60, 70, 80, 90])"
     },
     "execution_count": 91,
     "metadata": {},
     "output_type": "execute_result"
    }
   ],
   "source": [
    "x"
   ],
   "metadata": {
    "collapsed": false,
    "ExecuteTime": {
     "end_time": "2023-07-17T18:12:01.344818Z",
     "start_time": "2023-07-17T18:12:01.329317Z"
    }
   }
  },
  {
   "cell_type": "code",
   "execution_count": 92,
   "outputs": [
    {
     "data": {
      "text/plain": "(tensor(0), tensor(0))"
     },
     "execution_count": 92,
     "metadata": {},
     "output_type": "execute_result"
    }
   ],
   "source": [
    "# Find the min\n",
    "torch.min(x), x.min()"
   ],
   "metadata": {
    "collapsed": false,
    "ExecuteTime": {
     "end_time": "2023-07-17T18:12:28.368578Z",
     "start_time": "2023-07-17T18:12:28.361135Z"
    }
   }
  },
  {
   "cell_type": "code",
   "execution_count": 93,
   "outputs": [
    {
     "data": {
      "text/plain": "(tensor(90), tensor(90))"
     },
     "execution_count": 93,
     "metadata": {},
     "output_type": "execute_result"
    }
   ],
   "source": [
    "# Find the max\n",
    "torch.max(x), x.max()"
   ],
   "metadata": {
    "collapsed": false,
    "ExecuteTime": {
     "end_time": "2023-07-17T18:12:37.382916Z",
     "start_time": "2023-07-17T18:12:37.377066Z"
    }
   }
  },
  {
   "cell_type": "code",
   "execution_count": 94,
   "outputs": [
    {
     "ename": "RuntimeError",
     "evalue": "mean(): could not infer output dtype. Input dtype must be either a floating point or complex dtype. Got: Long",
     "output_type": "error",
     "traceback": [
      "\u001B[0;31m---------------------------------------------------------------------------\u001B[0m",
      "\u001B[0;31mRuntimeError\u001B[0m                              Traceback (most recent call last)",
      "Cell \u001B[0;32mIn[94], line 2\u001B[0m\n\u001B[1;32m      1\u001B[0m \u001B[38;5;66;03m# Find the mean\u001B[39;00m\n\u001B[0;32m----> 2\u001B[0m \u001B[43mtorch\u001B[49m\u001B[38;5;241;43m.\u001B[39;49m\u001B[43mmean\u001B[49m\u001B[43m(\u001B[49m\u001B[43mx\u001B[49m\u001B[43m)\u001B[49m, x\u001B[38;5;241m.\u001B[39mmean()\n",
      "\u001B[0;31mRuntimeError\u001B[0m: mean(): could not infer output dtype. Input dtype must be either a floating point or complex dtype. Got: Long"
     ]
    }
   ],
   "source": [
    "# Find the mean\n",
    "torch.mean(x), x.mean()"
   ],
   "metadata": {
    "collapsed": false,
    "ExecuteTime": {
     "end_time": "2023-07-17T18:12:45.614729Z",
     "start_time": "2023-07-17T18:12:45.577170Z"
    }
   }
  },
  {
   "cell_type": "code",
   "execution_count": 95,
   "outputs": [
    {
     "data": {
      "text/plain": "(tensor(45.), tensor(45.))"
     },
     "execution_count": 95,
     "metadata": {},
     "output_type": "execute_result"
    }
   ],
   "source": [
    "torch.mean(x.type(torch.float32)), x.type(torch.float32).mean()"
   ],
   "metadata": {
    "collapsed": false,
    "ExecuteTime": {
     "end_time": "2023-07-17T18:14:24.556503Z",
     "start_time": "2023-07-17T18:14:24.526746Z"
    }
   }
  },
  {
   "cell_type": "code",
   "execution_count": 96,
   "outputs": [
    {
     "data": {
      "text/plain": "torch.return_types.mode(\nvalues=tensor(0),\nindices=tensor(0))"
     },
     "execution_count": 96,
     "metadata": {},
     "output_type": "execute_result"
    }
   ],
   "source": [
    "# Find the mode\n",
    "torch.mode(x)"
   ],
   "metadata": {
    "collapsed": false,
    "ExecuteTime": {
     "end_time": "2023-07-17T18:14:34.361626Z",
     "start_time": "2023-07-17T18:14:34.347911Z"
    }
   }
  },
  {
   "cell_type": "code",
   "execution_count": 97,
   "outputs": [
    {
     "data": {
      "text/plain": "tensor([ 0, 10, 20, 30, 40, 50, 60, 70, 80, 90])"
     },
     "execution_count": 97,
     "metadata": {},
     "output_type": "execute_result"
    }
   ],
   "source": [
    "# Find the positional min and max\n",
    "x"
   ],
   "metadata": {
    "collapsed": false,
    "ExecuteTime": {
     "end_time": "2023-07-17T18:15:41.393875Z",
     "start_time": "2023-07-17T18:15:41.387862Z"
    }
   }
  },
  {
   "cell_type": "code",
   "execution_count": 98,
   "outputs": [
    {
     "data": {
      "text/plain": "tensor(0)"
     },
     "execution_count": 98,
     "metadata": {},
     "output_type": "execute_result"
    }
   ],
   "source": [
    "# find the position in the tensor that has the minimum value with argmin()\n",
    "x.argmin()"
   ],
   "metadata": {
    "collapsed": false,
    "ExecuteTime": {
     "end_time": "2023-07-17T18:15:47.255954Z",
     "start_time": "2023-07-17T18:15:47.248252Z"
    }
   }
  },
  {
   "cell_type": "code",
   "execution_count": 99,
   "outputs": [
    {
     "data": {
      "text/plain": "tensor(9)"
     },
     "execution_count": 99,
     "metadata": {},
     "output_type": "execute_result"
    }
   ],
   "source": [
    "x.argmax()"
   ],
   "metadata": {
    "collapsed": false,
    "ExecuteTime": {
     "end_time": "2023-07-17T18:15:50.653339Z",
     "start_time": "2023-07-17T18:15:50.634212Z"
    }
   }
  },
  {
   "cell_type": "markdown",
   "source": [
    "При работе с фреймворком вам часто придется выполнять над тензорами более сложные операции чем было описано выше, которые включают в себя разнообразные комбинации доступа по индексам, срезы, объединения и перестановка элементов. Как и в библиотеке для вычислений NumPy с которой мы знакомы, в PyTorch также существуют встроенные функции для упрощения подобных операций над тензорами:"
   ],
   "metadata": {
    "collapsed": false,
    "pycharm": {
     "name": "#%% md\n"
    }
   }
  },
  {
   "cell_type": "markdown",
   "source": [
    "#### Обращение по иднексу, срезы и объединение (reshaping, stacking, squeezing and unsqueezing)\n",
    "\n",
    "- Reshaping - изменение формы тензора к нужней нам размерности (*при наличии возможности)\n",
    "- Stacking - комбинация нескольких тензоров горизонтально (hstack) либо вертикально (vstack)\n",
    "- Squeeze - removes all `1` dimensions from a tensor\n",
    "- Unsqueeze - adds a `1` dimension to a target tensor\n",
    "- Permute - return a view of the input with dimensions permuted (swapped) in a certain way"
   ],
   "metadata": {
    "collapsed": false,
    "pycharm": {
     "name": "#%% md\n"
    }
   }
  },
  {
   "cell_type": "code",
   "execution_count": 100,
   "outputs": [
    {
     "name": "stdout",
     "output_type": "stream",
     "text": [
      "Type: torch.LongTensor\n",
      "Shape/Size: torch.Size([2, 3])\n",
      "Values: \n",
      "tensor([[0, 1, 2],\n",
      "        [3, 4, 5]])\n"
     ]
    }
   ],
   "source": [
    "# Создадим случайный тензор двумерной матрицы размера 2 на 3\n",
    "x = torch.arange(6).view(2, 3)\n",
    "describe(x)"
   ],
   "metadata": {
    "collapsed": false,
    "pycharm": {
     "name": "#%%\n",
     "is_executing": true
    },
    "ExecuteTime": {
     "end_time": "2023-07-17T18:20:11.908543Z",
     "start_time": "2023-07-17T18:20:11.902856Z"
    }
   }
  },
  {
   "cell_type": "code",
   "execution_count": 102,
   "outputs": [
    {
     "data": {
      "text/plain": "(torch.Size([3, 2]), torch.Size([3, 2]))"
     },
     "execution_count": 102,
     "metadata": {},
     "output_type": "execute_result"
    }
   ],
   "source": [
    "# Add an extra dimension\n",
    "x_reshaped = x.reshape(3, 2)\n",
    "x_reshaped.shape, x_reshaped.shape"
   ],
   "metadata": {
    "collapsed": false,
    "ExecuteTime": {
     "end_time": "2023-07-17T18:21:10.973241Z",
     "start_time": "2023-07-17T18:21:10.959823Z"
    }
   }
  },
  {
   "cell_type": "code",
   "execution_count": 103,
   "outputs": [
    {
     "data": {
      "text/plain": "(tensor([[0, 1, 2, 3, 4, 5]]), torch.Size([1, 6]))"
     },
     "execution_count": 103,
     "metadata": {},
     "output_type": "execute_result"
    }
   ],
   "source": [
    "# Change the view\n",
    "v = x.view(1,6)\n",
    "v, v.shape"
   ],
   "metadata": {
    "collapsed": false,
    "ExecuteTime": {
     "end_time": "2023-07-17T18:21:29.706369Z",
     "start_time": "2023-07-17T18:21:29.700132Z"
    }
   }
  },
  {
   "cell_type": "code",
   "execution_count": 104,
   "outputs": [
    {
     "data": {
      "text/plain": "(tensor([[1, 1, 2, 3, 4, 5]]),\n tensor([[1, 1, 2],\n         [3, 4, 5]]))"
     },
     "execution_count": 104,
     "metadata": {},
     "output_type": "execute_result"
    }
   ],
   "source": [
    "# Changing v changes x!!! (because a view of a tensor shares the same memory as the original input)\n",
    "v[:, 0] = 1\n",
    "v, x"
   ],
   "metadata": {
    "collapsed": false,
    "ExecuteTime": {
     "end_time": "2023-07-17T18:21:58.446478Z",
     "start_time": "2023-07-17T18:21:58.434345Z"
    }
   }
  },
  {
   "cell_type": "code",
   "execution_count": 105,
   "outputs": [
    {
     "data": {
      "text/plain": "tensor([[[1, 1, 2],\n         [3, 4, 5]],\n\n        [[1, 1, 2],\n         [3, 4, 5]],\n\n        [[1, 1, 2],\n         [3, 4, 5]],\n\n        [[1, 1, 2],\n         [3, 4, 5]]])"
     },
     "execution_count": 105,
     "metadata": {},
     "output_type": "execute_result"
    }
   ],
   "source": [
    "# Stack tensors on top of each other\n",
    "x_stacked = torch.stack([x, x, x, x], dim=0) # List of tensors as inputs\n",
    "x_stacked"
   ],
   "metadata": {
    "collapsed": false,
    "ExecuteTime": {
     "end_time": "2023-07-17T18:22:41.023439Z",
     "start_time": "2023-07-17T18:22:41.010367Z"
    }
   }
  },
  {
   "cell_type": "code",
   "execution_count": 106,
   "outputs": [
    {
     "data": {
      "text/plain": "(tensor([[1, 1],\n         [2, 3],\n         [4, 5]]),\n torch.Size([3, 2]))"
     },
     "execution_count": 106,
     "metadata": {},
     "output_type": "execute_result"
    }
   ],
   "source": [
    "# https://pytorch.org/docs/stable/generated/torch.squeeze.html\n",
    "# squeeze - removes all single dimensions\n",
    "x_reshaped, x_reshaped.shape"
   ],
   "metadata": {
    "collapsed": false,
    "ExecuteTime": {
     "end_time": "2023-07-17T18:23:34.952686Z",
     "start_time": "2023-07-17T18:23:34.944204Z"
    }
   }
  },
  {
   "cell_type": "code",
   "execution_count": 107,
   "outputs": [
    {
     "data": {
      "text/plain": "tensor([[1, 1],\n        [2, 3],\n        [4, 5]])"
     },
     "execution_count": 107,
     "metadata": {},
     "output_type": "execute_result"
    }
   ],
   "source": [
    "torch.squeeze(x_reshaped,(0,1))"
   ],
   "metadata": {
    "collapsed": false,
    "ExecuteTime": {
     "end_time": "2023-07-17T18:23:46.843753Z",
     "start_time": "2023-07-17T18:23:46.835166Z"
    }
   }
  },
  {
   "cell_type": "code",
   "execution_count": 108,
   "outputs": [
    {
     "data": {
      "text/plain": "(tensor([[[1, 1],\n          [2, 3],\n          [4, 5]]]),\n torch.Size([1, 3, 2]),\n torch.Size([3, 2]))"
     },
     "execution_count": 108,
     "metadata": {},
     "output_type": "execute_result"
    }
   ],
   "source": [
    "# torch.unsqueeze() - adds a single dimensiton to a target tensor at a specific dimension\n",
    "torch.unsqueeze(x_reshaped, 0), torch.unsqueeze(x_reshaped, 0).shape, x_reshaped.shape"
   ],
   "metadata": {
    "collapsed": false,
    "ExecuteTime": {
     "end_time": "2023-07-17T18:24:00.444172Z",
     "start_time": "2023-07-17T18:24:00.436497Z"
    }
   }
  },
  {
   "cell_type": "code",
   "execution_count": 110,
   "outputs": [
    {
     "data": {
      "text/plain": "(torch.Size([224, 224, 3]), torch.Size([3, 224, 224]))"
     },
     "execution_count": 110,
     "metadata": {},
     "output_type": "execute_result"
    }
   ],
   "source": [
    "# torch.permute - rearranges the dimensions of a target tensor in a specified order (by dims)\n",
    "x_original = torch.rand(size=(224, 224, 3)) # [height, width, color_ch]\n",
    "\n",
    "# Permute the original tensor to rearrange the axis order\n",
    "x_permuted = torch.permute(x_original, (2, 0, 1))\n",
    "x_original.shape, x_permuted.shape"
   ],
   "metadata": {
    "collapsed": false,
    "ExecuteTime": {
     "end_time": "2023-07-17T18:26:37.626288Z",
     "start_time": "2023-07-17T18:26:37.620552Z"
    }
   }
  },
  {
   "cell_type": "markdown",
   "source": [
    "#### Индексация"
   ],
   "metadata": {
    "collapsed": false
   }
  },
  {
   "cell_type": "markdown",
   "source": [
    "#### Indexing (selecting data from tensors). Indexing with PyTorch is similar to indexing with NumPy"
   ],
   "metadata": {
    "collapsed": false
   }
  },
  {
   "cell_type": "code",
   "execution_count": 111,
   "outputs": [
    {
     "data": {
      "text/plain": "(tensor([[[1, 2, 3],\n          [4, 5, 6],\n          [7, 8, 9]]]),\n torch.Size([1, 3, 3]))"
     },
     "execution_count": 111,
     "metadata": {},
     "output_type": "execute_result"
    }
   ],
   "source": [
    "x = torch.arange(1, 10).reshape(1, 3, 3)\n",
    "x, x.shape"
   ],
   "metadata": {
    "collapsed": false,
    "ExecuteTime": {
     "end_time": "2023-07-17T18:27:29.874849Z",
     "start_time": "2023-07-17T18:27:29.869455Z"
    }
   }
  },
  {
   "cell_type": "code",
   "execution_count": 112,
   "outputs": [
    {
     "data": {
      "text/plain": "tensor([[1, 2, 3],\n        [4, 5, 6],\n        [7, 8, 9]])"
     },
     "execution_count": 112,
     "metadata": {},
     "output_type": "execute_result"
    }
   ],
   "source": [
    "# Indexing\n",
    "x[0]"
   ],
   "metadata": {
    "collapsed": false,
    "ExecuteTime": {
     "end_time": "2023-07-17T18:28:02.803960Z",
     "start_time": "2023-07-17T18:28:02.798832Z"
    }
   }
  },
  {
   "cell_type": "code",
   "execution_count": 114,
   "outputs": [
    {
     "data": {
      "text/plain": "tensor([1, 2, 3])"
     },
     "execution_count": 114,
     "metadata": {},
     "output_type": "execute_result"
    }
   ],
   "source": [
    "# Index on dim=1\n",
    "# x[0][0] # or\n",
    "x[0, 0]"
   ],
   "metadata": {
    "collapsed": false,
    "ExecuteTime": {
     "end_time": "2023-07-17T18:28:46.616195Z",
     "start_time": "2023-07-17T18:28:46.603081Z"
    }
   }
  },
  {
   "cell_type": "code",
   "execution_count": 115,
   "outputs": [
    {
     "data": {
      "text/plain": "tensor(1)"
     },
     "execution_count": 115,
     "metadata": {},
     "output_type": "execute_result"
    }
   ],
   "source": [
    "# Index on the most inner bracker (last dimensions)\n",
    "x[0][0][0]\n",
    "# Same\n",
    "# x[0, 0, 0]"
   ],
   "metadata": {
    "collapsed": false,
    "ExecuteTime": {
     "end_time": "2023-07-17T18:29:00.526809Z",
     "start_time": "2023-07-17T18:29:00.520941Z"
    }
   }
  },
  {
   "cell_type": "code",
   "execution_count": 116,
   "outputs": [
    {
     "data": {
      "text/plain": "tensor([[3, 6, 9]])"
     },
     "execution_count": 116,
     "metadata": {},
     "output_type": "execute_result"
    }
   ],
   "source": [
    "x[:, :, 2]"
   ],
   "metadata": {
    "collapsed": false,
    "ExecuteTime": {
     "end_time": "2023-07-17T18:29:20.180691Z",
     "start_time": "2023-07-17T18:29:20.174997Z"
    }
   }
  },
  {
   "cell_type": "code",
   "execution_count": 117,
   "outputs": [
    {
     "name": "stdout",
     "output_type": "stream",
     "text": [
      "Type: torch.LongTensor\n",
      "Shape/Size: torch.Size([1, 2, 3])\n",
      "Values: \n",
      "tensor([[[1, 2, 3],\n",
      "         [4, 5, 6]]])\n"
     ]
    }
   ],
   "source": [
    "# We can also use \":\" to select \"all\" of a target dimension\n",
    "describe(x[:1, :2])"
   ],
   "metadata": {
    "collapsed": false,
    "pycharm": {
     "name": "#%%\n",
     "is_executing": true
    },
    "ExecuteTime": {
     "end_time": "2023-07-17T18:29:43.481045Z",
     "start_time": "2023-07-17T18:29:43.475234Z"
    }
   }
  },
  {
   "cell_type": "code",
   "execution_count": 118,
   "outputs": [
    {
     "name": "stdout",
     "output_type": "stream",
     "text": [
      "Type: torch.LongTensor\n",
      "Shape/Size: torch.Size([3])\n",
      "Values: \n",
      "tensor([4, 5, 6])\n"
     ]
    }
   ],
   "source": [
    "describe(x[0,1])"
   ],
   "metadata": {
    "collapsed": false,
    "pycharm": {
     "name": "#%%\n",
     "is_executing": true
    },
    "ExecuteTime": {
     "end_time": "2023-07-17T18:29:52.278588Z",
     "start_time": "2023-07-17T18:29:52.272904Z"
    }
   }
  },
  {
   "cell_type": "markdown",
   "source": [
    "Сложный доступ по иднексам тензора, обращение по индексам к несмежным участкам тензора:"
   ],
   "metadata": {
    "collapsed": false,
    "pycharm": {
     "name": "#%% md\n"
    }
   }
  },
  {
   "cell_type": "code",
   "execution_count": 119,
   "outputs": [
    {
     "name": "stdout",
     "output_type": "stream",
     "text": [
      "Type: torch.LongTensor\n",
      "Shape/Size: torch.Size([1, 2, 3])\n",
      "Values: \n",
      "tensor([[[1, 2, 3],\n",
      "         [7, 8, 9]]])\n"
     ]
    }
   ],
   "source": [
    "# https://pytorch.org/docs/stable/generated/torch.index_select.html\n",
    "indices = torch.LongTensor([0, 2])\n",
    "describe(torch.index_select(x, dim=1, index=indices))"
   ],
   "metadata": {
    "collapsed": false,
    "pycharm": {
     "name": "#%%\n",
     "is_executing": true
    },
    "ExecuteTime": {
     "end_time": "2023-07-17T18:30:25.104579Z",
     "start_time": "2023-07-17T18:30:25.099180Z"
    }
   }
  },
  {
   "cell_type": "code",
   "execution_count": 120,
   "outputs": [
    {
     "name": "stdout",
     "output_type": "stream",
     "text": [
      "Type: torch.LongTensor\n",
      "Shape/Size: torch.Size([2, 3, 3])\n",
      "Values: \n",
      "tensor([[[1, 2, 3],\n",
      "         [4, 5, 6],\n",
      "         [7, 8, 9]],\n",
      "\n",
      "        [[1, 2, 3],\n",
      "         [4, 5, 6],\n",
      "         [7, 8, 9]]])\n"
     ]
    }
   ],
   "source": [
    "indices = torch.LongTensor([0,0])\n",
    "describe(torch.index_select(x, dim=0, index=indices))"
   ],
   "metadata": {
    "collapsed": false,
    "pycharm": {
     "name": "#%%\n",
     "is_executing": true
    },
    "ExecuteTime": {
     "end_time": "2023-07-17T18:30:42.144767Z",
     "start_time": "2023-07-17T18:30:42.138759Z"
    }
   }
  },
  {
   "cell_type": "markdown",
   "source": [
    "Тип индексов - LongTensor, так реализован функционал фреймворка. Можно также выполнять объединение тензоров с помощью встроенных функций конкатенации указывая тензоры и нужные измерения:"
   ],
   "metadata": {
    "collapsed": false,
    "pycharm": {
     "name": "#%% md\n"
    }
   }
  },
  {
   "cell_type": "code",
   "execution_count": 121,
   "outputs": [
    {
     "name": "stdout",
     "output_type": "stream",
     "text": [
      "Type: torch.LongTensor\n",
      "Shape/Size: torch.Size([2, 3])\n",
      "Values: \n",
      "tensor([[0, 1, 2],\n",
      "        [3, 4, 5]])\n"
     ]
    }
   ],
   "source": [
    "x = torch.arange(6).view(2, 3)\n",
    "describe(x)"
   ],
   "metadata": {
    "collapsed": false,
    "pycharm": {
     "name": "#%%\n",
     "is_executing": true
    },
    "ExecuteTime": {
     "end_time": "2023-07-17T18:30:53.142078Z",
     "start_time": "2023-07-17T18:30:53.136352Z"
    }
   }
  },
  {
   "cell_type": "code",
   "execution_count": 122,
   "outputs": [
    {
     "name": "stdout",
     "output_type": "stream",
     "text": [
      "Type: torch.LongTensor\n",
      "Shape/Size: torch.Size([4, 3])\n",
      "Values: \n",
      "tensor([[0, 1, 2],\n",
      "        [3, 4, 5],\n",
      "        [0, 1, 2],\n",
      "        [3, 4, 5]])\n"
     ]
    }
   ],
   "source": [
    "# Вертикальная конкатенация (наложение тензоров друг на друга)\n",
    "describe(torch.cat([x,x], dim=0))"
   ],
   "metadata": {
    "collapsed": false,
    "pycharm": {
     "name": "#%%\n",
     "is_executing": true
    },
    "ExecuteTime": {
     "end_time": "2023-07-17T18:31:05.112539Z",
     "start_time": "2023-07-17T18:31:05.106661Z"
    }
   }
  },
  {
   "cell_type": "code",
   "execution_count": 123,
   "outputs": [
    {
     "name": "stdout",
     "output_type": "stream",
     "text": [
      "Type: torch.LongTensor\n",
      "Shape/Size: torch.Size([2, 6])\n",
      "Values: \n",
      "tensor([[0, 1, 2, 0, 1, 2],\n",
      "        [3, 4, 5, 3, 4, 5]])\n"
     ]
    }
   ],
   "source": [
    "# Горизонтальная конкатенация (построчное слияние двух тензоров в случае одинаковой размерности)\n",
    "describe(torch.cat([x, x], dim=1))"
   ],
   "metadata": {
    "collapsed": false,
    "pycharm": {
     "name": "#%%\n",
     "is_executing": true
    },
    "ExecuteTime": {
     "end_time": "2023-07-17T18:31:23.948907Z",
     "start_time": "2023-07-17T18:31:23.943195Z"
    }
   }
  },
  {
   "cell_type": "code",
   "execution_count": 124,
   "outputs": [
    {
     "name": "stdout",
     "output_type": "stream",
     "text": [
      "Type: torch.LongTensor\n",
      "Shape/Size: torch.Size([2, 2, 3])\n",
      "Values: \n",
      "tensor([[[0, 1, 2],\n",
      "         [3, 4, 5]],\n",
      "\n",
      "        [[0, 1, 2],\n",
      "         [3, 4, 5]]])\n"
     ]
    }
   ],
   "source": [
    "# Соединение двух тензоров -> результат тензор новой размерности\n",
    "describe(torch.stack([x, x]))"
   ],
   "metadata": {
    "collapsed": false,
    "pycharm": {
     "name": "#%%\n",
     "is_executing": true
    },
    "ExecuteTime": {
     "end_time": "2023-07-17T18:31:37.325517Z",
     "start_time": "2023-07-17T18:31:37.317813Z"
    }
   }
  },
  {
   "cell_type": "markdown",
   "source": [
    "#### Операции линейной алгебры над тензорами:"
   ],
   "metadata": {
    "collapsed": false,
    "pycharm": {
     "name": "#%% md\n"
    }
   }
  },
  {
   "cell_type": "code",
   "execution_count": 125,
   "outputs": [
    {
     "name": "stdout",
     "output_type": "stream",
     "text": [
      "Type: torch.FloatTensor\n",
      "Shape/Size: torch.Size([2, 3])\n",
      "Values: \n",
      "tensor([[0., 1., 2.],\n",
      "        [3., 4., 5.]])\n"
     ]
    }
   ],
   "source": [
    "x = torch.arange(6).view(2,3).type(torch.FloatTensor)\n",
    "describe(x)"
   ],
   "metadata": {
    "collapsed": false,
    "pycharm": {
     "name": "#%%\n",
     "is_executing": true
    },
    "ExecuteTime": {
     "end_time": "2023-07-17T18:31:42.509462Z",
     "start_time": "2023-07-17T18:31:42.503127Z"
    }
   }
  },
  {
   "cell_type": "code",
   "execution_count": 126,
   "outputs": [
    {
     "name": "stdout",
     "output_type": "stream",
     "text": [
      "Type: torch.FloatTensor\n",
      "Shape/Size: torch.Size([3, 2])\n",
      "Values: \n",
      "tensor([[1., 1.],\n",
      "        [1., 1.],\n",
      "        [1., 1.]])\n"
     ]
    }
   ],
   "source": [
    "ones_like_tensor = torch.ones(3, 2)\n",
    "describe(ones_like_tensor)"
   ],
   "metadata": {
    "collapsed": false,
    "pycharm": {
     "name": "#%%\n",
     "is_executing": true
    },
    "ExecuteTime": {
     "end_time": "2023-07-17T18:31:46.041635Z",
     "start_time": "2023-07-17T18:31:46.035296Z"
    }
   }
  },
  {
   "cell_type": "code",
   "execution_count": 127,
   "outputs": [
    {
     "name": "stdout",
     "output_type": "stream",
     "text": [
      "Type: torch.FloatTensor\n",
      "Shape/Size: torch.Size([3, 2])\n",
      "Values: \n",
      "tensor([[1., 2.],\n",
      "        [1., 2.],\n",
      "        [1., 2.]])\n"
     ]
    }
   ],
   "source": [
    "ones_like_tensor[:, 1] += 1\n",
    "describe(ones_like_tensor)"
   ],
   "metadata": {
    "collapsed": false,
    "pycharm": {
     "name": "#%%\n",
     "is_executing": true
    },
    "ExecuteTime": {
     "end_time": "2023-07-17T18:32:09.584615Z",
     "start_time": "2023-07-17T18:32:09.578016Z"
    }
   }
  },
  {
   "cell_type": "code",
   "execution_count": 128,
   "outputs": [
    {
     "name": "stdout",
     "output_type": "stream",
     "text": [
      "Type: torch.FloatTensor\n",
      "Shape/Size: torch.Size([2, 2])\n",
      "Values: \n",
      "tensor([[ 3.,  6.],\n",
      "        [12., 24.]])\n"
     ]
    }
   ],
   "source": [
    "# умножение двух тензоров / матриц\n",
    "describe(torch.mm(x, ones_like_tensor))"
   ],
   "metadata": {
    "collapsed": false,
    "pycharm": {
     "name": "#%%\n",
     "is_executing": true
    },
    "ExecuteTime": {
     "end_time": "2023-07-17T18:32:21.506432Z",
     "start_time": "2023-07-17T18:32:21.496576Z"
    }
   }
  },
  {
   "cell_type": "markdown",
   "source": [
    "### Tensor to NumPy and vice versa:"
   ],
   "metadata": {
    "collapsed": false
   }
  },
  {
   "cell_type": "code",
   "execution_count": 129,
   "outputs": [
    {
     "data": {
      "text/plain": "(array([1., 2., 3., 4., 5., 6., 7., 8., 9.]),\n tensor([1., 2., 3., 4., 5., 6., 7., 8., 9.], dtype=torch.float64))"
     },
     "execution_count": 129,
     "metadata": {},
     "output_type": "execute_result"
    }
   ],
   "source": [
    "# NumPy array to tensor\n",
    "import numpy as np\n",
    "\n",
    "np_array = np.arange(1.0, 10.0)\n",
    "tensor = torch.from_numpy(np_array) # when convering from numpy -> pytorch tensor, pytorch reflects numpy's default datatype of float64\n",
    "np_array, tensor"
   ],
   "metadata": {
    "collapsed": false,
    "ExecuteTime": {
     "end_time": "2023-07-17T18:33:01.970343Z",
     "start_time": "2023-07-17T18:33:01.962714Z"
    }
   }
  },
  {
   "cell_type": "code",
   "execution_count": 130,
   "outputs": [
    {
     "name": "stdout",
     "output_type": "stream",
     "text": [
      "[1. 2. 3. 4. 5. 6. 7. 8. 9.]\n"
     ]
    }
   ],
   "source": [
    "print(tensor.numpy())"
   ],
   "metadata": {
    "collapsed": false,
    "ExecuteTime": {
     "end_time": "2023-07-17T18:33:15.440396Z",
     "start_time": "2023-07-17T18:33:15.436877Z"
    }
   }
  },
  {
   "cell_type": "code",
   "execution_count": null,
   "outputs": [],
   "source": [],
   "metadata": {
    "collapsed": false
   }
  },
  {
   "cell_type": "markdown",
   "source": [
    "# PyTorch, тензоры и графы вычислений:\n",
    "-----\n",
    "\n",
    "\n",
    "\n",
    "\n",
    "Как и переменные высокоуровневых языков программирования (тот же Python), инкапсулирующие элементы данных и несущие об этих данных дополнительную информацию (в частности адрес ячейки памяти, в которой они хранятся и занимаемые ресурсы памяти), тензоры PyTorch берут на себя все вспомогательные операции необходимые для построения графов вычислений для нужд глубокого обучения. Для этого достаточно установить соответствующий флаг в момент создания тензора.\n",
    "\n",
    "\n",
    "-----\n",
    "Класс tensor фреймворка PyTorch инкапсулирует данные (сам тензор) и целый ряд операций таких как алгебраические операции, доступ по индексам и операции изменения формы тензора.\n",
    "Кроме того, установка дле тензора флага requieres_grad = True делает возможным отслеживание градиента тензора, а заодно и функцию вычисления градиента - оба необходимы для глубокого обучения на основе градиентного спуска (то есть почти всегда).\n",
    "\n",
    "\n",
    "Рассмотрим несколько примеров:"
   ],
   "metadata": {
    "collapsed": false,
    "pycharm": {
     "name": "#%% md\n"
    }
   }
  },
  {
   "cell_type": "code",
   "execution_count": 131,
   "outputs": [
    {
     "name": "stdout",
     "output_type": "stream",
     "text": [
      "Type: torch.FloatTensor\n",
      "Shape/Size: torch.Size([2, 2])\n",
      "Values: \n",
      "tensor([[1., 1.],\n",
      "        [1., 1.]], requires_grad=True)\n"
     ]
    }
   ],
   "source": [
    "x = torch.ones(2, 2, requires_grad=True)\n",
    "describe(x)"
   ],
   "metadata": {
    "collapsed": false,
    "pycharm": {
     "name": "#%%\n",
     "is_executing": true
    },
    "ExecuteTime": {
     "end_time": "2023-07-17T18:35:48.223871Z",
     "start_time": "2023-07-17T18:35:48.217562Z"
    }
   }
  },
  {
   "cell_type": "code",
   "execution_count": 132,
   "outputs": [
    {
     "name": "stdout",
     "output_type": "stream",
     "text": [
      "None\n"
     ]
    }
   ],
   "source": [
    "print(x.grad)"
   ],
   "metadata": {
    "collapsed": false,
    "pycharm": {
     "name": "#%%\n",
     "is_executing": true
    },
    "ExecuteTime": {
     "end_time": "2023-07-17T18:36:24.552118Z",
     "start_time": "2023-07-17T18:36:24.546482Z"
    }
   }
  },
  {
   "cell_type": "code",
   "execution_count": 133,
   "outputs": [
    {
     "name": "stdout",
     "output_type": "stream",
     "text": [
      "Type: torch.FloatTensor\n",
      "Shape/Size: torch.Size([2, 2])\n",
      "Values: \n",
      "tensor([[21., 21.],\n",
      "        [21., 21.]], grad_fn=<AddBackward0>)\n"
     ]
    }
   ],
   "source": [
    "# Опишем любое случайное уравнение чтобы показать работу графа на примере\n",
    "y = (x + 2) * (x**2 + 5) + 3\n",
    "describe(y)"
   ],
   "metadata": {
    "collapsed": false,
    "pycharm": {
     "name": "#%%\n",
     "is_executing": true
    },
    "ExecuteTime": {
     "end_time": "2023-07-17T18:36:48.290679Z",
     "start_time": "2023-07-17T18:36:48.270209Z"
    }
   }
  },
  {
   "cell_type": "code",
   "execution_count": 134,
   "outputs": [
    {
     "name": "stdout",
     "output_type": "stream",
     "text": [
      "True\n"
     ]
    },
    {
     "name": "stderr",
     "output_type": "stream",
     "text": [
      "/var/folders/91/k98801wn6yd0ssq44m34fwlh0000gn/T/ipykernel_54691/2729181402.py:1: UserWarning: The .grad attribute of a Tensor that is not a leaf Tensor is being accessed. Its .grad attribute won't be populated during autograd.backward(). If you indeed want the .grad field to be populated for a non-leaf Tensor, use .retain_grad() on the non-leaf Tensor. If you access the non-leaf Tensor by mistake, make sure you access the leaf Tensor instead. See github.com/pytorch/pytorch/pull/30531 for more informations. (Triggered internally at /Users/runner/work/pytorch/pytorch/pytorch/build/aten/src/ATen/core/TensorBody.h:491.)\n",
      "  print(y.grad is None)\n"
     ]
    }
   ],
   "source": [
    "print(y.grad is None)"
   ],
   "metadata": {
    "collapsed": false,
    "pycharm": {
     "name": "#%%\n",
     "is_executing": true
    },
    "ExecuteTime": {
     "end_time": "2023-07-17T18:37:56.808999Z",
     "start_time": "2023-07-17T18:37:56.803979Z"
    }
   }
  },
  {
   "cell_type": "code",
   "execution_count": 135,
   "outputs": [
    {
     "name": "stdout",
     "output_type": "stream",
     "text": [
      "Type: torch.FloatTensor\n",
      "Shape/Size: torch.Size([])\n",
      "Values: \n",
      "21.0\n"
     ]
    }
   ],
   "source": [
    "z = y.mean()\n",
    "describe(z)"
   ],
   "metadata": {
    "collapsed": false,
    "pycharm": {
     "name": "#%%\n",
     "is_executing": true
    },
    "ExecuteTime": {
     "end_time": "2023-07-17T18:38:12.488703Z",
     "start_time": "2023-07-17T18:38:12.482518Z"
    }
   }
  },
  {
   "cell_type": "code",
   "execution_count": 136,
   "outputs": [
    {
     "name": "stdout",
     "output_type": "stream",
     "text": [
      "False\n"
     ]
    }
   ],
   "source": [
    "z.backward()\n",
    "print(x.grad is None)"
   ],
   "metadata": {
    "collapsed": false,
    "pycharm": {
     "name": "#%%\n",
     "is_executing": true
    },
    "ExecuteTime": {
     "end_time": "2023-07-17T18:38:50.621711Z",
     "start_time": "2023-07-17T18:38:50.545956Z"
    }
   }
  },
  {
   "cell_type": "markdown",
   "source": [
    "Пояснение:\n",
    "\n",
    "Когда тензор создается с параметром required_grad=True тем самым PyTorch требуется хранить вспомогательную информацию необходимую для вычисления градиентов. PyTorch будет отслеживать значения получаемые при прямом проходе (forward propagation). Затем в конце вычислений для определения обратного шага (backward propagation) используется одно скалярное значение. Обратный шаг запускается путем вызова метода backward() для тензороа, полученного в результате вычисления функции потерь. При обратном шаге вычисляется значение градиента для объекта-тензора, участвовавшего в прямом проходе.\n",
    "\n",
    "Градиент представляет с собой значение, отражающее угол наклона выходного значения функции по отношению к ее входному значению. Получить доступ к градиентам можно с помощью переменной экземпляра .grad Она используется для оптимизации и для обновления значений параметров весовых матриц."
   ],
   "metadata": {
    "collapsed": false,
    "pycharm": {
     "name": "#%% md\n"
    }
   }
  },
  {
   "cell_type": "markdown",
   "source": [
    "# Тензоры CUDA\n",
    "\n",
    "В вышеуказанных примерах все тензоры и их операции проводились через CPU. При выполнении операций линейной алгебры и тренировки моделей глубокого обучения имеет смысл использовать графический аппаратный ускоритель GPU, который позволит быстрее проводить расчеты и обучение моделей. Если у вас есть GPU компании Nvidia, то имеет смысл пользоваться им. Для применения GPU необходимо сначала выделить под тензор место в памяти GPU. Доступ к GPU производится с помощью API CUDA.\n",
    "\n",
    "В PyTorch ОБЯЗАТЕЛЬНО необходимо реализовывать проект таким образом, чтобы код не зависел от того есть ли GPU у конечного пользователя или нет (аппаратно независимый подход).\n",
    "\n",
    "Установка CUDA: https://developer.nvidia.com/cuda-downloads\n",
    "\n",
    "Первым делом необходимо проверить доступен ли GPU с помомщью torch.cuda.is_available() и извлечь название устройства, вызвав метод torch.device(). Далее необходимо создать все будущие тензоры и переместить их на нужное устройство с помощью метода .to(device).\n",
    "\n",
    "Пример:"
   ],
   "metadata": {
    "collapsed": false,
    "pycharm": {
     "name": "#%% md\n"
    }
   }
  },
  {
   "cell_type": "code",
   "execution_count": 137,
   "outputs": [
    {
     "name": "stdout",
     "output_type": "stream",
     "text": [
      "False\n"
     ]
    }
   ],
   "source": [
    "print(torch.cuda.is_available())"
   ],
   "metadata": {
    "collapsed": false,
    "pycharm": {
     "name": "#%%\n"
    },
    "ExecuteTime": {
     "end_time": "2023-07-17T18:43:45.162825Z",
     "start_time": "2023-07-17T18:43:45.129289Z"
    }
   }
  },
  {
   "cell_type": "code",
   "execution_count": 138,
   "outputs": [
    {
     "name": "stdout",
     "output_type": "stream",
     "text": [
      "cpu\n"
     ]
    }
   ],
   "source": [
    "device = torch.device(\"cuda\" if torch.cuda.is_available() else \"cpu\")\n",
    "print(device)"
   ],
   "metadata": {
    "collapsed": false,
    "pycharm": {
     "name": "#%%\n"
    },
    "ExecuteTime": {
     "end_time": "2023-07-17T18:43:47.489884Z",
     "start_time": "2023-07-17T18:43:47.459250Z"
    }
   }
  },
  {
   "cell_type": "code",
   "execution_count": 139,
   "outputs": [
    {
     "name": "stdout",
     "output_type": "stream",
     "text": [
      "Type: torch.FloatTensor\n",
      "Shape/Size: torch.Size([3, 3])\n",
      "Values: \n",
      "tensor([[ 0.4285,  0.6008, -1.3636],\n",
      "        [-0.5294,  1.3846,  0.9059],\n",
      "        [-0.6370,  0.3545,  0.1056]])\n"
     ]
    }
   ],
   "source": [
    "x = torch.randn(3, 3).to(device)\n",
    "describe(x)"
   ],
   "metadata": {
    "collapsed": false,
    "pycharm": {
     "name": "#%%\n"
    },
    "ExecuteTime": {
     "end_time": "2023-07-17T18:43:49.520811Z",
     "start_time": "2023-07-17T18:43:49.462974Z"
    }
   }
  },
  {
   "cell_type": "markdown",
   "source": [
    "Важное замечание: чтобы работать с CUDA и не-CUDA объектами необходимо убедиться, что они располагаются на одном устройстве. Иначе попытка вычислений обернется ошибкой (CUDA тензоры нельзя соединять с не CUDA).\n",
    "Чаще всего вышеописанные ситуации возникают при работе с метриками мониторинга вычислений, не включенными в граф вычислений. При работе с двумя объектами-тензорами убедитесь что они располагаются на одном устройстве:"
   ],
   "metadata": {
    "collapsed": false,
    "pycharm": {
     "name": "#%% md\n"
    }
   }
  },
  {
   "cell_type": "code",
   "execution_count": null,
   "outputs": [],
   "source": [
    "y = torch.randn(3, 3)\n",
    "x + y"
   ],
   "metadata": {
    "collapsed": false,
    "pycharm": {
     "name": "#%%\n"
    }
   }
  },
  {
   "cell_type": "code",
   "execution_count": null,
   "outputs": [],
   "source": [
    "cpu_device = torch.device(\"cpu\")\n",
    "y = y.to(cpu_device)\n",
    "x = x.to(cpu_device)\n",
    "x + y"
   ],
   "metadata": {
    "collapsed": false,
    "pycharm": {
     "name": "#%%\n"
    }
   }
  },
  {
   "cell_type": "markdown",
   "source": [
    "Если у вас на машине или сервере несколько GPU устройств, пользуйтесь переменной среды CUDA_VISIBLE_DEVICES:\n",
    "\n",
    "CUDA_VISIBLE_DEVICES = 0, 1, 2, 3\n",
    "\n",
    "Немного полезной информации по распрарллеливанию обучения на нескольких GPU:\n",
    "https://pytorch.org/tutorials/beginner/former_torchies/parallelism_tutorial.html"
   ],
   "metadata": {
    "collapsed": false,
    "pycharm": {
     "name": "#%% md\n"
    }
   }
  },
  {
   "cell_type": "markdown",
   "source": [
    "## Попрактикуемся и закрепим информацию небольшими упражнениями (Проверяется умение гуглить и закрепленный материал :) )"
   ],
   "metadata": {
    "collapsed": false,
    "pycharm": {
     "name": "#%% md\n"
    }
   }
  },
  {
   "cell_type": "markdown",
   "source": [
    "1. Создайте двумерный тензор, после чего добавьте в него новое измерение размером 1 перед измерением 0:"
   ],
   "metadata": {
    "collapsed": false,
    "pycharm": {
     "name": "#%% md\n"
    }
   }
  },
  {
   "cell_type": "code",
   "execution_count": null,
   "outputs": [],
   "source": [],
   "metadata": {
    "collapsed": false,
    "pycharm": {
     "name": "#%%\n",
     "is_executing": true
    }
   }
  },
  {
   "cell_type": "markdown",
   "source": [
    "2. Удалите дополнительное измерение, которое вы создали в шаге 1:"
   ],
   "metadata": {
    "collapsed": false,
    "pycharm": {
     "name": "#%% md\n"
    }
   }
  },
  {
   "cell_type": "code",
   "execution_count": null,
   "outputs": [],
   "source": [],
   "metadata": {
    "collapsed": false,
    "pycharm": {
     "name": "#%%\n",
     "is_executing": true
    }
   }
  },
  {
   "cell_type": "markdown",
   "source": [
    "3. Создайте случайный тензор формы 5 на 3 в интервале [3, 7):"
   ],
   "metadata": {
    "collapsed": false,
    "pycharm": {
     "name": "#%% md\n"
    }
   }
  },
  {
   "cell_type": "code",
   "execution_count": null,
   "outputs": [],
   "source": [],
   "metadata": {
    "collapsed": false,
    "pycharm": {
     "name": "#%%\n",
     "is_executing": true
    }
   }
  },
  {
   "cell_type": "markdown",
   "source": [
    "4. Создайте тензор со значениями, взятыми из нормального распределения (матожидание = 0, стандартное отклонение = 1):"
   ],
   "metadata": {
    "collapsed": false,
    "pycharm": {
     "name": "#%% md\n"
    }
   }
  },
  {
   "cell_type": "code",
   "execution_count": null,
   "outputs": [],
   "source": [
    "\n"
   ],
   "metadata": {
    "collapsed": false,
    "pycharm": {
     "name": "#%%\n",
     "is_executing": true
    }
   }
  },
  {
   "cell_type": "markdown",
   "source": [
    "5. Извлеките индексы всех ненулевых элементов из тензора torch.Tensor([1, 1, 1, 0, 1]):"
   ],
   "metadata": {
    "collapsed": false,
    "pycharm": {
     "name": "#%% md\n"
    }
   }
  },
  {
   "cell_type": "code",
   "execution_count": null,
   "outputs": [],
   "source": [],
   "metadata": {
    "collapsed": false,
    "pycharm": {
     "name": "#%%\n",
     "is_executing": true
    }
   }
  },
  {
   "cell_type": "markdown",
   "source": [
    "6. Создайте случайный тензор размерности (3, 1) а затем горизонтально разместите в ряд четыре его копии:"
   ],
   "metadata": {
    "collapsed": false,
    "pycharm": {
     "name": "#%% md\n"
    }
   }
  },
  {
   "cell_type": "code",
   "execution_count": null,
   "outputs": [],
   "source": [],
   "metadata": {
    "collapsed": false,
    "pycharm": {
     "name": "#%%\n",
     "is_executing": true
    }
   }
  },
  {
   "cell_type": "markdown",
   "source": [
    "7. Верните пакетное произведение 2 трехмерных матриц (a = torch.rand(3,4,5) и b = torch.rand(3, 5, 4)):"
   ],
   "metadata": {
    "collapsed": false,
    "pycharm": {
     "name": "#%% md\n"
    }
   }
  },
  {
   "cell_type": "code",
   "execution_count": null,
   "outputs": [],
   "source": [],
   "metadata": {
    "collapsed": false,
    "pycharm": {
     "name": "#%%\n",
     "is_executing": true
    }
   }
  },
  {
   "cell_type": "markdown",
   "source": [
    "8. Верните пакетное произведение трехмерной и двумерной матриц (a = torch.rand(3, 4, 5) и b = torch.rand(5,4)):"
   ],
   "metadata": {
    "collapsed": false,
    "pycharm": {
     "name": "#%% md\n"
    }
   }
  },
  {
   "cell_type": "code",
   "execution_count": null,
   "outputs": [],
   "source": [],
   "metadata": {
    "collapsed": false,
    "pycharm": {
     "name": "#%%\n",
     "is_executing": true
    }
   }
  },
  {
   "cell_type": "code",
   "execution_count": null,
   "outputs": [],
   "source": [],
   "metadata": {
    "collapsed": false,
    "pycharm": {
     "name": "#%%\n"
    }
   }
  }
 ],
 "metadata": {
  "kernelspec": {
   "display_name": "Python 3",
   "language": "python",
   "name": "python3"
  },
  "language_info": {
   "codemirror_mode": {
    "name": "ipython",
    "version": 2
   },
   "file_extension": ".py",
   "mimetype": "text/x-python",
   "name": "python",
   "nbconvert_exporter": "python",
   "pygments_lexer": "ipython2",
   "version": "2.7.6"
  }
 },
 "nbformat": 4,
 "nbformat_minor": 0
}
