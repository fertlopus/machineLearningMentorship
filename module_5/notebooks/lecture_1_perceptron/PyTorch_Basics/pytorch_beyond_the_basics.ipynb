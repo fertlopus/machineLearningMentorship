{
 "cells": [
  {
   "cell_type": "markdown",
   "metadata": {
    "id": "l3lBw4sj34qZ",
    "pycharm": {
     "name": "#%% md\n"
    }
   },
   "source": [
    "## Манипулирование данными"
   ]
  },
  {
   "cell_type": "markdown",
   "metadata": {
    "id": "I4aJFUfn34qZ",
    "pycharm": {
     "name": "#%% md\n"
    }
   },
   "source": [
    "Невозможно что-либо сделать, если мы не умеем манипулировать данными. Две основные операции, которые нам нужно сделать с данными - (i) получить их и (ii) обработать. Нет смысла собирать данные, если мы даже не знаем, как их хранить, поэтому давайте сначала поработаем с синтетическими данными. Мы начнем с torch.tensor. Это основной инструмент для хранения и преобразования данных в torch. Если вы раньше работали с NumPy, вы заметите, что он по своей конструкции очень похож на многомерный массив NumPy. Тем не менее, он даёт несколько ключевых преимуществ. Во-первых, torch.tensor поддерживает асинхронные вычисления на CPU и GPU. Во-вторых, он обеспечивает поддержку автоматического дифференцирования.\n"
   ]
  },
  {
   "cell_type": "code",
   "execution_count": 1,
   "metadata": {
    "id": "B0MVM4aj34qa",
    "pycharm": {
     "name": "#%%\n"
    },
    "ExecuteTime": {
     "end_time": "2023-07-24T16:26:39.229044Z",
     "start_time": "2023-07-24T16:26:36.646124Z"
    }
   },
   "outputs": [],
   "source": [
    "import torch"
   ]
  },
  {
   "cell_type": "code",
   "execution_count": 2,
   "outputs": [],
   "source": [
    "def describe(x):\n",
    "    print(\"Type: {}\".format(x.type()))\n",
    "    print(\"Shape/Size: {}\".format(x.shape))\n",
    "    print(\"Values: \\n{}\".format(x))"
   ],
   "metadata": {
    "collapsed": false,
    "pycharm": {
     "name": "#%%\n"
    },
    "ExecuteTime": {
     "end_time": "2023-07-24T16:26:39.233396Z",
     "start_time": "2023-07-24T16:26:39.231045Z"
    }
   }
  },
  {
   "cell_type": "code",
   "execution_count": 3,
   "metadata": {
    "colab": {
     "base_uri": "https://localhost:8080/"
    },
    "id": "TNGwabqm34qa",
    "outputId": "44730ecb-f34d-4a66-8c34-472116fc394b",
    "pycharm": {
     "name": "#%%\n",
     "is_executing": true
    },
    "ExecuteTime": {
     "end_time": "2023-07-24T16:26:39.253656Z",
     "start_time": "2023-07-24T16:26:39.236289Z"
    }
   },
   "outputs": [
    {
     "name": "stdout",
     "output_type": "stream",
     "text": [
      "Type: torch.LongTensor\n",
      "Shape/Size: torch.Size([12])\n",
      "Values: \n",
      "tensor([ 0,  1,  2,  3,  4,  5,  6,  7,  8,  9, 10, 11])\n"
     ]
    }
   ],
   "source": [
    "x = torch.arange(12)\n",
    "describe(x)"
   ]
  },
  {
   "cell_type": "code",
   "execution_count": 4,
   "metadata": {
    "colab": {
     "base_uri": "https://localhost:8080/"
    },
    "id": "KmrNHETgIbqc",
    "outputId": "ca018557-8faf-4021-84ec-65d5895b4b35",
    "pycharm": {
     "name": "#%%\n",
     "is_executing": true
    },
    "ExecuteTime": {
     "end_time": "2023-07-24T16:26:42.635466Z",
     "start_time": "2023-07-24T16:26:42.596972Z"
    }
   },
   "outputs": [
    {
     "name": "stdout",
     "output_type": "stream",
     "text": [
      "Type: torch.FloatTensor\n",
      "Shape/Size: torch.Size([12, 3])\n",
      "Values: \n",
      "tensor([[0.0000e+00, 0.0000e+00, 0.0000e+00],\n",
      "        [1.0000e+00, 1.0000e+00, 1.0000e+00],\n",
      "        [2.0000e+00, 4.0000e+00, 8.0000e+00],\n",
      "        [3.0000e+00, 9.0000e+00, 2.7000e+01],\n",
      "        [4.0000e+00, 1.6000e+01, 6.4000e+01],\n",
      "        [5.0000e+00, 2.5000e+01, 1.2500e+02],\n",
      "        [6.0000e+00, 3.6000e+01, 2.1600e+02],\n",
      "        [7.0000e+00, 4.9000e+01, 3.4300e+02],\n",
      "        [8.0000e+00, 6.4000e+01, 5.1200e+02],\n",
      "        [9.0000e+00, 8.1000e+01, 7.2900e+02],\n",
      "        [1.0000e+01, 1.0000e+02, 1.0000e+03],\n",
      "        [1.1000e+01, 1.2100e+02, 1.3310e+03]])\n"
     ]
    }
   ],
   "source": [
    "xx = torch.Tensor([[x, x**2, x**3] for x in range(12)])\n",
    "describe(xx)"
   ]
  },
  {
   "cell_type": "code",
   "execution_count": 5,
   "metadata": {
    "colab": {
     "base_uri": "https://localhost:8080/"
    },
    "id": "nlzShh4rLpXm",
    "outputId": "41296f3f-fef2-43b5-fb18-e9141fc414fb",
    "pycharm": {
     "name": "#%%\n",
     "is_executing": true
    },
    "ExecuteTime": {
     "end_time": "2023-07-24T16:26:53.209307Z",
     "start_time": "2023-07-24T16:26:53.199383Z"
    }
   },
   "outputs": [
    {
     "data": {
      "text/plain": "tensor([1.])"
     },
     "execution_count": 5,
     "metadata": {},
     "output_type": "execute_result"
    }
   ],
   "source": [
    "torch.Tensor([1])"
   ]
  },
  {
   "cell_type": "markdown",
   "metadata": {
    "id": "Zv2GDLgc34qa",
    "pycharm": {
     "name": "#%% md\n"
    }
   },
   "source": [
    "Мы можем получить форму экземпляра tensor через свойство shape."
   ]
  },
  {
   "cell_type": "code",
   "execution_count": 6,
   "metadata": {
    "colab": {
     "base_uri": "https://localhost:8080/"
    },
    "id": "jD1U4W7K34qa",
    "scrolled": true,
    "outputId": "9951c731-5bf0-4cfe-9890-7dc430d17304",
    "pycharm": {
     "name": "#%%\n"
    },
    "ExecuteTime": {
     "end_time": "2023-07-24T16:26:58.096671Z",
     "start_time": "2023-07-24T16:26:58.092293Z"
    }
   },
   "outputs": [
    {
     "data": {
      "text/plain": "(torch.Size([12]), torch.Size([12, 3]))"
     },
     "execution_count": 6,
     "metadata": {},
     "output_type": "execute_result"
    }
   ],
   "source": [
    "x.shape, xx.shape"
   ]
  },
  {
   "cell_type": "markdown",
   "metadata": {
    "id": "ftiBBOV734qa",
    "pycharm": {
     "name": "#%% md\n"
    }
   },
   "source": [
    "Узнать расположен ли он на gpu или cpu можно через специальный аттрибут - device"
   ]
  },
  {
   "cell_type": "code",
   "execution_count": 7,
   "metadata": {
    "colab": {
     "base_uri": "https://localhost:8080/"
    },
    "id": "b2Sz6NV334qa",
    "outputId": "fd4dae74-b64f-4596-abc9-a33b821016a5",
    "pycharm": {
     "name": "#%%\n",
     "is_executing": true
    },
    "ExecuteTime": {
     "end_time": "2023-07-24T16:27:11.935769Z",
     "start_time": "2023-07-24T16:27:11.929277Z"
    }
   },
   "outputs": [
    {
     "data": {
      "text/plain": "device(type='cpu')"
     },
     "execution_count": 7,
     "metadata": {},
     "output_type": "execute_result"
    }
   ],
   "source": [
    "x.device"
   ]
  },
  {
   "cell_type": "markdown",
   "metadata": {
    "id": "7F4XiLK934qa",
    "pycharm": {
     "name": "#%% md\n"
    }
   },
   "source": [
    "Мы используем функцию view, чтобы изменить форму одного (возможно многомерного) массива на другой, который содержит такое же количество элементов. Например, мы можем преобразовать форму нашего векторного вектора x в (3, 4), который содержит те же значения, но интерпретирует их как матрицу, содержащую 3 строки и 4 столбца. Обратите внимание, что, хотя форма изменилась, элементы в x не изменились. Причем количество элементов осталось прежним."
   ]
  },
  {
   "cell_type": "code",
   "execution_count": 8,
   "outputs": [
    {
     "data": {
      "text/plain": "tensor([ 0,  1,  2,  3,  4,  5,  6,  7,  8,  9, 10, 11])"
     },
     "execution_count": 8,
     "metadata": {},
     "output_type": "execute_result"
    }
   ],
   "source": [
    "x"
   ],
   "metadata": {
    "collapsed": false,
    "ExecuteTime": {
     "end_time": "2023-07-24T16:27:27.517724Z",
     "start_time": "2023-07-24T16:27:27.505580Z"
    }
   }
  },
  {
   "cell_type": "code",
   "execution_count": 9,
   "metadata": {
    "colab": {
     "base_uri": "https://localhost:8080/"
    },
    "id": "jtNiFL7I34qa",
    "outputId": "5c1b8679-5b42-47bd-ff1c-a345e9aa6e29",
    "pycharm": {
     "name": "#%%\n",
     "is_executing": true
    },
    "ExecuteTime": {
     "end_time": "2023-07-24T16:27:52.250737Z",
     "start_time": "2023-07-24T16:27:52.242636Z"
    }
   },
   "outputs": [
    {
     "data": {
      "text/plain": "torch.Size([2, 3, 2])"
     },
     "execution_count": 9,
     "metadata": {},
     "output_type": "execute_result"
    }
   ],
   "source": [
    "x.view((2,-1,2)).shape"
   ]
  },
  {
   "cell_type": "markdown",
   "metadata": {
    "id": "YS8FX2Pp34qa",
    "pycharm": {
     "name": "#%% md\n"
    }
   },
   "source": [
    "Указывать каждое измерение вручную достаточно утомительно. К счастью, torch может автоматически выводить одно измерение, учитывая другие. Мы можем указать -1 для измерения, которое мы хотели бы, чтобы torch автоматически выводил. В нашем случае вместо x.view((3, 4)) мы могли бы использовать x.view ((- 1, 4)) или x.view((3, -1))."
   ]
  },
  {
   "cell_type": "code",
   "execution_count": 10,
   "metadata": {
    "colab": {
     "base_uri": "https://localhost:8080/"
    },
    "id": "zLefd5AV34qa",
    "outputId": "d094a19c-3bc0-4730-9eb1-cbbdc5aff5b9",
    "pycharm": {
     "name": "#%%\n",
     "is_executing": true
    },
    "ExecuteTime": {
     "end_time": "2023-07-24T16:28:13.003155Z",
     "start_time": "2023-07-24T16:28:12.996475Z"
    }
   },
   "outputs": [
    {
     "data": {
      "text/plain": "tensor([[ 0,  1,  2,  3],\n        [ 4,  5,  6,  7],\n        [ 8,  9, 10, 11]])"
     },
     "execution_count": 10,
     "metadata": {},
     "output_type": "execute_result"
    }
   ],
   "source": [
    "x.view((-1, 4))"
   ]
  },
  {
   "cell_type": "markdown",
   "metadata": {
    "id": "ndZZ2mvs34qb",
    "pycharm": {
     "name": "#%% md\n"
    }
   },
   "source": [
    "Другие две полезные функции - zeros и ones. Они создают массивы из всех нулей и всех единиц. Они принимают форму создаваемого тензора в качестве параметра"
   ]
  },
  {
   "cell_type": "code",
   "execution_count": 11,
   "metadata": {
    "colab": {
     "base_uri": "https://localhost:8080/"
    },
    "id": "1OHmH_lc34qb",
    "outputId": "c96d90a1-1a04-471c-bf8e-11497f158ff7",
    "pycharm": {
     "name": "#%%\n",
     "is_executing": true
    },
    "ExecuteTime": {
     "end_time": "2023-07-24T16:28:52.291510Z",
     "start_time": "2023-07-24T16:28:52.285968Z"
    }
   },
   "outputs": [
    {
     "name": "stdout",
     "output_type": "stream",
     "text": [
      "Type: torch.FloatTensor\n",
      "Shape/Size: torch.Size([2, 3, 4])\n",
      "Values: \n",
      "tensor([[[0., 0., 0., 0.],\n",
      "         [0., 0., 0., 0.],\n",
      "         [0., 0., 0., 0.]],\n",
      "\n",
      "        [[0., 0., 0., 0.],\n",
      "         [0., 0., 0., 0.],\n",
      "         [0., 0., 0., 0.]]])\n"
     ]
    }
   ],
   "source": [
    "describe(torch.zeros((2,3,4)))"
   ]
  },
  {
   "cell_type": "code",
   "execution_count": 12,
   "metadata": {
    "colab": {
     "base_uri": "https://localhost:8080/"
    },
    "id": "E4FE7H4l34qb",
    "outputId": "d4074e5e-3f98-45cc-f3c9-fdc94c933579",
    "pycharm": {
     "name": "#%%\n",
     "is_executing": true
    },
    "ExecuteTime": {
     "end_time": "2023-07-24T16:28:57.882646Z",
     "start_time": "2023-07-24T16:28:57.871922Z"
    }
   },
   "outputs": [
    {
     "name": "stdout",
     "output_type": "stream",
     "text": [
      "Type: torch.FloatTensor\n",
      "Shape/Size: torch.Size([2, 3, 4])\n",
      "Values: \n",
      "tensor([[[1., 1., 1., 1.],\n",
      "         [1., 1., 1., 1.],\n",
      "         [1., 1., 1., 1.]],\n",
      "\n",
      "        [[1., 1., 1., 1.],\n",
      "         [1., 1., 1., 1.],\n",
      "         [1., 1., 1., 1.]]])\n"
     ]
    }
   ],
   "source": [
    "describe(torch.ones((2,3,4)))"
   ]
  },
  {
   "cell_type": "markdown",
   "metadata": {
    "id": "AxPxZy1y34qb",
    "pycharm": {
     "name": "#%% md\n"
    }
   },
   "source": [
    "## Операции"
   ]
  },
  {
   "cell_type": "markdown",
   "metadata": {
    "id": "xlB3CsoS34qb",
    "pycharm": {
     "name": "#%% md\n"
    }
   },
   "source": [
    "Обычно мы хотим не только создавать массивы, но и применять к ним функции. Самые простые и полезные из них - это поэлементные функции. Они работают, выполняя одну скалярную операцию над соответствующими элементами двух массивов. "
   ]
  },
  {
   "cell_type": "code",
   "execution_count": 13,
   "metadata": {
    "colab": {
     "base_uri": "https://localhost:8080/"
    },
    "id": "wy_nH2mH34qb",
    "outputId": "7704abc5-b0d2-45f2-8847-fc118eb4d5f6",
    "pycharm": {
     "name": "#%%\n",
     "is_executing": true
    },
    "ExecuteTime": {
     "end_time": "2023-07-24T16:29:01.900949Z",
     "start_time": "2023-07-24T16:29:01.891222Z"
    }
   },
   "outputs": [
    {
     "name": "stdout",
     "output_type": "stream",
     "text": [
      "x = tensor([1., 2., 4., 8.])\n",
      "y = tensor([2., 2., 2., 2.])\n",
      "x + y tensor([ 3.,  4.,  6., 10.])\n",
      "x - y tensor([-1.,  0.,  2.,  6.])\n",
      "x * y tensor([ 2.,  4.,  8., 16.])\n",
      "x / y tensor([0.5000, 1.0000, 2.0000, 4.0000])\n"
     ]
    }
   ],
   "source": [
    "x = torch.tensor([1., 2., 4., 8.])\n",
    "y = torch.ones_like(x) * 2\n",
    "print('x =', x)\n",
    "print('y =', y)\n",
    "print('x + y', x + y)\n",
    "print('x - y', x - y)\n",
    "print('x * y', x * y)\n",
    "print('x / y', x / y)"
   ]
  },
  {
   "cell_type": "markdown",
   "metadata": {
    "id": "zmuXKwr134qb",
    "pycharm": {
     "name": "#%% md\n"
    }
   },
   "source": [
    "Еще больше операций может быть выполненно поэлементно. Например - операции exp"
   ]
  },
  {
   "cell_type": "code",
   "execution_count": 14,
   "metadata": {
    "colab": {
     "base_uri": "https://localhost:8080/"
    },
    "id": "DH-A5fDv34qb",
    "outputId": "a4d22dc5-ab04-4c34-db62-923c665aea17",
    "pycharm": {
     "name": "#%%\n",
     "is_executing": true
    },
    "ExecuteTime": {
     "end_time": "2023-07-24T16:29:26.425187Z",
     "start_time": "2023-07-24T16:29:26.420038Z"
    }
   },
   "outputs": [
    {
     "data": {
      "text/plain": "tensor([2.7183e+00, 7.3891e+00, 5.4598e+01, 2.9810e+03])"
     },
     "execution_count": 14,
     "metadata": {},
     "output_type": "execute_result"
    }
   ],
   "source": [
    "x.exp()"
   ]
  },
  {
   "cell_type": "markdown",
   "metadata": {
    "id": "NqV7yXc234qb",
    "pycharm": {
     "name": "#%% md\n"
    }
   },
   "source": [
    "В дополнение к поэлементным вычислениям, мы также можем выполнять матричные операции. Например, матричное умножение. Для этого используется функция mm."
   ]
  },
  {
   "cell_type": "code",
   "execution_count": 15,
   "metadata": {
    "id": "-mZOiVs4KmrC",
    "pycharm": {
     "name": "#%%\n"
    },
    "ExecuteTime": {
     "end_time": "2023-07-24T16:29:31.587280Z",
     "start_time": "2023-07-24T16:29:31.582966Z"
    }
   },
   "outputs": [],
   "source": [
    "x1 = torch.arange(12)\n",
    "x2 = torch.arange(12)\n",
    "x3 = torch.arange(12)"
   ]
  },
  {
   "cell_type": "code",
   "execution_count": 16,
   "metadata": {
    "colab": {
     "base_uri": "https://localhost:8080/"
    },
    "id": "ICVD0gR934qb",
    "outputId": "756a3e33-94c2-4d8a-bafb-434d065aeee2",
    "pycharm": {
     "name": "#%%\n",
     "is_executing": true
    },
    "ExecuteTime": {
     "end_time": "2023-07-24T16:29:34.172516Z",
     "start_time": "2023-07-24T16:29:34.158520Z"
    }
   },
   "outputs": [
    {
     "data": {
      "text/plain": "tensor([[ 18,  20,  10],\n        [ 58,  60,  50],\n        [ 98, 100,  90]])"
     },
     "execution_count": 16,
     "metadata": {},
     "output_type": "execute_result"
    }
   ],
   "source": [
    "x = torch.arange(12).reshape((3,4))\n",
    "y = torch.tensor([[2, 1, 4, 3], [1, 2, 3, 4], [4, 3, 2, 1]])\n",
    "torch.mm(x, y.T)"
   ]
  },
  {
   "cell_type": "markdown",
   "metadata": {
    "id": "NrBTbyHQ34qb",
    "pycharm": {
     "name": "#%% md\n"
    }
   },
   "source": [
    "Мы также можем объединить несколько тензоров. Для этого нам нужно указать, по какому измерению производить объединение. В приведенном ниже примере объединяются две матрицы по измерению 0 (по строкам) и измерению 1 (по столбцам) соответственно."
   ]
  },
  {
   "cell_type": "code",
   "execution_count": 17,
   "metadata": {
    "colab": {
     "base_uri": "https://localhost:8080/"
    },
    "id": "OsO4Pjdp34qb",
    "outputId": "af44db51-21e2-4b1d-eac7-c0e8b511576e",
    "pycharm": {
     "name": "#%%\n",
     "is_executing": true
    },
    "ExecuteTime": {
     "end_time": "2023-07-24T16:30:19.365070Z",
     "start_time": "2023-07-24T16:30:19.352519Z"
    }
   },
   "outputs": [
    {
     "data": {
      "text/plain": "tensor([[ 0,  1,  2,  3],\n        [ 4,  5,  6,  7],\n        [ 8,  9, 10, 11],\n        [ 2,  1,  4,  3],\n        [ 1,  2,  3,  4],\n        [ 4,  3,  2,  1]])"
     },
     "execution_count": 17,
     "metadata": {},
     "output_type": "execute_result"
    }
   ],
   "source": [
    "torch.cat((x, y), axis=0)"
   ]
  },
  {
   "cell_type": "code",
   "execution_count": 18,
   "metadata": {
    "colab": {
     "base_uri": "https://localhost:8080/"
    },
    "id": "_NY0kfhp34qc",
    "outputId": "d6eb15a2-8748-4f01-b6be-577e50a4d027",
    "pycharm": {
     "name": "#%%\n",
     "is_executing": true
    },
    "ExecuteTime": {
     "end_time": "2023-07-24T16:30:29.560400Z",
     "start_time": "2023-07-24T16:30:29.557211Z"
    }
   },
   "outputs": [
    {
     "data": {
      "text/plain": "tensor([[ 0,  1,  2,  3,  2,  1,  4,  3],\n        [ 4,  5,  6,  7,  1,  2,  3,  4],\n        [ 8,  9, 10, 11,  4,  3,  2,  1]])"
     },
     "execution_count": 18,
     "metadata": {},
     "output_type": "execute_result"
    }
   ],
   "source": [
    "torch.cat((x, y), dim=1)"
   ]
  },
  {
   "cell_type": "markdown",
   "metadata": {
    "id": "mdirOuCC34qc",
    "pycharm": {
     "name": "#%% md\n"
    }
   },
   "source": [
    "Для получения булевых тензоров можно использовать булевы операторы. Например, можно сравнить два тензора при помощи оператора =="
   ]
  },
  {
   "cell_type": "code",
   "execution_count": 19,
   "metadata": {
    "colab": {
     "base_uri": "https://localhost:8080/"
    },
    "id": "hVQHhUYX34qc",
    "scrolled": true,
    "outputId": "8d3f8fa5-fd6c-40b5-c113-a075ef7fbfd8",
    "pycharm": {
     "name": "#%%\n",
     "is_executing": true
    },
    "ExecuteTime": {
     "end_time": "2023-07-24T16:31:07.727449Z",
     "start_time": "2023-07-24T16:31:07.723095Z"
    }
   },
   "outputs": [
    {
     "data": {
      "text/plain": "tensor([[1, 1, 1, 1],\n        [0, 0, 0, 0],\n        [0, 0, 0, 0]], dtype=torch.int32)"
     },
     "execution_count": 19,
     "metadata": {},
     "output_type": "execute_result"
    }
   ],
   "source": [
    "(x <= y).int()"
   ]
  },
  {
   "cell_type": "code",
   "execution_count": 20,
   "metadata": {
    "colab": {
     "base_uri": "https://localhost:8080/"
    },
    "id": "pPpWVVhTckOh",
    "outputId": "925c4d36-7c25-4e40-9aee-5c787477ac67",
    "pycharm": {
     "name": "#%%\n",
     "is_executing": true
    },
    "ExecuteTime": {
     "end_time": "2023-07-24T16:31:29.548126Z",
     "start_time": "2023-07-24T16:31:29.544264Z"
    }
   },
   "outputs": [
    {
     "data": {
      "text/plain": "tensor([[ 0,  1,  2,  3],\n        [ 4,  5,  6,  7],\n        [ 8,  9, 10, 11]])"
     },
     "execution_count": 20,
     "metadata": {},
     "output_type": "execute_result"
    }
   ],
   "source": [
    "x"
   ]
  },
  {
   "cell_type": "markdown",
   "metadata": {
    "id": "ZlgOzsiQ34qc",
    "pycharm": {
     "name": "#%% md\n"
    }
   },
   "source": [
    "Суммирование всех элементов тезора дает тензор с одним элементом."
   ]
  },
  {
   "cell_type": "code",
   "execution_count": 21,
   "metadata": {
    "colab": {
     "base_uri": "https://localhost:8080/"
    },
    "id": "NjjEo2zN34qc",
    "outputId": "2ed8bbbf-1373-480d-eb4f-99b264856362",
    "pycharm": {
     "name": "#%%\n",
     "is_executing": true
    },
    "ExecuteTime": {
     "end_time": "2023-07-24T16:31:35.326586Z",
     "start_time": "2023-07-24T16:31:35.320552Z"
    }
   },
   "outputs": [
    {
     "data": {
      "text/plain": "tensor([[ 6],\n        [22],\n        [38]])"
     },
     "execution_count": 21,
     "metadata": {},
     "output_type": "execute_result"
    }
   ],
   "source": [
    "x.sum(dim=1, keepdim=True)"
   ]
  },
  {
   "cell_type": "markdown",
   "metadata": {
    "id": "o23pUXsh34qc",
    "pycharm": {
     "name": "#%% md\n"
    }
   },
   "source": [
    "Мы можем преобразовать результат в скаляр в Python, используя функцию item"
   ]
  },
  {
   "cell_type": "code",
   "execution_count": 22,
   "metadata": {
    "colab": {
     "background_save": true,
     "base_uri": "https://localhost:8080/"
    },
    "id": "mkjmT83Y34qc",
    "outputId": "7254ab33-14c5-4f9f-8e1e-e349cdcdddaa",
    "pycharm": {
     "name": "#%%\n",
     "is_executing": true
    },
    "ExecuteTime": {
     "end_time": "2023-07-24T16:32:24.447849Z",
     "start_time": "2023-07-24T16:32:24.444047Z"
    }
   },
   "outputs": [
    {
     "data": {
      "text/plain": "66"
     },
     "execution_count": 22,
     "metadata": {},
     "output_type": "execute_result"
    }
   ],
   "source": [
    "x.sum().item()"
   ]
  },
  {
   "cell_type": "markdown",
   "metadata": {
    "id": "7q3qKAAm5Sxx",
    "pycharm": {
     "name": "#%% md\n"
    }
   },
   "source": [
    "Преобразование типов"
   ]
  },
  {
   "cell_type": "code",
   "execution_count": 23,
   "metadata": {
    "colab": {
     "base_uri": "https://localhost:8080/"
    },
    "id": "T3TrDHdtc-Ek",
    "outputId": "a6ca57d6-4ffc-413d-a6e9-0a3dd65399f1",
    "pycharm": {
     "name": "#%%\n"
    },
    "ExecuteTime": {
     "end_time": "2023-07-24T16:32:27.238665Z",
     "start_time": "2023-07-24T16:32:27.231552Z"
    }
   },
   "outputs": [
    {
     "data": {
      "text/plain": "torch.int64"
     },
     "execution_count": 23,
     "metadata": {},
     "output_type": "execute_result"
    }
   ],
   "source": [
    "x.dtype"
   ]
  },
  {
   "cell_type": "code",
   "execution_count": 24,
   "metadata": {
    "colab": {
     "base_uri": "https://localhost:8080/"
    },
    "id": "glY_K40V4Quo",
    "outputId": "77bb5a07-1ec8-4ad2-abf5-bb6b2f438e0a",
    "pycharm": {
     "name": "#%%\n",
     "is_executing": true
    },
    "ExecuteTime": {
     "end_time": "2023-07-24T16:32:31.586786Z",
     "start_time": "2023-07-24T16:32:31.573412Z"
    }
   },
   "outputs": [
    {
     "data": {
      "text/plain": "tensor([[ 0.,  1.,  2.,  3.],\n        [ 4.,  5.,  6.,  7.],\n        [ 8.,  9., 10., 11.]], dtype=torch.float64)"
     },
     "execution_count": 24,
     "metadata": {},
     "output_type": "execute_result"
    }
   ],
   "source": [
    "x.double()"
   ]
  },
  {
   "cell_type": "code",
   "execution_count": 25,
   "metadata": {
    "colab": {
     "base_uri": "https://localhost:8080/"
    },
    "id": "jMJERiCG4QzN",
    "outputId": "998b7f6e-2e28-45e2-ba38-7b1b04e38258",
    "pycharm": {
     "name": "#%%\n",
     "is_executing": true
    },
    "ExecuteTime": {
     "end_time": "2023-07-24T16:32:34.784113Z",
     "start_time": "2023-07-24T16:32:34.777723Z"
    }
   },
   "outputs": [
    {
     "data": {
      "text/plain": "tensor([[ 0.,  1.,  2.,  3.],\n        [ 4.,  5.,  6.,  7.],\n        [ 8.,  9., 10., 11.]], dtype=torch.float64)"
     },
     "execution_count": 25,
     "metadata": {},
     "output_type": "execute_result"
    }
   ],
   "source": [
    "x.type('torch.DoubleTensor')"
   ]
  },
  {
   "cell_type": "code",
   "source": [
    "x = torch.tensor([4,5,6,7])\n",
    "y = 3\n",
    "x - y"
   ],
   "metadata": {
    "colab": {
     "base_uri": "https://localhost:8080/"
    },
    "id": "AOQQxQvmeE4Y",
    "outputId": "0647b459-b99a-447a-ac81-550a09ba2bf0",
    "pycharm": {
     "name": "#%%\n",
     "is_executing": true
    },
    "ExecuteTime": {
     "end_time": "2023-07-24T16:33:18.023841Z",
     "start_time": "2023-07-24T16:33:17.981752Z"
    }
   },
   "execution_count": 26,
   "outputs": [
    {
     "data": {
      "text/plain": "tensor([1, 2, 3, 4])"
     },
     "execution_count": 26,
     "metadata": {},
     "output_type": "execute_result"
    }
   ]
  },
  {
   "cell_type": "markdown",
   "metadata": {
    "id": "P1ekqZgJ-ubZ",
    "pycharm": {
     "name": "#%% md\n"
    }
   },
   "source": [
    "# Изменение размерности"
   ]
  },
  {
   "cell_type": "code",
   "execution_count": 27,
   "metadata": {
    "colab": {
     "base_uri": "https://localhost:8080/"
    },
    "id": "_S2N-Ooz--U4",
    "outputId": "ee930b05-d1d7-4377-e197-3929623c4dfc",
    "pycharm": {
     "name": "#%%\n",
     "is_executing": true
    },
    "ExecuteTime": {
     "end_time": "2023-07-24T16:33:57.318015Z",
     "start_time": "2023-07-24T16:33:57.314936Z"
    }
   },
   "outputs": [
    {
     "data": {
      "text/plain": "torch.Size([4])"
     },
     "execution_count": 27,
     "metadata": {},
     "output_type": "execute_result"
    }
   ],
   "source": [
    "x.shape"
   ]
  },
  {
   "cell_type": "code",
   "execution_count": 28,
   "metadata": {
    "colab": {
     "base_uri": "https://localhost:8080/"
    },
    "id": "a9V1Q_VkdfAb",
    "outputId": "b4ff4a2b-d198-4055-f20d-6fb9365bb1e0",
    "pycharm": {
     "name": "#%%\n",
     "is_executing": true
    },
    "ExecuteTime": {
     "end_time": "2023-07-24T16:34:00.123231Z",
     "start_time": "2023-07-24T16:34:00.119263Z"
    }
   },
   "outputs": [
    {
     "data": {
      "text/plain": "tensor([4, 5, 6, 7])"
     },
     "execution_count": 28,
     "metadata": {},
     "output_type": "execute_result"
    }
   ],
   "source": [
    "x"
   ]
  },
  {
   "cell_type": "code",
   "execution_count": 29,
   "metadata": {
    "colab": {
     "base_uri": "https://localhost:8080/"
    },
    "id": "FKCGpx7K4Q3M",
    "outputId": "a636dc50-2974-4e49-d9f4-a058b81d73d2",
    "pycharm": {
     "name": "#%%\n",
     "is_executing": true
    },
    "ExecuteTime": {
     "end_time": "2023-07-24T16:34:56.312475Z",
     "start_time": "2023-07-24T16:34:56.301625Z"
    }
   },
   "outputs": [
    {
     "data": {
      "text/plain": "torch.Size([4, 1])"
     },
     "execution_count": 29,
     "metadata": {},
     "output_type": "execute_result"
    }
   ],
   "source": [
    "x.unsqueeze(1).shape"
   ]
  },
  {
   "cell_type": "code",
   "execution_count": 30,
   "metadata": {
    "colab": {
     "base_uri": "https://localhost:8080/"
    },
    "id": "E8RbICUN_SAA",
    "outputId": "5323b86b-d16b-4095-bf97-f131dc5f932c",
    "pycharm": {
     "name": "#%%\n",
     "is_executing": true
    },
    "ExecuteTime": {
     "end_time": "2023-07-24T16:35:35.237776Z",
     "start_time": "2023-07-24T16:35:34.468415Z"
    }
   },
   "outputs": [
    {
     "ename": "IndexError",
     "evalue": "Dimension out of range (expected to be in range of [-2, 1], but got 2)",
     "output_type": "error",
     "traceback": [
      "\u001B[0;31m---------------------------------------------------------------------------\u001B[0m",
      "\u001B[0;31mIndexError\u001B[0m                                Traceback (most recent call last)",
      "Cell \u001B[0;32mIn[30], line 1\u001B[0m\n\u001B[0;32m----> 1\u001B[0m \u001B[43mx\u001B[49m\u001B[38;5;241;43m.\u001B[39;49m\u001B[43munsqueeze\u001B[49m\u001B[43m(\u001B[49m\u001B[38;5;241;43m2\u001B[39;49m\u001B[43m)\u001B[49m\n",
      "\u001B[0;31mIndexError\u001B[0m: Dimension out of range (expected to be in range of [-2, 1], but got 2)"
     ]
    }
   ],
   "source": [
    "x.unsqueeze(2)"
   ]
  },
  {
   "cell_type": "code",
   "execution_count": 31,
   "metadata": {
    "colab": {
     "background_save": true,
     "base_uri": "https://localhost:8080/"
    },
    "id": "7vxLqg43_EnJ",
    "outputId": "de45a0af-6db0-462d-8dbb-7e54451864d2",
    "pycharm": {
     "name": "#%%\n",
     "is_executing": true
    },
    "ExecuteTime": {
     "end_time": "2023-07-24T16:36:15.770294Z",
     "start_time": "2023-07-24T16:36:15.766451Z"
    }
   },
   "outputs": [
    {
     "data": {
      "text/plain": "torch.Size([4, 1])"
     },
     "execution_count": 31,
     "metadata": {},
     "output_type": "execute_result"
    }
   ],
   "source": [
    "x.unsqueeze(1).shape"
   ]
  },
  {
   "cell_type": "code",
   "execution_count": null,
   "metadata": {
    "colab": {
     "background_save": true,
     "base_uri": "https://localhost:8080/"
    },
    "id": "fLzx2maj_g5j",
    "outputId": "98a4efe4-58fb-41fc-84c1-686a06f39899",
    "pycharm": {
     "name": "#%%\n",
     "is_executing": true
    }
   },
   "outputs": [],
   "source": [
    "x.unsqueeze(1)"
   ]
  },
  {
   "cell_type": "code",
   "execution_count": null,
   "metadata": {
    "colab": {
     "background_save": true,
     "base_uri": "https://localhost:8080/"
    },
    "id": "71lHapAL_qHP",
    "outputId": "8c4ad49e-e26c-4f4e-b0f3-8f77cbc4cae3",
    "pycharm": {
     "name": "#%%\n",
     "is_executing": true
    }
   },
   "outputs": [],
   "source": [
    "x.unsqueeze(2).shape"
   ]
  },
  {
   "cell_type": "code",
   "execution_count": null,
   "metadata": {
    "colab": {
     "background_save": true,
     "base_uri": "https://localhost:8080/"
    },
    "id": "74lxudUz_nDj",
    "outputId": "c5c6d121-ece1-4252-9b5e-c0ac502c94af",
    "pycharm": {
     "name": "#%%\n",
     "is_executing": true
    }
   },
   "outputs": [],
   "source": [
    "x.unsqueeze(2)"
   ]
  },
  {
   "cell_type": "code",
   "execution_count": null,
   "metadata": {
    "colab": {
     "base_uri": "https://localhost:8080/"
    },
    "id": "fnQKkdTWeeGH",
    "outputId": "a036917f-3ccb-4bd8-9aa9-551027418390",
    "pycharm": {
     "name": "#%%\n",
     "is_executing": true
    }
   },
   "outputs": [],
   "source": [
    "x.unsqueeze(2).unsqueeze(1).squeeze().shape"
   ]
  },
  {
   "cell_type": "code",
   "execution_count": 32,
   "metadata": {
    "colab": {
     "background_save": true,
     "base_uri": "https://localhost:8080/"
    },
    "id": "2dws5akLeeKf",
    "outputId": "36adf4a6-cbdf-45f1-8156-6c6264ea6f25",
    "pycharm": {
     "name": "#%%\n",
     "is_executing": true
    },
    "ExecuteTime": {
     "end_time": "2023-07-24T16:36:23.066683Z",
     "start_time": "2023-07-24T16:36:23.051257Z"
    }
   },
   "outputs": [
    {
     "name": "stderr",
     "output_type": "stream",
     "text": [
      "/var/folders/91/k98801wn6yd0ssq44m34fwlh0000gn/T/ipykernel_68019/2120005694.py:1: UserWarning: The use of `x.T` on tensors of dimension other than 2 to reverse their shape is deprecated and it will throw an error in a future release. Consider `x.mT` to transpose batches of matrices or `x.permute(*torch.arange(x.ndim - 1, -1, -1))` to reverse the dimensions of a tensor. (Triggered internally at /Users/runner/work/pytorch/pytorch/pytorch/aten/src/ATen/native/TensorShape.cpp:3575.)\n",
      "  x.T\n"
     ]
    },
    {
     "data": {
      "text/plain": "tensor([4, 5, 6, 7])"
     },
     "execution_count": 32,
     "metadata": {},
     "output_type": "execute_result"
    }
   ],
   "source": [
    "x.T"
   ]
  },
  {
   "cell_type": "code",
   "execution_count": null,
   "metadata": {
    "colab": {
     "background_save": true,
     "base_uri": "https://localhost:8080/"
    },
    "id": "YZHER0zWeeQ2",
    "outputId": "71ed4d22-4930-48bc-9a10-2997d4c9cacd",
    "pycharm": {
     "name": "#%%\n",
     "is_executing": true
    }
   },
   "outputs": [],
   "source": [
    "x"
   ]
  },
  {
   "cell_type": "code",
   "execution_count": 33,
   "metadata": {
    "colab": {
     "background_save": true,
     "base_uri": "https://localhost:8080/"
    },
    "id": "rjWEuOiV_EsX",
    "outputId": "a0eebda0-d01c-47a1-be1f-bbb2a40700e6",
    "pycharm": {
     "name": "#%%\n",
     "is_executing": true
    },
    "ExecuteTime": {
     "end_time": "2023-07-24T16:36:28.936927Z",
     "start_time": "2023-07-24T16:36:28.923185Z"
    }
   },
   "outputs": [
    {
     "data": {
      "text/plain": "torch.Size([4])"
     },
     "execution_count": 33,
     "metadata": {},
     "output_type": "execute_result"
    }
   ],
   "source": [
    "x.unsqueeze(0).squeeze().shape"
   ]
  },
  {
   "cell_type": "markdown",
   "metadata": {
    "id": "Yj1CLDAD_xRP",
    "pycharm": {
     "name": "#%% md\n"
    }
   },
   "source": [
    "#  Транспонирование"
   ]
  },
  {
   "cell_type": "code",
   "execution_count": 34,
   "metadata": {
    "colab": {
     "background_save": true,
     "base_uri": "https://localhost:8080/"
    },
    "id": "1By4ACrE_9ay",
    "outputId": "df0a59dc-4c27-4968-9f37-b98f7150f756",
    "pycharm": {
     "name": "#%%\n",
     "is_executing": true
    },
    "ExecuteTime": {
     "end_time": "2023-07-24T16:36:33.473623Z",
     "start_time": "2023-07-24T16:36:33.421280Z"
    }
   },
   "outputs": [
    {
     "data": {
      "text/plain": "tensor([4, 5, 6, 7])"
     },
     "execution_count": 34,
     "metadata": {},
     "output_type": "execute_result"
    }
   ],
   "source": [
    "x.T"
   ]
  },
  {
   "cell_type": "code",
   "execution_count": 35,
   "metadata": {
    "colab": {
     "base_uri": "https://localhost:8080/"
    },
    "id": "8ZPegFj6_ja9",
    "outputId": "621f9492-55b5-42c9-8595-eb0868f944b1",
    "pycharm": {
     "name": "#%%\n",
     "is_executing": true
    },
    "ExecuteTime": {
     "end_time": "2023-07-24T16:37:11.339339Z",
     "start_time": "2023-07-24T16:37:11.295501Z"
    }
   },
   "outputs": [
    {
     "ename": "RuntimeError",
     "evalue": "permute(sparse_coo): number of dimensions in the tensor input does not match the length of the desired ordering of dimensions i.e. input.dim() = 1 is not equal to len(dims) = 2",
     "output_type": "error",
     "traceback": [
      "\u001B[0;31m---------------------------------------------------------------------------\u001B[0m",
      "\u001B[0;31mRuntimeError\u001B[0m                              Traceback (most recent call last)",
      "Cell \u001B[0;32mIn[35], line 1\u001B[0m\n\u001B[0;32m----> 1\u001B[0m \u001B[43mx\u001B[49m\u001B[38;5;241;43m.\u001B[39;49m\u001B[43mpermute\u001B[49m\u001B[43m(\u001B[49m\u001B[38;5;241;43m1\u001B[39;49m\u001B[43m,\u001B[49m\u001B[38;5;241;43m0\u001B[39;49m\u001B[43m)\u001B[49m\n",
      "\u001B[0;31mRuntimeError\u001B[0m: permute(sparse_coo): number of dimensions in the tensor input does not match the length of the desired ordering of dimensions i.e. input.dim() = 1 is not equal to len(dims) = 2"
     ]
    }
   ],
   "source": [
    "x.permute(1,0)"
   ]
  },
  {
   "cell_type": "code",
   "execution_count": 36,
   "metadata": {
    "id": "KIAJVPG5f606",
    "pycharm": {
     "name": "#%%\n"
    },
    "ExecuteTime": {
     "end_time": "2023-07-24T16:37:40.122694Z",
     "start_time": "2023-07-24T16:37:40.108212Z"
    }
   },
   "outputs": [],
   "source": [
    "xx = torch.rand((2,3,4))"
   ]
  },
  {
   "cell_type": "code",
   "execution_count": 37,
   "metadata": {
    "colab": {
     "base_uri": "https://localhost:8080/"
    },
    "id": "Plo-kw5agOTF",
    "outputId": "3a06a567-2451-4880-f52c-cfb203f6f459",
    "pycharm": {
     "name": "#%%\n",
     "is_executing": true
    },
    "ExecuteTime": {
     "end_time": "2023-07-24T16:37:41.350008Z",
     "start_time": "2023-07-24T16:37:41.346385Z"
    }
   },
   "outputs": [
    {
     "data": {
      "text/plain": "tensor([[[0.6644, 0.0523, 0.1400, 0.7359],\n         [0.6177, 0.8154, 0.3962, 0.9386],\n         [0.7724, 0.9588, 0.6598, 0.3044]],\n\n        [[0.0797, 0.3514, 0.4053, 0.0949],\n         [0.0887, 0.0062, 0.0535, 0.3824],\n         [0.6267, 0.9731, 0.8734, 0.3243]]])"
     },
     "execution_count": 37,
     "metadata": {},
     "output_type": "execute_result"
    }
   ],
   "source": [
    "xx"
   ]
  },
  {
   "cell_type": "code",
   "execution_count": 38,
   "metadata": {
    "colab": {
     "base_uri": "https://localhost:8080/"
    },
    "id": "b4QnCAMYf67U",
    "outputId": "e5169ee2-735a-4bb4-bb44-5bbeb8165fb9",
    "pycharm": {
     "name": "#%%\n",
     "is_executing": true
    },
    "ExecuteTime": {
     "end_time": "2023-07-24T16:37:43.272078Z",
     "start_time": "2023-07-24T16:37:43.260205Z"
    }
   },
   "outputs": [
    {
     "data": {
      "text/plain": "tensor([[[0.6644, 0.0797],\n         [0.0523, 0.3514],\n         [0.1400, 0.4053],\n         [0.7359, 0.0949]],\n\n        [[0.6177, 0.0887],\n         [0.8154, 0.0062],\n         [0.3962, 0.0535],\n         [0.9386, 0.3824]],\n\n        [[0.7724, 0.6267],\n         [0.9588, 0.9731],\n         [0.6598, 0.8734],\n         [0.3044, 0.3243]]])"
     },
     "execution_count": 38,
     "metadata": {},
     "output_type": "execute_result"
    }
   ],
   "source": [
    "xx.permute(1,2,0)"
   ]
  },
  {
   "cell_type": "code",
   "execution_count": null,
   "metadata": {
    "colab": {
     "background_save": true,
     "base_uri": "https://localhost:8080/"
    },
    "id": "vbySFY1RA1vl",
    "outputId": "3eef62bb-09a8-43f0-ca6c-8b2363711728",
    "pycharm": {
     "name": "#%%\n",
     "is_executing": true
    }
   },
   "outputs": [],
   "source": [
    "x.sum()"
   ]
  },
  {
   "cell_type": "code",
   "execution_count": null,
   "metadata": {
    "colab": {
     "background_save": true,
     "base_uri": "https://localhost:8080/"
    },
    "id": "xHAoHjxCjW4y",
    "outputId": "1d6f8554-bb2e-4ac3-94dc-693050aa1d72",
    "pycharm": {
     "name": "#%%\n",
     "is_executing": true
    }
   },
   "outputs": [],
   "source": [
    "x.shape"
   ]
  },
  {
   "cell_type": "code",
   "execution_count": null,
   "metadata": {
    "colab": {
     "background_save": true,
     "base_uri": "https://localhost:8080/"
    },
    "id": "c39J_2UhjNCB",
    "outputId": "cceed307-d931-4ee8-bcc3-861ab3bde6b7",
    "pycharm": {
     "name": "#%%\n",
     "is_executing": true
    }
   },
   "outputs": [],
   "source": [
    "x.sum(dim=1).shape"
   ]
  },
  {
   "cell_type": "code",
   "execution_count": null,
   "metadata": {
    "colab": {
     "background_save": true,
     "base_uri": "https://localhost:8080/"
    },
    "id": "m2QsIST0ApTk",
    "outputId": "b35b23ba-4e9f-4fe8-e364-42c15fc2506e",
    "pycharm": {
     "name": "#%%\n",
     "is_executing": true
    }
   },
   "outputs": [],
   "source": [
    "x.sum(dim=1, keepdim=True).shape"
   ]
  },
  {
   "cell_type": "code",
   "execution_count": null,
   "metadata": {
    "colab": {
     "background_save": true,
     "base_uri": "https://localhost:8080/"
    },
    "id": "9rfhXedJApY_",
    "outputId": "77e43eb1-5e32-494a-f629-eb44ed5f1589",
    "pycharm": {
     "name": "#%%\n",
     "is_executing": true
    }
   },
   "outputs": [],
   "source": [
    "x.sum(dim=0, keepdim=True).shape"
   ]
  },
  {
   "cell_type": "markdown",
   "metadata": {
    "id": "ugl_OPKE34qc",
    "pycharm": {
     "name": "#%% md\n"
    }
   },
   "source": [
    "## Broadcast \n",
    "\n",
    "Выполнять операции можно не только с тензорами одинакового размера, но и разного. Когда их формы различаются, запускается механизм broadcast'а: Сначала элементы копируются соответствующим образом, чтобы два тензора имели одинаковую форму, а затем операции выполняются поэлементно."
   ]
  },
  {
   "cell_type": "code",
   "execution_count": 39,
   "metadata": {
    "colab": {
     "base_uri": "https://localhost:8080/"
    },
    "id": "2DMPJepA34qc",
    "scrolled": true,
    "outputId": "24442cc2-cd79-4b97-b8be-d3d80770833d",
    "pycharm": {
     "name": "#%%\n",
     "is_executing": true
    },
    "ExecuteTime": {
     "end_time": "2023-07-24T16:39:57.525617Z",
     "start_time": "2023-07-24T16:39:57.512135Z"
    }
   },
   "outputs": [
    {
     "data": {
      "text/plain": "(tensor([[0],\n         [1],\n         [2]]),\n tensor([[0, 1, 2, 3]]))"
     },
     "execution_count": 39,
     "metadata": {},
     "output_type": "execute_result"
    }
   ],
   "source": [
    "a = torch.arange(3).reshape((3, 1))\n",
    "b = torch.arange(4).reshape((1, 4))\n",
    "a, b"
   ]
  },
  {
   "cell_type": "markdown",
   "metadata": {
    "id": "3fsNkk6O34qc",
    "pycharm": {
     "name": "#%% md\n"
    }
   },
   "source": [
    "Поскольку a и b являются матрицами (3x1) и (1x2) соответственно, их формы не совпадают. Torch решает эту проблему путем broadcast'а значений обеих матриц в большую (3x2) матрицу следующим образом: для матрицы a он реплицирует столбцы, для матрицы b он реплицирует строки. После чего запускается операция сложения"
   ]
  },
  {
   "cell_type": "code",
   "execution_count": 40,
   "metadata": {
    "colab": {
     "base_uri": "https://localhost:8080/"
    },
    "id": "E73QA5hZ34qc",
    "outputId": "a5dbc239-2a71-4fb1-f42b-926f90994dbd",
    "pycharm": {
     "name": "#%%\n",
     "is_executing": true
    },
    "ExecuteTime": {
     "end_time": "2023-07-24T16:40:37.720160Z",
     "start_time": "2023-07-24T16:40:37.699257Z"
    }
   },
   "outputs": [
    {
     "data": {
      "text/plain": "tensor([[0, 1, 2, 3],\n        [1, 2, 3, 4],\n        [2, 3, 4, 5]])"
     },
     "execution_count": 40,
     "metadata": {},
     "output_type": "execute_result"
    }
   ],
   "source": [
    "a + b"
   ]
  },
  {
   "cell_type": "markdown",
   "metadata": {
    "id": "mGsDt2oI34qc",
    "pycharm": {
     "name": "#%% md\n"
    }
   },
   "source": [
    "## Индексирование\n",
    "\n",
    "Как и в любом другом массиве Python, элементы в тензоре могут быть доступны по их индексу. По традиции первый элемент имеет индекс 0, а диапазоны указываются для включения первого, но не последнего элемента. По этой логике `1: 3` выбирает второй и третий элемент из тензора"
   ]
  },
  {
   "cell_type": "code",
   "execution_count": null,
   "metadata": {
    "colab": {
     "base_uri": "https://localhost:8080/"
    },
    "id": "VoIV0zfd34qc",
    "outputId": "76b73959-3ded-4737-e85d-9e0b76d011d6",
    "pycharm": {
     "name": "#%%\n",
     "is_executing": true
    }
   },
   "outputs": [],
   "source": [
    "x"
   ]
  },
  {
   "cell_type": "code",
   "execution_count": null,
   "metadata": {
    "colab": {
     "base_uri": "https://localhost:8080/"
    },
    "id": "exlpsUvO34qc",
    "outputId": "96c37136-ea83-4b53-ee5c-b1d57c95608e",
    "pycharm": {
     "name": "#%%\n",
     "is_executing": true
    }
   },
   "outputs": [],
   "source": [
    "x[1:3, 1:3] # [срез строки, срез столбца]"
   ]
  },
  {
   "cell_type": "markdown",
   "metadata": {
    "id": "jQl5OOWd34qc",
    "pycharm": {
     "name": "#%% md\n"
    }
   },
   "source": [
    "Мы так же можем изменять значения в тензоре"
   ]
  },
  {
   "cell_type": "code",
   "execution_count": null,
   "metadata": {
    "colab": {
     "base_uri": "https://localhost:8080/"
    },
    "id": "L5uldJc734qc",
    "outputId": "50a86ed0-47ce-4186-9755-4c015fecff91",
    "pycharm": {
     "name": "#%%\n",
     "is_executing": true
    }
   },
   "outputs": [],
   "source": [
    "x[1:3, 2:3] = 9\n",
    "x"
   ]
  },
  {
   "cell_type": "markdown",
   "metadata": {
    "id": "74LlTvcY34qc",
    "pycharm": {
     "name": "#%% md\n"
    }
   },
   "source": [
    "Если мы хотим присвоить нескольким элементам одно и то же значение, мы просто индексируем все из них (при помощи оператора `:`), а затем присваиваем им значение. Например, `[0:2,:]` обращается к первой и второй строчкам."
   ]
  },
  {
   "cell_type": "code",
   "execution_count": null,
   "metadata": {
    "colab": {
     "base_uri": "https://localhost:8080/"
    },
    "id": "vc2sGtyA34qc",
    "outputId": "fe28de74-fd17-4280-fecf-1db4d21048e9",
    "pycharm": {
     "name": "#%%\n",
     "is_executing": true
    }
   },
   "outputs": [],
   "source": [
    "x[0:2, :] = 12\n",
    "x"
   ]
  },
  {
   "cell_type": "markdown",
   "metadata": {
    "id": "hOCnSvL434qc",
    "pycharm": {
     "name": "#%% md\n"
    }
   },
   "source": [
    "## В numpy и назад"
   ]
  },
  {
   "cell_type": "code",
   "execution_count": null,
   "metadata": {
    "colab": {
     "base_uri": "https://localhost:8080/"
    },
    "id": "WkOvY9KQ34qc",
    "outputId": "d9e91268-d816-4c3f-e140-ddfa4dcf0015",
    "pycharm": {
     "name": "#%%\n",
     "is_executing": true
    }
   },
   "outputs": [],
   "source": [
    "x.numpy()"
   ]
  },
  {
   "cell_type": "code",
   "execution_count": null,
   "metadata": {
    "colab": {
     "base_uri": "https://localhost:8080/"
    },
    "id": "xelGRn4L34qc",
    "outputId": "d4ab44c0-7c33-42b1-ff19-b952b63b950d",
    "pycharm": {
     "name": "#%%\n",
     "is_executing": true
    }
   },
   "outputs": [],
   "source": [
    "y = torch.tensor(x.numpy())\n",
    "y"
   ]
  },
  {
   "cell_type": "markdown",
   "metadata": {
    "id": "wrBPGmYI34qc",
    "pycharm": {
     "name": "#%% md\n"
    }
   },
   "source": [
    "## Практика"
   ]
  },
  {
   "cell_type": "markdown",
   "metadata": {
    "id": "Ih_9Za0d34qc",
    "pycharm": {
     "name": "#%% md\n"
    }
   },
   "source": [
    "1. Создайте случайный тензор размерности (7,7):"
   ]
  },
  {
   "cell_type": "code",
   "execution_count": 15,
   "outputs": [],
   "source": [],
   "metadata": {
    "collapsed": false,
    "pycharm": {
     "name": "#%%\n"
    }
   }
  },
  {
   "cell_type": "markdown",
   "source": [
    "2. Определите операцию матричного умножения на тензоре с шага 1 с любым случайным тензором с размерностью (1, 7):"
   ],
   "metadata": {
    "collapsed": false,
    "pycharm": {
     "name": "#%% md\n"
    }
   }
  },
  {
   "cell_type": "code",
   "execution_count": null,
   "outputs": [],
   "source": [],
   "metadata": {
    "collapsed": false
   }
  },
  {
   "cell_type": "markdown",
   "source": [
    "3. Найдите максимум, минимум и среднее значение для полученного тензора (шаг 2):"
   ],
   "metadata": {
    "collapsed": false
   }
  },
  {
   "cell_type": "code",
   "execution_count": null,
   "outputs": [],
   "source": [],
   "metadata": {
    "collapsed": false
   }
  },
  {
   "cell_type": "markdown",
   "source": [
    "4. Найдите индекс максимального и минимального значения для тензора, полученного в шаге 2:"
   ],
   "metadata": {
    "collapsed": false
   }
  },
  {
   "cell_type": "code",
   "execution_count": null,
   "outputs": [],
   "source": [],
   "metadata": {
    "collapsed": false
   }
  },
  {
   "cell_type": "markdown",
   "source": [
    "5. Найдите обратную матрицу (тензор), для матрицы (тензора) полученного на шаге 2:"
   ],
   "metadata": {
    "collapsed": false
   }
  },
  {
   "cell_type": "code",
   "execution_count": null,
   "outputs": [],
   "source": [],
   "metadata": {
    "collapsed": false
   }
  }
 ],
 "metadata": {
  "colab": {
   "collapsed_sections": [
    "Yj1CLDAD_xRP",
    "ugl_OPKE34qc",
    "mGsDt2oI34qc",
    "hOCnSvL434qc",
    "wrBPGmYI34qc",
    "tws2kh1Q34qd",
    "jBy7JnNt34qd"
   ],
   "name": "DLL_Лекция_1_2.ipynb",
   "provenance": []
  },
  "kernelspec": {
   "display_name": "Python 3",
   "language": "python",
   "name": "python3"
  },
  "language_info": {
   "codemirror_mode": {
    "name": "ipython",
    "version": 3
   },
   "file_extension": ".py",
   "mimetype": "text/x-python",
   "name": "python",
   "nbconvert_exporter": "python",
   "pygments_lexer": "ipython3",
   "version": "3.7.1"
  }
 },
 "nbformat": 4,
 "nbformat_minor": 0
}
