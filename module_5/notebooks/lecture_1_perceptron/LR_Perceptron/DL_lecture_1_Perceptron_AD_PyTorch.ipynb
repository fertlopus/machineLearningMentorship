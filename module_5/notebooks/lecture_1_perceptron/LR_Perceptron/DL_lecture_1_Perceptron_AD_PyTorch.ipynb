{
 "cells": [
  {
   "cell_type": "markdown",
   "metadata": {
    "id": "2ZIiCcBm31Wv",
    "pycharm": {
     "name": "#%% md\n"
    }
   },
   "source": [
    "## Автоматическое дифференцирование"
   ]
  },
  {
   "cell_type": "code",
   "execution_count": 2,
   "metadata": {
    "id": "aYrk3oBX31Ww",
    "pycharm": {
     "name": "#%%\n"
    },
    "ExecuteTime": {
     "end_time": "2023-07-24T17:13:12.211774Z",
     "start_time": "2023-07-24T17:13:12.198582Z"
    }
   },
   "outputs": [],
   "source": [
    "import torch\n",
    "from torch import nn\n",
    "from torch import autograd\n",
    "import warnings\n",
    "import matplotlib.pyplot as plt\n",
    "import seaborn as sns\n",
    "import numpy as np\n",
    "warnings.filterwarnings(\"ignore\")"
   ]
  },
  {
   "cell_type": "code",
   "execution_count": 3,
   "metadata": {
    "id": "nBnQNG7i31Ww",
    "colab": {
     "base_uri": "https://localhost:8080/"
    },
    "outputId": "26581613-e551-4102-ba61-91dbd5f6a49b",
    "pycharm": {
     "name": "#%%\n",
     "is_executing": true
    },
    "ExecuteTime": {
     "end_time": "2023-07-24T17:14:28.193944Z",
     "start_time": "2023-07-24T17:14:28.190257Z"
    }
   },
   "outputs": [
    {
     "name": "stdout",
     "output_type": "stream",
     "text": [
      "tensor([0., 1., 2., 3.])\n"
     ]
    }
   ],
   "source": [
    "x = torch.arange(4).type(torch.float)\n",
    "print(x)"
   ]
  },
  {
   "cell_type": "markdown",
   "metadata": {
    "id": "9IURmWho31Ww",
    "pycharm": {
     "name": "#%% md\n"
    }
   },
   "source": [
    "## Присоединение градиента к `x`\n",
    "\n",
    "- Говорит системе, что мы хотим хранить градиент"
   ]
  },
  {
   "cell_type": "code",
   "execution_count": 4,
   "metadata": {
    "id": "9-8w-QC931Ww",
    "colab": {
     "base_uri": "https://localhost:8080/"
    },
    "outputId": "da79c7dd-1390-4e39-dd75-68e2fa97c5e5",
    "pycharm": {
     "name": "#%%\n",
     "is_executing": true
    },
    "ExecuteTime": {
     "end_time": "2023-07-24T17:15:43.890787Z",
     "start_time": "2023-07-24T17:15:43.886477Z"
    }
   },
   "outputs": [
    {
     "data": {
      "text/plain": "False"
     },
     "execution_count": 4,
     "metadata": {},
     "output_type": "execute_result"
    }
   ],
   "source": [
    "x.requires_grad"
   ]
  },
  {
   "cell_type": "code",
   "execution_count": 5,
   "metadata": {
    "id": "ilpGW8d031Ww",
    "pycharm": {
     "name": "#%%\n"
    },
    "ExecuteTime": {
     "end_time": "2023-07-24T17:16:18.249238Z",
     "start_time": "2023-07-24T17:16:18.245803Z"
    }
   },
   "outputs": [],
   "source": [
    "x = x.requires_grad_()"
   ]
  },
  {
   "cell_type": "code",
   "execution_count": 6,
   "metadata": {
    "id": "7gr4GM2Z31Ww",
    "colab": {
     "base_uri": "https://localhost:8080/"
    },
    "outputId": "b9883c36-5a0e-45cc-d7e3-b88421930e92",
    "pycharm": {
     "name": "#%%\n",
     "is_executing": true
    },
    "ExecuteTime": {
     "end_time": "2023-07-24T17:16:19.796640Z",
     "start_time": "2023-07-24T17:16:19.792401Z"
    }
   },
   "outputs": [
    {
     "data": {
      "text/plain": "True"
     },
     "execution_count": 6,
     "metadata": {},
     "output_type": "execute_result"
    }
   ],
   "source": [
    "x.requires_grad"
   ]
  },
  {
   "cell_type": "code",
   "execution_count": 7,
   "metadata": {
    "id": "DLrma54A31Ww",
    "pycharm": {
     "name": "#%%\n"
    },
    "ExecuteTime": {
     "end_time": "2023-07-24T17:16:39.910068Z",
     "start_time": "2023-07-24T17:16:39.905566Z"
    }
   },
   "outputs": [],
   "source": [
    "x.grad"
   ]
  },
  {
   "cell_type": "markdown",
   "metadata": {
    "id": "qf8SjbES31Ww",
    "pycharm": {
     "name": "#%% md\n"
    }
   },
   "source": [
    "## Forward Propagation (Метод Прямого распространения)\n",
    "\n",
    "Найдем решение в заданной функции:\n",
    "\n",
    "$$y = 2\\mathbf{x}^{\\top}\\mathbf{x}$$"
   ]
  },
  {
   "cell_type": "code",
   "execution_count": 8,
   "metadata": {
    "id": "Rial63TM31Ww",
    "colab": {
     "base_uri": "https://localhost:8080/"
    },
    "outputId": "88851f5c-bd5c-4cad-f182-49c8cd02c7c3",
    "pycharm": {
     "name": "#%%\n"
    },
    "ExecuteTime": {
     "end_time": "2023-07-24T17:17:21.429895Z",
     "start_time": "2023-07-24T17:17:21.418112Z"
    }
   },
   "outputs": [],
   "source": [
    "y = 2 * x.dot(x.T)\n",
    "# y2 = 2 * x.dot(x.T)"
   ]
  },
  {
   "cell_type": "code",
   "execution_count": 9,
   "metadata": {
    "id": "gJ6OPpMa31Ww",
    "colab": {
     "base_uri": "https://localhost:8080/"
    },
    "outputId": "fa59fc41-e6b5-4256-ab48-882b06f0d795",
    "pycharm": {
     "name": "#%%\n",
     "is_executing": true
    },
    "ExecuteTime": {
     "end_time": "2023-07-24T17:17:23.827388Z",
     "start_time": "2023-07-24T17:17:23.822930Z"
    }
   },
   "outputs": [
    {
     "data": {
      "text/plain": "tensor(28., grad_fn=<MulBackward0>)"
     },
     "execution_count": 9,
     "metadata": {},
     "output_type": "execute_result"
    }
   ],
   "source": [
    "y"
   ]
  },
  {
   "cell_type": "markdown",
   "metadata": {
    "id": "ENNZlqQQ31Ww",
    "pycharm": {
     "name": "#%% md\n"
    }
   },
   "source": [
    "## Backward Propagation"
   ]
  },
  {
   "cell_type": "code",
   "execution_count": 10,
   "metadata": {
    "id": "hSPS6vkq31Ww",
    "pycharm": {
     "name": "#%%\n"
    },
    "ExecuteTime": {
     "end_time": "2023-07-24T17:18:48.150683Z",
     "start_time": "2023-07-24T17:18:48.096191Z"
    }
   },
   "outputs": [],
   "source": [
    "y.backward()"
   ]
  },
  {
   "cell_type": "markdown",
   "metadata": {
    "id": "gNGtphuz31Ww",
    "pycharm": {
     "name": "#%% md\n"
    }
   },
   "source": [
    "## Получение градиента\n",
    "\n",
    "$y = 2\\mathbf{x}^{\\top}\\mathbf{x}$, значит \n",
    "\n",
    "$$\\frac{\\partial y}{\\partial \\mathbf x} = 4\\mathbf{x}$$\n",
    "\n",
    "Проверим:"
   ]
  },
  {
   "cell_type": "code",
   "execution_count": 13,
   "outputs": [
    {
     "data": {
      "text/plain": "tensor([0., 1., 2., 3.], requires_grad=True)"
     },
     "execution_count": 13,
     "metadata": {},
     "output_type": "execute_result"
    }
   ],
   "source": [
    "x"
   ],
   "metadata": {
    "collapsed": false,
    "ExecuteTime": {
     "end_time": "2023-07-24T17:20:11.719350Z",
     "start_time": "2023-07-24T17:20:11.687960Z"
    }
   }
  },
  {
   "cell_type": "code",
   "execution_count": 11,
   "metadata": {
    "id": "glDck1bX31Ww",
    "colab": {
     "base_uri": "https://localhost:8080/"
    },
    "outputId": "28526810-3788-4b12-9c61-b8f9ba067452",
    "pycharm": {
     "name": "#%%\n",
     "is_executing": true
    },
    "ExecuteTime": {
     "end_time": "2023-07-24T17:19:35.181565Z",
     "start_time": "2023-07-24T17:19:35.177718Z"
    }
   },
   "outputs": [
    {
     "data": {
      "text/plain": "tensor([ 0.,  4.,  8., 12.])"
     },
     "execution_count": 11,
     "metadata": {},
     "output_type": "execute_result"
    }
   ],
   "source": [
    "x.grad"
   ]
  },
  {
   "cell_type": "code",
   "execution_count": 12,
   "metadata": {
    "id": "BuzBfu1A31Wx",
    "colab": {
     "base_uri": "https://localhost:8080/"
    },
    "outputId": "e8835106-22f4-4fd8-bb96-57badcf99fbf",
    "pycharm": {
     "name": "#%%\n",
     "is_executing": true
    },
    "ExecuteTime": {
     "end_time": "2023-07-24T17:19:41.008912Z",
     "start_time": "2023-07-24T17:19:41.004459Z"
    }
   },
   "outputs": [
    {
     "data": {
      "text/plain": "tensor([True, True, True, True])"
     },
     "execution_count": 12,
     "metadata": {},
     "output_type": "execute_result"
    }
   ],
   "source": [
    "4 * x == x.grad"
   ]
  },
  {
   "cell_type": "markdown",
   "metadata": {
    "id": "O7s8xgfh31Wx",
    "pycharm": {
     "name": "#%% md\n"
    }
   },
   "source": [
    "## no_grad\n",
    "\n",
    "функция no_grad позволяет отключить вычисление градиента для части кода"
   ]
  },
  {
   "cell_type": "code",
   "execution_count": 14,
   "metadata": {
    "id": "F5DExvLF31Wx",
    "colab": {
     "base_uri": "https://localhost:8080/"
    },
    "outputId": "da5a9139-451d-44d7-8889-8d5118cd6730",
    "pycharm": {
     "name": "#%%\n",
     "is_executing": true
    },
    "ExecuteTime": {
     "end_time": "2023-07-24T17:21:54.659693Z",
     "start_time": "2023-07-24T17:21:54.655711Z"
    }
   },
   "outputs": [
    {
     "name": "stdout",
     "output_type": "stream",
     "text": [
      "<MulBackward0 object at 0x1428fab00>\n",
      "None\n"
     ]
    }
   ],
   "source": [
    "y = 2 * x.dot(x)\n",
    "print(y.grad_fn)\n",
    "\n",
    "with torch.no_grad():\n",
    "    y = 2 * x.dot(x)\n",
    "    print(y.grad_fn)"
   ]
  },
  {
   "cell_type": "code",
   "execution_count": 15,
   "metadata": {
    "id": "5G8lgKfp0Kkc",
    "colab": {
     "base_uri": "https://localhost:8080/"
    },
    "outputId": "b5ebfceb-80e3-4eea-f9ff-4da49264def6",
    "pycharm": {
     "name": "#%%\n",
     "is_executing": true
    },
    "ExecuteTime": {
     "end_time": "2023-07-24T17:21:59.762264Z",
     "start_time": "2023-07-24T17:21:59.755853Z"
    }
   },
   "outputs": [
    {
     "data": {
      "text/plain": "tensor([ 0.,  4.,  8., 12.])"
     },
     "execution_count": 15,
     "metadata": {},
     "output_type": "execute_result"
    }
   ],
   "source": [
    "x.grad"
   ]
  },
  {
   "cell_type": "code",
   "execution_count": 16,
   "metadata": {
    "id": "4GCZhuT231Wx",
    "colab": {
     "base_uri": "https://localhost:8080/",
     "height": 410
    },
    "outputId": "d7acf93b-f35a-4d91-dcaf-bacdab4c12cd",
    "pycharm": {
     "name": "#%%\n"
    },
    "ExecuteTime": {
     "end_time": "2023-07-24T17:25:24.238697Z",
     "start_time": "2023-07-24T17:25:23.642152Z"
    }
   },
   "outputs": [
    {
     "name": "stdout",
     "output_type": "stream",
     "text": [
      "tensor([ 0.,  8., 16., 24.])\n"
     ]
    },
    {
     "ename": "RuntimeError",
     "evalue": "element 0 of tensors does not require grad and does not have a grad_fn",
     "output_type": "error",
     "traceback": [
      "\u001B[0;31m---------------------------------------------------------------------------\u001B[0m",
      "\u001B[0;31mRuntimeError\u001B[0m                              Traceback (most recent call last)",
      "Cell \u001B[0;32mIn[16], line 8\u001B[0m\n\u001B[1;32m      6\u001B[0m \u001B[38;5;28;01mwith\u001B[39;00m torch\u001B[38;5;241m.\u001B[39mno_grad():\n\u001B[1;32m      7\u001B[0m     y \u001B[38;5;241m=\u001B[39m \u001B[38;5;241m2\u001B[39m \u001B[38;5;241m*\u001B[39m x\u001B[38;5;241m.\u001B[39mdot(x)\n\u001B[0;32m----> 8\u001B[0m     \u001B[43my\u001B[49m\u001B[38;5;241;43m.\u001B[39;49m\u001B[43mbackward\u001B[49m\u001B[43m(\u001B[49m\u001B[43m)\u001B[49m\n\u001B[1;32m      9\u001B[0m     \u001B[38;5;28mprint\u001B[39m(x\u001B[38;5;241m.\u001B[39mgrad)\n",
      "File \u001B[0;32m~/Desktop/Projects/DS_Foundations/venv/lib/python3.10/site-packages/torch/_tensor.py:487\u001B[0m, in \u001B[0;36mTensor.backward\u001B[0;34m(self, gradient, retain_graph, create_graph, inputs)\u001B[0m\n\u001B[1;32m    477\u001B[0m \u001B[38;5;28;01mif\u001B[39;00m has_torch_function_unary(\u001B[38;5;28mself\u001B[39m):\n\u001B[1;32m    478\u001B[0m     \u001B[38;5;28;01mreturn\u001B[39;00m handle_torch_function(\n\u001B[1;32m    479\u001B[0m         Tensor\u001B[38;5;241m.\u001B[39mbackward,\n\u001B[1;32m    480\u001B[0m         (\u001B[38;5;28mself\u001B[39m,),\n\u001B[0;32m   (...)\u001B[0m\n\u001B[1;32m    485\u001B[0m         inputs\u001B[38;5;241m=\u001B[39minputs,\n\u001B[1;32m    486\u001B[0m     )\n\u001B[0;32m--> 487\u001B[0m \u001B[43mtorch\u001B[49m\u001B[38;5;241;43m.\u001B[39;49m\u001B[43mautograd\u001B[49m\u001B[38;5;241;43m.\u001B[39;49m\u001B[43mbackward\u001B[49m\u001B[43m(\u001B[49m\n\u001B[1;32m    488\u001B[0m \u001B[43m    \u001B[49m\u001B[38;5;28;43mself\u001B[39;49m\u001B[43m,\u001B[49m\u001B[43m \u001B[49m\u001B[43mgradient\u001B[49m\u001B[43m,\u001B[49m\u001B[43m \u001B[49m\u001B[43mretain_graph\u001B[49m\u001B[43m,\u001B[49m\u001B[43m \u001B[49m\u001B[43mcreate_graph\u001B[49m\u001B[43m,\u001B[49m\u001B[43m \u001B[49m\u001B[43minputs\u001B[49m\u001B[38;5;241;43m=\u001B[39;49m\u001B[43minputs\u001B[49m\n\u001B[1;32m    489\u001B[0m \u001B[43m\u001B[49m\u001B[43m)\u001B[49m\n",
      "File \u001B[0;32m~/Desktop/Projects/DS_Foundations/venv/lib/python3.10/site-packages/torch/autograd/__init__.py:200\u001B[0m, in \u001B[0;36mbackward\u001B[0;34m(tensors, grad_tensors, retain_graph, create_graph, grad_variables, inputs)\u001B[0m\n\u001B[1;32m    195\u001B[0m     retain_graph \u001B[38;5;241m=\u001B[39m create_graph\n\u001B[1;32m    197\u001B[0m \u001B[38;5;66;03m# The reason we repeat same the comment below is that\u001B[39;00m\n\u001B[1;32m    198\u001B[0m \u001B[38;5;66;03m# some Python versions print out the first line of a multi-line function\u001B[39;00m\n\u001B[1;32m    199\u001B[0m \u001B[38;5;66;03m# calls in the traceback and some print out the last line\u001B[39;00m\n\u001B[0;32m--> 200\u001B[0m \u001B[43mVariable\u001B[49m\u001B[38;5;241;43m.\u001B[39;49m\u001B[43m_execution_engine\u001B[49m\u001B[38;5;241;43m.\u001B[39;49m\u001B[43mrun_backward\u001B[49m\u001B[43m(\u001B[49m\u001B[43m  \u001B[49m\u001B[38;5;66;43;03m# Calls into the C++ engine to run the backward pass\u001B[39;49;00m\n\u001B[1;32m    201\u001B[0m \u001B[43m    \u001B[49m\u001B[43mtensors\u001B[49m\u001B[43m,\u001B[49m\u001B[43m \u001B[49m\u001B[43mgrad_tensors_\u001B[49m\u001B[43m,\u001B[49m\u001B[43m \u001B[49m\u001B[43mretain_graph\u001B[49m\u001B[43m,\u001B[49m\u001B[43m \u001B[49m\u001B[43mcreate_graph\u001B[49m\u001B[43m,\u001B[49m\u001B[43m \u001B[49m\u001B[43minputs\u001B[49m\u001B[43m,\u001B[49m\n\u001B[1;32m    202\u001B[0m \u001B[43m    \u001B[49m\u001B[43mallow_unreachable\u001B[49m\u001B[38;5;241;43m=\u001B[39;49m\u001B[38;5;28;43;01mTrue\u001B[39;49;00m\u001B[43m,\u001B[49m\u001B[43m \u001B[49m\u001B[43maccumulate_grad\u001B[49m\u001B[38;5;241;43m=\u001B[39;49m\u001B[38;5;28;43;01mTrue\u001B[39;49;00m\u001B[43m)\u001B[49m\n",
      "\u001B[0;31mRuntimeError\u001B[0m: element 0 of tensors does not require grad and does not have a grad_fn"
     ]
    }
   ],
   "source": [
    "y = 2 * x.dot(x)\n",
    "y.backward()\n",
    "print(x.grad)\n",
    "\n",
    "# new version with torch.inference_mode():\n",
    "with torch.no_grad():\n",
    "    y = 2 * x.dot(x)\n",
    "    y.backward()\n",
    "    print(x.grad)"
   ]
  },
  {
   "cell_type": "markdown",
   "metadata": {
    "id": "9oZBfVqd31Wx",
    "pycharm": {
     "name": "#%% md\n"
    }
   },
   "source": [
    "## Гибкий граф"
   ]
  },
  {
   "cell_type": "code",
   "execution_count": 18,
   "metadata": {
    "id": "5cMlgUBQ31Wx",
    "pycharm": {
     "name": "#%%\n"
    },
    "ExecuteTime": {
     "end_time": "2023-07-24T17:27:55.884897Z",
     "start_time": "2023-07-24T17:27:55.881460Z"
    }
   },
   "outputs": [],
   "source": [
    "def f(a):\n",
    "    b = a * 2\n",
    "    while b.norm().item() < 1000:\n",
    "        b = b * 2\n",
    "    if b.sum().item() > 0:\n",
    "        c = b\n",
    "    else:\n",
    "        c = 100 * b\n",
    "    return c"
   ]
  },
  {
   "cell_type": "code",
   "execution_count": 19,
   "metadata": {
    "id": "kFUeW2Tj31Wx",
    "pycharm": {
     "name": "#%%\n"
    },
    "ExecuteTime": {
     "end_time": "2023-07-24T17:27:57.173562Z",
     "start_time": "2023-07-24T17:27:57.158577Z"
    }
   },
   "outputs": [],
   "source": [
    "a = torch.randn(1).requires_grad_()\n",
    "d = f(a)\n",
    "d.backward()"
   ]
  },
  {
   "cell_type": "code",
   "execution_count": 20,
   "metadata": {
    "colab": {
     "base_uri": "https://localhost:8080/"
    },
    "id": "5wYHp2_l31Wx",
    "outputId": "02b96357-59dd-4c38-e39c-f836321083b3",
    "pycharm": {
     "name": "#%%\n",
     "is_executing": true
    },
    "ExecuteTime": {
     "end_time": "2023-07-24T17:27:59.026464Z",
     "start_time": "2023-07-24T17:27:59.022127Z"
    }
   },
   "outputs": [
    {
     "data": {
      "text/plain": "tensor([1609.1349], grad_fn=<MulBackward0>)"
     },
     "execution_count": 20,
     "metadata": {},
     "output_type": "execute_result"
    }
   ],
   "source": [
    "d"
   ]
  },
  {
   "cell_type": "code",
   "execution_count": 21,
   "metadata": {
    "colab": {
     "base_uri": "https://localhost:8080/"
    },
    "id": "Lr-QZSZy31Wx",
    "outputId": "2521f6af-b5aa-4c20-fdab-9aea31cbb86e",
    "pycharm": {
     "name": "#%%\n",
     "is_executing": true
    },
    "ExecuteTime": {
     "end_time": "2023-07-24T17:28:03.444443Z",
     "start_time": "2023-07-24T17:28:03.440686Z"
    }
   },
   "outputs": [
    {
     "data": {
      "text/plain": "tensor([0.7857], requires_grad=True)"
     },
     "execution_count": 21,
     "metadata": {},
     "output_type": "execute_result"
    }
   ],
   "source": [
    "a"
   ]
  },
  {
   "cell_type": "code",
   "execution_count": 22,
   "metadata": {
    "id": "dxELiaBfvDlJ",
    "pycharm": {
     "name": "#%%\n"
    },
    "ExecuteTime": {
     "end_time": "2023-07-24T17:28:22.081899Z",
     "start_time": "2023-07-24T17:28:22.078325Z"
    }
   },
   "outputs": [],
   "source": [
    "from matplotlib import pyplot as plt\n",
    "\n",
    "x= torch.tensor([1,1.5,2,3,4])\n",
    "y= torch.tensor([2,2.1,3,4,2])\n"
   ]
  },
  {
   "cell_type": "code",
   "execution_count": 23,
   "metadata": {
    "colab": {
     "base_uri": "https://localhost:8080/",
     "height": 265
    },
    "id": "LB3y-GdkvU4Z",
    "outputId": "005c8a5b-918c-48ee-f86a-bc393398d45f",
    "pycharm": {
     "name": "#%%\n"
    },
    "ExecuteTime": {
     "end_time": "2023-07-24T17:28:24.603102Z",
     "start_time": "2023-07-24T17:28:24.249896Z"
    }
   },
   "outputs": [
    {
     "data": {
      "text/plain": "<Figure size 640x480 with 1 Axes>",
      "image/png": "[encoded data removed]"
     },
     "metadata": {},
     "output_type": "display_data"
    }
   ],
   "source": [
    "plt.plot(x,y)\n",
    "plt.grid()\n",
    "plt.show()"
   ]
  },
  {
   "cell_type": "markdown",
   "metadata": {
    "id": "_hy7PFz031Wx",
    "pycharm": {
     "name": "#%% md\n"
    }
   },
   "source": [
    "## Практика\n",
    "\n",
    "1. Пусть $f(x) = \\sin(x) * x$. Постройте график $f(x)$ и $\\frac{df(x)}{dx}$ используя пакет autograd'а для расчета производных (т.е. нельзя выводить производную явно)"
   ]
  },
  {
   "cell_type": "code",
   "execution_count": 24,
   "metadata": {
    "id": "PbBX0O9hGA4t",
    "pycharm": {
     "name": "#%%\n"
    },
    "ExecuteTime": {
     "end_time": "2023-07-24T17:36:57.324757Z",
     "start_time": "2023-07-24T17:36:57.298332Z"
    }
   },
   "outputs": [],
   "source": [
    "import seaborn as sns\n",
    "\n",
    "def f(x):\n",
    "    return torch.sin(x)*x\n",
    "\n",
    "x = torch.linspace(-10, 10, 1000).requires_grad_()"
   ]
  },
  {
   "cell_type": "code",
   "execution_count": 28,
   "outputs": [],
   "source": [
    "y = f(x)"
   ],
   "metadata": {
    "collapsed": false,
    "ExecuteTime": {
     "end_time": "2023-07-24T17:38:14.106215Z",
     "start_time": "2023-07-24T17:38:14.080394Z"
    }
   }
  },
  {
   "cell_type": "code",
   "execution_count": 29,
   "outputs": [
    {
     "data": {
      "text/plain": "tensor([-5.4402e+00, -5.2606e+00, -5.0796e+00, -4.8972e+00, -4.7135e+00,\n        -4.5287e+00, -4.3427e+00, -4.1558e+00, -3.9679e+00, -3.7791e+00,\n        -3.5896e+00, -3.3994e+00, -3.2085e+00, -3.0172e+00, -2.8254e+00,\n        -2.6332e+00, -2.4407e+00, -2.2481e+00, -2.0553e+00, -1.8625e+00,\n        -1.6697e+00, -1.4770e+00, -1.2846e+00, -1.0924e+00, -9.0055e-01,\n        -7.0916e-01, -5.1829e-01, -3.2800e-01, -1.3839e-01,  5.0475e-02,\n         2.3851e-01,  4.2567e-01,  6.1184e-01,  7.9697e-01,  9.8098e-01,\n         1.1638e+00,  1.3454e+00,  1.5256e+00,  1.7044e+00,  1.8818e+00,\n         2.0576e+00,  2.2318e+00,  2.4043e+00,  2.5751e+00,  2.7441e+00,\n         2.9113e+00,  3.0765e+00,  3.2397e+00,  3.4009e+00,  3.5600e+00,\n         3.7169e+00,  3.8715e+00,  4.0240e+00,  4.1740e+00,  4.3217e+00,\n         4.4670e+00,  4.6098e+00,  4.7500e+00,  4.8877e+00,  5.0228e+00,\n         5.1551e+00,  5.2848e+00,  5.4117e+00,  5.5358e+00,  5.6571e+00,\n         5.7754e+00,  5.8909e+00,  6.0034e+00,  6.1130e+00,  6.2195e+00,\n         6.3230e+00,  6.4234e+00,  6.5206e+00,  6.6148e+00,  6.7058e+00,\n         6.7936e+00,  6.8782e+00,  6.9596e+00,  7.0378e+00,  7.1126e+00,\n         7.1842e+00,  7.2525e+00,  7.3175e+00,  7.3792e+00,  7.4376e+00,\n         7.4926e+00,  7.5442e+00,  7.5925e+00,  7.6375e+00,  7.6791e+00,\n         7.7173e+00,  7.7522e+00,  7.7836e+00,  7.8118e+00,  7.8366e+00,\n         7.8580e+00,  7.8761e+00,  7.8908e+00,  7.9023e+00,  7.9104e+00,\n         7.9152e+00,  7.9167e+00,  7.9150e+00,  7.9100e+00,  7.9017e+00,\n         7.8903e+00,  7.8756e+00,  7.8578e+00,  7.8368e+00,  7.8127e+00,\n         7.7855e+00,  7.7552e+00,  7.7219e+00,  7.6855e+00,  7.6462e+00,\n         7.6039e+00,  7.5587e+00,  7.5106e+00,  7.4596e+00,  7.4058e+00,\n         7.3493e+00,  7.2900e+00,  7.2280e+00,  7.1633e+00,  7.0960e+00,\n         7.0261e+00,  6.9537e+00,  6.8788e+00,  6.8015e+00,  6.7217e+00,\n         6.6396e+00,  6.5552e+00,  6.4686e+00,  6.3797e+00,  6.2886e+00,\n         6.1955e+00,  6.1003e+00,  6.0031e+00,  5.9039e+00,  5.8028e+00,\n         5.6999e+00,  5.5952e+00,  5.4887e+00,  5.3806e+00,  5.2708e+00,\n         5.1594e+00,  5.0466e+00,  4.9322e+00,  4.8165e+00,  4.6994e+00,\n         4.5811e+00,  4.4615e+00,  4.3407e+00,  4.2188e+00,  4.0959e+00,\n         3.9720e+00,  3.8471e+00,  3.7214e+00,  3.5948e+00,  3.4675e+00,\n         3.3394e+00,  3.2108e+00,  3.0815e+00,  2.9518e+00,  2.8215e+00,\n         2.6909e+00,  2.5599e+00,  2.4287e+00,  2.2972e+00,  2.1655e+00,\n         2.0338e+00,  1.9019e+00,  1.7701e+00,  1.6384e+00,  1.5067e+00,\n         1.3753e+00,  1.2441e+00,  1.1131e+00,  9.8254e-01,  8.5234e-01,\n         7.2260e-01,  5.9336e-01,  4.6469e-01,  3.3662e-01,  2.0923e-01,\n         8.2547e-02, -4.3361e-02, -1.6846e-01, -2.9268e-01, -4.1598e-01,\n        -5.3832e-01, -6.5965e-01, -7.7991e-01, -8.9907e-01, -1.0171e+00,\n        -1.1339e+00, -1.2494e+00, -1.3637e+00, -1.4767e+00, -1.5882e+00,\n        -1.6984e+00, -1.8071e+00, -1.9144e+00, -2.0201e+00, -2.1242e+00,\n        -2.2268e+00, -2.3277e+00, -2.4269e+00, -2.5244e+00, -2.6203e+00,\n        -2.7143e+00, -2.8065e+00, -2.8970e+00, -2.9855e+00, -3.0722e+00,\n        -3.1570e+00, -3.2398e+00, -3.3207e+00, -3.3996e+00, -3.4765e+00,\n        -3.5514e+00, -3.6242e+00, -3.6950e+00, -3.7637e+00, -3.8303e+00,\n        -3.8948e+00, -3.9572e+00, -4.0174e+00, -4.0755e+00, -4.1314e+00,\n        -4.1851e+00, -4.2366e+00, -4.2860e+00, -4.3332e+00, -4.3781e+00,\n        -4.4209e+00, -4.4614e+00, -4.4997e+00, -4.5358e+00, -4.5697e+00,\n        -4.6014e+00, -4.6308e+00, -4.6580e+00, -4.6831e+00, -4.7059e+00,\n        -4.7265e+00, -4.7449e+00, -4.7612e+00, -4.7752e+00, -4.7871e+00,\n        -4.7969e+00, -4.8044e+00, -4.8099e+00, -4.8132e+00, -4.8145e+00,\n        -4.8136e+00, -4.8107e+00, -4.8057e+00, -4.7986e+00, -4.7896e+00,\n        -4.7785e+00, -4.7655e+00, -4.7505e+00, -4.7336e+00, -4.7147e+00,\n        -4.6940e+00, -4.6714e+00, -4.6469e+00, -4.6206e+00, -4.5926e+00,\n        -4.5628e+00, -4.5312e+00, -4.4979e+00, -4.4630e+00, -4.4264e+00,\n        -4.3882e+00, -4.3484e+00, -4.3071e+00, -4.2642e+00, -4.2199e+00,\n        -4.1741e+00, -4.1269e+00, -4.0782e+00, -4.0283e+00, -3.9770e+00,\n        -3.9244e+00, -3.8706e+00, -3.8156e+00, -3.7593e+00, -3.7020e+00,\n        -3.6436e+00, -3.5841e+00, -3.5235e+00, -3.4620e+00, -3.3995e+00,\n        -3.3361e+00, -3.2719e+00, -3.2068e+00, -3.1409e+00, -3.0743e+00,\n        -3.0069e+00, -2.9389e+00, -2.8702e+00, -2.8010e+00, -2.7311e+00,\n        -2.6608e+00, -2.5899e+00, -2.5187e+00, -2.4470e+00, -2.3750e+00,\n        -2.3026e+00, -2.2299e+00, -2.1570e+00, -2.0839e+00, -2.0107e+00,\n        -1.9373e+00, -1.8638e+00, -1.7902e+00, -1.7166e+00, -1.6431e+00,\n        -1.5696e+00, -1.4962e+00, -1.4229e+00, -1.3497e+00, -1.2768e+00,\n        -1.2041e+00, -1.1317e+00, -1.0596e+00, -9.8785e-01, -9.1645e-01,\n        -8.4546e-01, -7.7490e-01, -7.0481e-01, -6.3523e-01, -5.6617e-01,\n        -4.9768e-01, -4.2978e-01, -3.6251e-01, -2.9588e-01, -2.2994e-01,\n        -1.6470e-01, -1.0019e-01, -3.6452e-02,  2.6504e-02,  8.8647e-02,\n         1.4995e-01,  2.1040e-01,  2.6996e-01,  3.2862e-01,  3.8634e-01,\n         4.4312e-01,  4.9893e-01,  5.5375e-01,  6.0755e-01,  6.6033e-01,\n         7.1207e-01,  7.6274e-01,  8.1233e-01,  8.6083e-01,  9.0822e-01,\n         9.5449e-01,  9.9962e-01,  1.0436e+00,  1.0864e+00,  1.1281e+00,\n         1.1686e+00,  1.2078e+00,  1.2459e+00,  1.2828e+00,  1.3185e+00,\n         1.3529e+00,  1.3861e+00,  1.4181e+00,  1.4489e+00,  1.4784e+00,\n         1.5066e+00,  1.5337e+00,  1.5595e+00,  1.5840e+00,  1.6073e+00,\n         1.6293e+00,  1.6502e+00,  1.6697e+00,  1.6881e+00,  1.7052e+00,\n         1.7211e+00,  1.7358e+00,  1.7492e+00,  1.7615e+00,  1.7725e+00,\n         1.7824e+00,  1.7911e+00,  1.7986e+00,  1.8049e+00,  1.8101e+00,\n         1.8142e+00,  1.8171e+00,  1.8190e+00,  1.8197e+00,  1.8193e+00,\n         1.8179e+00,  1.8154e+00,  1.8119e+00,  1.8073e+00,  1.8018e+00,\n         1.7952e+00,  1.7877e+00,  1.7792e+00,  1.7698e+00,  1.7594e+00,\n         1.7482e+00,  1.7361e+00,  1.7231e+00,  1.7094e+00,  1.6947e+00,\n         1.6793e+00,  1.6632e+00,  1.6463e+00,  1.6286e+00,  1.6103e+00,\n         1.5912e+00,  1.5716e+00,  1.5513e+00,  1.5304e+00,  1.5089e+00,\n         1.4868e+00,  1.4642e+00,  1.4411e+00,  1.4176e+00,  1.3935e+00,\n         1.3691e+00,  1.3442e+00,  1.3189e+00,  1.2933e+00,  1.2674e+00,\n         1.2412e+00,  1.2147e+00,  1.1879e+00,  1.1609e+00,  1.1337e+00,\n         1.1064e+00,  1.0789e+00,  1.0513e+00,  1.0236e+00,  9.9577e-01,\n         9.6794e-01,  9.4010e-01,  9.1226e-01,  8.8445e-01,  8.5670e-01,\n         8.2903e-01,  8.0147e-01,  7.7404e-01,  7.4677e-01,  7.1968e-01,\n         6.9279e-01,  6.6612e-01,  6.3971e-01,  6.1356e-01,  5.8771e-01,\n         5.6218e-01,  5.3699e-01,  5.1215e-01,  4.8770e-01,  4.6365e-01,\n         4.4002e-01,  4.1683e-01,  3.9410e-01,  3.7185e-01,  3.5010e-01,\n         3.2887e-01,  3.0817e-01,  2.8802e-01,  2.6844e-01,  2.4945e-01,\n         2.3105e-01,  2.1327e-01,  1.9611e-01,  1.7960e-01,  1.6375e-01,\n         1.4856e-01,  1.3406e-01,  1.2025e-01,  1.0714e-01,  9.4755e-02,\n         8.3090e-02,  7.2160e-02,  6.1974e-02,  5.2539e-02,  4.3864e-02,\n         3.5955e-02,  2.8819e-02,  2.2460e-02,  1.6886e-02,  1.2100e-02,\n         8.1054e-03,  4.9058e-03,  2.5040e-03,  9.0168e-04,  1.0021e-04,\n         1.0021e-04,  9.0168e-04,  2.5040e-03,  4.9058e-03,  8.1054e-03,\n         1.2100e-02,  1.6886e-02,  2.2460e-02,  2.8819e-02,  3.5955e-02,\n         4.3864e-02,  5.2539e-02,  6.1974e-02,  7.2160e-02,  8.3090e-02,\n         9.4755e-02,  1.0714e-01,  1.2025e-01,  1.3406e-01,  1.4856e-01,\n         1.6375e-01,  1.7960e-01,  1.9611e-01,  2.1327e-01,  2.3105e-01,\n         2.4945e-01,  2.6844e-01,  2.8802e-01,  3.0817e-01,  3.2887e-01,\n         3.5010e-01,  3.7185e-01,  3.9410e-01,  4.1683e-01,  4.4002e-01,\n         4.6365e-01,  4.8770e-01,  5.1215e-01,  5.3699e-01,  5.6218e-01,\n         5.8771e-01,  6.1356e-01,  6.3971e-01,  6.6612e-01,  6.9279e-01,\n         7.1968e-01,  7.4677e-01,  7.7404e-01,  8.0147e-01,  8.2903e-01,\n         8.5670e-01,  8.8445e-01,  9.1226e-01,  9.4010e-01,  9.6794e-01,\n         9.9577e-01,  1.0236e+00,  1.0513e+00,  1.0789e+00,  1.1064e+00,\n         1.1337e+00,  1.1609e+00,  1.1879e+00,  1.2147e+00,  1.2412e+00,\n         1.2674e+00,  1.2933e+00,  1.3189e+00,  1.3442e+00,  1.3691e+00,\n         1.3935e+00,  1.4176e+00,  1.4411e+00,  1.4642e+00,  1.4868e+00,\n         1.5089e+00,  1.5304e+00,  1.5513e+00,  1.5716e+00,  1.5912e+00,\n         1.6103e+00,  1.6286e+00,  1.6463e+00,  1.6632e+00,  1.6793e+00,\n         1.6947e+00,  1.7094e+00,  1.7231e+00,  1.7361e+00,  1.7482e+00,\n         1.7594e+00,  1.7698e+00,  1.7792e+00,  1.7877e+00,  1.7952e+00,\n         1.8018e+00,  1.8073e+00,  1.8119e+00,  1.8154e+00,  1.8179e+00,\n         1.8193e+00,  1.8197e+00,  1.8190e+00,  1.8171e+00,  1.8142e+00,\n         1.8101e+00,  1.8049e+00,  1.7986e+00,  1.7911e+00,  1.7824e+00,\n         1.7725e+00,  1.7615e+00,  1.7492e+00,  1.7358e+00,  1.7211e+00,\n         1.7052e+00,  1.6881e+00,  1.6697e+00,  1.6502e+00,  1.6293e+00,\n         1.6073e+00,  1.5840e+00,  1.5595e+00,  1.5337e+00,  1.5066e+00,\n         1.4784e+00,  1.4489e+00,  1.4181e+00,  1.3861e+00,  1.3529e+00,\n         1.3185e+00,  1.2828e+00,  1.2459e+00,  1.2078e+00,  1.1686e+00,\n         1.1281e+00,  1.0864e+00,  1.0436e+00,  9.9962e-01,  9.5449e-01,\n         9.0822e-01,  8.6083e-01,  8.1233e-01,  7.6274e-01,  7.1207e-01,\n         6.6033e-01,  6.0755e-01,  5.5375e-01,  4.9893e-01,  4.4312e-01,\n         3.8634e-01,  3.2862e-01,  2.6996e-01,  2.1040e-01,  1.4995e-01,\n         8.8647e-02,  2.6504e-02, -3.6452e-02, -1.0019e-01, -1.6470e-01,\n        -2.2994e-01, -2.9588e-01, -3.6251e-01, -4.2978e-01, -4.9768e-01,\n        -5.6617e-01, -6.3523e-01, -7.0481e-01, -7.7490e-01, -8.4546e-01,\n        -9.1645e-01, -9.8785e-01, -1.0596e+00, -1.1317e+00, -1.2041e+00,\n        -1.2768e+00, -1.3497e+00, -1.4229e+00, -1.4962e+00, -1.5696e+00,\n        -1.6431e+00, -1.7166e+00, -1.7902e+00, -1.8638e+00, -1.9373e+00,\n        -2.0107e+00, -2.0839e+00, -2.1570e+00, -2.2299e+00, -2.3026e+00,\n        -2.3750e+00, -2.4470e+00, -2.5187e+00, -2.5899e+00, -2.6608e+00,\n        -2.7311e+00, -2.8010e+00, -2.8702e+00, -2.9389e+00, -3.0069e+00,\n        -3.0743e+00, -3.1409e+00, -3.2068e+00, -3.2719e+00, -3.3361e+00,\n        -3.3995e+00, -3.4620e+00, -3.5235e+00, -3.5841e+00, -3.6436e+00,\n        -3.7020e+00, -3.7593e+00, -3.8156e+00, -3.8706e+00, -3.9244e+00,\n        -3.9770e+00, -4.0283e+00, -4.0782e+00, -4.1269e+00, -4.1741e+00,\n        -4.2199e+00, -4.2642e+00, -4.3071e+00, -4.3484e+00, -4.3882e+00,\n        -4.4264e+00, -4.4630e+00, -4.4979e+00, -4.5312e+00, -4.5628e+00,\n        -4.5926e+00, -4.6206e+00, -4.6469e+00, -4.6714e+00, -4.6940e+00,\n        -4.7147e+00, -4.7336e+00, -4.7505e+00, -4.7655e+00, -4.7785e+00,\n        -4.7896e+00, -4.7986e+00, -4.8057e+00, -4.8107e+00, -4.8136e+00,\n        -4.8145e+00, -4.8132e+00, -4.8099e+00, -4.8044e+00, -4.7969e+00,\n        -4.7871e+00, -4.7752e+00, -4.7612e+00, -4.7449e+00, -4.7265e+00,\n        -4.7059e+00, -4.6831e+00, -4.6580e+00, -4.6308e+00, -4.6014e+00,\n        -4.5697e+00, -4.5358e+00, -4.4997e+00, -4.4614e+00, -4.4209e+00,\n        -4.3781e+00, -4.3332e+00, -4.2860e+00, -4.2366e+00, -4.1851e+00,\n        -4.1314e+00, -4.0755e+00, -4.0174e+00, -3.9572e+00, -3.8948e+00,\n        -3.8303e+00, -3.7637e+00, -3.6950e+00, -3.6242e+00, -3.5514e+00,\n        -3.4765e+00, -3.3996e+00, -3.3207e+00, -3.2398e+00, -3.1570e+00,\n        -3.0722e+00, -2.9855e+00, -2.8970e+00, -2.8065e+00, -2.7143e+00,\n        -2.6203e+00, -2.5244e+00, -2.4269e+00, -2.3277e+00, -2.2268e+00,\n        -2.1242e+00, -2.0201e+00, -1.9144e+00, -1.8071e+00, -1.6984e+00,\n        -1.5882e+00, -1.4767e+00, -1.3637e+00, -1.2494e+00, -1.1339e+00,\n        -1.0171e+00, -8.9907e-01, -7.7991e-01, -6.5965e-01, -5.3832e-01,\n        -4.1598e-01, -2.9268e-01, -1.6846e-01, -4.3361e-02,  8.2547e-02,\n         2.0923e-01,  3.3662e-01,  4.6469e-01,  5.9336e-01,  7.2260e-01,\n         8.5234e-01,  9.8254e-01,  1.1131e+00,  1.2441e+00,  1.3753e+00,\n         1.5067e+00,  1.6384e+00,  1.7701e+00,  1.9019e+00,  2.0338e+00,\n         2.1655e+00,  2.2972e+00,  2.4287e+00,  2.5599e+00,  2.6909e+00,\n         2.8215e+00,  2.9518e+00,  3.0815e+00,  3.2108e+00,  3.3394e+00,\n         3.4675e+00,  3.5948e+00,  3.7214e+00,  3.8471e+00,  3.9720e+00,\n         4.0959e+00,  4.2188e+00,  4.3407e+00,  4.4615e+00,  4.5811e+00,\n         4.6994e+00,  4.8165e+00,  4.9322e+00,  5.0466e+00,  5.1594e+00,\n         5.2708e+00,  5.3806e+00,  5.4887e+00,  5.5952e+00,  5.6999e+00,\n         5.8028e+00,  5.9039e+00,  6.0031e+00,  6.1003e+00,  6.1955e+00,\n         6.2886e+00,  6.3797e+00,  6.4686e+00,  6.5552e+00,  6.6396e+00,\n         6.7217e+00,  6.8015e+00,  6.8788e+00,  6.9537e+00,  7.0261e+00,\n         7.0960e+00,  7.1633e+00,  7.2280e+00,  7.2900e+00,  7.3493e+00,\n         7.4058e+00,  7.4596e+00,  7.5106e+00,  7.5587e+00,  7.6039e+00,\n         7.6462e+00,  7.6855e+00,  7.7219e+00,  7.7552e+00,  7.7855e+00,\n         7.8127e+00,  7.8368e+00,  7.8578e+00,  7.8756e+00,  7.8903e+00,\n         7.9017e+00,  7.9100e+00,  7.9150e+00,  7.9167e+00,  7.9152e+00,\n         7.9104e+00,  7.9023e+00,  7.8908e+00,  7.8761e+00,  7.8580e+00,\n         7.8366e+00,  7.8118e+00,  7.7836e+00,  7.7522e+00,  7.7173e+00,\n         7.6791e+00,  7.6375e+00,  7.5925e+00,  7.5442e+00,  7.4926e+00,\n         7.4376e+00,  7.3792e+00,  7.3175e+00,  7.2525e+00,  7.1842e+00,\n         7.1126e+00,  7.0378e+00,  6.9596e+00,  6.8782e+00,  6.7936e+00,\n         6.7058e+00,  6.6148e+00,  6.5206e+00,  6.4234e+00,  6.3230e+00,\n         6.2195e+00,  6.1130e+00,  6.0034e+00,  5.8909e+00,  5.7754e+00,\n         5.6571e+00,  5.5358e+00,  5.4117e+00,  5.2848e+00,  5.1551e+00,\n         5.0228e+00,  4.8877e+00,  4.7500e+00,  4.6098e+00,  4.4670e+00,\n         4.3217e+00,  4.1740e+00,  4.0240e+00,  3.8715e+00,  3.7169e+00,\n         3.5600e+00,  3.4009e+00,  3.2397e+00,  3.0765e+00,  2.9113e+00,\n         2.7441e+00,  2.5751e+00,  2.4043e+00,  2.2318e+00,  2.0576e+00,\n         1.8818e+00,  1.7044e+00,  1.5256e+00,  1.3454e+00,  1.1638e+00,\n         9.8098e-01,  7.9697e-01,  6.1184e-01,  4.2567e-01,  2.3851e-01,\n         5.0475e-02, -1.3839e-01, -3.2800e-01, -5.1829e-01, -7.0916e-01,\n        -9.0055e-01, -1.0924e+00, -1.2846e+00, -1.4770e+00, -1.6697e+00,\n        -1.8625e+00, -2.0553e+00, -2.2481e+00, -2.4407e+00, -2.6332e+00,\n        -2.8254e+00, -3.0172e+00, -3.2085e+00, -3.3994e+00, -3.5896e+00,\n        -3.7791e+00, -3.9679e+00, -4.1558e+00, -4.3427e+00, -4.5287e+00,\n        -4.7135e+00, -4.8972e+00, -5.0796e+00, -5.2606e+00, -5.4402e+00],\n       grad_fn=<MulBackward0>)"
     },
     "execution_count": 29,
     "metadata": {},
     "output_type": "execute_result"
    }
   ],
   "source": [
    "y"
   ],
   "metadata": {
    "collapsed": false,
    "ExecuteTime": {
     "end_time": "2023-07-24T17:38:15.904395Z",
     "start_time": "2023-07-24T17:38:15.872395Z"
    }
   }
  },
  {
   "cell_type": "code",
   "execution_count": 30,
   "outputs": [],
   "source": [
    "y.backward(torch.ones_like(y))"
   ],
   "metadata": {
    "collapsed": false,
    "ExecuteTime": {
     "end_time": "2023-07-24T17:40:16.495010Z",
     "start_time": "2023-07-24T17:40:16.467172Z"
    }
   }
  },
  {
   "cell_type": "code",
   "execution_count": 33,
   "outputs": [],
   "source": [
    "dx = x.grad"
   ],
   "metadata": {
    "collapsed": false,
    "ExecuteTime": {
     "end_time": "2023-07-24T17:42:48.311572Z",
     "start_time": "2023-07-24T17:42:48.282681Z"
    }
   }
  },
  {
   "cell_type": "code",
   "execution_count": 35,
   "outputs": [
    {
     "data": {
      "text/plain": "<Figure size 640x480 with 1 Axes>",
      "image/png": "[encoded data removed]"
     },
     "metadata": {},
     "output_type": "display_data"
    }
   ],
   "source": [
    "plt.plot(x.detach().numpy(), dx)\n",
    "plt.plot(x.detach().numpy(), y.detach().numpy())\n",
    "plt.grid()"
   ],
   "metadata": {
    "collapsed": false,
    "ExecuteTime": {
     "end_time": "2023-07-24T17:44:20.882035Z",
     "start_time": "2023-07-24T17:44:20.585415Z"
    }
   }
  },
  {
   "cell_type": "code",
   "execution_count": null,
   "outputs": [],
   "source": [],
   "metadata": {
    "collapsed": false
   }
  },
  {
   "cell_type": "code",
   "execution_count": null,
   "outputs": [],
   "source": [],
   "metadata": {
    "collapsed": false
   }
  },
  {
   "cell_type": "code",
   "execution_count": null,
   "outputs": [],
   "source": [],
   "metadata": {
    "collapsed": false
   }
  },
  {
   "cell_type": "markdown",
   "metadata": {
    "id": "6xuVl2zm31Wx",
    "pycharm": {
     "name": "#%% md\n"
    }
   },
   "source": [
    "## Линейная регрессия с нуля"
   ]
  },
  {
   "cell_type": "code",
   "execution_count": 55,
   "metadata": {
    "id": "XSy6aQYV31Wx",
    "pycharm": {
     "name": "#%%\n"
    },
    "ExecuteTime": {
     "end_time": "2023-07-24T18:39:05.581414Z",
     "start_time": "2023-07-24T18:39:05.566360Z"
    }
   },
   "outputs": [],
   "source": [
    "%matplotlib inline\n",
    "from IPython import display\n",
    "from matplotlib import pyplot as plt\n",
    "import torch\n",
    "import random"
   ]
  },
  {
   "cell_type": "markdown",
   "metadata": {
    "id": "LJmk4LYk31Wx",
    "pycharm": {
     "name": "#%% md\n"
    }
   },
   "source": [
    "## Генерируем данные\n",
    "\n",
    "- Случайно генерируем $\\mathbf{X}\\in \\mathbb{R}^{1000 \\times 2}$\n",
    "- Выбираем значения весов (истинные): $\\mathbf{w} = [2, -3.4]^\\top$ и свободного члена $b = 4.2$\n",
    "- Генерируем метки по формле $\\mathbf{y}= \\mathbf{X} \\mathbf{w} + b + \\mathbf\\epsilon$\n",
    "  с шумом $\\epsilon$ нормально распределнным с мат ожиданием 0 и дисперсией 1"
   ]
  },
  {
   "cell_type": "code",
   "execution_count": 57,
   "metadata": {
    "id": "S7jbn_AQ31Wx",
    "pycharm": {
     "name": "#%%\n"
    },
    "ExecuteTime": {
     "end_time": "2023-07-24T18:39:12.052718Z",
     "start_time": "2023-07-24T18:39:12.006152Z"
    }
   },
   "outputs": [],
   "source": [
    "num_inputs = 2\n",
    "num_examples = 1000\n",
    "\n",
    "true_w = torch.tensor([2, -3.4])\n",
    "true_b = 4.2\n",
    "\n",
    "features = torch.randn((num_examples, num_inputs))\n",
    "labels = torch.mv(features, true_w) + true_b\n",
    "\n",
    "labels += torch.randn(labels.shape)"
   ]
  },
  {
   "cell_type": "markdown",
   "metadata": {
    "id": "p4PYLjPh31Wx",
    "pycharm": {
     "name": "#%% md\n"
    }
   },
   "source": [
    "## Визуализируем данные"
   ]
  },
  {
   "cell_type": "code",
   "execution_count": 58,
   "metadata": {
    "colab": {
     "base_uri": "https://localhost:8080/",
     "height": 265
    },
    "id": "airdzG6f31Wx",
    "outputId": "07dbedfe-c24c-4222-877c-519f5b130d0f",
    "pycharm": {
     "name": "#%%\n",
     "is_executing": true
    },
    "ExecuteTime": {
     "end_time": "2023-07-24T18:39:14.754745Z",
     "start_time": "2023-07-24T18:39:13.996661Z"
    }
   },
   "outputs": [
    {
     "data": {
      "text/plain": "<Figure size 1200x400 with 3 Axes>",
      "image/png": "[encoded data removed]"
     },
     "metadata": {},
     "output_type": "display_data"
    }
   ],
   "source": [
    "plt.figure(figsize=(12, 4))\n",
    "plt.subplot(131)\n",
    "plt.scatter(features[:, 0], labels, 1)\n",
    "plt.subplot(132)\n",
    "plt.scatter(features[:, 1], labels, 1)\n",
    "plt.subplot(133)\n",
    "plt.scatter(features[:, 0], features[:, 1], 1)\n",
    "plt.show()"
   ]
  },
  {
   "cell_type": "markdown",
   "metadata": {
    "id": "qw2-hzy431Wx",
    "pycharm": {
     "name": "#%% md\n"
    }
   },
   "source": [
    "\n",
    "## Чтение данных\n",
    "\n",
    "Итерируемся по датасету и возвращаем случаные `batch_size` примеров."
   ]
  },
  {
   "cell_type": "code",
   "execution_count": 59,
   "metadata": {
    "id": "kCLlQ5QA31Wx",
    "pycharm": {
     "name": "#%%\n"
    },
    "ExecuteTime": {
     "end_time": "2023-07-24T18:40:19.946234Z",
     "start_time": "2023-07-24T18:40:19.897741Z"
    }
   },
   "outputs": [],
   "source": [
    "import random\n",
    "\n",
    "def data_iter(batch_size, features, labels):\n",
    "    num_examples = len(features)\n",
    "    indices = list(range(num_examples))\n",
    "    random.shuffle(indices)\n",
    "    for i in range(0, num_examples, batch_size):\n",
    "        j = indices[i: min(i + batch_size, num_examples)]\n",
    "        yield features[j, :], labels[j]"
   ]
  },
  {
   "cell_type": "markdown",
   "metadata": {
    "id": "1pZQgKwD31Wx",
    "pycharm": {
     "name": "#%% md\n"
    }
   },
   "source": [
    "## Выводим маленький батч"
   ]
  },
  {
   "cell_type": "code",
   "execution_count": 60,
   "metadata": {
    "colab": {
     "base_uri": "https://localhost:8080/"
    },
    "id": "JK2ATkeT31Wx",
    "outputId": "32fbd634-f197-4482-f2b0-2d5e95cee910",
    "pycharm": {
     "name": "#%%\n",
     "is_executing": true
    },
    "ExecuteTime": {
     "end_time": "2023-07-24T18:40:47.562387Z",
     "start_time": "2023-07-24T18:40:47.514429Z"
    }
   },
   "outputs": [
    {
     "name": "stdout",
     "output_type": "stream",
     "text": [
      "tensor([[-0.0683,  1.2681],\n",
      "        [ 0.5561,  0.1394],\n",
      "        [ 0.2710, -1.2559],\n",
      "        [ 0.5105, -0.8537],\n",
      "        [ 0.5774,  0.3095],\n",
      "        [-0.3308,  0.7521],\n",
      "        [-0.7569,  0.7434],\n",
      "        [ 0.8654, -0.4002],\n",
      "        [ 0.5438,  0.5824],\n",
      "        [ 1.7466, -1.5270]]) \n",
      " tensor([-0.1530,  2.7679,  9.4913,  6.9002,  3.7241,  0.1860,  0.3360,  6.7766,\n",
      "         3.6005, 11.7080])\n"
     ]
    }
   ],
   "source": [
    "batch_size = 10\n",
    "for X, y in data_iter(batch_size, features, labels):\n",
    "    print(X,'\\n', y)\n",
    "    break"
   ]
  },
  {
   "cell_type": "markdown",
   "metadata": {
    "id": "fsWOPNUj31Wx",
    "pycharm": {
     "name": "#%% md\n"
    }
   },
   "source": [
    "### Создаем нашу модель для обучения"
   ]
  },
  {
   "cell_type": "code",
   "execution_count": 61,
   "metadata": {
    "id": "TBiKsI1_31Wx",
    "pycharm": {
     "name": "#%%\n"
    },
    "ExecuteTime": {
     "end_time": "2023-07-24T18:41:16.746058Z",
     "start_time": "2023-07-24T18:41:16.718500Z"
    }
   },
   "outputs": [],
   "source": [
    "w = torch.randn((num_inputs))\n",
    "b = torch.zeros((1,))"
   ]
  },
  {
   "cell_type": "code",
   "execution_count": 62,
   "metadata": {
    "colab": {
     "base_uri": "https://localhost:8080/"
    },
    "id": "Vt3MkAdz31Wx",
    "outputId": "338a57df-2b1c-46e4-fd03-3d3a5e766a11",
    "pycharm": {
     "name": "#%%\n",
     "is_executing": true
    },
    "ExecuteTime": {
     "end_time": "2023-07-24T18:41:22.930057Z",
     "start_time": "2023-07-24T18:41:22.870848Z"
    }
   },
   "outputs": [
    {
     "data": {
      "text/plain": "tensor([0.], requires_grad=True)"
     },
     "execution_count": 62,
     "metadata": {},
     "output_type": "execute_result"
    }
   ],
   "source": [
    "w.requires_grad_()\n",
    "b.requires_grad_()"
   ]
  },
  {
   "cell_type": "markdown",
   "metadata": {
    "id": "P5sg1Wp931Wx",
    "pycharm": {
     "name": "#%% md\n"
    }
   },
   "source": [
    "## Практика - реализуйте функции:\n",
    "- linreg - применение модели линейной регресии\n",
    "- squared_loss - MSE функция потерь\n",
    "- sgd - стохастический шаг градиентного спуска по массиву параметров\n",
    "\n",
    "и допишите код обучения линейной регрессии"
   ]
  },
  {
   "cell_type": "code",
   "execution_count": 63,
   "metadata": {
    "id": "An9oVfEP31Wx",
    "pycharm": {
     "name": "#%%\n"
    },
    "ExecuteTime": {
     "end_time": "2023-07-24T18:44:41.899645Z",
     "start_time": "2023-07-24T18:44:41.872442Z"
    }
   },
   "outputs": [],
   "source": [
    "def linreg(X, w, b):\n",
    "    return torch.mv(X, w) + b\n",
    "\n",
    "def squared_loss(y_hat, y):\n",
    "    return ((y_hat - y.reshape(y_hat.shape)) ** 2).mean()\n",
    "\n",
    "def sgd(params, lr):\n",
    "    for param in params:\n",
    "        param.data[:] = param - lr*param.grad"
   ]
  },
  {
   "cell_type": "code",
   "execution_count": null,
   "outputs": [],
   "source": [],
   "metadata": {
    "collapsed": false
   }
  },
  {
   "cell_type": "code",
   "execution_count": null,
   "outputs": [],
   "source": [],
   "metadata": {
    "collapsed": false
   }
  },
  {
   "cell_type": "markdown",
   "metadata": {
    "id": "3cGXbylW31Wy",
    "pycharm": {
     "name": "#%% md\n"
    }
   },
   "source": [
    "### Обучение"
   ]
  },
  {
   "cell_type": "code",
   "execution_count": 64,
   "metadata": {
    "colab": {
     "base_uri": "https://localhost:8080/"
    },
    "id": "Vqht52qQ31Wy",
    "outputId": "c1bb1539-0f50-4fa2-b131-d13c2bc617c3",
    "pycharm": {
     "name": "#%%\n",
     "is_executing": true
    },
    "ExecuteTime": {
     "end_time": "2023-07-24T18:45:58.705036Z",
     "start_time": "2023-07-24T18:45:58.460093Z"
    }
   },
   "outputs": [
    {
     "name": "stdout",
     "output_type": "stream",
     "text": [
      "epoch 1, loss 1.663125\n",
      "epoch 2, loss 1.068314\n",
      "epoch 3, loss 1.052300\n",
      "epoch 4, loss 1.052159\n",
      "epoch 5, loss 1.052084\n",
      "epoch 6, loss 1.052943\n",
      "epoch 7, loss 1.052334\n",
      "epoch 8, loss 1.052255\n",
      "epoch 9, loss 1.052122\n",
      "epoch 10, loss 1.052198\n"
     ]
    }
   ],
   "source": [
    "lr = 0.01  \n",
    "num_epochs = 10\n",
    "\n",
    "for epoch in range(num_epochs):\n",
    "    for X, y in data_iter(batch_size, features, labels):   \n",
    "        w = w.detach()\n",
    "        b = b.detach()\n",
    "\n",
    "        w.requires_grad_()\n",
    "        b.requires_grad_()\n",
    "        \n",
    "        l = squared_loss(linreg(X,w,b), y)\n",
    "        l.backward()\n",
    "\n",
    "        sgd([w,b], lr)\n",
    "\n",
    "    train_l = squared_loss(linreg(features, w, b), labels)\n",
    "    print('epoch %d, loss %f' % (epoch + 1, train_l.mean().item()))"
   ]
  },
  {
   "cell_type": "markdown",
   "metadata": {
    "id": "wwMc2GNl31Wy",
    "pycharm": {
     "name": "#%% md\n"
    }
   },
   "source": [
    "## Оценка качества модели"
   ]
  },
  {
   "cell_type": "code",
   "execution_count": 65,
   "metadata": {
    "colab": {
     "base_uri": "https://localhost:8080/"
    },
    "id": "LvbDr8SM31Wy",
    "outputId": "ebf6a89e-85e6-4898-b8e0-288f9650a8fb",
    "pycharm": {
     "name": "#%%\n",
     "is_executing": true
    },
    "ExecuteTime": {
     "end_time": "2023-07-24T18:46:05.143299Z",
     "start_time": "2023-07-24T18:46:05.093467Z"
    }
   },
   "outputs": [
    {
     "name": "stdout",
     "output_type": "stream",
     "text": [
      "Error in estimating w tensor([ 0.0174, -0.0177], grad_fn=<SubBackward0>)\n",
      "Error in estimating b tensor([-0.0011], grad_fn=<RsubBackward1>)\n",
      "tensor([ 1.9826, -3.3823], requires_grad=True)\n",
      "tensor([4.2011], requires_grad=True)\n"
     ]
    }
   ],
   "source": [
    "print('Error in estimating w', true_w - w.reshape(true_w.shape))\n",
    "print('Error in estimating b', true_b - b)\n",
    "print(w)\n",
    "print(b)"
   ]
  },
  {
   "cell_type": "markdown",
   "metadata": {
    "id": "A3TcBghX31Wy",
    "pycharm": {
     "name": "#%% md\n"
    }
   },
   "source": [
    "## Линейная регрессия на torch"
   ]
  },
  {
   "cell_type": "code",
   "execution_count": 66,
   "metadata": {
    "id": "QM2XRHG631Wy",
    "pycharm": {
     "name": "#%%\n"
    },
    "ExecuteTime": {
     "end_time": "2023-07-24T18:46:22.166400Z",
     "start_time": "2023-07-24T18:46:22.140339Z"
    }
   },
   "outputs": [],
   "source": [
    "from torch.utils.data import TensorDataset, DataLoader"
   ]
  },
  {
   "cell_type": "code",
   "execution_count": 67,
   "metadata": {
    "id": "GtlYcn3131Wy",
    "pycharm": {
     "name": "#%%\n"
    },
    "ExecuteTime": {
     "end_time": "2023-07-24T18:47:10.571124Z",
     "start_time": "2023-07-24T18:47:10.536517Z"
    }
   },
   "outputs": [],
   "source": [
    "num_inputs = 2\n",
    "num_examples = 1000\n",
    "\n",
    "true_w = torch.tensor([2, -3.4])\n",
    "true_b = 4.2\n",
    "\n",
    "features = torch.randn((num_examples, num_inputs))\n",
    "\n",
    "labels = torch.mv(features, true_w) + true_b\n",
    "labels += torch.randn(labels.shape)"
   ]
  },
  {
   "cell_type": "code",
   "execution_count": 69,
   "metadata": {
    "colab": {
     "base_uri": "https://localhost:8080/"
    },
    "id": "6KDcWMGd31Wy",
    "outputId": "61b3f08d-10dd-4045-fc4b-a804ebed72e7",
    "scrolled": false,
    "pycharm": {
     "name": "#%%\n",
     "is_executing": true
    },
    "ExecuteTime": {
     "end_time": "2023-07-24T18:47:40.703445Z",
     "start_time": "2023-07-24T18:47:40.667646Z"
    }
   },
   "outputs": [
    {
     "name": "stdout",
     "output_type": "stream",
     "text": [
      "tensor([[-0.3496,  0.2812],\n",
      "        [ 0.3070, -0.7991],\n",
      "        [-0.3893, -0.2023],\n",
      "        [ 0.0812,  0.5397],\n",
      "        [ 0.9907, -0.9967],\n",
      "        [-0.6404, -0.8519],\n",
      "        [-0.0375, -1.3567],\n",
      "        [-1.8484, -0.1156],\n",
      "        [-1.1024,  0.2338],\n",
      "        [ 0.7474, -0.7167]]) tensor([ 2.5116,  6.1786,  4.4496,  0.8120,  9.7819,  7.4392,  8.0253,  0.2106,\n",
      "        -0.1188,  9.6058])\n"
     ]
    }
   ],
   "source": [
    "batch_size = 10\n",
    "dataset = TensorDataset(features, labels)\n",
    "\n",
    "# Randomly reading mini-batches\n",
    "data_iter = DataLoader(dataset, batch_size, shuffle=True)\n",
    "\n",
    "# Read a batch to see how it works\n",
    "for X, y in data_iter:\n",
    "    print(X, y)\n",
    "    break"
   ]
  },
  {
   "cell_type": "code",
   "execution_count": 70,
   "metadata": {
    "colab": {
     "base_uri": "https://localhost:8080/"
    },
    "id": "6xK7H5LB3gf0",
    "outputId": "4e9a49a0-273d-431f-aa53-4dadbd10e6d0",
    "pycharm": {
     "name": "#%%\n",
     "is_executing": true
    },
    "ExecuteTime": {
     "end_time": "2023-07-24T18:47:42.492102Z",
     "start_time": "2023-07-24T18:47:42.461165Z"
    }
   },
   "outputs": [
    {
     "data": {
      "text/plain": "tensor([[3.5079, 3.2500],\n        [4.8097, 6.9039],\n        [3.4292, 4.8852],\n        [4.3621, 2.3757],\n        [6.1651, 7.5723],\n        [2.9314, 7.0823],\n        [4.1267, 8.7899],\n        [0.5364, 4.5921],\n        [2.0154, 3.4102],\n        [5.6829, 6.6250]], grad_fn=<AddBackward0>)"
     },
     "execution_count": 70,
     "metadata": {},
     "output_type": "execute_result"
    }
   ],
   "source": [
    "X * w + b"
   ]
  },
  {
   "cell_type": "code",
   "execution_count": 71,
   "metadata": {
    "id": "YsIkQx6731Wy",
    "pycharm": {
     "name": "#%%\n"
    },
    "ExecuteTime": {
     "end_time": "2023-07-24T18:49:12.454499Z",
     "start_time": "2023-07-24T18:49:12.396904Z"
    }
   },
   "outputs": [],
   "source": [
    "model = torch.nn.Sequential(torch.nn.Linear(2, 1)) # (количество входов, количетво выходов) -> у нас всего два признака и соответственно 1 предсказание"
   ]
  },
  {
   "cell_type": "code",
   "execution_count": 72,
   "metadata": {
    "id": "tUjU3mYr5hGj",
    "colab": {
     "base_uri": "https://localhost:8080/"
    },
    "outputId": "d3d84202-9625-41d0-d991-93ad8d0d5f54",
    "pycharm": {
     "name": "#%%\n"
    },
    "ExecuteTime": {
     "end_time": "2023-07-24T18:49:13.820125Z",
     "start_time": "2023-07-24T18:49:13.788759Z"
    }
   },
   "outputs": [
    {
     "data": {
      "text/plain": "Sequential(\n  (0): Linear(in_features=2, out_features=1, bias=True)\n)"
     },
     "execution_count": 72,
     "metadata": {},
     "output_type": "execute_result"
    }
   ],
   "source": [
    "model"
   ]
  },
  {
   "cell_type": "code",
   "execution_count": 73,
   "metadata": {
    "id": "qSZXsijF31Wy",
    "scrolled": true,
    "pycharm": {
     "name": "#%%\n"
    },
    "ExecuteTime": {
     "end_time": "2023-07-24T18:49:34.926064Z",
     "start_time": "2023-07-24T18:49:34.889888Z"
    }
   },
   "outputs": [],
   "source": [
    "# Мы можем обращаться к нашей модели, например взять её первый слой обратиться к весам модели и значениям и задать свои значния (НЕ ЗАПУСКАТЬ просто пример)\n",
    "model[0].weight.data = true_w.clone().detach().requires_grad_(True).reshape((1, 2))\n",
    "model[0].bias.data = torch.tensor([true_b], requires_grad = True)"
   ]
  },
  {
   "cell_type": "code",
   "execution_count": 81,
   "metadata": {
    "id": "FArQZx_a31Wy",
    "pycharm": {
     "name": "#%%\n"
    },
    "ExecuteTime": {
     "end_time": "2023-07-24T18:51:03.650309Z",
     "start_time": "2023-07-24T18:51:03.611201Z"
    }
   },
   "outputs": [],
   "source": [
    "# Задаем функцию ошибки\n",
    "loss = torch.nn.MSELoss(reduction='mean')"
   ]
  },
  {
   "cell_type": "code",
   "execution_count": 82,
   "metadata": {
    "id": "94jAjXQc31Wy",
    "pycharm": {
     "name": "#%%\n"
    },
    "ExecuteTime": {
     "end_time": "2023-07-24T18:51:04.027724Z",
     "start_time": "2023-07-24T18:51:03.996787Z"
    }
   },
   "outputs": [],
   "source": [
    "# Задаем оптимизиатор\n",
    "trainer = torch.optim.SGD(model.parameters(), lr=0.001)"
   ]
  },
  {
   "cell_type": "code",
   "execution_count": 76,
   "metadata": {
    "id": "_DSVnaFk6eva",
    "pycharm": {
     "name": "#%%\n"
    },
    "ExecuteTime": {
     "end_time": "2023-07-24T18:50:01.371964Z",
     "start_time": "2023-07-24T18:50:01.340876Z"
    }
   },
   "outputs": [],
   "source": [
    "test_tensor = torch.tensor([[1.,2.],[3.,4.],[5.,6.]])"
   ]
  },
  {
   "cell_type": "code",
   "source": [
    "labels.shape"
   ],
   "metadata": {
    "colab": {
     "base_uri": "https://localhost:8080/"
    },
    "id": "gjEwmuxv5wEx",
    "outputId": "d83ce700-8ef6-4ff7-c817-d0b7bae5c477",
    "pycharm": {
     "name": "#%%\n",
     "is_executing": true
    },
    "ExecuteTime": {
     "end_time": "2023-07-24T18:50:02.665177Z",
     "start_time": "2023-07-24T18:50:02.631687Z"
    }
   },
   "execution_count": 77,
   "outputs": [
    {
     "data": {
      "text/plain": "torch.Size([1000])"
     },
     "execution_count": 77,
     "metadata": {},
     "output_type": "execute_result"
    }
   ]
  },
  {
   "cell_type": "code",
   "execution_count": 78,
   "metadata": {
    "colab": {
     "base_uri": "https://localhost:8080/"
    },
    "id": "Fylj9yIE6o44",
    "outputId": "7e75cd88-a033-419b-e62d-d47958d3d77a",
    "pycharm": {
     "name": "#%%\n",
     "is_executing": true
    },
    "ExecuteTime": {
     "end_time": "2023-07-24T18:50:06.712297Z",
     "start_time": "2023-07-24T18:50:06.681746Z"
    }
   },
   "outputs": [
    {
     "data": {
      "text/plain": "torch.Size([3, 1])"
     },
     "execution_count": 78,
     "metadata": {},
     "output_type": "execute_result"
    }
   ],
   "source": [
    "model(test_tensor).shape"
   ]
  },
  {
   "cell_type": "code",
   "execution_count": 79,
   "metadata": {
    "colab": {
     "base_uri": "https://localhost:8080/"
    },
    "id": "_40n7zag6llG",
    "outputId": "7db5e1f2-4233-4dd4-c37a-7daf74bd051f",
    "pycharm": {
     "name": "#%%\n"
    },
    "ExecuteTime": {
     "end_time": "2023-07-24T18:50:11.398629Z",
     "start_time": "2023-07-24T18:50:11.367504Z"
    }
   },
   "outputs": [
    {
     "data": {
      "text/plain": "tensor([-0.6000, -3.4000, -6.2000], grad_fn=<ReshapeAliasBackward0>)"
     },
     "execution_count": 79,
     "metadata": {},
     "output_type": "execute_result"
    }
   ],
   "source": [
    "model(test_tensor).reshape(-1)"
   ]
  },
  {
   "cell_type": "code",
   "execution_count": 83,
   "metadata": {
    "colab": {
     "base_uri": "https://localhost:8080/"
    },
    "id": "soQ8kc6_31Wy",
    "outputId": "6776f3b5-c9dd-4ce7-ef96-d30b67ecc58a",
    "pycharm": {
     "name": "#%%\n",
     "is_executing": true
    },
    "ExecuteTime": {
     "end_time": "2023-07-24T18:51:36.907074Z",
     "start_time": "2023-07-24T18:51:33.113445Z"
    }
   },
   "outputs": [
    {
     "name": "stdout",
     "output_type": "stream",
     "text": [
      "epoch 5, loss: 0.982535 |\tw tensor([[ 1.9877, -3.3691]]) |\tb tensor([4.1981])\n",
      "epoch 10, loss: 0.982197 |\tw tensor([[ 1.9837, -3.3574]]) |\tb tensor([4.1962])\n",
      "epoch 15, loss: 0.982147 |\tw tensor([[ 1.9820, -3.3530]]) |\tb tensor([4.1970])\n",
      "epoch 20, loss: 0.982141 |\tw tensor([[ 1.9819, -3.3512]]) |\tb tensor([4.1977])\n",
      "epoch 25, loss: 0.982138 |\tw tensor([[ 1.9809, -3.3502]]) |\tb tensor([4.1969])\n",
      "epoch 30, loss: 0.982139 |\tw tensor([[ 1.9813, -3.3502]]) |\tb tensor([4.1975])\n",
      "epoch 35, loss: 0.982139 |\tw tensor([[ 1.9810, -3.3511]]) |\tb tensor([4.1961])\n",
      "epoch 40, loss: 0.982139 |\tw tensor([[ 1.9815, -3.3507]]) |\tb tensor([4.1968])\n",
      "epoch 45, loss: 0.982139 |\tw tensor([[ 1.9818, -3.3506]]) |\tb tensor([4.1961])\n",
      "epoch 50, loss: 0.982139 |\tw tensor([[ 1.9820, -3.3499]]) |\tb tensor([4.1963])\n",
      "epoch 55, loss: 0.982138 |\tw tensor([[ 1.9815, -3.3504]]) |\tb tensor([4.1965])\n",
      "epoch 60, loss: 0.982140 |\tw tensor([[ 1.9811, -3.3498]]) |\tb tensor([4.1978])\n",
      "epoch 65, loss: 0.982139 |\tw tensor([[ 1.9812, -3.3506]]) |\tb tensor([4.1971])\n",
      "epoch 70, loss: 0.982139 |\tw tensor([[ 1.9806, -3.3504]]) |\tb tensor([4.1969])\n",
      "epoch 75, loss: 0.982139 |\tw tensor([[ 1.9801, -3.3502]]) |\tb tensor([4.1964])\n",
      "epoch 80, loss: 0.982139 |\tw tensor([[ 1.9816, -3.3506]]) |\tb tensor([4.1962])\n",
      "epoch 85, loss: 0.982138 |\tw tensor([[ 1.9814, -3.3505]]) |\tb tensor([4.1966])\n",
      "epoch 90, loss: 0.982139 |\tw tensor([[ 1.9815, -3.3494]]) |\tb tensor([4.1964])\n",
      "epoch 95, loss: 0.982138 |\tw tensor([[ 1.9810, -3.3502]]) |\tb tensor([4.1969])\n",
      "epoch 100, loss: 0.982139 |\tw tensor([[ 1.9808, -3.3498]]) |\tb tensor([4.1972])\n"
     ]
    }
   ],
   "source": [
    "# Определились с моделью, с функцией потерь и оптимизатором теперь самое время обучить модель линейной регрессии\n",
    "num_epochs = 100\n",
    "for epoch in range(1, num_epochs + 1):\n",
    "    for X, y in data_iter:\n",
    "        trainer.zero_grad()\n",
    "        l = loss(model(X).reshape(-1), y) #  необходимо привести к той форме (вектор-строка) чтобы она совпадала с вектором строкой реальных значений\n",
    "        l.backward()\n",
    "        trainer.step()\n",
    "    l = loss(model(features).reshape(-1), labels)\n",
    "    if epoch % 5 == 0:\n",
    "        print('epoch %d, loss: %f' % (epoch, l.item()),'|\\tw', model[0].weight.data, '|\\tb', model[0].bias.data)\n"
   ]
  },
  {
   "cell_type": "code",
   "execution_count": 84,
   "metadata": {
    "colab": {
     "base_uri": "https://localhost:8080/"
    },
    "id": "k7aEenze31Wy",
    "outputId": "0dd75d04-361d-4b74-9653-a582904bc5b0",
    "pycharm": {
     "name": "#%%\n",
     "is_executing": true
    },
    "ExecuteTime": {
     "end_time": "2023-07-24T18:51:45.012880Z",
     "start_time": "2023-07-24T18:51:44.978485Z"
    }
   },
   "outputs": [
    {
     "name": "stdout",
     "output_type": "stream",
     "text": [
      "Error in estimating w tensor([[ 0.0192, -0.0502]])\n",
      "Error in estimating b tensor([0.0028])\n"
     ]
    }
   ],
   "source": [
    "w = model[0].weight.data\n",
    "print('Error in estimating w', true_w.reshape(w.shape) - w)\n",
    "b = model[0].bias.data\n",
    "print('Error in estimating b', true_b - b)"
   ]
  },
  {
   "cell_type": "code",
   "execution_count": 85,
   "metadata": {
    "colab": {
     "base_uri": "https://localhost:8080/"
    },
    "id": "_aOQfbv931Wy",
    "outputId": "06c57868-9699-49cb-b147-16c6d8721cc2",
    "pycharm": {
     "name": "#%%\n",
     "is_executing": true
    },
    "ExecuteTime": {
     "end_time": "2023-07-24T18:51:46.823130Z",
     "start_time": "2023-07-24T18:51:46.793729Z"
    }
   },
   "outputs": [
    {
     "data": {
      "text/plain": "tensor([[ 1.9808, -3.3498]])"
     },
     "execution_count": 85,
     "metadata": {},
     "output_type": "execute_result"
    }
   ],
   "source": [
    "model[0].weight.data"
   ]
  },
  {
   "cell_type": "code",
   "execution_count": 86,
   "metadata": {
    "colab": {
     "base_uri": "https://localhost:8080/"
    },
    "id": "NkpczGnS31Wy",
    "outputId": "bc9e2074-c886-4c66-b25a-2d3f30803b6b",
    "pycharm": {
     "name": "#%%\n",
     "is_executing": true
    },
    "ExecuteTime": {
     "end_time": "2023-07-24T18:51:47.319497Z",
     "start_time": "2023-07-24T18:51:47.288942Z"
    }
   },
   "outputs": [
    {
     "data": {
      "text/plain": "tensor([4.1972])"
     },
     "execution_count": 86,
     "metadata": {},
     "output_type": "execute_result"
    }
   ],
   "source": [
    "model[0].bias.data"
   ]
  },
  {
   "cell_type": "code",
   "execution_count": null,
   "metadata": {
    "id": "hw9eJBJg31Wy",
    "pycharm": {
     "name": "#%%\n"
    }
   },
   "outputs": [],
   "source": []
  },
  {
   "cell_type": "markdown",
   "metadata": {
    "id": "0fI6bpOwM5rV",
    "pycharm": {
     "name": "#%% md\n"
    }
   },
   "source": [
    "## Домашнее Задание"
   ]
  },
  {
   "cell_type": "markdown",
   "source": [
    "### 1. Есть датасет - boston house prices в папке data. Необходимо по примеру из лекции, построить модель перцептрона для линейной регрессии."
   ],
   "metadata": {
    "collapsed": false,
    "pycharm": {
     "name": "#%% md\n"
    }
   }
  },
  {
   "cell_type": "markdown",
   "source": [
    "### 2. При помощи фреймворка PyTorch построить NaiveBayesClassifier для классификации картинок цифр (0-9). Пример ниже, датасет уже есть в самом фреймворке.\n",
    "https://scikit-learn.org/stable/modules/naive_bayes.html **(не использовать ничего лишнего, кроме самого фреймворфка PyTorch)**"
   ],
   "metadata": {
    "collapsed": false,
    "pycharm": {
     "name": "#%% md\n"
    }
   }
  },
  {
   "cell_type": "code",
   "execution_count": null,
   "metadata": {
    "id": "M6GCzqks31Wy",
    "pycharm": {
     "name": "#%%\n"
    }
   },
   "outputs": [],
   "source": [
    "import torchvision\n",
    "import time"
   ]
  },
  {
   "cell_type": "code",
   "execution_count": null,
   "metadata": {
    "id": "chZNOHGkLkRm",
    "pycharm": {
     "name": "#%%\n"
    }
   },
   "outputs": [],
   "source": [
    "def transform(data):\n",
    "    data = torch.tensor(data.getdata(), dtype=torch.float32)\n",
    "    return torch.floor(data / 128.).squeeze(axis=-1)"
   ]
  },
  {
   "cell_type": "code",
   "execution_count": null,
   "metadata": {
    "colab": {
     "base_uri": "https://localhost:8080/",
     "height": 768,
     "referenced_widgets": [
      "8e8ad864fb244d349dd68c4509ee0af0",
      "46913fb0b8844e41bba26b2e3c5aea43",
      "6c2686e028f146b582c3cacb2e3a47cf",
      "680aab0b841847fda69894c6d6d55e6b",
      "104120a053234446ba226ad343ba8ca8",
      "fe362fab63144e7d91341dde5a172713",
      "4c524cab37a54782897a0bd977b377ed",
      "f89bceab0fd24848ab9bfc3c336aa777",
      "aa78975921e54f9ca6ca638ee902138c",
      "bb7e938660b749d08e9604d50b49c3bb",
      "d48fbccdd88544559921fe18b8cbd076",
      "e6cdec577ea0445fbaf1b7f29014a47d",
      "c3a87a70e9544e8284ecf615a5106367",
      "81467ee34604487a971d6dd19c00f385",
      "d36b4e7c37544bbc9e54421034bfa7d9",
      "af467e07257648a1b9aa8f3a40f24f09",
      "b2e4090e20694116aa9cc1b939bc04b2",
      "fe403532a633499e9cc493d0ccd33592",
      "63f13c2890274c5eb8bd13ef32c83286",
      "cd693c66ad654455bfa927b8f2af3b1b",
      "aaaf64bfc28149a4b1a1aeff1cb1fef0",
      "608c1f9f265c46979239873d4730b287",
      "ebad692949d342e4a0edca32b9e13c81",
      "8b63aa74d4dd4e0d91d3ed5f092ff8a5",
      "66fcd5b69cbf492899ecca5946d19894",
      "3c941eba040a4fcf9f969ecbbc186180",
      "07c5461b32ab44ca90ce7b803c9ea5fc",
      "6291ed7b56c54a58894b339ddf14c0a0",
      "e6b291b89057480cbfe54e527609f8e2",
      "d4fa3e66e11f4800b7f397e15731bbe9",
      "d5a1aa967c7547da84464da16922f1ab",
      "ddadfce0d7794b4bbe2319e68db885bb",
      "9c8a32b1a3d94dcc94d216d4d5a09191",
      "7412686cd48c455088b7f5d224e8bbea",
      "9397b93d960543b6bba811efad7faf63",
      "4260db2d979144ecb5f0d550947bd4f6",
      "46d7dc2dcbb642ba8789920d3fbcb1ac",
      "18dd4317579b496aac0fff39e4d898c0",
      "34ae63a889284d22bc82066ba65c92b5",
      "39ddb09363ea42a38e054ac3477aadd6",
      "68392554028a43cd8eb33bdb5efb100e",
      "a1c9a0b0e2b6438e8fb8c888543bd159",
      "090f5bc10d2741fbb117b55f6c0c905d",
      "ed79a7d373924d8d8bd723f5f3bf371e"
     ]
    },
    "id": "LZPnHBTJLkU0",
    "outputId": "bb4d2a24-6e0c-4cb8-ac93-b2a51a137a4f",
    "pycharm": {
     "name": "#%%\n",
     "is_executing": true
    }
   },
   "outputs": [],
   "source": [
    "mnist_train = torchvision.datasets.MNIST('.', train=True, transform=transform, download=True)\n",
    "mnist_test  = torchvision.datasets.MNIST('.', train=False, transform=transform, download=True)"
   ]
  },
  {
   "cell_type": "code",
   "execution_count": null,
   "metadata": {
    "colab": {
     "base_uri": "https://localhost:8080/"
    },
    "id": "yH410L0ULkX9",
    "outputId": "3cd1f1b3-0d95-4f0a-b15d-bc8a5074ea52",
    "pycharm": {
     "name": "#%%\n",
     "is_executing": true
    }
   },
   "outputs": [],
   "source": [
    "mnist_train[0]"
   ]
  },
  {
   "cell_type": "code",
   "execution_count": null,
   "metadata": {
    "colab": {
     "base_uri": "https://localhost:8080/",
     "height": 282
    },
    "id": "Zef8ICxUNIm3",
    "outputId": "981b0464-8dad-430f-f859-d8d059e00f93",
    "pycharm": {
     "name": "#%%\n",
     "is_executing": true
    }
   },
   "outputs": [],
   "source": [
    "plt.imshow(mnist_train[0][0].reshape(28, 28), cmap='gray', vmin=0, vmax=1)"
   ]
  },
  {
   "cell_type": "code",
   "execution_count": null,
   "metadata": {
    "colab": {
     "base_uri": "https://localhost:8080/",
     "height": 168
    },
    "id": "h2QBx0JkNbAl",
    "outputId": "251fcd6b-813f-4e03-a8d3-9d256f41f0f3",
    "pycharm": {
     "name": "#%%\n",
     "is_executing": true
    }
   },
   "outputs": [],
   "source": [
    "x_5 = mnist_train.data[mnist_train.train_labels==1]"
   ]
  },
  {
   "cell_type": "code",
   "execution_count": null,
   "metadata": {
    "colab": {
     "base_uri": "https://localhost:8080/",
     "height": 282
    },
    "id": "Zzb1A4bhOiH6",
    "outputId": "018c047f-c9e2-473d-d24b-117d1fc1ed28",
    "pycharm": {
     "name": "#%%\n",
     "is_executing": true
    }
   },
   "outputs": [],
   "source": [
    "plt.imshow(x_5.sum(axis=0)/x_5.sum(axis=0).max(),cmap='gray')"
   ]
  },
  {
   "cell_type": "markdown",
   "source": [
    "### Стандартный WorkFlow (Дополнительно):\n",
    "\n",
    "#### 1. Подготовка и обработка данных (кратко, так как большая часть принципов нам уже знакома):"
   ],
   "metadata": {
    "collapsed": false
   }
  },
  {
   "cell_type": "code",
   "execution_count": 36,
   "outputs": [
    {
     "data": {
      "text/plain": "(tensor([[0.0000],\n         [0.0200],\n         [0.0400],\n         [0.0600],\n         [0.0800],\n         [0.1000],\n         [0.1200],\n         [0.1400],\n         [0.1600],\n         [0.1800]]),\n tensor([[0.3000],\n         [0.3140],\n         [0.3280],\n         [0.3420],\n         [0.3560],\n         [0.3700],\n         [0.3840],\n         [0.3980],\n         [0.4120],\n         [0.4260]]))"
     },
     "execution_count": 36,
     "metadata": {},
     "output_type": "execute_result"
    }
   ],
   "source": [
    "# Create \"known\" parameters\n",
    "weight = 0.7\n",
    "bias = 0.3\n",
    "\n",
    "# Create data\n",
    "start = 0\n",
    "end = 1\n",
    "step = 0.02\n",
    "X = torch.arange(start, end, step).unsqueeze(dim=1)\n",
    "y = weight * X + bias\n",
    "\n",
    "X[:10], y[:10]"
   ],
   "metadata": {
    "collapsed": false,
    "ExecuteTime": {
     "end_time": "2023-07-24T17:48:12.432909Z",
     "start_time": "2023-07-24T17:48:12.427142Z"
    }
   }
  },
  {
   "cell_type": "code",
   "execution_count": 37,
   "outputs": [
    {
     "data": {
      "text/plain": "(40, 40, 10, 10)"
     },
     "execution_count": 37,
     "metadata": {},
     "output_type": "execute_result"
    }
   ],
   "source": [
    "# Create train/test split\n",
    "train_split = int(0.8 * len(X)) # 80% of data used for training set, 20% for testing\n",
    "X_train, y_train = X[:train_split], y[:train_split]\n",
    "X_test, y_test = X[train_split:], y[train_split:]\n",
    "\n",
    "len(X_train), len(y_train), len(X_test), len(y_test)"
   ],
   "metadata": {
    "collapsed": false,
    "ExecuteTime": {
     "end_time": "2023-07-24T17:49:04.427872Z",
     "start_time": "2023-07-24T17:49:04.403839Z"
    }
   }
  },
  {
   "cell_type": "code",
   "execution_count": 38,
   "outputs": [],
   "source": [
    "def plot_predictions(train_data=X_train,\n",
    "                     train_labels=y_train,\n",
    "                     test_data=X_test,\n",
    "                     test_labels=y_test,\n",
    "                     predictions=None):\n",
    "  \"\"\"\n",
    "  Plots training data, test data and compares predictions.\n",
    "  \"\"\"\n",
    "  plt.figure(figsize=(10, 7))\n",
    "\n",
    "  # Plot training data in blue\n",
    "  plt.scatter(train_data, train_labels, c=\"b\", s=4, label=\"Training data\")\n",
    "\n",
    "  # Plot test data in green\n",
    "  plt.scatter(test_data, test_labels, c=\"g\", s=4, label=\"Testing data\")\n",
    "\n",
    "  if predictions is not None:\n",
    "    # Plot the predictions in red (predictions were made on the test data)\n",
    "    plt.scatter(test_data, predictions, c=\"r\", s=4, label=\"Predictions\")\n",
    "\n",
    "  # Show the legend\n",
    "  plt.legend(prop={\"size\": 14});"
   ],
   "metadata": {
    "collapsed": false,
    "ExecuteTime": {
     "end_time": "2023-07-24T17:49:40.985020Z",
     "start_time": "2023-07-24T17:49:40.974844Z"
    }
   }
  },
  {
   "cell_type": "code",
   "execution_count": 39,
   "outputs": [
    {
     "data": {
      "text/plain": "<Figure size 1000x700 with 1 Axes>",
      "image/png": "[encoded data removed]"
     },
     "metadata": {},
     "output_type": "display_data"
    }
   ],
   "source": [
    "plot_predictions();"
   ],
   "metadata": {
    "collapsed": false,
    "ExecuteTime": {
     "end_time": "2023-07-24T17:49:44.342733Z",
     "start_time": "2023-07-24T17:49:43.991988Z"
    }
   }
  },
  {
   "cell_type": "markdown",
   "source": [
    "#### 2. Построение архитектуры модели:"
   ],
   "metadata": {
    "collapsed": false
   }
  },
  {
   "cell_type": "code",
   "execution_count": 40,
   "outputs": [],
   "source": [
    "# Create a Linear Regression model class\n",
    "class LinearRegressionModel(torch.nn.Module): # <- almost everything in PyTorch is a nn.Module (think of this as neural network lego blocks)\n",
    "    def __init__(self):\n",
    "        super().__init__()\n",
    "        self.weights = torch.nn.Parameter(torch.randn(1, # <- start with random weights (this will get adjusted as the model learns)\n",
    "                                                dtype=torch.float), # <- PyTorch loves float32 by default\n",
    "                                   requires_grad=True) # <- can we update this value with gradient #descent?)\n",
    "\n",
    "        self.bias = torch.nn.Parameter(torch.randn(1, # <- start with random bias (this will get adjusted as the model learns)\n",
    "                                            dtype=torch.float), # <- PyTorch loves float32 by default\n",
    "                                requires_grad=True) # <- can we update this value with gradient descent?))\n",
    "\n",
    "    # Forward defines the computation in the model\n",
    "    def forward(self, x: torch.Tensor) -> torch.Tensor: # <- \"x\" is the input data (e.g. training/testing features)\n",
    "        return self.weights * x + self.bias # <- this is the linear regression formula (y = m*x + b)"
   ],
   "metadata": {
    "collapsed": false,
    "ExecuteTime": {
     "end_time": "2023-07-24T18:03:33.967971Z",
     "start_time": "2023-07-24T18:03:33.939688Z"
    }
   }
  },
  {
   "cell_type": "code",
   "execution_count": 41,
   "outputs": [
    {
     "data": {
      "text/plain": "[Parameter containing:\n tensor([0.3367], requires_grad=True),\n Parameter containing:\n tensor([0.1288], requires_grad=True)]"
     },
     "execution_count": 41,
     "metadata": {},
     "output_type": "execute_result"
    }
   ],
   "source": [
    "# Set manual seed since nn.Parameter are randomly initialzied\n",
    "torch.manual_seed(42)\n",
    "\n",
    "# Create an instance of the model (this is a subclass of nn.Module that contains nn.Parameter(s))\n",
    "model_0 = LinearRegressionModel()\n",
    "\n",
    "# Check the nn.Parameter(s) within the nn.Module subclass we created\n",
    "list(model_0.parameters())"
   ],
   "metadata": {
    "collapsed": false,
    "ExecuteTime": {
     "end_time": "2023-07-24T18:05:06.034345Z",
     "start_time": "2023-07-24T18:05:06.006619Z"
    }
   }
  },
  {
   "cell_type": "code",
   "execution_count": 42,
   "outputs": [
    {
     "data": {
      "text/plain": "OrderedDict([('weights', tensor([0.3367])), ('bias', tensor([0.1288]))])"
     },
     "execution_count": 42,
     "metadata": {},
     "output_type": "execute_result"
    }
   ],
   "source": [
    "# List named parameters\n",
    "model_0.state_dict()"
   ],
   "metadata": {
    "collapsed": false,
    "ExecuteTime": {
     "end_time": "2023-07-24T18:05:55.467040Z",
     "start_time": "2023-07-24T18:05:55.439595Z"
    }
   }
  },
  {
   "cell_type": "code",
   "execution_count": 43,
   "outputs": [],
   "source": [
    "# Make predictions with model\n",
    "with torch.inference_mode():\n",
    "    y_preds = model_0(X_test)\n",
    "\n",
    "# Note: in older PyTorch code you might also see torch.no_grad()\n",
    "# with torch.no_grad():\n",
    "#   y_preds = model_0(X_test)"
   ],
   "metadata": {
    "collapsed": false,
    "ExecuteTime": {
     "end_time": "2023-07-24T18:12:51.541327Z",
     "start_time": "2023-07-24T18:12:51.515410Z"
    }
   }
  },
  {
   "cell_type": "code",
   "execution_count": 44,
   "outputs": [
    {
     "name": "stdout",
     "output_type": "stream",
     "text": [
      "Number of testing samples: 10\n",
      "Number of predictions made: 10\n",
      "Predicted values:\n",
      "tensor([[0.3982],\n",
      "        [0.4049],\n",
      "        [0.4116],\n",
      "        [0.4184],\n",
      "        [0.4251],\n",
      "        [0.4318],\n",
      "        [0.4386],\n",
      "        [0.4453],\n",
      "        [0.4520],\n",
      "        [0.4588]])\n"
     ]
    }
   ],
   "source": [
    "# Check the predictions\n",
    "print(f\"Number of testing samples: {len(X_test)}\")\n",
    "print(f\"Number of predictions made: {len(y_preds)}\")\n",
    "print(f\"Predicted values:\\n{y_preds}\")"
   ],
   "metadata": {
    "collapsed": false,
    "ExecuteTime": {
     "end_time": "2023-07-24T18:12:53.836967Z",
     "start_time": "2023-07-24T18:12:53.810471Z"
    }
   }
  },
  {
   "cell_type": "code",
   "execution_count": 45,
   "outputs": [
    {
     "data": {
      "text/plain": "<Figure size 1000x700 with 1 Axes>",
      "image/png": "[encoded data removed]"
     },
     "metadata": {},
     "output_type": "display_data"
    }
   ],
   "source": [
    "plot_predictions(predictions=y_preds)"
   ],
   "metadata": {
    "collapsed": false,
    "ExecuteTime": {
     "end_time": "2023-07-24T18:13:31.118201Z",
     "start_time": "2023-07-24T18:13:30.713757Z"
    }
   }
  },
  {
   "cell_type": "markdown",
   "source": [
    "#### 3. Тренировка модели:"
   ],
   "metadata": {
    "collapsed": false
   }
  },
  {
   "cell_type": "code",
   "execution_count": 46,
   "outputs": [],
   "source": [
    "# Create the loss function\n",
    "loss_fn = torch.nn.L1Loss() # MAE loss is same as L1Loss\n",
    "\n",
    "# Create the optimizer\n",
    "optimizer = torch.optim.SGD(params=model_0.parameters(), # parameters of target model to optimize\n",
    "                            lr=0.01) # learning rate (how much the optimizer should change parameters at each step"
   ],
   "metadata": {
    "collapsed": false,
    "ExecuteTime": {
     "end_time": "2023-07-24T18:22:39.807797Z",
     "start_time": "2023-07-24T18:22:39.783848Z"
    }
   }
  },
  {
   "cell_type": "code",
   "execution_count": 50,
   "outputs": [
    {
     "name": "stdout",
     "output_type": "stream",
     "text": [
      "Epoch: 0 | MAE Train Loss: 0.024458957836031914 | MAE Test Loss: 0.05646304413676262 \n",
      "Epoch: 10 | MAE Train Loss: 0.021020207554101944 | MAE Test Loss: 0.04819049686193466 \n",
      "Epoch: 20 | MAE Train Loss: 0.01758546568453312 | MAE Test Loss: 0.04060482233762741 \n",
      "Epoch: 30 | MAE Train Loss: 0.014155393466353416 | MAE Test Loss: 0.03233227878808975 \n",
      "Epoch: 40 | MAE Train Loss: 0.010716589167714119 | MAE Test Loss: 0.024059748277068138 \n",
      "Epoch: 50 | MAE Train Loss: 0.0072835334576666355 | MAE Test Loss: 0.016474086791276932 \n",
      "Epoch: 60 | MAE Train Loss: 0.0038517764769494534 | MAE Test Loss: 0.008201557211577892 \n",
      "Epoch: 70 | MAE Train Loss: 0.008932482451200485 | MAE Test Loss: 0.005023092031478882 \n",
      "Epoch: 80 | MAE Train Loss: 0.008932482451200485 | MAE Test Loss: 0.005023092031478882 \n",
      "Epoch: 90 | MAE Train Loss: 0.008932482451200485 | MAE Test Loss: 0.005023092031478882 \n",
      "Epoch: 100 | MAE Train Loss: 0.008932482451200485 | MAE Test Loss: 0.005023092031478882 \n",
      "Epoch: 110 | MAE Train Loss: 0.008932482451200485 | MAE Test Loss: 0.005023092031478882 \n",
      "Epoch: 120 | MAE Train Loss: 0.008932482451200485 | MAE Test Loss: 0.005023092031478882 \n",
      "Epoch: 130 | MAE Train Loss: 0.008932482451200485 | MAE Test Loss: 0.005023092031478882 \n",
      "Epoch: 140 | MAE Train Loss: 0.008932482451200485 | MAE Test Loss: 0.005023092031478882 \n",
      "Epoch: 150 | MAE Train Loss: 0.008932482451200485 | MAE Test Loss: 0.005023092031478882 \n",
      "Epoch: 160 | MAE Train Loss: 0.008932482451200485 | MAE Test Loss: 0.005023092031478882 \n",
      "Epoch: 170 | MAE Train Loss: 0.008932482451200485 | MAE Test Loss: 0.005023092031478882 \n",
      "Epoch: 180 | MAE Train Loss: 0.008932482451200485 | MAE Test Loss: 0.005023092031478882 \n",
      "Epoch: 190 | MAE Train Loss: 0.008932482451200485 | MAE Test Loss: 0.005023092031478882 \n",
      "Epoch: 200 | MAE Train Loss: 0.008932482451200485 | MAE Test Loss: 0.005023092031478882 \n",
      "Epoch: 210 | MAE Train Loss: 0.008932482451200485 | MAE Test Loss: 0.005023092031478882 \n",
      "Epoch: 220 | MAE Train Loss: 0.008932482451200485 | MAE Test Loss: 0.005023092031478882 \n",
      "Epoch: 230 | MAE Train Loss: 0.008932482451200485 | MAE Test Loss: 0.005023092031478882 \n",
      "Epoch: 240 | MAE Train Loss: 0.008932482451200485 | MAE Test Loss: 0.005023092031478882 \n",
      "Epoch: 250 | MAE Train Loss: 0.008932482451200485 | MAE Test Loss: 0.005023092031478882 \n",
      "Epoch: 260 | MAE Train Loss: 0.008932482451200485 | MAE Test Loss: 0.005023092031478882 \n",
      "Epoch: 270 | MAE Train Loss: 0.008932482451200485 | MAE Test Loss: 0.005023092031478882 \n",
      "Epoch: 280 | MAE Train Loss: 0.008932482451200485 | MAE Test Loss: 0.005023092031478882 \n",
      "Epoch: 290 | MAE Train Loss: 0.008932482451200485 | MAE Test Loss: 0.005023092031478882 \n",
      "Epoch: 300 | MAE Train Loss: 0.008932482451200485 | MAE Test Loss: 0.005023092031478882 \n",
      "Epoch: 310 | MAE Train Loss: 0.008932482451200485 | MAE Test Loss: 0.005023092031478882 \n",
      "Epoch: 320 | MAE Train Loss: 0.008932482451200485 | MAE Test Loss: 0.005023092031478882 \n",
      "Epoch: 330 | MAE Train Loss: 0.008932482451200485 | MAE Test Loss: 0.005023092031478882 \n",
      "Epoch: 340 | MAE Train Loss: 0.008932482451200485 | MAE Test Loss: 0.005023092031478882 \n",
      "Epoch: 350 | MAE Train Loss: 0.008932482451200485 | MAE Test Loss: 0.005023092031478882 \n",
      "Epoch: 360 | MAE Train Loss: 0.008932482451200485 | MAE Test Loss: 0.005023092031478882 \n",
      "Epoch: 370 | MAE Train Loss: 0.008932482451200485 | MAE Test Loss: 0.005023092031478882 \n",
      "Epoch: 380 | MAE Train Loss: 0.008932482451200485 | MAE Test Loss: 0.005023092031478882 \n",
      "Epoch: 390 | MAE Train Loss: 0.008932482451200485 | MAE Test Loss: 0.005023092031478882 \n"
     ]
    }
   ],
   "source": [
    "torch.manual_seed(42)\n",
    "\n",
    "# Set the number of epochs (how many times the model will pass over the training data)\n",
    "epochs = 400\n",
    "\n",
    "# Create empty loss lists to track values\n",
    "train_loss_values = []\n",
    "test_loss_values = []\n",
    "epoch_count = []\n",
    "\n",
    "for epoch in range(epochs):\n",
    "    ### Training\n",
    "\n",
    "    # Put model in training mode (this is the default state of a model)\n",
    "    model_0.train()\n",
    "\n",
    "    # 1. Forward pass on train data using the forward() method inside\n",
    "    y_pred = model_0(X_train)\n",
    "    # print(y_pred)\n",
    "\n",
    "    # 2. Calculate the loss (how different are our models predictions to the ground truth)\n",
    "    loss = loss_fn(y_pred, y_train)\n",
    "\n",
    "    # 3. Zero grad of the optimizer\n",
    "    optimizer.zero_grad()\n",
    "\n",
    "    # 4. Loss backwards\n",
    "    loss.backward()\n",
    "\n",
    "    # 5. Progress the optimizer\n",
    "    optimizer.step()\n",
    "\n",
    "    ### Testing\n",
    "\n",
    "    # Put the model in evaluation mode\n",
    "    model_0.eval()\n",
    "\n",
    "    with torch.inference_mode():\n",
    "      # 1. Forward pass on test data\n",
    "      test_pred = model_0(X_test)\n",
    "\n",
    "      # 2. Caculate loss on test data\n",
    "      test_loss = loss_fn(test_pred, y_test.type(torch.float)) # predictions come in torch.float datatype, so comparisons need to be done with tensors of the same type\n",
    "\n",
    "      # Print out what's happening\n",
    "      if epoch % 10 == 0:\n",
    "            epoch_count.append(epoch)\n",
    "            train_loss_values.append(loss.detach().numpy())\n",
    "            test_loss_values.append(test_loss.detach().numpy())\n",
    "            print(f\"Epoch: {epoch} | MAE Train Loss: {loss} | MAE Test Loss: {test_loss} \")"
   ],
   "metadata": {
    "collapsed": false,
    "ExecuteTime": {
     "end_time": "2023-07-24T18:36:44.888163Z",
     "start_time": "2023-07-24T18:36:44.756374Z"
    }
   }
  },
  {
   "cell_type": "code",
   "execution_count": 51,
   "outputs": [
    {
     "data": {
      "text/plain": "<Figure size 640x480 with 1 Axes>",
      "image/png": "[encoded data removed]"
     },
     "metadata": {},
     "output_type": "display_data"
    }
   ],
   "source": [
    "# Plot the loss curves\n",
    "plt.plot(epoch_count, train_loss_values, label=\"Train loss\")\n",
    "plt.plot(epoch_count, test_loss_values, label=\"Test loss\")\n",
    "plt.title(\"Training and test loss curves\")\n",
    "plt.ylabel(\"Loss\")\n",
    "plt.xlabel(\"Epochs\")\n",
    "plt.legend();"
   ],
   "metadata": {
    "collapsed": false,
    "ExecuteTime": {
     "end_time": "2023-07-24T18:36:47.900437Z",
     "start_time": "2023-07-24T18:36:47.568981Z"
    }
   }
  },
  {
   "cell_type": "code",
   "execution_count": 52,
   "outputs": [
    {
     "name": "stdout",
     "output_type": "stream",
     "text": [
      "The model learned the following values for weights and bias:\n",
      "OrderedDict([('weights', tensor([0.6990])), ('bias', tensor([0.3093]))])\n",
      "\n",
      "And the original values for weights and bias are:\n",
      "weights: 0.7, bias: 0.3\n"
     ]
    }
   ],
   "source": [
    "# Find our model's learned parameters\n",
    "print(\"The model learned the following values for weights and bias:\")\n",
    "print(model_0.state_dict())\n",
    "print(\"\\nAnd the original values for weights and bias are:\")\n",
    "print(f\"weights: {weight}, bias: {bias}\")"
   ],
   "metadata": {
    "collapsed": false,
    "ExecuteTime": {
     "end_time": "2023-07-24T18:36:51.013923Z",
     "start_time": "2023-07-24T18:36:50.984307Z"
    }
   }
  },
  {
   "cell_type": "markdown",
   "source": [
    "#### 5. Использование модели для предсказаний:"
   ],
   "metadata": {
    "collapsed": false
   }
  },
  {
   "cell_type": "code",
   "execution_count": 53,
   "outputs": [
    {
     "data": {
      "text/plain": "tensor([[0.8685],\n        [0.8825],\n        [0.8965],\n        [0.9105],\n        [0.9245],\n        [0.9384],\n        [0.9524],\n        [0.9664],\n        [0.9804],\n        [0.9944]])"
     },
     "execution_count": 53,
     "metadata": {},
     "output_type": "execute_result"
    }
   ],
   "source": [
    "# 1. Set the model in evaluation mode\n",
    "model_0.eval()\n",
    "\n",
    "# 2. Setup the inference mode context manager\n",
    "with torch.inference_mode():\n",
    "  # 3. Make sure the calculations are done with the model and data on the same device\n",
    "  # in our case, we haven't setup device-agnostic code yet so our data and model are\n",
    "  # on the CPU by default.\n",
    "  # model_0.to(device)\n",
    "  # X_test = X_test.to(device)\n",
    "  y_preds = model_0(X_test)\n",
    "y_preds"
   ],
   "metadata": {
    "collapsed": false,
    "ExecuteTime": {
     "end_time": "2023-07-24T18:37:13.210708Z",
     "start_time": "2023-07-24T18:37:13.186162Z"
    }
   }
  },
  {
   "cell_type": "code",
   "execution_count": 54,
   "outputs": [
    {
     "data": {
      "text/plain": "<Figure size 1000x700 with 1 Axes>",
      "image/png": "[encoded data removed]"
     },
     "metadata": {},
     "output_type": "display_data"
    }
   ],
   "source": [
    "plot_predictions(predictions=y_preds)"
   ],
   "metadata": {
    "collapsed": false,
    "ExecuteTime": {
     "end_time": "2023-07-24T18:37:17.119367Z",
     "start_time": "2023-07-24T18:37:16.803526Z"
    }
   }
  },
  {
   "cell_type": "code",
   "execution_count": null,
   "outputs": [],
   "source": [],
   "metadata": {
    "collapsed": false
   }
  }
 ],
 "metadata": {
  "colab": {
   "name": "DLL_Лекция_1_1.ipynb",
   "provenance": []
  },
  "kernelspec": {
   "display_name": "Python 3",
   "language": "python",
   "name": "python3"
  },
  "language_info": {
   "codemirror_mode": {
    "name": "ipython",
    "version": 3
   },
   "file_extension": ".py",
   "mimetype": "text/x-python",
   "name": "python",
   "nbconvert_exporter": "python",
   "pygments_lexer": "ipython3",
   "version": "3.7.1"
  },
  "widgets": {
   "application/vnd.jupyter.widget-state+json": {
    "07c5461b32ab44ca90ce7b803c9ea5fc": {
     "model_module": "@jupyter-widgets/base",
     "model_module_version": "1.2.0",
     "model_name": "LayoutModel",
     "state": {
      "_model_module": "@jupyter-widgets/base",
      "_model_module_version": "1.2.0",
      "_model_name": "LayoutModel",
      "_view_count": null,
      "_view_module": "@jupyter-widgets/base",
      "_view_module_version": "1.2.0",
      "_view_name": "LayoutView",
      "align_content": null,
      "align_items": null,
      "align_self": null,
      "border": null,
      "bottom": null,
      "display": null,
      "flex": null,
      "flex_flow": null,
      "grid_area": null,
      "grid_auto_columns": null,
      "grid_auto_flow": null,
      "grid_auto_rows": null,
      "grid_column": null,
      "grid_gap": null,
      "grid_row": null,
      "grid_template_areas": null,
      "grid_template_columns": null,
      "grid_template_rows": null,
      "height": null,
      "justify_content": null,
      "justify_items": null,
      "left": null,
      "margin": null,
      "max_height": null,
      "max_width": null,
      "min_height": null,
      "min_width": null,
      "object_fit": null,
      "object_position": null,
      "order": null,
      "overflow": null,
      "overflow_x": null,
      "overflow_y": null,
      "padding": null,
      "right": null,
      "top": null,
      "visibility": null,
      "width": null
     }
    },
    "090f5bc10d2741fbb117b55f6c0c905d": {
     "model_module": "@jupyter-widgets/base",
     "model_module_version": "1.2.0",
     "model_name": "LayoutModel",
     "state": {
      "_model_module": "@jupyter-widgets/base",
      "_model_module_version": "1.2.0",
      "_model_name": "LayoutModel",
      "_view_count": null,
      "_view_module": "@jupyter-widgets/base",
      "_view_module_version": "1.2.0",
      "_view_name": "LayoutView",
      "align_content": null,
      "align_items": null,
      "align_self": null,
      "border": null,
      "bottom": null,
      "display": null,
      "flex": null,
      "flex_flow": null,
      "grid_area": null,
      "grid_auto_columns": null,
      "grid_auto_flow": null,
      "grid_auto_rows": null,
      "grid_column": null,
      "grid_gap": null,
      "grid_row": null,
      "grid_template_areas": null,
      "grid_template_columns": null,
      "grid_template_rows": null,
      "height": null,
      "justify_content": null,
      "justify_items": null,
      "left": null,
      "margin": null,
      "max_height": null,
      "max_width": null,
      "min_height": null,
      "min_width": null,
      "object_fit": null,
      "object_position": null,
      "order": null,
      "overflow": null,
      "overflow_x": null,
      "overflow_y": null,
      "padding": null,
      "right": null,
      "top": null,
      "visibility": null,
      "width": null
     }
    },
    "104120a053234446ba226ad343ba8ca8": {
     "model_module": "@jupyter-widgets/base",
     "model_module_version": "1.2.0",
     "model_name": "LayoutModel",
     "state": {
      "_model_module": "@jupyter-widgets/base",
      "_model_module_version": "1.2.0",
      "_model_name": "LayoutModel",
      "_view_count": null,
      "_view_module": "@jupyter-widgets/base",
      "_view_module_version": "1.2.0",
      "_view_name": "LayoutView",
      "align_content": null,
      "align_items": null,
      "align_self": null,
      "border": null,
      "bottom": null,
      "display": null,
      "flex": null,
      "flex_flow": null,
      "grid_area": null,
      "grid_auto_columns": null,
      "grid_auto_flow": null,
      "grid_auto_rows": null,
      "grid_column": null,
      "grid_gap": null,
      "grid_row": null,
      "grid_template_areas": null,
      "grid_template_columns": null,
      "grid_template_rows": null,
      "height": null,
      "justify_content": null,
      "justify_items": null,
      "left": null,
      "margin": null,
      "max_height": null,
      "max_width": null,
      "min_height": null,
      "min_width": null,
      "object_fit": null,
      "object_position": null,
      "order": null,
      "overflow": null,
      "overflow_x": null,
      "overflow_y": null,
      "padding": null,
      "right": null,
      "top": null,
      "visibility": null,
      "width": null
     }
    },
    "18dd4317579b496aac0fff39e4d898c0": {
     "model_module": "@jupyter-widgets/base",
     "model_module_version": "1.2.0",
     "model_name": "LayoutModel",
     "state": {
      "_model_module": "@jupyter-widgets/base",
      "_model_module_version": "1.2.0",
      "_model_name": "LayoutModel",
      "_view_count": null,
      "_view_module": "@jupyter-widgets/base",
      "_view_module_version": "1.2.0",
      "_view_name": "LayoutView",
      "align_content": null,
      "align_items": null,
      "align_self": null,
      "border": null,
      "bottom": null,
      "display": null,
      "flex": null,
      "flex_flow": null,
      "grid_area": null,
      "grid_auto_columns": null,
      "grid_auto_flow": null,
      "grid_auto_rows": null,
      "grid_column": null,
      "grid_gap": null,
      "grid_row": null,
      "grid_template_areas": null,
      "grid_template_columns": null,
      "grid_template_rows": null,
      "height": null,
      "justify_content": null,
      "justify_items": null,
      "left": null,
      "margin": null,
      "max_height": null,
      "max_width": null,
      "min_height": null,
      "min_width": null,
      "object_fit": null,
      "object_position": null,
      "order": null,
      "overflow": null,
      "overflow_x": null,
      "overflow_y": null,
      "padding": null,
      "right": null,
      "top": null,
      "visibility": null,
      "width": null
     }
    },
    "34ae63a889284d22bc82066ba65c92b5": {
     "model_module": "@jupyter-widgets/base",
     "model_module_version": "1.2.0",
     "model_name": "LayoutModel",
     "state": {
      "_model_module": "@jupyter-widgets/base",
      "_model_module_version": "1.2.0",
      "_model_name": "LayoutModel",
      "_view_count": null,
      "_view_module": "@jupyter-widgets/base",
      "_view_module_version": "1.2.0",
      "_view_name": "LayoutView",
      "align_content": null,
      "align_items": null,
      "align_self": null,
      "border": null,
      "bottom": null,
      "display": null,
      "flex": null,
      "flex_flow": null,
      "grid_area": null,
      "grid_auto_columns": null,
      "grid_auto_flow": null,
      "grid_auto_rows": null,
      "grid_column": null,
      "grid_gap": null,
      "grid_row": null,
      "grid_template_areas": null,
      "grid_template_columns": null,
      "grid_template_rows": null,
      "height": null,
      "justify_content": null,
      "justify_items": null,
      "left": null,
      "margin": null,
      "max_height": null,
      "max_width": null,
      "min_height": null,
      "min_width": null,
      "object_fit": null,
      "object_position": null,
      "order": null,
      "overflow": null,
      "overflow_x": null,
      "overflow_y": null,
      "padding": null,
      "right": null,
      "top": null,
      "visibility": null,
      "width": null
     }
    },
    "39ddb09363ea42a38e054ac3477aadd6": {
     "model_module": "@jupyter-widgets/controls",
     "model_module_version": "1.5.0",
     "model_name": "DescriptionStyleModel",
     "state": {
      "_model_module": "@jupyter-widgets/controls",
      "_model_module_version": "1.5.0",
      "_model_name": "DescriptionStyleModel",
      "_view_count": null,
      "_view_module": "@jupyter-widgets/base",
      "_view_module_version": "1.2.0",
      "_view_name": "StyleView",
      "description_width": ""
     }
    },
    "3c941eba040a4fcf9f969ecbbc186180": {
     "model_module": "@jupyter-widgets/controls",
     "model_module_version": "1.5.0",
     "model_name": "HTMLModel",
     "state": {
      "_dom_classes": [],
      "_model_module": "@jupyter-widgets/controls",
      "_model_module_version": "1.5.0",
      "_model_name": "HTMLModel",
      "_view_count": null,
      "_view_module": "@jupyter-widgets/controls",
      "_view_module_version": "1.5.0",
      "_view_name": "HTMLView",
      "description": "",
      "description_tooltip": null,
      "layout": "IPY_MODEL_ddadfce0d7794b4bbe2319e68db885bb",
      "placeholder": "​",
      "style": "IPY_MODEL_9c8a32b1a3d94dcc94d216d4d5a09191",
      "value": " 1649664/? [00:00&lt;00:00, 2215643.96it/s]"
     }
    },
    "4260db2d979144ecb5f0d550947bd4f6": {
     "model_module": "@jupyter-widgets/controls",
     "model_module_version": "1.5.0",
     "model_name": "FloatProgressModel",
     "state": {
      "_dom_classes": [],
      "_model_module": "@jupyter-widgets/controls",
      "_model_module_version": "1.5.0",
      "_model_name": "FloatProgressModel",
      "_view_count": null,
      "_view_module": "@jupyter-widgets/controls",
      "_view_module_version": "1.5.0",
      "_view_name": "ProgressView",
      "bar_style": "success",
      "description": "",
      "description_tooltip": null,
      "layout": "IPY_MODEL_68392554028a43cd8eb33bdb5efb100e",
      "max": 4542,
      "min": 0,
      "orientation": "horizontal",
      "style": "IPY_MODEL_a1c9a0b0e2b6438e8fb8c888543bd159",
      "value": 4542
     }
    },
    "46913fb0b8844e41bba26b2e3c5aea43": {
     "model_module": "@jupyter-widgets/controls",
     "model_module_version": "1.5.0",
     "model_name": "HTMLModel",
     "state": {
      "_dom_classes": [],
      "_model_module": "@jupyter-widgets/controls",
      "_model_module_version": "1.5.0",
      "_model_name": "HTMLModel",
      "_view_count": null,
      "_view_module": "@jupyter-widgets/controls",
      "_view_module_version": "1.5.0",
      "_view_name": "HTMLView",
      "description": "",
      "description_tooltip": null,
      "layout": "IPY_MODEL_fe362fab63144e7d91341dde5a172713",
      "placeholder": "​",
      "style": "IPY_MODEL_4c524cab37a54782897a0bd977b377ed",
      "value": ""
     }
    },
    "46d7dc2dcbb642ba8789920d3fbcb1ac": {
     "model_module": "@jupyter-widgets/controls",
     "model_module_version": "1.5.0",
     "model_name": "HTMLModel",
     "state": {
      "_dom_classes": [],
      "_model_module": "@jupyter-widgets/controls",
      "_model_module_version": "1.5.0",
      "_model_name": "HTMLModel",
      "_view_count": null,
      "_view_module": "@jupyter-widgets/controls",
      "_view_module_version": "1.5.0",
      "_view_name": "HTMLView",
      "description": "",
      "description_tooltip": null,
      "layout": "IPY_MODEL_090f5bc10d2741fbb117b55f6c0c905d",
      "placeholder": "​",
      "style": "IPY_MODEL_ed79a7d373924d8d8bd723f5f3bf371e",
      "value": " 5120/? [00:00&lt;00:00, 125620.57it/s]"
     }
    },
    "4c524cab37a54782897a0bd977b377ed": {
     "model_module": "@jupyter-widgets/controls",
     "model_module_version": "1.5.0",
     "model_name": "DescriptionStyleModel",
     "state": {
      "_model_module": "@jupyter-widgets/controls",
      "_model_module_version": "1.5.0",
      "_model_name": "DescriptionStyleModel",
      "_view_count": null,
      "_view_module": "@jupyter-widgets/base",
      "_view_module_version": "1.2.0",
      "_view_name": "StyleView",
      "description_width": ""
     }
    },
    "608c1f9f265c46979239873d4730b287": {
     "model_module": "@jupyter-widgets/controls",
     "model_module_version": "1.5.0",
     "model_name": "DescriptionStyleModel",
     "state": {
      "_model_module": "@jupyter-widgets/controls",
      "_model_module_version": "1.5.0",
      "_model_name": "DescriptionStyleModel",
      "_view_count": null,
      "_view_module": "@jupyter-widgets/base",
      "_view_module_version": "1.2.0",
      "_view_name": "StyleView",
      "description_width": ""
     }
    },
    "6291ed7b56c54a58894b339ddf14c0a0": {
     "model_module": "@jupyter-widgets/base",
     "model_module_version": "1.2.0",
     "model_name": "LayoutModel",
     "state": {
      "_model_module": "@jupyter-widgets/base",
      "_model_module_version": "1.2.0",
      "_model_name": "LayoutModel",
      "_view_count": null,
      "_view_module": "@jupyter-widgets/base",
      "_view_module_version": "1.2.0",
      "_view_name": "LayoutView",
      "align_content": null,
      "align_items": null,
      "align_self": null,
      "border": null,
      "bottom": null,
      "display": null,
      "flex": null,
      "flex_flow": null,
      "grid_area": null,
      "grid_auto_columns": null,
      "grid_auto_flow": null,
      "grid_auto_rows": null,
      "grid_column": null,
      "grid_gap": null,
      "grid_row": null,
      "grid_template_areas": null,
      "grid_template_columns": null,
      "grid_template_rows": null,
      "height": null,
      "justify_content": null,
      "justify_items": null,
      "left": null,
      "margin": null,
      "max_height": null,
      "max_width": null,
      "min_height": null,
      "min_width": null,
      "object_fit": null,
      "object_position": null,
      "order": null,
      "overflow": null,
      "overflow_x": null,
      "overflow_y": null,
      "padding": null,
      "right": null,
      "top": null,
      "visibility": null,
      "width": null
     }
    },
    "63f13c2890274c5eb8bd13ef32c83286": {
     "model_module": "@jupyter-widgets/base",
     "model_module_version": "1.2.0",
     "model_name": "LayoutModel",
     "state": {
      "_model_module": "@jupyter-widgets/base",
      "_model_module_version": "1.2.0",
      "_model_name": "LayoutModel",
      "_view_count": null,
      "_view_module": "@jupyter-widgets/base",
      "_view_module_version": "1.2.0",
      "_view_name": "LayoutView",
      "align_content": null,
      "align_items": null,
      "align_self": null,
      "border": null,
      "bottom": null,
      "display": null,
      "flex": null,
      "flex_flow": null,
      "grid_area": null,
      "grid_auto_columns": null,
      "grid_auto_flow": null,
      "grid_auto_rows": null,
      "grid_column": null,
      "grid_gap": null,
      "grid_row": null,
      "grid_template_areas": null,
      "grid_template_columns": null,
      "grid_template_rows": null,
      "height": null,
      "justify_content": null,
      "justify_items": null,
      "left": null,
      "margin": null,
      "max_height": null,
      "max_width": null,
      "min_height": null,
      "min_width": null,
      "object_fit": null,
      "object_position": null,
      "order": null,
      "overflow": null,
      "overflow_x": null,
      "overflow_y": null,
      "padding": null,
      "right": null,
      "top": null,
      "visibility": null,
      "width": null
     }
    },
    "66fcd5b69cbf492899ecca5946d19894": {
     "model_module": "@jupyter-widgets/controls",
     "model_module_version": "1.5.0",
     "model_name": "FloatProgressModel",
     "state": {
      "_dom_classes": [],
      "_model_module": "@jupyter-widgets/controls",
      "_model_module_version": "1.5.0",
      "_model_name": "FloatProgressModel",
      "_view_count": null,
      "_view_module": "@jupyter-widgets/controls",
      "_view_module_version": "1.5.0",
      "_view_name": "ProgressView",
      "bar_style": "success",
      "description": "",
      "description_tooltip": null,
      "layout": "IPY_MODEL_d4fa3e66e11f4800b7f397e15731bbe9",
      "max": 1648877,
      "min": 0,
      "orientation": "horizontal",
      "style": "IPY_MODEL_d5a1aa967c7547da84464da16922f1ab",
      "value": 1648877
     }
    },
    "680aab0b841847fda69894c6d6d55e6b": {
     "model_module": "@jupyter-widgets/controls",
     "model_module_version": "1.5.0",
     "model_name": "HTMLModel",
     "state": {
      "_dom_classes": [],
      "_model_module": "@jupyter-widgets/controls",
      "_model_module_version": "1.5.0",
      "_model_name": "HTMLModel",
      "_view_count": null,
      "_view_module": "@jupyter-widgets/controls",
      "_view_module_version": "1.5.0",
      "_view_name": "HTMLView",
      "description": "",
      "description_tooltip": null,
      "layout": "IPY_MODEL_bb7e938660b749d08e9604d50b49c3bb",
      "placeholder": "​",
      "style": "IPY_MODEL_d48fbccdd88544559921fe18b8cbd076",
      "value": " 9913344/? [00:00&lt;00:00, 19748938.03it/s]"
     }
    },
    "68392554028a43cd8eb33bdb5efb100e": {
     "model_module": "@jupyter-widgets/base",
     "model_module_version": "1.2.0",
     "model_name": "LayoutModel",
     "state": {
      "_model_module": "@jupyter-widgets/base",
      "_model_module_version": "1.2.0",
      "_model_name": "LayoutModel",
      "_view_count": null,
      "_view_module": "@jupyter-widgets/base",
      "_view_module_version": "1.2.0",
      "_view_name": "LayoutView",
      "align_content": null,
      "align_items": null,
      "align_self": null,
      "border": null,
      "bottom": null,
      "display": null,
      "flex": null,
      "flex_flow": null,
      "grid_area": null,
      "grid_auto_columns": null,
      "grid_auto_flow": null,
      "grid_auto_rows": null,
      "grid_column": null,
      "grid_gap": null,
      "grid_row": null,
      "grid_template_areas": null,
      "grid_template_columns": null,
      "grid_template_rows": null,
      "height": null,
      "justify_content": null,
      "justify_items": null,
      "left": null,
      "margin": null,
      "max_height": null,
      "max_width": null,
      "min_height": null,
      "min_width": null,
      "object_fit": null,
      "object_position": null,
      "order": null,
      "overflow": null,
      "overflow_x": null,
      "overflow_y": null,
      "padding": null,
      "right": null,
      "top": null,
      "visibility": null,
      "width": null
     }
    },
    "6c2686e028f146b582c3cacb2e3a47cf": {
     "model_module": "@jupyter-widgets/controls",
     "model_module_version": "1.5.0",
     "model_name": "FloatProgressModel",
     "state": {
      "_dom_classes": [],
      "_model_module": "@jupyter-widgets/controls",
      "_model_module_version": "1.5.0",
      "_model_name": "FloatProgressModel",
      "_view_count": null,
      "_view_module": "@jupyter-widgets/controls",
      "_view_module_version": "1.5.0",
      "_view_name": "ProgressView",
      "bar_style": "success",
      "description": "",
      "description_tooltip": null,
      "layout": "IPY_MODEL_f89bceab0fd24848ab9bfc3c336aa777",
      "max": 9912422,
      "min": 0,
      "orientation": "horizontal",
      "style": "IPY_MODEL_aa78975921e54f9ca6ca638ee902138c",
      "value": 9912422
     }
    },
    "7412686cd48c455088b7f5d224e8bbea": {
     "model_module": "@jupyter-widgets/controls",
     "model_module_version": "1.5.0",
     "model_name": "HBoxModel",
     "state": {
      "_dom_classes": [],
      "_model_module": "@jupyter-widgets/controls",
      "_model_module_version": "1.5.0",
      "_model_name": "HBoxModel",
      "_view_count": null,
      "_view_module": "@jupyter-widgets/controls",
      "_view_module_version": "1.5.0",
      "_view_name": "HBoxView",
      "box_style": "",
      "children": [
       "IPY_MODEL_9397b93d960543b6bba811efad7faf63",
       "IPY_MODEL_4260db2d979144ecb5f0d550947bd4f6",
       "IPY_MODEL_46d7dc2dcbb642ba8789920d3fbcb1ac"
      ],
      "layout": "IPY_MODEL_18dd4317579b496aac0fff39e4d898c0"
     }
    },
    "81467ee34604487a971d6dd19c00f385": {
     "model_module": "@jupyter-widgets/controls",
     "model_module_version": "1.5.0",
     "model_name": "FloatProgressModel",
     "state": {
      "_dom_classes": [],
      "_model_module": "@jupyter-widgets/controls",
      "_model_module_version": "1.5.0",
      "_model_name": "FloatProgressModel",
      "_view_count": null,
      "_view_module": "@jupyter-widgets/controls",
      "_view_module_version": "1.5.0",
      "_view_name": "ProgressView",
      "bar_style": "success",
      "description": "",
      "description_tooltip": null,
      "layout": "IPY_MODEL_63f13c2890274c5eb8bd13ef32c83286",
      "max": 28881,
      "min": 0,
      "orientation": "horizontal",
      "style": "IPY_MODEL_cd693c66ad654455bfa927b8f2af3b1b",
      "value": 28881
     }
    },
    "8b63aa74d4dd4e0d91d3ed5f092ff8a5": {
     "model_module": "@jupyter-widgets/controls",
     "model_module_version": "1.5.0",
     "model_name": "HTMLModel",
     "state": {
      "_dom_classes": [],
      "_model_module": "@jupyter-widgets/controls",
      "_model_module_version": "1.5.0",
      "_model_name": "HTMLModel",
      "_view_count": null,
      "_view_module": "@jupyter-widgets/controls",
      "_view_module_version": "1.5.0",
      "_view_name": "HTMLView",
      "description": "",
      "description_tooltip": null,
      "layout": "IPY_MODEL_6291ed7b56c54a58894b339ddf14c0a0",
      "placeholder": "​",
      "style": "IPY_MODEL_e6b291b89057480cbfe54e527609f8e2",
      "value": ""
     }
    },
    "8e8ad864fb244d349dd68c4509ee0af0": {
     "model_module": "@jupyter-widgets/controls",
     "model_module_version": "1.5.0",
     "model_name": "HBoxModel",
     "state": {
      "_dom_classes": [],
      "_model_module": "@jupyter-widgets/controls",
      "_model_module_version": "1.5.0",
      "_model_name": "HBoxModel",
      "_view_count": null,
      "_view_module": "@jupyter-widgets/controls",
      "_view_module_version": "1.5.0",
      "_view_name": "HBoxView",
      "box_style": "",
      "children": [
       "IPY_MODEL_46913fb0b8844e41bba26b2e3c5aea43",
       "IPY_MODEL_6c2686e028f146b582c3cacb2e3a47cf",
       "IPY_MODEL_680aab0b841847fda69894c6d6d55e6b"
      ],
      "layout": "IPY_MODEL_104120a053234446ba226ad343ba8ca8"
     }
    },
    "9397b93d960543b6bba811efad7faf63": {
     "model_module": "@jupyter-widgets/controls",
     "model_module_version": "1.5.0",
     "model_name": "HTMLModel",
     "state": {
      "_dom_classes": [],
      "_model_module": "@jupyter-widgets/controls",
      "_model_module_version": "1.5.0",
      "_model_name": "HTMLModel",
      "_view_count": null,
      "_view_module": "@jupyter-widgets/controls",
      "_view_module_version": "1.5.0",
      "_view_name": "HTMLView",
      "description": "",
      "description_tooltip": null,
      "layout": "IPY_MODEL_34ae63a889284d22bc82066ba65c92b5",
      "placeholder": "​",
      "style": "IPY_MODEL_39ddb09363ea42a38e054ac3477aadd6",
      "value": ""
     }
    },
    "9c8a32b1a3d94dcc94d216d4d5a09191": {
     "model_module": "@jupyter-widgets/controls",
     "model_module_version": "1.5.0",
     "model_name": "DescriptionStyleModel",
     "state": {
      "_model_module": "@jupyter-widgets/controls",
      "_model_module_version": "1.5.0",
      "_model_name": "DescriptionStyleModel",
      "_view_count": null,
      "_view_module": "@jupyter-widgets/base",
      "_view_module_version": "1.2.0",
      "_view_name": "StyleView",
      "description_width": ""
     }
    },
    "a1c9a0b0e2b6438e8fb8c888543bd159": {
     "model_module": "@jupyter-widgets/controls",
     "model_module_version": "1.5.0",
     "model_name": "ProgressStyleModel",
     "state": {
      "_model_module": "@jupyter-widgets/controls",
      "_model_module_version": "1.5.0",
      "_model_name": "ProgressStyleModel",
      "_view_count": null,
      "_view_module": "@jupyter-widgets/base",
      "_view_module_version": "1.2.0",
      "_view_name": "StyleView",
      "bar_color": null,
      "description_width": ""
     }
    },
    "aa78975921e54f9ca6ca638ee902138c": {
     "model_module": "@jupyter-widgets/controls",
     "model_module_version": "1.5.0",
     "model_name": "ProgressStyleModel",
     "state": {
      "_model_module": "@jupyter-widgets/controls",
      "_model_module_version": "1.5.0",
      "_model_name": "ProgressStyleModel",
      "_view_count": null,
      "_view_module": "@jupyter-widgets/base",
      "_view_module_version": "1.2.0",
      "_view_name": "StyleView",
      "bar_color": null,
      "description_width": ""
     }
    },
    "aaaf64bfc28149a4b1a1aeff1cb1fef0": {
     "model_module": "@jupyter-widgets/base",
     "model_module_version": "1.2.0",
     "model_name": "LayoutModel",
     "state": {
      "_model_module": "@jupyter-widgets/base",
      "_model_module_version": "1.2.0",
      "_model_name": "LayoutModel",
      "_view_count": null,
      "_view_module": "@jupyter-widgets/base",
      "_view_module_version": "1.2.0",
      "_view_name": "LayoutView",
      "align_content": null,
      "align_items": null,
      "align_self": null,
      "border": null,
      "bottom": null,
      "display": null,
      "flex": null,
      "flex_flow": null,
      "grid_area": null,
      "grid_auto_columns": null,
      "grid_auto_flow": null,
      "grid_auto_rows": null,
      "grid_column": null,
      "grid_gap": null,
      "grid_row": null,
      "grid_template_areas": null,
      "grid_template_columns": null,
      "grid_template_rows": null,
      "height": null,
      "justify_content": null,
      "justify_items": null,
      "left": null,
      "margin": null,
      "max_height": null,
      "max_width": null,
      "min_height": null,
      "min_width": null,
      "object_fit": null,
      "object_position": null,
      "order": null,
      "overflow": null,
      "overflow_x": null,
      "overflow_y": null,
      "padding": null,
      "right": null,
      "top": null,
      "visibility": null,
      "width": null
     }
    },
    "af467e07257648a1b9aa8f3a40f24f09": {
     "model_module": "@jupyter-widgets/base",
     "model_module_version": "1.2.0",
     "model_name": "LayoutModel",
     "state": {
      "_model_module": "@jupyter-widgets/base",
      "_model_module_version": "1.2.0",
      "_model_name": "LayoutModel",
      "_view_count": null,
      "_view_module": "@jupyter-widgets/base",
      "_view_module_version": "1.2.0",
      "_view_name": "LayoutView",
      "align_content": null,
      "align_items": null,
      "align_self": null,
      "border": null,
      "bottom": null,
      "display": null,
      "flex": null,
      "flex_flow": null,
      "grid_area": null,
      "grid_auto_columns": null,
      "grid_auto_flow": null,
      "grid_auto_rows": null,
      "grid_column": null,
      "grid_gap": null,
      "grid_row": null,
      "grid_template_areas": null,
      "grid_template_columns": null,
      "grid_template_rows": null,
      "height": null,
      "justify_content": null,
      "justify_items": null,
      "left": null,
      "margin": null,
      "max_height": null,
      "max_width": null,
      "min_height": null,
      "min_width": null,
      "object_fit": null,
      "object_position": null,
      "order": null,
      "overflow": null,
      "overflow_x": null,
      "overflow_y": null,
      "padding": null,
      "right": null,
      "top": null,
      "visibility": null,
      "width": null
     }
    },
    "b2e4090e20694116aa9cc1b939bc04b2": {
     "model_module": "@jupyter-widgets/base",
     "model_module_version": "1.2.0",
     "model_name": "LayoutModel",
     "state": {
      "_model_module": "@jupyter-widgets/base",
      "_model_module_version": "1.2.0",
      "_model_name": "LayoutModel",
      "_view_count": null,
      "_view_module": "@jupyter-widgets/base",
      "_view_module_version": "1.2.0",
      "_view_name": "LayoutView",
      "align_content": null,
      "align_items": null,
      "align_self": null,
      "border": null,
      "bottom": null,
      "display": null,
      "flex": null,
      "flex_flow": null,
      "grid_area": null,
      "grid_auto_columns": null,
      "grid_auto_flow": null,
      "grid_auto_rows": null,
      "grid_column": null,
      "grid_gap": null,
      "grid_row": null,
      "grid_template_areas": null,
      "grid_template_columns": null,
      "grid_template_rows": null,
      "height": null,
      "justify_content": null,
      "justify_items": null,
      "left": null,
      "margin": null,
      "max_height": null,
      "max_width": null,
      "min_height": null,
      "min_width": null,
      "object_fit": null,
      "object_position": null,
      "order": null,
      "overflow": null,
      "overflow_x": null,
      "overflow_y": null,
      "padding": null,
      "right": null,
      "top": null,
      "visibility": null,
      "width": null
     }
    },
    "bb7e938660b749d08e9604d50b49c3bb": {
     "model_module": "@jupyter-widgets/base",
     "model_module_version": "1.2.0",
     "model_name": "LayoutModel",
     "state": {
      "_model_module": "@jupyter-widgets/base",
      "_model_module_version": "1.2.0",
      "_model_name": "LayoutModel",
      "_view_count": null,
      "_view_module": "@jupyter-widgets/base",
      "_view_module_version": "1.2.0",
      "_view_name": "LayoutView",
      "align_content": null,
      "align_items": null,
      "align_self": null,
      "border": null,
      "bottom": null,
      "display": null,
      "flex": null,
      "flex_flow": null,
      "grid_area": null,
      "grid_auto_columns": null,
      "grid_auto_flow": null,
      "grid_auto_rows": null,
      "grid_column": null,
      "grid_gap": null,
      "grid_row": null,
      "grid_template_areas": null,
      "grid_template_columns": null,
      "grid_template_rows": null,
      "height": null,
      "justify_content": null,
      "justify_items": null,
      "left": null,
      "margin": null,
      "max_height": null,
      "max_width": null,
      "min_height": null,
      "min_width": null,
      "object_fit": null,
      "object_position": null,
      "order": null,
      "overflow": null,
      "overflow_x": null,
      "overflow_y": null,
      "padding": null,
      "right": null,
      "top": null,
      "visibility": null,
      "width": null
     }
    },
    "c3a87a70e9544e8284ecf615a5106367": {
     "model_module": "@jupyter-widgets/controls",
     "model_module_version": "1.5.0",
     "model_name": "HTMLModel",
     "state": {
      "_dom_classes": [],
      "_model_module": "@jupyter-widgets/controls",
      "_model_module_version": "1.5.0",
      "_model_name": "HTMLModel",
      "_view_count": null,
      "_view_module": "@jupyter-widgets/controls",
      "_view_module_version": "1.5.0",
      "_view_name": "HTMLView",
      "description": "",
      "description_tooltip": null,
      "layout": "IPY_MODEL_b2e4090e20694116aa9cc1b939bc04b2",
      "placeholder": "​",
      "style": "IPY_MODEL_fe403532a633499e9cc493d0ccd33592",
      "value": ""
     }
    },
    "cd693c66ad654455bfa927b8f2af3b1b": {
     "model_module": "@jupyter-widgets/controls",
     "model_module_version": "1.5.0",
     "model_name": "ProgressStyleModel",
     "state": {
      "_model_module": "@jupyter-widgets/controls",
      "_model_module_version": "1.5.0",
      "_model_name": "ProgressStyleModel",
      "_view_count": null,
      "_view_module": "@jupyter-widgets/base",
      "_view_module_version": "1.2.0",
      "_view_name": "StyleView",
      "bar_color": null,
      "description_width": ""
     }
    },
    "d36b4e7c37544bbc9e54421034bfa7d9": {
     "model_module": "@jupyter-widgets/controls",
     "model_module_version": "1.5.0",
     "model_name": "HTMLModel",
     "state": {
      "_dom_classes": [],
      "_model_module": "@jupyter-widgets/controls",
      "_model_module_version": "1.5.0",
      "_model_name": "HTMLModel",
      "_view_count": null,
      "_view_module": "@jupyter-widgets/controls",
      "_view_module_version": "1.5.0",
      "_view_name": "HTMLView",
      "description": "",
      "description_tooltip": null,
      "layout": "IPY_MODEL_aaaf64bfc28149a4b1a1aeff1cb1fef0",
      "placeholder": "​",
      "style": "IPY_MODEL_608c1f9f265c46979239873d4730b287",
      "value": " 29696/? [00:00&lt;00:00, 487645.99it/s]"
     }
    },
    "d48fbccdd88544559921fe18b8cbd076": {
     "model_module": "@jupyter-widgets/controls",
     "model_module_version": "1.5.0",
     "model_name": "DescriptionStyleModel",
     "state": {
      "_model_module": "@jupyter-widgets/controls",
      "_model_module_version": "1.5.0",
      "_model_name": "DescriptionStyleModel",
      "_view_count": null,
      "_view_module": "@jupyter-widgets/base",
      "_view_module_version": "1.2.0",
      "_view_name": "StyleView",
      "description_width": ""
     }
    },
    "d4fa3e66e11f4800b7f397e15731bbe9": {
     "model_module": "@jupyter-widgets/base",
     "model_module_version": "1.2.0",
     "model_name": "LayoutModel",
     "state": {
      "_model_module": "@jupyter-widgets/base",
      "_model_module_version": "1.2.0",
      "_model_name": "LayoutModel",
      "_view_count": null,
      "_view_module": "@jupyter-widgets/base",
      "_view_module_version": "1.2.0",
      "_view_name": "LayoutView",
      "align_content": null,
      "align_items": null,
      "align_self": null,
      "border": null,
      "bottom": null,
      "display": null,
      "flex": null,
      "flex_flow": null,
      "grid_area": null,
      "grid_auto_columns": null,
      "grid_auto_flow": null,
      "grid_auto_rows": null,
      "grid_column": null,
      "grid_gap": null,
      "grid_row": null,
      "grid_template_areas": null,
      "grid_template_columns": null,
      "grid_template_rows": null,
      "height": null,
      "justify_content": null,
      "justify_items": null,
      "left": null,
      "margin": null,
      "max_height": null,
      "max_width": null,
      "min_height": null,
      "min_width": null,
      "object_fit": null,
      "object_position": null,
      "order": null,
      "overflow": null,
      "overflow_x": null,
      "overflow_y": null,
      "padding": null,
      "right": null,
      "top": null,
      "visibility": null,
      "width": null
     }
    },
    "d5a1aa967c7547da84464da16922f1ab": {
     "model_module": "@jupyter-widgets/controls",
     "model_module_version": "1.5.0",
     "model_name": "ProgressStyleModel",
     "state": {
      "_model_module": "@jupyter-widgets/controls",
      "_model_module_version": "1.5.0",
      "_model_name": "ProgressStyleModel",
      "_view_count": null,
      "_view_module": "@jupyter-widgets/base",
      "_view_module_version": "1.2.0",
      "_view_name": "StyleView",
      "bar_color": null,
      "description_width": ""
     }
    },
    "ddadfce0d7794b4bbe2319e68db885bb": {
     "model_module": "@jupyter-widgets/base",
     "model_module_version": "1.2.0",
     "model_name": "LayoutModel",
     "state": {
      "_model_module": "@jupyter-widgets/base",
      "_model_module_version": "1.2.0",
      "_model_name": "LayoutModel",
      "_view_count": null,
      "_view_module": "@jupyter-widgets/base",
      "_view_module_version": "1.2.0",
      "_view_name": "LayoutView",
      "align_content": null,
      "align_items": null,
      "align_self": null,
      "border": null,
      "bottom": null,
      "display": null,
      "flex": null,
      "flex_flow": null,
      "grid_area": null,
      "grid_auto_columns": null,
      "grid_auto_flow": null,
      "grid_auto_rows": null,
      "grid_column": null,
      "grid_gap": null,
      "grid_row": null,
      "grid_template_areas": null,
      "grid_template_columns": null,
      "grid_template_rows": null,
      "height": null,
      "justify_content": null,
      "justify_items": null,
      "left": null,
      "margin": null,
      "max_height": null,
      "max_width": null,
      "min_height": null,
      "min_width": null,
      "object_fit": null,
      "object_position": null,
      "order": null,
      "overflow": null,
      "overflow_x": null,
      "overflow_y": null,
      "padding": null,
      "right": null,
      "top": null,
      "visibility": null,
      "width": null
     }
    },
    "e6b291b89057480cbfe54e527609f8e2": {
     "model_module": "@jupyter-widgets/controls",
     "model_module_version": "1.5.0",
     "model_name": "DescriptionStyleModel",
     "state": {
      "_model_module": "@jupyter-widgets/controls",
      "_model_module_version": "1.5.0",
      "_model_name": "DescriptionStyleModel",
      "_view_count": null,
      "_view_module": "@jupyter-widgets/base",
      "_view_module_version": "1.2.0",
      "_view_name": "StyleView",
      "description_width": ""
     }
    },
    "e6cdec577ea0445fbaf1b7f29014a47d": {
     "model_module": "@jupyter-widgets/controls",
     "model_module_version": "1.5.0",
     "model_name": "HBoxModel",
     "state": {
      "_dom_classes": [],
      "_model_module": "@jupyter-widgets/controls",
      "_model_module_version": "1.5.0",
      "_model_name": "HBoxModel",
      "_view_count": null,
      "_view_module": "@jupyter-widgets/controls",
      "_view_module_version": "1.5.0",
      "_view_name": "HBoxView",
      "box_style": "",
      "children": [
       "IPY_MODEL_c3a87a70e9544e8284ecf615a5106367",
       "IPY_MODEL_81467ee34604487a971d6dd19c00f385",
       "IPY_MODEL_d36b4e7c37544bbc9e54421034bfa7d9"
      ],
      "layout": "IPY_MODEL_af467e07257648a1b9aa8f3a40f24f09"
     }
    },
    "ebad692949d342e4a0edca32b9e13c81": {
     "model_module": "@jupyter-widgets/controls",
     "model_module_version": "1.5.0",
     "model_name": "HBoxModel",
     "state": {
      "_dom_classes": [],
      "_model_module": "@jupyter-widgets/controls",
      "_model_module_version": "1.5.0",
      "_model_name": "HBoxModel",
      "_view_count": null,
      "_view_module": "@jupyter-widgets/controls",
      "_view_module_version": "1.5.0",
      "_view_name": "HBoxView",
      "box_style": "",
      "children": [
       "IPY_MODEL_8b63aa74d4dd4e0d91d3ed5f092ff8a5",
       "IPY_MODEL_66fcd5b69cbf492899ecca5946d19894",
       "IPY_MODEL_3c941eba040a4fcf9f969ecbbc186180"
      ],
      "layout": "IPY_MODEL_07c5461b32ab44ca90ce7b803c9ea5fc"
     }
    },
    "ed79a7d373924d8d8bd723f5f3bf371e": {
     "model_module": "@jupyter-widgets/controls",
     "model_module_version": "1.5.0",
     "model_name": "DescriptionStyleModel",
     "state": {
      "_model_module": "@jupyter-widgets/controls",
      "_model_module_version": "1.5.0",
      "_model_name": "DescriptionStyleModel",
      "_view_count": null,
      "_view_module": "@jupyter-widgets/base",
      "_view_module_version": "1.2.0",
      "_view_name": "StyleView",
      "description_width": ""
     }
    },
    "f89bceab0fd24848ab9bfc3c336aa777": {
     "model_module": "@jupyter-widgets/base",
     "model_module_version": "1.2.0",
     "model_name": "LayoutModel",
     "state": {
      "_model_module": "@jupyter-widgets/base",
      "_model_module_version": "1.2.0",
      "_model_name": "LayoutModel",
      "_view_count": null,
      "_view_module": "@jupyter-widgets/base",
      "_view_module_version": "1.2.0",
      "_view_name": "LayoutView",
      "align_content": null,
      "align_items": null,
      "align_self": null,
      "border": null,
      "bottom": null,
      "display": null,
      "flex": null,
      "flex_flow": null,
      "grid_area": null,
      "grid_auto_columns": null,
      "grid_auto_flow": null,
      "grid_auto_rows": null,
      "grid_column": null,
      "grid_gap": null,
      "grid_row": null,
      "grid_template_areas": null,
      "grid_template_columns": null,
      "grid_template_rows": null,
      "height": null,
      "justify_content": null,
      "justify_items": null,
      "left": null,
      "margin": null,
      "max_height": null,
      "max_width": null,
      "min_height": null,
      "min_width": null,
      "object_fit": null,
      "object_position": null,
      "order": null,
      "overflow": null,
      "overflow_x": null,
      "overflow_y": null,
      "padding": null,
      "right": null,
      "top": null,
      "visibility": null,
      "width": null
     }
    },
    "fe362fab63144e7d91341dde5a172713": {
     "model_module": "@jupyter-widgets/base",
     "model_module_version": "1.2.0",
     "model_name": "LayoutModel",
     "state": {
      "_model_module": "@jupyter-widgets/base",
      "_model_module_version": "1.2.0",
      "_model_name": "LayoutModel",
      "_view_count": null,
      "_view_module": "@jupyter-widgets/base",
      "_view_module_version": "1.2.0",
      "_view_name": "LayoutView",
      "align_content": null,
      "align_items": null,
      "align_self": null,
      "border": null,
      "bottom": null,
      "display": null,
      "flex": null,
      "flex_flow": null,
      "grid_area": null,
      "grid_auto_columns": null,
      "grid_auto_flow": null,
      "grid_auto_rows": null,
      "grid_column": null,
      "grid_gap": null,
      "grid_row": null,
      "grid_template_areas": null,
      "grid_template_columns": null,
      "grid_template_rows": null,
      "height": null,
      "justify_content": null,
      "justify_items": null,
      "left": null,
      "margin": null,
      "max_height": null,
      "max_width": null,
      "min_height": null,
      "min_width": null,
      "object_fit": null,
      "object_position": null,
      "order": null,
      "overflow": null,
      "overflow_x": null,
      "overflow_y": null,
      "padding": null,
      "right": null,
      "top": null,
      "visibility": null,
      "width": null
     }
    },
    "fe403532a633499e9cc493d0ccd33592": {
     "model_module": "@jupyter-widgets/controls",
     "model_module_version": "1.5.0",
     "model_name": "DescriptionStyleModel",
     "state": {
      "_model_module": "@jupyter-widgets/controls",
      "_model_module_version": "1.5.0",
      "_model_name": "DescriptionStyleModel",
      "_view_count": null,
      "_view_module": "@jupyter-widgets/base",
      "_view_module_version": "1.2.0",
      "_view_name": "StyleView",
      "description_width": ""
     }
    }
   }
  }
 },
 "nbformat": 4,
 "nbformat_minor": 0
}
