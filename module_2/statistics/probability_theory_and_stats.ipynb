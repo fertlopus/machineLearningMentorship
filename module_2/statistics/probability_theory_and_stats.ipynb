{
 "cells": [
  {
   "cell_type": "code",
   "execution_count": 185,
   "metadata": {
    "collapsed": true,
    "ExecuteTime": {
     "end_time": "2023-05-29T16:29:58.991348Z",
     "start_time": "2023-05-29T16:29:58.859411Z"
    }
   },
   "outputs": [],
   "source": [
    "import numpy as np\n",
    "import scipy.stats as st # sp # scipy.stats -> st\n",
    "import matplotlib.pyplot as plt\n",
    "import seaborn as sns"
   ]
  },
  {
   "cell_type": "markdown",
   "source": [
    "### Теория Вероятностей и Математическая Статистика"
   ],
   "metadata": {
    "collapsed": false
   }
  },
  {
   "cell_type": "markdown",
   "source": [
    "#### События и пространство событий"
   ],
   "metadata": {
    "collapsed": false
   }
  },
  {
   "cell_type": "markdown",
   "source": [
    "Предположим, у нас есть честная монета, которая с одинаковой вероятностью выпадет орлом (O) или решкой (P)."
   ],
   "metadata": {
    "collapsed": false
   }
  },
  {
   "cell_type": "markdown",
   "source": [
    "В подобных случаях, когда два исхода равновероятны, мы можем использовать теорию вероятностей, чтобы выразить вероятность конкретного **события**, сравнивая его с **пространством событий** (набором всех возможных исходов; обозначим как $\\Omega$):"
   ],
   "metadata": {
    "collapsed": false
   }
  },
  {
   "cell_type": "markdown",
   "source": [
    "$$ P(\\text{event}) = \\frac{\\text{# событий}}{\\text{# все события в заданном пространстве }\\Omega} $$"
   ],
   "metadata": {
    "collapsed": false
   }
  },
  {
   "cell_type": "markdown",
   "source": [
    "**Упражнения**:\n",
    "\n",
    "1. Какова вероятность того, что два раза подряд выпадет туз пик? (Предположим, что любая карта, вытянутая при первом взятии, будет возвращена в колоду перед вторым взятием.)\n",
    "\n",
    "$$ P(ace of spades) x P(ace of spades) = (\\frac{1}{52})^2 = \\frac{1}{2704} = 0.00037 = 0.037%$$"
   ],
   "metadata": {
    "collapsed": false
   }
  },
  {
   "cell_type": "markdown",
   "source": [
    "2. Вы берете карту из колоды карт из 52 штук. Какова вероятность того, что вытянутую карту, при условии что ее вернули обратно в колоду и тщательно перетасовали колоду, вытянут повторно?\n",
    "$$ P(\\text{any card}) = \\frac{52}{52} = 1 $$\n",
    "$$ P(\\text{same card as first draw}) = \\frac{1}{52} \\approx 0.019 $$\n",
    "$$ P(\\text{any card})P(\\text{same card as first draw}) = (1)(\\frac{1}{52}) = \\frac{1}{52} \\approx 0.019$$"
   ],
   "metadata": {
    "collapsed": false
   }
  },
  {
   "cell_type": "markdown",
   "source": [
    "3. Используйте $n \\choose k$, чтобы вычислить вероятность выпадения трех решек при пяти подбрасываниях монеты.\n"
   ],
   "metadata": {
    "collapsed": false
   }
  },
  {
   "cell_type": "markdown",
   "source": [
    "3. $$ {n \\choose k} = {5 \\choose 3} = \\frac{5!}{3!(5 - 3)!} = \\frac{5!}{(3!)(2!)} = \\frac{5 \\times 4 \\times 3 \\times 2 \\times 1}{(3 \\times 2 \\times 1)(2 \\times 1)} = \\frac{120}{(6)(2)} = \\frac{120}{12} = 10 $$"
   ],
   "metadata": {
    "collapsed": false
   }
  },
  {
   "cell_type": "markdown",
   "source": [
    "$$P = \\frac{10}{2^n} = \\frac{10}{2^5} = \\frac{10}{32} = 0.3125 $$"
   ],
   "metadata": {
    "collapsed": false
   }
  },
  {
   "cell_type": "markdown",
   "source": [
    "4. Создайте функцию Python, которая решает упражнение 3 и включает формулу $n \\choose k$ $\\frac{n!}{k!(n - k)!}$. Имея этот метод, подсчитайте вероятность выпадения орла (ноль, один, два, три, четыре и пять) за пять бросков."
   ],
   "metadata": {
    "collapsed": false
   }
  },
  {
   "cell_type": "code",
   "execution_count": 186,
   "outputs": [],
   "source": [
    "from math import factorial\n",
    "\n",
    "def coinflip_prob(n, k):\n",
    "    n_choose_k = factorial(n)/(factorial(k)*factorial(n-k))\n",
    "    return n_choose_k/2**n"
   ],
   "metadata": {
    "collapsed": false,
    "ExecuteTime": {
     "end_time": "2023-05-29T16:30:05.777622Z",
     "start_time": "2023-05-29T16:30:05.707430Z"
    }
   }
  },
  {
   "cell_type": "code",
   "execution_count": 187,
   "outputs": [
    {
     "data": {
      "text/plain": "0.3125"
     },
     "execution_count": 187,
     "metadata": {},
     "output_type": "execute_result"
    }
   ],
   "source": [
    "coinflip_prob(5, 3)"
   ],
   "metadata": {
    "collapsed": false,
    "ExecuteTime": {
     "end_time": "2023-05-29T16:30:06.306340Z",
     "start_time": "2023-05-29T16:30:06.232456Z"
    }
   }
  },
  {
   "cell_type": "code",
   "execution_count": 188,
   "outputs": [
    {
     "data": {
      "text/plain": "[0.03125, 0.15625, 0.3125, 0.3125, 0.15625, 0.03125]"
     },
     "execution_count": 188,
     "metadata": {},
     "output_type": "execute_result"
    }
   ],
   "source": [
    "[coinflip_prob(5, h) for h in range(6)]"
   ],
   "metadata": {
    "collapsed": false,
    "ExecuteTime": {
     "end_time": "2023-05-29T16:30:07.149701Z",
     "start_time": "2023-05-29T16:30:07.020290Z"
    }
   }
  },
  {
   "cell_type": "markdown",
   "source": [
    "#### Закон Больших Чисел (ЗБЧ)"
   ],
   "metadata": {
    "collapsed": false
   }
  },
  {
   "cell_type": "markdown",
   "source": [
    "Хотя монета априори должна выпадать решкой в 50% случаев, при небольших размерах выборки, существует вероятность того, что в таком эксперименте мы могли бы подбрасывать решку при всех подбрасываниях. Например, мы подсчитали, что вероятность того, что мы выпадем решкой при каждом броске, составляет 3,1 % в небольшом эксперименте с пятью бросками.\n",
    "\n",
    "\n",
    "**Закон больших чисел** гласит, что чем больше экспериментов мы проводим, тем ближе мы приближаемся к ожидаемой вероятности.\n",
    "\n",
    "\n",
    "Чтобы проверить данный закон, создадим вектор экспоненциально возрастающего числа подбрасываний монеты за эксперимент:"
   ],
   "metadata": {
    "collapsed": false
   }
  },
  {
   "cell_type": "code",
   "execution_count": 189,
   "outputs": [],
   "source": [
    "ns = np.array([2, 4, 8, 16, 32, 64, 128, 256, 512, 1024, 2048, 4096, 8192, 16384, 32768, 65536, 131072, 262144, 524288])\n",
    "np.random.seed(42) # for reproducibility"
   ],
   "metadata": {
    "collapsed": false,
    "ExecuteTime": {
     "end_time": "2023-05-29T16:47:08.282131Z",
     "start_time": "2023-05-29T16:47:08.274061Z"
    }
   }
  },
  {
   "cell_type": "markdown",
   "source": [
    "Метод `binomial()` - достаточно представить два аргумента как *количество подбрасываний монеты в эксперименте* и *вероятность выпадения орла (решки)*, он возвращает количество подбрасываний орла в эксперименте."
   ],
   "metadata": {
    "collapsed": false
   }
  },
  {
   "cell_type": "code",
   "execution_count": 190,
   "outputs": [
    {
     "data": {
      "text/plain": "0"
     },
     "execution_count": 190,
     "metadata": {},
     "output_type": "execute_result"
    }
   ],
   "source": [
    "np.random.binomial(1, 0.5)"
   ],
   "metadata": {
    "collapsed": false,
    "ExecuteTime": {
     "end_time": "2023-05-29T16:47:58.446270Z",
     "start_time": "2023-05-29T16:47:58.372775Z"
    }
   }
  },
  {
   "cell_type": "code",
   "execution_count": 191,
   "outputs": [
    {
     "data": {
      "text/plain": "[2,\n 3,\n 4,\n 6,\n 13,\n 27,\n 54,\n 136,\n 258,\n 509,\n 1038,\n 2094,\n 4098,\n 8167,\n 16335,\n 32974,\n 65787,\n 130589,\n 261316]"
     },
     "execution_count": 191,
     "metadata": {},
     "output_type": "execute_result"
    }
   ],
   "source": [
    "heads_count = [np.random.binomial(n, 0.5) for n in ns]\n",
    "heads_count"
   ],
   "metadata": {
    "collapsed": false,
    "ExecuteTime": {
     "end_time": "2023-05-29T16:48:29.714677Z",
     "start_time": "2023-05-29T16:48:29.705710Z"
    }
   }
  },
  {
   "cell_type": "code",
   "execution_count": 192,
   "outputs": [
    {
     "name": "stdout",
     "output_type": "stream",
     "text": [
      "[1.         0.75       0.5        0.375      0.40625    0.421875\n",
      " 0.421875   0.53125    0.50390625 0.49707031 0.50683594 0.51123047\n",
      " 0.50024414 0.49847412 0.49850464 0.50314331 0.50191498 0.4981575\n",
      " 0.49842072]\n"
     ]
    }
   ],
   "source": [
    "proportion_heads = heads_count/ns\n",
    "print(proportion_heads)"
   ],
   "metadata": {
    "collapsed": false,
    "ExecuteTime": {
     "end_time": "2023-05-29T16:48:57.895095Z",
     "start_time": "2023-05-29T16:48:57.884960Z"
    }
   }
  },
  {
   "cell_type": "code",
   "execution_count": 193,
   "outputs": [
    {
     "data": {
      "text/plain": "<Figure size 640x480 with 1 Axes>",
      "image/png": "[encoded data removed]"
     },
     "metadata": {},
     "output_type": "display_data"
    }
   ],
   "source": [
    "fig, ax = plt.subplots()\n",
    "plt.xlabel('Number of coin flips in experiment')\n",
    "plt.ylabel('Proportion of flips that are heads')\n",
    "plt.axhline(0.5, color='orange')\n",
    "_ = ax.scatter(ns, proportion_heads)"
   ],
   "metadata": {
    "collapsed": false,
    "ExecuteTime": {
     "end_time": "2023-05-29T16:49:02.440843Z",
     "start_time": "2023-05-29T16:49:02.196733Z"
    }
   }
  },
  {
   "cell_type": "markdown",
   "source": [
    "На данном этапе важно разобраться с **заблуждением игрока** (ошибкой выжившего, погрешностью). Распространенным заблуждением является то, что закон больших чисел гласит, что если, скажем, пять раз подряд выпал орел, то вероятность выпадения решки выше при шестом подбрасывании. На самом деле теория вероятности утверждает, что каждый бросок монеты полностью независим от всех остальных. Таким образом, при каждом подбрасывании правильной монеты вероятность выпадения орла составляет 50 %, независимо от того, что произошло при предыдущих подбрасываниях."
   ],
   "metadata": {
    "collapsed": false
   }
  },
  {
   "cell_type": "markdown",
   "source": [
    "### Математическая Статистика и Теория вероятностей\n",
    "Область статистики применяет теорию вероятностей, чтобы делать выводы с измеримой степенью достоверности. Например, предположим, что мы провели эксперимент с подбрасыванием пяти монет 1000 раз с честной монетой:"
   ],
   "metadata": {
    "collapsed": false
   }
  },
  {
   "cell_type": "code",
   "execution_count": 221,
   "outputs": [],
   "source": [
    "n_experiments = 1000\n",
    "heads_count = np.random.binomial(5, 0.5, n_experiments)"
   ],
   "metadata": {
    "collapsed": false,
    "ExecuteTime": {
     "end_time": "2023-05-29T17:05:15.503726Z",
     "start_time": "2023-05-29T17:05:15.352539Z"
    }
   }
  },
  {
   "cell_type": "markdown",
   "source": [
    "Мы можем визуализировать результаты нашего эксперимента, чтобы создать **распределение вероятностей**:"
   ],
   "metadata": {
    "collapsed": false
   }
  },
  {
   "cell_type": "code",
   "execution_count": 222,
   "outputs": [],
   "source": [
    "heads, event_count = np.unique(heads_count, return_counts=True)"
   ],
   "metadata": {
    "collapsed": false,
    "ExecuteTime": {
     "end_time": "2023-05-29T17:05:16.109166Z",
     "start_time": "2023-05-29T17:05:16.009949Z"
    }
   }
  },
  {
   "cell_type": "code",
   "execution_count": 223,
   "outputs": [
    {
     "name": "stdout",
     "output_type": "stream",
     "text": [
      "[0 1 2 3 4 5]\n"
     ]
    }
   ],
   "source": [
    "print(heads)"
   ],
   "metadata": {
    "collapsed": false,
    "ExecuteTime": {
     "end_time": "2023-05-29T17:05:16.309294Z",
     "start_time": "2023-05-29T17:05:16.237989Z"
    }
   }
  },
  {
   "cell_type": "code",
   "execution_count": 224,
   "outputs": [
    {
     "name": "stdout",
     "output_type": "stream",
     "text": [
      "[ 36 152 314 316 145  37]\n"
     ]
    }
   ],
   "source": [
    "print(event_count)"
   ],
   "metadata": {
    "collapsed": false,
    "ExecuteTime": {
     "end_time": "2023-05-29T17:05:16.518162Z",
     "start_time": "2023-05-29T17:05:16.412614Z"
    }
   }
  },
  {
   "cell_type": "code",
   "execution_count": 225,
   "outputs": [
    {
     "name": "stdout",
     "output_type": "stream",
     "text": [
      "[0.036 0.152 0.314 0.316 0.145 0.037]\n"
     ]
    }
   ],
   "source": [
    "event_proba = event_count/n_experiments\n",
    "print(event_proba)"
   ],
   "metadata": {
    "collapsed": false,
    "ExecuteTime": {
     "end_time": "2023-05-29T17:05:16.721504Z",
     "start_time": "2023-05-29T17:05:16.650630Z"
    }
   }
  },
  {
   "cell_type": "code",
   "execution_count": 226,
   "outputs": [
    {
     "data": {
      "text/plain": "<Figure size 640x480 with 1 Axes>",
      "image/png": "[encoded data removed]"
     },
     "metadata": {},
     "output_type": "display_data"
    }
   ],
   "source": [
    "plt.bar(heads, event_proba, color='mediumpurple')\n",
    "plt.xlabel('Heads flips (out of 5 tosses)')\n",
    "_ = plt.ylabel('Event probability')"
   ],
   "metadata": {
    "collapsed": false,
    "ExecuteTime": {
     "end_time": "2023-05-29T17:05:17.229211Z",
     "start_time": "2023-05-29T17:05:16.984527Z"
    }
   }
  },
  {
   "cell_type": "markdown",
   "source": [
    "### Expected Value (мат ожидание)\n"
   ],
   "metadata": {
    "collapsed": false
   }
  },
  {
   "cell_type": "code",
   "execution_count": 227,
   "outputs": [
    {
     "data": {
      "text/plain": "[0.03125, 0.15625, 0.3125, 0.3125, 0.15625, 0.03125]"
     },
     "execution_count": 227,
     "metadata": {},
     "output_type": "execute_result"
    }
   ],
   "source": [
    "P = [coinflip_prob(5, x) for x in range(6)]\n",
    "P"
   ],
   "metadata": {
    "collapsed": false,
    "ExecuteTime": {
     "end_time": "2023-05-29T17:05:17.854865Z",
     "start_time": "2023-05-29T17:05:17.724922Z"
    }
   }
  },
  {
   "cell_type": "markdown",
   "source": [
    "$$ \\mathbb{E} = \\sum_x xP(x) $$"
   ],
   "metadata": {
    "collapsed": false
   }
  },
  {
   "cell_type": "code",
   "execution_count": 228,
   "outputs": [
    {
     "data": {
      "text/plain": "2.5"
     },
     "execution_count": 228,
     "metadata": {},
     "output_type": "execute_result"
    }
   ],
   "source": [
    "E = sum([P[x]*x for x in range(6)])\n",
    "E"
   ],
   "metadata": {
    "collapsed": false,
    "ExecuteTime": {
     "end_time": "2023-05-29T17:05:18.824871Z",
     "start_time": "2023-05-29T17:05:18.695484Z"
    }
   }
  },
  {
   "cell_type": "markdown",
   "source": [
    "#### Меры Центральной Тендеции"
   ],
   "metadata": {
    "collapsed": false
   }
  },
  {
   "cell_type": "markdown",
   "source": [
    "#### Среднее значение (Mean)\n",
    "\n",
    "Наиболее популярная метрика центральной тенденции, обозначается как $\\mu$ (генеральная совокупность) or $\\bar{x}$ (выборка):\n",
    "\n",
    "$$ \\bar{x} = \\frac{\\sum_{i=1}^n x_i}{n} $$\n"
   ],
   "metadata": {
    "collapsed": false
   }
  },
  {
   "cell_type": "code",
   "execution_count": 229,
   "outputs": [
    {
     "data": {
      "text/plain": "1000"
     },
     "execution_count": 229,
     "metadata": {},
     "output_type": "execute_result"
    }
   ],
   "source": [
    "len(heads_count)"
   ],
   "metadata": {
    "collapsed": false,
    "ExecuteTime": {
     "end_time": "2023-05-29T17:05:20.907424Z",
     "start_time": "2023-05-29T17:05:20.836718Z"
    }
   }
  },
  {
   "cell_type": "code",
   "execution_count": 230,
   "outputs": [
    {
     "name": "stdout",
     "output_type": "stream",
     "text": [
      "[3 3 2 2 2 4 3 2 1 2 0 1 2 2 2 2 4 0 2 3]\n"
     ]
    }
   ],
   "source": [
    "print(heads_count[0:20])"
   ],
   "metadata": {
    "collapsed": false,
    "ExecuteTime": {
     "end_time": "2023-05-29T17:05:21.431213Z",
     "start_time": "2023-05-29T17:05:21.362139Z"
    }
   }
  },
  {
   "cell_type": "code",
   "execution_count": 231,
   "outputs": [
    {
     "data": {
      "text/plain": "2.493"
     },
     "execution_count": 231,
     "metadata": {},
     "output_type": "execute_result"
    }
   ],
   "source": [
    "sum(heads_count)/len(heads_count)"
   ],
   "metadata": {
    "collapsed": false,
    "ExecuteTime": {
     "end_time": "2023-05-29T17:05:21.904565Z",
     "start_time": "2023-05-29T17:05:21.613773Z"
    }
   }
  },
  {
   "cell_type": "markdown",
   "source": [
    "Реализация в NumPy"
   ],
   "metadata": {
    "collapsed": false
   }
  },
  {
   "cell_type": "code",
   "execution_count": 232,
   "outputs": [
    {
     "data": {
      "text/plain": "2.493"
     },
     "execution_count": 232,
     "metadata": {},
     "output_type": "execute_result"
    }
   ],
   "source": [
    "np.mean(heads_count)"
   ],
   "metadata": {
    "collapsed": false,
    "ExecuteTime": {
     "end_time": "2023-05-29T17:05:22.166730Z",
     "start_time": "2023-05-29T17:05:22.009253Z"
    }
   }
  },
  {
   "cell_type": "code",
   "execution_count": 233,
   "outputs": [
    {
     "data": {
      "text/plain": "2.493"
     },
     "execution_count": 233,
     "metadata": {},
     "output_type": "execute_result"
    }
   ],
   "source": [
    "heads_count.mean()"
   ],
   "metadata": {
    "collapsed": false,
    "ExecuteTime": {
     "end_time": "2023-05-29T17:05:22.544734Z",
     "start_time": "2023-05-29T17:05:22.347487Z"
    }
   }
  },
  {
   "cell_type": "markdown",
   "source": [
    "Разновидностью среднего является среднее усеченное, которое вычисляется путем отбрасывания фиксированного числа сортированных значений с каждого конца последовательности и затем взятия среднего арифметического оставшихся значений.\n",
    "Среднее усеченное устраняет влияние предельных значений. Например такое используется в международных соревнованиях по прыжкам в воду и гимнастике, верхние и нижние баллы двух из пяти судей отбрасываются и итоговым баллом считается среднеарифметический балл трех оставшихся судей."
   ],
   "metadata": {
    "collapsed": false
   }
  },
  {
   "cell_type": "code",
   "execution_count": 234,
   "outputs": [],
   "source": [
    "def trimmed_mean(array, percent):\n",
    "    n = len(sorted(array))\n",
    "    k = int(round(n*(float(percent)/100)/2))\n",
    "    return np.mean(array[k+1:k-1])"
   ],
   "metadata": {
    "collapsed": false,
    "ExecuteTime": {
     "end_time": "2023-05-29T17:05:25.664296Z",
     "start_time": "2023-05-29T17:05:25.580913Z"
    }
   }
  },
  {
   "cell_type": "code",
   "execution_count": 235,
   "outputs": [
    {
     "name": "stdout",
     "output_type": "stream",
     "text": [
      "Mean:  265.14\n"
     ]
    }
   ],
   "source": [
    "random_numbers = np.random.randint(low=12, high=500, size=(450,), dtype=np.int16)\n",
    "print(\"Mean: \", round(np.mean(random_numbers), 2))"
   ],
   "metadata": {
    "collapsed": false,
    "ExecuteTime": {
     "end_time": "2023-05-29T17:05:25.928020Z",
     "start_time": "2023-05-29T17:05:25.845408Z"
    }
   }
  },
  {
   "cell_type": "code",
   "execution_count": 236,
   "outputs": [
    {
     "name": "stdout",
     "output_type": "stream",
     "text": [
      "Trimmed mean: 265.0\n"
     ]
    }
   ],
   "source": [
    "print(f\"Trimmed mean: {round(trimmed_mean(random_numbers, 0.10),2)}\")"
   ],
   "metadata": {
    "collapsed": false,
    "ExecuteTime": {
     "end_time": "2023-05-29T17:05:26.379139Z",
     "start_time": "2023-05-29T17:05:26.237724Z"
    }
   }
  },
  {
   "cell_type": "markdown",
   "source": [
    "#### Медиана (Median)\n",
    "\n",
    "Второй наиболее распространенной мерой центральной тенденции является **медиана**, серединное значение в распределении.\n",
    "\n",
    "\n",
    "Медиана - число, расположенное в отсортированном списке данных ровно посередине. Если число данных четное, срединным значением является то, которое не находится в наборе данных фактически, а является средним арифметическим двух значений, которые делят отсортированные данные на верхнюю и нижние границы. По сравнению со средним, которое зависит от всех значений в последовательности данных, медиана зависит только от значений в центре отсортированных данных. Медиана называется робастной оценкой центрального положения, поскольку она не находится под влиянием выбросов, которые могут исказить результаты.\n",
    "\n",
    "\n",
    "Выброс - это любое значение которое сильно удалено от других значений в наборе данных."
   ],
   "metadata": {
    "collapsed": false
   }
  },
  {
   "cell_type": "code",
   "execution_count": 237,
   "outputs": [],
   "source": [
    "heads_count.sort()"
   ],
   "metadata": {
    "collapsed": false,
    "ExecuteTime": {
     "end_time": "2023-05-29T17:05:29.336369Z",
     "start_time": "2023-05-29T17:05:29.265397Z"
    }
   }
  },
  {
   "cell_type": "code",
   "execution_count": 238,
   "outputs": [
    {
     "name": "stdout",
     "output_type": "stream",
     "text": [
      "[0 0 0 0 0 0 0 0 0 0 0 0 0 0 0 0 0 0 0 0]\n"
     ]
    }
   ],
   "source": [
    "print(heads_count[0:20])"
   ],
   "metadata": {
    "collapsed": false,
    "ExecuteTime": {
     "end_time": "2023-05-29T17:05:29.842483Z",
     "start_time": "2023-05-29T17:05:29.764922Z"
    }
   }
  },
  {
   "cell_type": "code",
   "execution_count": 239,
   "outputs": [
    {
     "name": "stdout",
     "output_type": "stream",
     "text": [
      "[5 5 5 5 5 5 5 5 5 5 5 5 5 5 5 5 5 5 5 5]\n"
     ]
    }
   ],
   "source": [
    "print(heads_count[-20:])"
   ],
   "metadata": {
    "collapsed": false,
    "ExecuteTime": {
     "end_time": "2023-05-29T17:05:30.183291Z",
     "start_time": "2023-05-29T17:05:30.110561Z"
    }
   }
  },
  {
   "cell_type": "code",
   "execution_count": 240,
   "outputs": [
    {
     "data": {
      "text/plain": "1000"
     },
     "execution_count": 240,
     "metadata": {},
     "output_type": "execute_result"
    }
   ],
   "source": [
    "len(heads_count)"
   ],
   "metadata": {
    "collapsed": false,
    "ExecuteTime": {
     "end_time": "2023-05-29T17:05:31.512630Z",
     "start_time": "2023-05-29T17:05:31.416009Z"
    }
   }
  },
  {
   "cell_type": "code",
   "execution_count": 241,
   "outputs": [
    {
     "data": {
      "text/plain": "2"
     },
     "execution_count": 241,
     "metadata": {},
     "output_type": "execute_result"
    }
   ],
   "source": [
    "heads_count[499]"
   ],
   "metadata": {
    "collapsed": false,
    "ExecuteTime": {
     "end_time": "2023-05-29T17:05:31.870109Z",
     "start_time": "2023-05-29T17:05:31.794104Z"
    }
   }
  },
  {
   "cell_type": "code",
   "execution_count": 242,
   "outputs": [
    {
     "data": {
      "text/plain": "2"
     },
     "execution_count": 242,
     "metadata": {},
     "output_type": "execute_result"
    }
   ],
   "source": [
    "heads_count[500]"
   ],
   "metadata": {
    "collapsed": false,
    "ExecuteTime": {
     "end_time": "2023-05-29T17:05:33.575537Z",
     "start_time": "2023-05-29T17:05:33.501394Z"
    }
   }
  },
  {
   "cell_type": "code",
   "execution_count": 243,
   "outputs": [
    {
     "data": {
      "text/plain": "3.0"
     },
     "execution_count": 243,
     "metadata": {},
     "output_type": "execute_result"
    }
   ],
   "source": [
    "(3+3)/2"
   ],
   "metadata": {
    "collapsed": false,
    "ExecuteTime": {
     "end_time": "2023-05-29T17:05:35.462056Z",
     "start_time": "2023-05-29T17:05:35.392369Z"
    }
   }
  },
  {
   "cell_type": "code",
   "execution_count": 244,
   "outputs": [
    {
     "data": {
      "text/plain": "2.0"
     },
     "execution_count": 244,
     "metadata": {},
     "output_type": "execute_result"
    }
   ],
   "source": [
    "np.median(heads_count)"
   ],
   "metadata": {
    "collapsed": false,
    "ExecuteTime": {
     "end_time": "2023-05-29T17:05:44.542064Z",
     "start_time": "2023-05-29T17:05:44.374817Z"
    }
   }
  },
  {
   "cell_type": "markdown",
   "source": [
    "Вопсользуемся датасетом:"
   ],
   "metadata": {
    "collapsed": false
   }
  },
  {
   "cell_type": "code",
   "execution_count": 245,
   "outputs": [
    {
     "data": {
      "text/plain": "                                   0              1            2           3   \nreport_year                     1975           1975         1975        1975  \\\nagency_code                  NM00101        TX22001      GAAPD00     CO00101   \nagency_jurisdiction  Albuquerque, NM  Arlington, TX  Atlanta, GA  Aurora, CO   \npopulation                  286238.0       112478.0     490584.0    116656.0   \nviolent_crimes                2383.0          278.0       8033.0       611.0   \nhomicides                       30.0            5.0        185.0         7.0   \nrapes                          181.0           28.0        443.0        44.0   \nassaults                      1353.0          132.0       3518.0       389.0   \nrobberies                      819.0          113.0       3887.0       171.0   \nmonths_reported                 12.0           12.0         12.0        12.0   \ncrimes_percapita              832.52         247.16      1637.44      523.76   \nhomicides_percapita            10.48           4.45        37.71         6.0   \nrapes_percapita                63.23          24.89         90.3       37.72   \nassaults_percapita            472.68         117.36        717.1      333.46   \nrobberies_percapita           286.13         100.46       792.32      146.58   \n\n                              4  \nreport_year                1975  \nagency_code             TX22701  \nagency_jurisdiction  Austin, TX  \npopulation             300400.0  \nviolent_crimes           1215.0  \nhomicides                  33.0  \nrapes                     190.0  \nassaults                  463.0  \nrobberies                 529.0  \nmonths_reported            12.0  \ncrimes_percapita         404.46  \nhomicides_percapita       10.99  \nrapes_percapita           63.25  \nassaults_percapita       154.13  \nrobberies_percapita       176.1  ",
      "text/html": "<div>\n<style scoped>\n    .dataframe tbody tr th:only-of-type {\n        vertical-align: middle;\n    }\n\n    .dataframe tbody tr th {\n        vertical-align: top;\n    }\n\n    .dataframe thead th {\n        text-align: right;\n    }\n</style>\n<table border=\"1\" class=\"dataframe\">\n  <thead>\n    <tr style=\"text-align: right;\">\n      <th></th>\n      <th>0</th>\n      <th>1</th>\n      <th>2</th>\n      <th>3</th>\n      <th>4</th>\n    </tr>\n  </thead>\n  <tbody>\n    <tr>\n      <th>report_year</th>\n      <td>1975</td>\n      <td>1975</td>\n      <td>1975</td>\n      <td>1975</td>\n      <td>1975</td>\n    </tr>\n    <tr>\n      <th>agency_code</th>\n      <td>NM00101</td>\n      <td>TX22001</td>\n      <td>GAAPD00</td>\n      <td>CO00101</td>\n      <td>TX22701</td>\n    </tr>\n    <tr>\n      <th>agency_jurisdiction</th>\n      <td>Albuquerque, NM</td>\n      <td>Arlington, TX</td>\n      <td>Atlanta, GA</td>\n      <td>Aurora, CO</td>\n      <td>Austin, TX</td>\n    </tr>\n    <tr>\n      <th>population</th>\n      <td>286238.0</td>\n      <td>112478.0</td>\n      <td>490584.0</td>\n      <td>116656.0</td>\n      <td>300400.0</td>\n    </tr>\n    <tr>\n      <th>violent_crimes</th>\n      <td>2383.0</td>\n      <td>278.0</td>\n      <td>8033.0</td>\n      <td>611.0</td>\n      <td>1215.0</td>\n    </tr>\n    <tr>\n      <th>homicides</th>\n      <td>30.0</td>\n      <td>5.0</td>\n      <td>185.0</td>\n      <td>7.0</td>\n      <td>33.0</td>\n    </tr>\n    <tr>\n      <th>rapes</th>\n      <td>181.0</td>\n      <td>28.0</td>\n      <td>443.0</td>\n      <td>44.0</td>\n      <td>190.0</td>\n    </tr>\n    <tr>\n      <th>assaults</th>\n      <td>1353.0</td>\n      <td>132.0</td>\n      <td>3518.0</td>\n      <td>389.0</td>\n      <td>463.0</td>\n    </tr>\n    <tr>\n      <th>robberies</th>\n      <td>819.0</td>\n      <td>113.0</td>\n      <td>3887.0</td>\n      <td>171.0</td>\n      <td>529.0</td>\n    </tr>\n    <tr>\n      <th>months_reported</th>\n      <td>12.0</td>\n      <td>12.0</td>\n      <td>12.0</td>\n      <td>12.0</td>\n      <td>12.0</td>\n    </tr>\n    <tr>\n      <th>crimes_percapita</th>\n      <td>832.52</td>\n      <td>247.16</td>\n      <td>1637.44</td>\n      <td>523.76</td>\n      <td>404.46</td>\n    </tr>\n    <tr>\n      <th>homicides_percapita</th>\n      <td>10.48</td>\n      <td>4.45</td>\n      <td>37.71</td>\n      <td>6.0</td>\n      <td>10.99</td>\n    </tr>\n    <tr>\n      <th>rapes_percapita</th>\n      <td>63.23</td>\n      <td>24.89</td>\n      <td>90.3</td>\n      <td>37.72</td>\n      <td>63.25</td>\n    </tr>\n    <tr>\n      <th>assaults_percapita</th>\n      <td>472.68</td>\n      <td>117.36</td>\n      <td>717.1</td>\n      <td>333.46</td>\n      <td>154.13</td>\n    </tr>\n    <tr>\n      <th>robberies_percapita</th>\n      <td>286.13</td>\n      <td>100.46</td>\n      <td>792.32</td>\n      <td>146.58</td>\n      <td>176.1</td>\n    </tr>\n  </tbody>\n</table>\n</div>"
     },
     "execution_count": 245,
     "metadata": {},
     "output_type": "execute_result"
    }
   ],
   "source": [
    "import pandas as pd\n",
    "\n",
    "crime_reports = pd.read_csv('./datasets/crime_report_1975_2015_us.csv')\n",
    "crime_reports.head().T"
   ],
   "metadata": {
    "collapsed": false,
    "ExecuteTime": {
     "end_time": "2023-05-29T17:07:25.366652Z",
     "start_time": "2023-05-29T17:07:25.299736Z"
    }
   }
  },
  {
   "cell_type": "code",
   "execution_count": 246,
   "outputs": [
    {
     "data": {
      "text/plain": "report_year\n1985    69\n1986    69\n1987    69\n1988    69\n1989    69\n1990    69\n1991    69\n1992    69\n1993    69\n2015    69\nName: count, dtype: int64"
     },
     "execution_count": 246,
     "metadata": {},
     "output_type": "execute_result"
    }
   ],
   "source": [
    "crime_reports.report_year.value_counts()[-10:]"
   ],
   "metadata": {
    "collapsed": false,
    "ExecuteTime": {
     "end_time": "2023-05-29T17:11:31.451187Z",
     "start_time": "2023-05-29T17:11:31.443506Z"
    }
   }
  },
  {
   "cell_type": "code",
   "execution_count": 247,
   "outputs": [
    {
     "name": "stdout",
     "output_type": "stream",
     "text": [
      "Average roberies during dataset history:  4000.25\n",
      "Median  roberies during dataset history:  1940.0\n"
     ]
    }
   ],
   "source": [
    "print(\"Average roberies during dataset history: \", round(crime_reports.robberies.mean(), 2))\n",
    "print(\"Median  roberies during dataset history: \", round(crime_reports.robberies.median(), 2))"
   ],
   "metadata": {
    "collapsed": false,
    "ExecuteTime": {
     "end_time": "2023-05-29T17:12:16.008092Z",
     "start_time": "2023-05-29T17:12:15.999218Z"
    }
   }
  },
  {
   "cell_type": "code",
   "execution_count": 248,
   "outputs": [
    {
     "name": "stdout",
     "output_type": "stream",
     "text": [
      "Average roberies during dataset history:  398.39\n",
      "Median  roberies during dataset history:  64.0\n"
     ]
    }
   ],
   "source": [
    "print(\"Average roberies during dataset history: \", round(crime_reports.homicides.mean(), 2))\n",
    "print(\"Median  roberies during dataset history: \", round(crime_reports.homicides.median(), 2))"
   ],
   "metadata": {
    "collapsed": false,
    "ExecuteTime": {
     "end_time": "2023-05-29T17:14:37.943027Z",
     "start_time": "2023-05-29T17:14:37.807973Z"
    }
   }
  },
  {
   "cell_type": "markdown",
   "source": [
    "#### Мода (Mode)\n",
    "**Мода** — это последняя общая мера центральной тенденции. Это просто значение в распределении, которое встречается чаще всего.\n",
    "\n",
    "SciPy `stats` module:"
   ],
   "metadata": {
    "collapsed": false
   }
  },
  {
   "cell_type": "code",
   "execution_count": 249,
   "outputs": [
    {
     "data": {
      "text/plain": "ModeResult(mode=array([3]), count=array([316]))"
     },
     "execution_count": 249,
     "metadata": {},
     "output_type": "execute_result"
    }
   ],
   "source": [
    "st.mode(heads_count, keepdims=True)"
   ],
   "metadata": {
    "collapsed": false,
    "ExecuteTime": {
     "end_time": "2023-05-29T17:15:38.357584Z",
     "start_time": "2023-05-29T17:15:38.348957Z"
    }
   }
  },
  {
   "cell_type": "code",
   "execution_count": 250,
   "outputs": [
    {
     "data": {
      "text/plain": "3"
     },
     "execution_count": 250,
     "metadata": {},
     "output_type": "execute_result"
    }
   ],
   "source": [
    "st.mode(heads_count, keepdims=True)[0][0]"
   ],
   "metadata": {
    "collapsed": false,
    "ExecuteTime": {
     "end_time": "2023-05-29T17:15:52.878798Z",
     "start_time": "2023-05-29T17:15:52.869325Z"
    }
   }
  },
  {
   "cell_type": "markdown",
   "source": [
    "При небольших размерах выборки среднее обычно обеспечивает наиболее точную меру центральной тенденции.\n",
    "\n",
    "При больших размерах выборки среднее значение, медиана и мода будут иметь тенденцию совпадать, если распределение не перекошено:"
   ],
   "metadata": {
    "collapsed": false
   }
  },
  {
   "cell_type": "code",
   "execution_count": 251,
   "outputs": [],
   "source": [
    "x = st.skewnorm.rvs(0, size=1000) # first argument is \"skewness\"; 0 has no skew"
   ],
   "metadata": {
    "collapsed": false,
    "ExecuteTime": {
     "end_time": "2023-05-29T17:18:39.824314Z",
     "start_time": "2023-05-29T17:18:39.811232Z"
    }
   }
  },
  {
   "cell_type": "code",
   "execution_count": 252,
   "outputs": [
    {
     "data": {
      "text/plain": "<Figure size 640x480 with 1 Axes>",
      "image/png": "[encoded data removed]"
     },
     "metadata": {},
     "output_type": "display_data"
    }
   ],
   "source": [
    "fig, ax = plt.subplots()\n",
    "plt.axvline(x = np.mean(x), color='orange')\n",
    "plt.axvline(x = np.median(x), color='green')\n",
    "_ = plt.hist(x, color = 'lightgray')"
   ],
   "metadata": {
    "collapsed": false,
    "ExecuteTime": {
     "end_time": "2023-05-29T17:18:41.731876Z",
     "start_time": "2023-05-29T17:18:41.512942Z"
    }
   }
  },
  {
   "cell_type": "markdown",
   "source": [
    "Асимметричные распределения, напротив, уводят среднее значение от центра к хвосту:"
   ],
   "metadata": {
    "collapsed": false
   }
  },
  {
   "cell_type": "code",
   "execution_count": 253,
   "outputs": [],
   "source": [
    "x = st.skewnorm.rvs(10, size=1000)"
   ],
   "metadata": {
    "collapsed": false,
    "ExecuteTime": {
     "end_time": "2023-05-29T17:19:03.303624Z",
     "start_time": "2023-05-29T17:19:03.293195Z"
    }
   }
  },
  {
   "cell_type": "code",
   "execution_count": 255,
   "outputs": [
    {
     "data": {
      "text/plain": "<Figure size 640x480 with 1 Axes>",
      "image/png": "[encoded data removed]"
     },
     "metadata": {},
     "output_type": "display_data"
    }
   ],
   "source": [
    "fig, ax = plt.subplots()\n",
    "plt.axvline(x = np.mean(x), color='orange')\n",
    "plt.axvline(x = np.median(x), color='green')\n",
    "_ = plt.hist(x, color = 'lightgray')"
   ],
   "metadata": {
    "collapsed": false,
    "ExecuteTime": {
     "end_time": "2023-05-29T17:19:24.626444Z",
     "start_time": "2023-05-29T17:19:24.361129Z"
    }
   }
  },
  {
   "cell_type": "markdown",
   "source": [
    "Для непрерывных распределений с асимметрией (например, данные о заработной плате) медиана обычно является предпочтительной мерой центральной тенденции:"
   ],
   "metadata": {
    "collapsed": false
   }
  },
  {
   "cell_type": "code",
   "execution_count": 256,
   "outputs": [
    {
     "data": {
      "text/plain": "<Figure size 640x480 with 1 Axes>",
      "image/png": "[encoded data removed]"
     },
     "metadata": {},
     "output_type": "display_data"
    }
   ],
   "source": [
    "fig, ax = plt.subplots()\n",
    "plt.axvline(x = np.mean(x), color='orange')\n",
    "plt.axvline(x = np.median(x), color='green')\n",
    "_ = plt.hist(x, color = 'lightgray')"
   ],
   "metadata": {
    "collapsed": false,
    "ExecuteTime": {
     "end_time": "2023-05-29T17:20:12.125355Z",
     "start_time": "2023-05-29T17:20:11.896390Z"
    }
   }
  },
  {
   "cell_type": "markdown",
   "source": [
    "### Квантили (Quantiles)\n",
    "\n",
    "Медиана, которая делит распределение пополам в его средней точке, является наиболее известным примером квантиля:"
   ],
   "metadata": {
    "collapsed": false
   }
  },
  {
   "cell_type": "code",
   "execution_count": 257,
   "outputs": [
    {
     "data": {
      "text/plain": "0.6796694441095383"
     },
     "execution_count": 257,
     "metadata": {},
     "output_type": "execute_result"
    }
   ],
   "source": [
    "np.median(x)"
   ],
   "metadata": {
    "collapsed": false,
    "ExecuteTime": {
     "end_time": "2023-05-29T17:21:41.304942Z",
     "start_time": "2023-05-29T17:21:41.278841Z"
    }
   }
  },
  {
   "cell_type": "code",
   "execution_count": 261,
   "outputs": [
    {
     "data": {
      "text/plain": "1.9323976542775014"
     },
     "execution_count": 261,
     "metadata": {},
     "output_type": "execute_result"
    }
   ],
   "source": [
    "np.quantile(x, 0.95)"
   ],
   "metadata": {
    "collapsed": false,
    "ExecuteTime": {
     "end_time": "2023-05-29T17:25:55.293563Z",
     "start_time": "2023-05-29T17:25:55.205521Z"
    }
   }
  },
  {
   "cell_type": "code",
   "execution_count": 262,
   "outputs": [
    {
     "data": {
      "text/plain": "-0.08241616988259173"
     },
     "execution_count": 262,
     "metadata": {},
     "output_type": "execute_result"
    }
   ],
   "source": [
    "np.percentile(x, 0.95)"
   ],
   "metadata": {
    "collapsed": false,
    "ExecuteTime": {
     "end_time": "2023-05-29T17:25:56.166988Z",
     "start_time": "2023-05-29T17:25:56.088422Z"
    }
   }
  },
  {
   "cell_type": "code",
   "execution_count": null,
   "outputs": [],
   "source": [],
   "metadata": {
    "collapsed": false
   }
  },
  {
   "cell_type": "markdown",
   "source": [
    "В целом, квантили просто делят распределения, наиболее распространенными являются:\n",
    "\n",
    "* процентили,\n",
    "* Квартили и\n",
    "* Децили.\n",
    "\n",
    "**Процентили** делят распределение в любой точке измерения из ста (\"pour cent\" по-французски означает \"из ста\"). Иными словами это значение, которое заданная случайная величина не превышает с фиксированной вероятностью, заданной в процентах.\n",
    "\n",
    "Например, если мы хотим определить пороговое значение для верхних 5% распределения, мы урежем его на уровне 95-го процентиля. Или, для верхнего 1%, мы сократили бы на 99-м процентиле."
   ],
   "metadata": {
    "collapsed": false
   }
  },
  {
   "cell_type": "code",
   "execution_count": 263,
   "outputs": [
    {
     "data": {
      "text/plain": "array([1.93239765, 2.63338746])"
     },
     "execution_count": 263,
     "metadata": {},
     "output_type": "execute_result"
    }
   ],
   "source": [
    "p = np.percentile(x, [95, 99])\n",
    "p"
   ],
   "metadata": {
    "collapsed": false,
    "ExecuteTime": {
     "end_time": "2023-05-29T17:41:34.897820Z",
     "start_time": "2023-05-29T17:41:34.822735Z"
    }
   }
  },
  {
   "cell_type": "code",
   "execution_count": 264,
   "outputs": [
    {
     "data": {
      "text/plain": "<Figure size 640x480 with 1 Axes>",
      "image/png": "[encoded data removed]"
     },
     "metadata": {},
     "output_type": "display_data"
    }
   ],
   "source": [
    "fig, ax = plt.subplots()\n",
    "plt.axvline(x = p[0], color='orange')\n",
    "plt.axvline(x = p[1], color='red')\n",
    "_ = plt.hist(x, color = 'lightgray')"
   ],
   "metadata": {
    "collapsed": false,
    "ExecuteTime": {
     "end_time": "2023-05-29T17:41:35.451296Z",
     "start_time": "2023-05-29T17:41:35.176796Z"
    }
   }
  },
  {
   "cell_type": "markdown",
   "source": [
    "**Квартили**, как следует из их названия, представляют собой квантили, которые делят распределение на четверти, разделяя распределение на 25-й процентиль, медиану (также известную как 50-й процентиль) и 75-й процентиль:"
   ],
   "metadata": {
    "collapsed": false
   }
  },
  {
   "cell_type": "code",
   "execution_count": 265,
   "outputs": [
    {
     "data": {
      "text/plain": "array([0.32312638, 0.67966944, 1.14765058])"
     },
     "execution_count": 265,
     "metadata": {},
     "output_type": "execute_result"
    }
   ],
   "source": [
    "q = np.percentile(x, [25, 50, 75])\n",
    "q"
   ],
   "metadata": {
    "collapsed": false,
    "ExecuteTime": {
     "end_time": "2023-05-29T17:42:54.713910Z",
     "start_time": "2023-05-29T17:42:54.703938Z"
    }
   }
  },
  {
   "cell_type": "code",
   "execution_count": 266,
   "outputs": [
    {
     "data": {
      "text/plain": "<Figure size 640x480 with 1 Axes>",
      "image/png": "[encoded data removed]"
     },
     "metadata": {},
     "output_type": "display_data"
    }
   ],
   "source": [
    "fig, ax = plt.subplots()\n",
    "plt.axvline(x = q[0], color='cornflowerblue')\n",
    "plt.axvline(x = q[1], color='green')\n",
    "plt.axvline(x = q[2], color='cornflowerblue')\n",
    "_ = plt.hist(x, color = 'lightgray')"
   ],
   "metadata": {
    "collapsed": false,
    "ExecuteTime": {
     "end_time": "2023-05-29T17:42:57.148448Z",
     "start_time": "2023-05-29T17:42:56.914065Z"
    }
   }
  },
  {
   "cell_type": "markdown",
   "source": [
    "### The Box-and-Whisker Plot"
   ],
   "metadata": {
    "collapsed": false
   }
  },
  {
   "cell_type": "code",
   "execution_count": 267,
   "outputs": [],
   "source": [
    "sns.set(style='whitegrid')"
   ],
   "metadata": {
    "collapsed": false,
    "ExecuteTime": {
     "end_time": "2023-05-29T17:43:24.225023Z",
     "start_time": "2023-05-29T17:43:24.213686Z"
    }
   }
  },
  {
   "cell_type": "code",
   "execution_count": 268,
   "outputs": [
    {
     "data": {
      "text/plain": "<Figure size 640x480 with 1 Axes>",
      "image/png": "[encoded data removed]"
     },
     "metadata": {},
     "output_type": "display_data"
    }
   ],
   "source": [
    "_ = sns.boxplot(x=x)"
   ],
   "metadata": {
    "collapsed": false,
    "ExecuteTime": {
     "end_time": "2023-05-29T17:43:37.271576Z",
     "start_time": "2023-05-29T17:43:36.977536Z"
    }
   }
  },
  {
   "cell_type": "markdown",
   "source": [
    "Края прямоугольника и медиана определяются квартилями:"
   ],
   "metadata": {
    "collapsed": false
   }
  },
  {
   "cell_type": "code",
   "execution_count": 269,
   "outputs": [
    {
     "data": {
      "text/plain": "array([0.32312638, 0.67966944, 1.14765058])"
     },
     "execution_count": 269,
     "metadata": {},
     "output_type": "execute_result"
    }
   ],
   "source": [
    "q"
   ],
   "metadata": {
    "collapsed": false,
    "ExecuteTime": {
     "end_time": "2023-05-29T17:45:10.775330Z",
     "start_time": "2023-05-29T17:45:10.752365Z"
    }
   }
  },
  {
   "cell_type": "markdown",
   "source": [
    "Края прямоугольника определяют **межквартильный диапазон** (IQR):"
   ],
   "metadata": {
    "collapsed": false
   }
  },
  {
   "cell_type": "code",
   "execution_count": 271,
   "outputs": [
    {
     "data": {
      "text/plain": "0.8087499999999999"
     },
     "execution_count": 271,
     "metadata": {},
     "output_type": "execute_result"
    }
   ],
   "source": [
    "r = 1.14 - 0.33125\n",
    "r"
   ],
   "metadata": {
    "collapsed": false,
    "ExecuteTime": {
     "end_time": "2023-05-29T17:46:41.692044Z",
     "start_time": "2023-05-29T17:46:41.562080Z"
    }
   }
  },
  {
   "cell_type": "markdown",
   "source": [
    "Длина усов определяется самыми дальними точками данных в пределах $1,5 \\times \\text{IQR}$ от краев прямоугольника."
   ],
   "metadata": {
    "collapsed": false
   }
  },
  {
   "cell_type": "code",
   "execution_count": 272,
   "outputs": [
    {
     "data": {
      "text/plain": "-0.8818749999999997"
     },
     "execution_count": 272,
     "metadata": {},
     "output_type": "execute_result"
    }
   ],
   "source": [
    "0.33125 - 1.5*r"
   ],
   "metadata": {
    "collapsed": false,
    "ExecuteTime": {
     "end_time": "2023-05-29T17:47:49.622372Z",
     "start_time": "2023-05-29T17:47:49.490526Z"
    }
   }
  },
  {
   "cell_type": "markdown",
   "source": [
    "В распределении есть несколько (одиннадцать) значений за пределами. Эти значения считаются **выбросами** и отображаются в виде отдельных точек:"
   ],
   "metadata": {
    "collapsed": false
   }
  },
  {
   "cell_type": "code",
   "execution_count": 274,
   "outputs": [],
   "source": [
    "x.sort()"
   ],
   "metadata": {
    "collapsed": false,
    "ExecuteTime": {
     "end_time": "2023-05-29T17:48:01.305203Z",
     "start_time": "2023-05-29T17:48:01.293020Z"
    }
   }
  },
  {
   "cell_type": "code",
   "execution_count": 275,
   "outputs": [
    {
     "name": "stdout",
     "output_type": "stream",
     "text": [
      "[2.51401632 2.51486746 2.56141979 2.5761917  2.63302539 2.6692332\n",
      " 2.7431783  2.75807161 2.78568039 2.78955444 2.83341887 2.90125914\n",
      " 2.96653691 2.97529234 3.34698201]\n"
     ]
    }
   ],
   "source": [
    "print(x[-15:])"
   ],
   "metadata": {
    "collapsed": false,
    "ExecuteTime": {
     "end_time": "2023-05-29T17:48:03.066248Z",
     "start_time": "2023-05-29T17:48:03.042033Z"
    }
   }
  },
  {
   "cell_type": "markdown",
   "source": [
    "# Оценки вариабельности (Variability Measures)\n",
    "\n",
    "Мера центрального положения - одна из размерностей в обобщении признака. Вторая размерность - вариабельность (variability). Также можно встретить такой термин как \"дисперсность\". Такие оценки показывают сгруппированны ли значения данных плотно либо разбросаны.\n",
    "\n",
    "Термины:\n",
    "- Отклонения (deviations) - разница между наблюдаемыми значениями и оценкой центрального положения\n",
    "- Дисперсия  (dispersion) - сумма квадратических отклонений от среднего, деленная на n-1 (число значений данных)\n",
    "- Стандартное отклонение (standard deviation) - квадратный корень из дисперсии (l2 norm)\n",
    "- Размах (range) - разница между самым большим и самым малым значением в наборе данных\n",
    "- Порядковые статистики (order statistics) - метрические показатели на основе значений данных отсортированных от самых малых до самых больших\n",
    "- Процентиль (percentile) - такое значение, что Р процентов значений принимает данное значение или меньшее и (100 - Р) процентов значений принимает данное значение или большее\n",
    "- Межквартильный размарх - разница между 75-ым и 25-ым персентилями"
   ],
   "metadata": {
    "collapsed": false
   }
  },
  {
   "cell_type": "markdown",
   "source": [
    "# Среднее абсолютное отклонение (Mean Absolute Deviation):"
   ],
   "metadata": {
    "collapsed": false
   }
  },
  {
   "cell_type": "code",
   "execution_count": 276,
   "outputs": [
    {
     "data": {
      "text/plain": "   report_year  robberies  crimes_percapita  population agency_jurisdiction\n0         1975      819.0            832.52    286238.0     Albuquerque, NM\n1         1975      113.0            247.16    112478.0       Arlington, TX\n2         1975     3887.0           1637.44    490584.0         Atlanta, GA\n3         1975      171.0            523.76    116656.0          Aurora, CO\n4         1975      529.0            404.46    300400.0          Austin, TX",
      "text/html": "<div>\n<style scoped>\n    .dataframe tbody tr th:only-of-type {\n        vertical-align: middle;\n    }\n\n    .dataframe tbody tr th {\n        vertical-align: top;\n    }\n\n    .dataframe thead th {\n        text-align: right;\n    }\n</style>\n<table border=\"1\" class=\"dataframe\">\n  <thead>\n    <tr style=\"text-align: right;\">\n      <th></th>\n      <th>report_year</th>\n      <th>robberies</th>\n      <th>crimes_percapita</th>\n      <th>population</th>\n      <th>agency_jurisdiction</th>\n    </tr>\n  </thead>\n  <tbody>\n    <tr>\n      <th>0</th>\n      <td>1975</td>\n      <td>819.0</td>\n      <td>832.52</td>\n      <td>286238.0</td>\n      <td>Albuquerque, NM</td>\n    </tr>\n    <tr>\n      <th>1</th>\n      <td>1975</td>\n      <td>113.0</td>\n      <td>247.16</td>\n      <td>112478.0</td>\n      <td>Arlington, TX</td>\n    </tr>\n    <tr>\n      <th>2</th>\n      <td>1975</td>\n      <td>3887.0</td>\n      <td>1637.44</td>\n      <td>490584.0</td>\n      <td>Atlanta, GA</td>\n    </tr>\n    <tr>\n      <th>3</th>\n      <td>1975</td>\n      <td>171.0</td>\n      <td>523.76</td>\n      <td>116656.0</td>\n      <td>Aurora, CO</td>\n    </tr>\n    <tr>\n      <th>4</th>\n      <td>1975</td>\n      <td>529.0</td>\n      <td>404.46</td>\n      <td>300400.0</td>\n      <td>Austin, TX</td>\n    </tr>\n  </tbody>\n</table>\n</div>"
     },
     "execution_count": 276,
     "metadata": {},
     "output_type": "execute_result"
    }
   ],
   "source": [
    "crime_reports = crime_reports[['report_year', 'robberies', 'crimes_percapita', 'population', 'agency_jurisdiction']]\n",
    "crime_reports.head()"
   ],
   "metadata": {
    "collapsed": false,
    "ExecuteTime": {
     "end_time": "2023-05-29T18:49:07.445418Z",
     "start_time": "2023-05-29T18:49:07.422345Z"
    }
   }
  },
  {
   "cell_type": "code",
   "execution_count": 277,
   "outputs": [],
   "source": [
    "crime_reports = crime_reports[crime_reports.agency_jurisdiction == 'New York City, NY']"
   ],
   "metadata": {
    "collapsed": false,
    "ExecuteTime": {
     "end_time": "2023-05-29T18:49:09.843257Z",
     "start_time": "2023-05-29T18:49:09.834114Z"
    }
   }
  },
  {
   "cell_type": "code",
   "execution_count": 278,
   "outputs": [
    {
     "name": "stdout",
     "output_type": "stream",
     "text": [
      "Mean robberies in NY: 56737.76\n"
     ]
    }
   ],
   "source": [
    "print(f\"Mean robberies in NY: {round(crime_reports.robberies.mean(),2)}\")"
   ],
   "metadata": {
    "collapsed": false,
    "ExecuteTime": {
     "end_time": "2023-05-29T18:49:12.492661Z",
     "start_time": "2023-05-29T18:49:12.463325Z"
    }
   }
  },
  {
   "cell_type": "code",
   "execution_count": 279,
   "outputs": [
    {
     "data": {
      "text/plain": "count        41.000000\nmean      56737.756098\nstd       31536.094562\nmin       16581.000000\n25%       24373.000000\n50%       59278.000000\n75%       84043.000000\nmax      107475.000000\nName: robberies, dtype: float64"
     },
     "execution_count": 279,
     "metadata": {},
     "output_type": "execute_result"
    }
   ],
   "source": [
    "crime_reports.robberies.describe()"
   ],
   "metadata": {
    "collapsed": false,
    "ExecuteTime": {
     "end_time": "2023-05-29T18:49:13.983776Z",
     "start_time": "2023-05-29T18:49:13.951124Z"
    }
   }
  },
  {
   "cell_type": "markdown",
   "source": [
    "Дисперсия и стандартное отклонение - наиболее широко распространенные и в рутинном порядке регистрируемые статистики вариабельности. Оба показателя чувствительны к выбросам. Более робастные оценки включают в себя среднее абсолютное отклонение, медианное абсолютное отклонение от медианы и процентили (квантили)."
   ],
   "metadata": {
    "collapsed": false
   }
  },
  {
   "cell_type": "markdown",
   "source": [
    "#### Персентили"
   ],
   "metadata": {
    "collapsed": false
   }
  },
  {
   "cell_type": "code",
   "execution_count": 281,
   "outputs": [
    {
     "data": {
      "text/plain": "                    0.00    0.05    0.25     0.50     0.75     0.95\ncrimes_percapita  551.81  585.77  673.05  1557.79  1995.25  2299.86",
      "text/html": "<div>\n<style scoped>\n    .dataframe tbody tr th:only-of-type {\n        vertical-align: middle;\n    }\n\n    .dataframe tbody tr th {\n        vertical-align: top;\n    }\n\n    .dataframe thead th {\n        text-align: right;\n    }\n</style>\n<table border=\"1\" class=\"dataframe\">\n  <thead>\n    <tr style=\"text-align: right;\">\n      <th></th>\n      <th>0.00</th>\n      <th>0.05</th>\n      <th>0.25</th>\n      <th>0.50</th>\n      <th>0.75</th>\n      <th>0.95</th>\n    </tr>\n  </thead>\n  <tbody>\n    <tr>\n      <th>crimes_percapita</th>\n      <td>551.81</td>\n      <td>585.77</td>\n      <td>673.05</td>\n      <td>1557.79</td>\n      <td>1995.25</td>\n      <td>2299.86</td>\n    </tr>\n  </tbody>\n</table>\n</div>"
     },
     "execution_count": 281,
     "metadata": {},
     "output_type": "execute_result"
    }
   ],
   "source": [
    "crime_reports[['crimes_percapita']].quantile([0.0, 0.05, 0.25, 0.5, 0.75, 0.95]).T"
   ],
   "metadata": {
    "collapsed": false,
    "ExecuteTime": {
     "end_time": "2023-05-29T18:49:38.809682Z",
     "start_time": "2023-05-29T18:49:38.783815Z"
    }
   }
  },
  {
   "cell_type": "markdown",
   "source": [
    "IQR является относительно редкой мерой дисперсии значений вокруг центра распределения. Наиболее широко используются:\n",
    "\n",
    "* Дисперсия,\n",
    "* Стандартное отклонение и\n",
    "* Стандартная ошибка.\n"
   ],
   "metadata": {
    "collapsed": false
   }
  },
  {
   "cell_type": "markdown",
   "source": [
    "**Variance(Дисперсия)**\n",
    "\n",
    "($\\sigma^2$)\n",
    "\n",
    "$$ \\sigma^2 = \\frac{\\sum_{i=1}^n (x_i-\\bar{x})^2}{n} $$"
   ],
   "metadata": {
    "collapsed": false
   }
  },
  {
   "cell_type": "code",
   "execution_count": 282,
   "outputs": [
    {
     "data": {
      "text/plain": "0.7959257187636651"
     },
     "execution_count": 282,
     "metadata": {},
     "output_type": "execute_result"
    }
   ],
   "source": [
    "xbar = np.mean(x)\n",
    "xbar"
   ],
   "metadata": {
    "collapsed": false,
    "ExecuteTime": {
     "end_time": "2023-05-29T18:49:45.127068Z",
     "start_time": "2023-05-29T18:49:45.038919Z"
    }
   }
  },
  {
   "cell_type": "code",
   "execution_count": 283,
   "outputs": [],
   "source": [
    "squared_differences = [(x_i - xbar)**2 for x_i in x]"
   ],
   "metadata": {
    "collapsed": false,
    "ExecuteTime": {
     "end_time": "2023-05-29T18:49:45.437957Z",
     "start_time": "2023-05-29T18:49:45.361322Z"
    }
   }
  },
  {
   "cell_type": "code",
   "execution_count": null,
   "outputs": [],
   "source": [
    "sigma_squared = sum(squared_differences)/len(x)\n",
    "sigma_squared"
   ],
   "metadata": {
    "collapsed": false
   }
  },
  {
   "cell_type": "code",
   "execution_count": 284,
   "outputs": [
    {
     "data": {
      "text/plain": "0.37058017704885865"
     },
     "execution_count": 284,
     "metadata": {},
     "output_type": "execute_result"
    }
   ],
   "source": [
    "# NumPy\n",
    "np.var(x)"
   ],
   "metadata": {
    "collapsed": false,
    "ExecuteTime": {
     "end_time": "2023-05-29T18:49:49.609224Z",
     "start_time": "2023-05-29T18:49:49.441719Z"
    }
   }
  },
  {
   "cell_type": "markdown",
   "source": [
    "#### Standard Deviation"
   ],
   "metadata": {
    "collapsed": false
   }
  },
  {
   "cell_type": "markdown",
   "source": [
    "Прямая производная дисперсии — это **стандартное отклонение** (обозначается $\\sigma$), что удобно, поскольку его единицы измерения находятся в том же масштабе, что и значения в распределении:\n",
    "\n",
    "$$ \\sigma = \\sqrt{\\sigma^2} $$"
   ],
   "metadata": {
    "collapsed": false
   }
  },
  {
   "cell_type": "code",
   "execution_count": 285,
   "outputs": [
    {
     "data": {
      "text/plain": "0.6293595210531706"
     },
     "execution_count": 285,
     "metadata": {},
     "output_type": "execute_result"
    }
   ],
   "source": [
    "sigma = sigma_squared**(1/2)\n",
    "sigma"
   ],
   "metadata": {
    "collapsed": false,
    "ExecuteTime": {
     "end_time": "2023-05-29T18:49:57.320355Z",
     "start_time": "2023-05-29T18:49:57.243690Z"
    }
   }
  },
  {
   "cell_type": "code",
   "execution_count": 286,
   "outputs": [
    {
     "data": {
      "text/plain": "0.608752968821392"
     },
     "execution_count": 286,
     "metadata": {},
     "output_type": "execute_result"
    }
   ],
   "source": [
    "np.std(x)"
   ],
   "metadata": {
    "collapsed": false,
    "ExecuteTime": {
     "end_time": "2023-05-29T18:49:57.716093Z",
     "start_time": "2023-05-29T18:49:57.641725Z"
    }
   }
  },
  {
   "cell_type": "code",
   "execution_count": 287,
   "outputs": [
    {
     "data": {
      "text/plain": "<Figure size 640x480 with 1 Axes>",
      "image/png": "[encoded data removed]"
     },
     "metadata": {},
     "output_type": "display_data"
    }
   ],
   "source": [
    "fig, ax = plt.subplots()\n",
    "plt.axvline(x = xbar, color='orange')\n",
    "plt.axvline(x = xbar+sigma, color='olivedrab')\n",
    "plt.axvline(x = xbar-sigma, color='olivedrab')\n",
    "_ = plt.hist(x, color = 'lightgray')"
   ],
   "metadata": {
    "collapsed": false,
    "ExecuteTime": {
     "end_time": "2023-05-29T18:50:01.227233Z",
     "start_time": "2023-05-29T18:50:00.860126Z"
    }
   }
  },
  {
   "cell_type": "markdown",
   "source": [
    "#### Standard Error"
   ],
   "metadata": {
    "collapsed": false
   }
  },
  {
   "cell_type": "markdown",
   "source": [
    "Еще одним производным стандартного отклонения является **стандартная ошибка**, которая обозначается $\\sigma_\\bar{x}$:\n",
    "$$ \\sigma_\\bar{x} = \\frac{\\sigma}{\\sqrt{n}} $$"
   ],
   "metadata": {
    "collapsed": false
   }
  },
  {
   "cell_type": "code",
   "execution_count": 288,
   "outputs": [
    {
     "data": {
      "text/plain": "0.01990209553640712"
     },
     "execution_count": 288,
     "metadata": {},
     "output_type": "execute_result"
    }
   ],
   "source": [
    "sigma/(len(x))**(1/2)"
   ],
   "metadata": {
    "collapsed": false,
    "ExecuteTime": {
     "end_time": "2023-05-29T18:50:23.941186Z",
     "start_time": "2023-05-29T18:50:23.931482Z"
    }
   }
  },
  {
   "cell_type": "code",
   "execution_count": 289,
   "outputs": [
    {
     "data": {
      "text/plain": "0.0192600915931632"
     },
     "execution_count": 289,
     "metadata": {},
     "output_type": "execute_result"
    }
   ],
   "source": [
    "st.sem(x) # defaults to 1 degree of freedom (n-1), which can be ignored with the larger data sets of ML"
   ],
   "metadata": {
    "collapsed": false,
    "ExecuteTime": {
     "end_time": "2023-05-29T18:50:42.167947Z",
     "start_time": "2023-05-29T18:50:42.074184Z"
    }
   }
  },
  {
   "cell_type": "code",
   "execution_count": 290,
   "outputs": [
    {
     "data": {
      "text/plain": "0.019250459138650658"
     },
     "execution_count": 290,
     "metadata": {},
     "output_type": "execute_result"
    }
   ],
   "source": [
    "st.sem(x, ddof=0) # 0 degrees of freedom (n)"
   ],
   "metadata": {
    "collapsed": false,
    "ExecuteTime": {
     "end_time": "2023-05-29T18:50:43.853885Z",
     "start_time": "2023-05-29T18:50:43.719528Z"
    }
   }
  },
  {
   "cell_type": "markdown",
   "source": [
    "Стандартная ошибка позволяет нам сравнить, различаются ли *значительно* средние значения двух распределений."
   ],
   "metadata": {
    "collapsed": false
   }
  },
  {
   "cell_type": "markdown",
   "source": [
    "# Оценки отношений между переменными (Relatedness Measures)"
   ],
   "metadata": {
    "collapsed": false
   }
  },
  {
   "cell_type": "markdown",
   "source": [
    "Если у нас есть два вектора одинаковой длины, $x$ и $y$, где каждый элемент $x$ связан с соответствующим элементом $y$, **ковариация** показывает меру того, насколько связаны признаки друг с другом:\n",
    "\n",
    "\n",
    "$$ \\text{cov}(x, y) = \\frac{\\sum_{i=1}^n (x_i - \\bar{x})(y_i - \\bar{y}) }{n} $$"
   ],
   "metadata": {
    "collapsed": false
   }
  },
  {
   "cell_type": "code",
   "execution_count": 292,
   "outputs": [],
   "source": [
    "x = crime_reports.robberies\n",
    "y = crime_reports.population"
   ],
   "metadata": {
    "collapsed": false,
    "ExecuteTime": {
     "end_time": "2023-05-29T18:50:59.257607Z",
     "start_time": "2023-05-29T18:50:59.184648Z"
    }
   }
  },
  {
   "cell_type": "code",
   "execution_count": 294,
   "outputs": [
    {
     "data": {
      "text/plain": "<Figure size 640x480 with 1 Axes>",
      "image/png": "[encoded data removed]"
     },
     "metadata": {},
     "output_type": "display_data"
    }
   ],
   "source": [
    "_ = sns.scatterplot(x=x, y=y)"
   ],
   "metadata": {
    "collapsed": false,
    "ExecuteTime": {
     "end_time": "2023-05-29T18:51:18.567894Z",
     "start_time": "2023-05-29T18:51:18.195072Z"
    }
   }
  },
  {
   "cell_type": "markdown",
   "source": [
    "Метод NumPy `cov()` возвращает **ковариационную матрицу**, которая является матрицей $2 \\times 2$, поскольку $x$ и $y$ вместе описывают двумерное пространство:"
   ],
   "metadata": {
    "collapsed": false
   }
  },
  {
   "cell_type": "code",
   "execution_count": 295,
   "outputs": [
    {
     "data": {
      "text/plain": "array([[ 9.70268547e+08, -1.33616288e+10],\n       [-1.33616288e+10,  2.32301433e+11]])"
     },
     "execution_count": 295,
     "metadata": {},
     "output_type": "execute_result"
    }
   ],
   "source": [
    "np.cov(x, y, ddof=0)"
   ],
   "metadata": {
    "collapsed": false,
    "ExecuteTime": {
     "end_time": "2023-05-29T18:51:52.851514Z",
     "start_time": "2023-05-29T18:51:52.718747Z"
    }
   }
  },
  {
   "cell_type": "markdown",
   "source": [
    "Диагональные элементы ковариационной матрицы представляют дисперсию $x$ и $y$ соответственно:"
   ],
   "metadata": {
    "collapsed": false
   }
  },
  {
   "cell_type": "code",
   "execution_count": 296,
   "outputs": [
    {
     "data": {
      "text/plain": "970268546.5746579"
     },
     "execution_count": 296,
     "metadata": {},
     "output_type": "execute_result"
    }
   ],
   "source": [
    "np.var(x)"
   ],
   "metadata": {
    "collapsed": false,
    "ExecuteTime": {
     "end_time": "2023-05-29T18:52:12.282795Z",
     "start_time": "2023-05-29T18:52:12.185197Z"
    }
   }
  },
  {
   "cell_type": "code",
   "execution_count": 297,
   "outputs": [
    {
     "data": {
      "text/plain": "232301432889.32898"
     },
     "execution_count": 297,
     "metadata": {},
     "output_type": "execute_result"
    }
   ],
   "source": [
    "np.var(y)"
   ],
   "metadata": {
    "collapsed": false,
    "ExecuteTime": {
     "end_time": "2023-05-29T18:52:17.083062Z",
     "start_time": "2023-05-29T18:52:16.945414Z"
    }
   }
  },
  {
   "cell_type": "markdown",
   "source": [
    "Если $x$ и $y$ связаны обратной зависимостью, их ковариация отрицательна. Чем меньше они связаны, тем ближе их ковариация к нулю:"
   ],
   "metadata": {
    "collapsed": false
   }
  },
  {
   "cell_type": "markdown",
   "source": [
    "#### Корреляция (Correlation)"
   ],
   "metadata": {
    "collapsed": false
   }
  },
  {
   "cell_type": "markdown",
   "source": [
    "Недостатком ковариации является то, что она смешивает относительную шкалу двух переменных с мерой связанности переменных. **Корреляция** строится на ковариации и преодолевает этот недостаток за счет масштабирования, тем самым измеряя исключительно связанность. Корреляция гораздо более распространена.\n",
    "\n",
    "Коэффициент корреляции (разработанный Карлом Пирсоном ) часто обозначается как $r$ или $\\rho$ и определяется как:\n",
    "$$ \\rho_{x,y} = \\frac{\\text{cov}(x,y)}{\\sigma_x \\sigma_y} $$"
   ],
   "metadata": {
    "collapsed": false
   }
  },
  {
   "cell_type": "code",
   "execution_count": 298,
   "outputs": [],
   "source": [
    "cov = -0.04215111\n",
    "sigma_sq_x = 0.68112222\n",
    "sigma_sq_y = 0.18871289"
   ],
   "metadata": {
    "collapsed": false,
    "ExecuteTime": {
     "end_time": "2023-05-29T18:52:38.795413Z",
     "start_time": "2023-05-29T18:52:38.721916Z"
    }
   }
  },
  {
   "cell_type": "code",
   "execution_count": 299,
   "outputs": [],
   "source": [
    "sigma_x = sigma_sq_x**(1/2)\n",
    "sigma_y = sigma_sq_y**(1/2)"
   ],
   "metadata": {
    "collapsed": false,
    "ExecuteTime": {
     "end_time": "2023-05-29T18:52:40.935691Z",
     "start_time": "2023-05-29T18:52:40.862343Z"
    }
   }
  },
  {
   "cell_type": "code",
   "execution_count": 300,
   "outputs": [
    {
     "data": {
      "text/plain": "-0.11756978087951572"
     },
     "execution_count": 300,
     "metadata": {},
     "output_type": "execute_result"
    }
   ],
   "source": [
    "cov / (sigma_x * sigma_y)"
   ],
   "metadata": {
    "collapsed": false,
    "ExecuteTime": {
     "end_time": "2023-05-29T18:52:41.256691Z",
     "start_time": "2023-05-29T18:52:41.184363Z"
    }
   }
  },
  {
   "cell_type": "code",
   "execution_count": 301,
   "outputs": [
    {
     "data": {
      "text/plain": "PearsonRResult(statistic=-0.8899948282177652, pvalue=7.080023242315153e-15)"
     },
     "execution_count": 301,
     "metadata": {},
     "output_type": "execute_result"
    }
   ],
   "source": [
    "st.pearsonr(x, y)"
   ],
   "metadata": {
    "collapsed": false,
    "ExecuteTime": {
     "end_time": "2023-05-29T18:52:52.359226Z",
     "start_time": "2023-05-29T18:52:52.226634Z"
    }
   }
  },
  {
   "cell_type": "markdown",
   "source": [
    "#### Распределения"
   ],
   "metadata": {
    "collapsed": false
   }
  },
  {
   "cell_type": "markdown",
   "source": [
    "### Uniform\n",
    "\n",
    "Равномерное распределение имеет постоянные вероятности во всем диапазоне значений:\n",
    "\n",
    "Примеры из реального:\n",
    "\n",
    "* Игра в кости (PMF)\n",
    "* Розыгрыш карт (PMF)\n",
    "* Гиперпараметры модели\n",
    "* Выброс радиоактивных частиц\n",
    "* Экономический спрос"
   ],
   "metadata": {
    "collapsed": false
   }
  },
  {
   "cell_type": "code",
   "execution_count": 302,
   "outputs": [
    {
     "data": {
      "text/plain": "<Figure size 500x500 with 1 Axes>",
      "image/png": "[encoded data removed]"
     },
     "metadata": {},
     "output_type": "display_data"
    }
   ],
   "source": [
    "u = np.random.uniform(size=10000)\n",
    "sns.set_style('ticks')\n",
    "_ = sns.displot(u)"
   ],
   "metadata": {
    "collapsed": false,
    "ExecuteTime": {
     "end_time": "2023-05-29T18:53:06.474267Z",
     "start_time": "2023-05-29T18:53:06.083352Z"
    }
   }
  },
  {
   "cell_type": "markdown",
   "source": [
    "### Gaussian\n",
    "\n",
    "Карл Фридрих Гаусс (немецкий математик и ученый 19 века) является автором более сотни концепций в математике, физике и астрономии. Одной из таких концепций является распределение Гаусса или **нормальное распределение**:\n",
    "\n",
    "Примеры из реального мира:\n",
    "\n",
    "* Вероятность выпадения орла при *n* бросках\n",
    "* Рост взрослых женщин\n",
    "* Рост взрослых мужчин\n",
    "* Результаты тестов на образование, например, SAT, ЦТ, GMAT etc\n",
    "\n",
    "\n",
    "Нормальные распределения на сегодняшний день являются наиболее распространенными распределениями в статистике и машинном обучении. Обычно они используются по умолчанию, особенно если у вас ограниченная информация о моделируемом случайном процессе, потому что:\n",
    "\n",
    "1. Нормальные распределения предполагают максимально возможную неопределенность случайной величины, которую они представляют (по сравнению с любым другим распределением эквивалентной дисперсии).\n",
    "2. Как простые, так и очень сложные случайные процессы при всех обычных условиях имеют нормальное распределение, когда мы выбираем значения из процесса. Поскольку мы отбираем данные как для статистических моделей, так и для моделей машинного обучения, эта так называемая **центральная предельная теорема** (рассмотренная далее) является критически важной концепцией."
   ],
   "metadata": {
    "collapsed": false
   }
  },
  {
   "cell_type": "code",
   "execution_count": 303,
   "outputs": [
    {
     "data": {
      "text/plain": "<Figure size 500x500 with 1 Axes>",
      "image/png": "[encoded data removed]"
     },
     "metadata": {},
     "output_type": "display_data"
    },
    {
     "data": {
      "text/plain": "<Figure size 500x500 with 1 Axes>",
      "image/png": "[encoded data removed]"
     },
     "metadata": {},
     "output_type": "display_data"
    }
   ],
   "source": [
    "x = np.random.normal(size=10000)\n",
    "_ = sns.displot(x)\n",
    "_ = sns.displot(x, kde=True)"
   ],
   "metadata": {
    "collapsed": false,
    "ExecuteTime": {
     "end_time": "2023-05-29T18:53:20.568515Z",
     "start_time": "2023-05-29T18:53:19.475176Z"
    }
   }
  },
  {
   "cell_type": "code",
   "execution_count": 304,
   "outputs": [],
   "source": [
    "n_experiments = 10000\n",
    "heads_count = [np.random.binomial(100, 0.5) for i in range (n_experiments)]\n",
    "heads, event_count = np.unique(heads_count, return_counts=True)\n",
    "event_proba = event_count/n_experiments"
   ],
   "metadata": {
    "collapsed": false,
    "ExecuteTime": {
     "end_time": "2023-05-29T18:53:37.594023Z",
     "start_time": "2023-05-29T18:53:37.491996Z"
    }
   }
  },
  {
   "cell_type": "code",
   "execution_count": 305,
   "outputs": [
    {
     "data": {
      "text/plain": "<Figure size 640x480 with 1 Axes>",
      "image/png": "[encoded data removed]"
     },
     "metadata": {},
     "output_type": "display_data"
    }
   ],
   "source": [
    "plt.bar(heads, event_proba)\n",
    "_ = plt.xlabel('Heads flips (out of 100 tosses)')"
   ],
   "metadata": {
    "collapsed": false,
    "ExecuteTime": {
     "end_time": "2023-05-29T18:53:40.714330Z",
     "start_time": "2023-05-29T18:53:40.226358Z"
    }
   }
  },
  {
   "cell_type": "markdown",
   "source": [
    "### Центарльная предельная теорема\n",
    "\n",
    "\n",
    "Чтобы получить представление о ЦПТ, давайте возьмем некоторые значения из нашего нормального распределения:"
   ],
   "metadata": {
    "collapsed": false
   }
  },
  {
   "cell_type": "code",
   "execution_count": 306,
   "outputs": [
    {
     "name": "stdout",
     "output_type": "stream",
     "text": [
      "[ 0.28896942  0.5425503  -1.29083033 -0.037922   -1.8065068  -0.30444804\n",
      " -0.51730522 -0.15384578 -0.67657166 -0.37590203]\n"
     ]
    }
   ],
   "source": [
    "x_sample = np.random.choice(x, size=10, replace=False)\n",
    "print(x_sample)"
   ],
   "metadata": {
    "collapsed": false,
    "ExecuteTime": {
     "end_time": "2023-05-29T18:53:44.965212Z",
     "start_time": "2023-05-29T18:53:44.830885Z"
    }
   }
  },
  {
   "cell_type": "markdown",
   "source": [
    "Среднее значение выборки не всегда будет близко к нулю для такой маленькой выборки:"
   ],
   "metadata": {
    "collapsed": false
   }
  },
  {
   "cell_type": "code",
   "execution_count": 307,
   "outputs": [
    {
     "data": {
      "text/plain": "-0.433181213762846"
     },
     "execution_count": 307,
     "metadata": {},
     "output_type": "execute_result"
    }
   ],
   "source": [
    "np.mean(x_sample)"
   ],
   "metadata": {
    "collapsed": false,
    "ExecuteTime": {
     "end_time": "2023-05-29T18:53:59.203870Z",
     "start_time": "2023-05-29T18:53:59.194185Z"
    }
   }
  },
  {
   "cell_type": "markdown",
   "source": [
    "Давайте определим функцию для генерации **выборочных распределений** среднего значения заданного входного распределения:"
   ],
   "metadata": {
    "collapsed": false
   }
  },
  {
   "cell_type": "code",
   "execution_count": 308,
   "outputs": [],
   "source": [
    "def sample_mean_calculator(input_dist, sample_size, n_samples):\n",
    "    sample_means = []\n",
    "    for i in range(n_samples):\n",
    "        sample = np.random.choice(input_dist, size=sample_size, replace=False)\n",
    "        sample_means.append(sample.mean())\n",
    "    return sample_means"
   ],
   "metadata": {
    "collapsed": false,
    "ExecuteTime": {
     "end_time": "2023-05-29T18:54:17.677362Z",
     "start_time": "2023-05-29T18:54:17.596329Z"
    }
   }
  },
  {
   "cell_type": "code",
   "execution_count": 309,
   "outputs": [
    {
     "data": {
      "text/plain": "<Figure size 500x500 with 1 Axes>",
      "image/png": "[encoded data removed]"
     },
     "metadata": {},
     "output_type": "display_data"
    }
   ],
   "source": [
    "sns.displot(sample_mean_calculator(x, 10, 10), color='green')\n",
    "_ = plt.xlim(-1.5, 1.5)"
   ],
   "metadata": {
    "collapsed": false,
    "ExecuteTime": {
     "end_time": "2023-05-29T18:54:21.316081Z",
     "start_time": "2023-05-29T18:54:20.948075Z"
    }
   }
  },
  {
   "cell_type": "markdown",
   "source": [
    "Чем больше выборок мы возьмем, тем больше вероятность того, что выборочное распределение средних значений будет нормально распределенным:"
   ],
   "metadata": {
    "collapsed": false
   }
  },
  {
   "cell_type": "code",
   "execution_count": 310,
   "outputs": [
    {
     "data": {
      "text/plain": "<Figure size 500x500 with 1 Axes>",
      "image/png": "[encoded data removed]"
     },
     "metadata": {},
     "output_type": "display_data"
    }
   ],
   "source": [
    "sns.displot(sample_mean_calculator(x, 10, 1000), color='green', kde=True)\n",
    "_ = plt.xlim(-1.5, 1.5)"
   ],
   "metadata": {
    "collapsed": false,
    "ExecuteTime": {
     "end_time": "2023-05-29T18:54:32.915542Z",
     "start_time": "2023-05-29T18:54:32.218423Z"
    }
   }
  },
  {
   "cell_type": "markdown",
   "source": [
    "Чем больше выборка, тем ближе средние значения выборки будут к среднему значению генеральной совокупности:"
   ],
   "metadata": {
    "collapsed": false
   }
  },
  {
   "cell_type": "code",
   "execution_count": 311,
   "outputs": [
    {
     "data": {
      "text/plain": "<Figure size 500x500 with 1 Axes>",
      "image/png": "[encoded data removed]"
     },
     "metadata": {},
     "output_type": "display_data"
    }
   ],
   "source": [
    "sns.displot(sample_mean_calculator(x, 100, 1000), color='green', kde=True)\n",
    "_ = plt.xlim(-1.5, 1.5)"
   ],
   "metadata": {
    "collapsed": false,
    "ExecuteTime": {
     "end_time": "2023-05-29T18:54:42.767766Z",
     "start_time": "2023-05-29T18:54:41.947302Z"
    }
   }
  },
  {
   "cell_type": "code",
   "execution_count": 312,
   "outputs": [
    {
     "data": {
      "text/plain": "<Figure size 500x500 with 1 Axes>",
      "image/png": "[encoded data removed]"
     },
     "metadata": {},
     "output_type": "display_data"
    }
   ],
   "source": [
    "sns.displot(sample_mean_calculator(x, 1000, 1000), color='green', kde=True)\n",
    "_ = plt.xlim(-1.5, 1.5)"
   ],
   "metadata": {
    "collapsed": false,
    "ExecuteTime": {
     "end_time": "2023-05-29T18:54:43.803475Z",
     "start_time": "2023-05-29T18:54:42.684575Z"
    }
   }
  },
  {
   "cell_type": "markdown",
   "source": [
    "#### Выборка из ассиметричного распределения"
   ],
   "metadata": {
    "collapsed": false
   }
  },
  {
   "cell_type": "code",
   "execution_count": 313,
   "outputs": [
    {
     "data": {
      "text/plain": "<Figure size 500x500 with 1 Axes>",
      "image/png": "[encoded data removed]"
     },
     "metadata": {},
     "output_type": "display_data"
    }
   ],
   "source": [
    "s = st.skewnorm.rvs(10, size=10000)\n",
    "_ = sns.displot(s, kde=True)"
   ],
   "metadata": {
    "collapsed": false,
    "ExecuteTime": {
     "end_time": "2023-05-29T18:54:50.310034Z",
     "start_time": "2023-05-29T18:54:49.566398Z"
    }
   }
  },
  {
   "cell_type": "code",
   "execution_count": 314,
   "outputs": [
    {
     "data": {
      "text/plain": "<Figure size 500x500 with 1 Axes>",
      "image/png": "[encoded data removed]"
     },
     "metadata": {},
     "output_type": "display_data"
    }
   ],
   "source": [
    "_ = sns.displot(sample_mean_calculator(s, 10, 1000), color='green', kde=True)"
   ],
   "metadata": {
    "collapsed": false,
    "ExecuteTime": {
     "end_time": "2023-05-29T18:54:59.701897Z",
     "start_time": "2023-05-29T18:54:58.696726Z"
    }
   }
  },
  {
   "cell_type": "code",
   "execution_count": 315,
   "outputs": [
    {
     "data": {
      "text/plain": "<Figure size 500x500 with 1 Axes>",
      "image/png": "[encoded data removed]"
     },
     "metadata": {},
     "output_type": "display_data"
    }
   ],
   "source": [
    "_ = sns.displot(sample_mean_calculator(s, 1000, 1000), color='green', kde=True)"
   ],
   "metadata": {
    "collapsed": false,
    "ExecuteTime": {
     "end_time": "2023-05-29T18:55:25.858026Z",
     "start_time": "2023-05-29T18:55:25.121393Z"
    }
   }
  },
  {
   "cell_type": "markdown",
   "source": [
    "#### Выборка из мультимодального распределения"
   ],
   "metadata": {
    "collapsed": false
   }
  },
  {
   "cell_type": "code",
   "execution_count": 316,
   "outputs": [
    {
     "data": {
      "text/plain": "<Figure size 500x500 with 1 Axes>",
      "image/png": "[encoded data removed]"
     },
     "metadata": {},
     "output_type": "display_data"
    }
   ],
   "source": [
    "m = np.concatenate((np.random.normal(size=5000), np.random.normal(loc = 4.0, size=5000)))\n",
    "_ = sns.displot(m, kde=True)"
   ],
   "metadata": {
    "collapsed": false,
    "ExecuteTime": {
     "end_time": "2023-05-29T18:55:40.932334Z",
     "start_time": "2023-05-29T18:55:40.197871Z"
    }
   }
  },
  {
   "cell_type": "code",
   "execution_count": 317,
   "outputs": [
    {
     "data": {
      "text/plain": "<Figure size 500x500 with 1 Axes>",
      "image/png": "[encoded data removed]"
     },
     "metadata": {},
     "output_type": "display_data"
    }
   ],
   "source": [
    "_ = sns.displot(sample_mean_calculator(m, 1000, 1000), color='green', kde=True)"
   ],
   "metadata": {
    "collapsed": false,
    "ExecuteTime": {
     "end_time": "2023-05-29T18:55:48.366001Z",
     "start_time": "2023-05-29T18:55:47.471192Z"
    }
   }
  },
  {
   "cell_type": "markdown",
   "source": [
    "#### Выборка из унимодального распределения\n"
   ],
   "metadata": {
    "collapsed": false
   }
  },
  {
   "cell_type": "code",
   "execution_count": 318,
   "outputs": [
    {
     "data": {
      "text/plain": "<Figure size 500x500 with 1 Axes>",
      "image/png": "[encoded data removed]"
     },
     "metadata": {},
     "output_type": "display_data"
    }
   ],
   "source": [
    "_ = sns.displot(u)\n"
   ],
   "metadata": {
    "collapsed": false,
    "ExecuteTime": {
     "end_time": "2023-05-29T18:55:59.074687Z",
     "start_time": "2023-05-29T18:55:58.564232Z"
    }
   }
  },
  {
   "cell_type": "code",
   "execution_count": 319,
   "outputs": [
    {
     "data": {
      "text/plain": "<Figure size 500x500 with 1 Axes>",
      "image/png": "[encoded data removed]"
     },
     "metadata": {},
     "output_type": "display_data"
    }
   ],
   "source": [
    "_ = sns.displot(sample_mean_calculator(u, 1000, 1000), color='green', kde=True)"
   ],
   "metadata": {
    "collapsed": false,
    "ExecuteTime": {
     "end_time": "2023-05-29T18:56:07.054361Z",
     "start_time": "2023-05-29T18:56:06.251347Z"
    }
   }
  },
  {
   "cell_type": "markdown",
   "source": [
    "Следовательно, при достаточно больших размерах выборки мы можем предположить, что выборочное распределение средних значений будет нормально распределенным, что позволит нам применять статистические модели и модели машинного обучения, настроенные для нормально распределенного шума, что часто является предположением по умолчанию.\n",
    "\n"
   ],
   "metadata": {
    "collapsed": false
   }
  },
  {
   "cell_type": "markdown",
   "source": [
    "### Log-Нормальное распределение"
   ],
   "metadata": {
    "collapsed": false
   }
  },
  {
   "cell_type": "markdown",
   "source": [
    "Натуральный логарифм **логарифмически нормального** распределения имеет нормальное распределение:"
   ],
   "metadata": {
    "collapsed": false
   }
  },
  {
   "cell_type": "code",
   "execution_count": 320,
   "outputs": [
    {
     "data": {
      "text/plain": "<Figure size 500x500 with 1 Axes>",
      "image/png": "[encoded data removed]"
     },
     "metadata": {},
     "output_type": "display_data"
    }
   ],
   "source": [
    "x = np.random.lognormal(size=10000) # defaults to standard normal mu=0, sigma=1\n",
    "_ = sns.displot(x, kde=True)"
   ],
   "metadata": {
    "collapsed": false,
    "ExecuteTime": {
     "end_time": "2023-05-29T18:56:27.312628Z",
     "start_time": "2023-05-29T18:56:25.351059Z"
    }
   }
  },
  {
   "cell_type": "code",
   "execution_count": 321,
   "outputs": [
    {
     "data": {
      "text/plain": "<Figure size 500x500 with 1 Axes>",
      "image/png": "[encoded data removed]"
     },
     "metadata": {},
     "output_type": "display_data"
    }
   ],
   "source": [
    "_ = sns.displot(np.log(x), color='brown', kde=True)"
   ],
   "metadata": {
    "collapsed": false,
    "ExecuteTime": {
     "end_time": "2023-05-29T18:56:33.066109Z",
     "start_time": "2023-05-29T18:56:32.423657Z"
    }
   }
  },
  {
   "cell_type": "markdown",
   "source": [
    "Примеры из реальной жизни:\n",
    "\n",
    "* Доход\n",
    "* Длина комментариев на интернет-форумах\n",
    "* Продолжительность игры в шахматы или сборки кубика Рубика\n",
    "* Размер общедоступных видеофайлов\n",
    "* Количество случаев госпитализации во время эпидемии"
   ],
   "metadata": {
    "collapsed": false
   }
  },
  {
   "cell_type": "markdown",
   "source": [
    "### Exponential Distribution\n",
    "\n",
    "Относительно уменьшается до нуля, а затем экспоненциально уменьшается в сторону более высоких значений. Логнормальное распределение, напротив, может принимать отрицательные значения и как увеличиваться, так и уменьшаться."
   ],
   "metadata": {
    "collapsed": false
   }
  },
  {
   "cell_type": "code",
   "execution_count": 322,
   "outputs": [
    {
     "data": {
      "text/plain": "<Figure size 500x500 with 1 Axes>",
      "image/png": "[encoded data removed]"
     },
     "metadata": {},
     "output_type": "display_data"
    }
   ],
   "source": [
    "x = np.random.exponential(scale=4, size=10000) # \"scale\" parameter defaults to one\n",
    "_ = sns.displot(x)"
   ],
   "metadata": {
    "collapsed": false,
    "ExecuteTime": {
     "end_time": "2023-05-29T18:56:41.306808Z",
     "start_time": "2023-05-29T18:56:40.533666Z"
    }
   }
  },
  {
   "cell_type": "code",
   "execution_count": 323,
   "outputs": [
    {
     "data": {
      "text/plain": "<Figure size 500x500 with 1 Axes>",
      "image/png": "[encoded data removed]"
     },
     "metadata": {},
     "output_type": "display_data"
    }
   ],
   "source": [
    "_ = sns.displot(np.log(x), color='brown', kde=True)"
   ],
   "metadata": {
    "collapsed": false,
    "ExecuteTime": {
     "end_time": "2023-05-29T18:57:04.530219Z",
     "start_time": "2023-05-29T18:57:03.619421Z"
    }
   }
  },
  {
   "cell_type": "markdown",
   "source": [
    "### z-scores"
   ],
   "metadata": {
    "collapsed": false
   }
  },
  {
   "cell_type": "markdown",
   "source": [
    "Предполагая нормально распределенные данные, z-оценка показывает, как далеко в размере стандартных отклонений находится наше наблюдение от среднего значения выборки:\n",
    "$$ z = \\frac{x_i-\\mu}{\\sigma} $$\n",
    "\n",
    "\n",
    "Например вы получили 85 баллов на тесте, вроде неплохо и ваш результат лучший относительно ваших коллег где среднее значение 60 баллов и стандартное отклонение 10 баллов"
   ],
   "metadata": {
    "collapsed": false
   }
  },
  {
   "cell_type": "code",
   "execution_count": 324,
   "outputs": [],
   "source": [
    "x_i = 85\n",
    "mu = 60\n",
    "sigma = 10"
   ],
   "metadata": {
    "collapsed": false,
    "ExecuteTime": {
     "end_time": "2023-05-29T18:58:07.631807Z",
     "start_time": "2023-05-29T18:58:07.547425Z"
    }
   }
  },
  {
   "cell_type": "code",
   "execution_count": 325,
   "outputs": [],
   "source": [
    "x = np.random.normal(mu, sigma, 10000)"
   ],
   "metadata": {
    "collapsed": false,
    "ExecuteTime": {
     "end_time": "2023-05-29T18:58:08.679903Z",
     "start_time": "2023-05-29T18:58:08.585251Z"
    }
   }
  },
  {
   "cell_type": "code",
   "execution_count": 326,
   "outputs": [
    {
     "data": {
      "text/plain": "<Figure size 500x500 with 1 Axes>",
      "image/png": "[encoded data removed]"
     },
     "metadata": {},
     "output_type": "display_data"
    }
   ],
   "source": [
    "sns.displot(x, color='gray')\n",
    "ax.set_xlim(0, 100)\n",
    "plt.axvline(mu, color='orange')\n",
    "for v in [-3, -2, -1, 1, 2, 3]:\n",
    "    plt.axvline(mu+v*sigma, color='olivedrab')\n",
    "_ = plt.axvline(x_i, color='purple')"
   ],
   "metadata": {
    "collapsed": false,
    "ExecuteTime": {
     "end_time": "2023-05-29T18:58:10.660854Z",
     "start_time": "2023-05-29T18:58:10.075577Z"
    }
   }
  },
  {
   "cell_type": "markdown",
   "source": [
    "\n",
    "Ваша z-оценка больше среднего значения на 2,5 стандартных отклонений"
   ],
   "metadata": {
    "collapsed": false
   }
  },
  {
   "cell_type": "code",
   "execution_count": 327,
   "outputs": [
    {
     "data": {
      "text/plain": "2.5"
     },
     "execution_count": 327,
     "metadata": {},
     "output_type": "execute_result"
    }
   ],
   "source": [
    "z = (x_i - mu)/sigma\n",
    "z"
   ],
   "metadata": {
    "collapsed": false,
    "ExecuteTime": {
     "end_time": "2023-05-29T18:58:26.345053Z",
     "start_time": "2023-05-29T18:58:26.273547Z"
    }
   }
  },
  {
   "cell_type": "code",
   "execution_count": 328,
   "outputs": [
    {
     "data": {
      "text/plain": "2.4854302148440395"
     },
     "execution_count": 328,
     "metadata": {},
     "output_type": "execute_result"
    }
   ],
   "source": [
    "z = (x_i - np.mean(x))/np.std(x)\n",
    "z"
   ],
   "metadata": {
    "collapsed": false,
    "ExecuteTime": {
     "end_time": "2023-05-29T18:58:29.185479Z",
     "start_time": "2023-05-29T18:58:29.010184Z"
    }
   }
  },
  {
   "cell_type": "markdown",
   "source": [
    "# Confidence intervals"
   ],
   "metadata": {
    "collapsed": false
   }
  },
  {
   "cell_type": "code",
   "execution_count": 329,
   "outputs": [],
   "source": [
    "data_scientists_salaries_usd = [117313, 104002, 113038, 101936, 84560, 113136, 80740, 100536, 105052, 87201, 91986, 94868, 90745, 102848, 85926, 112276, 108637, 96818, 92307, 114563, 122901, 91225, 101001, 97501, 99100, 91420, 89540]"
   ],
   "metadata": {
    "collapsed": false,
    "ExecuteTime": {
     "end_time": "2023-05-29T18:58:41.675773Z",
     "start_time": "2023-05-29T18:58:41.536345Z"
    }
   }
  },
  {
   "cell_type": "markdown",
   "source": [
    "Когда стандартное отклонение генеральной совокупности известно:"
   ],
   "metadata": {
    "collapsed": false
   }
  },
  {
   "cell_type": "code",
   "execution_count": 330,
   "outputs": [],
   "source": [
    "def create_confidence_intervals(data_points):\n",
    "    sample_mean = np.mean(data_points)\n",
    "\n",
    "    # suppose we already now population standard deviation\n",
    "    population_std = 15000.0\n",
    "\n",
    "    # sample standard error\n",
    "    std_err = population_std / np.sqrt(len(data_points))\n",
    "\n",
    "    # Can be found in z-tables e.g. alpha = 0.05 so the Z_alpha/2 = 0.05 / 2 = 0.025, the value to search 1 - 0.025 = 0.975 (the column val + row val = 1.9 + 0.06 = 1.96)\n",
    "    reliability_factor_99 = 2.58 * std_err\n",
    "    reliability_factor_95 = 1.96 * std_err\n",
    "\n",
    "    # Results\n",
    "    print(f\"We are 95% confident that the average data scientist salary will be in the interval [${round(sample_mean - reliability_factor_95, 2)}, ${round(sample_mean + reliability_factor_95, 2)}]\")\n",
    "    print(f\"We are 99% confident that the average data scientist salary will be in the interval [${round(sample_mean - reliability_factor_99, 2)}, ${round(sample_mean + reliability_factor_99, 2)}]\")\n",
    "\n",
    "    return None"
   ],
   "metadata": {
    "collapsed": false,
    "ExecuteTime": {
     "end_time": "2023-05-29T19:01:18.780382Z",
     "start_time": "2023-05-29T19:01:18.705099Z"
    }
   }
  },
  {
   "cell_type": "code",
   "execution_count": 331,
   "outputs": [
    {
     "name": "stdout",
     "output_type": "stream",
     "text": [
      "We are 95% confident that the average data scientist salary will be in the interval [$94015.15, $105331.22]\n",
      "We are 99% confident that the average data scientist salary will be in the interval [$92225.37, $107121.0]\n"
     ]
    }
   ],
   "source": [
    "create_confidence_intervals(data_scientists_salaries_usd)"
   ],
   "metadata": {
    "collapsed": false,
    "ExecuteTime": {
     "end_time": "2023-05-29T19:01:24.250904Z",
     "start_time": "2023-05-29T19:01:24.173881Z"
    }
   }
  },
  {
   "cell_type": "code",
   "execution_count": 332,
   "outputs": [
    {
     "data": {
      "text/plain": "27"
     },
     "execution_count": 332,
     "metadata": {},
     "output_type": "execute_result"
    }
   ],
   "source": [
    "len(data_scientists_salaries_usd)"
   ],
   "metadata": {
    "collapsed": false,
    "ExecuteTime": {
     "end_time": "2023-05-29T19:01:26.842200Z",
     "start_time": "2023-05-29T19:01:26.699180Z"
    }
   }
  },
  {
   "cell_type": "markdown",
   "source": [
    "Когда стандартное отклонение генеральной совокупности нам не известно"
   ],
   "metadata": {
    "collapsed": false
   }
  },
  {
   "cell_type": "code",
   "execution_count": 333,
   "outputs": [
    {
     "name": "stdout",
     "output_type": "stream",
     "text": [
      "We are 95% confident due to T-distribution that the average data scientist salary will be in the interval [$95414.63, $103931.74]\n"
     ]
    }
   ],
   "source": [
    "def students_t_distribution_confidence_interval(data_points):\n",
    "    # Obtain statistics for sample\n",
    "    sample_mean = np.mean(data_points)\n",
    "    sample_std = np.std(data_points)\n",
    "    sample_std_err = sample_std / np.sqrt(len(data_points))\n",
    "\n",
    "    # T-stat table degrees = 27 len(datapoints) and alpha 0.05/2 = 0.025 -> the value 2.052\n",
    "    t_stat_95_cli = 2.052\n",
    "\n",
    "    print(f\"We are 95% confident due to T-distribution that the average data scientist salary will be in the interval [${round(sample_mean - t_stat_95_cli * sample_std_err, 2)}, ${round(sample_mean + t_stat_95_cli * sample_std_err, 2)}]\")\n",
    "\n",
    "\n",
    "students_t_distribution_confidence_interval(data_scientists_salaries_usd)"
   ],
   "metadata": {
    "collapsed": false,
    "ExecuteTime": {
     "end_time": "2023-05-29T19:01:57.393036Z",
     "start_time": "2023-05-29T19:01:57.192489Z"
    }
   }
  },
  {
   "cell_type": "markdown",
   "source": [
    "Доверительный интерва для разности двух выборочных средних, зависимые выборки"
   ],
   "metadata": {
    "collapsed": false
   }
  },
  {
   "cell_type": "code",
   "execution_count": 334,
   "outputs": [],
   "source": [
    "avg_data_scientists_salaries_usd = [117313, 104002, 113038, 101936, 84560, 113136, 80740, 100536, 105052, 87201, 91986, 94868, 90745, 102848, 85926, 112276, 108637, 96818, 92307, 114563, 122901, 91225, 101001, 97501, 99100, 91420, 89540]\n",
    "\n",
    "avg_data_scientists_salaries_usd_after_courses = [118313, 102122, 110038, 101936, 85560, 113636, 81740, 100436, 102212, 88201, 92986, 93868, 90745, 106848, 87926, 112676, 118637, 99818, 92307, 114963, 123000, 94225, 102001, 91501, 98100, 91420, 89540]\n",
    "\n",
    "\n",
    "def dependant_two_samples_cli(sample_one, sample_two):\n",
    "    samples_diff = [x-y for x,y in zip(sample_two, sample_one)]\n",
    "    samples_diff_mean = np.mean(samples_diff)\n",
    "    samples_diff_std = np.std(samples_diff)\n",
    "    # 95% cli for t-dist 2.052\n",
    "    t_stat_95 = 2.052\n",
    "    print(f\"We are 95% confident that taking DS courses will impact on DS salary by ${round(samples_diff_mean, 2)} +/- {round(t_stat_95 * (samples_diff_std/np.sqrt(len(samples_diff))),2)}\")"
   ],
   "metadata": {
    "collapsed": false,
    "ExecuteTime": {
     "end_time": "2023-05-29T19:03:07.909436Z",
     "start_time": "2023-05-29T19:03:07.831861Z"
    }
   }
  },
  {
   "cell_type": "code",
   "execution_count": 335,
   "outputs": [
    {
     "name": "stdout",
     "output_type": "stream",
     "text": [
      "We are 95% confident that taking DS courses will impact on DS salary by $502.93 +/- 1064.98\n"
     ]
    }
   ],
   "source": [
    "dependant_two_samples_cli(avg_data_scientists_salaries_usd,avg_data_scientists_salaries_usd_after_courses)"
   ],
   "metadata": {
    "collapsed": false,
    "ExecuteTime": {
     "end_time": "2023-05-29T19:03:09.175476Z",
     "start_time": "2023-05-29T19:03:09.021176Z"
    }
   }
  },
  {
   "cell_type": "markdown",
   "source": [
    "# Two populations, variance unknown and assumed to be different, samples independent, statistics t"
   ],
   "metadata": {
    "collapsed": false
   }
  },
  {
   "cell_type": "code",
   "execution_count": 336,
   "outputs": [],
   "source": [
    "apple_prices_pl_eur = [0.21, 0.4, 0.7, 0.4, 0.55, 1, 1.2, 0.88, 0.99, 0.71, 0.66, 0.51, 0.95, 0.69, 0.33, 0.55, 0.51, 0.71, 0.22, 0.78, 0.8, 0.99, 0.47, 0.55, 0.73, 0.99, 0.55, 0.18, 0.69, 0.66, 0.58, 0.71, 0.22]\n",
    "\n",
    "\n",
    "apple_prices_by_eur = [2, 1, 2, 1, 2, 2.5, 1.3, 1.2, 1.7, 1.77, 1.33, 1.22, 1.15, 3.25, 1.9, 1.65, 1.54, 1.33]"
   ],
   "metadata": {
    "collapsed": false,
    "ExecuteTime": {
     "end_time": "2023-05-29T19:04:12.077424Z",
     "start_time": "2023-05-29T19:04:12.002043Z"
    }
   }
  },
  {
   "cell_type": "code",
   "execution_count": 337,
   "outputs": [],
   "source": [
    "def independent_samples_cli(sample_one, sample_two):\n",
    "    pl_sample_mean = np.mean(apple_prices_pl_eur)\n",
    "    by_sample_mean = np.mean(apple_prices_by_eur)\n",
    "\n",
    "    variance_pl = np.var(apple_prices_pl_eur)\n",
    "    variance_by = np.var(apple_prices_by_eur)\n",
    "\n",
    "    t_stat_95 = 2.052\n",
    "\n",
    "    print(f\"We are 95% confident that on average the PL apples will bee {round((pl_sample_mean - by_sample_mean),2)} +/- {round(t_stat_95 * np.sqrt((variance_pl/len(sample_one)) + (variance_by/len(sample_two))),2)} cheaper (expensive).\")"
   ],
   "metadata": {
    "collapsed": false,
    "ExecuteTime": {
     "end_time": "2023-05-29T19:04:40.075697Z",
     "start_time": "2023-05-29T19:04:39.967372Z"
    }
   }
  },
  {
   "cell_type": "code",
   "execution_count": 338,
   "outputs": [
    {
     "name": "stdout",
     "output_type": "stream",
     "text": [
      "We are 95% confident that on average the PL apples will bee -1.02 +/- 0.28 cheaper (expensive).\n"
     ]
    }
   ],
   "source": [
    "independent_samples_cli(apple_prices_pl_eur, apple_prices_by_eur)"
   ],
   "metadata": {
    "collapsed": false,
    "ExecuteTime": {
     "end_time": "2023-05-29T19:04:44.215856Z",
     "start_time": "2023-05-29T19:04:44.033750Z"
    }
   }
  },
  {
   "cell_type": "markdown",
   "source": [
    "### Стандартизация (z-преобразование)"
   ],
   "metadata": {
    "collapsed": false
   }
  },
  {
   "cell_type": "code",
   "execution_count": 339,
   "outputs": [
    {
     "data": {
      "text/plain": "   index  height_inches  weight_pounds\n0      1       65.78331       112.9925\n1      2       71.51521       136.4873\n2      3       69.39874       153.0269\n3      4       68.21660       142.3354\n4      5       67.78781       144.2971",
      "text/html": "<div>\n<style scoped>\n    .dataframe tbody tr th:only-of-type {\n        vertical-align: middle;\n    }\n\n    .dataframe tbody tr th {\n        vertical-align: top;\n    }\n\n    .dataframe thead th {\n        text-align: right;\n    }\n</style>\n<table border=\"1\" class=\"dataframe\">\n  <thead>\n    <tr style=\"text-align: right;\">\n      <th></th>\n      <th>index</th>\n      <th>height_inches</th>\n      <th>weight_pounds</th>\n    </tr>\n  </thead>\n  <tbody>\n    <tr>\n      <th>0</th>\n      <td>1</td>\n      <td>65.78331</td>\n      <td>112.9925</td>\n    </tr>\n    <tr>\n      <th>1</th>\n      <td>2</td>\n      <td>71.51521</td>\n      <td>136.4873</td>\n    </tr>\n    <tr>\n      <th>2</th>\n      <td>3</td>\n      <td>69.39874</td>\n      <td>153.0269</td>\n    </tr>\n    <tr>\n      <th>3</th>\n      <td>4</td>\n      <td>68.21660</td>\n      <td>142.3354</td>\n    </tr>\n    <tr>\n      <th>4</th>\n      <td>5</td>\n      <td>67.78781</td>\n      <td>144.2971</td>\n    </tr>\n  </tbody>\n</table>\n</div>"
     },
     "execution_count": 339,
     "metadata": {},
     "output_type": "execute_result"
    }
   ],
   "source": [
    "data = pd.read_csv('./datasets/hw_25000.csv', names = ['index', 'height_inches', 'weight_pounds'], header = 0 )\n",
    "data.head()"
   ],
   "metadata": {
    "collapsed": false,
    "ExecuteTime": {
     "end_time": "2023-05-29T19:05:00.061048Z",
     "start_time": "2023-05-29T19:04:59.907209Z"
    }
   }
  },
  {
   "cell_type": "code",
   "execution_count": 340,
   "outputs": [
    {
     "data": {
      "text/plain": "   index  height_inches  weight_pounds      height\n0      1       65.78331       112.9925  167.089607\n1      2       71.51521       136.4873  181.648633\n2      3       69.39874       153.0269  176.272800\n3      4       68.21660       142.3354  173.270164\n4      5       67.78781       144.2971  172.181037",
      "text/html": "<div>\n<style scoped>\n    .dataframe tbody tr th:only-of-type {\n        vertical-align: middle;\n    }\n\n    .dataframe tbody tr th {\n        vertical-align: top;\n    }\n\n    .dataframe thead th {\n        text-align: right;\n    }\n</style>\n<table border=\"1\" class=\"dataframe\">\n  <thead>\n    <tr style=\"text-align: right;\">\n      <th></th>\n      <th>index</th>\n      <th>height_inches</th>\n      <th>weight_pounds</th>\n      <th>height</th>\n    </tr>\n  </thead>\n  <tbody>\n    <tr>\n      <th>0</th>\n      <td>1</td>\n      <td>65.78331</td>\n      <td>112.9925</td>\n      <td>167.089607</td>\n    </tr>\n    <tr>\n      <th>1</th>\n      <td>2</td>\n      <td>71.51521</td>\n      <td>136.4873</td>\n      <td>181.648633</td>\n    </tr>\n    <tr>\n      <th>2</th>\n      <td>3</td>\n      <td>69.39874</td>\n      <td>153.0269</td>\n      <td>176.272800</td>\n    </tr>\n    <tr>\n      <th>3</th>\n      <td>4</td>\n      <td>68.21660</td>\n      <td>142.3354</td>\n      <td>173.270164</td>\n    </tr>\n    <tr>\n      <th>4</th>\n      <td>5</td>\n      <td>67.78781</td>\n      <td>144.2971</td>\n      <td>172.181037</td>\n    </tr>\n  </tbody>\n</table>\n</div>"
     },
     "execution_count": 340,
     "metadata": {},
     "output_type": "execute_result"
    }
   ],
   "source": [
    "# переводим высоту в сантиметры\n",
    "data['height'] = data['height_inches'] * 2.54\n",
    "data.head()"
   ],
   "metadata": {
    "collapsed": false,
    "ExecuteTime": {
     "end_time": "2023-05-29T19:05:01.121720Z",
     "start_time": "2023-05-29T19:05:01.021210Z"
    }
   }
  },
  {
   "cell_type": "code",
   "execution_count": 341,
   "outputs": [
    {
     "data": {
      "text/plain": "(172.702508535872, 4.830167472614602)"
     },
     "execution_count": 341,
     "metadata": {},
     "output_type": "execute_result"
    }
   ],
   "source": [
    "np.mean( data['height'] ), np.std( data['height'] )"
   ],
   "metadata": {
    "collapsed": false,
    "ExecuteTime": {
     "end_time": "2023-05-29T19:05:02.413900Z",
     "start_time": "2023-05-29T19:05:02.323818Z"
    }
   }
  },
  {
   "cell_type": "code",
   "execution_count": 342,
   "outputs": [],
   "source": [
    "zHeight = st.mstats.zscore( data['height'] )"
   ],
   "metadata": {
    "collapsed": false,
    "ExecuteTime": {
     "end_time": "2023-05-29T19:05:03.441089Z",
     "start_time": "2023-05-29T19:05:03.347804Z"
    }
   }
  },
  {
   "cell_type": "code",
   "execution_count": 343,
   "outputs": [
    {
     "data": {
      "text/plain": "(6.814104835939361e-16, 0.9999999999999998)"
     },
     "execution_count": 343,
     "metadata": {},
     "output_type": "execute_result"
    }
   ],
   "source": [
    "np.mean( zHeight ), np.std( zHeight )"
   ],
   "metadata": {
    "collapsed": false,
    "ExecuteTime": {
     "end_time": "2023-05-29T19:05:04.631465Z",
     "start_time": "2023-05-29T19:05:04.507144Z"
    }
   }
  },
  {
   "cell_type": "code",
   "execution_count": 344,
   "outputs": [],
   "source": [
    "customHeight = 185"
   ],
   "metadata": {
    "collapsed": false,
    "ExecuteTime": {
     "end_time": "2023-05-29T19:05:05.198483Z",
     "start_time": "2023-05-29T19:05:05.074598Z"
    }
   }
  },
  {
   "cell_type": "code",
   "execution_count": 345,
   "outputs": [
    {
     "data": {
      "text/plain": "2.5459762076264587"
     },
     "execution_count": 345,
     "metadata": {},
     "output_type": "execute_result"
    }
   ],
   "source": [
    "zScore = ( customHeight - np.mean( data['height'] ) ) / np.std( data['height'] )\n",
    "zScore"
   ],
   "metadata": {
    "collapsed": false,
    "ExecuteTime": {
     "end_time": "2023-05-29T19:05:06.747543Z",
     "start_time": "2023-05-29T19:05:06.653912Z"
    }
   }
  },
  {
   "cell_type": "code",
   "execution_count": 346,
   "outputs": [
    {
     "data": {
      "text/plain": "0.005448630770914842"
     },
     "execution_count": 346,
     "metadata": {},
     "output_type": "execute_result"
    }
   ],
   "source": [
    "1 - st.norm.cdf( zScore )"
   ],
   "metadata": {
    "collapsed": false,
    "ExecuteTime": {
     "end_time": "2023-05-29T19:05:07.213226Z",
     "start_time": "2023-05-29T19:05:07.101506Z"
    }
   }
  },
  {
   "cell_type": "code",
   "execution_count": 347,
   "outputs": [
    {
     "data": {
      "text/plain": "(-1.959963984540054, 1.959963984540054)"
     },
     "execution_count": 347,
     "metadata": {},
     "output_type": "execute_result"
    }
   ],
   "source": [
    "# доверительный интервал для заданного уровня значимости\n",
    "st.norm.interval( 0.95 )"
   ],
   "metadata": {
    "collapsed": false,
    "ExecuteTime": {
     "end_time": "2023-05-29T19:05:08.126289Z",
     "start_time": "2023-05-29T19:05:08.017805Z"
    }
   }
  },
  {
   "cell_type": "code",
   "execution_count": 348,
   "outputs": [
    {
     "data": {
      "text/plain": "(-2.5758293035489004, 2.5758293035489004)"
     },
     "execution_count": 348,
     "metadata": {},
     "output_type": "execute_result"
    }
   ],
   "source": [
    "st.norm.interval( 0.99 )"
   ],
   "metadata": {
    "collapsed": false,
    "ExecuteTime": {
     "end_time": "2023-05-29T19:05:08.889323Z",
     "start_time": "2023-05-29T19:05:08.735882Z"
    }
   }
  },
  {
   "cell_type": "markdown",
   "source": [
    "### Доверительный интервал"
   ],
   "metadata": {
    "collapsed": false
   }
  },
  {
   "cell_type": "code",
   "execution_count": 349,
   "outputs": [
    {
     "data": {
      "text/plain": "(172.172854688968, 173.9837128390321)"
     },
     "execution_count": 349,
     "metadata": {},
     "output_type": "execute_result"
    }
   ],
   "source": [
    "sample = data.head(100)\n",
    "se = np.std( sample['height'] ) / np.sqrt( len(sample['height']) )\n",
    "confidenceCoef = st.norm.interval( 0.95 )[1]\n",
    "( np.mean( sample['height'] ) - confidenceCoef * se, np.mean( sample['height'] ) + confidenceCoef * se )"
   ],
   "metadata": {
    "collapsed": false,
    "ExecuteTime": {
     "end_time": "2023-05-29T19:05:17.876175Z",
     "start_time": "2023-05-29T19:05:17.727896Z"
    }
   }
  },
  {
   "cell_type": "markdown",
   "source": [
    "# Сравнение средних"
   ],
   "metadata": {
    "collapsed": false
   }
  },
  {
   "cell_type": "markdown",
   "source": [
    "$H_0$ : среднее значение X равно некоторому известному значению m\n",
    "\n",
    "t-статистика\n",
    "\n",
    "\\begin{equation*}\n",
    "\\LARGE\n",
    "t = \\frac{\\overline{X} - m}{S_X / \\sqrt{n}}\n",
    "\\end{equation*}"
   ],
   "metadata": {
    "collapsed": false
   }
  },
  {
   "cell_type": "markdown",
   "source": [
    "\\begin{equation*}\n",
    "\\LARGE\n",
    "s^2_X = \\frac{ \\sum_{t=1}^n (X_t - \\overline{X})^2 }{(n - 1)}\n",
    "\\end{equation*}"
   ],
   "metadata": {
    "collapsed": false
   }
  },
  {
   "cell_type": "code",
   "execution_count": null,
   "outputs": [],
   "source": [
    "data = pd.read_csv( './datasets/hw_25000.csv', names = ['index', 'height_inches', 'weight_pounds'], header = 0 )\n",
    "data['height'] = data['height_inches'] * 2.54\n",
    "data.head()"
   ],
   "metadata": {
    "collapsed": false
   }
  },
  {
   "cell_type": "code",
   "execution_count": null,
   "outputs": [],
   "source": [
    "data['sample'] = data['height'] + 3\n",
    "data.head()\n"
   ],
   "metadata": {
    "collapsed": false
   }
  },
  {
   "cell_type": "code",
   "execution_count": null,
   "outputs": [],
   "source": [
    "\n",
    "bins = np.linspace(150, 190, 50)\n",
    "plt.hist(data['height'], bins, alpha=0.5)\n",
    "plt.hist(data['sample'], bins, alpha=0.5)\n",
    "plt.show()\n"
   ],
   "metadata": {
    "collapsed": false
   }
  },
  {
   "cell_type": "code",
   "execution_count": null,
   "outputs": [],
   "source": [
    "plt.hist(data['sample'].head(20), bins)\n",
    "plt.show()\n",
    "sample = data['sample'].head(20).tolist()"
   ],
   "metadata": {
    "collapsed": false
   }
  },
  {
   "cell_type": "code",
   "execution_count": null,
   "outputs": [],
   "source": [
    "sample = data['sample'].head(20).tolist()\n",
    "sample"
   ],
   "metadata": {
    "collapsed": false
   }
  },
  {
   "cell_type": "code",
   "execution_count": null,
   "outputs": [],
   "source": [
    "np.mean( sample )"
   ],
   "metadata": {
    "collapsed": false
   }
  },
  {
   "cell_type": "code",
   "execution_count": null,
   "outputs": [],
   "source": [
    "data['height'].mean()"
   ],
   "metadata": {
    "collapsed": false
   }
  },
  {
   "cell_type": "code",
   "execution_count": null,
   "outputs": [],
   "source": [
    "st.ttest_1samp( sample, data['height'].mean())"
   ],
   "metadata": {
    "collapsed": false
   }
  },
  {
   "cell_type": "markdown",
   "source": [
    "Двухвыборочный критерий"
   ],
   "metadata": {
    "collapsed": false
   }
  },
  {
   "cell_type": "markdown",
   "source": [
    "\\begin{equation*}\n",
    "\\LARGE\n",
    "t = \\frac{ \\overline{X_1} - \\overline{X_2} }{(\\sqrt{\\frac{s^2_1}{n_1} + \\frac{s^2_2}{n_2}}}\n",
    "\\end{equation*}"
   ],
   "metadata": {
    "collapsed": false
   }
  },
  {
   "cell_type": "code",
   "execution_count": null,
   "outputs": [],
   "source": [
    "plt.hist( data['sample'].head(20), bins, alpha = 0.5 )\n",
    "plt.hist( data['height'].tail(20), bins, alpha = 0.5 )\n",
    "plt.show()"
   ],
   "metadata": {
    "collapsed": false
   }
  },
  {
   "cell_type": "code",
   "execution_count": null,
   "outputs": [],
   "source": [
    "sampleHead = data['sample'].head(20).tolist()\n",
    "sampleTail = data['height'].tail(20).tolist()"
   ],
   "metadata": {
    "collapsed": false
   }
  },
  {
   "cell_type": "code",
   "execution_count": null,
   "outputs": [],
   "source": [
    "sampleHead"
   ],
   "metadata": {
    "collapsed": false
   }
  },
  {
   "cell_type": "code",
   "execution_count": null,
   "outputs": [],
   "source": [
    "sampleTail"
   ],
   "metadata": {
    "collapsed": false
   }
  },
  {
   "cell_type": "code",
   "execution_count": null,
   "outputs": [],
   "source": [
    "st.ttest_ind( sampleHead, sampleTail )"
   ],
   "metadata": {
    "collapsed": false
   }
  },
  {
   "cell_type": "code",
   "execution_count": null,
   "outputs": [],
   "source": [],
   "metadata": {
    "collapsed": false
   }
  }
 ],
 "metadata": {
  "kernelspec": {
   "display_name": "Python 3",
   "language": "python",
   "name": "python3"
  },
  "language_info": {
   "codemirror_mode": {
    "name": "ipython",
    "version": 2
   },
   "file_extension": ".py",
   "mimetype": "text/x-python",
   "name": "python",
   "nbconvert_exporter": "python",
   "pygments_lexer": "ipython2",
   "version": "2.7.6"
  }
 },
 "nbformat": 4,
 "nbformat_minor": 0
}
