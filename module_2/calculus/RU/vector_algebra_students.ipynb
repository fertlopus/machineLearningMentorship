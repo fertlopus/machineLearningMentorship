{
 "cells": [
  {
   "cell_type": "code",
   "execution_count": null,
   "outputs": [],
   "source": [
    "import numpy as np\n",
    "import matplotlib.pyplot as plt\n",
    "plt.rcParams.update({'font.size: 14'})"
   ],
   "metadata": {
    "collapsed": false
   }
  },
  {
   "cell_type": "markdown",
   "source": [
    "### Создание векторов"
   ],
   "metadata": {
    "collapsed": false
   }
  },
  {
   "cell_type": "code",
   "execution_count": null,
   "outputs": [],
   "source": [
    "# Объект списка в качестве вектора\n",
    "asList = [1, 2, 3]\n",
    "\n",
    "# Объект NumPy вектора\n",
    "asArray = np.array([1, 2, 3])\n",
    "\n",
    "# Вектор-строка и вектор-столбец\n",
    "rowVec = np.array([[1, 2, 3]])\n",
    "colVec = np.array([[1], [2], [3]])"
   ],
   "metadata": {
    "collapsed": false
   }
  },
  {
   "cell_type": "code",
   "execution_count": null,
   "outputs": [],
   "source": [
    "# Проверка размерностей\n",
    "print(f'asList:  {np.shape(asList)}')\n",
    "print(f'asArray: {asArray.shape}')\n",
    "print(f'rowVec:  {rowVec.shape}')\n",
    "print(f'colVec:  {colVec.shape}')"
   ],
   "metadata": {
    "collapsed": false
   }
  },
  {
   "cell_type": "markdown",
   "source": [
    "### Вектор в пространстве"
   ],
   "metadata": {
    "collapsed": false
   }
  },
  {
   "cell_type": "code",
   "execution_count": null,
   "outputs": [],
   "source": [
    "v = np.array([-1,2])\n",
    "# обрисовка вектора и начальной точки\n",
    "plt.arrow(0, 0, v[0], v[1], head_width=.5, width=.1)\n",
    "plt.plot(0, 0, 'ko', markerfacecolor='r', markersize=7)\n",
    "\n",
    "# осевые линии\n",
    "plt.plot([-3,3],[0,0], '--',color=[.8,.8,.8])\n",
    "plt.plot([0,0],[-3,3], '--',color=[.8,.8,.8])\n",
    "\n",
    "# делаем красиво\n",
    "plt.axis('square')\n",
    "plt.xlabel('$v_0$')\n",
    "plt.ylabel('$v_1$')\n",
    "plt.title('Vector v in standard position')\n",
    "plt.show()"
   ],
   "metadata": {
    "collapsed": false
   }
  },
  {
   "cell_type": "code",
   "execution_count": null,
   "outputs": [],
   "source": [
    "startPos = [\n",
    "            [0,0],\n",
    "            [-1,-1],\n",
    "            [1.5,-2]\n",
    "            ]\n",
    "\n",
    "\n",
    "# Создаем новую фигуру на которую будем накладывать объекты\n",
    "fig = plt.figure(figsize=(6,6))\n",
    "\n",
    "for s in startPos:\n",
    "  # визуализируем каждый вектор и стартовую позицию вектора на графике\n",
    "  plt.arrow(s[0],s[1],v[0],v[1],head_width=.5,width=.1,color='blue')\n",
    "  plt.plot(s[0],s[1],'ko',markerfacecolor='r',markersize=7)\n",
    "  if s==[0,0]:\n",
    "    plt.text(v[0]+.1,v[1]+.2,'\"Standard pos.\"')\n",
    "\n",
    "\n",
    "# осевые линии\n",
    "plt.plot([-3,3],[0,0],'--',color=[.8,.8,.8],zorder=-1)\n",
    "plt.plot([0,0],[-3,3],'--',color=[.8,.8,.8],zorder=-1)\n",
    "\n",
    "# украшаем\n",
    "plt.axis('square')\n",
    "plt.axis([-3,3,-3,3])\n",
    "plt.xlabel('$v_0$')\n",
    "plt.ylabel('$v_0$')\n",
    "plt.title('Vector in various locations')\n",
    "# plt.savefig('Figure_02_01.png',dpi=300)\n",
    "plt.show()"
   ],
   "metadata": {
    "collapsed": false
   }
  },
  {
   "cell_type": "markdown",
   "source": [
    "### Сложение векторов"
   ],
   "metadata": {
    "collapsed": false
   }
  },
  {
   "cell_type": "code",
   "execution_count": null,
   "outputs": [],
   "source": [
    "v = np.array([1,2])\n",
    "w = np.array([4,-6])\n",
    "vPlusW = v+w\n",
    "\n",
    "print(v)\n",
    "print(w)\n",
    "print(vPlusW)"
   ],
   "metadata": {
    "collapsed": false
   }
  },
  {
   "cell_type": "markdown",
   "source": [
    "### **Упражнение 1.**\n",
    "\n",
    "Сложите 3 вектора двумерной размерности  и визуализируйте процесс сложения на графике:"
   ],
   "metadata": {
    "collapsed": false
   }
  },
  {
   "cell_type": "code",
   "execution_count": null,
   "outputs": [],
   "source": [],
   "metadata": {
    "collapsed": false
   }
  },
  {
   "cell_type": "markdown",
   "source": [
    "### Вычитание векторов"
   ],
   "metadata": {
    "collapsed": false
   }
  },
  {
   "cell_type": "code",
   "execution_count": null,
   "outputs": [],
   "source": [
    "vMinusW = v-w\n",
    "\n",
    "print(v)\n",
    "print(w)\n",
    "print(vMinusW)"
   ],
   "metadata": {
    "collapsed": false
   }
  },
  {
   "cell_type": "markdown",
   "source": [
    "Проделайте туже работу по визулазиации только для процесса вычитания векторов"
   ],
   "metadata": {
    "collapsed": false
   }
  },
  {
   "cell_type": "code",
   "execution_count": null,
   "outputs": [],
   "source": [],
   "metadata": {
    "collapsed": false
   }
  },
  {
   "cell_type": "markdown",
   "source": [
    "### Скалярное произведение векторов"
   ],
   "metadata": {
    "collapsed": false
   }
  },
  {
   "cell_type": "code",
   "execution_count": null,
   "outputs": [],
   "source": [
    "# scalar\n",
    "s = -1/2\n",
    "\n",
    "# vector\n",
    "b = np.array([3,4])\n",
    "\n",
    "print(b*s)\n",
    "\n",
    "# Вопрос: Обязательно ли вектор b должен быть массивом NumPy? Что произойдет если это список?"
   ],
   "metadata": {
    "collapsed": false
   }
  },
  {
   "cell_type": "code",
   "execution_count": null,
   "outputs": [],
   "source": [
    "# Скалярное сложение\n",
    "s = 3.5\n",
    "\n",
    "print(v)\n",
    "print(s+v)"
   ],
   "metadata": {
    "collapsed": false
   }
  },
  {
   "cell_type": "code",
   "execution_count": null,
   "outputs": [],
   "source": [
    "# plot\n",
    "plt.plot([0,b[0]],[0,b[1]],'m--',linewidth=3,label='b')\n",
    "plt.plot([0,s*b[0]],[0,s*b[1]],'k:',linewidth=3,label='sb')\n",
    "\n",
    "plt.grid()\n",
    "plt.axis('square')\n",
    "plt.axis([-6,6,-6,6])\n",
    "plt.legend()\n",
    "plt.show()"
   ],
   "metadata": {
    "collapsed": false
   }
  },
  {
   "cell_type": "code",
   "execution_count": null,
   "outputs": [],
   "source": [
    "# Эффекты произведение на скалярное значение\n",
    "\n",
    "# a list of scalars:\n",
    "scalars = [ 1, 2, 1/3, 0, -2/3 ]\n",
    "baseVector = np.array([ .75,1 ])\n",
    "\n",
    "\n",
    "fig,axs = plt.subplots(1,len(scalars),figsize=(12,3))\n",
    "i = 0 # axis counter\n",
    "\n",
    "for s in scalars:\n",
    "  # compute the scaled vector\n",
    "  v = s*baseVector\n",
    "  # plot\n",
    "  axs[i].arrow(0,0,baseVector[0],baseVector[1],head_width=.3,width=.1,color='k',length_includes_head=True)\n",
    "  axs[i].arrow(.1,0,v[0],v[1],head_width=.3,width=.1,color=[.75,.75,.75],length_includes_head=True)\n",
    "  axs[i].grid(linestyle='--')\n",
    "  axs[i].axis('square')\n",
    "  axs[i].axis([-2.5,2.5,-2.5,2.5])\n",
    "  axs[i].set(xticks=np.arange(-2,3), yticks=np.arange(-2,3))\n",
    "  axs[i].set_title(f'$\\sigma$ = {s:.2f}')\n",
    "  i+=1 # update axis counter\n",
    "\n",
    "plt.tight_layout()\n",
    "plt.show()"
   ],
   "metadata": {
    "collapsed": false
   }
  },
  {
   "cell_type": "markdown",
   "source": [
    "### Транспонирование вектора"
   ],
   "metadata": {
    "collapsed": false
   }
  },
  {
   "cell_type": "code",
   "execution_count": null,
   "outputs": [],
   "source": [
    "# Вектор строка\n",
    "r = np.array([ [1,2,3] ])\n",
    "# ненаправленный вектор\n",
    "l = np.array([1,2,3])"
   ],
   "metadata": {
    "collapsed": false
   }
  },
  {
   "cell_type": "code",
   "execution_count": null,
   "outputs": [],
   "source": [
    "print(r), print(' ')\n",
    "print(r.T), print(' ')\n",
    "print(r.T.T)"
   ],
   "metadata": {
    "collapsed": false
   }
  },
  {
   "cell_type": "code",
   "execution_count": null,
   "outputs": [],
   "source": [
    "# for the orientationless array\n",
    "print(l), print(' ')\n",
    "print(l.T), print(' ')\n",
    "print(l.T.T)"
   ],
   "metadata": {
    "collapsed": false
   }
  },
  {
   "cell_type": "markdown",
   "source": [
    "### **Упражнение 2.**\n",
    "\n",
    "Напишите алгоритм для нахождения нормы вектора. Используя разные случайные вектора убедитесь что ваш алгоритм работает с векторами разной размерности и вы получается тотже результат что и при использовании метода $np.linalg.norm()$ Во время работы вы конечно же будете использовать ее."
   ],
   "metadata": {
    "collapsed": false
   }
  },
  {
   "cell_type": "code",
   "execution_count": null,
   "outputs": [],
   "source": [],
   "metadata": {
    "collapsed": false
   }
  },
  {
   "cell_type": "markdown",
   "source": [
    "### **Упражнение 3.**\n",
    "\n",
    "Реализуйте функцию которая в качестве аргумента принимает вектор и возвращает единичный вектор. Что будет, если в качестве аргумента будет нулевой вектор?"
   ],
   "metadata": {
    "collapsed": false
   }
  },
  {
   "cell_type": "code",
   "execution_count": null,
   "outputs": [],
   "source": [],
   "metadata": {
    "collapsed": false
   }
  },
  {
   "cell_type": "markdown",
   "source": [
    "### **Упражнение 4.**\n",
    "\n",
    "Реализуйте функцию, которая принимает в качестве аргументов 2 вектора и возвращает 2-е метрики: Коэффициент корреляции Пирсона и значения косинусного расстояния. В данном задании не используйте уже написанную функцию NumPy ```np.corrcoef()``` или ```spatial.distance.cosine``` а воспользуйтесь формулами представленными в презентации лекции. Убедитесь, что два возвращаемых значения идентичны возвращаемым значениям корреляции из ```np.corrcoef()``` Посмотрите на значения коэффициентов при нормилазованных данных и при ненормализованных, можете ввести в качестве аргумента значение нормализации и написать логику при нормализации и при ее отсутствии."
   ],
   "metadata": {
    "collapsed": false
   }
  },
  {
   "cell_type": "code",
   "execution_count": null,
   "outputs": [],
   "source": [],
   "metadata": {
    "collapsed": false
   }
  }
 ],
 "metadata": {
  "kernelspec": {
   "display_name": "Python 3",
   "language": "python",
   "name": "python3"
  },
  "language_info": {
   "codemirror_mode": {
    "name": "ipython",
    "version": 2
   },
   "file_extension": ".py",
   "mimetype": "text/x-python",
   "name": "python",
   "nbconvert_exporter": "python",
   "pygments_lexer": "ipython2",
   "version": "2.7.6"
  }
 },
 "nbformat": 4,
 "nbformat_minor": 0
}
