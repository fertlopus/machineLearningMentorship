{
 "cells": [
  {
   "cell_type": "markdown",
   "source": [
    "### Transformers for NLP "
   ],
   "metadata": {
    "collapsed": false
   },
   "id": "5c78a62573028dd5"
  },
  {
   "cell_type": "markdown",
   "source": [
    "### Classification (e.g. binary, multilabel, multiclass)"
   ],
   "metadata": {
    "collapsed": false
   },
   "id": "15353c3d88622778"
  },
  {
   "cell_type": "markdown",
   "source": [
    "Как вы уже знаете задача классификации - одна из важных задач в ML, в том числе при работе с текстом и последовательностями. В NLP она применяется для решения многих проблем, например, проставление тегов для отзывов клиентов, классификация языков, семантическая классификация, поиск именованных сущностей и т.д. Мы посмотрим на решение задачи классификации в разрезе определения семантики (эмоциональной окраски) сообщений в социальной сети Twitter.\n",
    "\n",
    "Для целей иллюстрации использования архитектуры Transformer, в данной задаче мы будем использовать архитектуру, разработанную гуглом, которая называется - BERT, а точнее, уменьшенный вариант данного трансформера - DistillBERT. Подробнее про архитектуру можно прочитать [тут](https://arxiv.org/pdf/1910.01108.pdf) и углубиться в математическую составляющую данного алгоритма.\n",
    "\n",
    "Так как мы будем использовать довольно мощную библиотеку от hugging face, стоит упомянуть, что она поставляется с нексолькими отдельными модулями для полноценной работы с трансформерами:\n",
    "1. Datasets - как понятно из названия, модуль для работы с датасетами и с данными\n",
    "2. Transformers - модуль, через который мы можем скачивать чекпойнты модели и архитектуру, чтобы сэкономить время на обучении и построении архитектуры\n",
    "3. Tokenizers\n",
    "4. Metrics\n",
    "5. Accelerate - модуль, который содержит техники ускорения модели (квантизация, параллелизация и прочие полезности)\n",
    "\n",
    "\n",
    "Для решения текущей задачи наш пайплайн будет выглядить следующим образом Datasets -> Tokenizers -> Transofrmers -> Datasets"
   ],
   "metadata": {
    "collapsed": false
   },
   "id": "9d92f1fdc71e955a"
  },
  {
   "cell_type": "markdown",
   "source": [
    "### Datasets"
   ],
   "metadata": {
    "collapsed": false
   },
   "id": "c21d38f2a318d5c0"
  },
  {
   "cell_type": "code",
   "execution_count": 1,
   "outputs": [
    {
     "name": "stdout",
     "output_type": "stream",
     "text": [
      "The Hub contains 58471 different datasets.\n",
      "The first 5:  [DatasetInfo: { \n",
      "  {'_id': '621ffdd236468d709f181d58',\n",
      "   'author': None,\n",
      "   'cardData': None,\n",
      "   'citation': '@inproceedings{veyseh-et-al-2020-what,\\n'\n",
      "               '   title={{What Does This Acronym Mean? Introducing a New Dataset for Acronym Identification and '\n",
      "               'Disambiguation}},\\n'\n",
      "               '   author={Amir Pouran Ben Veyseh and Franck Dernoncourt and Quan Hung Tran and Thien Huu Nguyen},\\n'\n",
      "               '   year={2020},\\n'\n",
      "               '   booktitle={Proceedings of COLING},\\n'\n",
      "               '   link={https://arxiv.org/pdf/2010.14678v1.pdf}\\n'\n",
      "               '}',\n",
      "   'description': 'Acronym identification training and development sets for the acronym identification task at '\n",
      "                  'SDU@AAAI-21.',\n",
      "   'disabled': False,\n",
      "   'downloads': 4565,\n",
      "   'gated': False,\n",
      "   'id': 'acronym_identification',\n",
      "   'lastModified': '2023-01-25T14:18:28.000Z',\n",
      "   'likes': 17,\n",
      "   'paperswithcode_id': 'acronym-identification',\n",
      "   'private': False,\n",
      "   'sha': 'c3c245a18bbd57b1682b099e14460eebf154cbdf',\n",
      "   'siblings': [],\n",
      "   'tags': ['task_categories:token-classification', 'annotations_creators:expert-generated', 'language_creators:found',\n",
      "            'multilinguality:monolingual', 'size_categories:10K<n<100K', 'source_datasets:original', 'language:en',\n",
      "            'license:mit', 'acronym-identification', 'arxiv:2010.14678', 'region:us']}\n",
      "}, DatasetInfo: { \n",
      "  {'_id': '621ffdd236468d709f181d59',\n",
      "   'author': None,\n",
      "   'cardData': None,\n",
      "   'citation': '@article{GURULINGAPPA2012885,\\n'\n",
      "               'title = \"Development of a benchmark corpus to support the automatic extraction of drug-related adverse '\n",
      "               'effects from medical case reports\",\\n'\n",
      "               'journal = \"Journal of Biomedical Informatics\",\\n'\n",
      "               'volume = \"45\",\\n'\n",
      "               'number = \"5\",\\n'\n",
      "               'pages = \"885 - 892\",\\n'\n",
      "               'year = \"2012\",\\n'\n",
      "               'note = \"Text Mining and Natural Language Processing in Pharmacogenomics\",\\n'\n",
      "               'issn = \"1532-0464\",\\n'\n",
      "               'doi = \"https://doi.org/10.1016/j.jbi.2012.04.008\",\\n'\n",
      "               'url = \"http://www.sciencedirect.com/science/article/pii/S1532046412000615\",\\n'\n",
      "               'author = \"Harsha Gurulingappa and Abdul Mateen Rajput and Angus Roberts and Juliane Fluck and Martin '\n",
      "               'Hofmann-Apitius and Luca Toldo\",\\n'\n",
      "               'keywords = \"Adverse drug effect, Benchmark corpus, Annotation, Harmonization, Sentence '\n",
      "               'classification\",\\n'\n",
      "               'abstract = \"A significant amount of information about drug-related safety issues such as adverse '\n",
      "               'effects are published in medical case reports that can only be explored by human readers due to their '\n",
      "               'unstructured nature. The work presented here aims at generating a systematically annotated corpus that '\n",
      "               'can support the development and validation of methods for the automatic extraction of drug-related '\n",
      "               'adverse effects from medical case reports. The documents are systematically double annotated in various '\n",
      "               'rounds to ensure consistent annotations. The annotated documents are finally harmonized to generate '\n",
      "               'representative consensus annotations. In order to demonstrate an example use case scenario, the corpus '\n",
      "               'was employed to train and validate models for the classification of informative against the '\n",
      "               'non-informative sentences. A Maximum Entropy classifier trained with simple features and evaluated by '\n",
      "               '10-fold cross-validation resulted in the F1 score of 0.70 indicating a potential useful application of '\n",
      "               'the corpus.\"\\n'\n",
      "               '}',\n",
      "   'description': ' ADE-Corpus-V2  Dataset: Adverse Drug Reaction Data.\\n'\n",
      "                  ' This is a dataset for Classification if a sentence is ADE-related (True) or not (False) and '\n",
      "                  'Relation Extraction between Adverse Drug Event and Drug.\\n'\n",
      "                  ' DRUG-AE.rel provides relations between drugs and adverse effects.\\n'\n",
      "                  ' DRUG-DOSE.rel provides relations between drugs and dosages.\\n'\n",
      "                  ' ADE-NEG.txt provides all sentences in the ADE corpus that DO NOT contain any drug-related adverse '\n",
      "                  'effects.',\n",
      "   'disabled': False,\n",
      "   'downloads': 4253,\n",
      "   'gated': False,\n",
      "   'id': 'ade_corpus_v2',\n",
      "   'lastModified': '2023-06-01T14:59:53.000Z',\n",
      "   'likes': 15,\n",
      "   'private': False,\n",
      "   'sha': '080cf99e1483008322d612c7262c04c8902fdbee',\n",
      "   'siblings': [],\n",
      "   'tags': ['task_categories:text-classification', 'task_categories:token-classification',\n",
      "            'task_ids:coreference-resolution', 'task_ids:fact-checking', 'annotations_creators:expert-generated',\n",
      "            'language_creators:found', 'multilinguality:monolingual', 'size_categories:10K<n<100K',\n",
      "            'size_categories:1K<n<10K', 'size_categories:n<1K', 'source_datasets:original', 'language:en',\n",
      "            'license:unknown', 'region:us']}\n",
      "}, DatasetInfo: { \n",
      "  {'_id': '621ffdd236468d709f181d5a',\n",
      "   'author': None,\n",
      "   'cardData': None,\n",
      "   'citation': '@article{bartolo2020beat,\\n'\n",
      "               '    author = {Bartolo, Max and Roberts, Alastair and Welbl, Johannes and Riedel, Sebastian and '\n",
      "               'Stenetorp, Pontus},\\n'\n",
      "               '    title = {Beat the AI: Investigating Adversarial Human Annotation for Reading Comprehension},\\n'\n",
      "               '    journal = {Transactions of the Association for Computational Linguistics},\\n'\n",
      "               '    volume = {8},\\n'\n",
      "               '    number = {},\\n'\n",
      "               '    pages = {662-678},\\n'\n",
      "               '    year = {2020},\\n'\n",
      "               '    doi = {10.1162/tacl_a_00338},\\n'\n",
      "               '    URL = { https://doi.org/10.1162/tacl_a_00338 },\\n'\n",
      "               '    eprint = { https://doi.org/10.1162/tacl_a_00338 },\\n'\n",
      "               '    abstract = { Innovations in annotation methodology have been a catalyst for Reading Comprehension '\n",
      "               '(RC) datasets and models. One recent trend to challenge current RC models is to involve a model in the '\n",
      "               'annotation process: Humans create questions adversarially, such that the model fails to answer them '\n",
      "               'correctly. In this work we investigate this annotation methodology and apply it in three different '\n",
      "               'settings, collecting a total of 36,000 samples with progressively stronger models in the annotation '\n",
      "               'loop. This allows us to explore questions such as the reproducibility of the adversarial effect, '\n",
      "               'transfer from data collected with varying model-in-the-loop strengths, and generalization to data '\n",
      "               'collected without a model. We find that training on adversarially collected samples leads to strong '\n",
      "               'generalization to non-adversarially collected datasets, yet with progressive performance deterioration '\n",
      "               'with increasingly stronger models-in-the-loop. Furthermore, we find that stronger models can still '\n",
      "               'learn from datasets collected with substantially weaker models-in-the-loop. When trained on data '\n",
      "               'collected with a BiDAF model in the loop, RoBERTa achieves 39.9F1 on questions that it cannot answer '\n",
      "               'when trained on SQuAD—only marginally lower than when trained on data collected using RoBERTa itself '\n",
      "               '(41.0F1). }\\n'\n",
      "               '}',\n",
      "   'description': 'AdversarialQA is a Reading Comprehension dataset, consisting of questions posed by crowdworkers on a '\n",
      "                  'set of Wikipedia articles using an adversarial model-in-the-loop.\\n'\n",
      "                  'We use three different models; BiDAF (Seo et al., 2016), BERT-Large (Devlin et al., 2018), and '\n",
      "                  'RoBERTa-Large (Liu et al., 2019) in the annotation loop and construct three datasets; D(BiDAF), '\n",
      "                  'D(BERT), and D(RoBERTa), each with 10,000 training examples, 1,000 validation, and 1,000 test '\n",
      "                  'examples.\\n'\n",
      "                  'The adversarial human annotation paradigm ensures that these datasets consist of questions that '\n",
      "                  'current state-of-the-art models (at least the ones used as adversaries in the annotation loop) find '\n",
      "                  'challenging.',\n",
      "   'disabled': False,\n",
      "   'downloads': 10058,\n",
      "   'gated': False,\n",
      "   'id': 'adversarial_qa',\n",
      "   'lastModified': '2022-11-18T17:31:37.000Z',\n",
      "   'likes': 27,\n",
      "   'paperswithcode_id': 'adversarialqa',\n",
      "   'private': False,\n",
      "   'sha': '2101a4597c2b5517902e2eef903c47b2caedacd8',\n",
      "   'siblings': [],\n",
      "   'tags': ['task_categories:question-answering', 'task_ids:extractive-qa', 'task_ids:open-domain-qa',\n",
      "            'annotations_creators:crowdsourced', 'language_creators:found', 'multilinguality:monolingual',\n",
      "            'size_categories:10K<n<100K', 'source_datasets:original', 'language:en', 'license:cc-by-sa-4.0',\n",
      "            'arxiv:2002.00293', 'arxiv:1606.05250', 'region:us']}\n",
      "}, DatasetInfo: { \n",
      "  {'_id': '621ffdd236468d709f181d5b',\n",
      "   'author': None,\n",
      "   'cardData': None,\n",
      "   'citation': '@misc{zhang2019email,\\n'\n",
      "               '    title={This Email Could Save Your Life: Introducing the Task of Email Subject Line Generation},\\n'\n",
      "               '    author={Rui Zhang and Joel Tetreault},\\n'\n",
      "               '    year={2019},\\n'\n",
      "               '    eprint={1906.03497},\\n'\n",
      "               '    archivePrefix={arXiv},\\n'\n",
      "               '    primaryClass={cs.CL}\\n'\n",
      "               '}',\n",
      "   'description': 'A collection of email messages of employees in the Enron Corporation.\\n'\n",
      "                  '\\n'\n",
      "                  'There are two features:\\n'\n",
      "                  '  - email_body: email body text.\\n'\n",
      "                  '  - subject_line: email subject text.',\n",
      "   'disabled': False,\n",
      "   'downloads': 2301,\n",
      "   'gated': False,\n",
      "   'id': 'aeslc',\n",
      "   'lastModified': '2023-04-05T08:32:58.000Z',\n",
      "   'likes': 4,\n",
      "   'paperswithcode_id': 'aeslc',\n",
      "   'private': False,\n",
      "   'sha': '28d4d3a046750bf18995a77dfb9f5f082fe837f6',\n",
      "   'siblings': [],\n",
      "   'tags': ['task_categories:summarization', 'annotations_creators:crowdsourced', 'language_creators:found',\n",
      "            'multilinguality:monolingual', 'size_categories:10K<n<100K', 'source_datasets:original', 'language:en',\n",
      "            'license:unknown', 'aspect-based-summarization', 'conversations-summarization',\n",
      "            'multi-document-summarization', 'email-headline-generation', 'arxiv:1906.03497', 'region:us']}\n",
      "}, DatasetInfo: { \n",
      "  {'_id': '621ffdd236468d709f181d5c',\n",
      "   'author': None,\n",
      "   'cardData': None,\n",
      "   'citation': '@inproceedings{afrikaans_ner_corpus,\\n'\n",
      "               '  author    = {\\tGerhard van Huyssteen and\\n'\n",
      "               '                Martin Puttkammer and\\n'\n",
      "               '                E.B. Trollip and\\n'\n",
      "               '                J.C. Liversage and\\n'\n",
      "               '              Roald Eiselen},\\n'\n",
      "               '  title     = {NCHLT Afrikaans Named Entity Annotated Corpus},\\n'\n",
      "               '  booktitle = {Eiselen, R. 2016. Government domain named entity recognition for South African '\n",
      "               'languages. Proceedings of the 10th      Language Resource and Evaluation Conference, Portorož, '\n",
      "               'Slovenia.},\\n'\n",
      "               '  year      = {2016},\\n'\n",
      "               '  url       = {https://repo.sadilar.org/handle/20.500.12185/299},\\n'\n",
      "               '}',\n",
      "   'description': 'Named entity annotated data from the NCHLT Text Resource Development: Phase II Project, annotated '\n",
      "                  'with PERSON, LOCATION, ORGANISATION and MISCELLANEOUS tags.',\n",
      "   'disabled': False,\n",
      "   'downloads': 490,\n",
      "   'gated': False,\n",
      "   'id': 'afrikaans_ner_corpus',\n",
      "   'lastModified': '2023-01-25T14:20:30.000Z',\n",
      "   'likes': 3,\n",
      "   'private': False,\n",
      "   'sha': '58eb3b7ec689e17d42ffd858b8e514cbd0ffbc7f',\n",
      "   'siblings': [],\n",
      "   'tags': ['task_categories:token-classification', 'task_ids:named-entity-recognition',\n",
      "            'annotations_creators:expert-generated', 'language_creators:expert-generated', 'multilinguality:monolingual',\n",
      "            'size_categories:1K<n<10K', 'source_datasets:original', 'language:af', 'license:other', 'region:us']}\n",
      "}]\n"
     ]
    }
   ],
   "source": [
    "# list_datasets() -> function to see what datasets are available on the Hugging Face Hub \n",
    "# OLD approach:\n",
    "# from datasets import list_datasets \n",
    "\n",
    "from huggingface_hub import list_datasets\n",
    "\n",
    "all_datasets = list(list_datasets())\n",
    "print(\"The Hub contains {} different datasets.\".format(len(all_datasets)))\n",
    "print(\"The first 5: \", all_datasets[:5])"
   ],
   "metadata": {
    "collapsed": false,
    "ExecuteTime": {
     "end_time": "2023-08-28T08:33:02.469638300Z",
     "start_time": "2023-08-28T08:32:53.145422Z"
    }
   },
   "id": "a501555e6f6bac2"
  },
  {
   "cell_type": "markdown",
   "source": [
    "Соответственно нам вернулись метаданные по датасетам, где у каждого датасета, существует название, описание и прочие полезные вещи. Все находится в json подобном объекте. Нам необходим датасет emotion\n",
    "\n",
    "Обычный пайплайн для работы с датасетом и моделью:\n",
    "\n",
    "<img src=\"./../src/imgs/pipeline_transformers.png\">"
   ],
   "metadata": {
    "collapsed": false
   },
   "id": "4fc742f2474d2e0d"
  },
  {
   "cell_type": "code",
   "execution_count": 2,
   "outputs": [],
   "source": [
    "from datasets import load_dataset\n",
    "\n",
    "emotions = load_dataset(\"emotion\") # the input is the string that represents a dataset's name. Where to find dataset's name -> documentation https://huggingface.co/docs/datasets/index"
   ],
   "metadata": {
    "collapsed": false,
    "ExecuteTime": {
     "end_time": "2023-08-28T08:33:06.680619Z",
     "start_time": "2023-08-28T08:33:02.470636400Z"
    }
   },
   "id": "c275368766475d1a"
  },
  {
   "cell_type": "code",
   "execution_count": 3,
   "outputs": [
    {
     "data": {
      "text/plain": "DatasetDict({\n    train: Dataset({\n        features: ['text', 'label'],\n        num_rows: 16000\n    })\n    validation: Dataset({\n        features: ['text', 'label'],\n        num_rows: 2000\n    })\n    test: Dataset({\n        features: ['text', 'label'],\n        num_rows: 2000\n    })\n})"
     },
     "execution_count": 3,
     "metadata": {},
     "output_type": "execute_result"
    }
   ],
   "source": [
    "emotions"
   ],
   "metadata": {
    "collapsed": false,
    "ExecuteTime": {
     "end_time": "2023-08-28T08:33:06.689630800Z",
     "start_time": "2023-08-28T08:33:06.681617900Z"
    }
   },
   "id": "88fbd3a4295df430"
  },
  {
   "cell_type": "code",
   "execution_count": 4,
   "outputs": [
    {
     "data": {
      "text/plain": "Dataset({\n    features: ['text', 'label'],\n    num_rows: 16000\n})"
     },
     "execution_count": 4,
     "metadata": {},
     "output_type": "execute_result"
    }
   ],
   "source": [
    "# DatasetDict is an object which is similar to Python's dict so we can access an individual split \n",
    "train_ds = emotions[\"train\"]\n",
    "train_ds"
   ],
   "metadata": {
    "collapsed": false,
    "ExecuteTime": {
     "end_time": "2023-08-28T08:33:06.693642200Z",
     "start_time": "2023-08-28T08:33:06.687116200Z"
    }
   },
   "id": "c7f56284bae88c5"
  },
  {
   "cell_type": "code",
   "execution_count": 5,
   "outputs": [
    {
     "data": {
      "text/plain": "16000"
     },
     "execution_count": 5,
     "metadata": {},
     "output_type": "execute_result"
    }
   ],
   "source": [
    "len(train_ds)"
   ],
   "metadata": {
    "collapsed": false,
    "ExecuteTime": {
     "end_time": "2023-08-28T08:33:06.702547900Z",
     "start_time": "2023-08-28T08:33:06.692642200Z"
    }
   },
   "id": "a7ddb7ed53499d4"
  },
  {
   "cell_type": "code",
   "execution_count": 6,
   "outputs": [
    {
     "data": {
      "text/plain": "{'text': 'i didnt feel humiliated', 'label': 0}"
     },
     "execution_count": 6,
     "metadata": {},
     "output_type": "execute_result"
    }
   ],
   "source": [
    "# access a single observation by its index\n",
    "# single row is represented as a dictionary, where keys correspond to the column names\n",
    "train_ds[0]"
   ],
   "metadata": {
    "collapsed": false,
    "ExecuteTime": {
     "end_time": "2023-08-28T08:33:06.707546300Z",
     "start_time": "2023-08-28T08:33:06.696548400Z"
    }
   },
   "id": "1efabfeb192c28e6"
  },
  {
   "cell_type": "code",
   "execution_count": 7,
   "outputs": [
    {
     "data": {
      "text/plain": "['text', 'label']"
     },
     "execution_count": 7,
     "metadata": {},
     "output_type": "execute_result"
    }
   ],
   "source": [
    "# access the column names\n",
    "train_ds.column_names"
   ],
   "metadata": {
    "collapsed": false,
    "ExecuteTime": {
     "end_time": "2023-08-28T08:33:06.760318200Z",
     "start_time": "2023-08-28T08:33:06.707546300Z"
    }
   },
   "id": "e442ebb07d6ff851"
  },
  {
   "cell_type": "markdown",
   "source": [
    "Off Top: Datasets объект основан на [Apache Arrow](https://arrow.apache.org/), технологии, которая определяет типизированный колоночный (столбцовый) формат хранения данных, эффективный с точки зрения памяти, чем родные методы Python. Таким образом, мы можем посмотреть типы данных, используемые под капотом, обратившись к аттрибуту features для нашего объекта Dataset:"
   ],
   "metadata": {
    "collapsed": false
   },
   "id": "ddfe8c246857e12b"
  },
  {
   "cell_type": "code",
   "execution_count": 8,
   "outputs": [
    {
     "name": "stdout",
     "output_type": "stream",
     "text": [
      "{'text': Value(dtype='string', id=None), 'label': ClassLabel(names=['sadness', 'joy', 'love', 'anger', 'fear', 'surprise'], id=None)}\n"
     ]
    }
   ],
   "source": [
    "print(train_ds.features)"
   ],
   "metadata": {
    "collapsed": false,
    "ExecuteTime": {
     "end_time": "2023-08-28T08:33:06.780322100Z",
     "start_time": "2023-08-28T08:33:06.714978600Z"
    }
   },
   "id": "597420e1c750e27a"
  },
  {
   "cell_type": "markdown",
   "source": [
    "Во многих случаях вам все равно придется работать со своими собственными данными, которые находятся либо локально у вас, либо на серверах компании. Модуль `datasets` предоставляет несколько вариантов работы с локальными и удаленными наборами данных. Например:\n",
    "* csv: `load_dataset(\"csv\", data_files=\"path_to_file.csv\"`\n",
    "* text: `load_dataset(\"text\", data_files=\"path_to_text_file.csv\"`\n",
    "* json: `load_dataset(\"json\", data_files=\"path_to_json_file.csv`"
   ],
   "metadata": {
    "collapsed": false
   },
   "id": "f9054ecc39b06fd0"
  },
  {
   "cell_type": "markdown",
   "source": [
    "### Dataset's EDA\n",
    "\n",
    "\n",
    "Класс __Datasets__ предоставляет множество низкоуровневых методов для нарезки данных, для обработки данных и применение функций. Часто бывает удобно преобразовать объект Dataset в Pandas DataFrame, чтобы получить доступ к высокоуровневым API например для визуализации и анализа данных. Для обеспечения такого преобразования используется метод set_format(), который позволяет нам изменять формат вывода объекта Dataset. Обратите внимание, что при этом не изменяется основной формат данных (который представляет собой таблицу Arrow), и при необходимости можно перейти к другому формату позже:\n",
    "\n",
    "[Документация](https://huggingface.co/docs/datasets/use_dataset)"
   ],
   "metadata": {
    "collapsed": false
   },
   "id": "30160bb877e2dcea"
  },
  {
   "cell_type": "code",
   "execution_count": 9,
   "outputs": [
    {
     "data": {
      "text/plain": "                                                text  label\n0                            i didnt feel humiliated      0\n1  i can go from feeling so hopeless to so damned...      0\n2   im grabbing a minute to post i feel greedy wrong      3\n3  i am ever feeling nostalgic about the fireplac...      2\n4                               i am feeling grouchy      3",
      "text/html": "<div>\n<style scoped>\n    .dataframe tbody tr th:only-of-type {\n        vertical-align: middle;\n    }\n\n    .dataframe tbody tr th {\n        vertical-align: top;\n    }\n\n    .dataframe thead th {\n        text-align: right;\n    }\n</style>\n<table border=\"1\" class=\"dataframe\">\n  <thead>\n    <tr style=\"text-align: right;\">\n      <th></th>\n      <th>text</th>\n      <th>label</th>\n    </tr>\n  </thead>\n  <tbody>\n    <tr>\n      <th>0</th>\n      <td>i didnt feel humiliated</td>\n      <td>0</td>\n    </tr>\n    <tr>\n      <th>1</th>\n      <td>i can go from feeling so hopeless to so damned...</td>\n      <td>0</td>\n    </tr>\n    <tr>\n      <th>2</th>\n      <td>im grabbing a minute to post i feel greedy wrong</td>\n      <td>3</td>\n    </tr>\n    <tr>\n      <th>3</th>\n      <td>i am ever feeling nostalgic about the fireplac...</td>\n      <td>2</td>\n    </tr>\n    <tr>\n      <th>4</th>\n      <td>i am feeling grouchy</td>\n      <td>3</td>\n    </tr>\n  </tbody>\n</table>\n</div>"
     },
     "execution_count": 9,
     "metadata": {},
     "output_type": "execute_result"
    }
   ],
   "source": [
    "import pandas as pd\n",
    "\n",
    "emotions.set_format(type=\"pandas\")\n",
    "df = emotions[\"train\"][:]\n",
    "df.head()"
   ],
   "metadata": {
    "collapsed": false,
    "ExecuteTime": {
     "end_time": "2023-08-28T08:33:06.781322100Z",
     "start_time": "2023-08-28T08:33:06.721509100Z"
    }
   },
   "id": "c7810c3e5a33d350"
  },
  {
   "cell_type": "markdown",
   "source": [
    "метки представлены в виде целых чисел, поэтому воспользуемся методом int2str() для создания нового столбца в нашем DataFrame с соответствующими именами меток. Имейте в виду что метод int2str является bound методом. [Подробнее о bound methods/functions](https://stackoverflow.com/questions/13130574/what-does-bound-method-error-mean-when-i-call-a-function)"
   ],
   "metadata": {
    "collapsed": false
   },
   "id": "4e1ada1488d29762"
  },
  {
   "cell_type": "code",
   "execution_count": 10,
   "outputs": [
    {
     "data": {
      "text/plain": "                                                text  label label_name\n0                            i didnt feel humiliated      0    sadness\n1  i can go from feeling so hopeless to so damned...      0    sadness\n2   im grabbing a minute to post i feel greedy wrong      3      anger\n3  i am ever feeling nostalgic about the fireplac...      2       love\n4                               i am feeling grouchy      3      anger",
      "text/html": "<div>\n<style scoped>\n    .dataframe tbody tr th:only-of-type {\n        vertical-align: middle;\n    }\n\n    .dataframe tbody tr th {\n        vertical-align: top;\n    }\n\n    .dataframe thead th {\n        text-align: right;\n    }\n</style>\n<table border=\"1\" class=\"dataframe\">\n  <thead>\n    <tr style=\"text-align: right;\">\n      <th></th>\n      <th>text</th>\n      <th>label</th>\n      <th>label_name</th>\n    </tr>\n  </thead>\n  <tbody>\n    <tr>\n      <th>0</th>\n      <td>i didnt feel humiliated</td>\n      <td>0</td>\n      <td>sadness</td>\n    </tr>\n    <tr>\n      <th>1</th>\n      <td>i can go from feeling so hopeless to so damned...</td>\n      <td>0</td>\n      <td>sadness</td>\n    </tr>\n    <tr>\n      <th>2</th>\n      <td>im grabbing a minute to post i feel greedy wrong</td>\n      <td>3</td>\n      <td>anger</td>\n    </tr>\n    <tr>\n      <th>3</th>\n      <td>i am ever feeling nostalgic about the fireplac...</td>\n      <td>2</td>\n      <td>love</td>\n    </tr>\n    <tr>\n      <th>4</th>\n      <td>i am feeling grouchy</td>\n      <td>3</td>\n      <td>anger</td>\n    </tr>\n  </tbody>\n</table>\n</div>"
     },
     "execution_count": 10,
     "metadata": {},
     "output_type": "execute_result"
    }
   ],
   "source": [
    "def label_int2str(row):\n",
    "    return emotions[\"train\"].features[\"label\"].int2str(row)\n",
    "\n",
    "df[\"label_name\"] = df[\"label\"].apply(label_int2str)\n",
    "df.head()"
   ],
   "metadata": {
    "collapsed": false,
    "ExecuteTime": {
     "end_time": "2023-08-28T08:33:07.329555900Z",
     "start_time": "2023-08-28T08:33:06.746322700Z"
    }
   },
   "id": "3ad450b9d1505cfe"
  },
  {
   "cell_type": "markdown",
   "source": [
    "При решении задач классификации текстов целесообразно изучить распределение примеров по классам. Набор данных со скошенным распределением классов может потребовать иного подхода при обучении и при выборе метрик оценки качества, чем сбалансированное распределение классов.\n",
    "\n",
    "[Документация по работе с библиотекой imbalanced-learn scikit-learn](https://imbalanced-learn.org/stable/)"
   ],
   "metadata": {
    "collapsed": false
   },
   "id": "aec6192403d6ce4d"
  },
  {
   "cell_type": "code",
   "execution_count": 11,
   "outputs": [
    {
     "data": {
      "text/plain": "<Figure size 640x480 with 1 Axes>",
      "image/png": "[encoded data removed]"
     },
     "metadata": {},
     "output_type": "display_data"
    }
   ],
   "source": [
    "import matplotlib.pyplot as plt\n",
    "\n",
    "df[\"label_name\"].value_counts(ascending=True).plot.barh()\n",
    "plt.title(\"Frequency of Classes\")\n",
    "plt.show()"
   ],
   "metadata": {
    "collapsed": false,
    "ExecuteTime": {
     "end_time": "2023-08-28T08:33:07.780320400Z",
     "start_time": "2023-08-28T08:33:07.329555900Z"
    }
   },
   "id": "4e5c1527ab0cc5b7"
  },
  {
   "cell_type": "markdown",
   "source": [
    "Модели трансформеров имеют максимальную длину входной последовательности (длина контекста). Для приложений, использующих DistilBERT, максимальный размер контекста составляет 512 токенов, то есть несколько абзацев текста. Токен - это атомарный фрагмент текста (одно уникальное слово). Мы можем получить приблизительную оценку длины контекста в датасете, посмотрев на распределение слов в твите:"
   ],
   "metadata": {
    "collapsed": false
   },
   "id": "cc158e623d346176"
  },
  {
   "cell_type": "code",
   "execution_count": 12,
   "outputs": [
    {
     "data": {
      "text/plain": "<Figure size 640x480 with 1 Axes>",
      "image/png": "[encoded data removed]"
     },
     "metadata": {},
     "output_type": "display_data"
    }
   ],
   "source": [
    "df[\"Words Per Tweet\"] = df[\"text\"].str.split().apply(len)\n",
    "df.boxplot(\"Words Per Tweet\", by=\"label_name\", grid=False,\n",
    "          showfliers=False, color=\"black\")\n",
    "plt.suptitle(\"\")\n",
    "plt.xlabel(\"\")\n",
    "plt.show()"
   ],
   "metadata": {
    "collapsed": false,
    "ExecuteTime": {
     "end_time": "2023-08-28T08:33:07.930022400Z",
     "start_time": "2023-08-28T08:33:07.782321200Z"
    }
   },
   "id": "8a0a56cf50ac907b"
  },
  {
   "cell_type": "code",
   "execution_count": 13,
   "outputs": [],
   "source": [
    "emotions.reset_format()"
   ],
   "metadata": {
    "collapsed": false,
    "ExecuteTime": {
     "end_time": "2023-08-28T08:33:07.938102500Z",
     "start_time": "2023-08-28T08:33:07.931576200Z"
    }
   },
   "id": "6b83822c2b0fb554"
  },
  {
   "cell_type": "markdown",
   "source": [
    "### Tokenization"
   ],
   "metadata": {
    "collapsed": false
   },
   "id": "b90273102471b285"
  },
  {
   "cell_type": "markdown",
   "source": [
    "Простейшая схема токенизации заключается в подаче в модель каждого символа по отдельности. В Python объекты str на самом деле являются массивами, что позволяет нам быстро реализовать токенизацию на уровне символов с помощью всего одной строки кода:"
   ],
   "metadata": {
    "collapsed": false
   },
   "id": "af99191f1b03c5f0"
  },
  {
   "cell_type": "code",
   "execution_count": 14,
   "outputs": [
    {
     "name": "stdout",
     "output_type": "stream",
     "text": [
      "['T', 'o', 'k', 'e', 'n', 'i', 'z', 'a', 't', 'i', 'o', 'n', ' ', 'i', 's', ' ', 'o', 'u', 'r', ' ', 'f', 'i', 'r', 's', 't', ' ', 'g', 'o', 'a', 'l', ' ', 'i', 'n', ' ', 'N', 'L', 'P', '.']\n"
     ]
    }
   ],
   "source": [
    "# Character level\n",
    "text = \"Tokenization is our first goal in NLP.\"\n",
    "tokenized_text = list(text)\n",
    "print(tokenized_text)"
   ],
   "metadata": {
    "collapsed": false,
    "ExecuteTime": {
     "end_time": "2023-08-28T08:33:07.941101700Z",
     "start_time": "2023-08-28T08:33:07.936100600Z"
    }
   },
   "id": "b0cac2c7d1a82046"
  },
  {
   "cell_type": "markdown",
   "source": [
    "каждый символ должен быть преобразован в целое число, что иногда называют нумерацией. Один из простых способов сделать это - закодировать каждую уникальную лексему или стемму (в данном случае это символы) уникальным целым числом:"
   ],
   "metadata": {
    "collapsed": false
   },
   "id": "335bd66619541622"
  },
  {
   "cell_type": "code",
   "execution_count": 15,
   "outputs": [
    {
     "name": "stdout",
     "output_type": "stream",
     "text": [
      "{' ': 0, '.': 1, 'L': 2, 'N': 3, 'P': 4, 'T': 5, 'a': 6, 'e': 7, 'f': 8, 'g': 9, 'i': 10, 'k': 11, 'l': 12, 'n': 13, 'o': 14, 'r': 15, 's': 16, 't': 17, 'u': 18, 'z': 19}\n"
     ]
    }
   ],
   "source": [
    "token2idx = {ch: idx for idx, ch in enumerate(sorted(set(tokenized_text)))}\n",
    "print(token2idx)"
   ],
   "metadata": {
    "collapsed": false,
    "ExecuteTime": {
     "end_time": "2023-08-28T08:33:07.950853400Z",
     "start_time": "2023-08-28T08:33:07.940103400Z"
    }
   },
   "id": "73ec3e2970002c65"
  },
  {
   "cell_type": "markdown",
   "source": [
    "Таким образом, мы получаем отображение каждого символа в нашем словаре на уникальное целое число. Теперь мы можем использовать token2idx для преобразования лексического текста в список целых чисел:"
   ],
   "metadata": {
    "collapsed": false
   },
   "id": "b36ce3dfc17d898a"
  },
  {
   "cell_type": "code",
   "execution_count": 16,
   "outputs": [
    {
     "name": "stdout",
     "output_type": "stream",
     "text": [
      "[5, 14, 11, 7, 13, 10, 19, 6, 17, 10, 14, 13, 0, 10, 16, 0, 14, 18, 15, 0, 8, 10, 15, 16, 17, 0, 9, 14, 6, 12, 0, 10, 13, 0, 3, 2, 4, 1]\n"
     ]
    }
   ],
   "source": [
    "input_ids = [token2idx[token] for token in tokenized_text]\n",
    "print(input_ids)"
   ],
   "metadata": {
    "collapsed": false,
    "ExecuteTime": {
     "end_time": "2023-08-28T08:33:07.951863200Z",
     "start_time": "2023-08-28T08:33:07.944521200Z"
    }
   },
   "id": "ebcc921846daaed1"
  },
  {
   "cell_type": "markdown",
   "source": [
    "Вместо того чтобы разбивать текст на символы, мы можем разбить его на слова и сопоставить каждое слово целому числу. \n",
    "\n",
    "Использование слов с самого начала позволяет модели **пропустить этап обучения слов из символов и тем самым снизить сложность процесса обучения.**\n",
    "\n",
    "Один из простых классов токенизаторов слов использует пробельные символы для токенизации текста. Мы можем сделать это, применив функцию Python `split()` непосредственно к исходному тексту:"
   ],
   "metadata": {
    "collapsed": false
   },
   "id": "b94328ccb80119c8"
  },
  {
   "cell_type": "code",
   "execution_count": 17,
   "outputs": [
    {
     "name": "stdout",
     "output_type": "stream",
     "text": [
      "['Tokenization', 'is', 'our', 'first', 'goal', 'in', 'NLP.']\n"
     ]
    }
   ],
   "source": [
    "# Word tokenization\n",
    "tokenized_text = text.split()\n",
    "print(tokenized_text)"
   ],
   "metadata": {
    "collapsed": false,
    "ExecuteTime": {
     "end_time": "2023-08-28T08:33:07.952862100Z",
     "start_time": "2023-08-28T08:33:07.949361300Z"
    }
   },
   "id": "62025b22b55e5450"
  },
  {
   "cell_type": "markdown",
   "source": [
    "Далее мы можем выполнить те же действия, что и для символьного токенизатора, чтобы сопоставить каждое слово с идентификатором. Однако уже сейчас видна одна потенциальная проблема, связанная с этой схемой токенизации: пунктуация не учитывается, поэтому токен NLP. рассматривается как один токен. Учитывая, что слова могут иметь склонения, спряжения или неправильное написание, размер словарного запаса может легко вырасти до миллионов...\n",
    "\n",
    "Наличие большого словарного корпуса уже является проблемой, поскольку требует от нейронных сетей огромного количества параметров. \n",
    "\n",
    "Например, у нас есть 1 млн. уникальных слов и мы хотим сжать входные векторы размером в 1 млн. до 1 тыс. векторов в первом слое нашей нейронной сети. Это стандартный шаг в большинстве архитектур, и результирующая матрица весов этого первого слоя будет содержать 1 млн. весовых коэффициентов, что проблема, так как получается, что 1 тыс. = 1 млрд. весов. Это уже сопоставимо с самой большой моделью GPT-2 (~152 bn parameters).\n",
    "\n",
    "Мы хотим избежать такого расточительного отношения к параметрам модели, поскольку обучение моделей обходится дорого, а большие модели сложнее поддерживать. Общий подход заключается в том, чтобы ограничить словарный запас и отбросить редкие слова, рассматривая, скажем, 100 000 наиболее часто встречающихся слов в корпусе. Слова, не входящие в словарный запас, классифицируются как \"неизвестные\" и сопоставляются с общим маркером `UNK`. Это означает, что в процессе токенизации слов мы теряем потенциально важную информацию, поскольку модель не имеет сведений о словах, связанных с `UNK`.\n",
    "\n",
    "<br>\n",
    "\n",
    "### Токенизация по подсловам (н-грам токенизация)\n",
    "\n",
    "Основная идея токенизации подслов (n-gram tokenization) заключается в том, чтобы объединить лучшие аспекты токенизации символов и слов. С одной стороны, мы хотим разбить редкие слова на более мелкие единицы, чтобы модель могла работать со сложными словами и опечатками. С другой стороны, мы хотим сохранить часто встречающиеся слова как уникальные сущности, чтобы длина входных данных была приемлемой. Главной отличительной особенностью токенизации подслов (как и токенизации слов) является то, что она обучается на основе корпуса предварительно обученного с помощью набора статистических правил и алгоритмов.\n",
    "\n",
    "У нас уже есть доступ к таким предобученным токенизаторам и поэтому мы можем легко воспользоваться ими обратившись к `AutoTokenizer` и указав название модели:"
   ],
   "metadata": {
    "collapsed": false
   },
   "id": "271ac156d64a1bea"
  },
  {
   "cell_type": "code",
   "execution_count": 18,
   "outputs": [],
   "source": [
    "# N-gram tokenization\n",
    "# WordPiece Algorithm ->\n",
    "from transformers import AutoTokenizer\n",
    "\n",
    "model_ckpt = \"distilbert-base-uncased\"\n",
    "tokenizer = AutoTokenizer.from_pretrained(model_ckpt)"
   ],
   "metadata": {
    "collapsed": false,
    "ExecuteTime": {
     "end_time": "2023-08-28T08:33:08.350376100Z",
     "start_time": "2023-08-28T08:33:07.952862100Z"
    }
   },
   "id": "8440072efe52d696"
  },
  {
   "cell_type": "code",
   "execution_count": 19,
   "outputs": [],
   "source": [
    "from transformers import DistilBertTokenizer\n",
    "\n",
    "distilbert_tokenizer = DistilBertTokenizer.from_pretrained(model_ckpt)"
   ],
   "metadata": {
    "collapsed": false,
    "ExecuteTime": {
     "end_time": "2023-08-28T08:33:08.560171Z",
     "start_time": "2023-08-28T08:33:08.351375800Z"
    }
   },
   "id": "7a708670d6f46bf1"
  },
  {
   "cell_type": "code",
   "execution_count": 20,
   "outputs": [
    {
     "name": "stdout",
     "output_type": "stream",
     "text": [
      "{'input_ids': [101, 19204, 3989, 2003, 2256, 2034, 3125, 1999, 17953, 2361, 1012, 102], 'attention_mask': [1, 1, 1, 1, 1, 1, 1, 1, 1, 1, 1, 1]}\n"
     ]
    }
   ],
   "source": [
    "encoded_text = tokenizer(text)\n",
    "print(encoded_text)"
   ],
   "metadata": {
    "collapsed": false,
    "ExecuteTime": {
     "end_time": "2023-08-28T08:33:08.568334800Z",
     "start_time": "2023-08-28T08:33:08.561171900Z"
    }
   },
   "id": "9994025c9e5fca18"
  },
  {
   "cell_type": "code",
   "execution_count": 21,
   "outputs": [],
   "source": [
    "# Zero Shot learning\n",
    "\n",
    "# reverse encoding\n",
    "tokens = tokenizer.convert_ids_to_tokens(encoded_text.input_ids)"
   ],
   "metadata": {
    "collapsed": false,
    "ExecuteTime": {
     "end_time": "2023-08-28T08:33:08.568334800Z",
     "start_time": "2023-08-28T08:33:08.565326600Z"
    }
   },
   "id": "dfa9f2393e564dc4"
  },
  {
   "cell_type": "code",
   "execution_count": 22,
   "outputs": [
    {
     "name": "stdout",
     "output_type": "stream",
     "text": [
      "['[CLS]', 'token', '##ization', 'is', 'our', 'first', 'goal', 'in', 'nl', '##p', '.', '[SEP]']\n"
     ]
    }
   ],
   "source": [
    "print(tokens)"
   ],
   "metadata": {
    "collapsed": false,
    "ExecuteTime": {
     "end_time": "2023-08-28T08:33:08.574010Z",
     "start_time": "2023-08-28T08:33:08.569335500Z"
    }
   },
   "id": "fc6be765787b1688"
  },
  {
   "cell_type": "code",
   "execution_count": 23,
   "outputs": [
    {
     "name": "stdout",
     "output_type": "stream",
     "text": [
      "[CLS] tokenization is our first goal in nlp. [SEP]\n"
     ]
    }
   ],
   "source": [
    "print(tokenizer.convert_tokens_to_string(tokens))"
   ],
   "metadata": {
    "collapsed": false,
    "ExecuteTime": {
     "end_time": "2023-08-28T08:33:08.578175700Z",
     "start_time": "2023-08-28T08:33:08.574010Z"
    }
   },
   "id": "684ec871fa8ff48f"
  },
  {
   "cell_type": "code",
   "execution_count": 24,
   "outputs": [
    {
     "data": {
      "text/plain": "30522"
     },
     "execution_count": 24,
     "metadata": {},
     "output_type": "execute_result"
    }
   ],
   "source": [
    "tokenizer.vocab_size"
   ],
   "metadata": {
    "collapsed": false,
    "ExecuteTime": {
     "end_time": "2023-08-28T08:33:08.586557200Z",
     "start_time": "2023-08-28T08:33:08.578175700Z"
    }
   },
   "id": "1c595086f1220224"
  },
  {
   "cell_type": "code",
   "execution_count": 25,
   "outputs": [
    {
     "data": {
      "text/plain": "512"
     },
     "execution_count": 25,
     "metadata": {},
     "output_type": "execute_result"
    }
   ],
   "source": [
    "tokenizer.model_max_length"
   ],
   "metadata": {
    "collapsed": false,
    "ExecuteTime": {
     "end_time": "2023-08-28T08:33:08.590071300Z",
     "start_time": "2023-08-28T08:33:08.583134700Z"
    }
   },
   "id": "8266d966790c04d4"
  },
  {
   "cell_type": "code",
   "execution_count": 26,
   "outputs": [
    {
     "data": {
      "text/plain": "['input_ids', 'attention_mask']"
     },
     "execution_count": 26,
     "metadata": {},
     "output_type": "execute_result"
    }
   ],
   "source": [
    "tokenizer.model_input_names"
   ],
   "metadata": {
    "collapsed": false,
    "ExecuteTime": {
     "end_time": "2023-08-28T08:33:08.651771300Z",
     "start_time": "2023-08-28T08:33:08.587558900Z"
    }
   },
   "id": "7719bc50724588cf"
  },
  {
   "cell_type": "markdown",
   "source": [
    "Токенизация всего нашего датасета:"
   ],
   "metadata": {
    "collapsed": false
   },
   "id": "7210ee98635057c9"
  },
  {
   "cell_type": "code",
   "execution_count": 27,
   "outputs": [],
   "source": [
    "def tokenize(batch):\n",
    "    return tokenizer(batch[\"text\"], padding=True, truncation=True)"
   ],
   "metadata": {
    "collapsed": false,
    "ExecuteTime": {
     "end_time": "2023-08-28T08:33:08.652769900Z",
     "start_time": "2023-08-28T08:33:08.592079200Z"
    }
   },
   "id": "a445ea60721b87f0"
  },
  {
   "cell_type": "code",
   "execution_count": 28,
   "outputs": [
    {
     "name": "stdout",
     "output_type": "stream",
     "text": [
      "{'input_ids': [[101, 1045, 2134, 2102, 2514, 26608, 102, 0, 0, 0, 0, 0, 0, 0, 0, 0, 0, 0, 0, 0, 0, 0, 0], [101, 1045, 2064, 2175, 2013, 3110, 2061, 20625, 2000, 2061, 9636, 17772, 2074, 2013, 2108, 2105, 2619, 2040, 14977, 1998, 2003, 8300, 102]], 'attention_mask': [[1, 1, 1, 1, 1, 1, 1, 0, 0, 0, 0, 0, 0, 0, 0, 0, 0, 0, 0, 0, 0, 0, 0], [1, 1, 1, 1, 1, 1, 1, 1, 1, 1, 1, 1, 1, 1, 1, 1, 1, 1, 1, 1, 1, 1, 1]]}\n"
     ]
    }
   ],
   "source": [
    "# for zeros -> [PAD] [CLS] [SEP], [MASK], [UNK]\n",
    "print(tokenize(emotions[\"train\"][:2]))"
   ],
   "metadata": {
    "collapsed": false,
    "ExecuteTime": {
     "end_time": "2023-08-28T08:33:08.653768700Z",
     "start_time": "2023-08-28T08:33:08.595805400Z"
    }
   },
   "id": "eff1ed4c8fc5d3bc"
  },
  {
   "cell_type": "code",
   "execution_count": 29,
   "outputs": [],
   "source": [
    "emotions_encoded = emotions.map(tokenize, batched = True, batch_size = None)"
   ],
   "metadata": {
    "collapsed": false,
    "ExecuteTime": {
     "end_time": "2023-08-28T08:33:08.653768700Z",
     "start_time": "2023-08-28T08:33:08.601328200Z"
    }
   },
   "id": "50ed019032090fde"
  },
  {
   "cell_type": "code",
   "execution_count": 30,
   "outputs": [
    {
     "name": "stdout",
     "output_type": "stream",
     "text": [
      "['text', 'label', 'input_ids', 'attention_mask']\n"
     ]
    }
   ],
   "source": [
    "print(emotions_encoded[\"train\"].column_names)"
   ],
   "metadata": {
    "collapsed": false,
    "ExecuteTime": {
     "end_time": "2023-08-28T08:33:08.653768700Z",
     "start_time": "2023-08-28T08:33:08.626253100Z"
    }
   },
   "id": "2f61859e2ce0f297"
  },
  {
   "cell_type": "markdown",
   "source": [
    "Файнтюнинг модели для нашей задачи\n",
    "\n",
    "<img src=\"./../src/imgs/transformer_family.png\">"
   ],
   "metadata": {
    "collapsed": false
   },
   "id": "b1242e4feb148ced"
  },
  {
   "cell_type": "code",
   "execution_count": 31,
   "outputs": [],
   "source": [
    "# Feature Extraction\n",
    "# Fine Tuning \n",
    "from transformers import AutoModel\n",
    "import torch\n",
    "model_ckpt = \"distilbert-base-uncased\"\n",
    "device = torch.device(\"cuda\" if torch.cuda.is_available() else \"cpu\")\n",
    "model = AutoModel.from_pretrained(model_ckpt).to(device)"
   ],
   "metadata": {
    "collapsed": false,
    "ExecuteTime": {
     "end_time": "2023-08-28T08:33:13.131686100Z",
     "start_time": "2023-08-28T08:33:08.629770700Z"
    }
   },
   "id": "bc30a3976a69a57c"
  },
  {
   "cell_type": "code",
   "execution_count": 32,
   "outputs": [
    {
     "name": "stdout",
     "output_type": "stream",
     "text": [
      "Tensor:  torch.Size([1, 6]) <class 'torch.Tensor'>\n"
     ]
    }
   ],
   "source": [
    "text = \"this is a test\"\n",
    "inputs = tokenizer(text, return_tensors=\"pt\") # FYI: test always!\n",
    "print(\"Tensor: \", inputs['input_ids'].size(), type(inputs['input_ids']))"
   ],
   "metadata": {
    "collapsed": false,
    "ExecuteTime": {
     "end_time": "2023-08-28T08:33:13.164747400Z",
     "start_time": "2023-08-28T08:33:13.132686100Z"
    }
   },
   "id": "901dd627f0f17769"
  },
  {
   "cell_type": "code",
   "execution_count": 33,
   "outputs": [
    {
     "name": "stdout",
     "output_type": "stream",
     "text": [
      "BaseModelOutput(last_hidden_state=tensor([[[-0.1565, -0.1862,  0.0528,  ..., -0.1188,  0.0662,  0.5470],\n",
      "         [-0.3575, -0.6484, -0.0618,  ..., -0.3040,  0.3508,  0.5221],\n",
      "         [-0.2772, -0.4459,  0.1818,  ..., -0.0948, -0.0076,  0.9958],\n",
      "         [-0.2841, -0.3917,  0.3753,  ..., -0.2151, -0.1173,  1.0526],\n",
      "         [ 0.2661, -0.5094, -0.3180,  ..., -0.4203,  0.0144, -0.2149],\n",
      "         [ 0.9441,  0.0112, -0.4714,  ...,  0.1439, -0.7288, -0.1619]]],\n",
      "       device='cuda:0'), hidden_states=None, attentions=None)\n"
     ]
    }
   ],
   "source": [
    "inputs = {k:v.to(device) for k,v in inputs.items()}\n",
    "\n",
    "with torch.no_grad():\n",
    "    outputs = model(**inputs)\n",
    "\n",
    "print(outputs)"
   ],
   "metadata": {
    "collapsed": false,
    "ExecuteTime": {
     "end_time": "2023-08-28T08:33:14.756853400Z",
     "start_time": "2023-08-28T08:33:13.136748300Z"
    }
   },
   "id": "80b63851a311c723"
  },
  {
   "cell_type": "code",
   "execution_count": 34,
   "outputs": [
    {
     "data": {
      "text/plain": "torch.Size([1, 6, 768])"
     },
     "execution_count": 34,
     "metadata": {},
     "output_type": "execute_result"
    }
   ],
   "source": [
    "outputs.last_hidden_state.size()"
   ],
   "metadata": {
    "collapsed": false,
    "ExecuteTime": {
     "end_time": "2023-08-28T08:33:14.757853Z",
     "start_time": "2023-08-28T08:33:14.730991200Z"
    }
   },
   "id": "b180f3798d85ab00"
  },
  {
   "cell_type": "code",
   "execution_count": 35,
   "outputs": [
    {
     "data": {
      "text/plain": "torch.Size([1, 768])"
     },
     "execution_count": 35,
     "metadata": {},
     "output_type": "execute_result"
    }
   ],
   "source": [
    "outputs.last_hidden_state[:, 0].size()"
   ],
   "metadata": {
    "collapsed": false,
    "ExecuteTime": {
     "end_time": "2023-08-28T08:33:14.757853Z",
     "start_time": "2023-08-28T08:33:14.745315600Z"
    }
   },
   "id": "fefa5d9df426b603"
  },
  {
   "cell_type": "code",
   "execution_count": 36,
   "outputs": [],
   "source": [
    "def extract_hidden_states(batch):\n",
    "    inputs =  {k:v.to(device) for k,v in batch.items()\n",
    "               if k in tokenizer.model_input_names}\n",
    "    # extraction of last hidden states\n",
    "    with torch.no_grad():\n",
    "        last_hidden_state = model(**inputs).last_hidden_state\n",
    "    # vector for [CLS] token\n",
    "    return {\"hidden_state\": last_hidden_state[:, 0].cpu().numpy()}"
   ],
   "metadata": {
    "collapsed": false,
    "ExecuteTime": {
     "end_time": "2023-08-28T08:33:14.757853Z",
     "start_time": "2023-08-28T08:33:14.747316300Z"
    }
   },
   "id": "23bc0cf74d77cf77"
  },
  {
   "cell_type": "code",
   "execution_count": 37,
   "outputs": [],
   "source": [
    "emotions_encoded.set_format(\"torch\", columns = [\"input_ids\", \"attention_mask\", \"label\"])"
   ],
   "metadata": {
    "collapsed": false,
    "ExecuteTime": {
     "end_time": "2023-08-28T08:33:14.757853Z",
     "start_time": "2023-08-28T08:33:14.750315700Z"
    }
   },
   "id": "ff6f0eeb74e89a53"
  },
  {
   "cell_type": "code",
   "execution_count": 38,
   "outputs": [],
   "source": [
    "emotions_hidden = emotions_encoded.map(extract_hidden_states, batched = True)"
   ],
   "metadata": {
    "collapsed": false,
    "ExecuteTime": {
     "end_time": "2023-08-28T08:33:19.252100400Z",
     "start_time": "2023-08-28T08:33:14.754852600Z"
    }
   },
   "id": "59aa8ac8b74c6438"
  },
  {
   "cell_type": "code",
   "execution_count": 39,
   "outputs": [
    {
     "data": {
      "text/plain": "['text', 'label', 'input_ids', 'attention_mask', 'hidden_state']"
     },
     "execution_count": 39,
     "metadata": {},
     "output_type": "execute_result"
    }
   ],
   "source": [
    "emotions_hidden[\"train\"].column_names"
   ],
   "metadata": {
    "collapsed": false,
    "ExecuteTime": {
     "end_time": "2023-08-28T08:33:19.256809500Z",
     "start_time": "2023-08-28T08:33:19.253101300Z"
    }
   },
   "id": "275ab9a2f68a9253"
  },
  {
   "cell_type": "code",
   "execution_count": 40,
   "outputs": [
    {
     "data": {
      "text/plain": "((16000, 768), (2000, 768))"
     },
     "execution_count": 40,
     "metadata": {},
     "output_type": "execute_result"
    }
   ],
   "source": [
    "import numpy as np\n",
    "X_train = np.array(emotions_hidden[\"train\"][\"hidden_state\"])\n",
    "X_valid = np.array(emotions_hidden[\"validation\"][\"hidden_state\"])\n",
    "y_train = np.array(emotions_hidden[\"train\"][\"label\"])\n",
    "y_valid = np.array(emotions_hidden[\"validation\"][\"label\"])\n",
    "\n",
    "X_train.shape, X_valid.shape"
   ],
   "metadata": {
    "collapsed": false,
    "ExecuteTime": {
     "end_time": "2023-08-28T08:33:19.341809900Z",
     "start_time": "2023-08-28T08:33:19.256809500Z"
    }
   },
   "id": "75dfce0a581100dd"
  },
  {
   "cell_type": "code",
   "execution_count": 41,
   "outputs": [
    {
     "data": {
      "text/plain": "0.6335"
     },
     "execution_count": 41,
     "metadata": {},
     "output_type": "execute_result"
    }
   ],
   "source": [
    "from sklearn.linear_model import LogisticRegression\n",
    "\n",
    "lr_clf = LogisticRegression(max_iter = 3000)\n",
    "lr_clf.fit(X_train, y_train)\n",
    "lr_clf.score(X_valid, y_valid)\n"
   ],
   "metadata": {
    "collapsed": false,
    "ExecuteTime": {
     "end_time": "2023-08-28T08:34:33.750986700Z",
     "start_time": "2023-08-28T08:33:19.344810100Z"
    }
   },
   "id": "73874fbd41475670"
  },
  {
   "cell_type": "code",
   "execution_count": 42,
   "outputs": [
    {
     "data": {
      "text/plain": "0.352"
     },
     "execution_count": 42,
     "metadata": {},
     "output_type": "execute_result"
    }
   ],
   "source": [
    "from sklearn.dummy import DummyClassifier\n",
    "\n",
    "dummy_clf = DummyClassifier(strategy=\"most_frequent\")\n",
    "dummy_clf.fit(X_train, y_train)\n",
    "dummy_clf.score(X_valid, y_valid)"
   ],
   "metadata": {
    "collapsed": false,
    "ExecuteTime": {
     "end_time": "2023-08-28T08:34:33.765527100Z",
     "start_time": "2023-08-28T08:34:33.750986700Z"
    }
   },
   "id": "d3fab9b529c0d61d"
  },
  {
   "cell_type": "code",
   "execution_count": 43,
   "outputs": [
    {
     "name": "stderr",
     "output_type": "stream",
     "text": [
      "Some weights of DistilBertForSequenceClassification were not initialized from the model checkpoint at distilbert-base-uncased and are newly initialized: ['pre_classifier.bias', 'pre_classifier.weight', 'classifier.weight', 'classifier.bias']\n",
      "You should probably TRAIN this model on a down-stream task to be able to use it for predictions and inference.\n"
     ]
    }
   ],
   "source": [
    "# Transformer Finetuning \n",
    "from transformers import AutoModelForSequenceClassification\n",
    "\n",
    "num_labels = 6\n",
    "model = (AutoModelForSequenceClassification.from_pretrained(model_ckpt, num_labels=num_labels).to(device))"
   ],
   "metadata": {
    "collapsed": false,
    "ExecuteTime": {
     "end_time": "2023-08-28T08:34:34.509233100Z",
     "start_time": "2023-08-28T08:34:33.758527700Z"
    }
   },
   "id": "8d2c8d8370c867ba"
  },
  {
   "cell_type": "code",
   "execution_count": 44,
   "outputs": [],
   "source": [
    "from sklearn.metrics import accuracy_score, f1_score\n",
    "from sklearn.metrics import ConfusionMatrixDisplay, confusion_matrix\n",
    "\n",
    "\n",
    "def compute_metrics(pred):\n",
    "    labels = pred.label_ids\n",
    "    preds = pred.predictions.argmax(-1)\n",
    "    f1 = f1_score(labels, preds, average=\"weighted\")\n",
    "    acc = accuracy_score(labels, preds)\n",
    "    return {\"accuracy\": acc, \"f1\": f1}\n"
   ],
   "metadata": {
    "collapsed": false,
    "ExecuteTime": {
     "end_time": "2023-08-28T08:34:34.524516900Z",
     "start_time": "2023-08-28T08:34:34.510232800Z"
    }
   },
   "id": "c518996114296751"
  },
  {
   "cell_type": "code",
   "execution_count": 45,
   "outputs": [],
   "source": [
    "from transformers import Trainer, TrainingArguments\n",
    "\n",
    "batch_size = 64\n",
    "logging_steps = len(emotions_encoded[\"train\"]) // batch_size\n",
    "model_name = f\"{model_ckpt}-finetuned-emotion\"\n",
    "\n",
    "\n",
    "training_args = TrainingArguments(output_dir=model_name,\n",
    "                                  num_train_epochs=5,\n",
    "                                  learning_rate=2e-5,\n",
    "                                  per_device_train_batch_size=batch_size,\n",
    "                                  per_device_eval_batch_size=batch_size,\n",
    "                                  weight_decay=0.01,\n",
    "                                  evaluation_strategy=\"epoch\",\n",
    "                                  disable_tqdm=False,\n",
    "                                  logging_steps=logging_steps,\n",
    "                                  push_to_hub=False, \n",
    "                                  log_level=\"error\")"
   ],
   "metadata": {
    "collapsed": false,
    "ExecuteTime": {
     "end_time": "2023-08-28T08:34:34.564380100Z",
     "start_time": "2023-08-28T08:34:34.514515400Z"
    }
   },
   "id": "a14db82c1be64154"
  },
  {
   "cell_type": "code",
   "execution_count": 46,
   "outputs": [
    {
     "name": "stderr",
     "output_type": "stream",
     "text": [
      "D:\\hw\\venv\\Lib\\site-packages\\transformers\\optimization.py:411: FutureWarning: This implementation of AdamW is deprecated and will be removed in a future version. Use the PyTorch implementation torch.optim.AdamW instead, or set `no_deprecation_warning=True` to disable this warning\n",
      "  warnings.warn(\n"
     ]
    },
    {
     "data": {
      "text/plain": "<IPython.core.display.HTML object>",
      "text/html": "\n    <div>\n      \n      <progress value='2' max='1250' style='width:300px; height:20px; vertical-align: middle;'></progress>\n      [   2/1250 : < :, Epoch 0.00/5]\n    </div>\n    <table border=\"1\" class=\"dataframe\">\n  <thead>\n <tr style=\"text-align: left;\">\n      <th>Epoch</th>\n      <th>Training Loss</th>\n      <th>Validation Loss</th>\n    </tr>\n  </thead>\n  <tbody>\n  </tbody>\n</table><p>"
     },
     "metadata": {},
     "output_type": "display_data"
    }
   ],
   "source": [
    "from transformers import Trainer\n",
    "\n",
    "trainer = Trainer(model=model, args=training_args, \n",
    "                  compute_metrics=compute_metrics,\n",
    "                  train_dataset=emotions_encoded[\"train\"],\n",
    "                  eval_dataset=emotions_encoded[\"validation\"],\n",
    "                  tokenizer=tokenizer)\n",
    "trainer.train();"
   ],
   "metadata": {
    "collapsed": false,
    "ExecuteTime": {
     "end_time": "2023-08-28T08:38:24.776694900Z",
     "start_time": "2023-08-28T08:34:34.563380Z"
    }
   },
   "id": "7cf15a3d3a6c600c"
  },
  {
   "cell_type": "code",
   "execution_count": 47,
   "outputs": [
    {
     "data": {
      "text/plain": "<IPython.core.display.HTML object>",
      "text/html": "\n    <div>\n      \n      <progress value='1' max='32' style='width:300px; height:20px; vertical-align: middle;'></progress>\n      [ 1/32 : < :]\n    </div>\n    "
     },
     "metadata": {},
     "output_type": "display_data"
    }
   ],
   "source": [
    "# hide_output\n",
    "preds_output = trainer.predict(emotions_encoded[\"validation\"])"
   ],
   "metadata": {
    "collapsed": false,
    "ExecuteTime": {
     "end_time": "2023-08-28T08:38:44.985966900Z",
     "start_time": "2023-08-28T08:38:43.039362900Z"
    }
   },
   "id": "6ffa32417b1b0d08"
  },
  {
   "cell_type": "code",
   "execution_count": 48,
   "outputs": [
    {
     "data": {
      "text/plain": "{'test_loss': 0.14409282803535461,\n 'test_accuracy': 0.936,\n 'test_f1': 0.9362254341811181,\n 'test_runtime': 1.944,\n 'test_samples_per_second': 1028.807,\n 'test_steps_per_second': 16.461}"
     },
     "execution_count": 48,
     "metadata": {},
     "output_type": "execute_result"
    }
   ],
   "source": [
    "preds_output.metrics"
   ],
   "metadata": {
    "collapsed": false,
    "ExecuteTime": {
     "end_time": "2023-08-28T08:38:53.485204800Z",
     "start_time": "2023-08-28T08:38:53.426319100Z"
    }
   },
   "id": "aeccbf246de711b2"
  },
  {
   "cell_type": "code",
   "execution_count": 49,
   "outputs": [],
   "source": [
    "y_preds = np.argmax(preds_output.predictions, axis=1)"
   ],
   "metadata": {
    "collapsed": false,
    "ExecuteTime": {
     "end_time": "2023-08-28T08:39:06.348330900Z",
     "start_time": "2023-08-28T08:39:06.300320100Z"
    }
   },
   "id": "98c380a6ef89b90b"
  },
  {
   "cell_type": "markdown",
   "source": [
    "Анализ ошибок\n",
    "\n",
    "Прежде чем двигаться дальше, следует исследовать предсказания нашей модели. Простой, но мощный прием - сортировка валидационных выборок по потерям модели. Когда мы передаем метку во время прямого прохода, потери автоматически вычисляются и возвращаются. функция, которая возвращает потери вместе с предсказанной меткой:"
   ],
   "metadata": {
    "collapsed": false
   },
   "id": "2d712622bf75c203"
  },
  {
   "cell_type": "code",
   "execution_count": 51,
   "outputs": [],
   "source": [
    "\n",
    "from torch.nn.functional import cross_entropy\n",
    "\n",
    "def forward_pass_with_label(batch):\n",
    "    # Place all input tensors on the same device as the model\n",
    "    inputs = {k:v.to(device) for k,v in batch.items() \n",
    "              if k in tokenizer.model_input_names}\n",
    "\n",
    "    with torch.no_grad():\n",
    "        output = model(**inputs)\n",
    "        pred_label = torch.argmax(output.logits, axis=-1)\n",
    "        loss = cross_entropy(output.logits, batch[\"label\"].to(device), \n",
    "                             reduction=\"none\")\n",
    "\n",
    "    # Place outputs on CPU for compatibility with other dataset columns   \n",
    "    return {\"loss\": loss.cpu().numpy(), \n",
    "            \"predicted_label\": pred_label.cpu().numpy()}"
   ],
   "metadata": {
    "collapsed": false,
    "ExecuteTime": {
     "end_time": "2023-08-28T08:40:07.588278300Z",
     "start_time": "2023-08-28T08:40:07.530760300Z"
    }
   },
   "id": "a6650efac9aecdfe"
  },
  {
   "cell_type": "code",
   "execution_count": 52,
   "outputs": [
    {
     "data": {
      "text/plain": "Map:   0%|          | 0/2000 [00:00<?, ? examples/s]",
      "application/vnd.jupyter.widget-view+json": {
       "version_major": 2,
       "version_minor": 0,
       "model_id": "ef2cbbfbf37d432284544b519a367ba6"
      }
     },
     "metadata": {},
     "output_type": "display_data"
    }
   ],
   "source": [
    "#hide_output\n",
    "# Convert our dataset back to PyTorch tensors\n",
    "emotions_encoded.set_format(\"torch\", \n",
    "                            columns=[\"input_ids\", \"attention_mask\", \"label\"])\n",
    "# Compute loss values\n",
    "emotions_encoded[\"validation\"] = emotions_encoded[\"validation\"].map(\n",
    "    forward_pass_with_label, batched=True, batch_size=16)"
   ],
   "metadata": {
    "collapsed": false,
    "ExecuteTime": {
     "end_time": "2023-08-28T08:40:19.149195800Z",
     "start_time": "2023-08-28T08:40:14.980195200Z"
    }
   },
   "id": "32b2e5bd64306b"
  },
  {
   "cell_type": "code",
   "execution_count": 53,
   "outputs": [],
   "source": [
    "emotions_encoded.set_format(\"pandas\")\n",
    "cols = [\"text\", \"label\", \"predicted_label\", \"loss\"]\n",
    "df_test = emotions_encoded[\"validation\"][:][cols]\n",
    "df_test[\"label\"] = df_test[\"label\"].apply(label_int2str)\n",
    "df_test[\"predicted_label\"] = (df_test[\"predicted_label\"]\n",
    "                              .apply(label_int2str))"
   ],
   "metadata": {
    "collapsed": false,
    "ExecuteTime": {
     "end_time": "2023-08-28T08:41:17.979576800Z",
     "start_time": "2023-08-28T08:41:17.832706700Z"
    }
   },
   "id": "1da32973ee53fa0a"
  },
  {
   "cell_type": "code",
   "execution_count": 54,
   "outputs": [
    {
     "data": {
      "text/plain": "                                                   text     label   \n1950  i as representative of everything thats wrong ...  surprise  \\\n882   i feel badly about reneging on my commitment t...      love   \n318   i felt ashamed of these feelings and was scare...      fear   \n1500  i guess we would naturally feel a sense of lon...     anger   \n1963  i called myself pro life and voted for perry w...       joy   \n1111  im lazy my characters fall into categories of ...       joy   \n1801  i feel that he was being overshadowed by the s...      love   \n259   when i noticed two spiders running on the floo...     anger   \n1836  i got a very nasty electrical shock when i was...      fear   \n1509  i guess this is a memoir so it feels like that...       joy   \n\n     predicted_label      loss  \n1950         sadness  7.274113  \n882          sadness  6.957222  \n318          sadness  6.262174  \n1500         sadness  5.797024  \n1963         sadness  5.543522  \n1111            fear  5.316054  \n1801         sadness  4.919235  \n259             fear  4.656619  \n1836           anger  4.614521  \n1509            fear  4.515730  ",
      "text/html": "<div>\n<style scoped>\n    .dataframe tbody tr th:only-of-type {\n        vertical-align: middle;\n    }\n\n    .dataframe tbody tr th {\n        vertical-align: top;\n    }\n\n    .dataframe thead th {\n        text-align: right;\n    }\n</style>\n<table border=\"1\" class=\"dataframe\">\n  <thead>\n    <tr style=\"text-align: right;\">\n      <th></th>\n      <th>text</th>\n      <th>label</th>\n      <th>predicted_label</th>\n      <th>loss</th>\n    </tr>\n  </thead>\n  <tbody>\n    <tr>\n      <th>1950</th>\n      <td>i as representative of everything thats wrong ...</td>\n      <td>surprise</td>\n      <td>sadness</td>\n      <td>7.274113</td>\n    </tr>\n    <tr>\n      <th>882</th>\n      <td>i feel badly about reneging on my commitment t...</td>\n      <td>love</td>\n      <td>sadness</td>\n      <td>6.957222</td>\n    </tr>\n    <tr>\n      <th>318</th>\n      <td>i felt ashamed of these feelings and was scare...</td>\n      <td>fear</td>\n      <td>sadness</td>\n      <td>6.262174</td>\n    </tr>\n    <tr>\n      <th>1500</th>\n      <td>i guess we would naturally feel a sense of lon...</td>\n      <td>anger</td>\n      <td>sadness</td>\n      <td>5.797024</td>\n    </tr>\n    <tr>\n      <th>1963</th>\n      <td>i called myself pro life and voted for perry w...</td>\n      <td>joy</td>\n      <td>sadness</td>\n      <td>5.543522</td>\n    </tr>\n    <tr>\n      <th>1111</th>\n      <td>im lazy my characters fall into categories of ...</td>\n      <td>joy</td>\n      <td>fear</td>\n      <td>5.316054</td>\n    </tr>\n    <tr>\n      <th>1801</th>\n      <td>i feel that he was being overshadowed by the s...</td>\n      <td>love</td>\n      <td>sadness</td>\n      <td>4.919235</td>\n    </tr>\n    <tr>\n      <th>259</th>\n      <td>when i noticed two spiders running on the floo...</td>\n      <td>anger</td>\n      <td>fear</td>\n      <td>4.656619</td>\n    </tr>\n    <tr>\n      <th>1836</th>\n      <td>i got a very nasty electrical shock when i was...</td>\n      <td>fear</td>\n      <td>anger</td>\n      <td>4.614521</td>\n    </tr>\n    <tr>\n      <th>1509</th>\n      <td>i guess this is a memoir so it feels like that...</td>\n      <td>joy</td>\n      <td>fear</td>\n      <td>4.515730</td>\n    </tr>\n  </tbody>\n</table>\n</div>"
     },
     "execution_count": 54,
     "metadata": {},
     "output_type": "execute_result"
    }
   ],
   "source": [
    "df_test.sort_values(\"loss\", ascending=False).head(10)"
   ],
   "metadata": {
    "collapsed": false,
    "ExecuteTime": {
     "end_time": "2023-08-28T08:41:26.224800500Z",
     "start_time": "2023-08-28T08:41:26.176286500Z"
    }
   },
   "id": "9b13fb9aa9ee16f9"
  },
  {
   "cell_type": "code",
   "execution_count": 55,
   "outputs": [
    {
     "data": {
      "text/plain": "                                                   text label predicted_label   \n1873  i feel practically virtuous this month i have ...   joy             joy  \\\n452   i manage to complete the lap not too far behin...   joy             joy   \n632           i feel he is an terrific really worth bet   joy             joy   \n669   i am not feeling very joyful today its been a ...   joy             joy   \n1198  i feel like i should also mention that there w...   joy             joy   \n1205  i log on feeling vaguely sociable and after a ...   joy             joy   \n1561  i came to tv stations for first debut stage i ...   joy             joy   \n1619  i sat in the car and read my book which suited...   joy             joy   \n1101                         im feeling good i increase   joy             joy   \n1263                 i feel this way about blake lively   joy             joy   \n\n          loss  \n1873  0.002051  \n452   0.002118  \n632   0.002179  \n669   0.002199  \n1198  0.002203  \n1205  0.002247  \n1561  0.002256  \n1619  0.002257  \n1101  0.002261  \n1263  0.002272  ",
      "text/html": "<div>\n<style scoped>\n    .dataframe tbody tr th:only-of-type {\n        vertical-align: middle;\n    }\n\n    .dataframe tbody tr th {\n        vertical-align: top;\n    }\n\n    .dataframe thead th {\n        text-align: right;\n    }\n</style>\n<table border=\"1\" class=\"dataframe\">\n  <thead>\n    <tr style=\"text-align: right;\">\n      <th></th>\n      <th>text</th>\n      <th>label</th>\n      <th>predicted_label</th>\n      <th>loss</th>\n    </tr>\n  </thead>\n  <tbody>\n    <tr>\n      <th>1873</th>\n      <td>i feel practically virtuous this month i have ...</td>\n      <td>joy</td>\n      <td>joy</td>\n      <td>0.002051</td>\n    </tr>\n    <tr>\n      <th>452</th>\n      <td>i manage to complete the lap not too far behin...</td>\n      <td>joy</td>\n      <td>joy</td>\n      <td>0.002118</td>\n    </tr>\n    <tr>\n      <th>632</th>\n      <td>i feel he is an terrific really worth bet</td>\n      <td>joy</td>\n      <td>joy</td>\n      <td>0.002179</td>\n    </tr>\n    <tr>\n      <th>669</th>\n      <td>i am not feeling very joyful today its been a ...</td>\n      <td>joy</td>\n      <td>joy</td>\n      <td>0.002199</td>\n    </tr>\n    <tr>\n      <th>1198</th>\n      <td>i feel like i should also mention that there w...</td>\n      <td>joy</td>\n      <td>joy</td>\n      <td>0.002203</td>\n    </tr>\n    <tr>\n      <th>1205</th>\n      <td>i log on feeling vaguely sociable and after a ...</td>\n      <td>joy</td>\n      <td>joy</td>\n      <td>0.002247</td>\n    </tr>\n    <tr>\n      <th>1561</th>\n      <td>i came to tv stations for first debut stage i ...</td>\n      <td>joy</td>\n      <td>joy</td>\n      <td>0.002256</td>\n    </tr>\n    <tr>\n      <th>1619</th>\n      <td>i sat in the car and read my book which suited...</td>\n      <td>joy</td>\n      <td>joy</td>\n      <td>0.002257</td>\n    </tr>\n    <tr>\n      <th>1101</th>\n      <td>im feeling good i increase</td>\n      <td>joy</td>\n      <td>joy</td>\n      <td>0.002261</td>\n    </tr>\n    <tr>\n      <th>1263</th>\n      <td>i feel this way about blake lively</td>\n      <td>joy</td>\n      <td>joy</td>\n      <td>0.002272</td>\n    </tr>\n  </tbody>\n</table>\n</div>"
     },
     "execution_count": 55,
     "metadata": {},
     "output_type": "execute_result"
    }
   ],
   "source": [
    "df_test.sort_values(\"loss\", ascending=True).head(10)"
   ],
   "metadata": {
    "collapsed": false,
    "ExecuteTime": {
     "end_time": "2023-08-28T08:41:37.337519600Z",
     "start_time": "2023-08-28T08:41:37.282519800Z"
    }
   },
   "id": "3e35304662f12247"
  },
  {
   "cell_type": "markdown",
   "source": [
    "Дальше остается сохранить модель и использовать ее уже где-то в API."
   ],
   "metadata": {
    "collapsed": false
   },
   "id": "113a75be9f711c3"
  },
  {
   "cell_type": "code",
   "execution_count": null,
   "outputs": [],
   "source": [],
   "metadata": {
    "collapsed": false
   },
   "id": "a47409cb23efdc46"
  }
 ],
 "metadata": {
  "kernelspec": {
   "display_name": "Python 3",
   "language": "python",
   "name": "python3"
  },
  "language_info": {
   "codemirror_mode": {
    "name": "ipython",
    "version": 2
   },
   "file_extension": ".py",
   "mimetype": "text/x-python",
   "name": "python",
   "nbconvert_exporter": "python",
   "pygments_lexer": "ipython2",
   "version": "2.7.6"
  }
 },
 "nbformat": 4,
 "nbformat_minor": 5
}
