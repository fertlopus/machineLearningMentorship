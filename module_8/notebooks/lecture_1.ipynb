{
 "cells": [
  {
   "cell_type": "markdown",
   "metadata": {},
   "source": [
    "<p align=\"center\">\n",
    "\n",
    "# <center> <h2> Лекция 1. Введение в обработку изображений и компьютерное зрение. Базовая теория машинного зрения. </center> \n",
    "\n",
    "</p>"
   ]
  },
  {
   "cell_type": "markdown",
   "metadata": {},
   "source": [
    "#### Что включает в себя обработка изображений и направление CV:\n",
    "\n",
    "1. __Примененение фильтров для обработки изображений (Filters and Denoising):__\n",
    "Если у нас есть некое исходное шумное изображение, то мы можем применить некие фильтры для того чтобы уменьшить шум или удалить шум с исходного изображения.\n",
    "<br>\n",
    "</br>\n",
    "\n",
    "![](./../src/imgs/img_denoising.png)\n",
    "\n",
    "<br>\n",
    "</br>\n",
    "\n",
    "2. __Детектор граней и задача сегментации изображения (Edge Detection and Segmentation):__\n",
    "То есть, чтобы понять что происходит на изображении нам необходимо найти границы объектов, сегментировать изображение и построить некий вывод о происходящем на изображении.\n",
    "<br>\n",
    "</br>\n",
    "\n",
    "![](./../src/imgs/edge_detection_segmentation.jpg)\n",
    "<br>\n",
    "</br>\n",
    "\n",
    "Простой подход в решении детекции граней - это:\n",
    "* Фильтр Собеля, который использует ядра Собеля для вычисления приближенных градиентов яркости по вертикали и горизонтали изображения\n",
    "* Фильтр Кэнни, многоэтапный алгоритм, который сначала сглаживает изображение Гауссовским фильтром (Gaussian Blurr), а затем пытается найти края изображения\n",
    "\n",
    "<br>\n",
    "</br>\n",
    "\n",
    "3. __Любимая нами классификация изображений, которую мы рассмотрели на модуле по нейросетям__  (Image Classification).\n",
    "<br>\n",
    "</br>\n",
    "\n",
    "4. __Распознование изображений или Object Detection:__\n",
    "<br>\n",
    "</br>\n",
    "\n",
    "![](./../src/imgs/OD.png)\n",
    "\n",
    "<br>\n",
    "</br>\n",
    "\n",
    "5. __Object Localization или Локализация Объектов изображения__:\n",
    "<br>\n",
    "</br>\n",
    "\n",
    "![](./../src/imgs/OL.png)\n",
    "\n",
    "<br>\n",
    "</br>\n",
    "\n",
    "6. __Object Tracking или когда нам необходимо не только задетектить объект в поле зрения камеры/видеоустройства, но и прописать весь путь движения данного объекта на видеопотоке.__\n",
    "\n",
    "<br>\n",
    "</br>\n",
    "\n",
    "7. __Pose Estimation:__\n",
    "\n",
    "<br>\n",
    "</br>\n",
    "\n",
    "![](./../src/imgs/pose.png)\n",
    "\n",
    "<br>\n",
    "</br>\n",
    "\n",
    "8. __3D Scene Detection and Reconstruction:__\n",
    "\n",
    "<br>\n",
    "</br>\n",
    "\n",
    "![](./../src/imgs/3D.png)\n",
    "\n",
    "<br>\n",
    "</br>\n",
    "\n",
    "9. __Image Captioning или генерация описания происходящего на изображении действий__:\n",
    "<br>\n",
    "</br>\n",
    "\n",
    "![](./../src/imgs/img_captioning.png)\n",
    "\n",
    "<br>\n",
    "</br>\n",
    "\n",
    "10. __Генерация изображений и DeepFake механизмы:__\n",
    "<br>\n",
    "</br>\n",
    "\n",
    "![](./../src/imgs/generative.png)\n",
    "\n",
    "<br>\n",
    "</br>\n",
    "\n",
    "\n",
    "Как правило направления носят условные разделения, в настоящее время нет единственного верного разделения, так как на практике чаще всего вы будете решать комбинацию подходов (направлений) в вашей задаче. Например описание изображения и классификация объектов на изображении (видео), поиск аномальных действий в видеопотоке, генерация и анимация или 3D реконструкция и так далее."
   ]
  },
  {
   "cell_type": "markdown",
   "metadata": {},
   "source": [
    "### План на сегодня:\n",
    "1. Еще раз повторим цифровое представление изображений.\n",
    "2. Поговорим про растровые форматы и сжатие.\n",
    "3. Применим преобразование изображений с помощью различных линейных фильтров.\n",
    "4. Рассмотрим нелинейные фильтры для обработки изображения.\n",
    "5. Поговорим о прочих способах обработки изображения.\n",
    "\n",
    "\n",
    "В целом, что мы изучим в данному модуле:\n",
    "- Object detection и multi-object detection \n",
    "- Segmentation с использованием R-CNN, SSD, Yolo, U-net, Masked-RCNN\n",
    "- Yolo framework\n",
    "- Detectron2 framework\n",
    "- OpenCV library\n",
    "- VAE, Pix2Pix, Style Transfer\n",
    "- Скрестим подходы NLP и CV для решения задач OCR, Image Captionin"
   ]
  },
  {
   "cell_type": "markdown",
   "metadata": {},
   "source": [
    "## 1.1 Цифровое представление изображений:\n",
    "----"
   ]
  },
  {
   "cell_type": "markdown",
   "metadata": {},
   "source": [
    "__Растровое изображение (Растр):__\n",
    "- описание изображения на уровне точек, так называемых пикселей. Простыми словами изображение - это некая матрица (тензор) точек, где каждая точка - интенсивность цветового канала в случае RGB формата.\n",
    "- размер изображения ограничен количеством пикселей.\n",
    "\n",
    "__Векторное изображение (Вектор):__\n",
    "- описание изображения на уровне фигур и их свойств. Более семантически богатое представление, где мы уже оперируем формой объектов на изображении и мы можем деформировать изображение как нам угодно без потери качества и добавления шумов.\n",
    "- размер изображения может быть произвольным.\n",
    "\n",
    "\n",
    "![](./../src/imgs/rastervsvector.png)\n",
    "\n",
    "\n",
    "В классическом подходе к обработке изображений нам интересен будет формат растрового изображения, так как основные алгоритмы разрабатывались именно для такого типа и формата изображений.\n",
    "\n",
    "\n",
    "\n",
    "Какие характеристики существуют у изображения:\n",
    "\n",
    "1. __Разрешение Изображения (Image Resolution):__\n",
    "\n",
    "Что такое разрешение - это количество точек на дюйм изображения (параметр PPI или DPI):\n",
    "\n",
    "![](./../src/imgs/ppi.png)\n",
    "\n",
    "2. __Каналы (Channels) и динамический диапазон (dynamic range):__\n",
    "- Каждый пиксель изображения кодируется одним или несколькими значениями (каналами / channels).\n",
    "- Стандартный диапазон значений в каждом канале - 0...255, что равняется одному байту или 8 бит информации\n",
    "\n",
    "![](./../src/imgs/channels.png)\n",
    "\n",
    "3. __Формат и кодирование цвета:__:\n",
    "\n",
    "- __RGB__ - Red, Green, Blue - наиоблее распространенное представление цветного изображения. Выбор основных цветов обусловлен восприятием цвета сетчаткой человеческого глаза. Всего как вы уже знаете 3 канала.\n",
    "\n",
    "![](./../src/imgs/rgb.png)\n",
    "\n",
    "\n",
    "- __CMYK__ - Cyan, Magenta, Yellow, Black - вариант цветовой схемы с 4-мя каналами. В основном используется в полиграфии/типографии. Цветовой охват меньше в сравнении с RGB.\n",
    "\n",
    "![](./../src/imgs/rgbvscmyk.png)\n",
    "\n",
    "- __HSV__ - Hue-Saturation-Value - формат конусного кодирования цвета. Hue - цветовой тон, Saturation - насыщенность цвета, а Value - интенсивность цвета.\n",
    "\n",
    "![](./../src/imgs/hsv.png)\n",
    "\n",
    "\n",
    "__Как перевести из RGB --> HSV:__\n",
    "\n",
    "![](./../src/imgs/rgb_to_hsv.png)\n",
    "\n",
    "- __HSL__ - Hue-Saturation-Lightness - формат хранения, где вместо значения задается кодировка \"яркости\" цвета."
   ]
  },
  {
   "cell_type": "markdown",
   "metadata": {},
   "source": [
    "### Практика. Давайте посмотрим как читать изображение и проводить различные манипуляции с ним:"
   ]
  },
  {
   "cell_type": "markdown",
   "metadata": {},
   "source": [
    "На протяжении всего модуля мы будем работать с фреймворком для работы с изображениями __OpenCV__. Установите его в проект командой:\n",
    "\n",
    "```\n",
    "pip install opencv-python\n",
    "```"
   ]
  },
  {
   "cell_type": "markdown",
   "metadata": {},
   "source": [
    "#### Загрузка изображения из файла:"
   ]
  },
  {
   "cell_type": "code",
   "execution_count": 60,
   "metadata": {
    "pycharm": {
     "is_executing": true
    }
   },
   "outputs": [],
   "source": [
    "import cv2\n",
    "\n",
    "img = cv2.imread('./../data/lena.png')\n",
    "\n",
    "print('type: ', type(img))\n",
    "print('shape: ', img.shape)"
   ]
  },
  {
   "cell_type": "markdown",
   "metadata": {},
   "source": [
    "#### Визуализация в matplotlib:"
   ]
  },
  {
   "cell_type": "code",
   "execution_count": 61,
   "metadata": {
    "pycharm": {
     "is_executing": true
    }
   },
   "outputs": [],
   "source": [
    "%matplotlib inline\n",
    "from matplotlib import pyplot as plt\n",
    "plt.imshow(img)"
   ]
  },
  {
   "cell_type": "code",
   "execution_count": 62,
   "metadata": {
    "pycharm": {
     "is_executing": true
    }
   },
   "outputs": [],
   "source": [
    "# изменяем порядок каналов для визуализации (b, g, r) -> (r, g, b)\n",
    "# plt.imshow(img[:,:, ::-1])\n",
    "b, g, r = cv2.split(img)\n",
    "plt.imshow(cv2.merge([r, g, b]))"
   ]
  },
  {
   "cell_type": "code",
   "execution_count": 63,
   "metadata": {
    "pycharm": {
     "is_executing": true
    }
   },
   "outputs": [],
   "source": [
    "b,g,r = cv2.split(img)           # get b, g, r\n",
    "rgb_img1 = cv2.merge([r,g,b])\n",
    "plt.imshow(img, cmap='gray')"
   ]
  },
  {
   "cell_type": "code",
   "execution_count": 64,
   "metadata": {},
   "outputs": [],
   "source": [
    "cv2.imshow(\"img\", img)\n",
    "cv2.waitKey(0)\n",
    "cv2.destroyAllWindows()"
   ]
  },
  {
   "cell_type": "markdown",
   "metadata": {},
   "source": [
    "### Переходим в пространство цветов HSV"
   ]
  },
  {
   "cell_type": "code",
   "execution_count": 65,
   "metadata": {},
   "outputs": [],
   "source": [
    "img_hsv = cv2.cvtColor(img, cv2.COLOR_RGB2HSV) # cv2.COLOR_BGR2RGB"
   ]
  },
  {
   "cell_type": "code",
   "execution_count": 66,
   "metadata": {
    "pycharm": {
     "is_executing": true
    }
   },
   "outputs": [],
   "source": [
    "plt.figure(1, figsize = (16, 4))\n",
    "\n",
    "plt.subplot(141)\n",
    "plt.imshow(img[:,:,::-1])\n",
    "\n",
    "plt.subplot(142)\n",
    "plt.imshow(img_hsv[:,:,0], cmap = 'gray')\n",
    "plt.title('Hue')\n",
    "\n",
    "plt.subplot(143)\n",
    "plt.imshow(img_hsv[:,:,1], cmap = 'gray')\n",
    "plt.title('Saturation')\n",
    "\n",
    "plt.subplot(144)\n",
    "plt.imshow(img_hsv[:,:,2], cmap = 'gray')\n",
    "plt.title('Value');"
   ]
  },
  {
   "cell_type": "markdown",
   "metadata": {},
   "source": [
    "# 1.2 Растровые форматы. Сжатие:\n",
    "----\n",
    "\n",
    "Никто не хранит изображения в исходном формате, то есть все те матрицы, которые были прочитаны. Это неэффективно, так как очень много места занимает на жестком диске.\n",
    "\n",
    "Сжатие изображений:\n",
    "- Матричное представление RGV требовательно к ресурсам памяти устройства\n",
    "- Каждый пиксель занимает 3х8bit = 24 bit памяти\n",
    "- Изображение 1024х768 будет занимать 2.4Mb памяти устройства\n",
    "\n",
    "Поэтому:\n",
    "- Представление изображения в виде матриц RGB как правило содержит избыточную информацию\n",
    "- Сжатие изображений осуществляется за счет уменьшения объема избыточной информации\n",
    "\n",
    "Алгоритмы сжатия:\n",
    "- __Сжатие с потерями__ - восстановленное после сжатия изображение может отличаться от исходного\n",
    "- __Сжатие без потерь__ - гарантируется что восстановленное после сжатия изображение будет совпадать с иходным\n",
    "\n",
    "\n",
    "Самый популярный формат для сжатия изображений __JPEG__:\n",
    "\n",
    "Алгоритмы сжатия:\n",
    "\n",
    "\n",
    "__JPEG - Joint Photographic Experts Group.__\n",
    "- сжатие с потерями - восстановленное изображение не является точной копией исходного.\n",
    "- уровень сжатия является параметром алгоритма\n",
    "- ориентировочный коэффициент сжатия цветного изображения: 10к1 или 20к1.\n",
    "- использует особенность восприятия изображения человеческим глазом, связанную с большей чувствительностью к изменению яркости пикселей и меньшей чувствительностью к небольшому изменению цвета.\n",
    "\n",
    "\n",
    "__PNG - Portable Network Graphic.__\n",
    "- Сжатие без потерь.\n",
    "- Палитра цветов изображения хранятся в таблице.\n",
    "- Для каждого пикселя указывается индекс цвета из палитры.\n",
    "- Ориентировочный коэффициент сжатия цветного изображения 2.5к1.\n",
    "\n"
   ]
  },
  {
   "cell_type": "markdown",
   "metadata": {},
   "source": [
    "# 1.3 Преобразование изображений с помощью фильтров.\n",
    "----"
   ]
  },
  {
   "cell_type": "markdown",
   "metadata": {},
   "source": [
    "Фильтрация изображений:\n",
    "* Свертка\n",
    "* Размытие (Blur)\n",
    "* Выделение границ изображения (Sharpen)\n",
    "* Удаление шума (Denoising)\n",
    "* Увеличение глубины канала\n",
    "* Уменьшение глубины канала\n"
   ]
  },
  {
   "cell_type": "markdown",
   "metadata": {},
   "source": [
    "### Свертка (Convolution):\n",
    "\n",
    "![](./../src/imgs/convolution.png)\n",
    "\n",
    "Пример работы фильтра: Идентичное изображение.\n",
    "\n",
    "![](./../src/imgs/identicalfilter.png)\n",
    "\n",
    "\n",
    "Пример работы фильтра: Смещение.\n",
    "\n",
    "![](./../src/imgs/shifting.png)\n",
    "\n",
    "Пример работы фильтра: Размытие.\n",
    "\n",
    "![](./../src/imgs/blurring.png)\n",
    "\n",
    "Пример работы фильтра: выделение границ изображения (sharpening).\n",
    "\n",
    "![](./../src/imgs/sharpen.png)\n",
    "\n",
    "Пример работы фильра: фильтр Гаусса (Gaussian Blur, Gaussian Smoothing):\n",
    "\n",
    "![](./../src/imgs/gaussbl.png)\n",
    "\n",
    "Пример работы фильтра: оператор Лапласа - выделение границ:\n",
    "\n",
    "![](./../src/imgs/laplace.png)\n",
    "\n",
    "Для выделения границ существует еще оператор Собеля, где реализованы 2 отдельных фильтра для X координат и Y координат изображения, применяется в OCR (Optical Character Recognition)."
   ]
  },
  {
   "cell_type": "markdown",
   "metadata": {},
   "source": [
    "# Фильтрация изображений. Практическая реализация:"
   ]
  },
  {
   "cell_type": "code",
   "execution_count": 67,
   "metadata": {
    "pycharm": {
     "is_executing": true
    }
   },
   "outputs": [],
   "source": [
    "# Загружаем и выводим тестовое изображение\n",
    "import cv2\n",
    "import numpy as np\n",
    "\n",
    "img = cv2.imread('./../data/lena.png')\n",
    "\n",
    "print('type: ', type(img))\n",
    "print('shape: ', img.shape)"
   ]
  },
  {
   "cell_type": "code",
   "execution_count": 68,
   "metadata": {
    "pycharm": {
     "is_executing": true
    }
   },
   "outputs": [],
   "source": [
    "%matplotlib inline\n",
    "from matplotlib import pyplot as plt\n",
    "\n",
    "plt.imshow(img[:,:, ::-1])\n",
    "plt.title('Размер изображения: %dx%dx%d' % img.shape)"
   ]
  },
  {
   "cell_type": "markdown",
   "metadata": {},
   "source": [
    "## Функции создания ядер"
   ]
  },
  {
   "cell_type": "code",
   "execution_count": 69,
   "metadata": {},
   "outputs": [],
   "source": [
    "def gauss_kernel(ksize = 5, sigma = 2.5):\n",
    "    \"\"\" Возвращает гауссовское ядро размера ksize и дисперсией sigma \"\"\"\n",
    "    # ksize - размер ядра\n",
    "    # sigma - дисперсия (ширина фильтра)\n",
    "    ax = np.arange(-ksize // 2 + 1., ksize // 2 + 1.)\n",
    "    xx, yy = np.meshgrid(ax, ax)\n",
    "    e = np.float32((xx**2 + yy**2) / (2. * sigma**2))\n",
    "    kernel = 1. / (sigma * np.sqrt(2. * np.pi)) * np.exp(-e)\n",
    "    return kernel / np.sum(kernel)\n",
    "\n",
    "\n",
    "def laplace_kernel(ksize = 5, sigma = 2.5):\n",
    "    \"\"\" Возвращает ядро Лапласа размера ksize и дисперсией sigma \"\"\"\n",
    "    # ksize - размер ядра\n",
    "    # sigma - дисперсия (ширина фильтра)\n",
    "    ax = np.arange(-ksize // 2 + 1., ksize // 2 + 1.)\n",
    "    xx, yy = np.meshgrid(ax, ax)\n",
    "    e = np.float32((xx**2 + yy**2) / (2. * sigma**2))\n",
    "    kernel = 1. / (np.pi * sigma**4) * (1. - e) * np.exp(-e)\n",
    "    return kernel / np.sum(kernel)"
   ]
  },
  {
   "cell_type": "code",
   "execution_count": 70,
   "metadata": {},
   "outputs": [],
   "source": [
    "kernels = {'gauss': gauss_kernel,\n",
    "           'laplace': laplace_kernel}"
   ]
  },
  {
   "cell_type": "markdown",
   "metadata": {},
   "source": [
    "## Визуализация ядер\n",
    "\n",
    "```\n",
    "# pip install ipywidgets\n",
    "# jupyter nbextension enable –py widgetsnbextension\n",
    "```"
   ]
  },
  {
   "cell_type": "code",
   "execution_count": 71,
   "metadata": {},
   "outputs": [],
   "source": [
    "import matplotlib.pyplot as plt\n",
    "from mpl_toolkits.mplot3d import Axes3D\n",
    "\n",
    "def show_kernel(kernel_type, ksize, sigma):\n",
    "    kernel = kernels[kernel_type](ksize, sigma)\n",
    "    r = np.arange(-ksize // 2 + 1., ksize // 2 + 1.)\n",
    "    xx, yy = np.meshgrid(r, r)\n",
    "    fig = plt.figure(figsize=(10, 8))\n",
    "    ax = fig.add_subplot(111, projection='3d')\n",
    "    ax.plot_surface(xx, yy, kernel,\n",
    "                    cmap=plt.cm.coolwarm,\n",
    "                    linewidth=0, antialiased=True)\n",
    "    plt.title('%s ksize=%s sigma=%.3f' % (kernel_type, ksize, sigma))\n",
    "    return plt.show();"
   ]
  },
  {
   "cell_type": "code",
   "execution_count": 72,
   "metadata": {
    "pycharm": {
     "is_executing": true
    }
   },
   "outputs": [],
   "source": [
    "from ipywidgets import interact\n",
    "\n",
    "interact(show_kernel,\n",
    "         kernel_type = kernels.keys(),\n",
    "         ksize = (1, 20, 1),\n",
    "         sigma = (1e-3, 10, 0.1));"
   ]
  },
  {
   "cell_type": "markdown",
   "metadata": {},
   "source": [
    "## Фильтрация изображения"
   ]
  },
  {
   "cell_type": "code",
   "execution_count": 73,
   "metadata": {},
   "outputs": [],
   "source": [
    "def filter_img(kernel_type, ksize = 5, sigma = 2.5):\n",
    "    kernel = kernels[kernel_type](ksize, sigma)\n",
    "    result = cv2.filter2D(img, cv2.CV_32F, kernel)\n",
    "    fig = plt.figure(figsize=(12, 8))\n",
    "    ax = fig.add_subplot(111)\n",
    "    ax.imshow(np.uint8(result[...,::-1]))\n",
    "    plt.title('%s ksize=%s sigma=%.3f' % (kernel_type, ksize, sigma))\n",
    "    return plt.show()"
   ]
  },
  {
   "cell_type": "code",
   "execution_count": 74,
   "metadata": {
    "pycharm": {
     "is_executing": true
    }
   },
   "outputs": [],
   "source": [
    "interact(filter_img,\n",
    "         kernel_type = kernels.keys(),\n",
    "         ksize = (1, 20, 1),\n",
    "         sigma = (1e-3, 10, 0.1));"
   ]
  },
  {
   "cell_type": "markdown",
   "metadata": {},
   "source": [
    "## Медианный фильтр"
   ]
  },
  {
   "cell_type": "code",
   "execution_count": 75,
   "metadata": {
    "pycharm": {
     "is_executing": true
    }
   },
   "outputs": [],
   "source": [
    "import cv2\n",
    "import numpy as np\n",
    "\n",
    "img = cv2.imread('./../data/lena.png')\n",
    "median = cv2.medianBlur(img, 5)\n",
    "compare = np.concatenate((img, median), axis=1) #side by side comparison\n",
    "\n",
    "cv2.imshow('img', compare)\n",
    "cv2.waitKey(0)\n",
    "cv2.destroyAllWindows()"
   ]
  },
  {
   "cell_type": "code",
   "execution_count": 76,
   "metadata": {},
   "outputs": [],
   "source": [
    "# Вариант гауссовского размытия\n",
    "median = cv2.medianBlur(img, 5)\n",
    "gauss = cv2.GaussianBlur(img, (5,5), 0)\n",
    "\n",
    "images = np.concatenate((median, gauss), axis=1)\n",
    "\n",
    "cv2.imshow('img', images)\n",
    "cv2.waitKey(0)\n",
    "cv2.destroyAllWindows()"
   ]
  },
  {
   "cell_type": "markdown",
   "metadata": {},
   "source": [
    "## Оператор Собеля\n",
    "\n",
    "Использует два ядра разменостью 3х3, одно из которых обнаруживает границы по горизонтали, а другое по вертикали. Эти ядра обычно константные и выглядят следющим образом:\n",
    "\n",
    "\n",
    "#### $K_x = \\begin{bmatrix}\n",
    "-1 & 0 & 1\\\\\n",
    "-2 & 0 & 2\\\\\n",
    "-1 & 0 & 1\n",
    "\\end{bmatrix}$ \n",
    "\n",
    "#### $K_y = \\begin{bmatrix}\n",
    "-1 & -2 & -1\\\\\n",
    "0& 0 & 0\\\\\n",
    "1 & 2 & 1\n",
    "\\end{bmatrix}$ \n",
    "\n",
    "При помощи этих ядер мы вычисляем приближенные значения градиентов по осям х и у: \n",
    "\n",
    "#### $G_x = \\sum_{i=-1}^{1} \\sum_{j=-1}^{i} K_x [i,j] * I[x+i, y+j]$\n",
    "\n",
    "#### $G_y = \\sum_{i=-1}^{1} \\sum_{j=-1}^{i} K_y [i,j] * I[x+i, y+j]$"
   ]
  },
  {
   "cell_type": "code",
   "execution_count": 77,
   "metadata": {},
   "outputs": [],
   "source": [
    "import cv2\n",
    "import numpy as np\n",
    "\n",
    "img = cv2.imread('./../data/lena.png')\n",
    "img_gray = cv2.cvtColor(img, cv2.COLOR_BGR2GRAY)"
   ]
  },
  {
   "cell_type": "code",
   "execution_count": 78,
   "metadata": {
    "pycharm": {
     "is_executing": true
    }
   },
   "outputs": [],
   "source": [
    "%matplotlib inline\n",
    "from matplotlib import pyplot as plt\n",
    "plt.imshow(img_gray, cmap='gray')"
   ]
  },
  {
   "cell_type": "markdown",
   "metadata": {},
   "source": [
    "## Оператор собеля для вычисления X и Y составляющих градиента"
   ]
  },
  {
   "cell_type": "code",
   "execution_count": 79,
   "metadata": {},
   "outputs": [],
   "source": [
    "sobel_x = np.array([[-1, 0, 1],\n",
    "                    [-2, 0, 2],\n",
    "                    [-1, 0, 1]])\n",
    "\n",
    "sobel_y = np.array([[-1, -2, -1],\n",
    "                    [ 0,  0,  0],\n",
    "                    [ 1,  2,  1]])"
   ]
  },
  {
   "cell_type": "markdown",
   "metadata": {},
   "source": [
    "## Вычисляем градиенты по осям"
   ]
  },
  {
   "cell_type": "code",
   "execution_count": 80,
   "metadata": {},
   "outputs": [],
   "source": [
    "grad_x = cv2.filter2D(img_gray, cv2.CV_8U, sobel_x)\n",
    "grad_y = cv2.filter2D(img_gray, cv2.CV_8U, sobel_y)"
   ]
  },
  {
   "cell_type": "code",
   "execution_count": 81,
   "metadata": {
    "pycharm": {
     "is_executing": true
    }
   },
   "outputs": [],
   "source": [
    "plt.figure(2, figsize=(12, 8))\n",
    "plt.subplot(121)\n",
    "plt.imshow(grad_x, cmap='gray')\n",
    "plt.title('Grad X')\n",
    "plt.subplot(122)\n",
    "plt.imshow(grad_y, cmap='gray')\n",
    "plt.title('Grad Y');"
   ]
  },
  {
   "cell_type": "markdown",
   "metadata": {},
   "source": [
    "## Вычисляем суммарный градиент"
   ]
  },
  {
   "cell_type": "code",
   "execution_count": 82,
   "metadata": {},
   "outputs": [],
   "source": [
    "grad = np.sqrt(grad_x ** 2 + grad_y ** 2)"
   ]
  },
  {
   "cell_type": "code",
   "execution_count": 83,
   "metadata": {
    "pycharm": {
     "is_executing": true
    }
   },
   "outputs": [],
   "source": [
    "plt.figure(2, figsize=(12, 8))\n",
    "plt.subplot(121)\n",
    "plt.imshow(img_gray, cmap='gray')\n",
    "plt.subplot(122)\n",
    "plt.imshow(grad, cmap='gray')"
   ]
  },
  {
   "cell_type": "markdown",
   "metadata": {},
   "source": [
    "## Сепарабельные фильтры (separable):\n",
    "\n",
    "* Сложность работы фильтра - $K^2$ на каждый пиксель изображения, где K - размер ядра.\n",
    "* Сложность можно сократить до 2К, в случае если ядро фильтра можно представить в виде разложения на вертикальную и горизонтальную составляющие: $K = vh^T$\n",
    "\n",
    "![](./../src/imgs/separable.png)\n",
    "\n",
    "\n",
    "```\n",
    "cv2.sepFilter2D(src, ddepth, kernelX, kernelY) -> dst\n",
    "```\n",
    "- src - исходное изображение\n",
    "- ddepth - тип данных выходного изображения\n",
    "- kernelX - горизонтальная компонента ядра\n",
    "- kernelY - вертикальная компонента ядра"
   ]
  },
  {
   "cell_type": "code",
   "execution_count": 84,
   "metadata": {},
   "outputs": [],
   "source": [
    "img = cv2.imread('./../data/lena.png', 0)\n",
    "\n",
    "\n",
    "kernel_x = np.array([[1], [0], [-1]])\n",
    "kernel_y = np.array([[1, 0, -1]])\n",
    "\n",
    "dst = cv2.sepFilter2D(img, -1, kernel_x, kernel_y)\n",
    "\n",
    "cv2.imshow('Result', dst)\n",
    "cv2.waitKey(0)\n",
    "cv2.destroyAllWindows()"
   ]
  },
  {
   "cell_type": "markdown",
   "metadata": {},
   "source": [
    "# 1.4 Прочие способы обработки изображений:\n",
    "----\n",
    "\n",
    "### Бинарные изображения:\n",
    "\n",
    "![](./../src/imgs/binarization.png)\n",
    "\n",
    "На каком основании происходит бинаризация изображения:\n",
    "\n",
    "![](./../src/imgs/binarisationthreshold.png)\n",
    "\n",
    "OpenCV:\n",
    "\n",
    "```\n",
    "cv2.threshold(image, 127, 255, cv2.THRESH_BINARY)\n",
    "cv2.adaptiveThreshold(image, 255, cv2.ADAPTIVE_THRESH_MEAN_C, cv2.THRESH_BINARY, 11, 2)\n",
    "cv2.threshold(image, 0, 255, cv2.THRESH_BINARY + cv2.THRESH_OTSU)\n",
    "```\n",
    "\n",
    "### Морфологические преобразования:\n",
    "\n",
    "![](./../src/imgs/morphs.png)\n",
    "\n",
    "\n",
    "```\n",
    "import cv2\n",
    "import numpy as np\n",
    "\n",
    "image = cv2.imread('image path', 0)\n",
    "kernel = np.ones((5,5), np.uint8)\n",
    "\n",
    "opening = cv2.morphologyEx(image, cv2.MORPH_OPEN, kernel)\n",
    "```\n",
    "\n",
    "### Distance Transform:\n",
    "\n",
    "![](./../src/imgs/distanceTransform.png)"
   ]
  },
  {
   "cell_type": "markdown",
   "metadata": {},
   "source": [
    "### Практика:\n",
    "Возьмите любую картинку, прочитайте ее в формате RGB и :\n",
    "\n",
    "1. Примените смещение изображения фильтром.\n",
    "2. Примените размытие изображения фильром.\n",
    "3. Примените фильтр лапласа.\n",
    "4. Примените опреатор Собеля."
   ]
  },
  {
   "cell_type": "code",
   "execution_count": 84,
   "metadata": {},
   "outputs": [],
   "source": []
  },
  {
   "cell_type": "markdown",
   "metadata": {},
   "source": [
    "# Резюме:\n",
    "\n",
    "* Рассмотрели изображения в цифровом формате\n",
    "* Варианты сжатия\n",
    "* Форматы и представления изображения\n",
    "* Обсудили фильтры"
   ]
  },
  {
   "cell_type": "markdown",
   "metadata": {},
   "source": [
    "# Полезные Материалы:"
   ]
  },
  {
   "cell_type": "markdown",
   "metadata": {},
   "source": [
    "1. [Документация и туториалы по OpenCV](https://docs.opencv.org/4.x/d6/d00/tutorial_py_root.html)\n",
    "2. [Применение фильтров к изображениям](https://python.plainenglish.io/image-filtering-and-editing-in-python-with-code-e878d2a4415d)\n",
    "3. [Обработка изображений в Python Часть 1](https://realpython.com/image-processing-with-the-python-pillow-library/)\n",
    "4. [Обработка изображений в Python Часть 2](https://realpython.com/storing-images-in-python/)"
   ]
  }
 ],
 "metadata": {
  "kernelspec": {
   "display_name": "Python 3 (ipykernel)",
   "language": "python",
   "name": "python3"
  },
  "language_info": {
   "codemirror_mode": {
    "name": "ipython",
    "version": 3
   },
   "file_extension": ".py",
   "mimetype": "text/x-python",
   "name": "python",
   "nbconvert_exporter": "python",
   "pygments_lexer": "ipython3",
   "version": "3.11.2"
  }
 },
 "nbformat": 4,
 "nbformat_minor": 1
}
