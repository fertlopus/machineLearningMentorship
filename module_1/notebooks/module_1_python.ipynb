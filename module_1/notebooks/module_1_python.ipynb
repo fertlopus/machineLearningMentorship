{
 "cells": [
  {
   "cell_type": "markdown",
   "source": [
    "# Jupyter Notebook\n",
    "\n",
    "Shift + Enter - выполнить код в текущей ячейке и перейти на следующую\n",
    "Ctrl  + Enter - выполнить код в текущей ячейке и остаться на ней"
   ],
   "metadata": {
    "collapsed": false
   }
  },
  {
   "cell_type": "markdown",
   "source": [
    "# Python Basic Data Types\n",
    "\n",
    "<br>\n",
    "\n",
    "| Type    | Example  |\n",
    "|---------|----------|\n",
    "| int     | 1, 2, 3  |\n",
    "| float   | 2.1, 3.1 |\n",
    "| str     | Text     |\n",
    "| bool    | True     |\n",
    "| complex | 1 + 3j   |"
   ],
   "metadata": {
    "collapsed": false
   }
  },
  {
   "cell_type": "code",
   "execution_count": null,
   "outputs": [],
   "source": [
    "integer = 2\n",
    "floating_point = 2.5\n",
    "string_literal = \"I am string literal\"\n",
    "boolean = False\n",
    "print(\"\"\" Data Types:\n",
    "{}\n",
    "{}\n",
    "{}\n",
    "{}\n",
    "\"\"\".format(type(integer), type(floating_point), type(string_literal), type(boolean)))"
   ],
   "metadata": {
    "collapsed": false
   }
  },
  {
   "cell_type": "markdown",
   "source": [
    "\n",
    "# Strings\n",
    "Строка - это последовательность символов.\n",
    "Свойства строк:\n",
    "- Можно применять некоторые арифметические операции\n",
    "- Поддерживают индексацию\n",
    "- У строк существует огромное количество методов (например find, split)\n",
    "\n",
    "\n",
    "Операции со строками:\n",
    "1. Конкатенация (объединение) строк при помощи +\n",
    "2. Умножение строки на число позволит повторить её нужное количество раз\n",
    "3. **.upper()** приводит строку к верхнему регистру\n",
    "4. **.lower()** приводит строку к нижнему регистру\n",
    "5. **.capitalize()** приводит первую букву строки к верхнему регистру\n",
    "6. **.replace('что заменяем', 'на что заменяем')** заменяет элемент строки на указанный\n",
    "7. **len(my_string)** определение длины строки (количество символов в ней)."
   ],
   "metadata": {
    "collapsed": false
   }
  },
  {
   "cell_type": "code",
   "execution_count": null,
   "outputs": [],
   "source": [
    "# String data type - последовательность знаков.\n",
    "print(\"I am string\")\n",
    "print('I am string')\n",
    "print(type(\"I am string\"))\n",
    "print(\"\"\"\n",
    "Text\n",
    "Text text text\n",
    "\"\"\")"
   ],
   "metadata": {
    "collapsed": false
   }
  },
  {
   "cell_type": "code",
   "execution_count": null,
   "outputs": [],
   "source": [
    "# Строки поддерживают индексацию\n",
    "string_literal = \"I am string literal\"\n",
    "print(string_literal[5:11])   # [start:end]\n",
    "print(string_literal[5:11:3]) # [start:end:step]\n",
    "print(string_literal[5:])     # [start: ]\n",
    "print(string_literal[:4])     # [: end]\n",
    "print(string_literal[-1])"
   ],
   "metadata": {
    "collapsed": false
   }
  },
  {
   "cell_type": "code",
   "execution_count": null,
   "outputs": [],
   "source": [
    "# Методы для строк\n",
    "print(\"Len(): \", len(string_literal))\n",
    "print(\"Find character 's' index: \", string_literal.find('s'))\n",
    "print(\"Capitalisation: \", string_literal.capitalize())\n",
    "print(\"Counting the number of occurrences of character 'a': \", string_literal.count('a'))\n"
   ],
   "metadata": {
    "collapsed": false
   }
  },
  {
   "cell_type": "code",
   "execution_count": null,
   "outputs": [],
   "source": [
    "# Форматирование строк f-строки и .format()\n",
    "course = \"Data Science\"\n",
    "language = \"Python\"\n",
    "print(f\"Курс {course} на {language}\")"
   ],
   "metadata": {
    "collapsed": false
   }
  },
  {
   "cell_type": "markdown",
   "source": [
    "# Python Basic Arithmetic Operations\n",
    "\n",
    "\n",
    "\n",
    "| Type | Description          |\n",
    "|------|----------------------|\n",
    "| +    | Сложение             |\n",
    "| -    | Вычитание            |\n",
    "| *    | Умножение            |\n",
    "| /    | Деление с остатком   |\n",
    "| //   | Деленик без остатка  |\n",
    "| %    | Остаток от деления   |\n",
    "| **   | Возведение в квадрат |"
   ],
   "metadata": {
    "collapsed": false
   }
  },
  {
   "cell_type": "code",
   "execution_count": null,
   "outputs": [],
   "source": [
    "# Examples\n",
    "a = 12\n",
    "b = 2.5\n",
    "print(\"Addition:       | {} + {}  | {}\".format(a, b, a + b))\n",
    "print(\"Subtraction:    | {} - {}  | {}\".format(a, b, a - b))\n",
    "print(\"Multiplication: | {} * {}  | {}\".format(a, b, round(a * b), 2))\n",
    "print(\"Division / :    | {} / {}  | {}\".format(a, b, round(a / b), 2))\n",
    "print(\"Division //:    | {} // {} | {}\".format(a, b, a // b))\n",
    "print(\"Remainder:      | {} % {}  | {}\".format(a, b, round(a % b), 2))\n",
    "print(\"Square:         | {} ** {} | {}\".format(a, b, round(a ** b),2))"
   ],
   "metadata": {
    "collapsed": false
   }
  },
  {
   "cell_type": "markdown",
   "source": [
    "# Python Basic Logic Operations\n",
    "\n",
    "\n",
    "\n",
    "| Type | Description    |\n",
    "|------|----------------|\n",
    "| >    | Больше         |\n",
    "| <    | Меньше         |\n",
    "| ==   | Равно          |\n",
    "| !=   | Не равно       |\n",
    "| >=   | Больше равно   |\n",
    "| <=   | Меньше равно   |\n",
    "| and  | Логическое и   |\n",
    "| or   | Логическое или |\n",
    "| not  | Логическое нет |"
   ],
   "metadata": {
    "collapsed": false
   }
  },
  {
   "cell_type": "code",
   "execution_count": null,
   "outputs": [],
   "source": [
    "# Examples\n",
    "print(\"{} >  {}  -> {}\".format(a, b, a > b))\n",
    "print(\"{} <  {}  -> {}\".format(a, b, a < b))\n",
    "print(\"{} == {}  -> {}\".format(a, b, a == b))\n",
    "print(\"{} != {}  -> {}\".format(a, b, a != b))\n",
    "print(\"{} >= {}  -> {}\".format(a, b, a >= b))\n",
    "print(\"{} <= {}  -> {}\".format(a, b, a <= b))\n"
   ],
   "metadata": {
    "collapsed": false
   }
  },
  {
   "cell_type": "markdown",
   "source": [
    "# Условные конструкции\n",
    "\n",
    "Условные конструкции - это способ управлять выполнением программы. Это логическое выражение, после которого описываются инструкции, которые выполняются, если условие истинно.\n",
    "\n",
    "Виды условных конструкций:\n",
    "1. if\n",
    "2. elif\n",
    "3. else\n",
    "\n",
    "Условия проверяются по порядку очередности. Выполняется тот блок, который первый встретил условие истинности (работа программы завершается)."
   ],
   "metadata": {
    "collapsed": false
   }
  },
  {
   "cell_type": "code",
   "execution_count": null,
   "outputs": [],
   "source": [
    "x = 1\n",
    "if x % 2:\n",
    "    print(\"Odd\")\n",
    "else:\n",
    "    print(\"Even\")"
   ],
   "metadata": {
    "collapsed": false
   }
  },
  {
   "cell_type": "code",
   "execution_count": null,
   "outputs": [],
   "source": [
    "x = int(input(\"X coord: \"))\n",
    "y = int(input(\"Y coord: \"))\n",
    "\n",
    "if x > 0 and y > 0:\n",
    "    print(\"I quarter\")\n",
    "elif x > 0 and y < 0:\n",
    "    print(\"IV quarter\")\n",
    "elif y > 0:\n",
    "    print(\"II quarter\")\n",
    "else:\n",
    "    print(\"III quarter\")"
   ],
   "metadata": {
    "collapsed": false
   }
  },
  {
   "cell_type": "markdown",
   "source": [
    "# Python Collections\n",
    "- strings\n",
    "- list\n",
    "- set\n",
    "- tuple\n",
    "- dict\n",
    "\n",
    "# List\n",
    "Структура данных для упорядоченного хранения различным типов объектов. Является изменяемым типом данных.\n",
    "Список инициализируется при помощи\n",
    "\n",
    "[item1, item2, item3, ..., itemN]\n",
    "\n",
    "\n",
    "Операции со списками:\n",
    "- Списки можно складывать\n",
    "- **del(list[index])** удаляет элемент из списка по индексу\n",
    "- **.remove(el)** удаляет указанный элемент из списка\n",
    "- **.append(el)** добавляет элемент в конец списка\n",
    "- **.count(el)**  считает количество вхождений элемента в список\n",
    "- **.index(el)**  получить индекс элемента в списке\n",
    "- **.reverse()**  развернуть список\n",
    "- **sorted(list)** сортирует список"
   ],
   "metadata": {
    "collapsed": false
   }
  },
  {
   "cell_type": "code",
   "execution_count": null,
   "outputs": [],
   "source": [
    "coefficients = [] # empty list\n",
    "user_ids = [\"10233m4221ns\", \"12213x4101xs\"]\n",
    "print(user_ids)"
   ],
   "metadata": {
    "collapsed": false
   }
  },
  {
   "cell_type": "code",
   "execution_count": null,
   "outputs": [],
   "source": [
    "# Многомерные списки\n",
    "from pprint import pprint\n",
    "matrix = [ [1, 2, 3],\n",
    "           [4, 5, 6],\n",
    "           [7, 8, 9]]\n",
    "print(matrix)"
   ],
   "metadata": {
    "collapsed": false
   }
  },
  {
   "cell_type": "markdown",
   "source": [
    "Представить многомерный список можно в виде таблицы:\n",
    "\n",
    "\n",
    "|   | 0 | 1 | 2 |\n",
    "|---|---|---|---|\n",
    "| 0 | 1 | 2 | 3 |\n",
    "| 1 | 4 | 5 | 6 |\n",
    "| 2 | 7 | 8 | 9 |\n"
   ],
   "metadata": {
    "collapsed": false
   }
  },
  {
   "cell_type": "code",
   "execution_count": null,
   "outputs": [],
   "source": [
    "# Работа с листами\n",
    "numbers = [1, 4, 13, 0, 6, 12, 15, 22]"
   ],
   "metadata": {
    "collapsed": false
   }
  },
  {
   "cell_type": "code",
   "execution_count": null,
   "outputs": [],
   "source": [
    "# количество элементов в списке\n",
    "len(numbers)"
   ],
   "metadata": {
    "collapsed": false
   }
  },
  {
   "cell_type": "code",
   "execution_count": null,
   "outputs": [],
   "source": [
    "# сумма элементов в списке\n",
    "sum(numbers)"
   ],
   "metadata": {
    "collapsed": false
   }
  },
  {
   "cell_type": "code",
   "execution_count": null,
   "outputs": [],
   "source": [
    "# Сортировка\n",
    "sorted(numbers)"
   ],
   "metadata": {
    "collapsed": false
   }
  },
  {
   "cell_type": "code",
   "execution_count": null,
   "outputs": [],
   "source": [
    "# Сортировка в обратном направлении\n",
    "sorted(numbers, reverse=True)"
   ],
   "metadata": {
    "collapsed": false
   }
  },
  {
   "cell_type": "code",
   "execution_count": null,
   "outputs": [],
   "source": [
    "# Добавление элемента в список\n",
    "numbers.append(2)\n",
    "numbers"
   ],
   "metadata": {
    "collapsed": false
   }
  },
  {
   "cell_type": "markdown",
   "source": [
    "**FYI:**\n",
    "Соблюдайте бдительность при изменении листов.\n",
    "В примере ниже переменная integers и copy_integers указывают на один и тотже объект в памяти.\n",
    "В результате, при добавлении в integers очередного элемента этот элемент будет добавлен и в copy_integers.\n",
    "Это решается путем создании копии, а не ссылки на об"
   ],
   "metadata": {
    "collapsed": false
   }
  },
  {
   "cell_type": "code",
   "execution_count": null,
   "outputs": [],
   "source": [
    "integers = [1, 10, 12, 15, 22, 25, 10, 0]\n",
    "copy_integers = integers"
   ],
   "metadata": {
    "collapsed": false
   }
  },
  {
   "cell_type": "code",
   "execution_count": null,
   "outputs": [],
   "source": [
    "integers.append(99)\n",
    "integers"
   ],
   "metadata": {
    "collapsed": false
   }
  },
  {
   "cell_type": "code",
   "execution_count": null,
   "outputs": [],
   "source": [
    "copy_integers"
   ],
   "metadata": {
    "collapsed": false
   }
  },
  {
   "cell_type": "code",
   "execution_count": null,
   "outputs": [],
   "source": [
    "id(integers)"
   ],
   "metadata": {
    "collapsed": false
   }
  },
  {
   "cell_type": "code",
   "execution_count": null,
   "outputs": [],
   "source": [
    "id(copy_integers)"
   ],
   "metadata": {
    "collapsed": false
   }
  },
  {
   "cell_type": "code",
   "execution_count": null,
   "outputs": [],
   "source": [
    "import copy\n",
    "copy_integers = copy.copy(integers)\n",
    "copy_integers.append(101)\n",
    "copy_integers"
   ],
   "metadata": {
    "collapsed": false
   }
  },
  {
   "cell_type": "code",
   "execution_count": null,
   "outputs": [],
   "source": [
    "copy_integers = list(integers)"
   ],
   "metadata": {
    "collapsed": false
   }
  },
  {
   "cell_type": "code",
   "execution_count": null,
   "outputs": [],
   "source": [
    "id(copy_integers)"
   ],
   "metadata": {
    "collapsed": false
   }
  },
  {
   "cell_type": "code",
   "execution_count": null,
   "outputs": [],
   "source": [
    "id(integers)"
   ],
   "metadata": {
    "collapsed": false
   }
  },
  {
   "cell_type": "code",
   "execution_count": null,
   "outputs": [],
   "source": [
    "id(copy_integers)"
   ],
   "metadata": {
    "collapsed": false
   }
  },
  {
   "cell_type": "code",
   "execution_count": null,
   "outputs": [],
   "source": [
    "id(integers)"
   ],
   "metadata": {
    "collapsed": false
   }
  },
  {
   "cell_type": "code",
   "execution_count": null,
   "outputs": [],
   "source": [
    "integers"
   ],
   "metadata": {
    "collapsed": false
   }
  },
  {
   "cell_type": "code",
   "execution_count": null,
   "outputs": [],
   "source": [
    "copy_integers"
   ],
   "metadata": {
    "collapsed": false
   }
  },
  {
   "cell_type": "code",
   "execution_count": null,
   "outputs": [],
   "source": [
    "a = 10\n",
    "b = 12\n",
    "a, b = b, a\n",
    "print(a)\n",
    "print(b)"
   ],
   "metadata": {
    "collapsed": false
   }
  },
  {
   "cell_type": "markdown",
   "source": [
    "Листы как и любые коллекции поддерживают срезы по индексам"
   ],
   "metadata": {
    "collapsed": false
   }
  },
  {
   "cell_type": "code",
   "execution_count": null,
   "outputs": [],
   "source": [
    "numbers[2:7] # [start:end]"
   ],
   "metadata": {
    "collapsed": false
   }
  },
  {
   "cell_type": "code",
   "execution_count": null,
   "outputs": [],
   "source": [
    "numbers[::2]"
   ],
   "metadata": {
    "collapsed": false
   }
  },
  {
   "cell_type": "markdown",
   "source": [
    "## List Comprehensions"
   ],
   "metadata": {
    "collapsed": false
   }
  },
  {
   "cell_type": "code",
   "execution_count": null,
   "outputs": [],
   "source": [
    "a = lambda x: x**x"
   ],
   "metadata": {
    "collapsed": false
   }
  },
  {
   "cell_type": "code",
   "execution_count": null,
   "outputs": [],
   "source": [
    "a(2)"
   ],
   "metadata": {
    "collapsed": false
   }
  },
  {
   "cell_type": "code",
   "execution_count": null,
   "outputs": [],
   "source": [
    "def square(x):\n",
    "    return x**x"
   ],
   "metadata": {
    "collapsed": false
   }
  },
  {
   "cell_type": "code",
   "execution_count": null,
   "outputs": [],
   "source": [
    "print(square(2))"
   ],
   "metadata": {
    "collapsed": false
   }
  },
  {
   "cell_type": "code",
   "execution_count": null,
   "outputs": [],
   "source": [
    "[x for x in range(10)]"
   ],
   "metadata": {
    "collapsed": false
   }
  },
  {
   "cell_type": "code",
   "execution_count": null,
   "outputs": [],
   "source": [
    "[x for x in numbers if x % 2 == 0]"
   ],
   "metadata": {
    "collapsed": false
   }
  },
  {
   "cell_type": "code",
   "execution_count": null,
   "outputs": [],
   "source": [
    "[x ** x for x in numbers if x % 2 == 0 and x > 6]"
   ],
   "metadata": {
    "collapsed": false
   }
  },
  {
   "cell_type": "markdown",
   "source": [
    "# Map, Zip, reduce, lambda functions"
   ],
   "metadata": {
    "collapsed": false
   }
  },
  {
   "cell_type": "code",
   "execution_count": null,
   "outputs": [],
   "source": [
    "evens = [x for x in range(0, 20) if x % 2 == 0]\n",
    "odds =  [x for x in range(0, 20) if x % 2 != 0]"
   ],
   "metadata": {
    "collapsed": false
   }
  },
  {
   "cell_type": "code",
   "execution_count": null,
   "outputs": [],
   "source": [
    "evens"
   ],
   "metadata": {
    "collapsed": false
   }
  },
  {
   "cell_type": "code",
   "execution_count": null,
   "outputs": [],
   "source": [
    "odds"
   ],
   "metadata": {
    "collapsed": false
   }
  },
  {
   "cell_type": "code",
   "execution_count": null,
   "outputs": [],
   "source": [
    "list(map(lambda x: x ** 2, evens))"
   ],
   "metadata": {
    "collapsed": false
   }
  },
  {
   "cell_type": "code",
   "execution_count": null,
   "outputs": [],
   "source": [
    "def cube(x):\n",
    "    return x ** 3"
   ],
   "metadata": {
    "collapsed": false
   }
  },
  {
   "cell_type": "code",
   "execution_count": null,
   "outputs": [],
   "source": [
    "list(map(cube, odds))"
   ],
   "metadata": {
    "collapsed": false
   }
  },
  {
   "cell_type": "code",
   "execution_count": null,
   "outputs": [],
   "source": [
    "list(zip(evens,odds))"
   ],
   "metadata": {
    "collapsed": false
   }
  },
  {
   "cell_type": "code",
   "execution_count": null,
   "outputs": [],
   "source": [
    "first = [x for x in range(10)]\n",
    "second = [x for x in range(10)]\n",
    "list(zip(first, second))"
   ],
   "metadata": {
    "collapsed": false
   }
  },
  {
   "cell_type": "code",
   "execution_count": null,
   "outputs": [],
   "source": [
    "from functools import reduce\n",
    "\n",
    "reduce(lambda x, y: x + y, odds)"
   ],
   "metadata": {
    "collapsed": false
   }
  },
  {
   "cell_type": "code",
   "execution_count": null,
   "outputs": [],
   "source": [
    "sum(odds)"
   ],
   "metadata": {
    "collapsed": false
   }
  },
  {
   "cell_type": "markdown",
   "source": [
    "# Dictionaries\n",
    "\n",
    "Словари - неупорядоченные коллекции произвольных объектов с доступом по ключу. Значением словаря может быть любой тип данных.\n",
    "\n",
    "Операции над словарями:\n",
    "- **del(dict[key])**            удаление элемента из словаря по его ключу\n",
    "- **.keys()**                   получить все ключи словаря\n",
    "- **.values()**                 получить все значения словаря\n",
    "- **.items()**                  получить пары ключ:значения словаря\n",
    "- **.get(key)**                 безопасно получить значение по ключу\n",
    "- **.setdefault(key, default)** получить значение по ключу, автоматически добавляет элемент в словарь если его нет"
   ],
   "metadata": {
    "collapsed": false
   }
  },
  {
   "cell_type": "code",
   "execution_count": null,
   "outputs": [],
   "source": [
    "empty_dict = dict()\n",
    "empty_dict_two = {}"
   ],
   "metadata": {
    "collapsed": false
   }
  },
  {
   "cell_type": "code",
   "execution_count": null,
   "outputs": [],
   "source": [
    "stats = {\n",
    "    '2022-05-01': 1031,\n",
    "    '2022-05-02': 1301,\n",
    "    '2022-05-03': 1422\n",
    "}"
   ],
   "metadata": {
    "collapsed": false
   }
  },
  {
   "cell_type": "code",
   "execution_count": null,
   "outputs": [],
   "source": [
    "# обращение к элементу словаря\n",
    "print( stats['2022-05-01'] )"
   ],
   "metadata": {
    "collapsed": false
   }
  },
  {
   "cell_type": "code",
   "execution_count": null,
   "outputs": [],
   "source": [
    "# пройтись по элементам словаря\n",
    "for key, value in stats.items():\n",
    "    print( key, value )"
   ],
   "metadata": {
    "collapsed": false
   }
  },
  {
   "cell_type": "code",
   "execution_count": null,
   "outputs": [],
   "source": [
    "# количество ключей\n",
    "print( len( stats ) )"
   ],
   "metadata": {
    "collapsed": false
   }
  },
  {
   "cell_type": "code",
   "execution_count": null,
   "outputs": [],
   "source": [
    "# проверка на наличие ключа в словаре\n",
    "newDate = '2022-05-04'\n",
    "newDateValue = 1512\n",
    "\n",
    "if newDate in stats:\n",
    "    print('Exists')\n",
    "else:\n",
    "    stats[ newDate ] = newDateValue\n",
    "\n",
    "print( stats )"
   ],
   "metadata": {
    "collapsed": false
   }
  },
  {
   "cell_type": "code",
   "execution_count": null,
   "outputs": [],
   "source": [
    "print(stats.get(\"2023-05-01\"))"
   ],
   "metadata": {
    "collapsed": false
   }
  },
  {
   "cell_type": "markdown",
   "source": [
    "# Tuples(кортежи)\n",
    "\n",
    "Являются неизменяемой коллекцией элементов (нельзя добавлять или удалять элементы из уже созданного кортежа)\n",
    "Кортежи инициализируются при помощи ()"
   ],
   "metadata": {
    "collapsed": false
   }
  },
  {
   "cell_type": "code",
   "execution_count": null,
   "outputs": [],
   "source": [
    "one_element = (\"Users\", )"
   ],
   "metadata": {
    "collapsed": false
   }
  },
  {
   "cell_type": "code",
   "execution_count": null,
   "outputs": [],
   "source": [
    "type(one_element)"
   ],
   "metadata": {
    "collapsed": false
   }
  },
  {
   "cell_type": "code",
   "execution_count": null,
   "outputs": [],
   "source": [
    "users = (\"UserA\", \"UserB\", \"UserC\")"
   ],
   "metadata": {
    "collapsed": false
   }
  },
  {
   "cell_type": "code",
   "execution_count": null,
   "outputs": [],
   "source": [
    "users[0]"
   ],
   "metadata": {
    "collapsed": false
   }
  },
  {
   "cell_type": "code",
   "execution_count": null,
   "outputs": [],
   "source": [
    "users[0] = \"UserD\""
   ],
   "metadata": {
    "collapsed": false
   }
  },
  {
   "cell_type": "code",
   "execution_count": null,
   "outputs": [],
   "source": [
    "del(users[0])"
   ],
   "metadata": {
    "collapsed": false
   }
  },
  {
   "cell_type": "markdown",
   "source": [
    "# Множества\n",
    "Множества - коллекция, содержащая неповторяющиеся элементы в случайном порядке.\n",
    "Множество инициализируется при помощи set() Обычно создается из списков.\n",
    "\n",
    "Операции над множествами:\n",
    "- Объединение             (union)\n",
    "- Пересечение             (intersection)\n",
    "- Разность                (difference)\n",
    "- Симметрическая разность (symmetric difference)\n",
    "\n",
    "Методы:\n",
    "- **.add(el)** - добавляет элемент в множество\n",
    "- **.update(set)** - соединяет множество с другим множеством\n",
    "- **.discard(el)** - удаляет элемент из множества по его значению\n",
    "- **.union(set)**  - объединение множества (лог ИЛИ)\n",
    "- **.intersection(set)** - пересечение (лог И)\n",
    "- **.difference(set)** - возвращает элементы одного множества которые не принадлежат другому множеству\n",
    "- **.symmetric_difference(set)** - возвращает элементы, которые встречаются в одном множестве но не встречаются в обоих"
   ],
   "metadata": {
    "collapsed": false
   }
  },
  {
   "cell_type": "code",
   "execution_count": null,
   "outputs": [],
   "source": [
    "set_a = {1, 2, 3, 1, 1, 1}\n",
    "set_b = {3, 4, 5}"
   ],
   "metadata": {
    "collapsed": false
   }
  },
  {
   "cell_type": "code",
   "execution_count": null,
   "outputs": [],
   "source": [
    "set_a"
   ],
   "metadata": {
    "collapsed": false
   }
  },
  {
   "cell_type": "code",
   "execution_count": null,
   "outputs": [],
   "source": [
    "# Union\n",
    "set_a | set_b"
   ],
   "metadata": {
    "collapsed": false
   }
  },
  {
   "cell_type": "code",
   "execution_count": null,
   "outputs": [],
   "source": [
    "# Intersection\n",
    "set_a & set_b"
   ],
   "metadata": {
    "collapsed": false
   }
  },
  {
   "cell_type": "code",
   "execution_count": null,
   "outputs": [],
   "source": [
    "# Difference\n",
    "set_a - set_b"
   ],
   "metadata": {
    "collapsed": false
   }
  },
  {
   "cell_type": "code",
   "execution_count": null,
   "outputs": [],
   "source": [
    "# Symmetric difference\n",
    "set_a ^ set_b"
   ],
   "metadata": {
    "collapsed": false
   }
  },
  {
   "cell_type": "markdown",
   "source": [
    "# Циклы\n",
    "\n",
    "Циклы позволяют организовывать повторение выполнения участков кода.\n",
    "В Python существует 2 вида циклов: for и while\n",
    "\n",
    "While\n",
    "Используется когда заранее невозможно определить точное значение количества проходов исполнения цикла\n",
    "\n",
    "For\n",
    "Проходится по элементам любого итерируемого объекта (строки, списки, словари и тд) и во время каждого прохода выполняет заданный участок кода"
   ],
   "metadata": {
    "collapsed": false
   }
  },
  {
   "cell_type": "code",
   "execution_count": null,
   "outputs": [],
   "source": [
    "x = 5\n",
    "while x != 0:\n",
    "    print(x)\n",
    "    x -= 1"
   ],
   "metadata": {
    "collapsed": false
   }
  },
  {
   "cell_type": "code",
   "execution_count": null,
   "outputs": [],
   "source": [
    "integers = [1, 10, 12, 15, 22, 25, 10, 0]\n",
    "\n",
    "for i in integers:\n",
    "    if i**2 < 100:\n",
    "        print(i)"
   ],
   "metadata": {
    "collapsed": false
   }
  },
  {
   "cell_type": "markdown",
   "source": [
    "# Break, Continue, Pass, Try, Except\n",
    "\n",
    "- Break - прерывает исполнение цикла\n",
    "- Continue - завершает исполнение текущей итерации цикла и переходит к следующей\n",
    "- Pass - игнорирует условие и продолжает выполнение цикла\n",
    "\n",
    "\n",
    "Try - Except блок который позволяет обойти ошибки если мы заранее не уверены в результате.\n",
    "Правило хорошего тона - оборачивать функционал вашего кода в try-except"
   ],
   "metadata": {
    "collapsed": false
   }
  },
  {
   "cell_type": "code",
   "execution_count": null,
   "outputs": [],
   "source": [
    "def foo():\n",
    "    pass"
   ],
   "metadata": {
    "collapsed": false
   }
  },
  {
   "cell_type": "code",
   "execution_count": null,
   "outputs": [],
   "source": [
    "integers = [0, 0, 0, 0, 0, 0, 10, 0]\n",
    "for i in integers:\n",
    "    if i % 2==0:\n",
    "        continue\n",
    "    print(i)"
   ],
   "metadata": {
    "collapsed": false
   }
  },
  {
   "cell_type": "code",
   "execution_count": null,
   "outputs": [],
   "source": [
    "for i in integers:\n",
    "    try:\n",
    "        print(i*2/ i)\n",
    "    except ZeroDivisionError:\n",
    "        continue"
   ],
   "metadata": {
    "collapsed": false
   }
  },
  {
   "cell_type": "markdown",
   "source": [
    "# Функции\n",
    "\n",
    "Обособленный участок кода, который можно вызвать, обратившись к нему по имени, который был присвоен функции.\n",
    "Также функию можно трактовать как объект, который принимает какие-либо аргументы и осуществляя операции над аргументами, возвращает значение.\n",
    "\n",
    "\n",
    "Функция может принимать более 1 аргумента, а может не принимать аргументы. Для всех аргументов функции можно указывать занчения по дефолту, это\n",
    "дает возможность вызывать функцию с меньшим количеством аргументов.\n",
    "\n",
    "None - специальный тип данных, который означает отсутствие значения. Если в функции нет return либо он пустой то она возвращает None.\n",
    "\n",
    "\n",
    "В Python 3 типа функций:\n",
    "1. Built-In\n",
    "2. User-Defined-Functions\n",
    "3. Anonymous (lambda)\n",
    "\n",
    "\n",
    "Типы аргументов функций:\n",
    "1. Default\n",
    "2. Required\n",
    "3. KeyWord\n",
    "4. Variable number of arguments"
   ],
   "metadata": {
    "collapsed": false
   }
  },
  {
   "cell_type": "code",
   "execution_count": null,
   "outputs": [],
   "source": [
    "# Default arguments\n",
    "def add(a, b=2):\n",
    "    return a + b\n",
    "\n",
    "print(add(a=1))\n",
    "print(add(a=2, b=3))"
   ],
   "metadata": {
    "collapsed": false
   }
  },
  {
   "cell_type": "code",
   "execution_count": null,
   "outputs": [],
   "source": [
    "# Required arguments\n",
    "def add(a, b):\n",
    "    return a+b\n",
    "\n",
    "print(add(a=1))"
   ],
   "metadata": {
    "collapsed": false
   }
  },
  {
   "cell_type": "code",
   "execution_count": null,
   "outputs": [],
   "source": [
    "print(add(a=2, b=2))"
   ],
   "metadata": {
    "collapsed": false
   }
  },
  {
   "cell_type": "code",
   "execution_count": null,
   "outputs": [],
   "source": [
    "#Keyword arguments\n",
    "def add(a, b):\n",
    "    return a+b"
   ],
   "metadata": {
    "collapsed": false
   }
  },
  {
   "cell_type": "markdown",
   "source": [
    "Иногда бывает так, что мы заранее не знаем какое количество аргументов мы хотим передать функции, но нам все равно необходимо вызвать функцию чтобы совершить полезную работу.\n",
    "В таком случае функция может быть вызвана путем указания аргумента *args"
   ],
   "metadata": {
    "collapsed": false
   }
  },
  {
   "cell_type": "code",
   "execution_count": null,
   "outputs": [],
   "source": [
    "# Variable number of arguments\n",
    "def addition(*args):\n",
    "    print(type(args))\n",
    "    print(args)\n",
    "    total = 0\n",
    "    for _ in args:\n",
    "        total += _\n",
    "    return total"
   ],
   "metadata": {
    "collapsed": false
   }
  },
  {
   "cell_type": "code",
   "execution_count": null,
   "outputs": [],
   "source": [
    "def some(**kwargs):\n",
    "    pass"
   ],
   "metadata": {
    "collapsed": false
   }
  },
  {
   "cell_type": "code",
   "execution_count": null,
   "outputs": [],
   "source": [
    "print(addition(1, 2, 3, 4, 10))"
   ],
   "metadata": {
    "collapsed": false
   }
  },
  {
   "cell_type": "code",
   "execution_count": null,
   "outputs": [],
   "source": [
    "# Anonymous functions\n",
    "sum = lambda x, y: x+y;\n",
    "sum(2, 3)"
   ],
   "metadata": {
    "collapsed": false
   }
  },
  {
   "cell_type": "markdown",
   "source": [
    "# Работа с датамми"
   ],
   "metadata": {
    "collapsed": false
   }
  },
  {
   "cell_type": "code",
   "execution_count": null,
   "outputs": [],
   "source": [
    "from datetime import datetime, timedelta\n",
    "\n",
    "start_date = \"2022-06-14\" # string\n",
    "end_date = \"2022-12-29\"\n",
    "\n",
    "datetime.strptime(start_date, \"%Y-%m-%d \")"
   ],
   "metadata": {
    "collapsed": false
   }
  },
  {
   "cell_type": "code",
   "execution_count": null,
   "outputs": [],
   "source": [
    "# https://docs.python.org/3/library/datetime.html\n",
    "datetime.strptime( 'Jun 14 2022  9:00AM', '%b %d %Y %I:%M%p' )"
   ],
   "metadata": {
    "collapsed": false
   }
  },
  {
   "cell_type": "code",
   "execution_count": null,
   "outputs": [],
   "source": [
    "startDateDT = datetime.strptime(start_date, '%Y-%m-%d' )\n",
    "endDateDT = datetime.strptime(end_date, '%Y-%m-%d' )\n",
    "\n",
    "currentDT = startDateDT\n",
    "\n",
    "while currentDT <= endDateDT:\n",
    "    print( currentDT.strftime( '%Y-%m-%d' ) )\n",
    "    currentDT += timedelta( days = 1 )"
   ],
   "metadata": {
    "collapsed": false
   }
  },
  {
   "cell_type": "code",
   "execution_count": null,
   "outputs": [],
   "source": [
    "def check_range(start, end, number):\n",
    "    if number in range(start, end):\n",
    "        return True\n",
    "    else:\n",
    "        return False\n"
   ],
   "metadata": {
    "collapsed": false
   }
  },
  {
   "cell_type": "code",
   "execution_count": null,
   "outputs": [],
   "source": [
    "def is_perfect(num):\n",
    "    sum = 0\n",
    "    for x in range(1, num):\n",
    "        if num % x == 0:\n",
    "            sum += x\n",
    "    return sum == num"
   ],
   "metadata": {
    "collapsed": false
   }
  }
 ],
 "metadata": {
  "kernelspec": {
   "display_name": "Python 3",
   "language": "python",
   "name": "python3"
  },
  "language_info": {
   "codemirror_mode": {
    "name": "ipython",
    "version": 2
   },
   "file_extension": ".py",
   "mimetype": "text/x-python",
   "name": "python",
   "nbconvert_exporter": "python",
   "pygments_lexer": "ipython2",
   "version": "2.7.6"
  }
 },
 "nbformat": 4,
 "nbformat_minor": 0
}
