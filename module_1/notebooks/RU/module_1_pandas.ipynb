{
 "cells": [
  {
   "cell_type": "markdown",
   "source": [
    "# Pandas и работа с датасетами"
   ],
   "metadata": {
    "collapsed": false,
    "pycharm": {
     "name": "#%% md\n"
    }
   }
  },
  {
   "cell_type": "code",
   "execution_count": 35,
   "outputs": [
    {
     "data": {
      "text/plain": "'2.0.1'"
     },
     "execution_count": 35,
     "metadata": {},
     "output_type": "execute_result"
    }
   ],
   "source": [
    "import pandas as pd\n",
    "import numpy as np\n",
    "import matplotlib.pyplot as plt\n",
    "import seaborn as sns\n",
    "pd.__version__"
   ],
   "metadata": {
    "collapsed": false,
    "pycharm": {
     "name": "#%%\n"
    },
    "ExecuteTime": {
     "end_time": "2023-05-15T18:01:11.447572Z",
     "start_time": "2023-05-15T18:01:11.368710Z"
    }
   }
  },
  {
   "cell_type": "markdown",
   "source": [
    "# Создание Series и DataFrame из списков и словарей"
   ],
   "metadata": {
    "collapsed": false,
    "pycharm": {
     "name": "#%% md\n"
    }
   }
  },
  {
   "cell_type": "code",
   "execution_count": 37,
   "outputs": [
    {
     "name": "stdout",
     "output_type": "stream",
     "text": [
      "0    12\n",
      "1    -4\n",
      "2     7\n",
      "3     9\n",
      "dtype: int64\n"
     ]
    }
   ],
   "source": [
    "# Создание объекта Series\n",
    "test_series = pd.Series([12,-4,7,9])\n",
    "print(test_series)"
   ],
   "metadata": {
    "collapsed": false,
    "pycharm": {
     "name": "#%%\n"
    },
    "ExecuteTime": {
     "end_time": "2023-05-15T18:04:42.813716Z",
     "start_time": "2023-05-15T18:04:42.760956Z"
    }
   }
  },
  {
   "cell_type": "code",
   "execution_count": 38,
   "outputs": [
    {
     "data": {
      "text/plain": "pandas.core.series.Series"
     },
     "execution_count": 38,
     "metadata": {},
     "output_type": "execute_result"
    }
   ],
   "source": [
    "type(test_series)"
   ],
   "metadata": {
    "collapsed": false,
    "pycharm": {
     "name": "#%%\n"
    },
    "ExecuteTime": {
     "end_time": "2023-05-15T18:04:56.439237Z",
     "start_time": "2023-05-15T18:04:56.399670Z"
    }
   }
  },
  {
   "cell_type": "code",
   "execution_count": 39,
   "outputs": [
    {
     "data": {
      "text/plain": "0    1\n1    2\n2    3\n3    4\n4    5\ndtype: int64"
     },
     "execution_count": 39,
     "metadata": {},
     "output_type": "execute_result"
    }
   ],
   "source": [
    "# Также мы можем конвертировать объект NumPy в объект pandas.Series\n",
    "test_series = pd.Series(np.array([1, 2, 3, 4, 5]))\n",
    "test_series"
   ],
   "metadata": {
    "collapsed": false,
    "pycharm": {
     "name": "#%%\n"
    },
    "ExecuteTime": {
     "end_time": "2023-05-15T18:05:35.185477Z",
     "start_time": "2023-05-15T18:05:35.096248Z"
    }
   }
  },
  {
   "cell_type": "markdown",
   "source": [
    "#### Как говорилось в презентации объект типа Series обладает индексом и массивом значений. Мы имеем доступ к нему и если необходимо увидеть оба массива, из которых состоит структура, можно вызвать два атрибута: index и values (array)."
   ],
   "metadata": {
    "collapsed": false,
    "pycharm": {
     "name": "#%% md\n"
    }
   }
  },
  {
   "cell_type": "code",
   "execution_count": 40,
   "outputs": [
    {
     "data": {
      "text/plain": "RangeIndex(start=0, stop=5, step=1)"
     },
     "execution_count": 40,
     "metadata": {},
     "output_type": "execute_result"
    }
   ],
   "source": [
    "test_series.index"
   ],
   "metadata": {
    "collapsed": false,
    "pycharm": {
     "name": "#%%\n"
    },
    "ExecuteTime": {
     "end_time": "2023-05-15T18:06:25.017200Z",
     "start_time": "2023-05-15T18:06:24.974650Z"
    }
   }
  },
  {
   "cell_type": "code",
   "execution_count": 41,
   "outputs": [
    {
     "data": {
      "text/plain": "<PandasArray>\n[1, 2, 3, 4, 5]\nLength: 5, dtype: int64"
     },
     "execution_count": 41,
     "metadata": {},
     "output_type": "execute_result"
    }
   ],
   "source": [
    "test_series.array"
   ],
   "metadata": {
    "collapsed": false,
    "pycharm": {
     "name": "#%%\n"
    },
    "ExecuteTime": {
     "end_time": "2023-05-15T18:06:39.492772Z",
     "start_time": "2023-05-15T18:06:39.394312Z"
    }
   }
  },
  {
   "cell_type": "markdown",
   "source": [
    "## Создание объекта DataFrame из словаря"
   ],
   "metadata": {
    "collapsed": false,
    "pycharm": {
     "name": "#%% md\n"
    }
   }
  },
  {
   "cell_type": "code",
   "execution_count": 42,
   "outputs": [],
   "source": [
    "dataList = [\n",
    "    { 'date': '2023-06-01', 'value': 10 },\n",
    "    { 'date': '2023-06-02', 'value': 200 },\n",
    "    { 'date': '2023-06-03', 'value': 30 },\n",
    "    { 'date': '2023-06-04', 'value': 400 },\n",
    "    { 'date': '2023-06-05', 'value': 50 },\n",
    "]"
   ],
   "metadata": {
    "collapsed": false,
    "pycharm": {
     "name": "#%%\n"
    },
    "ExecuteTime": {
     "end_time": "2023-05-15T18:08:04.515528Z",
     "start_time": "2023-05-15T18:08:04.474629Z"
    }
   }
  },
  {
   "cell_type": "code",
   "execution_count": 43,
   "outputs": [
    {
     "data": {
      "text/plain": "         date  value\n0  2023-06-01     10\n1  2023-06-02    200\n2  2023-06-03     30\n3  2023-06-04    400\n4  2023-06-05     50",
      "text/html": "<div>\n<style scoped>\n    .dataframe tbody tr th:only-of-type {\n        vertical-align: middle;\n    }\n\n    .dataframe tbody tr th {\n        vertical-align: top;\n    }\n\n    .dataframe thead th {\n        text-align: right;\n    }\n</style>\n<table border=\"1\" class=\"dataframe\">\n  <thead>\n    <tr style=\"text-align: right;\">\n      <th></th>\n      <th>date</th>\n      <th>value</th>\n    </tr>\n  </thead>\n  <tbody>\n    <tr>\n      <th>0</th>\n      <td>2023-06-01</td>\n      <td>10</td>\n    </tr>\n    <tr>\n      <th>1</th>\n      <td>2023-06-02</td>\n      <td>200</td>\n    </tr>\n    <tr>\n      <th>2</th>\n      <td>2023-06-03</td>\n      <td>30</td>\n    </tr>\n    <tr>\n      <th>3</th>\n      <td>2023-06-04</td>\n      <td>400</td>\n    </tr>\n    <tr>\n      <th>4</th>\n      <td>2023-06-05</td>\n      <td>50</td>\n    </tr>\n  </tbody>\n</table>\n</div>"
     },
     "execution_count": 43,
     "metadata": {},
     "output_type": "execute_result"
    }
   ],
   "source": [
    "pd.DataFrame(dataList)"
   ],
   "metadata": {
    "collapsed": false,
    "pycharm": {
     "name": "#%%\n"
    },
    "ExecuteTime": {
     "end_time": "2023-05-15T18:08:05.959556Z",
     "start_time": "2023-05-15T18:08:05.920297Z"
    }
   }
  },
  {
   "cell_type": "code",
   "execution_count": 44,
   "outputs": [
    {
     "data": {
      "text/plain": "         date  value\n0  2022-06-01     10\n1  2022-06-02    200\n2  2022-06-03     30\n3  2022-06-04    400\n4  2022-06-05     50",
      "text/html": "<div>\n<style scoped>\n    .dataframe tbody tr th:only-of-type {\n        vertical-align: middle;\n    }\n\n    .dataframe tbody tr th {\n        vertical-align: top;\n    }\n\n    .dataframe thead th {\n        text-align: right;\n    }\n</style>\n<table border=\"1\" class=\"dataframe\">\n  <thead>\n    <tr style=\"text-align: right;\">\n      <th></th>\n      <th>date</th>\n      <th>value</th>\n    </tr>\n  </thead>\n  <tbody>\n    <tr>\n      <th>0</th>\n      <td>2022-06-01</td>\n      <td>10</td>\n    </tr>\n    <tr>\n      <th>1</th>\n      <td>2022-06-02</td>\n      <td>200</td>\n    </tr>\n    <tr>\n      <th>2</th>\n      <td>2022-06-03</td>\n      <td>30</td>\n    </tr>\n    <tr>\n      <th>3</th>\n      <td>2022-06-04</td>\n      <td>400</td>\n    </tr>\n    <tr>\n      <th>4</th>\n      <td>2022-06-05</td>\n      <td>50</td>\n    </tr>\n  </tbody>\n</table>\n</div>"
     },
     "execution_count": 44,
     "metadata": {},
     "output_type": "execute_result"
    }
   ],
   "source": [
    "# то же самое, но в другом виде где мы задаем столбцы в формате словаря\n",
    "# {key1 : [values1], ..., keyN: [valuesN]}\n",
    "dataDict = {\n",
    "    'date': [ '2022-06-01', '2022-06-02', '2022-06-03', '2022-06-04', '2022-06-05' ],\n",
    "    'value': [ 10, 200, 30, 400, 50 ]\n",
    "}\n",
    "\n",
    "pd.DataFrame.from_dict( dataDict )"
   ],
   "metadata": {
    "collapsed": false,
    "pycharm": {
     "name": "#%%\n"
    },
    "ExecuteTime": {
     "end_time": "2023-05-15T18:09:35.273006Z",
     "start_time": "2023-05-15T18:09:35.234441Z"
    }
   }
  },
  {
   "cell_type": "code",
   "execution_count": 45,
   "outputs": [
    {
     "data": {
      "text/plain": "         date  value\n0  2022-06-01     10\n1  2022-06-02    200\n2  2022-06-03     30\n3  2022-06-04    400\n4  2022-06-05     50",
      "text/html": "<div>\n<style scoped>\n    .dataframe tbody tr th:only-of-type {\n        vertical-align: middle;\n    }\n\n    .dataframe tbody tr th {\n        vertical-align: top;\n    }\n\n    .dataframe thead th {\n        text-align: right;\n    }\n</style>\n<table border=\"1\" class=\"dataframe\">\n  <thead>\n    <tr style=\"text-align: right;\">\n      <th></th>\n      <th>date</th>\n      <th>value</th>\n    </tr>\n  </thead>\n  <tbody>\n    <tr>\n      <th>0</th>\n      <td>2022-06-01</td>\n      <td>10</td>\n    </tr>\n    <tr>\n      <th>1</th>\n      <td>2022-06-02</td>\n      <td>200</td>\n    </tr>\n    <tr>\n      <th>2</th>\n      <td>2022-06-03</td>\n      <td>30</td>\n    </tr>\n    <tr>\n      <th>3</th>\n      <td>2022-06-04</td>\n      <td>400</td>\n    </tr>\n    <tr>\n      <th>4</th>\n      <td>2022-06-05</td>\n      <td>50</td>\n    </tr>\n  </tbody>\n</table>\n</div>"
     },
     "execution_count": 45,
     "metadata": {},
     "output_type": "execute_result"
    }
   ],
   "source": [
    "# В случае если нам необходимо сохранить порядок следования элементов мы можем использовать лист вместо словаря\n",
    "# [(columnName, [values]),..., (columnNameN, [valuesN])]\n",
    "dataDict = [\n",
    "    ( 'date', ['2022-06-01', '2022-06-02', '2022-06-03', '2022-06-04', '2022-06-05' ] ),\n",
    "    ( 'value',  [ 10, 200, 30, 400, 50 ])\n",
    "]\n",
    "\n",
    "pd.DataFrame.from_dict(dict(dataDict))"
   ],
   "metadata": {
    "collapsed": false,
    "pycharm": {
     "name": "#%%\n"
    },
    "ExecuteTime": {
     "end_time": "2023-05-15T18:10:35.306459Z",
     "start_time": "2023-05-15T18:10:35.261450Z"
    }
   }
  },
  {
   "cell_type": "code",
   "execution_count": 46,
   "outputs": [
    {
     "data": {
      "text/plain": "         date  value\n0  2022-06-01    100\n1  2022-06-02    200\n2  2022-06-03    300\n3  2022-06-04    400\n4  2022-06-05    500",
      "text/html": "<div>\n<style scoped>\n    .dataframe tbody tr th:only-of-type {\n        vertical-align: middle;\n    }\n\n    .dataframe tbody tr th {\n        vertical-align: top;\n    }\n\n    .dataframe thead th {\n        text-align: right;\n    }\n</style>\n<table border=\"1\" class=\"dataframe\">\n  <thead>\n    <tr style=\"text-align: right;\">\n      <th></th>\n      <th>date</th>\n      <th>value</th>\n    </tr>\n  </thead>\n  <tbody>\n    <tr>\n      <th>0</th>\n      <td>2022-06-01</td>\n      <td>100</td>\n    </tr>\n    <tr>\n      <th>1</th>\n      <td>2022-06-02</td>\n      <td>200</td>\n    </tr>\n    <tr>\n      <th>2</th>\n      <td>2022-06-03</td>\n      <td>300</td>\n    </tr>\n    <tr>\n      <th>3</th>\n      <td>2022-06-04</td>\n      <td>400</td>\n    </tr>\n    <tr>\n      <th>4</th>\n      <td>2022-06-05</td>\n      <td>500</td>\n    </tr>\n  </tbody>\n</table>\n</div>"
     },
     "execution_count": 46,
     "metadata": {},
     "output_type": "execute_result"
    }
   ],
   "source": [
    "# Создания датафрейма из списка кортежей с указанием заголовков\n",
    "# [(value1, value2), ..., (..., ...)]\n",
    "dataLists = [\n",
    "    ('2022-06-01', 100),\n",
    "    ('2022-06-02', 200),\n",
    "    ('2022-06-03', 300),\n",
    "    ('2022-06-04', 400),\n",
    "    ('2022-06-05', 500),\n",
    "]\n",
    "\n",
    "# В данном случае необходимо самостоятельно задавать название колонок\n",
    "headers = [ 'date', 'value' ]\n",
    "pd.DataFrame(dataLists, columns = headers )"
   ],
   "metadata": {
    "collapsed": false,
    "pycharm": {
     "name": "#%%\n"
    },
    "ExecuteTime": {
     "end_time": "2023-05-15T18:11:40.678963Z",
     "start_time": "2023-05-15T18:11:40.594208Z"
    }
   }
  },
  {
   "cell_type": "markdown",
   "source": [
    "## Импорт данных для DataFrame из файлов"
   ],
   "metadata": {
    "collapsed": false,
    "pycharm": {
     "name": "#%% md\n"
    }
   }
  },
  {
   "cell_type": "code",
   "execution_count": 47,
   "outputs": [
    {
     "data": {
      "text/plain": "  State  Account length  Area code International plan Voice mail plan   \n0    KS             128        415                 No             Yes  \\\n1    OH             107        415                 No             Yes   \n2    NJ             137        415                 No              No   \n3    OH              84        408                Yes              No   \n4    OK              75        415                Yes              No   \n\n   Number vmail messages  Total day minutes  Total day calls   \n0                     25              265.1              110  \\\n1                     26              161.6              123   \n2                      0              243.4              114   \n3                      0              299.4               71   \n4                      0              166.7              113   \n\n   Total day charge  Total eve minutes  Total eve calls  Total eve charge   \n0             45.07              197.4               99             16.78  \\\n1             27.47              195.5              103             16.62   \n2             41.38              121.2              110             10.30   \n3             50.90               61.9               88              5.26   \n4             28.34              148.3              122             12.61   \n\n   Total night minutes  Total night calls  Total night charge   \n0                244.7                 91               11.01  \\\n1                254.4                103               11.45   \n2                162.6                104                7.32   \n3                196.9                 89                8.86   \n4                186.9                121                8.41   \n\n   Total intl minutes  Total intl calls  Total intl charge   \n0                10.0                 3               2.70  \\\n1                13.7                 3               3.70   \n2                12.2                 5               3.29   \n3                 6.6                 7               1.78   \n4                10.1                 3               2.73   \n\n   Customer service calls  Churn  \n0                       1  False  \n1                       1  False  \n2                       0  False  \n3                       2  False  \n4                       3  False  ",
      "text/html": "<div>\n<style scoped>\n    .dataframe tbody tr th:only-of-type {\n        vertical-align: middle;\n    }\n\n    .dataframe tbody tr th {\n        vertical-align: top;\n    }\n\n    .dataframe thead th {\n        text-align: right;\n    }\n</style>\n<table border=\"1\" class=\"dataframe\">\n  <thead>\n    <tr style=\"text-align: right;\">\n      <th></th>\n      <th>State</th>\n      <th>Account length</th>\n      <th>Area code</th>\n      <th>International plan</th>\n      <th>Voice mail plan</th>\n      <th>Number vmail messages</th>\n      <th>Total day minutes</th>\n      <th>Total day calls</th>\n      <th>Total day charge</th>\n      <th>Total eve minutes</th>\n      <th>Total eve calls</th>\n      <th>Total eve charge</th>\n      <th>Total night minutes</th>\n      <th>Total night calls</th>\n      <th>Total night charge</th>\n      <th>Total intl minutes</th>\n      <th>Total intl calls</th>\n      <th>Total intl charge</th>\n      <th>Customer service calls</th>\n      <th>Churn</th>\n    </tr>\n  </thead>\n  <tbody>\n    <tr>\n      <th>0</th>\n      <td>KS</td>\n      <td>128</td>\n      <td>415</td>\n      <td>No</td>\n      <td>Yes</td>\n      <td>25</td>\n      <td>265.1</td>\n      <td>110</td>\n      <td>45.07</td>\n      <td>197.4</td>\n      <td>99</td>\n      <td>16.78</td>\n      <td>244.7</td>\n      <td>91</td>\n      <td>11.01</td>\n      <td>10.0</td>\n      <td>3</td>\n      <td>2.70</td>\n      <td>1</td>\n      <td>False</td>\n    </tr>\n    <tr>\n      <th>1</th>\n      <td>OH</td>\n      <td>107</td>\n      <td>415</td>\n      <td>No</td>\n      <td>Yes</td>\n      <td>26</td>\n      <td>161.6</td>\n      <td>123</td>\n      <td>27.47</td>\n      <td>195.5</td>\n      <td>103</td>\n      <td>16.62</td>\n      <td>254.4</td>\n      <td>103</td>\n      <td>11.45</td>\n      <td>13.7</td>\n      <td>3</td>\n      <td>3.70</td>\n      <td>1</td>\n      <td>False</td>\n    </tr>\n    <tr>\n      <th>2</th>\n      <td>NJ</td>\n      <td>137</td>\n      <td>415</td>\n      <td>No</td>\n      <td>No</td>\n      <td>0</td>\n      <td>243.4</td>\n      <td>114</td>\n      <td>41.38</td>\n      <td>121.2</td>\n      <td>110</td>\n      <td>10.30</td>\n      <td>162.6</td>\n      <td>104</td>\n      <td>7.32</td>\n      <td>12.2</td>\n      <td>5</td>\n      <td>3.29</td>\n      <td>0</td>\n      <td>False</td>\n    </tr>\n    <tr>\n      <th>3</th>\n      <td>OH</td>\n      <td>84</td>\n      <td>408</td>\n      <td>Yes</td>\n      <td>No</td>\n      <td>0</td>\n      <td>299.4</td>\n      <td>71</td>\n      <td>50.90</td>\n      <td>61.9</td>\n      <td>88</td>\n      <td>5.26</td>\n      <td>196.9</td>\n      <td>89</td>\n      <td>8.86</td>\n      <td>6.6</td>\n      <td>7</td>\n      <td>1.78</td>\n      <td>2</td>\n      <td>False</td>\n    </tr>\n    <tr>\n      <th>4</th>\n      <td>OK</td>\n      <td>75</td>\n      <td>415</td>\n      <td>Yes</td>\n      <td>No</td>\n      <td>0</td>\n      <td>166.7</td>\n      <td>113</td>\n      <td>28.34</td>\n      <td>148.3</td>\n      <td>122</td>\n      <td>12.61</td>\n      <td>186.9</td>\n      <td>121</td>\n      <td>8.41</td>\n      <td>10.1</td>\n      <td>3</td>\n      <td>2.73</td>\n      <td>3</td>\n      <td>False</td>\n    </tr>\n  </tbody>\n</table>\n</div>"
     },
     "execution_count": 47,
     "metadata": {},
     "output_type": "execute_result"
    }
   ],
   "source": [
    "# https://pandas.pydata.org/pandas-docs/stable/generated/pandas.read_csv.html#pandas.read_csv\n",
    "# Если разделитель не запятая то указываем разделитель столбцов при импорте\n",
    "# заголовок у нашего файла есть, в случего если заголовкой нет, его можно задать свои названия (удобно, если изначально они на русском)\n",
    "# выводим первые 10 строк\n",
    "\n",
    "data = pd.read_csv( '../files/telecom_churn.csv', delimiter = ',')\n",
    "data.head(5)"
   ],
   "metadata": {
    "collapsed": false,
    "pycharm": {
     "name": "#%%\n"
    },
    "ExecuteTime": {
     "end_time": "2023-05-15T18:15:26.255761Z",
     "start_time": "2023-05-15T18:15:26.173098Z"
    }
   }
  },
  {
   "cell_type": "code",
   "execution_count": 48,
   "outputs": [
    {
     "data": {
      "text/plain": "     State  Account length  Area code International plan Voice mail plan   \n3330    RI              28        510                 No              No  \\\n3331    CT             184        510                Yes              No   \n3332    TN              74        415                 No             Yes   \n\n      Number vmail messages  Total day minutes  Total day calls   \n3330                      0              180.8              109  \\\n3331                      0              213.8              105   \n3332                     25              234.4              113   \n\n      Total day charge  Total eve minutes  Total eve calls  Total eve charge   \n3330             30.74              288.8               58             24.55  \\\n3331             36.35              159.6               84             13.57   \n3332             39.85              265.9               82             22.60   \n\n      Total night minutes  Total night calls  Total night charge   \n3330                191.9                 91                8.64  \\\n3331                139.2                137                6.26   \n3332                241.4                 77               10.86   \n\n      Total intl minutes  Total intl calls  Total intl charge   \n3330                14.1                 6               3.81  \\\n3331                 5.0                10               1.35   \n3332                13.7                 4               3.70   \n\n      Customer service calls  Churn  \n3330                       2  False  \n3331                       2  False  \n3332                       0  False  ",
      "text/html": "<div>\n<style scoped>\n    .dataframe tbody tr th:only-of-type {\n        vertical-align: middle;\n    }\n\n    .dataframe tbody tr th {\n        vertical-align: top;\n    }\n\n    .dataframe thead th {\n        text-align: right;\n    }\n</style>\n<table border=\"1\" class=\"dataframe\">\n  <thead>\n    <tr style=\"text-align: right;\">\n      <th></th>\n      <th>State</th>\n      <th>Account length</th>\n      <th>Area code</th>\n      <th>International plan</th>\n      <th>Voice mail plan</th>\n      <th>Number vmail messages</th>\n      <th>Total day minutes</th>\n      <th>Total day calls</th>\n      <th>Total day charge</th>\n      <th>Total eve minutes</th>\n      <th>Total eve calls</th>\n      <th>Total eve charge</th>\n      <th>Total night minutes</th>\n      <th>Total night calls</th>\n      <th>Total night charge</th>\n      <th>Total intl minutes</th>\n      <th>Total intl calls</th>\n      <th>Total intl charge</th>\n      <th>Customer service calls</th>\n      <th>Churn</th>\n    </tr>\n  </thead>\n  <tbody>\n    <tr>\n      <th>3330</th>\n      <td>RI</td>\n      <td>28</td>\n      <td>510</td>\n      <td>No</td>\n      <td>No</td>\n      <td>0</td>\n      <td>180.8</td>\n      <td>109</td>\n      <td>30.74</td>\n      <td>288.8</td>\n      <td>58</td>\n      <td>24.55</td>\n      <td>191.9</td>\n      <td>91</td>\n      <td>8.64</td>\n      <td>14.1</td>\n      <td>6</td>\n      <td>3.81</td>\n      <td>2</td>\n      <td>False</td>\n    </tr>\n    <tr>\n      <th>3331</th>\n      <td>CT</td>\n      <td>184</td>\n      <td>510</td>\n      <td>Yes</td>\n      <td>No</td>\n      <td>0</td>\n      <td>213.8</td>\n      <td>105</td>\n      <td>36.35</td>\n      <td>159.6</td>\n      <td>84</td>\n      <td>13.57</td>\n      <td>139.2</td>\n      <td>137</td>\n      <td>6.26</td>\n      <td>5.0</td>\n      <td>10</td>\n      <td>1.35</td>\n      <td>2</td>\n      <td>False</td>\n    </tr>\n    <tr>\n      <th>3332</th>\n      <td>TN</td>\n      <td>74</td>\n      <td>415</td>\n      <td>No</td>\n      <td>Yes</td>\n      <td>25</td>\n      <td>234.4</td>\n      <td>113</td>\n      <td>39.85</td>\n      <td>265.9</td>\n      <td>82</td>\n      <td>22.60</td>\n      <td>241.4</td>\n      <td>77</td>\n      <td>10.86</td>\n      <td>13.7</td>\n      <td>4</td>\n      <td>3.70</td>\n      <td>0</td>\n      <td>False</td>\n    </tr>\n  </tbody>\n</table>\n</div>"
     },
     "execution_count": 48,
     "metadata": {},
     "output_type": "execute_result"
    }
   ],
   "source": [
    "# Вывод последних n наблюдений\n",
    "data.tail(3)"
   ],
   "metadata": {
    "collapsed": false,
    "pycharm": {
     "name": "#%%\n"
    },
    "ExecuteTime": {
     "end_time": "2023-05-15T18:19:08.064108Z",
     "start_time": "2023-05-15T18:19:07.980198Z"
    }
   }
  },
  {
   "cell_type": "code",
   "execution_count": 49,
   "outputs": [
    {
     "name": "stdout",
     "output_type": "stream",
     "text": [
      "<class 'pandas.core.frame.DataFrame'>\n",
      "RangeIndex: 3333 entries, 0 to 3332\n",
      "Data columns (total 20 columns):\n",
      " #   Column                  Non-Null Count  Dtype  \n",
      "---  ------                  --------------  -----  \n",
      " 0   State                   3333 non-null   object \n",
      " 1   Account length          3333 non-null   int64  \n",
      " 2   Area code               3333 non-null   int64  \n",
      " 3   International plan      3333 non-null   object \n",
      " 4   Voice mail plan         3333 non-null   object \n",
      " 5   Number vmail messages   3333 non-null   int64  \n",
      " 6   Total day minutes       3333 non-null   float64\n",
      " 7   Total day calls         3333 non-null   int64  \n",
      " 8   Total day charge        3333 non-null   float64\n",
      " 9   Total eve minutes       3333 non-null   float64\n",
      " 10  Total eve calls         3333 non-null   int64  \n",
      " 11  Total eve charge        3333 non-null   float64\n",
      " 12  Total night minutes     3333 non-null   float64\n",
      " 13  Total night calls       3333 non-null   int64  \n",
      " 14  Total night charge      3333 non-null   float64\n",
      " 15  Total intl minutes      3333 non-null   float64\n",
      " 16  Total intl calls        3333 non-null   int64  \n",
      " 17  Total intl charge       3333 non-null   float64\n",
      " 18  Customer service calls  3333 non-null   int64  \n",
      " 19  Churn                   3333 non-null   bool   \n",
      "dtypes: bool(1), float64(8), int64(8), object(3)\n",
      "memory usage: 498.1+ KB\n"
     ]
    }
   ],
   "source": [
    "# основная информация о нашем DataFrame которая может показать в каких данных много пропусков и тип данных\n",
    "# https://pandas.pydata.org/pandas-docs/stable/generated/pandas.DataFrame.info.html\n",
    "data.info()"
   ],
   "metadata": {
    "collapsed": false,
    "pycharm": {
     "name": "#%%\n"
    },
    "ExecuteTime": {
     "end_time": "2023-05-15T18:19:40.610980Z",
     "start_time": "2023-05-15T18:19:40.538493Z"
    }
   }
  },
  {
   "cell_type": "code",
   "execution_count": 50,
   "outputs": [
    {
     "data": {
      "text/plain": "       Account length    Area code  Number vmail messages  Total day minutes   \ncount     3333.000000  3333.000000            3333.000000        3333.000000  \\\nmean       101.064806   437.182418               8.099010         179.775098   \nstd         39.822106    42.371290              13.688365          54.467389   \nmin          1.000000   408.000000               0.000000           0.000000   \n25%         74.000000   408.000000               0.000000         143.700000   \n50%        101.000000   415.000000               0.000000         179.400000   \n75%        127.000000   510.000000              20.000000         216.400000   \nmax        243.000000   510.000000              51.000000         350.800000   \n\n       Total day calls  Total day charge  Total eve minutes  Total eve calls   \ncount      3333.000000       3333.000000        3333.000000      3333.000000  \\\nmean        100.435644         30.562307         200.980348       100.114311   \nstd          20.069084          9.259435          50.713844        19.922625   \nmin           0.000000          0.000000           0.000000         0.000000   \n25%          87.000000         24.430000         166.600000        87.000000   \n50%         101.000000         30.500000         201.400000       100.000000   \n75%         114.000000         36.790000         235.300000       114.000000   \nmax         165.000000         59.640000         363.700000       170.000000   \n\n       Total eve charge  Total night minutes  Total night calls   \ncount       3333.000000          3333.000000        3333.000000  \\\nmean          17.083540           200.872037         100.107711   \nstd            4.310668            50.573847          19.568609   \nmin            0.000000            23.200000          33.000000   \n25%           14.160000           167.000000          87.000000   \n50%           17.120000           201.200000         100.000000   \n75%           20.000000           235.300000         113.000000   \nmax           30.910000           395.000000         175.000000   \n\n       Total night charge  Total intl minutes  Total intl calls   \ncount         3333.000000         3333.000000       3333.000000  \\\nmean             9.039325           10.237294          4.479448   \nstd              2.275873            2.791840          2.461214   \nmin              1.040000            0.000000          0.000000   \n25%              7.520000            8.500000          3.000000   \n50%              9.050000           10.300000          4.000000   \n75%             10.590000           12.100000          6.000000   \nmax             17.770000           20.000000         20.000000   \n\n       Total intl charge  Customer service calls  \ncount        3333.000000             3333.000000  \nmean            2.764581                1.562856  \nstd             0.753773                1.315491  \nmin             0.000000                0.000000  \n25%             2.300000                1.000000  \n50%             2.780000                1.000000  \n75%             3.270000                2.000000  \nmax             5.400000                9.000000  ",
      "text/html": "<div>\n<style scoped>\n    .dataframe tbody tr th:only-of-type {\n        vertical-align: middle;\n    }\n\n    .dataframe tbody tr th {\n        vertical-align: top;\n    }\n\n    .dataframe thead th {\n        text-align: right;\n    }\n</style>\n<table border=\"1\" class=\"dataframe\">\n  <thead>\n    <tr style=\"text-align: right;\">\n      <th></th>\n      <th>Account length</th>\n      <th>Area code</th>\n      <th>Number vmail messages</th>\n      <th>Total day minutes</th>\n      <th>Total day calls</th>\n      <th>Total day charge</th>\n      <th>Total eve minutes</th>\n      <th>Total eve calls</th>\n      <th>Total eve charge</th>\n      <th>Total night minutes</th>\n      <th>Total night calls</th>\n      <th>Total night charge</th>\n      <th>Total intl minutes</th>\n      <th>Total intl calls</th>\n      <th>Total intl charge</th>\n      <th>Customer service calls</th>\n    </tr>\n  </thead>\n  <tbody>\n    <tr>\n      <th>count</th>\n      <td>3333.000000</td>\n      <td>3333.000000</td>\n      <td>3333.000000</td>\n      <td>3333.000000</td>\n      <td>3333.000000</td>\n      <td>3333.000000</td>\n      <td>3333.000000</td>\n      <td>3333.000000</td>\n      <td>3333.000000</td>\n      <td>3333.000000</td>\n      <td>3333.000000</td>\n      <td>3333.000000</td>\n      <td>3333.000000</td>\n      <td>3333.000000</td>\n      <td>3333.000000</td>\n      <td>3333.000000</td>\n    </tr>\n    <tr>\n      <th>mean</th>\n      <td>101.064806</td>\n      <td>437.182418</td>\n      <td>8.099010</td>\n      <td>179.775098</td>\n      <td>100.435644</td>\n      <td>30.562307</td>\n      <td>200.980348</td>\n      <td>100.114311</td>\n      <td>17.083540</td>\n      <td>200.872037</td>\n      <td>100.107711</td>\n      <td>9.039325</td>\n      <td>10.237294</td>\n      <td>4.479448</td>\n      <td>2.764581</td>\n      <td>1.562856</td>\n    </tr>\n    <tr>\n      <th>std</th>\n      <td>39.822106</td>\n      <td>42.371290</td>\n      <td>13.688365</td>\n      <td>54.467389</td>\n      <td>20.069084</td>\n      <td>9.259435</td>\n      <td>50.713844</td>\n      <td>19.922625</td>\n      <td>4.310668</td>\n      <td>50.573847</td>\n      <td>19.568609</td>\n      <td>2.275873</td>\n      <td>2.791840</td>\n      <td>2.461214</td>\n      <td>0.753773</td>\n      <td>1.315491</td>\n    </tr>\n    <tr>\n      <th>min</th>\n      <td>1.000000</td>\n      <td>408.000000</td>\n      <td>0.000000</td>\n      <td>0.000000</td>\n      <td>0.000000</td>\n      <td>0.000000</td>\n      <td>0.000000</td>\n      <td>0.000000</td>\n      <td>0.000000</td>\n      <td>23.200000</td>\n      <td>33.000000</td>\n      <td>1.040000</td>\n      <td>0.000000</td>\n      <td>0.000000</td>\n      <td>0.000000</td>\n      <td>0.000000</td>\n    </tr>\n    <tr>\n      <th>25%</th>\n      <td>74.000000</td>\n      <td>408.000000</td>\n      <td>0.000000</td>\n      <td>143.700000</td>\n      <td>87.000000</td>\n      <td>24.430000</td>\n      <td>166.600000</td>\n      <td>87.000000</td>\n      <td>14.160000</td>\n      <td>167.000000</td>\n      <td>87.000000</td>\n      <td>7.520000</td>\n      <td>8.500000</td>\n      <td>3.000000</td>\n      <td>2.300000</td>\n      <td>1.000000</td>\n    </tr>\n    <tr>\n      <th>50%</th>\n      <td>101.000000</td>\n      <td>415.000000</td>\n      <td>0.000000</td>\n      <td>179.400000</td>\n      <td>101.000000</td>\n      <td>30.500000</td>\n      <td>201.400000</td>\n      <td>100.000000</td>\n      <td>17.120000</td>\n      <td>201.200000</td>\n      <td>100.000000</td>\n      <td>9.050000</td>\n      <td>10.300000</td>\n      <td>4.000000</td>\n      <td>2.780000</td>\n      <td>1.000000</td>\n    </tr>\n    <tr>\n      <th>75%</th>\n      <td>127.000000</td>\n      <td>510.000000</td>\n      <td>20.000000</td>\n      <td>216.400000</td>\n      <td>114.000000</td>\n      <td>36.790000</td>\n      <td>235.300000</td>\n      <td>114.000000</td>\n      <td>20.000000</td>\n      <td>235.300000</td>\n      <td>113.000000</td>\n      <td>10.590000</td>\n      <td>12.100000</td>\n      <td>6.000000</td>\n      <td>3.270000</td>\n      <td>2.000000</td>\n    </tr>\n    <tr>\n      <th>max</th>\n      <td>243.000000</td>\n      <td>510.000000</td>\n      <td>51.000000</td>\n      <td>350.800000</td>\n      <td>165.000000</td>\n      <td>59.640000</td>\n      <td>363.700000</td>\n      <td>170.000000</td>\n      <td>30.910000</td>\n      <td>395.000000</td>\n      <td>175.000000</td>\n      <td>17.770000</td>\n      <td>20.000000</td>\n      <td>20.000000</td>\n      <td>5.400000</td>\n      <td>9.000000</td>\n    </tr>\n  </tbody>\n</table>\n</div>"
     },
     "execution_count": 50,
     "metadata": {},
     "output_type": "execute_result"
    }
   ],
   "source": [
    "# Базовая статистика DataFrame вывод зависит от типа данных\n",
    "# https://pandas.pydata.org/pandas-docs/stable/generated/pandas.DataFrame.describe.html\n",
    "data.describe()"
   ],
   "metadata": {
    "collapsed": false,
    "pycharm": {
     "name": "#%%\n"
    },
    "ExecuteTime": {
     "end_time": "2023-05-15T18:20:34.161244Z",
     "start_time": "2023-05-15T18:20:34.079104Z"
    }
   }
  },
  {
   "cell_type": "code",
   "execution_count": 51,
   "outputs": [
    {
     "data": {
      "text/plain": "                         count        mean        std     min     25%     50%   \nAccount length          3333.0  101.064806  39.822106    1.00   74.00  101.00  \\\nArea code               3333.0  437.182418  42.371290  408.00  408.00  415.00   \nNumber vmail messages   3333.0    8.099010  13.688365    0.00    0.00    0.00   \nTotal day minutes       3333.0  179.775098  54.467389    0.00  143.70  179.40   \nTotal day calls         3333.0  100.435644  20.069084    0.00   87.00  101.00   \nTotal day charge        3333.0   30.562307   9.259435    0.00   24.43   30.50   \nTotal eve minutes       3333.0  200.980348  50.713844    0.00  166.60  201.40   \nTotal eve calls         3333.0  100.114311  19.922625    0.00   87.00  100.00   \nTotal eve charge        3333.0   17.083540   4.310668    0.00   14.16   17.12   \nTotal night minutes     3333.0  200.872037  50.573847   23.20  167.00  201.20   \nTotal night calls       3333.0  100.107711  19.568609   33.00   87.00  100.00   \nTotal night charge      3333.0    9.039325   2.275873    1.04    7.52    9.05   \nTotal intl minutes      3333.0   10.237294   2.791840    0.00    8.50   10.30   \nTotal intl calls        3333.0    4.479448   2.461214    0.00    3.00    4.00   \nTotal intl charge       3333.0    2.764581   0.753773    0.00    2.30    2.78   \nCustomer service calls  3333.0    1.562856   1.315491    0.00    1.00    1.00   \n\n                           75%     max  \nAccount length          127.00  243.00  \nArea code               510.00  510.00  \nNumber vmail messages    20.00   51.00  \nTotal day minutes       216.40  350.80  \nTotal day calls         114.00  165.00  \nTotal day charge         36.79   59.64  \nTotal eve minutes       235.30  363.70  \nTotal eve calls         114.00  170.00  \nTotal eve charge         20.00   30.91  \nTotal night minutes     235.30  395.00  \nTotal night calls       113.00  175.00  \nTotal night charge       10.59   17.77  \nTotal intl minutes       12.10   20.00  \nTotal intl calls          6.00   20.00  \nTotal intl charge         3.27    5.40  \nCustomer service calls    2.00    9.00  ",
      "text/html": "<div>\n<style scoped>\n    .dataframe tbody tr th:only-of-type {\n        vertical-align: middle;\n    }\n\n    .dataframe tbody tr th {\n        vertical-align: top;\n    }\n\n    .dataframe thead th {\n        text-align: right;\n    }\n</style>\n<table border=\"1\" class=\"dataframe\">\n  <thead>\n    <tr style=\"text-align: right;\">\n      <th></th>\n      <th>count</th>\n      <th>mean</th>\n      <th>std</th>\n      <th>min</th>\n      <th>25%</th>\n      <th>50%</th>\n      <th>75%</th>\n      <th>max</th>\n    </tr>\n  </thead>\n  <tbody>\n    <tr>\n      <th>Account length</th>\n      <td>3333.0</td>\n      <td>101.064806</td>\n      <td>39.822106</td>\n      <td>1.00</td>\n      <td>74.00</td>\n      <td>101.00</td>\n      <td>127.00</td>\n      <td>243.00</td>\n    </tr>\n    <tr>\n      <th>Area code</th>\n      <td>3333.0</td>\n      <td>437.182418</td>\n      <td>42.371290</td>\n      <td>408.00</td>\n      <td>408.00</td>\n      <td>415.00</td>\n      <td>510.00</td>\n      <td>510.00</td>\n    </tr>\n    <tr>\n      <th>Number vmail messages</th>\n      <td>3333.0</td>\n      <td>8.099010</td>\n      <td>13.688365</td>\n      <td>0.00</td>\n      <td>0.00</td>\n      <td>0.00</td>\n      <td>20.00</td>\n      <td>51.00</td>\n    </tr>\n    <tr>\n      <th>Total day minutes</th>\n      <td>3333.0</td>\n      <td>179.775098</td>\n      <td>54.467389</td>\n      <td>0.00</td>\n      <td>143.70</td>\n      <td>179.40</td>\n      <td>216.40</td>\n      <td>350.80</td>\n    </tr>\n    <tr>\n      <th>Total day calls</th>\n      <td>3333.0</td>\n      <td>100.435644</td>\n      <td>20.069084</td>\n      <td>0.00</td>\n      <td>87.00</td>\n      <td>101.00</td>\n      <td>114.00</td>\n      <td>165.00</td>\n    </tr>\n    <tr>\n      <th>Total day charge</th>\n      <td>3333.0</td>\n      <td>30.562307</td>\n      <td>9.259435</td>\n      <td>0.00</td>\n      <td>24.43</td>\n      <td>30.50</td>\n      <td>36.79</td>\n      <td>59.64</td>\n    </tr>\n    <tr>\n      <th>Total eve minutes</th>\n      <td>3333.0</td>\n      <td>200.980348</td>\n      <td>50.713844</td>\n      <td>0.00</td>\n      <td>166.60</td>\n      <td>201.40</td>\n      <td>235.30</td>\n      <td>363.70</td>\n    </tr>\n    <tr>\n      <th>Total eve calls</th>\n      <td>3333.0</td>\n      <td>100.114311</td>\n      <td>19.922625</td>\n      <td>0.00</td>\n      <td>87.00</td>\n      <td>100.00</td>\n      <td>114.00</td>\n      <td>170.00</td>\n    </tr>\n    <tr>\n      <th>Total eve charge</th>\n      <td>3333.0</td>\n      <td>17.083540</td>\n      <td>4.310668</td>\n      <td>0.00</td>\n      <td>14.16</td>\n      <td>17.12</td>\n      <td>20.00</td>\n      <td>30.91</td>\n    </tr>\n    <tr>\n      <th>Total night minutes</th>\n      <td>3333.0</td>\n      <td>200.872037</td>\n      <td>50.573847</td>\n      <td>23.20</td>\n      <td>167.00</td>\n      <td>201.20</td>\n      <td>235.30</td>\n      <td>395.00</td>\n    </tr>\n    <tr>\n      <th>Total night calls</th>\n      <td>3333.0</td>\n      <td>100.107711</td>\n      <td>19.568609</td>\n      <td>33.00</td>\n      <td>87.00</td>\n      <td>100.00</td>\n      <td>113.00</td>\n      <td>175.00</td>\n    </tr>\n    <tr>\n      <th>Total night charge</th>\n      <td>3333.0</td>\n      <td>9.039325</td>\n      <td>2.275873</td>\n      <td>1.04</td>\n      <td>7.52</td>\n      <td>9.05</td>\n      <td>10.59</td>\n      <td>17.77</td>\n    </tr>\n    <tr>\n      <th>Total intl minutes</th>\n      <td>3333.0</td>\n      <td>10.237294</td>\n      <td>2.791840</td>\n      <td>0.00</td>\n      <td>8.50</td>\n      <td>10.30</td>\n      <td>12.10</td>\n      <td>20.00</td>\n    </tr>\n    <tr>\n      <th>Total intl calls</th>\n      <td>3333.0</td>\n      <td>4.479448</td>\n      <td>2.461214</td>\n      <td>0.00</td>\n      <td>3.00</td>\n      <td>4.00</td>\n      <td>6.00</td>\n      <td>20.00</td>\n    </tr>\n    <tr>\n      <th>Total intl charge</th>\n      <td>3333.0</td>\n      <td>2.764581</td>\n      <td>0.753773</td>\n      <td>0.00</td>\n      <td>2.30</td>\n      <td>2.78</td>\n      <td>3.27</td>\n      <td>5.40</td>\n    </tr>\n    <tr>\n      <th>Customer service calls</th>\n      <td>3333.0</td>\n      <td>1.562856</td>\n      <td>1.315491</td>\n      <td>0.00</td>\n      <td>1.00</td>\n      <td>1.00</td>\n      <td>2.00</td>\n      <td>9.00</td>\n    </tr>\n  </tbody>\n</table>\n</div>"
     },
     "execution_count": 51,
     "metadata": {},
     "output_type": "execute_result"
    }
   ],
   "source": [
    "# При анализе удобно применять операцию транспонирования ради того чтобы облегчить анализ признаков\n",
    "data.describe().T"
   ],
   "metadata": {
    "collapsed": false,
    "ExecuteTime": {
     "end_time": "2023-05-15T18:20:47.079169Z",
     "start_time": "2023-05-15T18:20:46.991620Z"
    }
   }
  },
  {
   "cell_type": "code",
   "execution_count": 52,
   "outputs": [
    {
     "data": {
      "text/plain": "       Total day calls  Total night calls\ncount      3333.000000        3333.000000\nmean        100.435644         100.107711\nstd          20.069084          19.568609\nmin           0.000000          33.000000\n25%          87.000000          87.000000\n50%         101.000000         100.000000\n75%         114.000000         113.000000\nmax         165.000000         175.000000",
      "text/html": "<div>\n<style scoped>\n    .dataframe tbody tr th:only-of-type {\n        vertical-align: middle;\n    }\n\n    .dataframe tbody tr th {\n        vertical-align: top;\n    }\n\n    .dataframe thead th {\n        text-align: right;\n    }\n</style>\n<table border=\"1\" class=\"dataframe\">\n  <thead>\n    <tr style=\"text-align: right;\">\n      <th></th>\n      <th>Total day calls</th>\n      <th>Total night calls</th>\n    </tr>\n  </thead>\n  <tbody>\n    <tr>\n      <th>count</th>\n      <td>3333.000000</td>\n      <td>3333.000000</td>\n    </tr>\n    <tr>\n      <th>mean</th>\n      <td>100.435644</td>\n      <td>100.107711</td>\n    </tr>\n    <tr>\n      <th>std</th>\n      <td>20.069084</td>\n      <td>19.568609</td>\n    </tr>\n    <tr>\n      <th>min</th>\n      <td>0.000000</td>\n      <td>33.000000</td>\n    </tr>\n    <tr>\n      <th>25%</th>\n      <td>87.000000</td>\n      <td>87.000000</td>\n    </tr>\n    <tr>\n      <th>50%</th>\n      <td>101.000000</td>\n      <td>100.000000</td>\n    </tr>\n    <tr>\n      <th>75%</th>\n      <td>114.000000</td>\n      <td>113.000000</td>\n    </tr>\n    <tr>\n      <th>max</th>\n      <td>165.000000</td>\n      <td>175.000000</td>\n    </tr>\n  </tbody>\n</table>\n</div>"
     },
     "execution_count": 52,
     "metadata": {},
     "output_type": "execute_result"
    }
   ],
   "source": [
    "# Мы можем делать выборку признаков в формате\n",
    "# dataset[[colname1, ..., colnameN]]\n",
    "data[['Total day calls', 'Total night calls']].describe()"
   ],
   "metadata": {
    "collapsed": false,
    "pycharm": {
     "name": "#%%\n"
    },
    "ExecuteTime": {
     "end_time": "2023-05-15T18:22:43.568634Z",
     "start_time": "2023-05-15T18:22:43.428072Z"
    }
   }
  },
  {
   "cell_type": "markdown",
   "source": [
    "# Форматирование столбцов"
   ],
   "metadata": {
    "collapsed": false,
    "pycharm": {
     "name": "#%% md\n"
    }
   }
  },
  {
   "cell_type": "code",
   "execution_count": 53,
   "outputs": [
    {
     "data": {
      "text/plain": "'0  415\\n1  415\\n2  415\\n3  408\\n4  415'"
     },
     "execution_count": 53,
     "metadata": {},
     "output_type": "execute_result"
    }
   ],
   "source": [
    "from pprint import pprint\n",
    "# преобразование DataFrame в строку\n",
    "# https://pandas.pydata.org/pandas-docs/stable/generated/pandas.DataFrame.to_string.html\n",
    "data.head().to_string( columns = ['Area code'], header = False )"
   ],
   "metadata": {
    "collapsed": false,
    "pycharm": {
     "name": "#%%\n"
    },
    "ExecuteTime": {
     "end_time": "2023-05-15T18:24:29.702199Z",
     "start_time": "2023-05-15T18:24:29.658724Z"
    }
   }
  },
  {
   "cell_type": "code",
   "execution_count": 54,
   "outputs": [],
   "source": [
    "# задаем желаемый формат столбцов\n",
    "formatter = {\n",
    "    'Total night calls': '{:.2f}'.format,\n",
    "    'Total day calls': '{:.1f}'.format,\n",
    "}"
   ],
   "metadata": {
    "collapsed": false,
    "pycharm": {
     "name": "#%%\n"
    },
    "ExecuteTime": {
     "end_time": "2023-05-15T18:25:24.379555Z",
     "start_time": "2023-05-15T18:25:24.338397Z"
    }
   }
  },
  {
   "cell_type": "code",
   "execution_count": 55,
   "outputs": [
    {
     "name": "stdout",
     "output_type": "stream",
     "text": [
      "'0  91.00 110.0\\n1 103.00 123.0\\n2 104.00 114.0\\n3  89.00  71.0\\n4 121.00 113.0'\n"
     ]
    }
   ],
   "source": [
    "formattedColumns = data.head().to_string( columns = ['Total night calls', 'Total day calls'], header = False, formatters = formatter )\n",
    "pprint(formattedColumns)"
   ],
   "metadata": {
    "collapsed": false,
    "pycharm": {
     "name": "#%%\n"
    },
    "ExecuteTime": {
     "end_time": "2023-05-15T18:25:40.134366Z",
     "start_time": "2023-05-15T18:25:40.051444Z"
    }
   }
  },
  {
   "cell_type": "markdown",
   "source": [
    "# Поэлементные действия с DataFrame"
   ],
   "metadata": {
    "collapsed": false,
    "pycharm": {
     "name": "#%% md\n"
    }
   }
  },
  {
   "cell_type": "code",
   "execution_count": 56,
   "outputs": [
    {
     "data": {
      "text/plain": "   val1  val2\n0     0     1\n1     2     3\n2     4     5",
      "text/html": "<div>\n<style scoped>\n    .dataframe tbody tr th:only-of-type {\n        vertical-align: middle;\n    }\n\n    .dataframe tbody tr th {\n        vertical-align: top;\n    }\n\n    .dataframe thead th {\n        text-align: right;\n    }\n</style>\n<table border=\"1\" class=\"dataframe\">\n  <thead>\n    <tr style=\"text-align: right;\">\n      <th></th>\n      <th>val1</th>\n      <th>val2</th>\n    </tr>\n  </thead>\n  <tbody>\n    <tr>\n      <th>0</th>\n      <td>0</td>\n      <td>1</td>\n    </tr>\n    <tr>\n      <th>1</th>\n      <td>2</td>\n      <td>3</td>\n    </tr>\n    <tr>\n      <th>2</th>\n      <td>4</td>\n      <td>5</td>\n    </tr>\n  </tbody>\n</table>\n</div>"
     },
     "execution_count": 56,
     "metadata": {},
     "output_type": "execute_result"
    }
   ],
   "source": [
    "# зададим два DataFrame\n",
    "df1 = pd.DataFrame( [ (0, 1), (2, 3), (4, 5) ], columns = [ 'val1', 'val2' ] )\n",
    "df1"
   ],
   "metadata": {
    "collapsed": false,
    "pycharm": {
     "name": "#%%\n"
    },
    "ExecuteTime": {
     "end_time": "2023-05-15T18:26:06.903128Z",
     "start_time": "2023-05-15T18:26:06.833804Z"
    }
   }
  },
  {
   "cell_type": "code",
   "execution_count": 57,
   "outputs": [
    {
     "data": {
      "text/plain": "   val1  val2\n0    10    11\n1    12    13\n2    14    15\n3    17    18",
      "text/html": "<div>\n<style scoped>\n    .dataframe tbody tr th:only-of-type {\n        vertical-align: middle;\n    }\n\n    .dataframe tbody tr th {\n        vertical-align: top;\n    }\n\n    .dataframe thead th {\n        text-align: right;\n    }\n</style>\n<table border=\"1\" class=\"dataframe\">\n  <thead>\n    <tr style=\"text-align: right;\">\n      <th></th>\n      <th>val1</th>\n      <th>val2</th>\n    </tr>\n  </thead>\n  <tbody>\n    <tr>\n      <th>0</th>\n      <td>10</td>\n      <td>11</td>\n    </tr>\n    <tr>\n      <th>1</th>\n      <td>12</td>\n      <td>13</td>\n    </tr>\n    <tr>\n      <th>2</th>\n      <td>14</td>\n      <td>15</td>\n    </tr>\n    <tr>\n      <th>3</th>\n      <td>17</td>\n      <td>18</td>\n    </tr>\n  </tbody>\n</table>\n</div>"
     },
     "execution_count": 57,
     "metadata": {},
     "output_type": "execute_result"
    }
   ],
   "source": [
    "df2 = pd.DataFrame( [ (10, 11), (12, 13), (14, 15), (17, 18) ], columns = [ 'val1', 'val2' ] )\n",
    "df2"
   ],
   "metadata": {
    "collapsed": false,
    "pycharm": {
     "name": "#%%\n"
    },
    "ExecuteTime": {
     "end_time": "2023-05-15T18:26:07.210010Z",
     "start_time": "2023-05-15T18:26:07.168469Z"
    }
   }
  },
  {
   "cell_type": "code",
   "execution_count": 58,
   "outputs": [
    {
     "data": {
      "text/plain": "   val1  val2\n0  10.0  12.0\n1  14.0  16.0\n2  18.0  20.0\n3   NaN   NaN",
      "text/html": "<div>\n<style scoped>\n    .dataframe tbody tr th:only-of-type {\n        vertical-align: middle;\n    }\n\n    .dataframe tbody tr th {\n        vertical-align: top;\n    }\n\n    .dataframe thead th {\n        text-align: right;\n    }\n</style>\n<table border=\"1\" class=\"dataframe\">\n  <thead>\n    <tr style=\"text-align: right;\">\n      <th></th>\n      <th>val1</th>\n      <th>val2</th>\n    </tr>\n  </thead>\n  <tbody>\n    <tr>\n      <th>0</th>\n      <td>10.0</td>\n      <td>12.0</td>\n    </tr>\n    <tr>\n      <th>1</th>\n      <td>14.0</td>\n      <td>16.0</td>\n    </tr>\n    <tr>\n      <th>2</th>\n      <td>18.0</td>\n      <td>20.0</td>\n    </tr>\n    <tr>\n      <th>3</th>\n      <td>NaN</td>\n      <td>NaN</td>\n    </tr>\n  </tbody>\n</table>\n</div>"
     },
     "execution_count": 58,
     "metadata": {},
     "output_type": "execute_result"
    }
   ],
   "source": [
    "# функция сложения Если случилось ситуация что количество записей колоник одного датафрейма не совпадают с количество записей другого датафрейма\n",
    "# или не месте записей оказались неправильные (пропущенные) значения то результатом расчета будет являться NaN\n",
    "df1.add( df2 )"
   ],
   "metadata": {
    "collapsed": false,
    "pycharm": {
     "name": "#%%\n"
    },
    "ExecuteTime": {
     "end_time": "2023-05-15T18:26:50.030795Z",
     "start_time": "2023-05-15T18:26:49.959525Z"
    }
   }
  },
  {
   "cell_type": "code",
   "execution_count": 59,
   "outputs": [
    {
     "data": {
      "text/plain": "   val1  val2\n0  10.0  12.0\n1  14.0  16.0\n2  18.0  20.0\n3  17.0  18.0",
      "text/html": "<div>\n<style scoped>\n    .dataframe tbody tr th:only-of-type {\n        vertical-align: middle;\n    }\n\n    .dataframe tbody tr th {\n        vertical-align: top;\n    }\n\n    .dataframe thead th {\n        text-align: right;\n    }\n</style>\n<table border=\"1\" class=\"dataframe\">\n  <thead>\n    <tr style=\"text-align: right;\">\n      <th></th>\n      <th>val1</th>\n      <th>val2</th>\n    </tr>\n  </thead>\n  <tbody>\n    <tr>\n      <th>0</th>\n      <td>10.0</td>\n      <td>12.0</td>\n    </tr>\n    <tr>\n      <th>1</th>\n      <td>14.0</td>\n      <td>16.0</td>\n    </tr>\n    <tr>\n      <th>2</th>\n      <td>18.0</td>\n      <td>20.0</td>\n    </tr>\n    <tr>\n      <th>3</th>\n      <td>17.0</td>\n      <td>18.0</td>\n    </tr>\n  </tbody>\n</table>\n</div>"
     },
     "execution_count": 59,
     "metadata": {},
     "output_type": "execute_result"
    }
   ],
   "source": [
    "# для несовпадающих строк можно воспользоваться методом fill_value и например указать 0\n",
    "df1.add( df2, fill_value = 0 )"
   ],
   "metadata": {
    "collapsed": false,
    "pycharm": {
     "name": "#%%\n"
    },
    "ExecuteTime": {
     "end_time": "2023-05-15T18:27:48.426661Z",
     "start_time": "2023-05-15T18:27:48.336889Z"
    }
   }
  },
  {
   "cell_type": "markdown",
   "source": [
    "### Метод combine - применение функций"
   ],
   "metadata": {
    "collapsed": false,
    "pycharm": {
     "name": "#%% md\n"
    }
   }
  },
  {
   "cell_type": "code",
   "execution_count": 60,
   "outputs": [
    {
     "data": {
      "text/plain": "   val1  val2\n0  10.0  12.0\n1  14.0  16.0\n2  18.0  20.0\n3  17.0  18.0",
      "text/html": "<div>\n<style scoped>\n    .dataframe tbody tr th:only-of-type {\n        vertical-align: middle;\n    }\n\n    .dataframe tbody tr th {\n        vertical-align: top;\n    }\n\n    .dataframe thead th {\n        text-align: right;\n    }\n</style>\n<table border=\"1\" class=\"dataframe\">\n  <thead>\n    <tr style=\"text-align: right;\">\n      <th></th>\n      <th>val1</th>\n      <th>val2</th>\n    </tr>\n  </thead>\n  <tbody>\n    <tr>\n      <th>0</th>\n      <td>10.0</td>\n      <td>12.0</td>\n    </tr>\n    <tr>\n      <th>1</th>\n      <td>14.0</td>\n      <td>16.0</td>\n    </tr>\n    <tr>\n      <th>2</th>\n      <td>18.0</td>\n      <td>20.0</td>\n    </tr>\n    <tr>\n      <th>3</th>\n      <td>17.0</td>\n      <td>18.0</td>\n    </tr>\n  </tbody>\n</table>\n</div>"
     },
     "execution_count": 60,
     "metadata": {},
     "output_type": "execute_result"
    }
   ],
   "source": [
    "# https://pandas.pydata.org/pandas-docs/stable/generated/pandas.DataFrame.combine.html\n",
    "# выполнение функции func с DataFrame\n",
    "df1.combine( df2, func = lambda x, y: x + y, fill_value = 0 )"
   ],
   "metadata": {
    "collapsed": false,
    "pycharm": {
     "name": "#%%\n"
    },
    "ExecuteTime": {
     "end_time": "2023-05-15T18:29:32.608210Z",
     "start_time": "2023-05-15T18:29:32.489452Z"
    }
   }
  },
  {
   "cell_type": "markdown",
   "source": [
    "# mul - перемножение"
   ],
   "metadata": {
    "collapsed": false,
    "pycharm": {
     "name": "#%% md\n"
    }
   }
  },
  {
   "cell_type": "code",
   "execution_count": 61,
   "outputs": [
    {
     "data": {
      "text/plain": "   val1  val2\n0   0.0  11.0\n1  24.0  39.0\n2  56.0  75.0\n3   0.0   0.0",
      "text/html": "<div>\n<style scoped>\n    .dataframe tbody tr th:only-of-type {\n        vertical-align: middle;\n    }\n\n    .dataframe tbody tr th {\n        vertical-align: top;\n    }\n\n    .dataframe thead th {\n        text-align: right;\n    }\n</style>\n<table border=\"1\" class=\"dataframe\">\n  <thead>\n    <tr style=\"text-align: right;\">\n      <th></th>\n      <th>val1</th>\n      <th>val2</th>\n    </tr>\n  </thead>\n  <tbody>\n    <tr>\n      <th>0</th>\n      <td>0.0</td>\n      <td>11.0</td>\n    </tr>\n    <tr>\n      <th>1</th>\n      <td>24.0</td>\n      <td>39.0</td>\n    </tr>\n    <tr>\n      <th>2</th>\n      <td>56.0</td>\n      <td>75.0</td>\n    </tr>\n    <tr>\n      <th>3</th>\n      <td>0.0</td>\n      <td>0.0</td>\n    </tr>\n  </tbody>\n</table>\n</div>"
     },
     "execution_count": 61,
     "metadata": {},
     "output_type": "execute_result"
    }
   ],
   "source": [
    "df1.mul( df2, fill_value = 0 )"
   ],
   "metadata": {
    "collapsed": false,
    "pycharm": {
     "name": "#%%\n"
    },
    "ExecuteTime": {
     "end_time": "2023-05-15T18:29:46.622831Z",
     "start_time": "2023-05-15T18:29:46.538599Z"
    }
   }
  },
  {
   "cell_type": "markdown",
   "source": [
    "# div - поэлементное деление DataFrame"
   ],
   "metadata": {
    "collapsed": false,
    "pycharm": {
     "name": "#%% md\n"
    }
   }
  },
  {
   "cell_type": "code",
   "execution_count": 62,
   "outputs": [
    {
     "data": {
      "text/plain": "       val1      val2\n0  0.000000  0.090909\n1  0.166667  0.230769\n2  0.285714  0.333333\n3  1.000000  0.944444",
      "text/html": "<div>\n<style scoped>\n    .dataframe tbody tr th:only-of-type {\n        vertical-align: middle;\n    }\n\n    .dataframe tbody tr th {\n        vertical-align: top;\n    }\n\n    .dataframe thead th {\n        text-align: right;\n    }\n</style>\n<table border=\"1\" class=\"dataframe\">\n  <thead>\n    <tr style=\"text-align: right;\">\n      <th></th>\n      <th>val1</th>\n      <th>val2</th>\n    </tr>\n  </thead>\n  <tbody>\n    <tr>\n      <th>0</th>\n      <td>0.000000</td>\n      <td>0.090909</td>\n    </tr>\n    <tr>\n      <th>1</th>\n      <td>0.166667</td>\n      <td>0.230769</td>\n    </tr>\n    <tr>\n      <th>2</th>\n      <td>0.285714</td>\n      <td>0.333333</td>\n    </tr>\n    <tr>\n      <th>3</th>\n      <td>1.000000</td>\n      <td>0.944444</td>\n    </tr>\n  </tbody>\n</table>\n</div>"
     },
     "execution_count": 62,
     "metadata": {},
     "output_type": "execute_result"
    }
   ],
   "source": [
    "df1.div( df2, fill_value = 17 )"
   ],
   "metadata": {
    "collapsed": false,
    "pycharm": {
     "name": "#%%\n"
    },
    "ExecuteTime": {
     "end_time": "2023-05-15T18:29:55.467842Z",
     "start_time": "2023-05-15T18:29:55.382924Z"
    }
   }
  },
  {
   "cell_type": "markdown",
   "source": [
    "# Разность DataFrame"
   ],
   "metadata": {
    "collapsed": false,
    "pycharm": {
     "name": "#%% md\n"
    }
   }
  },
  {
   "cell_type": "code",
   "execution_count": 63,
   "outputs": [
    {
     "data": {
      "text/plain": "   val1  val2\n0 -10.0 -10.0\n1 -10.0 -10.0\n2 -10.0 -10.0\n3   NaN   NaN",
      "text/html": "<div>\n<style scoped>\n    .dataframe tbody tr th:only-of-type {\n        vertical-align: middle;\n    }\n\n    .dataframe tbody tr th {\n        vertical-align: top;\n    }\n\n    .dataframe thead th {\n        text-align: right;\n    }\n</style>\n<table border=\"1\" class=\"dataframe\">\n  <thead>\n    <tr style=\"text-align: right;\">\n      <th></th>\n      <th>val1</th>\n      <th>val2</th>\n    </tr>\n  </thead>\n  <tbody>\n    <tr>\n      <th>0</th>\n      <td>-10.0</td>\n      <td>-10.0</td>\n    </tr>\n    <tr>\n      <th>1</th>\n      <td>-10.0</td>\n      <td>-10.0</td>\n    </tr>\n    <tr>\n      <th>2</th>\n      <td>-10.0</td>\n      <td>-10.0</td>\n    </tr>\n    <tr>\n      <th>3</th>\n      <td>NaN</td>\n      <td>NaN</td>\n    </tr>\n  </tbody>\n</table>\n</div>"
     },
     "execution_count": 63,
     "metadata": {},
     "output_type": "execute_result"
    }
   ],
   "source": [
    "df1.sub( df2 )"
   ],
   "metadata": {
    "collapsed": false,
    "pycharm": {
     "name": "#%%\n"
    },
    "ExecuteTime": {
     "end_time": "2023-05-15T18:29:59.079666Z",
     "start_time": "2023-05-15T18:29:58.996365Z"
    }
   }
  },
  {
   "cell_type": "markdown",
   "source": [
    "# Корректное копирование DataFrame"
   ],
   "metadata": {
    "collapsed": false,
    "pycharm": {
     "name": "#%% md\n"
    }
   }
  },
  {
   "cell_type": "code",
   "execution_count": 64,
   "outputs": [
    {
     "data": {
      "text/plain": "   value1  value2\n0       0       1",
      "text/html": "<div>\n<style scoped>\n    .dataframe tbody tr th:only-of-type {\n        vertical-align: middle;\n    }\n\n    .dataframe tbody tr th {\n        vertical-align: top;\n    }\n\n    .dataframe thead th {\n        text-align: right;\n    }\n</style>\n<table border=\"1\" class=\"dataframe\">\n  <thead>\n    <tr style=\"text-align: right;\">\n      <th></th>\n      <th>value1</th>\n      <th>value2</th>\n    </tr>\n  </thead>\n  <tbody>\n    <tr>\n      <th>0</th>\n      <td>0</td>\n      <td>1</td>\n    </tr>\n  </tbody>\n</table>\n</div>"
     },
     "execution_count": 64,
     "metadata": {},
     "output_type": "execute_result"
    }
   ],
   "source": [
    "# зададим DataFrame\n",
    "df1 = pd.DataFrame( [ (0, 1) ], columns = [ 'value1', 'value2' ] )\n",
    "df1"
   ],
   "metadata": {
    "collapsed": false,
    "pycharm": {
     "name": "#%%\n"
    },
    "ExecuteTime": {
     "end_time": "2023-05-15T18:30:16.588484Z",
     "start_time": "2023-05-15T18:30:16.545234Z"
    }
   }
  },
  {
   "cell_type": "code",
   "execution_count": 65,
   "outputs": [],
   "source": [
    "# делаем его \"копию\"\n",
    "df2 = df1"
   ],
   "metadata": {
    "collapsed": false,
    "pycharm": {
     "name": "#%%\n"
    },
    "ExecuteTime": {
     "end_time": "2023-05-15T18:30:38.975541Z",
     "start_time": "2023-05-15T18:30:38.912894Z"
    }
   }
  },
  {
   "cell_type": "code",
   "execution_count": 66,
   "outputs": [],
   "source": [
    "# Изменяем значение ячейки в \"копии\"\n",
    "df2['value1'][0] = 555"
   ],
   "metadata": {
    "collapsed": false,
    "pycharm": {
     "name": "#%%\n"
    },
    "ExecuteTime": {
     "end_time": "2023-05-15T18:31:03.966617Z",
     "start_time": "2023-05-15T18:31:03.923040Z"
    }
   }
  },
  {
   "cell_type": "code",
   "execution_count": 67,
   "outputs": [
    {
     "data": {
      "text/plain": "   value1  value2\n0     555       1",
      "text/html": "<div>\n<style scoped>\n    .dataframe tbody tr th:only-of-type {\n        vertical-align: middle;\n    }\n\n    .dataframe tbody tr th {\n        vertical-align: top;\n    }\n\n    .dataframe thead th {\n        text-align: right;\n    }\n</style>\n<table border=\"1\" class=\"dataframe\">\n  <thead>\n    <tr style=\"text-align: right;\">\n      <th></th>\n      <th>value1</th>\n      <th>value2</th>\n    </tr>\n  </thead>\n  <tbody>\n    <tr>\n      <th>0</th>\n      <td>555</td>\n      <td>1</td>\n    </tr>\n  </tbody>\n</table>\n</div>"
     },
     "execution_count": 67,
     "metadata": {},
     "output_type": "execute_result"
    }
   ],
   "source": [
    "df2"
   ],
   "metadata": {
    "collapsed": false,
    "pycharm": {
     "name": "#%%\n"
    },
    "ExecuteTime": {
     "end_time": "2023-05-15T18:31:05.370494Z",
     "start_time": "2023-05-15T18:31:05.329873Z"
    }
   }
  },
  {
   "cell_type": "code",
   "execution_count": 68,
   "outputs": [
    {
     "data": {
      "text/plain": "   value1  value2\n0     555       1",
      "text/html": "<div>\n<style scoped>\n    .dataframe tbody tr th:only-of-type {\n        vertical-align: middle;\n    }\n\n    .dataframe tbody tr th {\n        vertical-align: top;\n    }\n\n    .dataframe thead th {\n        text-align: right;\n    }\n</style>\n<table border=\"1\" class=\"dataframe\">\n  <thead>\n    <tr style=\"text-align: right;\">\n      <th></th>\n      <th>value1</th>\n      <th>value2</th>\n    </tr>\n  </thead>\n  <tbody>\n    <tr>\n      <th>0</th>\n      <td>555</td>\n      <td>1</td>\n    </tr>\n  </tbody>\n</table>\n</div>"
     },
     "execution_count": 68,
     "metadata": {},
     "output_type": "execute_result"
    }
   ],
   "source": [
    "# Смотрим что произошло с исходным\n",
    "df1"
   ],
   "metadata": {
    "collapsed": false,
    "pycharm": {
     "name": "#%%\n"
    },
    "ExecuteTime": {
     "end_time": "2023-05-15T18:31:16.913741Z",
     "start_time": "2023-05-15T18:31:16.869964Z"
    }
   }
  },
  {
   "cell_type": "code",
   "execution_count": 69,
   "outputs": [
    {
     "data": {
      "text/plain": "   value1  value2\n0       0       1",
      "text/html": "<div>\n<style scoped>\n    .dataframe tbody tr th:only-of-type {\n        vertical-align: middle;\n    }\n\n    .dataframe tbody tr th {\n        vertical-align: top;\n    }\n\n    .dataframe thead th {\n        text-align: right;\n    }\n</style>\n<table border=\"1\" class=\"dataframe\">\n  <thead>\n    <tr style=\"text-align: right;\">\n      <th></th>\n      <th>value1</th>\n      <th>value2</th>\n    </tr>\n  </thead>\n  <tbody>\n    <tr>\n      <th>0</th>\n      <td>0</td>\n      <td>1</td>\n    </tr>\n  </tbody>\n</table>\n</div>"
     },
     "execution_count": 69,
     "metadata": {},
     "output_type": "execute_result"
    }
   ],
   "source": [
    "# Сделаем \"настоящую\" копию\n",
    "df1 = pd.DataFrame( [ (0, 1) ], columns = [ 'value1', 'value2' ] )\n",
    "df1"
   ],
   "metadata": {
    "collapsed": false,
    "pycharm": {
     "name": "#%%\n"
    },
    "ExecuteTime": {
     "end_time": "2023-05-15T18:31:25.904436Z",
     "start_time": "2023-05-15T18:31:25.861278Z"
    }
   }
  },
  {
   "cell_type": "code",
   "execution_count": 70,
   "outputs": [],
   "source": [
    "df2 = df1.copy()\n",
    "df2['value1'][0] = 555"
   ],
   "metadata": {
    "collapsed": false,
    "pycharm": {
     "name": "#%%\n"
    },
    "ExecuteTime": {
     "end_time": "2023-05-15T18:31:43.775605Z",
     "start_time": "2023-05-15T18:31:43.730464Z"
    }
   }
  },
  {
   "cell_type": "code",
   "execution_count": 71,
   "outputs": [
    {
     "data": {
      "text/plain": "   value1  value2\n0     555       1",
      "text/html": "<div>\n<style scoped>\n    .dataframe tbody tr th:only-of-type {\n        vertical-align: middle;\n    }\n\n    .dataframe tbody tr th {\n        vertical-align: top;\n    }\n\n    .dataframe thead th {\n        text-align: right;\n    }\n</style>\n<table border=\"1\" class=\"dataframe\">\n  <thead>\n    <tr style=\"text-align: right;\">\n      <th></th>\n      <th>value1</th>\n      <th>value2</th>\n    </tr>\n  </thead>\n  <tbody>\n    <tr>\n      <th>0</th>\n      <td>555</td>\n      <td>1</td>\n    </tr>\n  </tbody>\n</table>\n</div>"
     },
     "execution_count": 71,
     "metadata": {},
     "output_type": "execute_result"
    }
   ],
   "source": [
    "df2"
   ],
   "metadata": {
    "collapsed": false,
    "pycharm": {
     "name": "#%%\n"
    },
    "ExecuteTime": {
     "end_time": "2023-05-15T18:31:44.938750Z",
     "start_time": "2023-05-15T18:31:44.897422Z"
    }
   }
  },
  {
   "cell_type": "code",
   "execution_count": 72,
   "outputs": [
    {
     "data": {
      "text/plain": "   value1  value2\n0       0       1",
      "text/html": "<div>\n<style scoped>\n    .dataframe tbody tr th:only-of-type {\n        vertical-align: middle;\n    }\n\n    .dataframe tbody tr th {\n        vertical-align: top;\n    }\n\n    .dataframe thead th {\n        text-align: right;\n    }\n</style>\n<table border=\"1\" class=\"dataframe\">\n  <thead>\n    <tr style=\"text-align: right;\">\n      <th></th>\n      <th>value1</th>\n      <th>value2</th>\n    </tr>\n  </thead>\n  <tbody>\n    <tr>\n      <th>0</th>\n      <td>0</td>\n      <td>1</td>\n    </tr>\n  </tbody>\n</table>\n</div>"
     },
     "execution_count": 72,
     "metadata": {},
     "output_type": "execute_result"
    }
   ],
   "source": [
    "df1"
   ],
   "metadata": {
    "collapsed": false,
    "pycharm": {
     "name": "#%%\n"
    },
    "ExecuteTime": {
     "end_time": "2023-05-15T18:31:45.324777Z",
     "start_time": "2023-05-15T18:31:45.227981Z"
    }
   }
  },
  {
   "cell_type": "markdown",
   "source": [
    "# Сводные таблицы"
   ],
   "metadata": {
    "collapsed": false,
    "pycharm": {
     "name": "#%% md\n"
    }
   }
  },
  {
   "cell_type": "code",
   "execution_count": 73,
   "outputs": [
    {
     "data": {
      "text/plain": "   PassengerId  Survived  Pclass   \n0            1         0       3  \\\n1            2         1       1   \n2            3         1       3   \n3            4         1       1   \n4            5         0       3   \n\n                                                Name     Sex   Age  SibSp   \n0                            Braund, Mr. Owen Harris    male  22.0      1  \\\n1  Cumings, Mrs. John Bradley (Florence Briggs Th...  female  38.0      1   \n2                             Heikkinen, Miss. Laina  female  26.0      0   \n3       Futrelle, Mrs. Jacques Heath (Lily May Peel)  female  35.0      1   \n4                           Allen, Mr. William Henry    male  35.0      0   \n\n   Parch            Ticket     Fare Cabin Embarked  \n0      0         A/5 21171   7.2500   NaN        S  \n1      0          PC 17599  71.2833   C85        C  \n2      0  STON/O2. 3101282   7.9250   NaN        S  \n3      0            113803  53.1000  C123        S  \n4      0            373450   8.0500   NaN        S  ",
      "text/html": "<div>\n<style scoped>\n    .dataframe tbody tr th:only-of-type {\n        vertical-align: middle;\n    }\n\n    .dataframe tbody tr th {\n        vertical-align: top;\n    }\n\n    .dataframe thead th {\n        text-align: right;\n    }\n</style>\n<table border=\"1\" class=\"dataframe\">\n  <thead>\n    <tr style=\"text-align: right;\">\n      <th></th>\n      <th>PassengerId</th>\n      <th>Survived</th>\n      <th>Pclass</th>\n      <th>Name</th>\n      <th>Sex</th>\n      <th>Age</th>\n      <th>SibSp</th>\n      <th>Parch</th>\n      <th>Ticket</th>\n      <th>Fare</th>\n      <th>Cabin</th>\n      <th>Embarked</th>\n    </tr>\n  </thead>\n  <tbody>\n    <tr>\n      <th>0</th>\n      <td>1</td>\n      <td>0</td>\n      <td>3</td>\n      <td>Braund, Mr. Owen Harris</td>\n      <td>male</td>\n      <td>22.0</td>\n      <td>1</td>\n      <td>0</td>\n      <td>A/5 21171</td>\n      <td>7.2500</td>\n      <td>NaN</td>\n      <td>S</td>\n    </tr>\n    <tr>\n      <th>1</th>\n      <td>2</td>\n      <td>1</td>\n      <td>1</td>\n      <td>Cumings, Mrs. John Bradley (Florence Briggs Th...</td>\n      <td>female</td>\n      <td>38.0</td>\n      <td>1</td>\n      <td>0</td>\n      <td>PC 17599</td>\n      <td>71.2833</td>\n      <td>C85</td>\n      <td>C</td>\n    </tr>\n    <tr>\n      <th>2</th>\n      <td>3</td>\n      <td>1</td>\n      <td>3</td>\n      <td>Heikkinen, Miss. Laina</td>\n      <td>female</td>\n      <td>26.0</td>\n      <td>0</td>\n      <td>0</td>\n      <td>STON/O2. 3101282</td>\n      <td>7.9250</td>\n      <td>NaN</td>\n      <td>S</td>\n    </tr>\n    <tr>\n      <th>3</th>\n      <td>4</td>\n      <td>1</td>\n      <td>1</td>\n      <td>Futrelle, Mrs. Jacques Heath (Lily May Peel)</td>\n      <td>female</td>\n      <td>35.0</td>\n      <td>1</td>\n      <td>0</td>\n      <td>113803</td>\n      <td>53.1000</td>\n      <td>C123</td>\n      <td>S</td>\n    </tr>\n    <tr>\n      <th>4</th>\n      <td>5</td>\n      <td>0</td>\n      <td>3</td>\n      <td>Allen, Mr. William Henry</td>\n      <td>male</td>\n      <td>35.0</td>\n      <td>0</td>\n      <td>0</td>\n      <td>373450</td>\n      <td>8.0500</td>\n      <td>NaN</td>\n      <td>S</td>\n    </tr>\n  </tbody>\n</table>\n</div>"
     },
     "execution_count": 73,
     "metadata": {},
     "output_type": "execute_result"
    }
   ],
   "source": [
    "data = pd.read_csv( '../files/titanic_train.csv', delimiter = ',' )\n",
    "data.head()"
   ],
   "metadata": {
    "collapsed": false,
    "pycharm": {
     "name": "#%%\n"
    },
    "ExecuteTime": {
     "end_time": "2023-05-15T18:32:37.089299Z",
     "start_time": "2023-05-15T18:32:36.998842Z"
    }
   }
  },
  {
   "cell_type": "code",
   "execution_count": 74,
   "outputs": [
    {
     "data": {
      "text/plain": "Index(['PassengerId', 'Survived', 'Pclass', 'Name', 'Sex', 'Age', 'SibSp',\n       'Parch', 'Ticket', 'Fare', 'Cabin', 'Embarked'],\n      dtype='object')"
     },
     "execution_count": 74,
     "metadata": {},
     "output_type": "execute_result"
    }
   ],
   "source": [
    "data.columns"
   ],
   "metadata": {
    "collapsed": false,
    "pycharm": {
     "name": "#%%\n"
    },
    "ExecuteTime": {
     "end_time": "2023-05-15T18:33:05.961082Z",
     "start_time": "2023-05-15T18:33:05.919866Z"
    }
   }
  },
  {
   "cell_type": "code",
   "execution_count": 75,
   "outputs": [
    {
     "data": {
      "text/plain": "Embarked          C          Q          S\nSex                                      \nfemale    28.344262  24.291667  27.771505\nmale      32.998841  30.937500  30.291440",
      "text/html": "<div>\n<style scoped>\n    .dataframe tbody tr th:only-of-type {\n        vertical-align: middle;\n    }\n\n    .dataframe tbody tr th {\n        vertical-align: top;\n    }\n\n    .dataframe thead th {\n        text-align: right;\n    }\n</style>\n<table border=\"1\" class=\"dataframe\">\n  <thead>\n    <tr style=\"text-align: right;\">\n      <th>Embarked</th>\n      <th>C</th>\n      <th>Q</th>\n      <th>S</th>\n    </tr>\n    <tr>\n      <th>Sex</th>\n      <th></th>\n      <th></th>\n      <th></th>\n    </tr>\n  </thead>\n  <tbody>\n    <tr>\n      <th>female</th>\n      <td>28.344262</td>\n      <td>24.291667</td>\n      <td>27.771505</td>\n    </tr>\n    <tr>\n      <th>male</th>\n      <td>32.998841</td>\n      <td>30.937500</td>\n      <td>30.291440</td>\n    </tr>\n  </tbody>\n</table>\n</div>"
     },
     "execution_count": 75,
     "metadata": {},
     "output_type": "execute_result"
    }
   ],
   "source": [
    "# https://pandas.pydata.org/pandas-docs/stable/generated/pandas.DataFrame.pivot.html\n",
    "# index - значения столбца, которые будут в строках\n",
    "# columns - значения столбца, которые образуют столбцы\n",
    "# values - значения в ячейках таблицы\n",
    "# aggfunc - функция, которая будет применена к значениям\n",
    "\n",
    "# среднее значение столбца 'Age' в разбивке по Sex и Embarked\n",
    "pd.pivot_table( data, index = 'Sex', columns = 'Embarked', values = 'Age', aggfunc = np.mean )"
   ],
   "metadata": {
    "collapsed": false,
    "pycharm": {
     "name": "#%%\n"
    },
    "ExecuteTime": {
     "end_time": "2023-05-15T18:35:51.290486Z",
     "start_time": "2023-05-15T18:35:51.205247Z"
    }
   }
  },
  {
   "cell_type": "code",
   "execution_count": 76,
   "outputs": [
    {
     "data": {
      "text/plain": "                       Age\nSex    Embarked           \nfemale C         28.344262\n       Q         24.291667\n       S         27.771505\nmale   C         32.998841\n       Q         30.937500\n       S         30.291440",
      "text/html": "<div>\n<style scoped>\n    .dataframe tbody tr th:only-of-type {\n        vertical-align: middle;\n    }\n\n    .dataframe tbody tr th {\n        vertical-align: top;\n    }\n\n    .dataframe thead th {\n        text-align: right;\n    }\n</style>\n<table border=\"1\" class=\"dataframe\">\n  <thead>\n    <tr style=\"text-align: right;\">\n      <th></th>\n      <th></th>\n      <th>Age</th>\n    </tr>\n    <tr>\n      <th>Sex</th>\n      <th>Embarked</th>\n      <th></th>\n    </tr>\n  </thead>\n  <tbody>\n    <tr>\n      <th rowspan=\"3\" valign=\"top\">female</th>\n      <th>C</th>\n      <td>28.344262</td>\n    </tr>\n    <tr>\n      <th>Q</th>\n      <td>24.291667</td>\n    </tr>\n    <tr>\n      <th>S</th>\n      <td>27.771505</td>\n    </tr>\n    <tr>\n      <th rowspan=\"3\" valign=\"top\">male</th>\n      <th>C</th>\n      <td>32.998841</td>\n    </tr>\n    <tr>\n      <th>Q</th>\n      <td>30.937500</td>\n    </tr>\n    <tr>\n      <th>S</th>\n      <td>30.291440</td>\n    </tr>\n  </tbody>\n</table>\n</div>"
     },
     "execution_count": 76,
     "metadata": {},
     "output_type": "execute_result"
    }
   ],
   "source": [
    "# если нужно указать несколько столбцов\n",
    "pd.pivot_table( data, index = ['Sex', 'Embarked'], values = 'Age', aggfunc = np.mean )"
   ],
   "metadata": {
    "collapsed": false,
    "pycharm": {
     "name": "#%%\n"
    },
    "ExecuteTime": {
     "end_time": "2023-05-15T18:36:52.134125Z",
     "start_time": "2023-05-15T18:36:52.036151Z"
    }
   }
  },
  {
   "cell_type": "markdown",
   "source": [
    "# Apply - применить функцию к столбцу или к строке"
   ],
   "metadata": {
    "collapsed": false,
    "pycharm": {
     "name": "#%% md\n"
    }
   }
  },
  {
   "cell_type": "code",
   "execution_count": 77,
   "outputs": [
    {
     "data": {
      "text/plain": "    PassengerId  Survived  Pclass   \n0             1         0       3  \\\n1             2         1       1   \n2             3         1       3   \n3             4         1       1   \n4             5         0       3   \n5             6         0       3   \n6             7         0       1   \n7             8         0       3   \n8             9         1       3   \n9            10         1       2   \n10           11         1       3   \n11           12         1       1   \n12           13         0       3   \n13           14         0       3   \n14           15         0       3   \n\n                                                 Name     Sex   Age  SibSp   \n0                             Braund, Mr. Owen Harris    male  22.0      1  \\\n1   Cumings, Mrs. John Bradley (Florence Briggs Th...  female  38.0      1   \n2                              Heikkinen, Miss. Laina  female  26.0      0   \n3        Futrelle, Mrs. Jacques Heath (Lily May Peel)  female  35.0      1   \n4                            Allen, Mr. William Henry    male  35.0      0   \n5                                    Moran, Mr. James    male   NaN      0   \n6                             McCarthy, Mr. Timothy J    male  54.0      0   \n7                      Palsson, Master. Gosta Leonard    male   2.0      3   \n8   Johnson, Mrs. Oscar W (Elisabeth Vilhelmina Berg)  female  27.0      0   \n9                 Nasser, Mrs. Nicholas (Adele Achem)  female  14.0      1   \n10                    Sandstrom, Miss. Marguerite Rut  female   4.0      1   \n11                           Bonnell, Miss. Elizabeth  female  58.0      0   \n12                     Saundercock, Mr. William Henry    male  20.0      0   \n13                        Andersson, Mr. Anders Johan    male  39.0      1   \n14               Vestrom, Miss. Hulda Amanda Adolfina  female  14.0      0   \n\n    Parch            Ticket     Fare Cabin Embarked  \n0       0         A/5 21171   7.2500   NaN        S  \n1       0          PC 17599  71.2833   C85        C  \n2       0  STON/O2. 3101282   7.9250   NaN        S  \n3       0            113803  53.1000  C123        S  \n4       0            373450   8.0500   NaN        S  \n5       0            330877   8.4583   NaN        Q  \n6       0             17463  51.8625   E46        S  \n7       1            349909  21.0750   NaN        S  \n8       2            347742  11.1333   NaN        S  \n9       0            237736  30.0708   NaN        C  \n10      1           PP 9549  16.7000    G6        S  \n11      0            113783  26.5500  C103        S  \n12      0         A/5. 2151   8.0500   NaN        S  \n13      5            347082  31.2750   NaN        S  \n14      0            350406   7.8542   NaN        S  ",
      "text/html": "<div>\n<style scoped>\n    .dataframe tbody tr th:only-of-type {\n        vertical-align: middle;\n    }\n\n    .dataframe tbody tr th {\n        vertical-align: top;\n    }\n\n    .dataframe thead th {\n        text-align: right;\n    }\n</style>\n<table border=\"1\" class=\"dataframe\">\n  <thead>\n    <tr style=\"text-align: right;\">\n      <th></th>\n      <th>PassengerId</th>\n      <th>Survived</th>\n      <th>Pclass</th>\n      <th>Name</th>\n      <th>Sex</th>\n      <th>Age</th>\n      <th>SibSp</th>\n      <th>Parch</th>\n      <th>Ticket</th>\n      <th>Fare</th>\n      <th>Cabin</th>\n      <th>Embarked</th>\n    </tr>\n  </thead>\n  <tbody>\n    <tr>\n      <th>0</th>\n      <td>1</td>\n      <td>0</td>\n      <td>3</td>\n      <td>Braund, Mr. Owen Harris</td>\n      <td>male</td>\n      <td>22.0</td>\n      <td>1</td>\n      <td>0</td>\n      <td>A/5 21171</td>\n      <td>7.2500</td>\n      <td>NaN</td>\n      <td>S</td>\n    </tr>\n    <tr>\n      <th>1</th>\n      <td>2</td>\n      <td>1</td>\n      <td>1</td>\n      <td>Cumings, Mrs. John Bradley (Florence Briggs Th...</td>\n      <td>female</td>\n      <td>38.0</td>\n      <td>1</td>\n      <td>0</td>\n      <td>PC 17599</td>\n      <td>71.2833</td>\n      <td>C85</td>\n      <td>C</td>\n    </tr>\n    <tr>\n      <th>2</th>\n      <td>3</td>\n      <td>1</td>\n      <td>3</td>\n      <td>Heikkinen, Miss. Laina</td>\n      <td>female</td>\n      <td>26.0</td>\n      <td>0</td>\n      <td>0</td>\n      <td>STON/O2. 3101282</td>\n      <td>7.9250</td>\n      <td>NaN</td>\n      <td>S</td>\n    </tr>\n    <tr>\n      <th>3</th>\n      <td>4</td>\n      <td>1</td>\n      <td>1</td>\n      <td>Futrelle, Mrs. Jacques Heath (Lily May Peel)</td>\n      <td>female</td>\n      <td>35.0</td>\n      <td>1</td>\n      <td>0</td>\n      <td>113803</td>\n      <td>53.1000</td>\n      <td>C123</td>\n      <td>S</td>\n    </tr>\n    <tr>\n      <th>4</th>\n      <td>5</td>\n      <td>0</td>\n      <td>3</td>\n      <td>Allen, Mr. William Henry</td>\n      <td>male</td>\n      <td>35.0</td>\n      <td>0</td>\n      <td>0</td>\n      <td>373450</td>\n      <td>8.0500</td>\n      <td>NaN</td>\n      <td>S</td>\n    </tr>\n    <tr>\n      <th>5</th>\n      <td>6</td>\n      <td>0</td>\n      <td>3</td>\n      <td>Moran, Mr. James</td>\n      <td>male</td>\n      <td>NaN</td>\n      <td>0</td>\n      <td>0</td>\n      <td>330877</td>\n      <td>8.4583</td>\n      <td>NaN</td>\n      <td>Q</td>\n    </tr>\n    <tr>\n      <th>6</th>\n      <td>7</td>\n      <td>0</td>\n      <td>1</td>\n      <td>McCarthy, Mr. Timothy J</td>\n      <td>male</td>\n      <td>54.0</td>\n      <td>0</td>\n      <td>0</td>\n      <td>17463</td>\n      <td>51.8625</td>\n      <td>E46</td>\n      <td>S</td>\n    </tr>\n    <tr>\n      <th>7</th>\n      <td>8</td>\n      <td>0</td>\n      <td>3</td>\n      <td>Palsson, Master. Gosta Leonard</td>\n      <td>male</td>\n      <td>2.0</td>\n      <td>3</td>\n      <td>1</td>\n      <td>349909</td>\n      <td>21.0750</td>\n      <td>NaN</td>\n      <td>S</td>\n    </tr>\n    <tr>\n      <th>8</th>\n      <td>9</td>\n      <td>1</td>\n      <td>3</td>\n      <td>Johnson, Mrs. Oscar W (Elisabeth Vilhelmina Berg)</td>\n      <td>female</td>\n      <td>27.0</td>\n      <td>0</td>\n      <td>2</td>\n      <td>347742</td>\n      <td>11.1333</td>\n      <td>NaN</td>\n      <td>S</td>\n    </tr>\n    <tr>\n      <th>9</th>\n      <td>10</td>\n      <td>1</td>\n      <td>2</td>\n      <td>Nasser, Mrs. Nicholas (Adele Achem)</td>\n      <td>female</td>\n      <td>14.0</td>\n      <td>1</td>\n      <td>0</td>\n      <td>237736</td>\n      <td>30.0708</td>\n      <td>NaN</td>\n      <td>C</td>\n    </tr>\n    <tr>\n      <th>10</th>\n      <td>11</td>\n      <td>1</td>\n      <td>3</td>\n      <td>Sandstrom, Miss. Marguerite Rut</td>\n      <td>female</td>\n      <td>4.0</td>\n      <td>1</td>\n      <td>1</td>\n      <td>PP 9549</td>\n      <td>16.7000</td>\n      <td>G6</td>\n      <td>S</td>\n    </tr>\n    <tr>\n      <th>11</th>\n      <td>12</td>\n      <td>1</td>\n      <td>1</td>\n      <td>Bonnell, Miss. Elizabeth</td>\n      <td>female</td>\n      <td>58.0</td>\n      <td>0</td>\n      <td>0</td>\n      <td>113783</td>\n      <td>26.5500</td>\n      <td>C103</td>\n      <td>S</td>\n    </tr>\n    <tr>\n      <th>12</th>\n      <td>13</td>\n      <td>0</td>\n      <td>3</td>\n      <td>Saundercock, Mr. William Henry</td>\n      <td>male</td>\n      <td>20.0</td>\n      <td>0</td>\n      <td>0</td>\n      <td>A/5. 2151</td>\n      <td>8.0500</td>\n      <td>NaN</td>\n      <td>S</td>\n    </tr>\n    <tr>\n      <th>13</th>\n      <td>14</td>\n      <td>0</td>\n      <td>3</td>\n      <td>Andersson, Mr. Anders Johan</td>\n      <td>male</td>\n      <td>39.0</td>\n      <td>1</td>\n      <td>5</td>\n      <td>347082</td>\n      <td>31.2750</td>\n      <td>NaN</td>\n      <td>S</td>\n    </tr>\n    <tr>\n      <th>14</th>\n      <td>15</td>\n      <td>0</td>\n      <td>3</td>\n      <td>Vestrom, Miss. Hulda Amanda Adolfina</td>\n      <td>female</td>\n      <td>14.0</td>\n      <td>0</td>\n      <td>0</td>\n      <td>350406</td>\n      <td>7.8542</td>\n      <td>NaN</td>\n      <td>S</td>\n    </tr>\n  </tbody>\n</table>\n</div>"
     },
     "execution_count": 77,
     "metadata": {},
     "output_type": "execute_result"
    }
   ],
   "source": [
    "data = pd.read_csv( '../files/titanic_train.csv', delimiter = ',' )\n",
    "data.head(15)"
   ],
   "metadata": {
    "collapsed": false,
    "pycharm": {
     "name": "#%%\n"
    },
    "ExecuteTime": {
     "end_time": "2023-05-15T18:37:24.094290Z",
     "start_time": "2023-05-15T18:37:24.005271Z"
    }
   }
  },
  {
   "cell_type": "code",
   "execution_count": 78,
   "outputs": [
    {
     "name": "stdout",
     "output_type": "stream",
     "text": [
      "<class 'pandas.core.frame.DataFrame'>\n",
      "RangeIndex: 891 entries, 0 to 890\n",
      "Data columns (total 12 columns):\n",
      " #   Column       Non-Null Count  Dtype  \n",
      "---  ------       --------------  -----  \n",
      " 0   PassengerId  891 non-null    int64  \n",
      " 1   Survived     891 non-null    int64  \n",
      " 2   Pclass       891 non-null    int64  \n",
      " 3   Name         891 non-null    object \n",
      " 4   Sex          891 non-null    object \n",
      " 5   Age          714 non-null    float64\n",
      " 6   SibSp        891 non-null    int64  \n",
      " 7   Parch        891 non-null    int64  \n",
      " 8   Ticket       891 non-null    object \n",
      " 9   Fare         891 non-null    float64\n",
      " 10  Cabin        204 non-null    object \n",
      " 11  Embarked     889 non-null    object \n",
      "dtypes: float64(2), int64(5), object(5)\n",
      "memory usage: 83.7+ KB\n"
     ]
    }
   ],
   "source": [
    "data.info()"
   ],
   "metadata": {
    "collapsed": false,
    "ExecuteTime": {
     "end_time": "2023-05-15T18:37:27.108374Z",
     "start_time": "2023-05-15T18:37:27.069295Z"
    }
   }
  },
  {
   "cell_type": "code",
   "execution_count": 79,
   "outputs": [],
   "source": [
    "def ageGroup(row):\n",
    "    \"\"\"\n",
    "    Простая функция отнесения возраста к группе\n",
    "    \"\"\"\n",
    "    # проверяем, что значение возраста не равно NaN\n",
    "    if not pd.isnull( row['Age'] ):\n",
    "        if row['Age'] <= 18:\n",
    "            return 'Child'\n",
    "        if row['Age'] >= 65:\n",
    "            return 'Retiree'\n",
    "        return 'Young'\n",
    "    # если значение возраста NaN, то возвращаем Undef\n",
    "    return 'Undef'"
   ],
   "metadata": {
    "collapsed": false,
    "pycharm": {
     "name": "#%%\n"
    },
    "ExecuteTime": {
     "end_time": "2023-05-15T18:39:28.043107Z",
     "start_time": "2023-05-15T18:39:28.002376Z"
    }
   }
  },
  {
   "cell_type": "code",
   "execution_count": 80,
   "outputs": [
    {
     "data": {
      "text/plain": "   PassengerId  Survived  Pclass   \n0            1         0       3  \\\n1            2         1       1   \n2            3         1       3   \n3            4         1       1   \n4            5         0       3   \n5            6         0       3   \n6            7         0       1   \n7            8         0       3   \n8            9         1       3   \n9           10         1       2   \n\n                                                Name     Sex   Age  SibSp   \n0                            Braund, Mr. Owen Harris    male  22.0      1  \\\n1  Cumings, Mrs. John Bradley (Florence Briggs Th...  female  38.0      1   \n2                             Heikkinen, Miss. Laina  female  26.0      0   \n3       Futrelle, Mrs. Jacques Heath (Lily May Peel)  female  35.0      1   \n4                           Allen, Mr. William Henry    male  35.0      0   \n5                                   Moran, Mr. James    male   NaN      0   \n6                            McCarthy, Mr. Timothy J    male  54.0      0   \n7                     Palsson, Master. Gosta Leonard    male   2.0      3   \n8  Johnson, Mrs. Oscar W (Elisabeth Vilhelmina Berg)  female  27.0      0   \n9                Nasser, Mrs. Nicholas (Adele Achem)  female  14.0      1   \n\n   Parch            Ticket     Fare Cabin Embarked ageGroup  \n0      0         A/5 21171   7.2500   NaN        S    Young  \n1      0          PC 17599  71.2833   C85        C    Young  \n2      0  STON/O2. 3101282   7.9250   NaN        S    Young  \n3      0            113803  53.1000  C123        S    Young  \n4      0            373450   8.0500   NaN        S    Young  \n5      0            330877   8.4583   NaN        Q    Undef  \n6      0             17463  51.8625   E46        S    Young  \n7      1            349909  21.0750   NaN        S    Child  \n8      2            347742  11.1333   NaN        S    Young  \n9      0            237736  30.0708   NaN        C    Child  ",
      "text/html": "<div>\n<style scoped>\n    .dataframe tbody tr th:only-of-type {\n        vertical-align: middle;\n    }\n\n    .dataframe tbody tr th {\n        vertical-align: top;\n    }\n\n    .dataframe thead th {\n        text-align: right;\n    }\n</style>\n<table border=\"1\" class=\"dataframe\">\n  <thead>\n    <tr style=\"text-align: right;\">\n      <th></th>\n      <th>PassengerId</th>\n      <th>Survived</th>\n      <th>Pclass</th>\n      <th>Name</th>\n      <th>Sex</th>\n      <th>Age</th>\n      <th>SibSp</th>\n      <th>Parch</th>\n      <th>Ticket</th>\n      <th>Fare</th>\n      <th>Cabin</th>\n      <th>Embarked</th>\n      <th>ageGroup</th>\n    </tr>\n  </thead>\n  <tbody>\n    <tr>\n      <th>0</th>\n      <td>1</td>\n      <td>0</td>\n      <td>3</td>\n      <td>Braund, Mr. Owen Harris</td>\n      <td>male</td>\n      <td>22.0</td>\n      <td>1</td>\n      <td>0</td>\n      <td>A/5 21171</td>\n      <td>7.2500</td>\n      <td>NaN</td>\n      <td>S</td>\n      <td>Young</td>\n    </tr>\n    <tr>\n      <th>1</th>\n      <td>2</td>\n      <td>1</td>\n      <td>1</td>\n      <td>Cumings, Mrs. John Bradley (Florence Briggs Th...</td>\n      <td>female</td>\n      <td>38.0</td>\n      <td>1</td>\n      <td>0</td>\n      <td>PC 17599</td>\n      <td>71.2833</td>\n      <td>C85</td>\n      <td>C</td>\n      <td>Young</td>\n    </tr>\n    <tr>\n      <th>2</th>\n      <td>3</td>\n      <td>1</td>\n      <td>3</td>\n      <td>Heikkinen, Miss. Laina</td>\n      <td>female</td>\n      <td>26.0</td>\n      <td>0</td>\n      <td>0</td>\n      <td>STON/O2. 3101282</td>\n      <td>7.9250</td>\n      <td>NaN</td>\n      <td>S</td>\n      <td>Young</td>\n    </tr>\n    <tr>\n      <th>3</th>\n      <td>4</td>\n      <td>1</td>\n      <td>1</td>\n      <td>Futrelle, Mrs. Jacques Heath (Lily May Peel)</td>\n      <td>female</td>\n      <td>35.0</td>\n      <td>1</td>\n      <td>0</td>\n      <td>113803</td>\n      <td>53.1000</td>\n      <td>C123</td>\n      <td>S</td>\n      <td>Young</td>\n    </tr>\n    <tr>\n      <th>4</th>\n      <td>5</td>\n      <td>0</td>\n      <td>3</td>\n      <td>Allen, Mr. William Henry</td>\n      <td>male</td>\n      <td>35.0</td>\n      <td>0</td>\n      <td>0</td>\n      <td>373450</td>\n      <td>8.0500</td>\n      <td>NaN</td>\n      <td>S</td>\n      <td>Young</td>\n    </tr>\n    <tr>\n      <th>5</th>\n      <td>6</td>\n      <td>0</td>\n      <td>3</td>\n      <td>Moran, Mr. James</td>\n      <td>male</td>\n      <td>NaN</td>\n      <td>0</td>\n      <td>0</td>\n      <td>330877</td>\n      <td>8.4583</td>\n      <td>NaN</td>\n      <td>Q</td>\n      <td>Undef</td>\n    </tr>\n    <tr>\n      <th>6</th>\n      <td>7</td>\n      <td>0</td>\n      <td>1</td>\n      <td>McCarthy, Mr. Timothy J</td>\n      <td>male</td>\n      <td>54.0</td>\n      <td>0</td>\n      <td>0</td>\n      <td>17463</td>\n      <td>51.8625</td>\n      <td>E46</td>\n      <td>S</td>\n      <td>Young</td>\n    </tr>\n    <tr>\n      <th>7</th>\n      <td>8</td>\n      <td>0</td>\n      <td>3</td>\n      <td>Palsson, Master. Gosta Leonard</td>\n      <td>male</td>\n      <td>2.0</td>\n      <td>3</td>\n      <td>1</td>\n      <td>349909</td>\n      <td>21.0750</td>\n      <td>NaN</td>\n      <td>S</td>\n      <td>Child</td>\n    </tr>\n    <tr>\n      <th>8</th>\n      <td>9</td>\n      <td>1</td>\n      <td>3</td>\n      <td>Johnson, Mrs. Oscar W (Elisabeth Vilhelmina Berg)</td>\n      <td>female</td>\n      <td>27.0</td>\n      <td>0</td>\n      <td>2</td>\n      <td>347742</td>\n      <td>11.1333</td>\n      <td>NaN</td>\n      <td>S</td>\n      <td>Young</td>\n    </tr>\n    <tr>\n      <th>9</th>\n      <td>10</td>\n      <td>1</td>\n      <td>2</td>\n      <td>Nasser, Mrs. Nicholas (Adele Achem)</td>\n      <td>female</td>\n      <td>14.0</td>\n      <td>1</td>\n      <td>0</td>\n      <td>237736</td>\n      <td>30.0708</td>\n      <td>NaN</td>\n      <td>C</td>\n      <td>Child</td>\n    </tr>\n  </tbody>\n</table>\n</div>"
     },
     "execution_count": 80,
     "metadata": {},
     "output_type": "execute_result"
    }
   ],
   "source": [
    "# применим функцию ageGroup к DataFrame и выведем результат в отдельный столбец ageGroup\n",
    "data['ageGroup'] = data.apply( ageGroup, axis = 1 )\n",
    "data.head(10)"
   ],
   "metadata": {
    "collapsed": false,
    "pycharm": {
     "name": "#%%\n"
    },
    "ExecuteTime": {
     "end_time": "2023-05-15T18:39:56.320072Z",
     "start_time": "2023-05-15T18:39:56.238666Z"
    }
   }
  },
  {
   "cell_type": "code",
   "execution_count": 81,
   "outputs": [
    {
     "data": {
      "text/plain": "      first    second     third\n0 -0.233502  1.451584 -0.388473\n1  0.665392 -0.242813 -0.650971\n2 -1.346969 -0.485599 -0.321549\n3 -0.058582  1.689262  0.382510\n4 -1.814367  0.533569  0.841732\n5  0.260352 -1.404108 -0.068219\n6 -0.665328  1.590949  0.714811\n7 -0.087933  1.230618 -0.656570\n8 -0.187547 -0.583266 -0.597481\n9 -0.177721 -0.508935  0.169048",
      "text/html": "<div>\n<style scoped>\n    .dataframe tbody tr th:only-of-type {\n        vertical-align: middle;\n    }\n\n    .dataframe tbody tr th {\n        vertical-align: top;\n    }\n\n    .dataframe thead th {\n        text-align: right;\n    }\n</style>\n<table border=\"1\" class=\"dataframe\">\n  <thead>\n    <tr style=\"text-align: right;\">\n      <th></th>\n      <th>first</th>\n      <th>second</th>\n      <th>third</th>\n    </tr>\n  </thead>\n  <tbody>\n    <tr>\n      <th>0</th>\n      <td>-0.233502</td>\n      <td>1.451584</td>\n      <td>-0.388473</td>\n    </tr>\n    <tr>\n      <th>1</th>\n      <td>0.665392</td>\n      <td>-0.242813</td>\n      <td>-0.650971</td>\n    </tr>\n    <tr>\n      <th>2</th>\n      <td>-1.346969</td>\n      <td>-0.485599</td>\n      <td>-0.321549</td>\n    </tr>\n    <tr>\n      <th>3</th>\n      <td>-0.058582</td>\n      <td>1.689262</td>\n      <td>0.382510</td>\n    </tr>\n    <tr>\n      <th>4</th>\n      <td>-1.814367</td>\n      <td>0.533569</td>\n      <td>0.841732</td>\n    </tr>\n    <tr>\n      <th>5</th>\n      <td>0.260352</td>\n      <td>-1.404108</td>\n      <td>-0.068219</td>\n    </tr>\n    <tr>\n      <th>6</th>\n      <td>-0.665328</td>\n      <td>1.590949</td>\n      <td>0.714811</td>\n    </tr>\n    <tr>\n      <th>7</th>\n      <td>-0.087933</td>\n      <td>1.230618</td>\n      <td>-0.656570</td>\n    </tr>\n    <tr>\n      <th>8</th>\n      <td>-0.187547</td>\n      <td>-0.583266</td>\n      <td>-0.597481</td>\n    </tr>\n    <tr>\n      <th>9</th>\n      <td>-0.177721</td>\n      <td>-0.508935</td>\n      <td>0.169048</td>\n    </tr>\n  </tbody>\n</table>\n</div>"
     },
     "execution_count": 81,
     "metadata": {},
     "output_type": "execute_result"
    }
   ],
   "source": [
    "# например, устанавливаем формат отображения\n",
    "df = pd.DataFrame( np.random.randn(10, 3), columns = ['first', 'second', 'third'] )\n",
    "df"
   ],
   "metadata": {
    "collapsed": false,
    "pycharm": {
     "name": "#%%\n"
    },
    "ExecuteTime": {
     "end_time": "2023-05-15T18:40:10.952492Z",
     "start_time": "2023-05-15T18:40:10.913173Z"
    }
   }
  },
  {
   "cell_type": "code",
   "execution_count": 82,
   "outputs": [
    {
     "data": {
      "text/plain": "      first    second     third\n0  0.054523  2.107095  0.150911\n1  0.442747  0.058958  0.423763\n2  1.814326  0.235807  0.103394\n3  0.003432  2.853605  0.146314\n4  3.291929  0.284696  0.708512\n5  0.067783  1.971521  0.004654\n6  0.442661  2.531118  0.510954\n7  0.007732  1.514422  0.431084\n8  0.035174  0.340199  0.356983\n9  0.031585  0.259014  0.028577",
      "text/html": "<div>\n<style scoped>\n    .dataframe tbody tr th:only-of-type {\n        vertical-align: middle;\n    }\n\n    .dataframe tbody tr th {\n        vertical-align: top;\n    }\n\n    .dataframe thead th {\n        text-align: right;\n    }\n</style>\n<table border=\"1\" class=\"dataframe\">\n  <thead>\n    <tr style=\"text-align: right;\">\n      <th></th>\n      <th>first</th>\n      <th>second</th>\n      <th>third</th>\n    </tr>\n  </thead>\n  <tbody>\n    <tr>\n      <th>0</th>\n      <td>0.054523</td>\n      <td>2.107095</td>\n      <td>0.150911</td>\n    </tr>\n    <tr>\n      <th>1</th>\n      <td>0.442747</td>\n      <td>0.058958</td>\n      <td>0.423763</td>\n    </tr>\n    <tr>\n      <th>2</th>\n      <td>1.814326</td>\n      <td>0.235807</td>\n      <td>0.103394</td>\n    </tr>\n    <tr>\n      <th>3</th>\n      <td>0.003432</td>\n      <td>2.853605</td>\n      <td>0.146314</td>\n    </tr>\n    <tr>\n      <th>4</th>\n      <td>3.291929</td>\n      <td>0.284696</td>\n      <td>0.708512</td>\n    </tr>\n    <tr>\n      <th>5</th>\n      <td>0.067783</td>\n      <td>1.971521</td>\n      <td>0.004654</td>\n    </tr>\n    <tr>\n      <th>6</th>\n      <td>0.442661</td>\n      <td>2.531118</td>\n      <td>0.510954</td>\n    </tr>\n    <tr>\n      <th>7</th>\n      <td>0.007732</td>\n      <td>1.514422</td>\n      <td>0.431084</td>\n    </tr>\n    <tr>\n      <th>8</th>\n      <td>0.035174</td>\n      <td>0.340199</td>\n      <td>0.356983</td>\n    </tr>\n    <tr>\n      <th>9</th>\n      <td>0.031585</td>\n      <td>0.259014</td>\n      <td>0.028577</td>\n    </tr>\n  </tbody>\n</table>\n</div>"
     },
     "execution_count": 82,
     "metadata": {},
     "output_type": "execute_result"
    }
   ],
   "source": [
    "df.apply(lambda x: x**2 )"
   ],
   "metadata": {
    "collapsed": false,
    "pycharm": {
     "name": "#%%\n"
    },
    "ExecuteTime": {
     "end_time": "2023-05-15T18:40:13.630545Z",
     "start_time": "2023-05-15T18:40:13.546735Z"
    }
   }
  },
  {
   "cell_type": "markdown",
   "source": [
    "# Сохранение DataFrame"
   ],
   "metadata": {
    "collapsed": false,
    "pycharm": {
     "name": "#%% md\n"
    }
   }
  },
  {
   "cell_type": "code",
   "execution_count": null,
   "outputs": [],
   "source": [
    "data.head()"
   ],
   "metadata": {
    "collapsed": false,
    "pycharm": {
     "name": "#%%\n"
    }
   }
  },
  {
   "cell_type": "code",
   "execution_count": 84,
   "outputs": [],
   "source": [
    "# https://pandas.pydata.org/pandas-docs/stable/generated/pandas.DataFrame.to_csv.html\n",
    "\n",
    "\n",
    "# разделитель sep по умолчанию запятая\n",
    "# na_rep - что ставим на место пустых ячеек\n",
    "# columns - какие столбцы хотим записать\n",
    "# index - включать ли номер строки\n",
    "\n",
    "data.to_csv( '../files/train_modified.csv', sep = ',', columns = ['Survived', 'ageGroup'], index = False )"
   ],
   "metadata": {
    "collapsed": false,
    "pycharm": {
     "name": "#%%\n"
    },
    "ExecuteTime": {
     "end_time": "2023-05-15T18:42:22.012297Z",
     "start_time": "2023-05-15T18:42:21.955744Z"
    }
   }
  },
  {
   "cell_type": "code",
   "execution_count": 85,
   "outputs": [],
   "source": [
    "# https://pandas.pydata.org/pandas-docs/stable/generated/pandas.DataFrame.to_json.html\n",
    "# при сохранении в JSON может быть несколько вариантов группировки данных\n",
    "\n",
    "# orient = index - строки имеют вид\n",
    "# {\"0\":{\"PassengerId\":1,\"Survived\":0,\"Pclass\":3,\"Name\":\"Braund, Mr. Owen Harris\",\"Sex\":\"male\",\"Age\":22.0,\"SibSp\":1,\"Parch\":0,\"Ticket\":\"A\\/5 21171\",\"Fare\":7.25,\"Cabin\":null,\"Embarked\":\"S\",\"ageGroup\":\"Young\"}\n",
    "\n",
    "data.to_json( '../output/train_json_index.json', orient = 'index')"
   ],
   "metadata": {
    "collapsed": false,
    "pycharm": {
     "name": "#%%\n"
    },
    "ExecuteTime": {
     "end_time": "2023-05-15T18:44:03.576627Z",
     "start_time": "2023-05-15T18:44:03.538368Z"
    }
   }
  },
  {
   "cell_type": "code",
   "execution_count": null,
   "outputs": [],
   "source": [
    "# другие варианты\n",
    "data.to_json( './output/train_json_columns.json', orient = 'columns' )\n",
    "data.to_json( './output/train_json_records.json', orient = 'records' )"
   ],
   "metadata": {
    "collapsed": false,
    "pycharm": {
     "name": "#%%\n"
    }
   }
  },
  {
   "cell_type": "code",
   "execution_count": null,
   "outputs": [],
   "source": [
    "# https://pandas.pydata.org/pandas-docs/stable/generated/pandas.DataFrame.to_excel.html\n",
    "# сохранение в Excel\n",
    "data.to_excel( './output/train_modified.xlsx', sheet_name = 'data' )"
   ],
   "metadata": {
    "collapsed": false,
    "pycharm": {
     "name": "#%%\n"
    }
   }
  },
  {
   "cell_type": "markdown",
   "source": [
    "# Прочие действия с DataFrame"
   ],
   "metadata": {
    "collapsed": false,
    "pycharm": {
     "name": "#%% md\n"
    }
   }
  },
  {
   "cell_type": "code",
   "execution_count": 86,
   "outputs": [
    {
     "data": {
      "text/plain": "    PassengerId  Survived  Pclass   \n0             1         0       3  \\\n1             2         1       1   \n2             3         1       3   \n3             4         1       1   \n4             5         0       3   \n5             6         0       3   \n6             7         0       1   \n7             8         0       3   \n8             9         1       3   \n9            10         1       2   \n10           11         1       3   \n11           12         1       1   \n12           13         0       3   \n13           14         0       3   \n14           15         0       3   \n\n                                                 Name     Sex   Age  SibSp   \n0                             Braund, Mr. Owen Harris    male  22.0      1  \\\n1   Cumings, Mrs. John Bradley (Florence Briggs Th...  female  38.0      1   \n2                              Heikkinen, Miss. Laina  female  26.0      0   \n3        Futrelle, Mrs. Jacques Heath (Lily May Peel)  female  35.0      1   \n4                            Allen, Mr. William Henry    male  35.0      0   \n5                                    Moran, Mr. James    male   NaN      0   \n6                             McCarthy, Mr. Timothy J    male  54.0      0   \n7                      Palsson, Master. Gosta Leonard    male   2.0      3   \n8   Johnson, Mrs. Oscar W (Elisabeth Vilhelmina Berg)  female  27.0      0   \n9                 Nasser, Mrs. Nicholas (Adele Achem)  female  14.0      1   \n10                    Sandstrom, Miss. Marguerite Rut  female   4.0      1   \n11                           Bonnell, Miss. Elizabeth  female  58.0      0   \n12                     Saundercock, Mr. William Henry    male  20.0      0   \n13                        Andersson, Mr. Anders Johan    male  39.0      1   \n14               Vestrom, Miss. Hulda Amanda Adolfina  female  14.0      0   \n\n    Parch            Ticket     Fare Cabin Embarked  \n0       0         A/5 21171   7.2500   NaN        S  \n1       0          PC 17599  71.2833   C85        C  \n2       0  STON/O2. 3101282   7.9250   NaN        S  \n3       0            113803  53.1000  C123        S  \n4       0            373450   8.0500   NaN        S  \n5       0            330877   8.4583   NaN        Q  \n6       0             17463  51.8625   E46        S  \n7       1            349909  21.0750   NaN        S  \n8       2            347742  11.1333   NaN        S  \n9       0            237736  30.0708   NaN        C  \n10      1           PP 9549  16.7000    G6        S  \n11      0            113783  26.5500  C103        S  \n12      0         A/5. 2151   8.0500   NaN        S  \n13      5            347082  31.2750   NaN        S  \n14      0            350406   7.8542   NaN        S  ",
      "text/html": "<div>\n<style scoped>\n    .dataframe tbody tr th:only-of-type {\n        vertical-align: middle;\n    }\n\n    .dataframe tbody tr th {\n        vertical-align: top;\n    }\n\n    .dataframe thead th {\n        text-align: right;\n    }\n</style>\n<table border=\"1\" class=\"dataframe\">\n  <thead>\n    <tr style=\"text-align: right;\">\n      <th></th>\n      <th>PassengerId</th>\n      <th>Survived</th>\n      <th>Pclass</th>\n      <th>Name</th>\n      <th>Sex</th>\n      <th>Age</th>\n      <th>SibSp</th>\n      <th>Parch</th>\n      <th>Ticket</th>\n      <th>Fare</th>\n      <th>Cabin</th>\n      <th>Embarked</th>\n    </tr>\n  </thead>\n  <tbody>\n    <tr>\n      <th>0</th>\n      <td>1</td>\n      <td>0</td>\n      <td>3</td>\n      <td>Braund, Mr. Owen Harris</td>\n      <td>male</td>\n      <td>22.0</td>\n      <td>1</td>\n      <td>0</td>\n      <td>A/5 21171</td>\n      <td>7.2500</td>\n      <td>NaN</td>\n      <td>S</td>\n    </tr>\n    <tr>\n      <th>1</th>\n      <td>2</td>\n      <td>1</td>\n      <td>1</td>\n      <td>Cumings, Mrs. John Bradley (Florence Briggs Th...</td>\n      <td>female</td>\n      <td>38.0</td>\n      <td>1</td>\n      <td>0</td>\n      <td>PC 17599</td>\n      <td>71.2833</td>\n      <td>C85</td>\n      <td>C</td>\n    </tr>\n    <tr>\n      <th>2</th>\n      <td>3</td>\n      <td>1</td>\n      <td>3</td>\n      <td>Heikkinen, Miss. Laina</td>\n      <td>female</td>\n      <td>26.0</td>\n      <td>0</td>\n      <td>0</td>\n      <td>STON/O2. 3101282</td>\n      <td>7.9250</td>\n      <td>NaN</td>\n      <td>S</td>\n    </tr>\n    <tr>\n      <th>3</th>\n      <td>4</td>\n      <td>1</td>\n      <td>1</td>\n      <td>Futrelle, Mrs. Jacques Heath (Lily May Peel)</td>\n      <td>female</td>\n      <td>35.0</td>\n      <td>1</td>\n      <td>0</td>\n      <td>113803</td>\n      <td>53.1000</td>\n      <td>C123</td>\n      <td>S</td>\n    </tr>\n    <tr>\n      <th>4</th>\n      <td>5</td>\n      <td>0</td>\n      <td>3</td>\n      <td>Allen, Mr. William Henry</td>\n      <td>male</td>\n      <td>35.0</td>\n      <td>0</td>\n      <td>0</td>\n      <td>373450</td>\n      <td>8.0500</td>\n      <td>NaN</td>\n      <td>S</td>\n    </tr>\n    <tr>\n      <th>5</th>\n      <td>6</td>\n      <td>0</td>\n      <td>3</td>\n      <td>Moran, Mr. James</td>\n      <td>male</td>\n      <td>NaN</td>\n      <td>0</td>\n      <td>0</td>\n      <td>330877</td>\n      <td>8.4583</td>\n      <td>NaN</td>\n      <td>Q</td>\n    </tr>\n    <tr>\n      <th>6</th>\n      <td>7</td>\n      <td>0</td>\n      <td>1</td>\n      <td>McCarthy, Mr. Timothy J</td>\n      <td>male</td>\n      <td>54.0</td>\n      <td>0</td>\n      <td>0</td>\n      <td>17463</td>\n      <td>51.8625</td>\n      <td>E46</td>\n      <td>S</td>\n    </tr>\n    <tr>\n      <th>7</th>\n      <td>8</td>\n      <td>0</td>\n      <td>3</td>\n      <td>Palsson, Master. Gosta Leonard</td>\n      <td>male</td>\n      <td>2.0</td>\n      <td>3</td>\n      <td>1</td>\n      <td>349909</td>\n      <td>21.0750</td>\n      <td>NaN</td>\n      <td>S</td>\n    </tr>\n    <tr>\n      <th>8</th>\n      <td>9</td>\n      <td>1</td>\n      <td>3</td>\n      <td>Johnson, Mrs. Oscar W (Elisabeth Vilhelmina Berg)</td>\n      <td>female</td>\n      <td>27.0</td>\n      <td>0</td>\n      <td>2</td>\n      <td>347742</td>\n      <td>11.1333</td>\n      <td>NaN</td>\n      <td>S</td>\n    </tr>\n    <tr>\n      <th>9</th>\n      <td>10</td>\n      <td>1</td>\n      <td>2</td>\n      <td>Nasser, Mrs. Nicholas (Adele Achem)</td>\n      <td>female</td>\n      <td>14.0</td>\n      <td>1</td>\n      <td>0</td>\n      <td>237736</td>\n      <td>30.0708</td>\n      <td>NaN</td>\n      <td>C</td>\n    </tr>\n    <tr>\n      <th>10</th>\n      <td>11</td>\n      <td>1</td>\n      <td>3</td>\n      <td>Sandstrom, Miss. Marguerite Rut</td>\n      <td>female</td>\n      <td>4.0</td>\n      <td>1</td>\n      <td>1</td>\n      <td>PP 9549</td>\n      <td>16.7000</td>\n      <td>G6</td>\n      <td>S</td>\n    </tr>\n    <tr>\n      <th>11</th>\n      <td>12</td>\n      <td>1</td>\n      <td>1</td>\n      <td>Bonnell, Miss. Elizabeth</td>\n      <td>female</td>\n      <td>58.0</td>\n      <td>0</td>\n      <td>0</td>\n      <td>113783</td>\n      <td>26.5500</td>\n      <td>C103</td>\n      <td>S</td>\n    </tr>\n    <tr>\n      <th>12</th>\n      <td>13</td>\n      <td>0</td>\n      <td>3</td>\n      <td>Saundercock, Mr. William Henry</td>\n      <td>male</td>\n      <td>20.0</td>\n      <td>0</td>\n      <td>0</td>\n      <td>A/5. 2151</td>\n      <td>8.0500</td>\n      <td>NaN</td>\n      <td>S</td>\n    </tr>\n    <tr>\n      <th>13</th>\n      <td>14</td>\n      <td>0</td>\n      <td>3</td>\n      <td>Andersson, Mr. Anders Johan</td>\n      <td>male</td>\n      <td>39.0</td>\n      <td>1</td>\n      <td>5</td>\n      <td>347082</td>\n      <td>31.2750</td>\n      <td>NaN</td>\n      <td>S</td>\n    </tr>\n    <tr>\n      <th>14</th>\n      <td>15</td>\n      <td>0</td>\n      <td>3</td>\n      <td>Vestrom, Miss. Hulda Amanda Adolfina</td>\n      <td>female</td>\n      <td>14.0</td>\n      <td>0</td>\n      <td>0</td>\n      <td>350406</td>\n      <td>7.8542</td>\n      <td>NaN</td>\n      <td>S</td>\n    </tr>\n  </tbody>\n</table>\n</div>"
     },
     "execution_count": 86,
     "metadata": {},
     "output_type": "execute_result"
    }
   ],
   "source": [
    "data = pd.read_csv( '../files/titanic_train.csv', delimiter = ',' )\n",
    "data.head(15)"
   ],
   "metadata": {
    "collapsed": false,
    "pycharm": {
     "name": "#%%\n"
    },
    "ExecuteTime": {
     "end_time": "2023-05-15T18:45:19.115210Z",
     "start_time": "2023-05-15T18:45:19.034854Z"
    }
   }
  },
  {
   "cell_type": "code",
   "execution_count": 87,
   "outputs": [
    {
     "data": {
      "text/plain": "                                                Name   Age Cabin\n0                            Braund, Mr. Owen Harris  22.0   NaN\n1  Cumings, Mrs. John Bradley (Florence Briggs Th...  38.0   C85\n2                             Heikkinen, Miss. Laina  26.0   NaN\n3       Futrelle, Mrs. Jacques Heath (Lily May Peel)  35.0  C123",
      "text/html": "<div>\n<style scoped>\n    .dataframe tbody tr th:only-of-type {\n        vertical-align: middle;\n    }\n\n    .dataframe tbody tr th {\n        vertical-align: top;\n    }\n\n    .dataframe thead th {\n        text-align: right;\n    }\n</style>\n<table border=\"1\" class=\"dataframe\">\n  <thead>\n    <tr style=\"text-align: right;\">\n      <th></th>\n      <th>Name</th>\n      <th>Age</th>\n      <th>Cabin</th>\n    </tr>\n  </thead>\n  <tbody>\n    <tr>\n      <th>0</th>\n      <td>Braund, Mr. Owen Harris</td>\n      <td>22.0</td>\n      <td>NaN</td>\n    </tr>\n    <tr>\n      <th>1</th>\n      <td>Cumings, Mrs. John Bradley (Florence Briggs Th...</td>\n      <td>38.0</td>\n      <td>C85</td>\n    </tr>\n    <tr>\n      <th>2</th>\n      <td>Heikkinen, Miss. Laina</td>\n      <td>26.0</td>\n      <td>NaN</td>\n    </tr>\n    <tr>\n      <th>3</th>\n      <td>Futrelle, Mrs. Jacques Heath (Lily May Peel)</td>\n      <td>35.0</td>\n      <td>C123</td>\n    </tr>\n  </tbody>\n</table>\n</div>"
     },
     "execution_count": 87,
     "metadata": {},
     "output_type": "execute_result"
    }
   ],
   "source": [
    "# выбрать все строки и подмножество столбцов\n",
    "dataSelected = data.loc[:3, ['Name', 'Age', 'Cabin']]\n",
    "dataSelected.head()"
   ],
   "metadata": {
    "collapsed": false,
    "pycharm": {
     "name": "#%%\n"
    },
    "ExecuteTime": {
     "end_time": "2023-05-15T18:46:12.332525Z",
     "start_time": "2023-05-15T18:46:12.294721Z"
    }
   }
  },
  {
   "cell_type": "code",
   "execution_count": 89,
   "outputs": [
    {
     "data": {
      "text/plain": "                                                 Name   Age Cabin\n2                              Heikkinen, Miss. Laina  26.0   NaN\n3        Futrelle, Mrs. Jacques Heath (Lily May Peel)  35.0  C123\n4                            Allen, Mr. William Henry  35.0   NaN\n5                                    Moran, Mr. James   NaN   NaN\n6                             McCarthy, Mr. Timothy J  54.0   E46\n7                      Palsson, Master. Gosta Leonard   2.0   NaN\n8   Johnson, Mrs. Oscar W (Elisabeth Vilhelmina Berg)  27.0   NaN\n9                 Nasser, Mrs. Nicholas (Adele Achem)  14.0   NaN\n10                    Sandstrom, Miss. Marguerite Rut   4.0    G6\n11                           Bonnell, Miss. Elizabeth  58.0  C103\n12                     Saundercock, Mr. William Henry  20.0   NaN\n13                        Andersson, Mr. Anders Johan  39.0   NaN\n14               Vestrom, Miss. Hulda Amanda Adolfina  14.0   NaN\n15                   Hewlett, Mrs. (Mary D Kingcome)   55.0   NaN",
      "text/html": "<div>\n<style scoped>\n    .dataframe tbody tr th:only-of-type {\n        vertical-align: middle;\n    }\n\n    .dataframe tbody tr th {\n        vertical-align: top;\n    }\n\n    .dataframe thead th {\n        text-align: right;\n    }\n</style>\n<table border=\"1\" class=\"dataframe\">\n  <thead>\n    <tr style=\"text-align: right;\">\n      <th></th>\n      <th>Name</th>\n      <th>Age</th>\n      <th>Cabin</th>\n    </tr>\n  </thead>\n  <tbody>\n    <tr>\n      <th>2</th>\n      <td>Heikkinen, Miss. Laina</td>\n      <td>26.0</td>\n      <td>NaN</td>\n    </tr>\n    <tr>\n      <th>3</th>\n      <td>Futrelle, Mrs. Jacques Heath (Lily May Peel)</td>\n      <td>35.0</td>\n      <td>C123</td>\n    </tr>\n    <tr>\n      <th>4</th>\n      <td>Allen, Mr. William Henry</td>\n      <td>35.0</td>\n      <td>NaN</td>\n    </tr>\n    <tr>\n      <th>5</th>\n      <td>Moran, Mr. James</td>\n      <td>NaN</td>\n      <td>NaN</td>\n    </tr>\n    <tr>\n      <th>6</th>\n      <td>McCarthy, Mr. Timothy J</td>\n      <td>54.0</td>\n      <td>E46</td>\n    </tr>\n    <tr>\n      <th>7</th>\n      <td>Palsson, Master. Gosta Leonard</td>\n      <td>2.0</td>\n      <td>NaN</td>\n    </tr>\n    <tr>\n      <th>8</th>\n      <td>Johnson, Mrs. Oscar W (Elisabeth Vilhelmina Berg)</td>\n      <td>27.0</td>\n      <td>NaN</td>\n    </tr>\n    <tr>\n      <th>9</th>\n      <td>Nasser, Mrs. Nicholas (Adele Achem)</td>\n      <td>14.0</td>\n      <td>NaN</td>\n    </tr>\n    <tr>\n      <th>10</th>\n      <td>Sandstrom, Miss. Marguerite Rut</td>\n      <td>4.0</td>\n      <td>G6</td>\n    </tr>\n    <tr>\n      <th>11</th>\n      <td>Bonnell, Miss. Elizabeth</td>\n      <td>58.0</td>\n      <td>C103</td>\n    </tr>\n    <tr>\n      <th>12</th>\n      <td>Saundercock, Mr. William Henry</td>\n      <td>20.0</td>\n      <td>NaN</td>\n    </tr>\n    <tr>\n      <th>13</th>\n      <td>Andersson, Mr. Anders Johan</td>\n      <td>39.0</td>\n      <td>NaN</td>\n    </tr>\n    <tr>\n      <th>14</th>\n      <td>Vestrom, Miss. Hulda Amanda Adolfina</td>\n      <td>14.0</td>\n      <td>NaN</td>\n    </tr>\n    <tr>\n      <th>15</th>\n      <td>Hewlett, Mrs. (Mary D Kingcome)</td>\n      <td>55.0</td>\n      <td>NaN</td>\n    </tr>\n  </tbody>\n</table>\n</div>"
     },
     "execution_count": 89,
     "metadata": {},
     "output_type": "execute_result"
    }
   ],
   "source": [
    "# добавляем к фильтру строки\n",
    "# например, с третьей до последней\n",
    "\n",
    "dataSelected = data.loc[2:15, ['Name', 'Age', 'Cabin']]\n",
    "dataSelected.head(15)"
   ],
   "metadata": {
    "collapsed": false,
    "pycharm": {
     "name": "#%%\n"
    },
    "ExecuteTime": {
     "end_time": "2023-05-15T18:46:43.002266Z",
     "start_time": "2023-05-15T18:46:42.964302Z"
    }
   }
  },
  {
   "cell_type": "markdown",
   "source": [
    "# Добавление столбцов"
   ],
   "metadata": {
    "collapsed": false,
    "pycharm": {
     "name": "#%% md\n"
    }
   }
  },
  {
   "cell_type": "code",
   "execution_count": 94,
   "outputs": [
    {
     "data": {
      "text/plain": "   PassengerId  Survived  Pclass   \n0            1         0       3  \\\n1            2         1       1   \n2            3         1       3   \n3            4         1       1   \n4            5         0       3   \n\n                                                Name     Sex   Age  SibSp   \n0                            Braund, Mr. Owen Harris    male  22.0      1  \\\n1  Cumings, Mrs. John Bradley (Florence Briggs Th...  female  38.0      1   \n2                             Heikkinen, Miss. Laina  female  26.0      0   \n3       Futrelle, Mrs. Jacques Heath (Lily May Peel)  female  35.0      1   \n4                           Allen, Mr. William Henry    male  35.0      0   \n\n   Parch            Ticket     Fare Cabin Embarked  ageSquared  \n0      0         A/5 21171   7.2500   NaN        S       484.0  \n1      0          PC 17599  71.2833   C85        C      1444.0  \n2      0  STON/O2. 3101282   7.9250   NaN        S       676.0  \n3      0            113803  53.1000  C123        S      1225.0  \n4      0            373450   8.0500   NaN        S      1225.0  ",
      "text/html": "<div>\n<style scoped>\n    .dataframe tbody tr th:only-of-type {\n        vertical-align: middle;\n    }\n\n    .dataframe tbody tr th {\n        vertical-align: top;\n    }\n\n    .dataframe thead th {\n        text-align: right;\n    }\n</style>\n<table border=\"1\" class=\"dataframe\">\n  <thead>\n    <tr style=\"text-align: right;\">\n      <th></th>\n      <th>PassengerId</th>\n      <th>Survived</th>\n      <th>Pclass</th>\n      <th>Name</th>\n      <th>Sex</th>\n      <th>Age</th>\n      <th>SibSp</th>\n      <th>Parch</th>\n      <th>Ticket</th>\n      <th>Fare</th>\n      <th>Cabin</th>\n      <th>Embarked</th>\n      <th>ageSquared</th>\n    </tr>\n  </thead>\n  <tbody>\n    <tr>\n      <th>0</th>\n      <td>1</td>\n      <td>0</td>\n      <td>3</td>\n      <td>Braund, Mr. Owen Harris</td>\n      <td>male</td>\n      <td>22.0</td>\n      <td>1</td>\n      <td>0</td>\n      <td>A/5 21171</td>\n      <td>7.2500</td>\n      <td>NaN</td>\n      <td>S</td>\n      <td>484.0</td>\n    </tr>\n    <tr>\n      <th>1</th>\n      <td>2</td>\n      <td>1</td>\n      <td>1</td>\n      <td>Cumings, Mrs. John Bradley (Florence Briggs Th...</td>\n      <td>female</td>\n      <td>38.0</td>\n      <td>1</td>\n      <td>0</td>\n      <td>PC 17599</td>\n      <td>71.2833</td>\n      <td>C85</td>\n      <td>C</td>\n      <td>1444.0</td>\n    </tr>\n    <tr>\n      <th>2</th>\n      <td>3</td>\n      <td>1</td>\n      <td>3</td>\n      <td>Heikkinen, Miss. Laina</td>\n      <td>female</td>\n      <td>26.0</td>\n      <td>0</td>\n      <td>0</td>\n      <td>STON/O2. 3101282</td>\n      <td>7.9250</td>\n      <td>NaN</td>\n      <td>S</td>\n      <td>676.0</td>\n    </tr>\n    <tr>\n      <th>3</th>\n      <td>4</td>\n      <td>1</td>\n      <td>1</td>\n      <td>Futrelle, Mrs. Jacques Heath (Lily May Peel)</td>\n      <td>female</td>\n      <td>35.0</td>\n      <td>1</td>\n      <td>0</td>\n      <td>113803</td>\n      <td>53.1000</td>\n      <td>C123</td>\n      <td>S</td>\n      <td>1225.0</td>\n    </tr>\n    <tr>\n      <th>4</th>\n      <td>5</td>\n      <td>0</td>\n      <td>3</td>\n      <td>Allen, Mr. William Henry</td>\n      <td>male</td>\n      <td>35.0</td>\n      <td>0</td>\n      <td>0</td>\n      <td>373450</td>\n      <td>8.0500</td>\n      <td>NaN</td>\n      <td>S</td>\n      <td>1225.0</td>\n    </tr>\n  </tbody>\n</table>\n</div>"
     },
     "execution_count": 94,
     "metadata": {},
     "output_type": "execute_result"
    }
   ],
   "source": [
    "data['ageSquared'] = data['Age']**2\n",
    "data.head()"
   ],
   "metadata": {
    "collapsed": false,
    "pycharm": {
     "name": "#%%\n"
    },
    "ExecuteTime": {
     "end_time": "2023-05-15T18:49:31.706586Z",
     "start_time": "2023-05-15T18:49:31.672658Z"
    }
   }
  },
  {
   "cell_type": "code",
   "execution_count": 95,
   "outputs": [
    {
     "data": {
      "text/plain": "Index(['PassengerId', 'Survived', 'Pclass', 'Name', 'Sex', 'Age', 'SibSp',\n       'Parch', 'Ticket', 'Fare', 'Cabin', 'Embarked', 'ageSquared'],\n      dtype='object')"
     },
     "execution_count": 95,
     "metadata": {},
     "output_type": "execute_result"
    }
   ],
   "source": [
    "data.columns"
   ],
   "metadata": {
    "collapsed": false,
    "pycharm": {
     "name": "#%%\n"
    },
    "ExecuteTime": {
     "end_time": "2023-05-15T18:49:32.724069Z",
     "start_time": "2023-05-15T18:49:32.677833Z"
    }
   }
  },
  {
   "cell_type": "code",
   "execution_count": 96,
   "outputs": [
    {
     "data": {
      "text/plain": "   PassengerId  Survived  Pclass   \n0            1         0       3  \\\n1            2         1       1   \n2            3         1       3   \n3            4         1       1   \n4            5         0       3   \n\n                                                Name     Sex   Age  SibSp   \n0                            Braund, Mr. Owen Harris    male  22.0      1  \\\n1  Cumings, Mrs. John Bradley (Florence Briggs Th...  female  38.0      1   \n2                             Heikkinen, Miss. Laina  female  26.0      0   \n3       Futrelle, Mrs. Jacques Heath (Lily May Peel)  female  35.0      1   \n4                           Allen, Mr. William Henry    male  35.0      0   \n\n   Parch            Ticket     Fare Cabin Embarked  \n0      0         A/5 21171   7.2500   NaN        S  \n1      0          PC 17599  71.2833   C85        C  \n2      0  STON/O2. 3101282   7.9250   NaN        S  \n3      0            113803  53.1000  C123        S  \n4      0            373450   8.0500   NaN        S  ",
      "text/html": "<div>\n<style scoped>\n    .dataframe tbody tr th:only-of-type {\n        vertical-align: middle;\n    }\n\n    .dataframe tbody tr th {\n        vertical-align: top;\n    }\n\n    .dataframe thead th {\n        text-align: right;\n    }\n</style>\n<table border=\"1\" class=\"dataframe\">\n  <thead>\n    <tr style=\"text-align: right;\">\n      <th></th>\n      <th>PassengerId</th>\n      <th>Survived</th>\n      <th>Pclass</th>\n      <th>Name</th>\n      <th>Sex</th>\n      <th>Age</th>\n      <th>SibSp</th>\n      <th>Parch</th>\n      <th>Ticket</th>\n      <th>Fare</th>\n      <th>Cabin</th>\n      <th>Embarked</th>\n    </tr>\n  </thead>\n  <tbody>\n    <tr>\n      <th>0</th>\n      <td>1</td>\n      <td>0</td>\n      <td>3</td>\n      <td>Braund, Mr. Owen Harris</td>\n      <td>male</td>\n      <td>22.0</td>\n      <td>1</td>\n      <td>0</td>\n      <td>A/5 21171</td>\n      <td>7.2500</td>\n      <td>NaN</td>\n      <td>S</td>\n    </tr>\n    <tr>\n      <th>1</th>\n      <td>2</td>\n      <td>1</td>\n      <td>1</td>\n      <td>Cumings, Mrs. John Bradley (Florence Briggs Th...</td>\n      <td>female</td>\n      <td>38.0</td>\n      <td>1</td>\n      <td>0</td>\n      <td>PC 17599</td>\n      <td>71.2833</td>\n      <td>C85</td>\n      <td>C</td>\n    </tr>\n    <tr>\n      <th>2</th>\n      <td>3</td>\n      <td>1</td>\n      <td>3</td>\n      <td>Heikkinen, Miss. Laina</td>\n      <td>female</td>\n      <td>26.0</td>\n      <td>0</td>\n      <td>0</td>\n      <td>STON/O2. 3101282</td>\n      <td>7.9250</td>\n      <td>NaN</td>\n      <td>S</td>\n    </tr>\n    <tr>\n      <th>3</th>\n      <td>4</td>\n      <td>1</td>\n      <td>1</td>\n      <td>Futrelle, Mrs. Jacques Heath (Lily May Peel)</td>\n      <td>female</td>\n      <td>35.0</td>\n      <td>1</td>\n      <td>0</td>\n      <td>113803</td>\n      <td>53.1000</td>\n      <td>C123</td>\n      <td>S</td>\n    </tr>\n    <tr>\n      <th>4</th>\n      <td>5</td>\n      <td>0</td>\n      <td>3</td>\n      <td>Allen, Mr. William Henry</td>\n      <td>male</td>\n      <td>35.0</td>\n      <td>0</td>\n      <td>0</td>\n      <td>373450</td>\n      <td>8.0500</td>\n      <td>NaN</td>\n      <td>S</td>\n    </tr>\n  </tbody>\n</table>\n</div>"
     },
     "execution_count": 96,
     "metadata": {},
     "output_type": "execute_result"
    }
   ],
   "source": [
    "# удаляем наши вычисления\n",
    "del data['ageSquared']\n",
    "data.head()"
   ],
   "metadata": {
    "collapsed": false,
    "pycharm": {
     "name": "#%%\n"
    },
    "ExecuteTime": {
     "end_time": "2023-05-15T18:49:33.208566Z",
     "start_time": "2023-05-15T18:49:33.167325Z"
    }
   }
  },
  {
   "cell_type": "code",
   "execution_count": 97,
   "outputs": [],
   "source": [
    "df.drop(data['SibSp'], inplace=True)"
   ],
   "metadata": {
    "collapsed": false,
    "pycharm": {
     "name": "#%%\n"
    },
    "ExecuteTime": {
     "end_time": "2023-05-15T18:49:50.255090Z",
     "start_time": "2023-05-15T18:49:50.193602Z"
    }
   }
  },
  {
   "cell_type": "code",
   "execution_count": 98,
   "outputs": [
    {
     "data": {
      "text/plain": "   PassengerId  Survived  Pclass   \n0            1         0       3  \\\n1            2         1       1   \n2            3         1       3   \n3            4         1       1   \n4            5         0       3   \n\n                                              f_name     Sex   Age  SibSp   \n0                            Braund, Mr. Owen Harris    male  22.0      1  \\\n1  Cumings, Mrs. John Bradley (Florence Briggs Th...  female  38.0      1   \n2                             Heikkinen, Miss. Laina  female  26.0      0   \n3       Futrelle, Mrs. Jacques Heath (Lily May Peel)  female  35.0      1   \n4                           Allen, Mr. William Henry    male  35.0      0   \n\n   Parch            Ticket     Fare Cabin Embarked  \n0      0         A/5 21171   7.2500   NaN        S  \n1      0          PC 17599  71.2833   C85        C  \n2      0  STON/O2. 3101282   7.9250   NaN        S  \n3      0            113803  53.1000  C123        S  \n4      0            373450   8.0500   NaN        S  ",
      "text/html": "<div>\n<style scoped>\n    .dataframe tbody tr th:only-of-type {\n        vertical-align: middle;\n    }\n\n    .dataframe tbody tr th {\n        vertical-align: top;\n    }\n\n    .dataframe thead th {\n        text-align: right;\n    }\n</style>\n<table border=\"1\" class=\"dataframe\">\n  <thead>\n    <tr style=\"text-align: right;\">\n      <th></th>\n      <th>PassengerId</th>\n      <th>Survived</th>\n      <th>Pclass</th>\n      <th>f_name</th>\n      <th>Sex</th>\n      <th>Age</th>\n      <th>SibSp</th>\n      <th>Parch</th>\n      <th>Ticket</th>\n      <th>Fare</th>\n      <th>Cabin</th>\n      <th>Embarked</th>\n    </tr>\n  </thead>\n  <tbody>\n    <tr>\n      <th>0</th>\n      <td>1</td>\n      <td>0</td>\n      <td>3</td>\n      <td>Braund, Mr. Owen Harris</td>\n      <td>male</td>\n      <td>22.0</td>\n      <td>1</td>\n      <td>0</td>\n      <td>A/5 21171</td>\n      <td>7.2500</td>\n      <td>NaN</td>\n      <td>S</td>\n    </tr>\n    <tr>\n      <th>1</th>\n      <td>2</td>\n      <td>1</td>\n      <td>1</td>\n      <td>Cumings, Mrs. John Bradley (Florence Briggs Th...</td>\n      <td>female</td>\n      <td>38.0</td>\n      <td>1</td>\n      <td>0</td>\n      <td>PC 17599</td>\n      <td>71.2833</td>\n      <td>C85</td>\n      <td>C</td>\n    </tr>\n    <tr>\n      <th>2</th>\n      <td>3</td>\n      <td>1</td>\n      <td>3</td>\n      <td>Heikkinen, Miss. Laina</td>\n      <td>female</td>\n      <td>26.0</td>\n      <td>0</td>\n      <td>0</td>\n      <td>STON/O2. 3101282</td>\n      <td>7.9250</td>\n      <td>NaN</td>\n      <td>S</td>\n    </tr>\n    <tr>\n      <th>3</th>\n      <td>4</td>\n      <td>1</td>\n      <td>1</td>\n      <td>Futrelle, Mrs. Jacques Heath (Lily May Peel)</td>\n      <td>female</td>\n      <td>35.0</td>\n      <td>1</td>\n      <td>0</td>\n      <td>113803</td>\n      <td>53.1000</td>\n      <td>C123</td>\n      <td>S</td>\n    </tr>\n    <tr>\n      <th>4</th>\n      <td>5</td>\n      <td>0</td>\n      <td>3</td>\n      <td>Allen, Mr. William Henry</td>\n      <td>male</td>\n      <td>35.0</td>\n      <td>0</td>\n      <td>0</td>\n      <td>373450</td>\n      <td>8.0500</td>\n      <td>NaN</td>\n      <td>S</td>\n    </tr>\n  </tbody>\n</table>\n</div>"
     },
     "execution_count": 98,
     "metadata": {},
     "output_type": "execute_result"
    }
   ],
   "source": [
    "# переименование столбца\n",
    "# параметр inplace указывает, что надо подставить новое значение в самом DataFrame data\n",
    "data.rename( columns = { 'Name': 'f_name' }, inplace = True )\n",
    "data.head()"
   ],
   "metadata": {
    "collapsed": false,
    "pycharm": {
     "name": "#%%\n"
    },
    "ExecuteTime": {
     "end_time": "2023-05-15T18:50:34.461669Z",
     "start_time": "2023-05-15T18:50:34.420589Z"
    }
   }
  },
  {
   "cell_type": "code",
   "execution_count": 99,
   "outputs": [
    {
     "data": {
      "text/plain": "   ID  Survived  Class                                             f_name   \n0   1         0      3                            Braund, Mr. Owen Harris  \\\n1   2         1      1  Cumings, Mrs. John Bradley (Florence Briggs Th...   \n2   3         1      3                             Heikkinen, Miss. Laina   \n3   4         1      1       Futrelle, Mrs. Jacques Heath (Lily May Peel)   \n4   5         0      3                           Allen, Mr. William Henry   \n\n   Gender   Age  SibSp  Parch     Ticker number     Fare Cabin Embarked  \n0    male  22.0      1      0         A/5 21171   7.2500   NaN        S  \n1  female  38.0      1      0          PC 17599  71.2833   C85        C  \n2  female  26.0      0      0  STON/O2. 3101282   7.9250   NaN        S  \n3  female  35.0      1      0            113803  53.1000  C123        S  \n4    male  35.0      0      0            373450   8.0500   NaN        S  ",
      "text/html": "<div>\n<style scoped>\n    .dataframe tbody tr th:only-of-type {\n        vertical-align: middle;\n    }\n\n    .dataframe tbody tr th {\n        vertical-align: top;\n    }\n\n    .dataframe thead th {\n        text-align: right;\n    }\n</style>\n<table border=\"1\" class=\"dataframe\">\n  <thead>\n    <tr style=\"text-align: right;\">\n      <th></th>\n      <th>ID</th>\n      <th>Survived</th>\n      <th>Class</th>\n      <th>f_name</th>\n      <th>Gender</th>\n      <th>Age</th>\n      <th>SibSp</th>\n      <th>Parch</th>\n      <th>Ticker number</th>\n      <th>Fare</th>\n      <th>Cabin</th>\n      <th>Embarked</th>\n    </tr>\n  </thead>\n  <tbody>\n    <tr>\n      <th>0</th>\n      <td>1</td>\n      <td>0</td>\n      <td>3</td>\n      <td>Braund, Mr. Owen Harris</td>\n      <td>male</td>\n      <td>22.0</td>\n      <td>1</td>\n      <td>0</td>\n      <td>A/5 21171</td>\n      <td>7.2500</td>\n      <td>NaN</td>\n      <td>S</td>\n    </tr>\n    <tr>\n      <th>1</th>\n      <td>2</td>\n      <td>1</td>\n      <td>1</td>\n      <td>Cumings, Mrs. John Bradley (Florence Briggs Th...</td>\n      <td>female</td>\n      <td>38.0</td>\n      <td>1</td>\n      <td>0</td>\n      <td>PC 17599</td>\n      <td>71.2833</td>\n      <td>C85</td>\n      <td>C</td>\n    </tr>\n    <tr>\n      <th>2</th>\n      <td>3</td>\n      <td>1</td>\n      <td>3</td>\n      <td>Heikkinen, Miss. Laina</td>\n      <td>female</td>\n      <td>26.0</td>\n      <td>0</td>\n      <td>0</td>\n      <td>STON/O2. 3101282</td>\n      <td>7.9250</td>\n      <td>NaN</td>\n      <td>S</td>\n    </tr>\n    <tr>\n      <th>3</th>\n      <td>4</td>\n      <td>1</td>\n      <td>1</td>\n      <td>Futrelle, Mrs. Jacques Heath (Lily May Peel)</td>\n      <td>female</td>\n      <td>35.0</td>\n      <td>1</td>\n      <td>0</td>\n      <td>113803</td>\n      <td>53.1000</td>\n      <td>C123</td>\n      <td>S</td>\n    </tr>\n    <tr>\n      <th>4</th>\n      <td>5</td>\n      <td>0</td>\n      <td>3</td>\n      <td>Allen, Mr. William Henry</td>\n      <td>male</td>\n      <td>35.0</td>\n      <td>0</td>\n      <td>0</td>\n      <td>373450</td>\n      <td>8.0500</td>\n      <td>NaN</td>\n      <td>S</td>\n    </tr>\n  </tbody>\n</table>\n</div>"
     },
     "execution_count": 99,
     "metadata": {},
     "output_type": "execute_result"
    }
   ],
   "source": [
    "# можно заменить названия столбцов\n",
    "# например, иногда русские названия в исходных данных доставляют трудности\n",
    "data.columns = [ 'ID', 'Survived', 'Class', 'f_name', 'Gender', 'Age', 'SibSp', 'Parch', 'Ticker number', 'Fare', 'Cabin', 'Embarked' ]\n",
    "data.head()"
   ],
   "metadata": {
    "collapsed": false,
    "pycharm": {
     "name": "#%%\n"
    },
    "ExecuteTime": {
     "end_time": "2023-05-15T18:51:03.173830Z",
     "start_time": "2023-05-15T18:51:03.066162Z"
    }
   }
  },
  {
   "cell_type": "markdown",
   "source": [
    "# Действия со строками"
   ],
   "metadata": {
    "collapsed": false,
    "pycharm": {
     "name": "#%% md\n"
    }
   }
  },
  {
   "cell_type": "code",
   "execution_count": 100,
   "outputs": [
    {
     "data": {
      "text/plain": "    PassengerId  Survived  Pclass   \n0             1         0       3  \\\n1             2         1       1   \n2             3         1       3   \n3             4         1       1   \n4             5         0       3   \n5             6         0       3   \n6             7         0       1   \n7             8         0       3   \n8             9         1       3   \n9            10         1       2   \n10           11         1       3   \n11           12         1       1   \n12           13         0       3   \n13           14         0       3   \n14           15         0       3   \n\n                                                 Name     Sex   Age  SibSp   \n0                             Braund, Mr. Owen Harris    male  22.0      1  \\\n1   Cumings, Mrs. John Bradley (Florence Briggs Th...  female  38.0      1   \n2                              Heikkinen, Miss. Laina  female  26.0      0   \n3        Futrelle, Mrs. Jacques Heath (Lily May Peel)  female  35.0      1   \n4                            Allen, Mr. William Henry    male  35.0      0   \n5                                    Moran, Mr. James    male   NaN      0   \n6                             McCarthy, Mr. Timothy J    male  54.0      0   \n7                      Palsson, Master. Gosta Leonard    male   2.0      3   \n8   Johnson, Mrs. Oscar W (Elisabeth Vilhelmina Berg)  female  27.0      0   \n9                 Nasser, Mrs. Nicholas (Adele Achem)  female  14.0      1   \n10                    Sandstrom, Miss. Marguerite Rut  female   4.0      1   \n11                           Bonnell, Miss. Elizabeth  female  58.0      0   \n12                     Saundercock, Mr. William Henry    male  20.0      0   \n13                        Andersson, Mr. Anders Johan    male  39.0      1   \n14               Vestrom, Miss. Hulda Amanda Adolfina  female  14.0      0   \n\n    Parch            Ticket     Fare Cabin Embarked  \n0       0         A/5 21171   7.2500   NaN        S  \n1       0          PC 17599  71.2833   C85        C  \n2       0  STON/O2. 3101282   7.9250   NaN        S  \n3       0            113803  53.1000  C123        S  \n4       0            373450   8.0500   NaN        S  \n5       0            330877   8.4583   NaN        Q  \n6       0             17463  51.8625   E46        S  \n7       1            349909  21.0750   NaN        S  \n8       2            347742  11.1333   NaN        S  \n9       0            237736  30.0708   NaN        C  \n10      1           PP 9549  16.7000    G6        S  \n11      0            113783  26.5500  C103        S  \n12      0         A/5. 2151   8.0500   NaN        S  \n13      5            347082  31.2750   NaN        S  \n14      0            350406   7.8542   NaN        S  ",
      "text/html": "<div>\n<style scoped>\n    .dataframe tbody tr th:only-of-type {\n        vertical-align: middle;\n    }\n\n    .dataframe tbody tr th {\n        vertical-align: top;\n    }\n\n    .dataframe thead th {\n        text-align: right;\n    }\n</style>\n<table border=\"1\" class=\"dataframe\">\n  <thead>\n    <tr style=\"text-align: right;\">\n      <th></th>\n      <th>PassengerId</th>\n      <th>Survived</th>\n      <th>Pclass</th>\n      <th>Name</th>\n      <th>Sex</th>\n      <th>Age</th>\n      <th>SibSp</th>\n      <th>Parch</th>\n      <th>Ticket</th>\n      <th>Fare</th>\n      <th>Cabin</th>\n      <th>Embarked</th>\n    </tr>\n  </thead>\n  <tbody>\n    <tr>\n      <th>0</th>\n      <td>1</td>\n      <td>0</td>\n      <td>3</td>\n      <td>Braund, Mr. Owen Harris</td>\n      <td>male</td>\n      <td>22.0</td>\n      <td>1</td>\n      <td>0</td>\n      <td>A/5 21171</td>\n      <td>7.2500</td>\n      <td>NaN</td>\n      <td>S</td>\n    </tr>\n    <tr>\n      <th>1</th>\n      <td>2</td>\n      <td>1</td>\n      <td>1</td>\n      <td>Cumings, Mrs. John Bradley (Florence Briggs Th...</td>\n      <td>female</td>\n      <td>38.0</td>\n      <td>1</td>\n      <td>0</td>\n      <td>PC 17599</td>\n      <td>71.2833</td>\n      <td>C85</td>\n      <td>C</td>\n    </tr>\n    <tr>\n      <th>2</th>\n      <td>3</td>\n      <td>1</td>\n      <td>3</td>\n      <td>Heikkinen, Miss. Laina</td>\n      <td>female</td>\n      <td>26.0</td>\n      <td>0</td>\n      <td>0</td>\n      <td>STON/O2. 3101282</td>\n      <td>7.9250</td>\n      <td>NaN</td>\n      <td>S</td>\n    </tr>\n    <tr>\n      <th>3</th>\n      <td>4</td>\n      <td>1</td>\n      <td>1</td>\n      <td>Futrelle, Mrs. Jacques Heath (Lily May Peel)</td>\n      <td>female</td>\n      <td>35.0</td>\n      <td>1</td>\n      <td>0</td>\n      <td>113803</td>\n      <td>53.1000</td>\n      <td>C123</td>\n      <td>S</td>\n    </tr>\n    <tr>\n      <th>4</th>\n      <td>5</td>\n      <td>0</td>\n      <td>3</td>\n      <td>Allen, Mr. William Henry</td>\n      <td>male</td>\n      <td>35.0</td>\n      <td>0</td>\n      <td>0</td>\n      <td>373450</td>\n      <td>8.0500</td>\n      <td>NaN</td>\n      <td>S</td>\n    </tr>\n    <tr>\n      <th>5</th>\n      <td>6</td>\n      <td>0</td>\n      <td>3</td>\n      <td>Moran, Mr. James</td>\n      <td>male</td>\n      <td>NaN</td>\n      <td>0</td>\n      <td>0</td>\n      <td>330877</td>\n      <td>8.4583</td>\n      <td>NaN</td>\n      <td>Q</td>\n    </tr>\n    <tr>\n      <th>6</th>\n      <td>7</td>\n      <td>0</td>\n      <td>1</td>\n      <td>McCarthy, Mr. Timothy J</td>\n      <td>male</td>\n      <td>54.0</td>\n      <td>0</td>\n      <td>0</td>\n      <td>17463</td>\n      <td>51.8625</td>\n      <td>E46</td>\n      <td>S</td>\n    </tr>\n    <tr>\n      <th>7</th>\n      <td>8</td>\n      <td>0</td>\n      <td>3</td>\n      <td>Palsson, Master. Gosta Leonard</td>\n      <td>male</td>\n      <td>2.0</td>\n      <td>3</td>\n      <td>1</td>\n      <td>349909</td>\n      <td>21.0750</td>\n      <td>NaN</td>\n      <td>S</td>\n    </tr>\n    <tr>\n      <th>8</th>\n      <td>9</td>\n      <td>1</td>\n      <td>3</td>\n      <td>Johnson, Mrs. Oscar W (Elisabeth Vilhelmina Berg)</td>\n      <td>female</td>\n      <td>27.0</td>\n      <td>0</td>\n      <td>2</td>\n      <td>347742</td>\n      <td>11.1333</td>\n      <td>NaN</td>\n      <td>S</td>\n    </tr>\n    <tr>\n      <th>9</th>\n      <td>10</td>\n      <td>1</td>\n      <td>2</td>\n      <td>Nasser, Mrs. Nicholas (Adele Achem)</td>\n      <td>female</td>\n      <td>14.0</td>\n      <td>1</td>\n      <td>0</td>\n      <td>237736</td>\n      <td>30.0708</td>\n      <td>NaN</td>\n      <td>C</td>\n    </tr>\n    <tr>\n      <th>10</th>\n      <td>11</td>\n      <td>1</td>\n      <td>3</td>\n      <td>Sandstrom, Miss. Marguerite Rut</td>\n      <td>female</td>\n      <td>4.0</td>\n      <td>1</td>\n      <td>1</td>\n      <td>PP 9549</td>\n      <td>16.7000</td>\n      <td>G6</td>\n      <td>S</td>\n    </tr>\n    <tr>\n      <th>11</th>\n      <td>12</td>\n      <td>1</td>\n      <td>1</td>\n      <td>Bonnell, Miss. Elizabeth</td>\n      <td>female</td>\n      <td>58.0</td>\n      <td>0</td>\n      <td>0</td>\n      <td>113783</td>\n      <td>26.5500</td>\n      <td>C103</td>\n      <td>S</td>\n    </tr>\n    <tr>\n      <th>12</th>\n      <td>13</td>\n      <td>0</td>\n      <td>3</td>\n      <td>Saundercock, Mr. William Henry</td>\n      <td>male</td>\n      <td>20.0</td>\n      <td>0</td>\n      <td>0</td>\n      <td>A/5. 2151</td>\n      <td>8.0500</td>\n      <td>NaN</td>\n      <td>S</td>\n    </tr>\n    <tr>\n      <th>13</th>\n      <td>14</td>\n      <td>0</td>\n      <td>3</td>\n      <td>Andersson, Mr. Anders Johan</td>\n      <td>male</td>\n      <td>39.0</td>\n      <td>1</td>\n      <td>5</td>\n      <td>347082</td>\n      <td>31.2750</td>\n      <td>NaN</td>\n      <td>S</td>\n    </tr>\n    <tr>\n      <th>14</th>\n      <td>15</td>\n      <td>0</td>\n      <td>3</td>\n      <td>Vestrom, Miss. Hulda Amanda Adolfina</td>\n      <td>female</td>\n      <td>14.0</td>\n      <td>0</td>\n      <td>0</td>\n      <td>350406</td>\n      <td>7.8542</td>\n      <td>NaN</td>\n      <td>S</td>\n    </tr>\n  </tbody>\n</table>\n</div>"
     },
     "execution_count": 100,
     "metadata": {},
     "output_type": "execute_result"
    }
   ],
   "source": [
    "data = pd.read_csv( '../files/titanic_train.csv', delimiter = ',' )\n",
    "data.head(15)"
   ],
   "metadata": {
    "collapsed": false,
    "pycharm": {
     "name": "#%%\n"
    },
    "ExecuteTime": {
     "end_time": "2023-05-15T18:51:12.872679Z",
     "start_time": "2023-05-15T18:51:12.790640Z"
    }
   }
  },
  {
   "cell_type": "code",
   "execution_count": 102,
   "outputs": [
    {
     "name": "stdout",
     "output_type": "stream",
     "text": [
      "[[2 1 1 'Cumings, Mrs. John Bradley (Florence Briggs Thayer)' 'female'\n",
      "  38.0 1 0 'PC 17599' 71.2833 'C85' 'C']\n",
      " [3 1 3 'Heikkinen, Miss. Laina' 'female' 26.0 0 0 'STON/O2. 3101282'\n",
      "  7.925 nan 'S']\n",
      " [4 1 1 'Futrelle, Mrs. Jacques Heath (Lily May Peel)' 'female' 35.0 1 0\n",
      "  '113803' 53.1 'C123' 'S']\n",
      " [5 0 3 'Allen, Mr. William Henry' 'male' 35.0 0 0 '373450' 8.05 nan 'S']\n",
      " [6 0 3 'Moran, Mr. James' 'male' nan 0 0 '330877' 8.4583 nan 'Q']]\n"
     ]
    }
   ],
   "source": [
    "# выбрать нужные строки\n",
    "# например, со второй по пятую\n",
    "print(data.loc[ 1:5 ].values)"
   ],
   "metadata": {
    "collapsed": false,
    "pycharm": {
     "name": "#%%\n"
    },
    "ExecuteTime": {
     "end_time": "2023-05-15T18:51:36.247850Z",
     "start_time": "2023-05-15T18:51:36.198989Z"
    }
   }
  },
  {
   "cell_type": "code",
   "execution_count": 105,
   "outputs": [],
   "source": [
    "# выбор с набором значений\n",
    "# строки с номерами 1, 2, 3 и 44\n",
    "dataNew = data.iloc[ [1, 2, 5] ]"
   ],
   "metadata": {
    "collapsed": false,
    "pycharm": {
     "name": "#%%\n"
    },
    "ExecuteTime": {
     "end_time": "2023-05-15T18:52:48.401506Z",
     "start_time": "2023-05-15T18:52:48.357995Z"
    }
   }
  },
  {
   "cell_type": "code",
   "execution_count": 106,
   "outputs": [
    {
     "data": {
      "text/plain": "   PassengerId  Survived  Pclass   \n1            2         1       1  \\\n2            3         1       3   \n5            6         0       3   \n\n                                                Name     Sex   Age  SibSp   \n1  Cumings, Mrs. John Bradley (Florence Briggs Th...  female  38.0      1  \\\n2                             Heikkinen, Miss. Laina  female  26.0      0   \n5                                   Moran, Mr. James    male   NaN      0   \n\n   Parch            Ticket     Fare Cabin Embarked  \n1      0          PC 17599  71.2833   C85        C  \n2      0  STON/O2. 3101282   7.9250   NaN        S  \n5      0            330877   8.4583   NaN        Q  ",
      "text/html": "<div>\n<style scoped>\n    .dataframe tbody tr th:only-of-type {\n        vertical-align: middle;\n    }\n\n    .dataframe tbody tr th {\n        vertical-align: top;\n    }\n\n    .dataframe thead th {\n        text-align: right;\n    }\n</style>\n<table border=\"1\" class=\"dataframe\">\n  <thead>\n    <tr style=\"text-align: right;\">\n      <th></th>\n      <th>PassengerId</th>\n      <th>Survived</th>\n      <th>Pclass</th>\n      <th>Name</th>\n      <th>Sex</th>\n      <th>Age</th>\n      <th>SibSp</th>\n      <th>Parch</th>\n      <th>Ticket</th>\n      <th>Fare</th>\n      <th>Cabin</th>\n      <th>Embarked</th>\n    </tr>\n  </thead>\n  <tbody>\n    <tr>\n      <th>1</th>\n      <td>2</td>\n      <td>1</td>\n      <td>1</td>\n      <td>Cumings, Mrs. John Bradley (Florence Briggs Th...</td>\n      <td>female</td>\n      <td>38.0</td>\n      <td>1</td>\n      <td>0</td>\n      <td>PC 17599</td>\n      <td>71.2833</td>\n      <td>C85</td>\n      <td>C</td>\n    </tr>\n    <tr>\n      <th>2</th>\n      <td>3</td>\n      <td>1</td>\n      <td>3</td>\n      <td>Heikkinen, Miss. Laina</td>\n      <td>female</td>\n      <td>26.0</td>\n      <td>0</td>\n      <td>0</td>\n      <td>STON/O2. 3101282</td>\n      <td>7.9250</td>\n      <td>NaN</td>\n      <td>S</td>\n    </tr>\n    <tr>\n      <th>5</th>\n      <td>6</td>\n      <td>0</td>\n      <td>3</td>\n      <td>Moran, Mr. James</td>\n      <td>male</td>\n      <td>NaN</td>\n      <td>0</td>\n      <td>0</td>\n      <td>330877</td>\n      <td>8.4583</td>\n      <td>NaN</td>\n      <td>Q</td>\n    </tr>\n  </tbody>\n</table>\n</div>"
     },
     "execution_count": 106,
     "metadata": {},
     "output_type": "execute_result"
    }
   ],
   "source": [
    "dataNew"
   ],
   "metadata": {
    "collapsed": false,
    "ExecuteTime": {
     "end_time": "2023-05-15T18:52:49.517884Z",
     "start_time": "2023-05-15T18:52:49.479851Z"
    }
   }
  },
  {
   "cell_type": "code",
   "execution_count": 107,
   "outputs": [],
   "source": [
    "dataNew.reset_index(inplace=True)"
   ],
   "metadata": {
    "collapsed": false,
    "pycharm": {
     "name": "#%%\n"
    },
    "ExecuteTime": {
     "end_time": "2023-05-15T18:53:23.116750Z",
     "start_time": "2023-05-15T18:53:23.071746Z"
    }
   }
  },
  {
   "cell_type": "code",
   "execution_count": 108,
   "outputs": [
    {
     "data": {
      "text/plain": "   index  PassengerId  Survived  Pclass   \n0      1            2         1       1  \\\n1      2            3         1       3   \n2      5            6         0       3   \n\n                                                Name     Sex   Age  SibSp   \n0  Cumings, Mrs. John Bradley (Florence Briggs Th...  female  38.0      1  \\\n1                             Heikkinen, Miss. Laina  female  26.0      0   \n2                                   Moran, Mr. James    male   NaN      0   \n\n   Parch            Ticket     Fare Cabin Embarked  \n0      0          PC 17599  71.2833   C85        C  \n1      0  STON/O2. 3101282   7.9250   NaN        S  \n2      0            330877   8.4583   NaN        Q  ",
      "text/html": "<div>\n<style scoped>\n    .dataframe tbody tr th:only-of-type {\n        vertical-align: middle;\n    }\n\n    .dataframe tbody tr th {\n        vertical-align: top;\n    }\n\n    .dataframe thead th {\n        text-align: right;\n    }\n</style>\n<table border=\"1\" class=\"dataframe\">\n  <thead>\n    <tr style=\"text-align: right;\">\n      <th></th>\n      <th>index</th>\n      <th>PassengerId</th>\n      <th>Survived</th>\n      <th>Pclass</th>\n      <th>Name</th>\n      <th>Sex</th>\n      <th>Age</th>\n      <th>SibSp</th>\n      <th>Parch</th>\n      <th>Ticket</th>\n      <th>Fare</th>\n      <th>Cabin</th>\n      <th>Embarked</th>\n    </tr>\n  </thead>\n  <tbody>\n    <tr>\n      <th>0</th>\n      <td>1</td>\n      <td>2</td>\n      <td>1</td>\n      <td>1</td>\n      <td>Cumings, Mrs. John Bradley (Florence Briggs Th...</td>\n      <td>female</td>\n      <td>38.0</td>\n      <td>1</td>\n      <td>0</td>\n      <td>PC 17599</td>\n      <td>71.2833</td>\n      <td>C85</td>\n      <td>C</td>\n    </tr>\n    <tr>\n      <th>1</th>\n      <td>2</td>\n      <td>3</td>\n      <td>1</td>\n      <td>3</td>\n      <td>Heikkinen, Miss. Laina</td>\n      <td>female</td>\n      <td>26.0</td>\n      <td>0</td>\n      <td>0</td>\n      <td>STON/O2. 3101282</td>\n      <td>7.9250</td>\n      <td>NaN</td>\n      <td>S</td>\n    </tr>\n    <tr>\n      <th>2</th>\n      <td>5</td>\n      <td>6</td>\n      <td>0</td>\n      <td>3</td>\n      <td>Moran, Mr. James</td>\n      <td>male</td>\n      <td>NaN</td>\n      <td>0</td>\n      <td>0</td>\n      <td>330877</td>\n      <td>8.4583</td>\n      <td>NaN</td>\n      <td>Q</td>\n    </tr>\n  </tbody>\n</table>\n</div>"
     },
     "execution_count": 108,
     "metadata": {},
     "output_type": "execute_result"
    }
   ],
   "source": [
    "dataNew"
   ],
   "metadata": {
    "collapsed": false,
    "ExecuteTime": {
     "end_time": "2023-05-15T18:53:29.398136Z",
     "start_time": "2023-05-15T18:53:29.359878Z"
    }
   }
  },
  {
   "cell_type": "code",
   "execution_count": 109,
   "outputs": [],
   "source": [
    "# можно задать маску, по которой будут фильтроваться строки\n",
    "# например, ID пассажира делится на 2\n",
    "mask = ( data.PassengerId % 2 == 0)"
   ],
   "metadata": {
    "collapsed": false,
    "pycharm": {
     "name": "#%%\n"
    },
    "ExecuteTime": {
     "end_time": "2023-05-15T18:54:02.423014Z",
     "start_time": "2023-05-15T18:54:02.376563Z"
    }
   }
  },
  {
   "cell_type": "code",
   "execution_count": 110,
   "outputs": [
    {
     "data": {
      "text/plain": "0    False\n1     True\n2    False\n3     True\n4    False\nName: PassengerId, dtype: bool"
     },
     "execution_count": 110,
     "metadata": {},
     "output_type": "execute_result"
    }
   ],
   "source": [
    "mask[:5]"
   ],
   "metadata": {
    "collapsed": false,
    "pycharm": {
     "name": "#%%\n"
    },
    "ExecuteTime": {
     "end_time": "2023-05-15T18:54:06.577310Z",
     "start_time": "2023-05-15T18:54:06.526553Z"
    }
   }
  },
  {
   "cell_type": "code",
   "execution_count": 111,
   "outputs": [
    {
     "data": {
      "text/plain": "   PassengerId  Survived  Pclass   \n1            2         1       1  \\\n3            4         1       1   \n5            6         0       3   \n7            8         0       3   \n9           10         1       2   \n\n                                                Name     Sex   Age  SibSp   \n1  Cumings, Mrs. John Bradley (Florence Briggs Th...  female  38.0      1  \\\n3       Futrelle, Mrs. Jacques Heath (Lily May Peel)  female  35.0      1   \n5                                   Moran, Mr. James    male   NaN      0   \n7                     Palsson, Master. Gosta Leonard    male   2.0      3   \n9                Nasser, Mrs. Nicholas (Adele Achem)  female  14.0      1   \n\n   Parch    Ticket     Fare Cabin Embarked  \n1      0  PC 17599  71.2833   C85        C  \n3      0    113803  53.1000  C123        S  \n5      0    330877   8.4583   NaN        Q  \n7      1    349909  21.0750   NaN        S  \n9      0    237736  30.0708   NaN        C  ",
      "text/html": "<div>\n<style scoped>\n    .dataframe tbody tr th:only-of-type {\n        vertical-align: middle;\n    }\n\n    .dataframe tbody tr th {\n        vertical-align: top;\n    }\n\n    .dataframe thead th {\n        text-align: right;\n    }\n</style>\n<table border=\"1\" class=\"dataframe\">\n  <thead>\n    <tr style=\"text-align: right;\">\n      <th></th>\n      <th>PassengerId</th>\n      <th>Survived</th>\n      <th>Pclass</th>\n      <th>Name</th>\n      <th>Sex</th>\n      <th>Age</th>\n      <th>SibSp</th>\n      <th>Parch</th>\n      <th>Ticket</th>\n      <th>Fare</th>\n      <th>Cabin</th>\n      <th>Embarked</th>\n    </tr>\n  </thead>\n  <tbody>\n    <tr>\n      <th>1</th>\n      <td>2</td>\n      <td>1</td>\n      <td>1</td>\n      <td>Cumings, Mrs. John Bradley (Florence Briggs Th...</td>\n      <td>female</td>\n      <td>38.0</td>\n      <td>1</td>\n      <td>0</td>\n      <td>PC 17599</td>\n      <td>71.2833</td>\n      <td>C85</td>\n      <td>C</td>\n    </tr>\n    <tr>\n      <th>3</th>\n      <td>4</td>\n      <td>1</td>\n      <td>1</td>\n      <td>Futrelle, Mrs. Jacques Heath (Lily May Peel)</td>\n      <td>female</td>\n      <td>35.0</td>\n      <td>1</td>\n      <td>0</td>\n      <td>113803</td>\n      <td>53.1000</td>\n      <td>C123</td>\n      <td>S</td>\n    </tr>\n    <tr>\n      <th>5</th>\n      <td>6</td>\n      <td>0</td>\n      <td>3</td>\n      <td>Moran, Mr. James</td>\n      <td>male</td>\n      <td>NaN</td>\n      <td>0</td>\n      <td>0</td>\n      <td>330877</td>\n      <td>8.4583</td>\n      <td>NaN</td>\n      <td>Q</td>\n    </tr>\n    <tr>\n      <th>7</th>\n      <td>8</td>\n      <td>0</td>\n      <td>3</td>\n      <td>Palsson, Master. Gosta Leonard</td>\n      <td>male</td>\n      <td>2.0</td>\n      <td>3</td>\n      <td>1</td>\n      <td>349909</td>\n      <td>21.0750</td>\n      <td>NaN</td>\n      <td>S</td>\n    </tr>\n    <tr>\n      <th>9</th>\n      <td>10</td>\n      <td>1</td>\n      <td>2</td>\n      <td>Nasser, Mrs. Nicholas (Adele Achem)</td>\n      <td>female</td>\n      <td>14.0</td>\n      <td>1</td>\n      <td>0</td>\n      <td>237736</td>\n      <td>30.0708</td>\n      <td>NaN</td>\n      <td>C</td>\n    </tr>\n  </tbody>\n</table>\n</div>"
     },
     "execution_count": 111,
     "metadata": {},
     "output_type": "execute_result"
    }
   ],
   "source": [
    "data.loc[ mask ].head()"
   ],
   "metadata": {
    "collapsed": false,
    "pycharm": {
     "name": "#%%\n"
    },
    "ExecuteTime": {
     "end_time": "2023-05-15T18:54:45.060469Z",
     "start_time": "2023-05-15T18:54:44.973995Z"
    }
   }
  },
  {
   "cell_type": "markdown",
   "source": [
    "# Работа с пустыми значениями"
   ],
   "metadata": {
    "collapsed": false,
    "pycharm": {
     "name": "#%% md\n"
    }
   }
  },
  {
   "cell_type": "code",
   "execution_count": null,
   "outputs": [],
   "source": [
    "data = pd.read_csv( './files/titanic_train.csv', delimiter = ',' )\n",
    "data.head(15)"
   ],
   "metadata": {
    "collapsed": false,
    "pycharm": {
     "name": "#%%\n"
    }
   }
  },
  {
   "cell_type": "code",
   "execution_count": null,
   "outputs": [],
   "source": [
    "# В столбце Age довольно много пустых значений\n",
    "data.info()"
   ],
   "metadata": {
    "collapsed": false,
    "pycharm": {
     "name": "#%%\n"
    }
   }
  },
  {
   "cell_type": "code",
   "execution_count": null,
   "outputs": [],
   "source": [
    "# посмотрим что это за строки\n",
    "data.loc[pd.isnull( data['Age'])].head()"
   ],
   "metadata": {
    "collapsed": false,
    "pycharm": {
     "name": "#%%\n"
    }
   }
  },
  {
   "cell_type": "code",
   "execution_count": null,
   "outputs": [],
   "source": [
    "# заменим пустые значения столбца Age на медиану\n",
    "medianAge = data['Age'].median()\n",
    "medianAge"
   ],
   "metadata": {
    "collapsed": false,
    "pycharm": {
     "name": "#%%\n"
    }
   }
  },
  {
   "cell_type": "code",
   "execution_count": null,
   "outputs": [],
   "source": [
    "# https://pandas.pydata.org/pandas-docs/stable/generated/pandas.DataFrame.fillna.html\n",
    "data['Age'].fillna( medianAge, inplace = True )"
   ],
   "metadata": {
    "collapsed": false,
    "pycharm": {
     "name": "#%%\n"
    }
   }
  },
  {
   "cell_type": "code",
   "execution_count": null,
   "outputs": [],
   "source": [
    "# итак, значение для строки с индексом 5 (было NaN) заменено на среднее\n",
    "data.head(10)"
   ],
   "metadata": {
    "collapsed": false,
    "pycharm": {
     "name": "#%%\n"
    }
   }
  },
  {
   "cell_type": "code",
   "execution_count": null,
   "outputs": [],
   "source": [],
   "metadata": {
    "collapsed": false,
    "pycharm": {
     "name": "#%%\n"
    }
   }
  },
  {
   "cell_type": "markdown",
   "source": [
    "# Сортировка DataFrame"
   ],
   "metadata": {
    "collapsed": false,
    "pycharm": {
     "name": "#%% md\n"
    }
   }
  },
  {
   "cell_type": "code",
   "execution_count": null,
   "outputs": [],
   "source": [
    "# сортировка по индексу\n",
    "data.sort_index( ascending = False ).head()"
   ],
   "metadata": {
    "collapsed": false,
    "pycharm": {
     "name": "#%%\n"
    }
   }
  },
  {
   "cell_type": "code",
   "execution_count": null,
   "outputs": [],
   "source": [
    "# сортировка по значениям\n",
    "data.sort_values( by = 'Age', ascending = False ).head()"
   ],
   "metadata": {
    "collapsed": false,
    "pycharm": {
     "name": "#%%\n"
    }
   }
  },
  {
   "cell_type": "code",
   "execution_count": null,
   "outputs": [],
   "source": [
    "# сортировка по значениям нескольких столбцов\n",
    "data.sort_values( by = ['Sex', 'Age'], ascending = [True, False] ).head()"
   ],
   "metadata": {
    "collapsed": false,
    "pycharm": {
     "name": "#%%\n"
    }
   }
  },
  {
   "cell_type": "markdown",
   "source": [
    "# Аггрегация и группировка"
   ],
   "metadata": {
    "collapsed": false,
    "pycharm": {
     "name": "#%% md\n"
    }
   }
  },
  {
   "cell_type": "code",
   "execution_count": null,
   "outputs": [],
   "source": [
    "data = pd.read_csv( './files/titanic_train.csv', delimiter = ',' )\n",
    "data.head(15)"
   ],
   "metadata": {
    "collapsed": false,
    "pycharm": {
     "name": "#%%\n"
    }
   }
  },
  {
   "cell_type": "code",
   "execution_count": null,
   "outputs": [],
   "source": [
    "# число непустых строк в DataFrame\n",
    "# https://pandas.pydata.org/pandas-docs/stable/generated/pandas.DataFrame.count.html\n",
    "data.count()"
   ],
   "metadata": {
    "collapsed": false,
    "pycharm": {
     "name": "#%%\n"
    }
   }
  },
  {
   "cell_type": "code",
   "execution_count": null,
   "outputs": [],
   "source": [
    "# для отдельного столбца\n",
    "data['Age'].count()"
   ],
   "metadata": {
    "collapsed": false,
    "pycharm": {
     "name": "#%%\n"
    }
   }
  },
  {
   "cell_type": "code",
   "execution_count": null,
   "outputs": [],
   "source": [
    "# сумма\n",
    "data.sum()"
   ],
   "metadata": {
    "collapsed": false,
    "pycharm": {
     "name": "#%%\n"
    }
   }
  },
  {
   "cell_type": "code",
   "execution_count": null,
   "outputs": [],
   "source": [
    "# комбинация функций\n",
    "# https://pandas.pydata.org/pandas-docs/stable/generated/pandas.DataFrame.aggregate.html\n",
    "data.aggregate( ['sum', 'mean'] )"
   ],
   "metadata": {
    "collapsed": false,
    "pycharm": {
     "name": "#%%\n"
    }
   }
  },
  {
   "cell_type": "code",
   "execution_count": null,
   "outputs": [],
   "source": [
    "# агрегация по столбцам (agg - синоним aggregate)\n",
    "data.agg( { 'Age': ['mean'], 'Survived': ['mean', 'sum'] } )"
   ],
   "metadata": {
    "collapsed": false,
    "pycharm": {
     "name": "#%%\n"
    }
   }
  },
  {
   "cell_type": "code",
   "execution_count": null,
   "outputs": [],
   "source": [
    "# группировка по столбцу с вычислением среднего\n",
    "data.groupby( 'Sex' ).mean()"
   ],
   "metadata": {
    "collapsed": false,
    "pycharm": {
     "name": "#%%\n"
    }
   }
  },
  {
   "cell_type": "code",
   "execution_count": null,
   "outputs": [],
   "source": [
    "# группировка по нескольким столбцам одновременно\n",
    "data.groupby( ['Sex', 'Age'] ).mean()"
   ],
   "metadata": {
    "collapsed": false,
    "pycharm": {
     "name": "#%%\n"
    }
   }
  },
  {
   "cell_type": "markdown",
   "source": [
    "# Объединение DataFrame"
   ],
   "metadata": {
    "collapsed": false,
    "pycharm": {
     "name": "#%% md\n"
    }
   }
  },
  {
   "cell_type": "code",
   "execution_count": null,
   "outputs": [],
   "source": [
    "# Merge - аналог JOIN в SQL\n",
    "# заведем два DataFrame\n",
    "df1 = pd.DataFrame( {\n",
    "    'key1': ['one', 'two', 'three', 'only1'],\n",
    "    'value': [1, 2, 3, 4]\n",
    "} )"
   ],
   "metadata": {
    "collapsed": false,
    "pycharm": {
     "name": "#%%\n"
    }
   }
  },
  {
   "cell_type": "code",
   "execution_count": null,
   "outputs": [],
   "source": [
    "df1"
   ],
   "metadata": {
    "collapsed": false,
    "pycharm": {
     "name": "#%%\n"
    }
   }
  },
  {
   "cell_type": "code",
   "execution_count": null,
   "outputs": [],
   "source": [
    "df2 = pd.DataFrame( {\n",
    "    'key2': ['one', 'two', 'three', 'only2'],\n",
    "    'value': [11, 12, 13, 14]\n",
    "} )"
   ],
   "metadata": {
    "collapsed": false,
    "pycharm": {
     "name": "#%%\n"
    }
   }
  },
  {
   "cell_type": "code",
   "execution_count": null,
   "outputs": [],
   "source": [
    "df2"
   ],
   "metadata": {
    "collapsed": false,
    "pycharm": {
     "name": "#%%\n"
    }
   }
  },
  {
   "cell_type": "code",
   "execution_count": null,
   "outputs": [],
   "source": [
    "# сохраняем все значения ключей, которые есть в df1\n",
    "# если нужно несколько столбцов, то пишем left_on = ['key1', ...] и right_on = ['key2', ...]\n",
    "df1.merge( df2, how = 'left', left_on = 'key1', right_on = 'key2' )"
   ],
   "metadata": {
    "collapsed": false,
    "pycharm": {
     "name": "#%%\n"
    }
   }
  },
  {
   "cell_type": "code",
   "execution_count": null,
   "outputs": [],
   "source": [
    "# сохраняем все значения ключей, которые есть в df2\n",
    "df1.merge( df2, how = 'right', left_on = 'key1', right_on = 'key2' )"
   ],
   "metadata": {
    "collapsed": false,
    "pycharm": {
     "name": "#%%\n"
    }
   }
  },
  {
   "cell_type": "code",
   "execution_count": null,
   "outputs": [],
   "source": [
    "# сохраняем все значения ключей (объединение)\n",
    "df1.merge( df2, how = 'outer', left_on = 'key1', right_on = 'key2' )"
   ],
   "metadata": {
    "collapsed": false,
    "pycharm": {
     "name": "#%%\n"
    }
   }
  },
  {
   "cell_type": "code",
   "execution_count": null,
   "outputs": [],
   "source": [
    "# сохраняем только общие значения ключей\n",
    "df1.merge( df2, how = 'inner', left_on = 'key1', right_on = 'key2' )"
   ],
   "metadata": {
    "collapsed": false,
    "pycharm": {
     "name": "#%%\n"
    }
   }
  },
  {
   "cell_type": "markdown",
   "source": [
    "# Concat - совмещение DataFrame"
   ],
   "metadata": {
    "collapsed": false,
    "pycharm": {
     "name": "#%% md\n"
    }
   }
  },
  {
   "cell_type": "code",
   "execution_count": null,
   "outputs": [],
   "source": [
    "# объединение DataFrame путем обычного \"склеивания\"\n",
    "pd.concat( [df1, df2] )"
   ],
   "metadata": {
    "collapsed": false,
    "pycharm": {
     "name": "#%%\n"
    }
   }
  },
  {
   "cell_type": "code",
   "execution_count": null,
   "outputs": [],
   "source": [
    "# горизонтальное объединение\n",
    "pd.concat( [df1, df2], axis = 1 )"
   ],
   "metadata": {
    "collapsed": false,
    "pycharm": {
     "name": "#%%\n"
    }
   }
  },
  {
   "cell_type": "code",
   "execution_count": null,
   "outputs": [],
   "source": [
    "# Join - объединение по индексу\n",
    "df1 = pd.DataFrame( {\n",
    "    'key1': ['one', 'two', 'three', 'only1'],\n",
    "    'value': [1, 2, 3, 4]\n",
    "    },\n",
    "    index = ['0', '1', '2', '3'])"
   ],
   "metadata": {
    "collapsed": false,
    "pycharm": {
     "name": "#%%\n"
    }
   }
  },
  {
   "cell_type": "code",
   "execution_count": null,
   "outputs": [],
   "source": [
    "df1"
   ],
   "metadata": {
    "collapsed": false,
    "pycharm": {
     "name": "#%%\n"
    }
   }
  },
  {
   "cell_type": "code",
   "execution_count": null,
   "outputs": [],
   "source": [
    "df2 = pd.DataFrame( {\n",
    "    'key2': ['one', 'two', 'three', 'only2'],\n",
    "    'value': [11, 12, 13, 14]\n",
    "    },\n",
    "    index = ['2', '3', '4', '5'])"
   ],
   "metadata": {
    "collapsed": false,
    "pycharm": {
     "name": "#%%\n"
    }
   }
  },
  {
   "cell_type": "code",
   "execution_count": null,
   "outputs": [],
   "source": [
    "df2"
   ],
   "metadata": {
    "collapsed": false,
    "pycharm": {
     "name": "#%%\n"
    }
   }
  },
  {
   "cell_type": "code",
   "execution_count": null,
   "outputs": [],
   "source": [
    "# для join надо указать lsuffix и rsuffix\n",
    "\n",
    "df1.join( df2, how = 'left', lsuffix = '_df1', rsuffix = '_df2' )"
   ],
   "metadata": {
    "collapsed": false,
    "pycharm": {
     "name": "#%%\n"
    }
   }
  },
  {
   "cell_type": "code",
   "execution_count": null,
   "outputs": [],
   "source": [],
   "metadata": {
    "collapsed": false,
    "pycharm": {
     "name": "#%%\n"
    }
   }
  }
 ],
 "metadata": {
  "kernelspec": {
   "display_name": "Python 3",
   "language": "python",
   "name": "python3"
  },
  "language_info": {
   "codemirror_mode": {
    "name": "ipython",
    "version": 2
   },
   "file_extension": ".py",
   "mimetype": "text/x-python",
   "name": "python",
   "nbconvert_exporter": "python",
   "pygments_lexer": "ipython2",
   "version": "2.7.6"
  }
 },
 "nbformat": 4,
 "nbformat_minor": 0
}
