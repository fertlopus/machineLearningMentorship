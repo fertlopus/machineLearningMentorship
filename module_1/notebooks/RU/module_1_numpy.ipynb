{
 "cells": [
  {
   "cell_type": "markdown",
   "source": [
    "# NumPy\n",
    "Расммотрим как работать с библиотекой для вычислений NumPy.\n",
    "Пройдемся по основным объектам, их методам.\n",
    "\n",
    "У кого не установлен NumPy его необходимо установить:\n",
    "\n",
    "<code>\n",
    "$ pip install numpy\n",
    "</code>"
   ],
   "metadata": {
    "collapsed": false,
    "pycharm": {
     "name": "#%% md\n"
    }
   }
  },
  {
   "cell_type": "code",
   "execution_count": null,
   "outputs": [],
   "source": [
    "!pip install numpy"
   ],
   "metadata": {
    "collapsed": false,
    "pycharm": {
     "name": "#%%\n"
    }
   }
  },
  {
   "cell_type": "code",
   "execution_count": 70,
   "outputs": [],
   "source": [
    "import numpy as np"
   ],
   "metadata": {
    "collapsed": false,
    "pycharm": {
     "name": "#%%\n"
    },
    "ExecuteTime": {
     "end_time": "2023-05-15T16:38:21.928670Z",
     "start_time": "2023-05-15T16:38:21.868770Z"
    }
   }
  },
  {
   "cell_type": "markdown",
   "source": [
    "# Основы"
   ],
   "metadata": {
    "collapsed": false,
    "pycharm": {
     "name": "#%% md\n"
    }
   }
  },
  {
   "cell_type": "markdown",
   "source": [
    "Скаляр (Тензор / Матрица ранга 0):"
   ],
   "metadata": {
    "collapsed": false
   }
  },
  {
   "cell_type": "code",
   "execution_count": 71,
   "outputs": [
    {
     "data": {
      "text/plain": "25"
     },
     "execution_count": 71,
     "metadata": {},
     "output_type": "execute_result"
    }
   ],
   "source": [
    "scalar = 25\n",
    "scalar"
   ],
   "metadata": {
    "collapsed": false,
    "ExecuteTime": {
     "end_time": "2023-05-15T16:40:45.431337Z",
     "start_time": "2023-05-15T16:40:45.403975Z"
    }
   }
  },
  {
   "cell_type": "code",
   "execution_count": 72,
   "outputs": [
    {
     "data": {
      "text/plain": "int"
     },
     "execution_count": 72,
     "metadata": {},
     "output_type": "execute_result"
    }
   ],
   "source": [
    "# Если нам необходим иной тип целочисленного значения (например int8, int16, uint8 ...) то нам необходимо уже использовать библиотеку NumPy\n",
    "type(scalar)"
   ],
   "metadata": {
    "collapsed": false,
    "ExecuteTime": {
     "end_time": "2023-05-15T16:40:59.437079Z",
     "start_time": "2023-05-15T16:40:59.398238Z"
    }
   }
  },
  {
   "cell_type": "code",
   "execution_count": 73,
   "outputs": [
    {
     "data": {
      "text/plain": "25"
     },
     "execution_count": 73,
     "metadata": {},
     "output_type": "execute_result"
    }
   ],
   "source": [
    "scalar = np.int64(25)\n",
    "scalar"
   ],
   "metadata": {
    "collapsed": false,
    "ExecuteTime": {
     "end_time": "2023-05-15T16:42:45.711905Z",
     "start_time": "2023-05-15T16:42:45.679471Z"
    }
   }
  },
  {
   "cell_type": "code",
   "execution_count": 74,
   "outputs": [
    {
     "data": {
      "text/plain": "numpy.int64"
     },
     "execution_count": 74,
     "metadata": {},
     "output_type": "execute_result"
    }
   ],
   "source": [
    "type(scalar)"
   ],
   "metadata": {
    "collapsed": false,
    "ExecuteTime": {
     "end_time": "2023-05-15T16:42:47.087448Z",
     "start_time": "2023-05-15T16:42:47.040153Z"
    }
   }
  },
  {
   "cell_type": "markdown",
   "source": [
    "### Вектор (Rank 1 Tensor)"
   ],
   "metadata": {
    "collapsed": false
   }
  },
  {
   "cell_type": "code",
   "execution_count": 75,
   "outputs": [
    {
     "name": "stdout",
     "output_type": "stream",
     "text": [
      "[1 2 3]\n",
      "<class 'numpy.ndarray'>\n"
     ]
    }
   ],
   "source": [
    "# 1-dimensional array\n",
    "a = np.array([1, 2, 3])\n",
    "print(a)\n",
    "print(type(a))"
   ],
   "metadata": {
    "collapsed": false,
    "pycharm": {
     "name": "#%%\n"
    },
    "ExecuteTime": {
     "end_time": "2023-05-15T16:43:31.499661Z",
     "start_time": "2023-05-15T16:43:31.471704Z"
    }
   }
  },
  {
   "cell_type": "code",
   "execution_count": 76,
   "outputs": [
    {
     "name": "stdout",
     "output_type": "stream",
     "text": [
      "<class 'numpy.ndarray'>\n",
      "1\n",
      "<class 'numpy.int64'>\n"
     ]
    }
   ],
   "source": [
    "# индексация по вектору\n",
    "print(type(a))\n",
    "print(a[0])\n",
    "print(type(a[0]))"
   ],
   "metadata": {
    "collapsed": false,
    "ExecuteTime": {
     "end_time": "2023-05-15T16:44:45.432407Z",
     "start_time": "2023-05-15T16:44:45.383883Z"
    }
   }
  },
  {
   "cell_type": "markdown",
   "source": [
    "### Матрица"
   ],
   "metadata": {
    "collapsed": false
   }
  },
  {
   "cell_type": "code",
   "execution_count": 77,
   "outputs": [
    {
     "name": "stdout",
     "output_type": "stream",
     "text": [
      "[[  1.     0.99   0.09   0.03]\n",
      " [ 12.     0.99   0.52  13.  ]\n",
      " [ 22.   -12.5    0.    22.  ]]\n",
      "<class 'numpy.ndarray'>\n"
     ]
    }
   ],
   "source": [
    "# 2-dimensional array\n",
    "b = np.array([[1, 0.99, 0.09, 0.03],\n",
    "              [12, 0.99, 0.52, 13],\n",
    "              [22, -12.5, 0, 22]])\n",
    "\n",
    "print(b)\n",
    "print(type(b))"
   ],
   "metadata": {
    "collapsed": false,
    "pycharm": {
     "name": "#%%\n"
    },
    "ExecuteTime": {
     "end_time": "2023-05-15T16:45:24.324058Z",
     "start_time": "2023-05-15T16:45:24.276104Z"
    }
   }
  },
  {
   "cell_type": "markdown",
   "source": [
    "### Тензор"
   ],
   "metadata": {
    "collapsed": false
   }
  },
  {
   "cell_type": "code",
   "execution_count": 78,
   "outputs": [
    {
     "name": "stdout",
     "output_type": "stream",
     "text": [
      "[[[  1.     0.99   0.09   0.03]\n",
      "  [ 12.     0.99   0.52  13.  ]\n",
      "  [ 22.   -12.5    0.    22.  ]]\n",
      "\n",
      " [[  0.     1.2    1.9    2.03]\n",
      "  [ 12.     1.99   1.52  13.  ]\n",
      "  [  2.   -12.5    0.     1.  ]]\n",
      "\n",
      " [[  1.     0.99   0.09   0.03]\n",
      "  [ 12.     0.99   0.52  13.  ]\n",
      "  [ 22.   -12.5    0.    22.  ]]]\n",
      "<class 'numpy.ndarray'>\n"
     ]
    }
   ],
   "source": [
    "# 3-dimensional array\n",
    "c = np.array([[[1, 0.99, 0.09, 0.03],\n",
    "              [12, 0.99, 0.52, 13],\n",
    "              [22, -12.5, 0, 22]],\n",
    "\n",
    "             [[0, 1.2, 1.9, 2.03],\n",
    "              [12, 1.99, 1.52, 13],\n",
    "              [2, -12.5, 0, 1]],\n",
    "\n",
    "             [[1, 0.99, 0.09, 0.03],\n",
    "              [12, 0.99, 0.52, 13],\n",
    "              [22, -12.5, 0, 22]]])\n",
    "\n",
    "print(c)\n",
    "print(type(c))"
   ],
   "metadata": {
    "collapsed": false,
    "pycharm": {
     "name": "#%%\n"
    },
    "ExecuteTime": {
     "end_time": "2023-05-15T16:47:02.995911Z",
     "start_time": "2023-05-15T16:47:02.967606Z"
    }
   }
  },
  {
   "cell_type": "code",
   "execution_count": 79,
   "outputs": [
    {
     "name": "stdout",
     "output_type": "stream",
     "text": [
      "Dimensions\n",
      "a: 1\n",
      "b: 2\n",
      "c: 3\n"
     ]
    }
   ],
   "source": [
    "# Получение размерности для объекта\n",
    "print(\"Dimensions\")\n",
    "print(\"a: {}\\nb: {}\\nc: {}\".format(a.ndim, b.ndim, c.ndim))"
   ],
   "metadata": {
    "collapsed": false,
    "pycharm": {
     "name": "#%%\n"
    },
    "ExecuteTime": {
     "end_time": "2023-05-15T16:47:57.254295Z",
     "start_time": "2023-05-15T16:47:57.224419Z"
    }
   }
  },
  {
   "cell_type": "code",
   "execution_count": 80,
   "outputs": [
    {
     "name": "stdout",
     "output_type": "stream",
     "text": [
      "Shapes\n",
      "a: (3,)\n",
      "b: (3, 4)\n",
      "c: (3, 3, 4)\n"
     ]
    }
   ],
   "source": [
    "# Получение формы (\"размерности\") объекта\n",
    "print(\"Shapes\")\n",
    "print(\"a: {}\\nb: {}\\nc: {}\".format(a.shape, b.shape, c.shape))"
   ],
   "metadata": {
    "collapsed": false,
    "pycharm": {
     "name": "#%%\n"
    },
    "ExecuteTime": {
     "end_time": "2023-05-15T16:48:40.229700Z",
     "start_time": "2023-05-15T16:48:40.199362Z"
    }
   }
  },
  {
   "cell_type": "code",
   "execution_count": 81,
   "outputs": [
    {
     "name": "stdout",
     "output_type": "stream",
     "text": [
      "Data Type of a     :  int64\n",
      "Item Size in bytes :  8\n",
      "Size in bytes      :  3\n",
      "Total Size         :  24\n"
     ]
    }
   ],
   "source": [
    "# Тип данных в numpy array и занимаемая память\n",
    "print(\"Data Type of a     : \",  a.dtype)\n",
    "print(\"Item Size in bytes : \",  a.itemsize)\n",
    "print(\"Size in bytes      : \",  a.size)\n",
    "print(\"Total Size         : \",  a.nbytes)"
   ],
   "metadata": {
    "collapsed": false,
    "pycharm": {
     "name": "#%%\n"
    },
    "ExecuteTime": {
     "end_time": "2023-05-15T16:49:55.423684Z",
     "start_time": "2023-05-15T16:49:55.393111Z"
    }
   }
  },
  {
   "cell_type": "code",
   "execution_count": 82,
   "outputs": [
    {
     "name": "stdout",
     "output_type": "stream",
     "text": [
      "[1 2 3]\n",
      "<class 'numpy.ndarray'>\n",
      "<class 'numpy.int8'>\n"
     ]
    }
   ],
   "source": [
    "# во время создания объекта мы можем указать какой тип целочисленных данных нам необходим\n",
    "a = np.array([1, 2, 3], dtype='int8')\n",
    "print(a)\n",
    "print(type(a))\n",
    "print(type(a[0]))"
   ],
   "metadata": {
    "collapsed": false,
    "pycharm": {
     "name": "#%%\n"
    },
    "ExecuteTime": {
     "end_time": "2023-05-15T16:51:28.693696Z",
     "start_time": "2023-05-15T16:51:28.662146Z"
    }
   }
  },
  {
   "cell_type": "code",
   "execution_count": 83,
   "outputs": [
    {
     "name": "stdout",
     "output_type": "stream",
     "text": [
      "Data Type of a     :  int8\n",
      "Item Size in bytes :  1\n",
      "Size in bytes      :  3\n",
      "Total Size         :  3\n"
     ]
    }
   ],
   "source": [
    "print(\"Data Type of a     : \", a.dtype)\n",
    "print(\"Item Size in bytes : \",  a.itemsize)\n",
    "print(\"Size in bytes      : \",  a.size)\n",
    "print(\"Total Size         : \",  a.nbytes)"
   ],
   "metadata": {
    "collapsed": false,
    "pycharm": {
     "name": "#%%\n"
    },
    "ExecuteTime": {
     "end_time": "2023-05-15T16:51:46.085772Z",
     "start_time": "2023-05-15T16:51:46.033797Z"
    }
   }
  },
  {
   "cell_type": "markdown",
   "source": [
    "# Доступ, Индексация и Изменение определенных элементов массива"
   ],
   "metadata": {
    "collapsed": false,
    "pycharm": {
     "name": "#%% md\n"
    }
   }
  },
  {
   "cell_type": "code",
   "execution_count": 84,
   "outputs": [
    {
     "name": "stdout",
     "output_type": "stream",
     "text": [
      "2\n",
      "(3, 7)\n"
     ]
    }
   ],
   "source": [
    "a = np.array([[1, 3, 5, 9, 10, 12, 15],\n",
    "             [1, 2, 6, 10, 14, 18, 22],\n",
    "             [1, 4, 8, 12, 16, 20, 24]])\n",
    "\n",
    "print(a.ndim)\n",
    "print(a.shape)"
   ],
   "metadata": {
    "collapsed": false,
    "pycharm": {
     "name": "#%%\n"
    },
    "ExecuteTime": {
     "end_time": "2023-05-15T16:52:39.793495Z",
     "start_time": "2023-05-15T16:52:39.744850Z"
    }
   }
  },
  {
   "cell_type": "code",
   "execution_count": 85,
   "outputs": [
    {
     "name": "stdout",
     "output_type": "stream",
     "text": [
      "[[6]\n",
      " [8]]\n"
     ]
    }
   ],
   "source": [
    "# Как и любой другой объект последовательности, массивы NumPy поддерживают индексацию и срезы\n",
    "print(a[1:3, 2:3]) # 1) 2-ая строка и 2-й и 3-й элементы 2) 3-я строка и 2-ой и 3-й элементы"
   ],
   "metadata": {
    "collapsed": false,
    "pycharm": {
     "name": "#%%\n"
    },
    "ExecuteTime": {
     "end_time": "2023-05-15T16:54:15.771433Z",
     "start_time": "2023-05-15T16:54:15.741433Z"
    }
   }
  },
  {
   "cell_type": "code",
   "execution_count": 86,
   "outputs": [
    {
     "name": "stdout",
     "output_type": "stream",
     "text": [
      "\n",
      "матрица: \n",
      "[[ 1  3  5  9 10 12 15]\n",
      " [ 1  2  6 10 14 18 22]\n",
      " [ 1  4  8 12 16 20 24]]\n",
      "\n",
      "a11 = 1\n",
      "a22 = 2\n",
      "a33 = 8\n",
      "\n"
     ]
    }
   ],
   "source": [
    "# Получение конкретного элемента [строка, столбец]\n",
    "print(\"\"\"\n",
    "матрица: \\n{}\\n\n",
    "a11 = {}\n",
    "a22 = {}\n",
    "a33 = {}\n",
    "\"\"\".format(a, a[0, 0], a[1, 1], a[2, 2]))"
   ],
   "metadata": {
    "collapsed": false,
    "pycharm": {
     "name": "#%%\n"
    },
    "ExecuteTime": {
     "end_time": "2023-05-15T16:55:56.526043Z",
     "start_time": "2023-05-15T16:55:56.496073Z"
    }
   }
  },
  {
   "cell_type": "code",
   "execution_count": 87,
   "outputs": [
    {
     "name": "stdout",
     "output_type": "stream",
     "text": [
      "[ 1  3  5  9 10 12 15]\n"
     ]
    }
   ],
   "source": [
    "# Получение конкретной строки массива [строка, элементы строки]\n",
    "print(a[0, :])"
   ],
   "metadata": {
    "collapsed": false,
    "pycharm": {
     "name": "#%%\n"
    },
    "ExecuteTime": {
     "end_time": "2023-05-15T16:56:40.013688Z",
     "start_time": "2023-05-15T16:56:39.984986Z"
    }
   }
  },
  {
   "cell_type": "code",
   "execution_count": 88,
   "outputs": [
    {
     "name": "stdout",
     "output_type": "stream",
     "text": [
      "[3 2 4]\n"
     ]
    }
   ],
   "source": [
    "# Получение конкретного столбца массива\n",
    "print(a[:, 1])"
   ],
   "metadata": {
    "collapsed": false,
    "pycharm": {
     "name": "#%%\n"
    },
    "ExecuteTime": {
     "end_time": "2023-05-15T16:56:59.840565Z",
     "start_time": "2023-05-15T16:56:59.811868Z"
    }
   }
  },
  {
   "cell_type": "code",
   "execution_count": 89,
   "outputs": [
    {
     "name": "stdout",
     "output_type": "stream",
     "text": [
      "[ 3 10]\n"
     ]
    }
   ],
   "source": [
    "# [start:end:step] нарезка с шагом\n",
    "print(a[0, 1:5:3])"
   ],
   "metadata": {
    "collapsed": false,
    "pycharm": {
     "name": "#%%\n"
    },
    "ExecuteTime": {
     "end_time": "2023-05-15T16:57:58.086909Z",
     "start_time": "2023-05-15T16:57:58.034177Z"
    }
   }
  },
  {
   "cell_type": "markdown",
   "source": [
    "# Инициализация различного рода массивов"
   ],
   "metadata": {
    "collapsed": false,
    "pycharm": {
     "name": "#%% md\n"
    }
   }
  },
  {
   "cell_type": "code",
   "execution_count": 90,
   "outputs": [
    {
     "name": "stdout",
     "output_type": "stream",
     "text": [
      "[[0. 0. 0. 0. 0.]\n",
      " [0. 0. 0. 0. 0.]\n",
      " [0. 0. 0. 0. 0.]\n",
      " [0. 0. 0. 0. 0.]\n",
      " [0. 0. 0. 0. 0.]]\n"
     ]
    }
   ],
   "source": [
    "# Нулевая матрица порядка n\n",
    "print(np.zeros(shape=(5, 5)))"
   ],
   "metadata": {
    "collapsed": false,
    "pycharm": {
     "name": "#%%\n"
    },
    "ExecuteTime": {
     "end_time": "2023-05-15T16:58:47.083474Z",
     "start_time": "2023-05-15T16:58:47.052538Z"
    }
   }
  },
  {
   "cell_type": "code",
   "execution_count": 91,
   "outputs": [
    {
     "data": {
      "text/plain": "dtype('float64')"
     },
     "execution_count": 91,
     "metadata": {},
     "output_type": "execute_result"
    }
   ],
   "source": [
    "np.zeros(shape=(5, 5))[0].dtype"
   ],
   "metadata": {
    "collapsed": false,
    "ExecuteTime": {
     "end_time": "2023-05-15T16:59:38.213569Z",
     "start_time": "2023-05-15T16:59:38.175989Z"
    }
   }
  },
  {
   "cell_type": "code",
   "execution_count": 92,
   "outputs": [
    {
     "name": "stdout",
     "output_type": "stream",
     "text": [
      "[[1 1 1 1 1 1 1 1 1]\n",
      " [1 1 1 1 1 1 1 1 1]\n",
      " [1 1 1 1 1 1 1 1 1]]\n"
     ]
    }
   ],
   "source": [
    "# Матрица все элементы которой равны 1\n",
    "print(np.ones(shape=(3,9), dtype='int32'))"
   ],
   "metadata": {
    "collapsed": false,
    "pycharm": {
     "name": "#%%\n"
    },
    "ExecuteTime": {
     "end_time": "2023-05-15T17:00:02.405328Z",
     "start_time": "2023-05-15T17:00:02.374766Z"
    }
   }
  },
  {
   "cell_type": "code",
   "execution_count": 93,
   "outputs": [
    {
     "name": "stdout",
     "output_type": "stream",
     "text": [
      "[[22. 22. 22. 22. 22. 22. 22. 22. 22. 22.]\n",
      " [22. 22. 22. 22. 22. 22. 22. 22. 22. 22.]\n",
      " [22. 22. 22. 22. 22. 22. 22. 22. 22. 22.]\n",
      " [22. 22. 22. 22. 22. 22. 22. 22. 22. 22.]\n",
      " [22. 22. 22. 22. 22. 22. 22. 22. 22. 22.]]\n"
     ]
    }
   ],
   "source": [
    "# Матрица все эелементы которой равны указанному числу\n",
    "print(np.full(shape=(5,10), fill_value=22, dtype='float16'))"
   ],
   "metadata": {
    "collapsed": false,
    "pycharm": {
     "name": "#%%\n"
    },
    "ExecuteTime": {
     "end_time": "2023-05-15T17:00:35.796578Z",
     "start_time": "2023-05-15T17:00:35.764628Z"
    }
   }
  },
  {
   "cell_type": "code",
   "execution_count": 94,
   "outputs": [
    {
     "name": "stdout",
     "output_type": "stream",
     "text": [
      "[[0.25 0.25 0.25 0.25 0.25]\n",
      " [0.25 0.25 0.25 0.25 0.25]\n",
      " [0.25 0.25 0.25 0.25 0.25]\n",
      " [0.25 0.25 0.25 0.25 0.25]\n",
      " [0.25 0.25 0.25 0.25 0.25]]\n"
     ]
    }
   ],
   "source": [
    "# Построение аналогичной матрицы\n",
    "a = np.ones(shape=(5,5), dtype='float32')\n",
    "\n",
    "# Ссылаясь на объект выше мы можем построить аналогичный объект заполнив его своим значением\n",
    "print(np.full_like(a, 0.25))"
   ],
   "metadata": {
    "collapsed": false,
    "pycharm": {
     "name": "#%%\n"
    },
    "ExecuteTime": {
     "end_time": "2023-05-15T17:01:39.491484Z",
     "start_time": "2023-05-15T17:01:39.460973Z"
    }
   }
  },
  {
   "cell_type": "code",
   "execution_count": 95,
   "outputs": [
    {
     "name": "stdout",
     "output_type": "stream",
     "text": [
      "[[0.67209286 0.02684479]\n",
      " [0.08674602 0.14397641]\n",
      " [0.21007368 0.62570804]\n",
      " [0.29238108 0.68595549]]\n"
     ]
    }
   ],
   "source": [
    "# Инициализация массива случайным набором значений из нормального распределения\n",
    "print(np.random.rand(4,2))"
   ],
   "metadata": {
    "collapsed": false,
    "pycharm": {
     "name": "#%%\n"
    },
    "ExecuteTime": {
     "end_time": "2023-05-15T17:03:18.437751Z",
     "start_time": "2023-05-15T17:03:18.406774Z"
    }
   }
  },
  {
   "cell_type": "code",
   "execution_count": 96,
   "outputs": [
    {
     "name": "stdout",
     "output_type": "stream",
     "text": [
      "[[ 39 100  31  99  64 113  93 107   4  85]\n",
      " [114  55  49  97  64 108  39  11 144  54]\n",
      " [ 21  50  57  52 148 148  31 133  20  27]\n",
      " [ 87 122 104 146 121 105  95   7  51 117]\n",
      " [129  70  52 121 145  99  68  99  56  61]\n",
      " [ 23  75  84  51 100 122  50  88 123  59]\n",
      " [ 66 120  50  27  86  87 149  97  71  73]\n",
      " [112  46 112  45  93 126 150  40  75 103]\n",
      " [ 41 127  46  67  81  31 106  72  18 114]\n",
      " [141  54 117  71  21 102 121  20  30  66]]\n"
     ]
    }
   ],
   "source": [
    "# Инициализация случайной матрицы целочисленных значений с нижней и верхней границей\n",
    "print(np.random.randint(low=2, high=151, size=(10, 10)))"
   ],
   "metadata": {
    "collapsed": false,
    "pycharm": {
     "name": "#%%\n"
    },
    "ExecuteTime": {
     "end_time": "2023-05-15T17:04:01.226758Z",
     "start_time": "2023-05-15T17:04:01.196035Z"
    }
   }
  },
  {
   "cell_type": "code",
   "execution_count": 97,
   "outputs": [
    {
     "name": "stdout",
     "output_type": "stream",
     "text": [
      "[[1. 0. 0. 0. 0. 0. 0. 0. 0. 0.]\n",
      " [0. 1. 0. 0. 0. 0. 0. 0. 0. 0.]\n",
      " [0. 0. 1. 0. 0. 0. 0. 0. 0. 0.]\n",
      " [0. 0. 0. 1. 0. 0. 0. 0. 0. 0.]\n",
      " [0. 0. 0. 0. 1. 0. 0. 0. 0. 0.]\n",
      " [0. 0. 0. 0. 0. 1. 0. 0. 0. 0.]\n",
      " [0. 0. 0. 0. 0. 0. 1. 0. 0. 0.]\n",
      " [0. 0. 0. 0. 0. 0. 0. 1. 0. 0.]\n",
      " [0. 0. 0. 0. 0. 0. 0. 0. 1. 0.]\n",
      " [0. 0. 0. 0. 0. 0. 0. 0. 0. 1.]]\n"
     ]
    }
   ],
   "source": [
    "# Единичная матрица размерность nxn\n",
    "print(np.identity(n=10))"
   ],
   "metadata": {
    "collapsed": false,
    "pycharm": {
     "name": "#%%\n"
    },
    "ExecuteTime": {
     "end_time": "2023-05-15T17:04:37.334649Z",
     "start_time": "2023-05-15T17:04:37.287686Z"
    }
   }
  },
  {
   "cell_type": "markdown",
   "source": [
    "# Арифметические операции"
   ],
   "metadata": {
    "collapsed": false,
    "pycharm": {
     "name": "#%% md\n"
    }
   }
  },
  {
   "cell_type": "code",
   "execution_count": 98,
   "outputs": [
    {
     "name": "stdout",
     "output_type": "stream",
     "text": [
      "[[ 1  3 10  8  5 14  8  0  7 12  9  9]]\n"
     ]
    }
   ],
   "source": [
    "a = np.random.randint(low=0, high=15, size=(1,12))\n",
    "print(a)"
   ],
   "metadata": {
    "collapsed": false,
    "pycharm": {
     "name": "#%%\n"
    },
    "ExecuteTime": {
     "end_time": "2023-05-15T17:05:23.575870Z",
     "start_time": "2023-05-15T17:05:23.544975Z"
    }
   }
  },
  {
   "cell_type": "code",
   "execution_count": 100,
   "outputs": [
    {
     "name": "stdout",
     "output_type": "stream",
     "text": [
      "[[ 4  6 13 11  8 17 11  3 10 15 12 12]]\n"
     ]
    }
   ],
   "source": [
    "# Складывается каждый элемент объекта\n",
    "print(a + 3)"
   ],
   "metadata": {
    "collapsed": false,
    "pycharm": {
     "name": "#%%\n"
    },
    "ExecuteTime": {
     "end_time": "2023-05-15T17:05:45.048684Z",
     "start_time": "2023-05-15T17:05:45.014254Z"
    }
   }
  },
  {
   "cell_type": "code",
   "execution_count": 101,
   "outputs": [
    {
     "data": {
      "text/plain": "array([[-2,  0,  7,  5,  2, 11,  5, -3,  4,  9,  6,  6]])"
     },
     "execution_count": 101,
     "metadata": {},
     "output_type": "execute_result"
    }
   ],
   "source": [
    "# Аналогично с вычитанием, умножением, делением и остальными арифметическими операциями\n",
    "a - 3"
   ],
   "metadata": {
    "collapsed": false,
    "pycharm": {
     "name": "#%%\n"
    },
    "ExecuteTime": {
     "end_time": "2023-05-15T17:05:54.595355Z",
     "start_time": "2023-05-15T17:05:54.564169Z"
    }
   }
  },
  {
   "cell_type": "code",
   "execution_count": 102,
   "outputs": [
    {
     "data": {
      "text/plain": "array([[ 3,  9, 30, 24, 15, 42, 24,  0, 21, 36, 27, 27]])"
     },
     "execution_count": 102,
     "metadata": {},
     "output_type": "execute_result"
    }
   ],
   "source": [
    "a * 3"
   ],
   "metadata": {
    "collapsed": false,
    "pycharm": {
     "name": "#%%\n"
    },
    "ExecuteTime": {
     "end_time": "2023-05-15T17:06:03.096801Z",
     "start_time": "2023-05-15T17:06:03.063888Z"
    }
   }
  },
  {
   "cell_type": "code",
   "execution_count": 103,
   "outputs": [
    {
     "data": {
      "text/plain": "array([[0.33333333, 1.        , 3.33333333, 2.66666667, 1.66666667,\n        4.66666667, 2.66666667, 0.        , 2.33333333, 4.        ,\n        3.        , 3.        ]])"
     },
     "execution_count": 103,
     "metadata": {},
     "output_type": "execute_result"
    }
   ],
   "source": [
    "a / 3"
   ],
   "metadata": {
    "collapsed": false,
    "pycharm": {
     "name": "#%%\n"
    },
    "ExecuteTime": {
     "end_time": "2023-05-15T17:06:04.496761Z",
     "start_time": "2023-05-15T17:06:04.461501Z"
    }
   }
  },
  {
   "cell_type": "code",
   "execution_count": 104,
   "outputs": [
    {
     "data": {
      "text/plain": "array([[   1,   27, 1000,  512,  125, 2744,  512,    0,  343, 1728,  729,\n         729]])"
     },
     "execution_count": 104,
     "metadata": {},
     "output_type": "execute_result"
    }
   ],
   "source": [
    "a ** 3"
   ],
   "metadata": {
    "collapsed": false,
    "pycharm": {
     "name": "#%%\n"
    },
    "ExecuteTime": {
     "end_time": "2023-05-15T17:06:05.724604Z",
     "start_time": "2023-05-15T17:06:05.683297Z"
    }
   }
  },
  {
   "cell_type": "code",
   "execution_count": 105,
   "outputs": [],
   "source": [
    "b = np.random.randint(low=0, high=15, size=(1,20))"
   ],
   "metadata": {
    "collapsed": false,
    "pycharm": {
     "name": "#%%\n"
    },
    "ExecuteTime": {
     "end_time": "2023-05-15T17:06:07.723876Z",
     "start_time": "2023-05-15T17:06:07.685643Z"
    }
   }
  },
  {
   "cell_type": "code",
   "execution_count": 106,
   "outputs": [
    {
     "data": {
      "text/plain": "array([[ 1,  3, 10,  8,  5, 14,  8,  0,  7, 12,  9,  9]])"
     },
     "execution_count": 106,
     "metadata": {},
     "output_type": "execute_result"
    }
   ],
   "source": [
    "a"
   ],
   "metadata": {
    "collapsed": false,
    "pycharm": {
     "name": "#%%\n"
    },
    "ExecuteTime": {
     "end_time": "2023-05-15T17:06:11.523941Z",
     "start_time": "2023-05-15T17:06:11.487011Z"
    }
   }
  },
  {
   "cell_type": "code",
   "execution_count": 107,
   "outputs": [
    {
     "data": {
      "text/plain": "array([[ 2,  3, 12,  7,  4,  8, 14,  0,  8, 14, 14, 13,  1,  1,  2, 11,\n         2, 14, 10,  1]])"
     },
     "execution_count": 107,
     "metadata": {},
     "output_type": "execute_result"
    }
   ],
   "source": [
    "b"
   ],
   "metadata": {
    "collapsed": false,
    "pycharm": {
     "name": "#%%\n"
    },
    "ExecuteTime": {
     "end_time": "2023-05-15T17:06:12.637410Z",
     "start_time": "2023-05-15T17:06:12.598909Z"
    }
   }
  },
  {
   "cell_type": "code",
   "execution_count": 108,
   "outputs": [
    {
     "ename": "ValueError",
     "evalue": "operands could not be broadcast together with shapes (1,12) (1,20) ",
     "output_type": "error",
     "traceback": [
      "\u001B[0;31m---------------------------------------------------------------------------\u001B[0m",
      "\u001B[0;31mValueError\u001B[0m                                Traceback (most recent call last)",
      "Cell \u001B[0;32mIn[108], line 2\u001B[0m\n\u001B[1;32m      1\u001B[0m \u001B[38;5;66;03m# Мы не можем складывать вектора разной размерности\u001B[39;00m\n\u001B[0;32m----> 2\u001B[0m \u001B[43ma\u001B[49m\u001B[43m \u001B[49m\u001B[38;5;241;43m+\u001B[39;49m\u001B[43m \u001B[49m\u001B[43mb\u001B[49m\n",
      "\u001B[0;31mValueError\u001B[0m: operands could not be broadcast together with shapes (1,12) (1,20) "
     ]
    }
   ],
   "source": [
    "# Мы не можем складывать вектора разной размерности\n",
    "a + b"
   ],
   "metadata": {
    "collapsed": false,
    "pycharm": {
     "name": "#%%\n"
    },
    "ExecuteTime": {
     "end_time": "2023-05-15T17:07:22.941782Z",
     "start_time": "2023-05-15T17:07:22.844155Z"
    }
   }
  },
  {
   "cell_type": "markdown",
   "source": [
    "# Примеры базовых операций линейной алгебры"
   ],
   "metadata": {
    "collapsed": false,
    "pycharm": {
     "name": "#%% md\n"
    }
   }
  },
  {
   "cell_type": "code",
   "execution_count": 109,
   "outputs": [
    {
     "data": {
      "text/plain": "array([[442, 518, 437, 583, 532, 528, 614, 580, 603, 497, 392, 559],\n       [622, 603, 537, 778, 592, 693, 689, 640, 578, 622, 527, 569],\n       [745, 793, 614, 935, 723, 824, 807, 801, 723, 790, 683, 746],\n       [764, 883, 673, 985, 786, 875, 906, 847, 858, 814, 655, 830],\n       [698, 783, 575, 876, 708, 781, 813, 792, 744, 764, 643, 767]])"
     },
     "execution_count": 109,
     "metadata": {},
     "output_type": "execute_result"
    }
   ],
   "source": [
    "a = np.random.randint(low=0, high=13, size=(5, 5))\n",
    "b = np.random.randint(low=14, high=27, size=(5, 12))\n",
    "\n",
    "# Операция умножения двух матриц\n",
    "np.matmul(a, b)"
   ],
   "metadata": {
    "collapsed": false,
    "pycharm": {
     "name": "#%%\n"
    },
    "ExecuteTime": {
     "end_time": "2023-05-15T17:08:14.100906Z",
     "start_time": "2023-05-15T17:08:14.064843Z"
    }
   }
  },
  {
   "cell_type": "code",
   "execution_count": 110,
   "outputs": [
    {
     "data": {
      "text/plain": "array([[442, 518, 437, 583, 532, 528, 614, 580, 603, 497, 392, 559],\n       [622, 603, 537, 778, 592, 693, 689, 640, 578, 622, 527, 569],\n       [745, 793, 614, 935, 723, 824, 807, 801, 723, 790, 683, 746],\n       [764, 883, 673, 985, 786, 875, 906, 847, 858, 814, 655, 830],\n       [698, 783, 575, 876, 708, 781, 813, 792, 744, 764, 643, 767]])"
     },
     "execution_count": 110,
     "metadata": {},
     "output_type": "execute_result"
    }
   ],
   "source": [
    "# Аналогичная операция умножения 2-х матриц с использованием символа декоратора\n",
    "a@b"
   ],
   "metadata": {
    "collapsed": false,
    "pycharm": {
     "name": "#%%\n"
    },
    "ExecuteTime": {
     "end_time": "2023-05-15T17:08:38.703221Z",
     "start_time": "2023-05-15T17:08:38.643076Z"
    }
   }
  },
  {
   "cell_type": "code",
   "execution_count": 111,
   "outputs": [
    {
     "data": {
      "text/plain": "1.0"
     },
     "execution_count": 111,
     "metadata": {},
     "output_type": "execute_result"
    }
   ],
   "source": [
    "# Нахождение определителя\n",
    "c = np.identity(3)\n",
    "np.linalg.det(c)"
   ],
   "metadata": {
    "collapsed": false,
    "pycharm": {
     "name": "#%%\n"
    },
    "ExecuteTime": {
     "end_time": "2023-05-15T17:09:46.489110Z",
     "start_time": "2023-05-15T17:09:46.429641Z"
    }
   }
  },
  {
   "cell_type": "markdown",
   "source": [
    "# Статистические операции"
   ],
   "metadata": {
    "collapsed": false,
    "pycharm": {
     "name": "#%% md\n"
    }
   }
  },
  {
   "cell_type": "code",
   "execution_count": 112,
   "outputs": [],
   "source": [
    "random_array = np.random.randint(low=0, high=12, size=(3,3))"
   ],
   "metadata": {
    "collapsed": false,
    "pycharm": {
     "name": "#%%\n"
    },
    "ExecuteTime": {
     "end_time": "2023-05-15T17:10:26.485075Z",
     "start_time": "2023-05-15T17:10:26.439667Z"
    }
   }
  },
  {
   "cell_type": "code",
   "execution_count": 113,
   "outputs": [
    {
     "data": {
      "text/plain": "array([[ 8,  8,  0],\n       [ 1, 11,  2],\n       [ 5,  9,  0]])"
     },
     "execution_count": 113,
     "metadata": {},
     "output_type": "execute_result"
    }
   ],
   "source": [
    "random_array"
   ],
   "metadata": {
    "collapsed": false,
    "ExecuteTime": {
     "end_time": "2023-05-15T17:10:31.465026Z",
     "start_time": "2023-05-15T17:10:31.406213Z"
    }
   }
  },
  {
   "cell_type": "code",
   "execution_count": 114,
   "outputs": [
    {
     "data": {
      "text/plain": "0"
     },
     "execution_count": 114,
     "metadata": {},
     "output_type": "execute_result"
    }
   ],
   "source": [
    "np.min(random_array)"
   ],
   "metadata": {
    "collapsed": false,
    "pycharm": {
     "name": "#%%\n"
    },
    "ExecuteTime": {
     "end_time": "2023-05-15T17:10:47.744407Z",
     "start_time": "2023-05-15T17:10:47.710205Z"
    }
   }
  },
  {
   "cell_type": "code",
   "execution_count": 115,
   "outputs": [
    {
     "data": {
      "text/plain": "11"
     },
     "execution_count": 115,
     "metadata": {},
     "output_type": "execute_result"
    }
   ],
   "source": [
    "np.max(random_array)"
   ],
   "metadata": {
    "collapsed": false,
    "pycharm": {
     "name": "#%%\n"
    },
    "ExecuteTime": {
     "end_time": "2023-05-15T17:10:54.895359Z",
     "start_time": "2023-05-15T17:10:54.861097Z"
    }
   }
  },
  {
   "cell_type": "code",
   "execution_count": 116,
   "outputs": [
    {
     "data": {
      "text/plain": "44"
     },
     "execution_count": 116,
     "metadata": {},
     "output_type": "execute_result"
    }
   ],
   "source": [
    "np.sum(random_array)"
   ],
   "metadata": {
    "collapsed": false,
    "pycharm": {
     "name": "#%%\n"
    },
    "ExecuteTime": {
     "end_time": "2023-05-15T17:10:56.941868Z",
     "start_time": "2023-05-15T17:10:56.909222Z"
    }
   }
  },
  {
   "cell_type": "code",
   "execution_count": 117,
   "outputs": [
    {
     "data": {
      "text/plain": "5.0"
     },
     "execution_count": 117,
     "metadata": {},
     "output_type": "execute_result"
    }
   ],
   "source": [
    "np.median(random_array)"
   ],
   "metadata": {
    "collapsed": false,
    "ExecuteTime": {
     "end_time": "2023-05-15T17:11:12.328971Z",
     "start_time": "2023-05-15T17:11:12.300100Z"
    }
   }
  },
  {
   "cell_type": "code",
   "execution_count": 118,
   "outputs": [
    {
     "data": {
      "text/plain": "4.888888888888889"
     },
     "execution_count": 118,
     "metadata": {},
     "output_type": "execute_result"
    }
   ],
   "source": [
    "np.average(random_array)"
   ],
   "metadata": {
    "collapsed": false,
    "ExecuteTime": {
     "end_time": "2023-05-15T17:11:31.086958Z",
     "start_time": "2023-05-15T17:11:31.038102Z"
    }
   }
  },
  {
   "cell_type": "markdown",
   "source": [
    "# Манипуляции с размерностями массивов"
   ],
   "metadata": {
    "collapsed": false,
    "pycharm": {
     "name": "#%% md\n"
    }
   }
  },
  {
   "cell_type": "code",
   "execution_count": 119,
   "outputs": [
    {
     "name": "stdout",
     "output_type": "stream",
     "text": [
      "[[1 2]\n",
      " [3 4]\n",
      " [5 6]\n",
      " [7 8]]\n"
     ]
    }
   ],
   "source": [
    "original = np.array([[1, 2, 3, 4], [5, 6, 7, 8]])\n",
    "\n",
    "# Изменение формы матрицы, следует помнить что мы можем привести только к той размерности которая способна включать в себя 8 элементов (2х4, 4х2, 1х8, 8х1)\n",
    "reshaped = np.reshape(original, newshape=(4,2))\n",
    "print(reshaped)"
   ],
   "metadata": {
    "collapsed": false,
    "pycharm": {
     "name": "#%%\n"
    },
    "ExecuteTime": {
     "end_time": "2023-05-15T17:12:48.469149Z",
     "start_time": "2023-05-15T17:12:48.438952Z"
    }
   }
  },
  {
   "cell_type": "code",
   "execution_count": 120,
   "outputs": [
    {
     "data": {
      "text/plain": "array([[1, 2, 3, 4],\n       [5, 6, 7, 8]])"
     },
     "execution_count": 120,
     "metadata": {},
     "output_type": "execute_result"
    }
   ],
   "source": [
    "# Вертикальное объединения двух соразмерных массивов\n",
    "v1 = np.array([1, 2, 3, 4])\n",
    "v2 = np.array([5, 6, 7, 8])\n",
    "np.vstack([v1, v2])"
   ],
   "metadata": {
    "collapsed": false,
    "pycharm": {
     "name": "#%%\n"
    },
    "ExecuteTime": {
     "end_time": "2023-05-15T17:13:45.596252Z",
     "start_time": "2023-05-15T17:13:45.566077Z"
    }
   }
  },
  {
   "cell_type": "code",
   "execution_count": 122,
   "outputs": [
    {
     "name": "stdout",
     "output_type": "stream",
     "text": [
      "[1 2 3 4 5 6 7 8]\n"
     ]
    }
   ],
   "source": [
    "# Горизонтально объединение двух соразмерных массивов\n",
    "print(np.hstack([v1,v2]))"
   ],
   "metadata": {
    "collapsed": false,
    "pycharm": {
     "name": "#%%\n"
    },
    "ExecuteTime": {
     "end_time": "2023-05-15T17:14:25.859762Z",
     "start_time": "2023-05-15T17:14:25.827428Z"
    }
   }
  },
  {
   "cell_type": "code",
   "execution_count": 123,
   "outputs": [],
   "source": [
    "# Чтение числовых данных из файла\n",
    "data = np.genfromtxt('../files/data.txt', delimiter=',').astype('int32')"
   ],
   "metadata": {
    "collapsed": false,
    "pycharm": {
     "name": "#%%\n"
    },
    "ExecuteTime": {
     "end_time": "2023-05-15T17:15:55.311570Z",
     "start_time": "2023-05-15T17:15:55.279880Z"
    }
   }
  },
  {
   "cell_type": "code",
   "execution_count": 124,
   "outputs": [
    {
     "data": {
      "text/plain": "array([[  1,   2,   3,  55, 120,  13,  91,  15,  16,  22,  35,  41,  51,\n         76, 120,  23,  32],\n       [  1,   1,   2,   3,   5, 756,  12,  20,  32,  52,  84, 136, 220,\n        356, 120,  23,  32],\n       [  0,   2,   3,   0, 120,  13,  12,  15,  16,  22,   0,  41, 999,\n         76,  78,   0,  32]], dtype=int32)"
     },
     "execution_count": 124,
     "metadata": {},
     "output_type": "execute_result"
    }
   ],
   "source": [
    "data"
   ],
   "metadata": {
    "collapsed": false,
    "pycharm": {
     "name": "#%%\n"
    },
    "ExecuteTime": {
     "end_time": "2023-05-15T17:15:56.740734Z",
     "start_time": "2023-05-15T17:15:56.686539Z"
    }
   }
  },
  {
   "cell_type": "markdown",
   "source": [
    "#### Сравнение двух объектов"
   ],
   "metadata": {
    "collapsed": false
   }
  },
  {
   "cell_type": "code",
   "execution_count": 125,
   "outputs": [],
   "source": [
    "A = np.random.randint(0,2,5)\n",
    "B = np.random.randint(0,2,5)"
   ],
   "metadata": {
    "collapsed": false,
    "pycharm": {
     "name": "#%%\n"
    },
    "ExecuteTime": {
     "end_time": "2023-05-15T17:16:21.330969Z",
     "start_time": "2023-05-15T17:16:21.295059Z"
    }
   }
  },
  {
   "cell_type": "code",
   "execution_count": 126,
   "outputs": [
    {
     "name": "stdout",
     "output_type": "stream",
     "text": [
      "[0 0 0 1 0]\n",
      "[1 1 0 0 1]\n"
     ]
    }
   ],
   "source": [
    "print(A)\n",
    "print(B)"
   ],
   "metadata": {
    "collapsed": false,
    "ExecuteTime": {
     "end_time": "2023-05-15T17:16:23.083023Z",
     "start_time": "2023-05-15T17:16:23.048187Z"
    }
   }
  },
  {
   "cell_type": "code",
   "execution_count": 127,
   "outputs": [
    {
     "name": "stdout",
     "output_type": "stream",
     "text": [
      "[False False  True False False]\n"
     ]
    }
   ],
   "source": [
    "print(A == B)"
   ],
   "metadata": {
    "collapsed": false,
    "ExecuteTime": {
     "end_time": "2023-05-15T17:17:16.144258Z",
     "start_time": "2023-05-15T17:17:16.108183Z"
    }
   }
  },
  {
   "cell_type": "code",
   "execution_count": 128,
   "outputs": [
    {
     "name": "stdout",
     "output_type": "stream",
     "text": [
      "False\n"
     ]
    }
   ],
   "source": [
    "# Предполагает что массивы имеют идентичную форму и поэлементное сравнение значений\n",
    "equal = np.allclose(A,B)\n",
    "print(equal)"
   ],
   "metadata": {
    "collapsed": false,
    "pycharm": {
     "name": "#%%\n"
    },
    "ExecuteTime": {
     "end_time": "2023-05-15T17:18:20.281845Z",
     "start_time": "2023-05-15T17:18:20.251790Z"
    }
   }
  },
  {
   "cell_type": "code",
   "execution_count": 129,
   "outputs": [
    {
     "name": "stdout",
     "output_type": "stream",
     "text": [
      "False\n"
     ]
    }
   ],
   "source": [
    "# Проверка как формы, так и значений элементов, без допусков (значения должны быть точно равными)\n",
    "equal = np.array_equal(A,B)\n",
    "print(equal)"
   ],
   "metadata": {
    "collapsed": false,
    "ExecuteTime": {
     "end_time": "2023-05-15T17:19:32.895552Z",
     "start_time": "2023-05-15T17:19:32.833059Z"
    }
   }
  },
  {
   "cell_type": "markdown",
   "source": [
    "Нормализация матрицы"
   ],
   "metadata": {
    "collapsed": false
   }
  },
  {
   "cell_type": "code",
   "execution_count": 130,
   "outputs": [
    {
     "name": "stdout",
     "output_type": "stream",
     "text": [
      "[[ 1.61213490e-01  2.36700117e-01  2.97870079e-01  2.73440438e-01\n",
      "  -4.58416753e-01 -4.08851813e-01 -2.00311000e-01  1.80785130e-01\n",
      "  -2.66097261e-01  1.83667571e-01]\n",
      " [ 2.75198446e-01 -2.09388307e-01  9.42926677e-02 -3.75468986e-01\n",
      "   7.93660117e-05 -6.30759801e-02  2.67735438e-01  2.44234852e-01\n",
      "  -1.88028441e-01 -4.55790556e-02]\n",
      " [ 1.23379295e-01 -1.38053976e-01  1.34670588e-01  2.84901782e-01\n",
      "  -4.37660252e-01 -3.38081853e-01  3.39781390e-01 -3.09549498e-01\n",
      "   1.99635796e-01  1.40976728e-01]\n",
      " [-3.49019285e-01 -6.20035145e-02  2.57569342e-01  2.17028164e-01\n",
      "   5.25480510e-02 -3.28561692e-01 -4.01102518e-02 -1.01888170e-01\n",
      "   8.44379374e-02  2.69999420e-01]\n",
      " [-2.07264155e-01 -5.14151294e-01 -3.91989234e-01 -2.32171503e-01\n",
      "   4.36025984e-02  4.65479223e-01  2.04776162e-01  2.57453859e-01\n",
      "   3.92103233e-01 -1.78388900e-02]]\n"
     ]
    }
   ],
   "source": [
    "X = np.random.rand(5, 10)\n",
    "Y = X - X.mean(axis=1, keepdims=True)\n",
    "\n",
    "# В старых версиях библиотеки реализован такой подход (будьте внимательны если будете читать легаси код какого-либо проекта)\n",
    "# Y = X - X.mean(axis=1).reshape(-1, 1)\n",
    "print(Y)"
   ],
   "metadata": {
    "collapsed": false,
    "pycharm": {
     "name": "#%%\n"
    },
    "ExecuteTime": {
     "end_time": "2023-05-15T17:20:40.495804Z",
     "start_time": "2023-05-15T17:20:40.464183Z"
    }
   }
  },
  {
   "cell_type": "code",
   "execution_count": null,
   "outputs": [],
   "source": [
    "# Сгенерируйте случаный массив размера mxn и посчитайте объем занимаемой памяти в килобайтах\n"
   ],
   "metadata": {
    "collapsed": false,
    "pycharm": {
     "name": "#%%\n"
    }
   }
  },
  {
   "cell_type": "markdown",
   "source": [],
   "metadata": {
    "collapsed": false,
    "pycharm": {
     "name": "#%% md\n"
    }
   }
  },
  {
   "cell_type": "code",
   "execution_count": 131,
   "outputs": [
    {
     "name": "stdout",
     "output_type": "stream",
     "text": [
      "The memory size: 100\n"
     ]
    }
   ],
   "source": [
    "Z = np.random.randint(low=10, high=100, size=(10, 10), dtype='int64')\n",
    "print(\"The memory size: {}\".format(Z.size))"
   ],
   "metadata": {
    "collapsed": false,
    "pycharm": {
     "name": "#%%\n"
    },
    "ExecuteTime": {
     "end_time": "2023-05-15T17:34:22.524371Z",
     "start_time": "2023-05-15T17:34:22.494397Z"
    }
   }
  },
  {
   "cell_type": "code",
   "execution_count": null,
   "outputs": [],
   "source": [
    "# Создайте вектор любой размерности и разверните его в обратном направлении\n"
   ],
   "metadata": {
    "collapsed": false,
    "pycharm": {
     "name": "#%%\n"
    }
   }
  },
  {
   "cell_type": "code",
   "execution_count": 132,
   "outputs": [
    {
     "data": {
      "text/plain": "array([[74, 32, 24, 87, 37, 42, 50, 92, 70, 51],\n       [51, 30, 99, 10, 59, 15, 88, 82, 59, 59],\n       [48, 58, 66, 20, 26, 39, 34, 89, 23, 78],\n       [75, 33, 82, 30, 43, 70, 31, 48, 31, 47],\n       [74, 69, 98, 65, 77, 83, 62, 56, 11, 37],\n       [65, 28, 32, 34, 63, 67, 63, 70, 95, 42],\n       [87, 28, 86, 23, 21, 73, 92, 79, 97, 20],\n       [77, 59, 59, 15, 97, 45, 96, 32, 87, 91],\n       [88, 99, 99, 60, 30, 87, 52, 79, 10, 91],\n       [21, 62, 69, 63, 61, 55, 35, 72, 43, 39]])"
     },
     "execution_count": 132,
     "metadata": {},
     "output_type": "execute_result"
    }
   ],
   "source": [
    "Z[::-1]"
   ],
   "metadata": {
    "collapsed": false,
    "pycharm": {
     "name": "#%%\n"
    },
    "ExecuteTime": {
     "end_time": "2023-05-15T17:34:32.049060Z",
     "start_time": "2023-05-15T17:34:32.017858Z"
    }
   }
  },
  {
   "cell_type": "code",
   "execution_count": null,
   "outputs": [],
   "source": [
    "# Создайте две матрицы А и В, проверьте равны ли они\n"
   ],
   "metadata": {
    "collapsed": false,
    "pycharm": {
     "name": "#%%\n"
    }
   }
  },
  {
   "cell_type": "code",
   "execution_count": null,
   "outputs": [],
   "source": [
    "# Создайте матрицу размерности 25х25 и нормализуйте ее\n"
   ],
   "metadata": {
    "collapsed": false,
    "pycharm": {
     "name": "#%%\n"
    }
   }
  },
  {
   "cell_type": "code",
   "execution_count": 133,
   "outputs": [
    {
     "name": "stdout",
     "output_type": "stream",
     "text": [
      "[[-2.43295870e-01  1.31717921e-01  4.17402622e-01 -1.06873907e-01\n",
      "  -2.14206295e-01 -2.08767540e-01  6.25717054e-01 -1.61001652e-02\n",
      "  -3.05773650e-01 -7.98201697e-02]\n",
      " [ 1.42205745e-01  6.02497845e-02  2.29215901e-01  1.56234920e-01\n",
      "   2.06932962e-01 -3.39693963e-01 -6.05664132e-01  2.70756625e-01\n",
      "   2.21649799e-01 -3.41887642e-01]\n",
      " [-1.59567471e-01 -2.23819100e-01 -2.59307006e-01 -1.64087196e-01\n",
      "   2.95676207e-01 -3.02175297e-01  1.64166619e-04  2.00222229e-01\n",
      "   1.89791016e-01  4.23102451e-01]\n",
      " [ 3.50141280e-01 -1.62784155e-01 -3.34025685e-01 -2.25254170e-02\n",
      "  -3.37883394e-01  1.72095911e-01 -2.33254736e-01  3.01153858e-01\n",
      "   3.74557379e-01 -1.07475042e-01]\n",
      " [ 1.65572748e-01 -2.26218541e-01  4.07395032e-01  2.26918131e-01\n",
      "   1.48107982e-01  3.74862168e-01 -3.32107059e-01 -1.96390695e-01\n",
      "  -1.32177294e-01 -4.35962471e-01]]\n"
     ]
    }
   ],
   "source": [
    "X = np.random.rand(5, 10)\n",
    "# Recent versions of numpy\n",
    "Y = X - X.mean(axis=1, keepdims=True)\n",
    "# Older versions of numpy\n",
    "Y = X - X.mean(axis=1).reshape(-1, 1)\n",
    "print(Y)"
   ],
   "metadata": {
    "collapsed": false,
    "pycharm": {
     "name": "#%%\n"
    },
    "ExecuteTime": {
     "end_time": "2023-05-15T17:39:21.803527Z",
     "start_time": "2023-05-15T17:39:21.790594Z"
    }
   }
  }
 ],
 "metadata": {
  "kernelspec": {
   "display_name": "Python 3",
   "language": "python",
   "name": "python3"
  },
  "language_info": {
   "codemirror_mode": {
    "name": "ipython",
    "version": 2
   },
   "file_extension": ".py",
   "mimetype": "text/x-python",
   "name": "python",
   "nbconvert_exporter": "python",
   "pygments_lexer": "ipython2",
   "version": "2.7.6"
  }
 },
 "nbformat": 4,
 "nbformat_minor": 0
}
