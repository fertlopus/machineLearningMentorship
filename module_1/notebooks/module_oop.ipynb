{
 "cells": [
  {
   "cell_type": "code",
   "execution_count": 1,
   "metadata": {
    "collapsed": true,
    "ExecuteTime": {
     "end_time": "2023-05-03T18:30:48.795593Z",
     "start_time": "2023-05-03T18:30:48.789354Z"
    }
   },
   "outputs": [],
   "source": [
    "# Class construction\n",
    "class Rectangle:\n",
    "    def __init__(self, side_a, side_b):\n",
    "        self.side_a = side_a\n",
    "        self.side_b = side_b\n",
    "    def area(self):\n",
    "        return self.side_a * self.side_b\n"
   ]
  },
  {
   "cell_type": "code",
   "execution_count": 2,
   "outputs": [
    {
     "name": "stdout",
     "output_type": "stream",
     "text": [
      "50\n",
      "25\n"
     ]
    }
   ],
   "source": [
    "rectangle_1 = Rectangle(10, 5)\n",
    "print(rectangle_1.area())\n",
    "\n",
    "rectangle_2 = Rectangle(5, 5)\n",
    "print(rectangle_2.area())"
   ],
   "metadata": {
    "collapsed": false,
    "ExecuteTime": {
     "end_time": "2023-05-03T18:31:08.748424Z",
     "start_time": "2023-05-03T18:31:08.741851Z"
    }
   }
  },
  {
   "cell_type": "code",
   "execution_count": 3,
   "outputs": [],
   "source": [
    "# Inheritance\n",
    "class Engine:\n",
    "    def start(self):\n",
    "        pass\n",
    "    def stop(self):\n",
    "        pass\n",
    "\n",
    "class DieselEngine(Engine):\n",
    "    pass\n",
    "\n",
    "class ElectricEngine(Engine):\n",
    "    pass\n",
    "\n",
    "class V7Engine(Engine):\n",
    "    pass\n"
   ],
   "metadata": {
    "collapsed": false,
    "ExecuteTime": {
     "end_time": "2023-05-03T18:33:26.761525Z",
     "start_time": "2023-05-03T18:33:26.755947Z"
    }
   }
  },
  {
   "cell_type": "code",
   "execution_count": 4,
   "outputs": [],
   "source": [
    "class Car:\n",
    "    engine_type = Engine\n",
    "    def __init__(self):\n",
    "        self.engine = self.engine_type() # Has-A Engine\n",
    "    def start(self):\n",
    "        print('Start engine {} for car {}...'.format(\n",
    "            self.engine.__class__.__name__,\n",
    "            self.__class__.__name__\n",
    "        ))\n",
    "        self.engine.start()\n",
    "    def stop(self):\n",
    "        self.engine.stop()\n"
   ],
   "metadata": {
    "collapsed": false,
    "ExecuteTime": {
     "end_time": "2023-05-03T18:40:05.152672Z",
     "start_time": "2023-05-03T18:40:05.146164Z"
    }
   }
  },
  {
   "cell_type": "code",
   "execution_count": 8,
   "outputs": [],
   "source": [
    "class RaceCar(Car):\n",
    "    engine_type = V7Engine\n",
    "\n",
    "class ElectricCar(Car):\n",
    "    engine_type = ElectricEngine\n"
   ],
   "metadata": {
    "collapsed": false,
    "ExecuteTime": {
     "end_time": "2023-05-03T18:46:42.767249Z",
     "start_time": "2023-05-03T18:46:42.758060Z"
    }
   }
  },
  {
   "cell_type": "code",
   "execution_count": 10,
   "outputs": [],
   "source": [
    "car = Car()\n",
    "\n",
    "race_car = RaceCar()\n",
    "\n",
    "electric_car = ElectricCar()"
   ],
   "metadata": {
    "collapsed": false,
    "ExecuteTime": {
     "end_time": "2023-05-03T18:46:50.019437Z",
     "start_time": "2023-05-03T18:46:50.012446Z"
    }
   }
  },
  {
   "cell_type": "code",
   "execution_count": 11,
   "outputs": [
    {
     "name": "stdout",
     "output_type": "stream",
     "text": [
      "Start engine Engine for car Car...\n",
      "Start engine V7Engine for car RaceCar...\n",
      "Start engine ElectricEngine for car ElectricCar...\n"
     ]
    }
   ],
   "source": [
    "cars = [car, race_car, electric_car]\n",
    "\n",
    "for car in cars:\n",
    "    car.start()"
   ],
   "metadata": {
    "collapsed": false,
    "ExecuteTime": {
     "end_time": "2023-05-03T18:46:50.393427Z",
     "start_time": "2023-05-03T18:46:50.385086Z"
    }
   }
  },
  {
   "cell_type": "code",
   "execution_count": 12,
   "outputs": [],
   "source": [
    "class StringUtil:\n",
    "    @staticmethod\n",
    "    def is_palindrome(s, case_sensitive=True):\n",
    "        s = ''.join(c for c in s if c.isalnum())\n",
    "        if case_sensitive:\n",
    "            s = s.lower()\n",
    "        for c in range(len(s) // 2):\n",
    "            if s[c] != s[-c -1]:\n",
    "                return False\n",
    "        return True\n"
   ],
   "metadata": {
    "collapsed": false,
    "ExecuteTime": {
     "end_time": "2023-05-03T18:59:27.625966Z",
     "start_time": "2023-05-03T18:59:27.610463Z"
    }
   }
  },
  {
   "cell_type": "code",
   "execution_count": null,
   "outputs": [],
   "source": [],
   "metadata": {
    "collapsed": false
   }
  }
 ],
 "metadata": {
  "kernelspec": {
   "display_name": "Python 3",
   "language": "python",
   "name": "python3"
  },
  "language_info": {
   "codemirror_mode": {
    "name": "ipython",
    "version": 2
   },
   "file_extension": ".py",
   "mimetype": "text/x-python",
   "name": "python",
   "nbconvert_exporter": "python",
   "pygments_lexer": "ipython2",
   "version": "2.7.6"
  }
 },
 "nbformat": 4,
 "nbformat_minor": 0
}
