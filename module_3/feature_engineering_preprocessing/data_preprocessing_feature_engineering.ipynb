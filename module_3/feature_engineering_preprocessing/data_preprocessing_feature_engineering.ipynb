{
 "cells": [
  {
   "cell_type": "code",
   "execution_count": 1,
   "metadata": {
    "collapsed": true,
    "pycharm": {
     "name": "#%%\n"
    }
   },
   "outputs": [],
   "source": [
    "import pandas as pd\n",
    "import numpy as np\n",
    "import seaborn as sns\n",
    "import matplotlib.pyplot as plt\n",
    "import os\n",
    "\n",
    "from sklearn.model_selection import train_test_split\n",
    "from sklearn.preprocessing import StandardScaler\n",
    "from sklearn.preprocessing import MinMaxScaler\n",
    "from sklearn.preprocessing import RobustScaler\n",
    "from sklearn.feature_selection import SelectKBest, SelectPercentile\n",
    "from sklearn.feature_selection import mutual_info_classif,chi2\n",
    "from sklearn.tree import DecisionTreeClassifier, DecisionTreeRegressor\n",
    "from sklearn.metrics import roc_auc_score, mean_squared_error\n",
    "\n",
    "from imblearn.over_sampling import SMOTE\n",
    "from imblearn.under_sampling import CondensedNearestNeighbour\n",
    "\n",
    "import category_encoders as ce\n",
    "import warnings\n",
    "plt.style.use('seaborn-colorblind')\n",
    "%matplotlib inline"
   ]
  },
  {
   "cell_type": "code",
   "execution_count": 2,
   "metadata": {
    "pycharm": {
     "name": "#%%\n"
    }
   },
   "outputs": [
    {
     "name": "stdout",
     "output_type": "stream",
     "text": [
      "(891, 6)\n"
     ]
    },
    {
     "data": {
      "text/plain": "   Survived  Pclass     Sex   Age  SibSp     Fare\n0         0       3    male  22.0      1   7.2500\n1         1       1  female  38.0      1  71.2833\n2         1       3  female  26.0      0   7.9250\n3         1       1  female  35.0      1  53.1000\n4         0       3    male  35.0      0   8.0500\n5         0       3    male   NaN      0   8.4583\n6         0       1    male  54.0      0  51.8625\n7         0       3    male   2.0      3  21.0750",
      "text/html": "<div>\n<style scoped>\n    .dataframe tbody tr th:only-of-type {\n        vertical-align: middle;\n    }\n\n    .dataframe tbody tr th {\n        vertical-align: top;\n    }\n\n    .dataframe thead th {\n        text-align: right;\n    }\n</style>\n<table border=\"1\" class=\"dataframe\">\n  <thead>\n    <tr style=\"text-align: right;\">\n      <th></th>\n      <th>Survived</th>\n      <th>Pclass</th>\n      <th>Sex</th>\n      <th>Age</th>\n      <th>SibSp</th>\n      <th>Fare</th>\n    </tr>\n  </thead>\n  <tbody>\n    <tr>\n      <th>0</th>\n      <td>0</td>\n      <td>3</td>\n      <td>male</td>\n      <td>22.0</td>\n      <td>1</td>\n      <td>7.2500</td>\n    </tr>\n    <tr>\n      <th>1</th>\n      <td>1</td>\n      <td>1</td>\n      <td>female</td>\n      <td>38.0</td>\n      <td>1</td>\n      <td>71.2833</td>\n    </tr>\n    <tr>\n      <th>2</th>\n      <td>1</td>\n      <td>3</td>\n      <td>female</td>\n      <td>26.0</td>\n      <td>0</td>\n      <td>7.9250</td>\n    </tr>\n    <tr>\n      <th>3</th>\n      <td>1</td>\n      <td>1</td>\n      <td>female</td>\n      <td>35.0</td>\n      <td>1</td>\n      <td>53.1000</td>\n    </tr>\n    <tr>\n      <th>4</th>\n      <td>0</td>\n      <td>3</td>\n      <td>male</td>\n      <td>35.0</td>\n      <td>0</td>\n      <td>8.0500</td>\n    </tr>\n    <tr>\n      <th>5</th>\n      <td>0</td>\n      <td>3</td>\n      <td>male</td>\n      <td>NaN</td>\n      <td>0</td>\n      <td>8.4583</td>\n    </tr>\n    <tr>\n      <th>6</th>\n      <td>0</td>\n      <td>1</td>\n      <td>male</td>\n      <td>54.0</td>\n      <td>0</td>\n      <td>51.8625</td>\n    </tr>\n    <tr>\n      <th>7</th>\n      <td>0</td>\n      <td>3</td>\n      <td>male</td>\n      <td>2.0</td>\n      <td>3</td>\n      <td>21.0750</td>\n    </tr>\n  </tbody>\n</table>\n</div>"
     },
     "execution_count": 2,
     "metadata": {},
     "output_type": "execute_result"
    }
   ],
   "source": [
    "use_cols = [\n",
    "    'Pclass', 'Sex', 'Age', 'Fare', 'SibSp',\n",
    "    'Survived'\n",
    "]\n",
    "\n",
    "data = pd.read_csv('./data/titanic/titanic_train.csv', usecols=use_cols)\n",
    "print(data.shape)\n",
    "data.head(8)"
   ]
  },
  {
   "cell_type": "markdown",
   "metadata": {
    "pycharm": {
     "name": "#%% md\n"
    }
   },
   "source": [
    "## Пропущенные значения\n",
    "\n",
    "OverSampling/UnderSampling - методы работы с дисбалансом классов. OverSampling Работает с наибольшим классом с целью уменьшения до минорного класса. UnderSampling наоборот."
   ]
  },
  {
   "cell_type": "markdown",
   "metadata": {
    "pycharm": {
     "name": "#%% md\n"
    }
   },
   "source": [
    "Проверка пропущенных значений"
   ]
  },
  {
   "cell_type": "code",
   "execution_count": 3,
   "metadata": {
    "collapsed": true,
    "pycharm": {
     "name": "#%%\n"
    }
   },
   "outputs": [],
   "source": [
    "def check_missing(data,output_path=None):    \n",
    "    result = pd.concat([data.isnull().sum(),data.isnull().mean()],axis=1)\n",
    "    result = result.rename(index=str,columns={0:'total missing',1:'proportion'})\n",
    "    if output_path is not None:\n",
    "        result.to_csv(output_path+'missing.csv')\n",
    "        print(output_path, 'missing.csv')\n",
    "    return result"
   ]
  },
  {
   "cell_type": "code",
   "execution_count": 4,
   "metadata": {
    "pycharm": {
     "name": "#%%\n"
    }
   },
   "outputs": [
    {
     "data": {
      "text/plain": "          total missing  proportion\nSurvived              0    0.000000\nPclass                0    0.000000\nSex                   0    0.000000\nAge                 177    0.198653\nSibSp                 0    0.000000\nFare                  0    0.000000",
      "text/html": "<div>\n<style scoped>\n    .dataframe tbody tr th:only-of-type {\n        vertical-align: middle;\n    }\n\n    .dataframe tbody tr th {\n        vertical-align: top;\n    }\n\n    .dataframe thead th {\n        text-align: right;\n    }\n</style>\n<table border=\"1\" class=\"dataframe\">\n  <thead>\n    <tr style=\"text-align: right;\">\n      <th></th>\n      <th>total missing</th>\n      <th>proportion</th>\n    </tr>\n  </thead>\n  <tbody>\n    <tr>\n      <th>Survived</th>\n      <td>0</td>\n      <td>0.000000</td>\n    </tr>\n    <tr>\n      <th>Pclass</th>\n      <td>0</td>\n      <td>0.000000</td>\n    </tr>\n    <tr>\n      <th>Sex</th>\n      <td>0</td>\n      <td>0.000000</td>\n    </tr>\n    <tr>\n      <th>Age</th>\n      <td>177</td>\n      <td>0.198653</td>\n    </tr>\n    <tr>\n      <th>SibSp</th>\n      <td>0</td>\n      <td>0.000000</td>\n    </tr>\n    <tr>\n      <th>Fare</th>\n      <td>0</td>\n      <td>0.000000</td>\n    </tr>\n  </tbody>\n</table>\n</div>"
     },
     "execution_count": 4,
     "metadata": {},
     "output_type": "execute_result"
    }
   ],
   "source": [
    "check_missing(data=data)"
   ]
  },
  {
   "cell_type": "markdown",
   "metadata": {
    "pycharm": {
     "name": "#%% md\n"
    }
   },
   "source": [
    "Удаление пропущенных значений - самый простой подход к обработке пропущенных значений, но не всегда то что нам необходимо:\n",
    "\n",
    "Минусы:\n",
    "- Большинство алгоритмов работают по принципу - чем больше данных тем лучше, удаляя данные мы удаляем важную информацию для алгоритма\n",
    "\n",
    "Плюсы:\n",
    "- Плюсов нет :)"
   ]
  },
  {
   "cell_type": "code",
   "execution_count": 5,
   "metadata": {
    "collapsed": true,
    "pycharm": {
     "name": "#%%\n"
    }
   },
   "outputs": [],
   "source": [
    "def drop_missing(data,axis=0):\n",
    "    data_copy = data.copy(deep=True)\n",
    "    data_copy = data_copy.dropna(axis=axis,inplace=False)\n",
    "    return data_copy"
   ]
  },
  {
   "cell_type": "code",
   "execution_count": 6,
   "metadata": {
    "pycharm": {
     "name": "#%%\n"
    }
   },
   "outputs": [
    {
     "data": {
      "text/plain": "(714, 6)"
     },
     "execution_count": 6,
     "metadata": {},
     "output_type": "execute_result"
    }
   ],
   "source": [
    "data2 = drop_missing(data=data)\n",
    "data2.shape"
   ]
  },
  {
   "cell_type": "markdown",
   "metadata": {
    "pycharm": {
     "name": "#%% md\n"
    }
   },
   "source": [
    "Добавление переменной оценки пропущенных значений\n",
    "\n",
    "Плюсы:\n",
    "- Не портим датасет, просто добавляем переменную которая характеризует наш признак\n",
    "\n",
    "Минусы:\n",
    "- Расширяем наше пространство признаков, что плохо, так как это бесполезный признак"
   ]
  },
  {
   "cell_type": "code",
   "execution_count": 7,
   "metadata": {
    "collapsed": true,
    "pycharm": {
     "name": "#%%\n"
    }
   },
   "outputs": [],
   "source": [
    "def add_var_denote_NA(data,NA_col=[]):\n",
    "    data_copy = data.copy(deep=True)\n",
    "    for i in NA_col:\n",
    "        if data_copy[i].isnull().sum()>0:\n",
    "            data_copy[i+'_is_NA'] = np.where(data_copy[i].isnull(),1,0)\n",
    "        else:\n",
    "            warnings.warn(\"Нет пропущенных значений\" % i)\n",
    "    return data_copy"
   ]
  },
  {
   "cell_type": "code",
   "execution_count": 8,
   "metadata": {
    "pycharm": {
     "name": "#%%\n"
    }
   },
   "outputs": [
    {
     "name": "stdout",
     "output_type": "stream",
     "text": [
      "0    714\n",
      "1    177\n",
      "Name: Age_is_NA, dtype: int64\n"
     ]
    },
    {
     "data": {
      "text/plain": "   Survived  Pclass     Sex   Age  SibSp     Fare  Age_is_NA\n0         0       3    male  22.0      1   7.2500          0\n1         1       1  female  38.0      1  71.2833          0\n2         1       3  female  26.0      0   7.9250          0\n3         1       1  female  35.0      1  53.1000          0\n4         0       3    male  35.0      0   8.0500          0\n5         0       3    male   NaN      0   8.4583          1\n6         0       1    male  54.0      0  51.8625          0\n7         0       3    male   2.0      3  21.0750          0",
      "text/html": "<div>\n<style scoped>\n    .dataframe tbody tr th:only-of-type {\n        vertical-align: middle;\n    }\n\n    .dataframe tbody tr th {\n        vertical-align: top;\n    }\n\n    .dataframe thead th {\n        text-align: right;\n    }\n</style>\n<table border=\"1\" class=\"dataframe\">\n  <thead>\n    <tr style=\"text-align: right;\">\n      <th></th>\n      <th>Survived</th>\n      <th>Pclass</th>\n      <th>Sex</th>\n      <th>Age</th>\n      <th>SibSp</th>\n      <th>Fare</th>\n      <th>Age_is_NA</th>\n    </tr>\n  </thead>\n  <tbody>\n    <tr>\n      <th>0</th>\n      <td>0</td>\n      <td>3</td>\n      <td>male</td>\n      <td>22.0</td>\n      <td>1</td>\n      <td>7.2500</td>\n      <td>0</td>\n    </tr>\n    <tr>\n      <th>1</th>\n      <td>1</td>\n      <td>1</td>\n      <td>female</td>\n      <td>38.0</td>\n      <td>1</td>\n      <td>71.2833</td>\n      <td>0</td>\n    </tr>\n    <tr>\n      <th>2</th>\n      <td>1</td>\n      <td>3</td>\n      <td>female</td>\n      <td>26.0</td>\n      <td>0</td>\n      <td>7.9250</td>\n      <td>0</td>\n    </tr>\n    <tr>\n      <th>3</th>\n      <td>1</td>\n      <td>1</td>\n      <td>female</td>\n      <td>35.0</td>\n      <td>1</td>\n      <td>53.1000</td>\n      <td>0</td>\n    </tr>\n    <tr>\n      <th>4</th>\n      <td>0</td>\n      <td>3</td>\n      <td>male</td>\n      <td>35.0</td>\n      <td>0</td>\n      <td>8.0500</td>\n      <td>0</td>\n    </tr>\n    <tr>\n      <th>5</th>\n      <td>0</td>\n      <td>3</td>\n      <td>male</td>\n      <td>NaN</td>\n      <td>0</td>\n      <td>8.4583</td>\n      <td>1</td>\n    </tr>\n    <tr>\n      <th>6</th>\n      <td>0</td>\n      <td>1</td>\n      <td>male</td>\n      <td>54.0</td>\n      <td>0</td>\n      <td>51.8625</td>\n      <td>0</td>\n    </tr>\n    <tr>\n      <th>7</th>\n      <td>0</td>\n      <td>3</td>\n      <td>male</td>\n      <td>2.0</td>\n      <td>3</td>\n      <td>21.0750</td>\n      <td>0</td>\n    </tr>\n  </tbody>\n</table>\n</div>"
     },
     "execution_count": 8,
     "metadata": {},
     "output_type": "execute_result"
    }
   ],
   "source": [
    "data3 = add_var_denote_NA(data=data,NA_col=['Age'])\n",
    "print(data3.Age_is_NA.value_counts())\n",
    "data3.head(8)"
   ]
  },
  {
   "cell_type": "markdown",
   "metadata": {
    "pycharm": {
     "name": "#%% md\n"
    }
   },
   "source": [
    "Заполнение пропусков выборочным значением"
   ]
  },
  {
   "cell_type": "code",
   "execution_count": 9,
   "metadata": {
    "collapsed": true,
    "pycharm": {
     "name": "#%%\n"
    }
   },
   "outputs": [],
   "source": [
    "def impute_NA_with_arbitrary(data,impute_value,NA_col=[]):  \n",
    "    data_copy = data.copy(deep=True)\n",
    "    for i in NA_col:\n",
    "        if data_copy[i].isnull().sum()>0:\n",
    "            data_copy[i+'_'+str(impute_value)] = data_copy[i].fillna(impute_value)\n",
    "        else:\n",
    "            warnings.warn(\"Нет пропущенных значений\" % i)\n",
    "    return data_copy"
   ]
  },
  {
   "cell_type": "code",
   "execution_count": 10,
   "metadata": {
    "pycharm": {
     "name": "#%%\n"
    }
   },
   "outputs": [
    {
     "data": {
      "text/plain": "   Survived  Pclass     Sex   Age  SibSp     Fare  Age_-999\n0         0       3    male  22.0      1   7.2500      22.0\n1         1       1  female  38.0      1  71.2833      38.0\n2         1       3  female  26.0      0   7.9250      26.0\n3         1       1  female  35.0      1  53.1000      35.0\n4         0       3    male  35.0      0   8.0500      35.0\n5         0       3    male   NaN      0   8.4583    -999.0\n6         0       1    male  54.0      0  51.8625      54.0\n7         0       3    male   2.0      3  21.0750       2.0",
      "text/html": "<div>\n<style scoped>\n    .dataframe tbody tr th:only-of-type {\n        vertical-align: middle;\n    }\n\n    .dataframe tbody tr th {\n        vertical-align: top;\n    }\n\n    .dataframe thead th {\n        text-align: right;\n    }\n</style>\n<table border=\"1\" class=\"dataframe\">\n  <thead>\n    <tr style=\"text-align: right;\">\n      <th></th>\n      <th>Survived</th>\n      <th>Pclass</th>\n      <th>Sex</th>\n      <th>Age</th>\n      <th>SibSp</th>\n      <th>Fare</th>\n      <th>Age_-999</th>\n    </tr>\n  </thead>\n  <tbody>\n    <tr>\n      <th>0</th>\n      <td>0</td>\n      <td>3</td>\n      <td>male</td>\n      <td>22.0</td>\n      <td>1</td>\n      <td>7.2500</td>\n      <td>22.0</td>\n    </tr>\n    <tr>\n      <th>1</th>\n      <td>1</td>\n      <td>1</td>\n      <td>female</td>\n      <td>38.0</td>\n      <td>1</td>\n      <td>71.2833</td>\n      <td>38.0</td>\n    </tr>\n    <tr>\n      <th>2</th>\n      <td>1</td>\n      <td>3</td>\n      <td>female</td>\n      <td>26.0</td>\n      <td>0</td>\n      <td>7.9250</td>\n      <td>26.0</td>\n    </tr>\n    <tr>\n      <th>3</th>\n      <td>1</td>\n      <td>1</td>\n      <td>female</td>\n      <td>35.0</td>\n      <td>1</td>\n      <td>53.1000</td>\n      <td>35.0</td>\n    </tr>\n    <tr>\n      <th>4</th>\n      <td>0</td>\n      <td>3</td>\n      <td>male</td>\n      <td>35.0</td>\n      <td>0</td>\n      <td>8.0500</td>\n      <td>35.0</td>\n    </tr>\n    <tr>\n      <th>5</th>\n      <td>0</td>\n      <td>3</td>\n      <td>male</td>\n      <td>NaN</td>\n      <td>0</td>\n      <td>8.4583</td>\n      <td>-999.0</td>\n    </tr>\n    <tr>\n      <th>6</th>\n      <td>0</td>\n      <td>1</td>\n      <td>male</td>\n      <td>54.0</td>\n      <td>0</td>\n      <td>51.8625</td>\n      <td>54.0</td>\n    </tr>\n    <tr>\n      <th>7</th>\n      <td>0</td>\n      <td>3</td>\n      <td>male</td>\n      <td>2.0</td>\n      <td>3</td>\n      <td>21.0750</td>\n      <td>2.0</td>\n    </tr>\n  </tbody>\n</table>\n</div>"
     },
     "execution_count": 10,
     "metadata": {},
     "output_type": "execute_result"
    }
   ],
   "source": [
    "data4 = impute_NA_with_arbitrary(data=data,impute_value=-999,NA_col=['Age'])\n",
    "data4.head(8)"
   ]
  },
  {
   "cell_type": "markdown",
   "metadata": {
    "pycharm": {
     "name": "#%% md\n"
    }
   },
   "source": [
    "Заполнение пропущенных значений средним/медианой/модой"
   ]
  },
  {
   "cell_type": "code",
   "execution_count": 11,
   "metadata": {
    "collapsed": true,
    "pycharm": {
     "name": "#%%\n"
    }
   },
   "outputs": [],
   "source": [
    "def impute_NA_with_avg(data,strategy='mean',NA_col=[]):\n",
    "    data_copy = data.copy(deep=True)\n",
    "    for i in NA_col:\n",
    "        if data_copy[i].isnull().sum()>0:\n",
    "            if strategy=='mean':\n",
    "                data_copy[i+'_impute_mean'] = data_copy[i].fillna(data[i].mean())\n",
    "            elif strategy=='median':\n",
    "                data_copy[i+'_impute_median'] = data_copy[i].fillna(data[i].median())\n",
    "            elif strategy=='mode':\n",
    "                data_copy[i+'_impute_mode'] = data_copy[i].fillna(data[i].mode()[0])\n",
    "        else:\n",
    "            warnings.warn(\"Нет пропущенных значений\" % i)\n",
    "    return data_copy  "
   ]
  },
  {
   "cell_type": "code",
   "execution_count": 12,
   "metadata": {
    "pycharm": {
     "name": "#%%\n"
    }
   },
   "outputs": [
    {
     "name": "stdout",
     "output_type": "stream",
     "text": [
      "28.0\n"
     ]
    },
    {
     "data": {
      "text/plain": "   Survived  Pclass     Sex   Age  SibSp     Fare  Age_impute_median\n0         0       3    male  22.0      1   7.2500               22.0\n1         1       1  female  38.0      1  71.2833               38.0\n2         1       3  female  26.0      0   7.9250               26.0\n3         1       1  female  35.0      1  53.1000               35.0\n4         0       3    male  35.0      0   8.0500               35.0\n5         0       3    male   NaN      0   8.4583               28.0\n6         0       1    male  54.0      0  51.8625               54.0\n7         0       3    male   2.0      3  21.0750                2.0",
      "text/html": "<div>\n<style scoped>\n    .dataframe tbody tr th:only-of-type {\n        vertical-align: middle;\n    }\n\n    .dataframe tbody tr th {\n        vertical-align: top;\n    }\n\n    .dataframe thead th {\n        text-align: right;\n    }\n</style>\n<table border=\"1\" class=\"dataframe\">\n  <thead>\n    <tr style=\"text-align: right;\">\n      <th></th>\n      <th>Survived</th>\n      <th>Pclass</th>\n      <th>Sex</th>\n      <th>Age</th>\n      <th>SibSp</th>\n      <th>Fare</th>\n      <th>Age_impute_median</th>\n    </tr>\n  </thead>\n  <tbody>\n    <tr>\n      <th>0</th>\n      <td>0</td>\n      <td>3</td>\n      <td>male</td>\n      <td>22.0</td>\n      <td>1</td>\n      <td>7.2500</td>\n      <td>22.0</td>\n    </tr>\n    <tr>\n      <th>1</th>\n      <td>1</td>\n      <td>1</td>\n      <td>female</td>\n      <td>38.0</td>\n      <td>1</td>\n      <td>71.2833</td>\n      <td>38.0</td>\n    </tr>\n    <tr>\n      <th>2</th>\n      <td>1</td>\n      <td>3</td>\n      <td>female</td>\n      <td>26.0</td>\n      <td>0</td>\n      <td>7.9250</td>\n      <td>26.0</td>\n    </tr>\n    <tr>\n      <th>3</th>\n      <td>1</td>\n      <td>1</td>\n      <td>female</td>\n      <td>35.0</td>\n      <td>1</td>\n      <td>53.1000</td>\n      <td>35.0</td>\n    </tr>\n    <tr>\n      <th>4</th>\n      <td>0</td>\n      <td>3</td>\n      <td>male</td>\n      <td>35.0</td>\n      <td>0</td>\n      <td>8.0500</td>\n      <td>35.0</td>\n    </tr>\n    <tr>\n      <th>5</th>\n      <td>0</td>\n      <td>3</td>\n      <td>male</td>\n      <td>NaN</td>\n      <td>0</td>\n      <td>8.4583</td>\n      <td>28.0</td>\n    </tr>\n    <tr>\n      <th>6</th>\n      <td>0</td>\n      <td>1</td>\n      <td>male</td>\n      <td>54.0</td>\n      <td>0</td>\n      <td>51.8625</td>\n      <td>54.0</td>\n    </tr>\n    <tr>\n      <th>7</th>\n      <td>0</td>\n      <td>3</td>\n      <td>male</td>\n      <td>2.0</td>\n      <td>3</td>\n      <td>21.0750</td>\n      <td>2.0</td>\n    </tr>\n  </tbody>\n</table>\n</div>"
     },
     "execution_count": 12,
     "metadata": {},
     "output_type": "execute_result"
    }
   ],
   "source": [
    "print(data.Age.median())\n",
    "data5 = impute_NA_with_avg(data=data,strategy='median',NA_col=['Age'])\n",
    "data5.head(8)"
   ]
  },
  {
   "cell_type": "markdown",
   "metadata": {
    "pycharm": {
     "name": "#%% md\n"
    }
   },
   "source": [
    "Заполнение пропусков значением из \"хвоста\" распределения"
   ]
  },
  {
   "cell_type": "code",
   "execution_count": 13,
   "metadata": {
    "collapsed": true,
    "pycharm": {
     "name": "#%%\n"
    }
   },
   "outputs": [],
   "source": [
    "def impute_NA_with_end_of_distribution(data,NA_col=[]):\n",
    "    data_copy = data.copy(deep=True)\n",
    "    for i in NA_col:\n",
    "        if data_copy[i].isnull().sum()>0:\n",
    "            data_copy[i+'_impute_end_of_distri'] = data_copy[i].fillna(data[i].mean()+3*data[i].std())\n",
    "        else:\n",
    "            warnings.warn(\"Нет пропущенных значений\" % i)\n",
    "    return data_copy     "
   ]
  },
  {
   "cell_type": "code",
   "execution_count": 14,
   "metadata": {
    "pycharm": {
     "name": "#%%\n"
    }
   },
   "outputs": [
    {
     "data": {
      "text/plain": "   Survived  Pclass     Sex   Age  SibSp     Fare  Age_impute_end_of_distri\n0         0       3    male  22.0      1   7.2500                  22.00000\n1         1       1  female  38.0      1  71.2833                  38.00000\n2         1       3  female  26.0      0   7.9250                  26.00000\n3         1       1  female  35.0      1  53.1000                  35.00000\n4         0       3    male  35.0      0   8.0500                  35.00000\n5         0       3    male   NaN      0   8.4583                  73.27861\n6         0       1    male  54.0      0  51.8625                  54.00000\n7         0       3    male   2.0      3  21.0750                   2.00000",
      "text/html": "<div>\n<style scoped>\n    .dataframe tbody tr th:only-of-type {\n        vertical-align: middle;\n    }\n\n    .dataframe tbody tr th {\n        vertical-align: top;\n    }\n\n    .dataframe thead th {\n        text-align: right;\n    }\n</style>\n<table border=\"1\" class=\"dataframe\">\n  <thead>\n    <tr style=\"text-align: right;\">\n      <th></th>\n      <th>Survived</th>\n      <th>Pclass</th>\n      <th>Sex</th>\n      <th>Age</th>\n      <th>SibSp</th>\n      <th>Fare</th>\n      <th>Age_impute_end_of_distri</th>\n    </tr>\n  </thead>\n  <tbody>\n    <tr>\n      <th>0</th>\n      <td>0</td>\n      <td>3</td>\n      <td>male</td>\n      <td>22.0</td>\n      <td>1</td>\n      <td>7.2500</td>\n      <td>22.00000</td>\n    </tr>\n    <tr>\n      <th>1</th>\n      <td>1</td>\n      <td>1</td>\n      <td>female</td>\n      <td>38.0</td>\n      <td>1</td>\n      <td>71.2833</td>\n      <td>38.00000</td>\n    </tr>\n    <tr>\n      <th>2</th>\n      <td>1</td>\n      <td>3</td>\n      <td>female</td>\n      <td>26.0</td>\n      <td>0</td>\n      <td>7.9250</td>\n      <td>26.00000</td>\n    </tr>\n    <tr>\n      <th>3</th>\n      <td>1</td>\n      <td>1</td>\n      <td>female</td>\n      <td>35.0</td>\n      <td>1</td>\n      <td>53.1000</td>\n      <td>35.00000</td>\n    </tr>\n    <tr>\n      <th>4</th>\n      <td>0</td>\n      <td>3</td>\n      <td>male</td>\n      <td>35.0</td>\n      <td>0</td>\n      <td>8.0500</td>\n      <td>35.00000</td>\n    </tr>\n    <tr>\n      <th>5</th>\n      <td>0</td>\n      <td>3</td>\n      <td>male</td>\n      <td>NaN</td>\n      <td>0</td>\n      <td>8.4583</td>\n      <td>73.27861</td>\n    </tr>\n    <tr>\n      <th>6</th>\n      <td>0</td>\n      <td>1</td>\n      <td>male</td>\n      <td>54.0</td>\n      <td>0</td>\n      <td>51.8625</td>\n      <td>54.00000</td>\n    </tr>\n    <tr>\n      <th>7</th>\n      <td>0</td>\n      <td>3</td>\n      <td>male</td>\n      <td>2.0</td>\n      <td>3</td>\n      <td>21.0750</td>\n      <td>2.00000</td>\n    </tr>\n  </tbody>\n</table>\n</div>"
     },
     "execution_count": 14,
     "metadata": {},
     "output_type": "execute_result"
    }
   ],
   "source": [
    "data6 = impute_NA_with_end_of_distribution(data=data,NA_col=['Age'])\n",
    "data6.head(8)"
   ]
  },
  {
   "cell_type": "markdown",
   "metadata": {
    "pycharm": {
     "name": "#%% md\n"
    }
   },
   "source": [
    "Заполнение пропусков случайными значениями"
   ]
  },
  {
   "cell_type": "code",
   "execution_count": 15,
   "metadata": {
    "collapsed": true,
    "pycharm": {
     "name": "#%%\n"
    }
   },
   "outputs": [],
   "source": [
    "def impute_NA_with_random(data,NA_col=[],random_state=0):\n",
    "    data_copy = data.copy(deep=True)\n",
    "    for i in NA_col:\n",
    "        if data_copy[i].isnull().sum()>0:\n",
    "            data_copy[i+'_random'] = data_copy[i]\n",
    "            random_sample = data_copy[i].dropna().sample(data_copy[i].isnull().sum(), random_state=random_state)\n",
    "            random_sample.index = data_copy[data_copy[i].isnull()].index\n",
    "            data_copy.loc[data_copy[i].isnull(), str(i)+'_random'] = random_sample\n",
    "        else:\n",
    "            warnings.warn(\"Нет пропущенных значений\" % i)\n",
    "    return data_copy "
   ]
  },
  {
   "cell_type": "code",
   "execution_count": 16,
   "metadata": {
    "pycharm": {
     "name": "#%%\n"
    }
   },
   "outputs": [
    {
     "data": {
      "text/plain": "   Survived  Pclass     Sex   Age  SibSp     Fare  Age_random\n0         0       3    male  22.0      1   7.2500        22.0\n1         1       1  female  38.0      1  71.2833        38.0\n2         1       3  female  26.0      0   7.9250        26.0\n3         1       1  female  35.0      1  53.1000        35.0\n4         0       3    male  35.0      0   8.0500        35.0\n5         0       3    male   NaN      0   8.4583        28.0\n6         0       1    male  54.0      0  51.8625        54.0\n7         0       3    male   2.0      3  21.0750         2.0",
      "text/html": "<div>\n<style scoped>\n    .dataframe tbody tr th:only-of-type {\n        vertical-align: middle;\n    }\n\n    .dataframe tbody tr th {\n        vertical-align: top;\n    }\n\n    .dataframe thead th {\n        text-align: right;\n    }\n</style>\n<table border=\"1\" class=\"dataframe\">\n  <thead>\n    <tr style=\"text-align: right;\">\n      <th></th>\n      <th>Survived</th>\n      <th>Pclass</th>\n      <th>Sex</th>\n      <th>Age</th>\n      <th>SibSp</th>\n      <th>Fare</th>\n      <th>Age_random</th>\n    </tr>\n  </thead>\n  <tbody>\n    <tr>\n      <th>0</th>\n      <td>0</td>\n      <td>3</td>\n      <td>male</td>\n      <td>22.0</td>\n      <td>1</td>\n      <td>7.2500</td>\n      <td>22.0</td>\n    </tr>\n    <tr>\n      <th>1</th>\n      <td>1</td>\n      <td>1</td>\n      <td>female</td>\n      <td>38.0</td>\n      <td>1</td>\n      <td>71.2833</td>\n      <td>38.0</td>\n    </tr>\n    <tr>\n      <th>2</th>\n      <td>1</td>\n      <td>3</td>\n      <td>female</td>\n      <td>26.0</td>\n      <td>0</td>\n      <td>7.9250</td>\n      <td>26.0</td>\n    </tr>\n    <tr>\n      <th>3</th>\n      <td>1</td>\n      <td>1</td>\n      <td>female</td>\n      <td>35.0</td>\n      <td>1</td>\n      <td>53.1000</td>\n      <td>35.0</td>\n    </tr>\n    <tr>\n      <th>4</th>\n      <td>0</td>\n      <td>3</td>\n      <td>male</td>\n      <td>35.0</td>\n      <td>0</td>\n      <td>8.0500</td>\n      <td>35.0</td>\n    </tr>\n    <tr>\n      <th>5</th>\n      <td>0</td>\n      <td>3</td>\n      <td>male</td>\n      <td>NaN</td>\n      <td>0</td>\n      <td>8.4583</td>\n      <td>28.0</td>\n    </tr>\n    <tr>\n      <th>6</th>\n      <td>0</td>\n      <td>1</td>\n      <td>male</td>\n      <td>54.0</td>\n      <td>0</td>\n      <td>51.8625</td>\n      <td>54.0</td>\n    </tr>\n    <tr>\n      <th>7</th>\n      <td>0</td>\n      <td>3</td>\n      <td>male</td>\n      <td>2.0</td>\n      <td>3</td>\n      <td>21.0750</td>\n      <td>2.0</td>\n    </tr>\n  </tbody>\n</table>\n</div>"
     },
     "execution_count": 16,
     "metadata": {},
     "output_type": "execute_result"
    }
   ],
   "source": [
    "data7 = impute_NA_with_random(data=data,NA_col=['Age'])\n",
    "data7.head(8)"
   ]
  },
  {
   "cell_type": "markdown",
   "metadata": {
    "pycharm": {
     "name": "#%% md\n"
    }
   },
   "source": [
    "## Выбросы"
   ]
  },
  {
   "cell_type": "markdown",
   "metadata": {
    "pycharm": {
     "name": "#%% md\n"
    }
   },
   "source": [
    "Детекция с помощью выборочных значений"
   ]
  },
  {
   "cell_type": "code",
   "execution_count": 17,
   "metadata": {
    "collapsed": true,
    "pycharm": {
     "name": "#%%\n"
    }
   },
   "outputs": [],
   "source": [
    "def outlier_detect_arbitrary(data,col,upper_fence,lower_fence):\n",
    "    para = (upper_fence, lower_fence)\n",
    "    tmp = pd.concat([data[col]>upper_fence,data[col]<lower_fence],axis=1)\n",
    "    outlier_index = tmp.any(axis=1)\n",
    "    print('Количество выбросов в данных:',outlier_index.value_counts()[1])\n",
    "    print('Доля выбросов:',outlier_index.value_counts()[1]/len(outlier_index))    \n",
    "    return outlier_index, para"
   ]
  },
  {
   "cell_type": "code",
   "execution_count": 18,
   "metadata": {
    "pycharm": {
     "name": "#%%\n"
    }
   },
   "outputs": [
    {
     "name": "stdout",
     "output_type": "stream",
     "text": [
      "Количество выбросов в данных: 69\n",
      "Доля выбросов: 0.07744107744107744\n",
      "Верхняя граница: 100 \n",
      "Нижняя граница: 5\n"
     ]
    }
   ],
   "source": [
    "index,para = outlier_detect_arbitrary(data=data,col='Fare',upper_fence=100,lower_fence=5)\n",
    "print('Верхняя граница:',para[0],'\\nНижняя граница:',para[1])"
   ]
  },
  {
   "cell_type": "code",
   "execution_count": 19,
   "metadata": {
    "pycharm": {
     "name": "#%%\n"
    }
   },
   "outputs": [
    {
     "data": {
      "text/plain": "597      0.0000\n413      0.0000\n822      0.0000\n732      0.0000\n302      0.0000\n         ...   \n88     263.0000\n27     263.0000\n737    512.3292\n258    512.3292\n679    512.3292\nName: Fare, Length: 69, dtype: float64"
     },
     "execution_count": 19,
     "metadata": {},
     "output_type": "execute_result"
    }
   ],
   "source": [
    "data.loc[index,'Fare'].sort_values()"
   ]
  },
  {
   "cell_type": "markdown",
   "metadata": {
    "pycharm": {
     "name": "#%% md\n"
    }
   },
   "source": [
    "Интерквартильное расстояние"
   ]
  },
  {
   "cell_type": "code",
   "execution_count": 20,
   "metadata": {
    "collapsed": true,
    "pycharm": {
     "name": "#%%\n"
    }
   },
   "outputs": [],
   "source": [
    "def outlier_detect_IQR(data,col,threshold=3):    \n",
    "    IQR = data[col].quantile(0.75) - data[col].quantile(0.25)\n",
    "    Lower_fence = data[col].quantile(0.25) - (IQR * threshold)\n",
    "    Upper_fence = data[col].quantile(0.75) + (IQR * threshold)\n",
    "    para = (Upper_fence, Lower_fence)\n",
    "    tmp = pd.concat([data[col]>Upper_fence,data[col]<Lower_fence],axis=1)\n",
    "    outlier_index = tmp.any(axis=1)\n",
    "    print('Количество выбросов в данных:',outlier_index.value_counts()[1])\n",
    "    print('Доля выбросов:',outlier_index.value_counts()[1]/len(outlier_index))\n",
    "    return outlier_index, para"
   ]
  },
  {
   "cell_type": "code",
   "execution_count": 21,
   "metadata": {
    "pycharm": {
     "name": "#%%\n"
    }
   },
   "outputs": [
    {
     "name": "stdout",
     "output_type": "stream",
     "text": [
      "Количество выбросов в данных: 31\n",
      "Доля выбросов: 0.03479236812570146\n",
      "Верхняя граница: 146.448 \n",
      "Нижняя граница: -107.53760000000001\n"
     ]
    }
   ],
   "source": [
    "index,para = outlier_detect_IQR(data=data, col='Fare',threshold=5)\n",
    "print('Верхняя граница:',para[0],'\\nНижняя граница:',para[1])"
   ]
  },
  {
   "cell_type": "code",
   "execution_count": 22,
   "metadata": {
    "pycharm": {
     "name": "#%%\n"
    }
   },
   "outputs": [
    {
     "data": {
      "text/plain": "31     146.5208\n195    146.5208\n305    151.5500\n708    151.5500\n297    151.5500\n498    151.5500\n609    153.4625\n332    153.4625\n268    153.4625\n318    164.8667\n856    164.8667\n730    211.3375\n779    211.3375\n689    211.3375\n377    211.5000\n527    221.7792\n700    227.5250\n716    227.5250\n557    227.5250\n380    227.5250\n299    247.5208\n118    247.5208\n311    262.3750\n742    262.3750\n341    263.0000\n88     263.0000\n438    263.0000\n27     263.0000\n679    512.3292\n258    512.3292\n737    512.3292\nName: Fare, dtype: float64"
     },
     "execution_count": 22,
     "metadata": {},
     "output_type": "execute_result"
    }
   ],
   "source": [
    "data.loc[index,'Fare'].sort_values()"
   ]
  },
  {
   "cell_type": "markdown",
   "metadata": {
    "pycharm": {
     "name": "#%% md\n"
    }
   },
   "source": [
    "Среднее-среднеквадратичное отклонение"
   ]
  },
  {
   "cell_type": "code",
   "execution_count": 23,
   "metadata": {
    "collapsed": true,
    "pycharm": {
     "name": "#%%\n"
    }
   },
   "outputs": [],
   "source": [
    "def outlier_detect_mean_std(data,col,threshold=3):\n",
    "    Upper_fence = data[col].mean() + threshold * data[col].std()\n",
    "    Lower_fence = data[col].mean() - threshold * data[col].std()   \n",
    "    para = (Upper_fence, Lower_fence)   \n",
    "    tmp = pd.concat([data[col]>Upper_fence,data[col]<Lower_fence],axis=1)\n",
    "    outlier_index = tmp.any(axis=1)\n",
    "    print('Количество выбросов в данных:',outlier_index.value_counts()[1])\n",
    "    print('Доля выбросов:',outlier_index.value_counts()[1]/len(outlier_index))\n",
    "    return outlier_index, para"
   ]
  },
  {
   "cell_type": "code",
   "execution_count": 24,
   "metadata": {
    "pycharm": {
     "name": "#%%\n"
    }
   },
   "outputs": [
    {
     "name": "stdout",
     "output_type": "stream",
     "text": [
      "Количество выбросов в данных: 20\n",
      "Доля выбросов: 0.02244668911335578\n",
      "Верхняя граница: 181.2844937601173 \n",
      "Нижняя граница: -116.87607782296804\n"
     ]
    }
   ],
   "source": [
    "index,para = outlier_detect_mean_std(data=data,col='Fare',threshold=3)\n",
    "print('Верхняя граница:',para[0],'\\nНижняя граница:',para[1])"
   ]
  },
  {
   "cell_type": "code",
   "execution_count": 25,
   "metadata": {
    "pycharm": {
     "name": "#%%\n"
    }
   },
   "outputs": [
    {
     "data": {
      "text/plain": "779    211.3375\n730    211.3375\n689    211.3375\n377    211.5000\n527    221.7792\n716    227.5250\n700    227.5250\n380    227.5250\n557    227.5250\n118    247.5208\n299    247.5208\n311    262.3750\n742    262.3750\n27     263.0000\n341    263.0000\n88     263.0000\n438    263.0000\n258    512.3292\n737    512.3292\n679    512.3292\nName: Fare, dtype: float64"
     },
     "execution_count": 25,
     "metadata": {},
     "output_type": "execute_result"
    }
   ],
   "source": [
    "data.loc[index,'Fare'].sort_values()"
   ]
  },
  {
   "cell_type": "markdown",
   "metadata": {
    "pycharm": {
     "name": "#%% md\n"
    }
   },
   "source": [
    "Медианы абсолютного отклонения (MAD) "
   ]
  },
  {
   "cell_type": "code",
   "execution_count": 26,
   "metadata": {
    "collapsed": true,
    "pycharm": {
     "name": "#%%\n"
    }
   },
   "outputs": [],
   "source": [
    "def outlier_detect_MAD(data,col,threshold=3.5):\n",
    "    median = data[col].median()\n",
    "    median_absolute_deviation = np.median([np.abs(y - median) for y in data[col]])\n",
    "    modified_z_scores = pd.Series([0.6745 * (y - median) / median_absolute_deviation for y in data[col]])\n",
    "    outlier_index = np.abs(modified_z_scores) > threshold\n",
    "    print('Количество выбросов в данных:',outlier_index.value_counts()[1])\n",
    "    print('Доля выбросов:',outlier_index.value_counts()[1]/len(outlier_index))\n",
    "    return outlier_index"
   ]
  },
  {
   "cell_type": "code",
   "execution_count": 27,
   "metadata": {
    "pycharm": {
     "name": "#%%\n"
    }
   },
   "outputs": [
    {
     "name": "stdout",
     "output_type": "stream",
     "text": [
      "Количество выбросов в данных: 160\n",
      "Доля выбросов: 0.17957351290684623\n"
     ]
    }
   ],
   "source": [
    "index = outlier_detect_MAD(data=data,col='Fare',threshold=3.5)"
   ]
  },
  {
   "cell_type": "markdown",
   "metadata": {
    "pycharm": {
     "name": "#%% md\n"
    }
   },
   "source": [
    "Замена выброса выборочным значением"
   ]
  },
  {
   "cell_type": "code",
   "execution_count": 28,
   "metadata": {
    "collapsed": true,
    "pycharm": {
     "name": "#%%\n"
    }
   },
   "outputs": [],
   "source": [
    "def impute_outlier_with_arbitrary(data,outlier_index,value,col=[]):\n",
    "    data_copy = data.copy(deep=True)\n",
    "    for i in col:\n",
    "        data_copy.loc[outlier_index,i] = value\n",
    "    return data_copy"
   ]
  },
  {
   "cell_type": "code",
   "execution_count": 29,
   "metadata": {
    "pycharm": {
     "name": "#%%\n"
    }
   },
   "outputs": [
    {
     "data": {
      "text/plain": "    Survived  Pclass     Sex   Age  SibSp      Fare\n25         1       3  female  38.0      1   31.3875\n26         0       3    male   NaN      0    7.2250\n27         0       1    male  19.0      3 -999.0000\n28         1       3  female   NaN      0    7.8792\n29         0       3    male   NaN      0    7.8958\n30         0       1    male  40.0      0   27.7208\n31         1       1  female   NaN      1 -999.0000\n32         1       3  female   NaN      0    7.7500\n33         0       2    male  66.0      0   10.5000\n34         0       1    male  28.0      1 -999.0000",
      "text/html": "<div>\n<style scoped>\n    .dataframe tbody tr th:only-of-type {\n        vertical-align: middle;\n    }\n\n    .dataframe tbody tr th {\n        vertical-align: top;\n    }\n\n    .dataframe thead th {\n        text-align: right;\n    }\n</style>\n<table border=\"1\" class=\"dataframe\">\n  <thead>\n    <tr style=\"text-align: right;\">\n      <th></th>\n      <th>Survived</th>\n      <th>Pclass</th>\n      <th>Sex</th>\n      <th>Age</th>\n      <th>SibSp</th>\n      <th>Fare</th>\n    </tr>\n  </thead>\n  <tbody>\n    <tr>\n      <th>25</th>\n      <td>1</td>\n      <td>3</td>\n      <td>female</td>\n      <td>38.0</td>\n      <td>1</td>\n      <td>31.3875</td>\n    </tr>\n    <tr>\n      <th>26</th>\n      <td>0</td>\n      <td>3</td>\n      <td>male</td>\n      <td>NaN</td>\n      <td>0</td>\n      <td>7.2250</td>\n    </tr>\n    <tr>\n      <th>27</th>\n      <td>0</td>\n      <td>1</td>\n      <td>male</td>\n      <td>19.0</td>\n      <td>3</td>\n      <td>-999.0000</td>\n    </tr>\n    <tr>\n      <th>28</th>\n      <td>1</td>\n      <td>3</td>\n      <td>female</td>\n      <td>NaN</td>\n      <td>0</td>\n      <td>7.8792</td>\n    </tr>\n    <tr>\n      <th>29</th>\n      <td>0</td>\n      <td>3</td>\n      <td>male</td>\n      <td>NaN</td>\n      <td>0</td>\n      <td>7.8958</td>\n    </tr>\n    <tr>\n      <th>30</th>\n      <td>0</td>\n      <td>1</td>\n      <td>male</td>\n      <td>40.0</td>\n      <td>0</td>\n      <td>27.7208</td>\n    </tr>\n    <tr>\n      <th>31</th>\n      <td>1</td>\n      <td>1</td>\n      <td>female</td>\n      <td>NaN</td>\n      <td>1</td>\n      <td>-999.0000</td>\n    </tr>\n    <tr>\n      <th>32</th>\n      <td>1</td>\n      <td>3</td>\n      <td>female</td>\n      <td>NaN</td>\n      <td>0</td>\n      <td>7.7500</td>\n    </tr>\n    <tr>\n      <th>33</th>\n      <td>0</td>\n      <td>2</td>\n      <td>male</td>\n      <td>66.0</td>\n      <td>0</td>\n      <td>10.5000</td>\n    </tr>\n    <tr>\n      <th>34</th>\n      <td>0</td>\n      <td>1</td>\n      <td>male</td>\n      <td>28.0</td>\n      <td>1</td>\n      <td>-999.0000</td>\n    </tr>\n  </tbody>\n</table>\n</div>"
     },
     "execution_count": 29,
     "metadata": {},
     "output_type": "execute_result"
    }
   ],
   "source": [
    "data2 = impute_outlier_with_arbitrary(data=data,outlier_index=index,\n",
    "                                         value=-999,col=['Fare'])\n",
    "data2[25:35]"
   ]
  },
  {
   "cell_type": "markdown",
   "metadata": {
    "pycharm": {
     "name": "#%% md\n"
    }
   },
   "source": [
    "Виндзоризация"
   ]
  },
  {
   "cell_type": "markdown",
   "metadata": {
    "pycharm": {
     "name": "#%% md\n"
    }
   },
   "source": [
    "{92, 19, 101, 58, 1053, 91, 26, 78, 10, 13, −40, 101, 86, 85, 15, 89, 89, 28, −5, 41}  "
   ]
  },
  {
   "cell_type": "markdown",
   "metadata": {
    "pycharm": {
     "name": "#%% md\n"
    }
   },
   "source": [
    "{92, 19, 101, 58, 101, 91, 26, 78, 10, 13, −5, 101, 86, 85, 15, 89, 89, 28, −5, 41} "
   ]
  },
  {
   "cell_type": "code",
   "execution_count": 30,
   "metadata": {
    "collapsed": true,
    "pycharm": {
     "name": "#%%\n"
    }
   },
   "outputs": [],
   "source": [
    "def windsorization(data,col,para,strategy='both'):\n",
    "    data_copy = data.copy(deep=True)  \n",
    "    if strategy == 'both':\n",
    "        data_copy.loc[data_copy[col]>para[0],col] = para[0]\n",
    "        data_copy.loc[data_copy[col]<para[1],col] = para[1]\n",
    "    elif strategy == 'top':\n",
    "        data_copy.loc[data_copy[col]>para[0],col] = para[0]\n",
    "    elif strategy == 'bottom':\n",
    "        data_copy.loc[data_copy[col]<para[1],col] = para[1]  \n",
    "    return data_copy"
   ]
  },
  {
   "cell_type": "code",
   "execution_count": 31,
   "metadata": {
    "pycharm": {
     "name": "#%%\n"
    }
   },
   "outputs": [
    {
     "data": {
      "text/plain": "    Survived  Pclass     Sex   Age  SibSp        Fare\n25         1       3  female  38.0      1   31.387500\n26         0       3    male   NaN      0    7.225000\n27         0       1    male  19.0      3  181.284494\n28         1       3  female   NaN      0    7.879200\n29         0       3    male   NaN      0    7.895800\n30         0       1    male  40.0      0   27.720800\n31         1       1  female   NaN      1  146.520800\n32         1       3  female   NaN      0    7.750000\n33         0       2    male  66.0      0   10.500000\n34         0       1    male  28.0      1   82.170800",
      "text/html": "<div>\n<style scoped>\n    .dataframe tbody tr th:only-of-type {\n        vertical-align: middle;\n    }\n\n    .dataframe tbody tr th {\n        vertical-align: top;\n    }\n\n    .dataframe thead th {\n        text-align: right;\n    }\n</style>\n<table border=\"1\" class=\"dataframe\">\n  <thead>\n    <tr style=\"text-align: right;\">\n      <th></th>\n      <th>Survived</th>\n      <th>Pclass</th>\n      <th>Sex</th>\n      <th>Age</th>\n      <th>SibSp</th>\n      <th>Fare</th>\n    </tr>\n  </thead>\n  <tbody>\n    <tr>\n      <th>25</th>\n      <td>1</td>\n      <td>3</td>\n      <td>female</td>\n      <td>38.0</td>\n      <td>1</td>\n      <td>31.387500</td>\n    </tr>\n    <tr>\n      <th>26</th>\n      <td>0</td>\n      <td>3</td>\n      <td>male</td>\n      <td>NaN</td>\n      <td>0</td>\n      <td>7.225000</td>\n    </tr>\n    <tr>\n      <th>27</th>\n      <td>0</td>\n      <td>1</td>\n      <td>male</td>\n      <td>19.0</td>\n      <td>3</td>\n      <td>181.284494</td>\n    </tr>\n    <tr>\n      <th>28</th>\n      <td>1</td>\n      <td>3</td>\n      <td>female</td>\n      <td>NaN</td>\n      <td>0</td>\n      <td>7.879200</td>\n    </tr>\n    <tr>\n      <th>29</th>\n      <td>0</td>\n      <td>3</td>\n      <td>male</td>\n      <td>NaN</td>\n      <td>0</td>\n      <td>7.895800</td>\n    </tr>\n    <tr>\n      <th>30</th>\n      <td>0</td>\n      <td>1</td>\n      <td>male</td>\n      <td>40.0</td>\n      <td>0</td>\n      <td>27.720800</td>\n    </tr>\n    <tr>\n      <th>31</th>\n      <td>1</td>\n      <td>1</td>\n      <td>female</td>\n      <td>NaN</td>\n      <td>1</td>\n      <td>146.520800</td>\n    </tr>\n    <tr>\n      <th>32</th>\n      <td>1</td>\n      <td>3</td>\n      <td>female</td>\n      <td>NaN</td>\n      <td>0</td>\n      <td>7.750000</td>\n    </tr>\n    <tr>\n      <th>33</th>\n      <td>0</td>\n      <td>2</td>\n      <td>male</td>\n      <td>66.0</td>\n      <td>0</td>\n      <td>10.500000</td>\n    </tr>\n    <tr>\n      <th>34</th>\n      <td>0</td>\n      <td>1</td>\n      <td>male</td>\n      <td>28.0</td>\n      <td>1</td>\n      <td>82.170800</td>\n    </tr>\n  </tbody>\n</table>\n</div>"
     },
     "execution_count": 31,
     "metadata": {},
     "output_type": "execute_result"
    }
   ],
   "source": [
    "data3 = windsorization(data=data,col='Fare',para=para,strategy='both')\n",
    "data3[25:35]"
   ]
  },
  {
   "cell_type": "markdown",
   "metadata": {
    "pycharm": {
     "name": "#%% md\n"
    }
   },
   "source": [
    "Удаление выбросов"
   ]
  },
  {
   "cell_type": "code",
   "execution_count": 32,
   "metadata": {
    "collapsed": true,
    "pycharm": {
     "name": "#%%\n"
    }
   },
   "outputs": [],
   "source": [
    "def drop_outlier(data, outlier_index):\n",
    "    data_copy = data[~outlier_index]\n",
    "    return data_copy"
   ]
  },
  {
   "cell_type": "code",
   "execution_count": 33,
   "metadata": {
    "pycharm": {
     "name": "#%%\n"
    }
   },
   "outputs": [
    {
     "name": "stdout",
     "output_type": "stream",
     "text": [
      "50.0\n",
      "0.0\n"
     ]
    }
   ],
   "source": [
    "data4 = drop_outlier(data=data,outlier_index=index)\n",
    "print(data4.Fare.max())\n",
    "print(data4.Fare.min())"
   ]
  },
  {
   "cell_type": "markdown",
   "metadata": {
    "pycharm": {
     "name": "#%% md\n"
    }
   },
   "source": [
    "Замена выбросов средним/медианой/модой"
   ]
  },
  {
   "cell_type": "code",
   "execution_count": 34,
   "metadata": {
    "collapsed": true,
    "pycharm": {
     "name": "#%%\n"
    }
   },
   "outputs": [],
   "source": [
    "def impute_outlier_with_avg(data,col,outlier_index,strategy='mean'):\n",
    "    data_copy = data.copy(deep=True)\n",
    "    if strategy=='mean':\n",
    "        data_copy.loc[outlier_index,col] = data_copy[col].mean()\n",
    "    elif strategy=='median':\n",
    "        data_copy.loc[outlier_index,col] = data_copy[col].median()\n",
    "    elif strategy=='mode':\n",
    "        data_copy.loc[outlier_index,col] = data_copy[col].mode()[0]           \n",
    "    return data_copy"
   ]
  },
  {
   "cell_type": "code",
   "execution_count": 35,
   "metadata": {
    "pycharm": {
     "name": "#%%\n"
    }
   },
   "outputs": [
    {
     "data": {
      "text/plain": "    Survived  Pclass     Sex   Age  SibSp       Fare\n25         1       3  female  38.0      1  31.387500\n26         0       3    male   NaN      0   7.225000\n27         0       1    male  19.0      3  32.204208\n28         1       3  female   NaN      0   7.879200\n29         0       3    male   NaN      0   7.895800\n30         0       1    male  40.0      0  27.720800\n31         1       1  female   NaN      1  32.204208\n32         1       3  female   NaN      0   7.750000\n33         0       2    male  66.0      0  10.500000\n34         0       1    male  28.0      1  32.204208",
      "text/html": "<div>\n<style scoped>\n    .dataframe tbody tr th:only-of-type {\n        vertical-align: middle;\n    }\n\n    .dataframe tbody tr th {\n        vertical-align: top;\n    }\n\n    .dataframe thead th {\n        text-align: right;\n    }\n</style>\n<table border=\"1\" class=\"dataframe\">\n  <thead>\n    <tr style=\"text-align: right;\">\n      <th></th>\n      <th>Survived</th>\n      <th>Pclass</th>\n      <th>Sex</th>\n      <th>Age</th>\n      <th>SibSp</th>\n      <th>Fare</th>\n    </tr>\n  </thead>\n  <tbody>\n    <tr>\n      <th>25</th>\n      <td>1</td>\n      <td>3</td>\n      <td>female</td>\n      <td>38.0</td>\n      <td>1</td>\n      <td>31.387500</td>\n    </tr>\n    <tr>\n      <th>26</th>\n      <td>0</td>\n      <td>3</td>\n      <td>male</td>\n      <td>NaN</td>\n      <td>0</td>\n      <td>7.225000</td>\n    </tr>\n    <tr>\n      <th>27</th>\n      <td>0</td>\n      <td>1</td>\n      <td>male</td>\n      <td>19.0</td>\n      <td>3</td>\n      <td>32.204208</td>\n    </tr>\n    <tr>\n      <th>28</th>\n      <td>1</td>\n      <td>3</td>\n      <td>female</td>\n      <td>NaN</td>\n      <td>0</td>\n      <td>7.879200</td>\n    </tr>\n    <tr>\n      <th>29</th>\n      <td>0</td>\n      <td>3</td>\n      <td>male</td>\n      <td>NaN</td>\n      <td>0</td>\n      <td>7.895800</td>\n    </tr>\n    <tr>\n      <th>30</th>\n      <td>0</td>\n      <td>1</td>\n      <td>male</td>\n      <td>40.0</td>\n      <td>0</td>\n      <td>27.720800</td>\n    </tr>\n    <tr>\n      <th>31</th>\n      <td>1</td>\n      <td>1</td>\n      <td>female</td>\n      <td>NaN</td>\n      <td>1</td>\n      <td>32.204208</td>\n    </tr>\n    <tr>\n      <th>32</th>\n      <td>1</td>\n      <td>3</td>\n      <td>female</td>\n      <td>NaN</td>\n      <td>0</td>\n      <td>7.750000</td>\n    </tr>\n    <tr>\n      <th>33</th>\n      <td>0</td>\n      <td>2</td>\n      <td>male</td>\n      <td>66.0</td>\n      <td>0</td>\n      <td>10.500000</td>\n    </tr>\n    <tr>\n      <th>34</th>\n      <td>0</td>\n      <td>1</td>\n      <td>male</td>\n      <td>28.0</td>\n      <td>1</td>\n      <td>32.204208</td>\n    </tr>\n  </tbody>\n</table>\n</div>"
     },
     "execution_count": 35,
     "metadata": {},
     "output_type": "execute_result"
    }
   ],
   "source": [
    "data5 = impute_outlier_with_avg(data=data,col='Fare',\n",
    "                                   outlier_index=index,strategy='mean')\n",
    "data5[25:35]"
   ]
  },
  {
   "cell_type": "markdown",
   "metadata": {
    "pycharm": {
     "name": "#%% md\n"
    }
   },
   "source": [
    "##  Шкалирование данных"
   ]
  },
  {
   "cell_type": "code",
   "execution_count": 36,
   "metadata": {
    "pycharm": {
     "name": "#%%\n"
    }
   },
   "outputs": [
    {
     "data": {
      "text/plain": "((712, 6), (179, 6))"
     },
     "execution_count": 36,
     "metadata": {},
     "output_type": "execute_result"
    }
   ],
   "source": [
    "X_train, X_test, y_train, y_test = train_test_split(data,\n",
    "                                                    data.Survived,\n",
    "                                                    test_size=0.2,\n",
    "                                                    random_state=0)\n",
    "X_train.shape, X_test.shape"
   ]
  },
  {
   "cell_type": "markdown",
   "metadata": {
    "pycharm": {
     "name": "#%% md\n"
    }
   },
   "source": [
    "Нормализация данных"
   ]
  },
  {
   "cell_type": "code",
   "execution_count": 37,
   "metadata": {
    "pycharm": {
     "name": "#%%\n"
    }
   },
   "outputs": [
    {
     "name": "stdout",
     "output_type": "stream",
     "text": [
      "     Survived  Pclass     Sex   Age  SibSp     Fare  Fare_zscore\n",
      "140         0       3  female   NaN      0  15.2458    -0.331679\n",
      "439         0       2    male  31.0      0  10.5000    -0.426405\n",
      "817         0       2    male  31.0      1  37.0042     0.102620\n",
      "378         0       3    male  20.0      0   4.0125    -0.555896\n",
      "491         0       3    male  21.0      0   7.2500    -0.491276\n",
      "331         0       1    male  45.5      0  28.5000    -0.067125\n"
     ]
    }
   ],
   "source": [
    "ss = StandardScaler().fit(X_train[['Fare']])\n",
    "X_train_copy = X_train.copy(deep=True)\n",
    "X_train_copy['Fare_zscore'] = ss.transform(X_train_copy[['Fare']])\n",
    "print(X_train_copy.head(6))"
   ]
  },
  {
   "cell_type": "code",
   "execution_count": 38,
   "metadata": {
    "pycharm": {
     "name": "#%%\n"
    }
   },
   "outputs": [
    {
     "name": "stdout",
     "output_type": "stream",
     "text": [
      "1.0478509445900354e-16\n",
      "1.0007029877845375\n"
     ]
    }
   ],
   "source": [
    "print(X_train_copy['Fare_zscore'].mean())\n",
    "print(X_train_copy['Fare_zscore'].std())"
   ]
  },
  {
   "cell_type": "markdown",
   "metadata": {
    "pycharm": {
     "name": "#%% md\n"
    }
   },
   "source": [
    "Мин-Макс шкалирование"
   ]
  },
  {
   "cell_type": "code",
   "execution_count": 39,
   "metadata": {
    "pycharm": {
     "name": "#%%\n"
    }
   },
   "outputs": [
    {
     "name": "stdout",
     "output_type": "stream",
     "text": [
      "     Survived  Pclass     Sex   Age  SibSp     Fare  Fare_minmax\n",
      "140         0       3  female   NaN      0  15.2458     0.029758\n",
      "439         0       2    male  31.0      0  10.5000     0.020495\n",
      "817         0       2    male  31.0      1  37.0042     0.072227\n",
      "378         0       3    male  20.0      0   4.0125     0.007832\n",
      "491         0       3    male  21.0      0   7.2500     0.014151\n",
      "331         0       1    male  45.5      0  28.5000     0.055628\n"
     ]
    }
   ],
   "source": [
    "mms = MinMaxScaler().fit(X_train[['Fare']])\n",
    "X_train_copy = X_train.copy(deep=True)\n",
    "X_train_copy['Fare_minmax'] = mms.transform(X_train_copy[['Fare']])\n",
    "print(X_train_copy.head(6))"
   ]
  },
  {
   "cell_type": "code",
   "execution_count": 40,
   "metadata": {
    "pycharm": {
     "name": "#%%\n"
    }
   },
   "outputs": [
    {
     "name": "stdout",
     "output_type": "stream",
     "text": [
      "1.0\n",
      "0.0\n"
     ]
    }
   ],
   "source": [
    "print(X_train_copy['Fare_minmax'].max())\n",
    "print(X_train_copy['Fare_minmax'].min())"
   ]
  },
  {
   "cell_type": "markdown",
   "metadata": {
    "pycharm": {
     "name": "#%% md\n"
    }
   },
   "source": [
    "Робустное шкалирование"
   ]
  },
  {
   "cell_type": "code",
   "execution_count": 41,
   "metadata": {
    "pycharm": {
     "name": "#%%\n"
    }
   },
   "outputs": [
    {
     "name": "stdout",
     "output_type": "stream",
     "text": [
      "     Survived  Pclass     Sex   Age  SibSp     Fare  Fare_robust\n",
      "140         0       3  female   NaN      0  15.2458     0.033803\n",
      "439         0       2    male  31.0      0  10.5000    -0.169380\n",
      "817         0       2    male  31.0      1  37.0042     0.965349\n",
      "378         0       3    male  20.0      0   4.0125    -0.447130\n",
      "491         0       3    male  21.0      0   7.2500    -0.308522\n",
      "331         0       1    male  45.5      0  28.5000     0.601257\n"
     ]
    }
   ],
   "source": [
    "rs = RobustScaler().fit(X_train[['Fare']])\n",
    "X_train_copy = X_train.copy(deep=True)\n",
    "X_train_copy['Fare_robust'] = rs.transform(X_train_copy[['Fare']])\n",
    "print(X_train_copy.head(6))"
   ]
  },
  {
   "cell_type": "markdown",
   "metadata": {
    "pycharm": {
     "name": "#%% md\n"
    }
   },
   "source": [
    "## Энкодинг переменных "
   ]
  },
  {
   "cell_type": "markdown",
   "metadata": {
    "pycharm": {
     "name": "#%% md\n"
    }
   },
   "source": [
    "One-Hot encoding"
   ]
  },
  {
   "cell_type": "code",
   "execution_count": null,
   "outputs": [],
   "source": [
    "from sklearn.preprocessing import OneHotEncoder\n",
    "# и используем OneHotEncoder из sklearn либо:"
   ],
   "metadata": {
    "collapsed": false,
    "pycharm": {
     "name": "#%%\n"
    }
   }
  },
  {
   "cell_type": "code",
   "execution_count": 42,
   "metadata": {
    "collapsed": true,
    "pycharm": {
     "name": "#%%\n"
    }
   },
   "outputs": [],
   "source": [
    "data1 = pd.get_dummies(data,drop_first=True)"
   ]
  },
  {
   "cell_type": "code",
   "execution_count": 43,
   "metadata": {
    "pycharm": {
     "name": "#%%\n"
    }
   },
   "outputs": [
    {
     "data": {
      "text/plain": "   Survived  Pclass   Age  SibSp     Fare  Sex_male\n0         0       3  22.0      1   7.2500         1\n1         1       1  38.0      1  71.2833         0\n2         1       3  26.0      0   7.9250         0\n3         1       1  35.0      1  53.1000         0\n4         0       3  35.0      0   8.0500         1",
      "text/html": "<div>\n<style scoped>\n    .dataframe tbody tr th:only-of-type {\n        vertical-align: middle;\n    }\n\n    .dataframe tbody tr th {\n        vertical-align: top;\n    }\n\n    .dataframe thead th {\n        text-align: right;\n    }\n</style>\n<table border=\"1\" class=\"dataframe\">\n  <thead>\n    <tr style=\"text-align: right;\">\n      <th></th>\n      <th>Survived</th>\n      <th>Pclass</th>\n      <th>Age</th>\n      <th>SibSp</th>\n      <th>Fare</th>\n      <th>Sex_male</th>\n    </tr>\n  </thead>\n  <tbody>\n    <tr>\n      <th>0</th>\n      <td>0</td>\n      <td>3</td>\n      <td>22.0</td>\n      <td>1</td>\n      <td>7.2500</td>\n      <td>1</td>\n    </tr>\n    <tr>\n      <th>1</th>\n      <td>1</td>\n      <td>1</td>\n      <td>38.0</td>\n      <td>1</td>\n      <td>71.2833</td>\n      <td>0</td>\n    </tr>\n    <tr>\n      <th>2</th>\n      <td>1</td>\n      <td>3</td>\n      <td>26.0</td>\n      <td>0</td>\n      <td>7.9250</td>\n      <td>0</td>\n    </tr>\n    <tr>\n      <th>3</th>\n      <td>1</td>\n      <td>1</td>\n      <td>35.0</td>\n      <td>1</td>\n      <td>53.1000</td>\n      <td>0</td>\n    </tr>\n    <tr>\n      <th>4</th>\n      <td>0</td>\n      <td>3</td>\n      <td>35.0</td>\n      <td>0</td>\n      <td>8.0500</td>\n      <td>1</td>\n    </tr>\n  </tbody>\n</table>\n</div>"
     },
     "execution_count": 43,
     "metadata": {},
     "output_type": "execute_result"
    }
   ],
   "source": [
    "data1.head()"
   ]
  },
  {
   "cell_type": "markdown",
   "metadata": {
    "pycharm": {
     "name": "#%% md\n"
    }
   },
   "source": [
    "Энкодинг значением"
   ]
  },
  {
   "cell_type": "code",
   "execution_count": 44,
   "metadata": {
    "collapsed": true,
    "pycharm": {
     "name": "#%%\n"
    }
   },
   "outputs": [],
   "source": [
    "ord_enc = ce.OrdinalEncoder(cols=['Sex']).fit(X_train,y_train)"
   ]
  },
  {
   "cell_type": "code",
   "execution_count": 45,
   "metadata": {
    "pycharm": {
     "name": "#%%\n"
    }
   },
   "outputs": [
    {
     "name": "stdout",
     "output_type": "stream",
     "text": [
      "   Survived  Pclass  Sex   Age  SibSp     Fare\n",
      "0         0       3    2  22.0      1   7.2500\n",
      "1         1       1    1  38.0      1  71.2833\n",
      "2         1       3    1  26.0      0   7.9250\n",
      "3         1       1    1  35.0      1  53.1000\n",
      "4         0       3    2  35.0      0   8.0500\n"
     ]
    }
   ],
   "source": [
    "data4 = ord_enc.transform(data)\n",
    "print(data4.head(5))"
   ]
  },
  {
   "cell_type": "markdown",
   "metadata": {
    "pycharm": {
     "name": "#%% md\n"
    }
   },
   "source": [
    "Таргет энкодинг"
   ]
  },
  {
   "cell_type": "code",
   "execution_count": 47,
   "metadata": {
    "collapsed": true,
    "pycharm": {
     "name": "#%%\n"
    }
   },
   "outputs": [
    {
     "name": "stderr",
     "output_type": "stream",
     "text": [
      "/Users/maratmovlamov/Desktop/DS_Foundations/venv/lib/python3.10/site-packages/category_encoders/target_encoder.py:92: FutureWarning: Default parameter min_samples_leaf will change in version 2.6.See https://github.com/scikit-learn-contrib/category_encoders/issues/327\n",
      "  warnings.warn(\"Default parameter min_samples_leaf will change in version 2.6.\"\n",
      "/Users/maratmovlamov/Desktop/DS_Foundations/venv/lib/python3.10/site-packages/category_encoders/target_encoder.py:97: FutureWarning: Default parameter smoothing will change in version 2.6.See https://github.com/scikit-learn-contrib/category_encoders/issues/327\n",
      "  warnings.warn(\"Default parameter smoothing will change in version 2.6.\"\n"
     ]
    }
   ],
   "source": [
    "target_enc = ce.TargetEncoder(cols=['Sex']).fit(X_train,y_train);"
   ]
  },
  {
   "cell_type": "code",
   "execution_count": 48,
   "metadata": {
    "pycharm": {
     "name": "#%%\n"
    }
   },
   "outputs": [
    {
     "data": {
      "text/plain": "   Survived  Pclass       Sex   Age  SibSp     Fare\n0         0       3  0.191398  22.0      1   7.2500\n1         1       1  0.744939  38.0      1  71.2833\n2         1       3  0.744939  26.0      0   7.9250\n3         1       1  0.744939  35.0      1  53.1000\n4         0       3  0.191398  35.0      0   8.0500",
      "text/html": "<div>\n<style scoped>\n    .dataframe tbody tr th:only-of-type {\n        vertical-align: middle;\n    }\n\n    .dataframe tbody tr th {\n        vertical-align: top;\n    }\n\n    .dataframe thead th {\n        text-align: right;\n    }\n</style>\n<table border=\"1\" class=\"dataframe\">\n  <thead>\n    <tr style=\"text-align: right;\">\n      <th></th>\n      <th>Survived</th>\n      <th>Pclass</th>\n      <th>Sex</th>\n      <th>Age</th>\n      <th>SibSp</th>\n      <th>Fare</th>\n    </tr>\n  </thead>\n  <tbody>\n    <tr>\n      <th>0</th>\n      <td>0</td>\n      <td>3</td>\n      <td>0.191398</td>\n      <td>22.0</td>\n      <td>1</td>\n      <td>7.2500</td>\n    </tr>\n    <tr>\n      <th>1</th>\n      <td>1</td>\n      <td>1</td>\n      <td>0.744939</td>\n      <td>38.0</td>\n      <td>1</td>\n      <td>71.2833</td>\n    </tr>\n    <tr>\n      <th>2</th>\n      <td>1</td>\n      <td>3</td>\n      <td>0.744939</td>\n      <td>26.0</td>\n      <td>0</td>\n      <td>7.9250</td>\n    </tr>\n    <tr>\n      <th>3</th>\n      <td>1</td>\n      <td>1</td>\n      <td>0.744939</td>\n      <td>35.0</td>\n      <td>1</td>\n      <td>53.1000</td>\n    </tr>\n    <tr>\n      <th>4</th>\n      <td>0</td>\n      <td>3</td>\n      <td>0.191398</td>\n      <td>35.0</td>\n      <td>0</td>\n      <td>8.0500</td>\n    </tr>\n  </tbody>\n</table>\n</div>"
     },
     "execution_count": 48,
     "metadata": {},
     "output_type": "execute_result"
    }
   ],
   "source": [
    "data2 = target_enc.transform(data)\n",
    "data2.head()"
   ]
  },
  {
   "cell_type": "markdown",
   "metadata": {
    "pycharm": {
     "name": "#%% md\n"
    }
   },
   "source": [
    "WOE энкодинг"
   ]
  },
  {
   "cell_type": "code",
   "execution_count": 49,
   "metadata": {
    "collapsed": true,
    "pycharm": {
     "name": "#%%\n"
    }
   },
   "outputs": [],
   "source": [
    "woe_enc = ce.WOEEncoder(cols=['Sex']).fit(X_train,y_train)"
   ]
  },
  {
   "cell_type": "code",
   "execution_count": 50,
   "metadata": {
    "pycharm": {
     "name": "#%%\n"
    }
   },
   "outputs": [
    {
     "data": {
      "text/plain": "   Survived  Pclass       Sex   Age  SibSp     Fare\n0         0       3 -0.960162  22.0      1   7.2500\n1         1       1  1.533747  38.0      1  71.2833\n2         1       3  1.533747  26.0      0   7.9250\n3         1       1  1.533747  35.0      1  53.1000\n4         0       3 -0.960162  35.0      0   8.0500",
      "text/html": "<div>\n<style scoped>\n    .dataframe tbody tr th:only-of-type {\n        vertical-align: middle;\n    }\n\n    .dataframe tbody tr th {\n        vertical-align: top;\n    }\n\n    .dataframe thead th {\n        text-align: right;\n    }\n</style>\n<table border=\"1\" class=\"dataframe\">\n  <thead>\n    <tr style=\"text-align: right;\">\n      <th></th>\n      <th>Survived</th>\n      <th>Pclass</th>\n      <th>Sex</th>\n      <th>Age</th>\n      <th>SibSp</th>\n      <th>Fare</th>\n    </tr>\n  </thead>\n  <tbody>\n    <tr>\n      <th>0</th>\n      <td>0</td>\n      <td>3</td>\n      <td>-0.960162</td>\n      <td>22.0</td>\n      <td>1</td>\n      <td>7.2500</td>\n    </tr>\n    <tr>\n      <th>1</th>\n      <td>1</td>\n      <td>1</td>\n      <td>1.533747</td>\n      <td>38.0</td>\n      <td>1</td>\n      <td>71.2833</td>\n    </tr>\n    <tr>\n      <th>2</th>\n      <td>1</td>\n      <td>3</td>\n      <td>1.533747</td>\n      <td>26.0</td>\n      <td>0</td>\n      <td>7.9250</td>\n    </tr>\n    <tr>\n      <th>3</th>\n      <td>1</td>\n      <td>1</td>\n      <td>1.533747</td>\n      <td>35.0</td>\n      <td>1</td>\n      <td>53.1000</td>\n    </tr>\n    <tr>\n      <th>4</th>\n      <td>0</td>\n      <td>3</td>\n      <td>-0.960162</td>\n      <td>35.0</td>\n      <td>0</td>\n      <td>8.0500</td>\n    </tr>\n  </tbody>\n</table>\n</div>"
     },
     "execution_count": 50,
     "metadata": {},
     "output_type": "execute_result"
    }
   ],
   "source": [
    "data3 = woe_enc.transform(data)\n",
    "data3.head()"
   ]
  },
  {
   "cell_type": "markdown",
   "metadata": {
    "pycharm": {
     "name": "#%% md\n"
    }
   },
   "source": [
    "## Feature Selection"
   ]
  },
  {
   "cell_type": "code",
   "execution_count": 51,
   "metadata": {
    "collapsed": true,
    "pycharm": {
     "name": "#%%\n"
    }
   },
   "outputs": [],
   "source": [
    "from sklearn.datasets import load_breast_cancer\n",
    "data = load_breast_cancer()\n",
    "data = pd.DataFrame(np.c_[data['data'], data['target']],\n",
    "                  columns= np.append(data['feature_names'], ['target']))"
   ]
  },
  {
   "cell_type": "code",
   "execution_count": 52,
   "metadata": {
    "pycharm": {
     "name": "#%%\n"
    }
   },
   "outputs": [
    {
     "data": {
      "text/plain": "   mean radius  mean texture  mean perimeter  mean area  mean smoothness  \\\n0        17.99         10.38          122.80     1001.0          0.11840   \n1        20.57         17.77          132.90     1326.0          0.08474   \n2        19.69         21.25          130.00     1203.0          0.10960   \n3        11.42         20.38           77.58      386.1          0.14250   \n4        20.29         14.34          135.10     1297.0          0.10030   \n\n   mean compactness  mean concavity  mean concave points  mean symmetry  \\\n0           0.27760          0.3001              0.14710         0.2419   \n1           0.07864          0.0869              0.07017         0.1812   \n2           0.15990          0.1974              0.12790         0.2069   \n3           0.28390          0.2414              0.10520         0.2597   \n4           0.13280          0.1980              0.10430         0.1809   \n\n   mean fractal dimension  ...  worst texture  worst perimeter  worst area  \\\n0                 0.07871  ...          17.33           184.60      2019.0   \n1                 0.05667  ...          23.41           158.80      1956.0   \n2                 0.05999  ...          25.53           152.50      1709.0   \n3                 0.09744  ...          26.50            98.87       567.7   \n4                 0.05883  ...          16.67           152.20      1575.0   \n\n   worst smoothness  worst compactness  worst concavity  worst concave points  \\\n0            0.1622             0.6656           0.7119                0.2654   \n1            0.1238             0.1866           0.2416                0.1860   \n2            0.1444             0.4245           0.4504                0.2430   \n3            0.2098             0.8663           0.6869                0.2575   \n4            0.1374             0.2050           0.4000                0.1625   \n\n   worst symmetry  worst fractal dimension  target  \n0          0.4601                  0.11890     0.0  \n1          0.2750                  0.08902     0.0  \n2          0.3613                  0.08758     0.0  \n3          0.6638                  0.17300     0.0  \n4          0.2364                  0.07678     0.0  \n\n[5 rows x 31 columns]",
      "text/html": "<div>\n<style scoped>\n    .dataframe tbody tr th:only-of-type {\n        vertical-align: middle;\n    }\n\n    .dataframe tbody tr th {\n        vertical-align: top;\n    }\n\n    .dataframe thead th {\n        text-align: right;\n    }\n</style>\n<table border=\"1\" class=\"dataframe\">\n  <thead>\n    <tr style=\"text-align: right;\">\n      <th></th>\n      <th>mean radius</th>\n      <th>mean texture</th>\n      <th>mean perimeter</th>\n      <th>mean area</th>\n      <th>mean smoothness</th>\n      <th>mean compactness</th>\n      <th>mean concavity</th>\n      <th>mean concave points</th>\n      <th>mean symmetry</th>\n      <th>mean fractal dimension</th>\n      <th>...</th>\n      <th>worst texture</th>\n      <th>worst perimeter</th>\n      <th>worst area</th>\n      <th>worst smoothness</th>\n      <th>worst compactness</th>\n      <th>worst concavity</th>\n      <th>worst concave points</th>\n      <th>worst symmetry</th>\n      <th>worst fractal dimension</th>\n      <th>target</th>\n    </tr>\n  </thead>\n  <tbody>\n    <tr>\n      <th>0</th>\n      <td>17.99</td>\n      <td>10.38</td>\n      <td>122.80</td>\n      <td>1001.0</td>\n      <td>0.11840</td>\n      <td>0.27760</td>\n      <td>0.3001</td>\n      <td>0.14710</td>\n      <td>0.2419</td>\n      <td>0.07871</td>\n      <td>...</td>\n      <td>17.33</td>\n      <td>184.60</td>\n      <td>2019.0</td>\n      <td>0.1622</td>\n      <td>0.6656</td>\n      <td>0.7119</td>\n      <td>0.2654</td>\n      <td>0.4601</td>\n      <td>0.11890</td>\n      <td>0.0</td>\n    </tr>\n    <tr>\n      <th>1</th>\n      <td>20.57</td>\n      <td>17.77</td>\n      <td>132.90</td>\n      <td>1326.0</td>\n      <td>0.08474</td>\n      <td>0.07864</td>\n      <td>0.0869</td>\n      <td>0.07017</td>\n      <td>0.1812</td>\n      <td>0.05667</td>\n      <td>...</td>\n      <td>23.41</td>\n      <td>158.80</td>\n      <td>1956.0</td>\n      <td>0.1238</td>\n      <td>0.1866</td>\n      <td>0.2416</td>\n      <td>0.1860</td>\n      <td>0.2750</td>\n      <td>0.08902</td>\n      <td>0.0</td>\n    </tr>\n    <tr>\n      <th>2</th>\n      <td>19.69</td>\n      <td>21.25</td>\n      <td>130.00</td>\n      <td>1203.0</td>\n      <td>0.10960</td>\n      <td>0.15990</td>\n      <td>0.1974</td>\n      <td>0.12790</td>\n      <td>0.2069</td>\n      <td>0.05999</td>\n      <td>...</td>\n      <td>25.53</td>\n      <td>152.50</td>\n      <td>1709.0</td>\n      <td>0.1444</td>\n      <td>0.4245</td>\n      <td>0.4504</td>\n      <td>0.2430</td>\n      <td>0.3613</td>\n      <td>0.08758</td>\n      <td>0.0</td>\n    </tr>\n    <tr>\n      <th>3</th>\n      <td>11.42</td>\n      <td>20.38</td>\n      <td>77.58</td>\n      <td>386.1</td>\n      <td>0.14250</td>\n      <td>0.28390</td>\n      <td>0.2414</td>\n      <td>0.10520</td>\n      <td>0.2597</td>\n      <td>0.09744</td>\n      <td>...</td>\n      <td>26.50</td>\n      <td>98.87</td>\n      <td>567.7</td>\n      <td>0.2098</td>\n      <td>0.8663</td>\n      <td>0.6869</td>\n      <td>0.2575</td>\n      <td>0.6638</td>\n      <td>0.17300</td>\n      <td>0.0</td>\n    </tr>\n    <tr>\n      <th>4</th>\n      <td>20.29</td>\n      <td>14.34</td>\n      <td>135.10</td>\n      <td>1297.0</td>\n      <td>0.10030</td>\n      <td>0.13280</td>\n      <td>0.1980</td>\n      <td>0.10430</td>\n      <td>0.1809</td>\n      <td>0.05883</td>\n      <td>...</td>\n      <td>16.67</td>\n      <td>152.20</td>\n      <td>1575.0</td>\n      <td>0.1374</td>\n      <td>0.2050</td>\n      <td>0.4000</td>\n      <td>0.1625</td>\n      <td>0.2364</td>\n      <td>0.07678</td>\n      <td>0.0</td>\n    </tr>\n  </tbody>\n</table>\n<p>5 rows × 31 columns</p>\n</div>"
     },
     "execution_count": 52,
     "metadata": {},
     "output_type": "execute_result"
    }
   ],
   "source": [
    "data.head(5)"
   ]
  },
  {
   "cell_type": "code",
   "execution_count": 53,
   "metadata": {
    "pycharm": {
     "name": "#%%\n"
    }
   },
   "outputs": [
    {
     "data": {
      "text/plain": "((455, 30), (114, 30))"
     },
     "execution_count": 53,
     "metadata": {},
     "output_type": "execute_result"
    }
   ],
   "source": [
    "X_train, X_test, y_train, y_test = train_test_split(data.drop(labels=['target'], axis=1), \n",
    "                                                    data.target, test_size=0.2,\n",
    "                                                    random_state=0)\n",
    "X_train.shape, X_test.shape"
   ]
  },
  {
   "cell_type": "markdown",
   "metadata": {
    "pycharm": {
     "name": "#%% md\n"
    }
   },
   "source": [
    "Константные значения"
   ]
  },
  {
   "cell_type": "code",
   "execution_count": 54,
   "metadata": {
    "collapsed": true,
    "pycharm": {
     "name": "#%%\n"
    }
   },
   "outputs": [],
   "source": [
    "def constant_feature_detect(data,threshold=0.98):    \n",
    "    data_copy = data.copy(deep=True)\n",
    "    quasi_constant_feature = []\n",
    "    for feature in data_copy.columns:\n",
    "        predominant = (data_copy[feature].value_counts() / np.float(\n",
    "                      len(data_copy))).sort_values(ascending=False).values[0]\n",
    "        if predominant >= threshold:\n",
    "            quasi_constant_feature.append(feature)\n",
    "    print(len(quasi_constant_feature),'константные переменные')    \n",
    "    return quasi_constant_feature"
   ]
  },
  {
   "cell_type": "code",
   "execution_count": 55,
   "metadata": {
    "pycharm": {
     "name": "#%%\n"
    }
   },
   "outputs": [
    {
     "name": "stdout",
     "output_type": "stream",
     "text": [
      "0 константные переменные\n"
     ]
    },
    {
     "name": "stderr",
     "output_type": "stream",
     "text": [
      "/var/folders/91/k98801wn6yd0ssq44m34fwlh0000gn/T/ipykernel_14588/1105400255.py:5: DeprecationWarning: `np.float` is a deprecated alias for the builtin `float`. To silence this warning, use `float` by itself. Doing this will not modify any behavior and is safe. If you specifically wanted the numpy scalar type, use `np.float64` here.\n",
      "Deprecated in NumPy 1.20; for more details and guidance: https://numpy.org/devdocs/release/1.20.0-notes.html#deprecations\n",
      "  predominant = (data_copy[feature].value_counts() / np.float(\n",
      "/var/folders/91/k98801wn6yd0ssq44m34fwlh0000gn/T/ipykernel_14588/1105400255.py:5: DeprecationWarning: `np.float` is a deprecated alias for the builtin `float`. To silence this warning, use `float` by itself. Doing this will not modify any behavior and is safe. If you specifically wanted the numpy scalar type, use `np.float64` here.\n",
      "Deprecated in NumPy 1.20; for more details and guidance: https://numpy.org/devdocs/release/1.20.0-notes.html#deprecations\n",
      "  predominant = (data_copy[feature].value_counts() / np.float(\n",
      "/var/folders/91/k98801wn6yd0ssq44m34fwlh0000gn/T/ipykernel_14588/1105400255.py:5: DeprecationWarning: `np.float` is a deprecated alias for the builtin `float`. To silence this warning, use `float` by itself. Doing this will not modify any behavior and is safe. If you specifically wanted the numpy scalar type, use `np.float64` here.\n",
      "Deprecated in NumPy 1.20; for more details and guidance: https://numpy.org/devdocs/release/1.20.0-notes.html#deprecations\n",
      "  predominant = (data_copy[feature].value_counts() / np.float(\n",
      "/var/folders/91/k98801wn6yd0ssq44m34fwlh0000gn/T/ipykernel_14588/1105400255.py:5: DeprecationWarning: `np.float` is a deprecated alias for the builtin `float`. To silence this warning, use `float` by itself. Doing this will not modify any behavior and is safe. If you specifically wanted the numpy scalar type, use `np.float64` here.\n",
      "Deprecated in NumPy 1.20; for more details and guidance: https://numpy.org/devdocs/release/1.20.0-notes.html#deprecations\n",
      "  predominant = (data_copy[feature].value_counts() / np.float(\n",
      "/var/folders/91/k98801wn6yd0ssq44m34fwlh0000gn/T/ipykernel_14588/1105400255.py:5: DeprecationWarning: `np.float` is a deprecated alias for the builtin `float`. To silence this warning, use `float` by itself. Doing this will not modify any behavior and is safe. If you specifically wanted the numpy scalar type, use `np.float64` here.\n",
      "Deprecated in NumPy 1.20; for more details and guidance: https://numpy.org/devdocs/release/1.20.0-notes.html#deprecations\n",
      "  predominant = (data_copy[feature].value_counts() / np.float(\n",
      "/var/folders/91/k98801wn6yd0ssq44m34fwlh0000gn/T/ipykernel_14588/1105400255.py:5: DeprecationWarning: `np.float` is a deprecated alias for the builtin `float`. To silence this warning, use `float` by itself. Doing this will not modify any behavior and is safe. If you specifically wanted the numpy scalar type, use `np.float64` here.\n",
      "Deprecated in NumPy 1.20; for more details and guidance: https://numpy.org/devdocs/release/1.20.0-notes.html#deprecations\n",
      "  predominant = (data_copy[feature].value_counts() / np.float(\n",
      "/var/folders/91/k98801wn6yd0ssq44m34fwlh0000gn/T/ipykernel_14588/1105400255.py:5: DeprecationWarning: `np.float` is a deprecated alias for the builtin `float`. To silence this warning, use `float` by itself. Doing this will not modify any behavior and is safe. If you specifically wanted the numpy scalar type, use `np.float64` here.\n",
      "Deprecated in NumPy 1.20; for more details and guidance: https://numpy.org/devdocs/release/1.20.0-notes.html#deprecations\n",
      "  predominant = (data_copy[feature].value_counts() / np.float(\n",
      "/var/folders/91/k98801wn6yd0ssq44m34fwlh0000gn/T/ipykernel_14588/1105400255.py:5: DeprecationWarning: `np.float` is a deprecated alias for the builtin `float`. To silence this warning, use `float` by itself. Doing this will not modify any behavior and is safe. If you specifically wanted the numpy scalar type, use `np.float64` here.\n",
      "Deprecated in NumPy 1.20; for more details and guidance: https://numpy.org/devdocs/release/1.20.0-notes.html#deprecations\n",
      "  predominant = (data_copy[feature].value_counts() / np.float(\n",
      "/var/folders/91/k98801wn6yd0ssq44m34fwlh0000gn/T/ipykernel_14588/1105400255.py:5: DeprecationWarning: `np.float` is a deprecated alias for the builtin `float`. To silence this warning, use `float` by itself. Doing this will not modify any behavior and is safe. If you specifically wanted the numpy scalar type, use `np.float64` here.\n",
      "Deprecated in NumPy 1.20; for more details and guidance: https://numpy.org/devdocs/release/1.20.0-notes.html#deprecations\n",
      "  predominant = (data_copy[feature].value_counts() / np.float(\n",
      "/var/folders/91/k98801wn6yd0ssq44m34fwlh0000gn/T/ipykernel_14588/1105400255.py:5: DeprecationWarning: `np.float` is a deprecated alias for the builtin `float`. To silence this warning, use `float` by itself. Doing this will not modify any behavior and is safe. If you specifically wanted the numpy scalar type, use `np.float64` here.\n",
      "Deprecated in NumPy 1.20; for more details and guidance: https://numpy.org/devdocs/release/1.20.0-notes.html#deprecations\n",
      "  predominant = (data_copy[feature].value_counts() / np.float(\n",
      "/var/folders/91/k98801wn6yd0ssq44m34fwlh0000gn/T/ipykernel_14588/1105400255.py:5: DeprecationWarning: `np.float` is a deprecated alias for the builtin `float`. To silence this warning, use `float` by itself. Doing this will not modify any behavior and is safe. If you specifically wanted the numpy scalar type, use `np.float64` here.\n",
      "Deprecated in NumPy 1.20; for more details and guidance: https://numpy.org/devdocs/release/1.20.0-notes.html#deprecations\n",
      "  predominant = (data_copy[feature].value_counts() / np.float(\n",
      "/var/folders/91/k98801wn6yd0ssq44m34fwlh0000gn/T/ipykernel_14588/1105400255.py:5: DeprecationWarning: `np.float` is a deprecated alias for the builtin `float`. To silence this warning, use `float` by itself. Doing this will not modify any behavior and is safe. If you specifically wanted the numpy scalar type, use `np.float64` here.\n",
      "Deprecated in NumPy 1.20; for more details and guidance: https://numpy.org/devdocs/release/1.20.0-notes.html#deprecations\n",
      "  predominant = (data_copy[feature].value_counts() / np.float(\n",
      "/var/folders/91/k98801wn6yd0ssq44m34fwlh0000gn/T/ipykernel_14588/1105400255.py:5: DeprecationWarning: `np.float` is a deprecated alias for the builtin `float`. To silence this warning, use `float` by itself. Doing this will not modify any behavior and is safe. If you specifically wanted the numpy scalar type, use `np.float64` here.\n",
      "Deprecated in NumPy 1.20; for more details and guidance: https://numpy.org/devdocs/release/1.20.0-notes.html#deprecations\n",
      "  predominant = (data_copy[feature].value_counts() / np.float(\n",
      "/var/folders/91/k98801wn6yd0ssq44m34fwlh0000gn/T/ipykernel_14588/1105400255.py:5: DeprecationWarning: `np.float` is a deprecated alias for the builtin `float`. To silence this warning, use `float` by itself. Doing this will not modify any behavior and is safe. If you specifically wanted the numpy scalar type, use `np.float64` here.\n",
      "Deprecated in NumPy 1.20; for more details and guidance: https://numpy.org/devdocs/release/1.20.0-notes.html#deprecations\n",
      "  predominant = (data_copy[feature].value_counts() / np.float(\n",
      "/var/folders/91/k98801wn6yd0ssq44m34fwlh0000gn/T/ipykernel_14588/1105400255.py:5: DeprecationWarning: `np.float` is a deprecated alias for the builtin `float`. To silence this warning, use `float` by itself. Doing this will not modify any behavior and is safe. If you specifically wanted the numpy scalar type, use `np.float64` here.\n",
      "Deprecated in NumPy 1.20; for more details and guidance: https://numpy.org/devdocs/release/1.20.0-notes.html#deprecations\n",
      "  predominant = (data_copy[feature].value_counts() / np.float(\n",
      "/var/folders/91/k98801wn6yd0ssq44m34fwlh0000gn/T/ipykernel_14588/1105400255.py:5: DeprecationWarning: `np.float` is a deprecated alias for the builtin `float`. To silence this warning, use `float` by itself. Doing this will not modify any behavior and is safe. If you specifically wanted the numpy scalar type, use `np.float64` here.\n",
      "Deprecated in NumPy 1.20; for more details and guidance: https://numpy.org/devdocs/release/1.20.0-notes.html#deprecations\n",
      "  predominant = (data_copy[feature].value_counts() / np.float(\n",
      "/var/folders/91/k98801wn6yd0ssq44m34fwlh0000gn/T/ipykernel_14588/1105400255.py:5: DeprecationWarning: `np.float` is a deprecated alias for the builtin `float`. To silence this warning, use `float` by itself. Doing this will not modify any behavior and is safe. If you specifically wanted the numpy scalar type, use `np.float64` here.\n",
      "Deprecated in NumPy 1.20; for more details and guidance: https://numpy.org/devdocs/release/1.20.0-notes.html#deprecations\n",
      "  predominant = (data_copy[feature].value_counts() / np.float(\n",
      "/var/folders/91/k98801wn6yd0ssq44m34fwlh0000gn/T/ipykernel_14588/1105400255.py:5: DeprecationWarning: `np.float` is a deprecated alias for the builtin `float`. To silence this warning, use `float` by itself. Doing this will not modify any behavior and is safe. If you specifically wanted the numpy scalar type, use `np.float64` here.\n",
      "Deprecated in NumPy 1.20; for more details and guidance: https://numpy.org/devdocs/release/1.20.0-notes.html#deprecations\n",
      "  predominant = (data_copy[feature].value_counts() / np.float(\n",
      "/var/folders/91/k98801wn6yd0ssq44m34fwlh0000gn/T/ipykernel_14588/1105400255.py:5: DeprecationWarning: `np.float` is a deprecated alias for the builtin `float`. To silence this warning, use `float` by itself. Doing this will not modify any behavior and is safe. If you specifically wanted the numpy scalar type, use `np.float64` here.\n",
      "Deprecated in NumPy 1.20; for more details and guidance: https://numpy.org/devdocs/release/1.20.0-notes.html#deprecations\n",
      "  predominant = (data_copy[feature].value_counts() / np.float(\n",
      "/var/folders/91/k98801wn6yd0ssq44m34fwlh0000gn/T/ipykernel_14588/1105400255.py:5: DeprecationWarning: `np.float` is a deprecated alias for the builtin `float`. To silence this warning, use `float` by itself. Doing this will not modify any behavior and is safe. If you specifically wanted the numpy scalar type, use `np.float64` here.\n",
      "Deprecated in NumPy 1.20; for more details and guidance: https://numpy.org/devdocs/release/1.20.0-notes.html#deprecations\n",
      "  predominant = (data_copy[feature].value_counts() / np.float(\n",
      "/var/folders/91/k98801wn6yd0ssq44m34fwlh0000gn/T/ipykernel_14588/1105400255.py:5: DeprecationWarning: `np.float` is a deprecated alias for the builtin `float`. To silence this warning, use `float` by itself. Doing this will not modify any behavior and is safe. If you specifically wanted the numpy scalar type, use `np.float64` here.\n",
      "Deprecated in NumPy 1.20; for more details and guidance: https://numpy.org/devdocs/release/1.20.0-notes.html#deprecations\n",
      "  predominant = (data_copy[feature].value_counts() / np.float(\n",
      "/var/folders/91/k98801wn6yd0ssq44m34fwlh0000gn/T/ipykernel_14588/1105400255.py:5: DeprecationWarning: `np.float` is a deprecated alias for the builtin `float`. To silence this warning, use `float` by itself. Doing this will not modify any behavior and is safe. If you specifically wanted the numpy scalar type, use `np.float64` here.\n",
      "Deprecated in NumPy 1.20; for more details and guidance: https://numpy.org/devdocs/release/1.20.0-notes.html#deprecations\n",
      "  predominant = (data_copy[feature].value_counts() / np.float(\n",
      "/var/folders/91/k98801wn6yd0ssq44m34fwlh0000gn/T/ipykernel_14588/1105400255.py:5: DeprecationWarning: `np.float` is a deprecated alias for the builtin `float`. To silence this warning, use `float` by itself. Doing this will not modify any behavior and is safe. If you specifically wanted the numpy scalar type, use `np.float64` here.\n",
      "Deprecated in NumPy 1.20; for more details and guidance: https://numpy.org/devdocs/release/1.20.0-notes.html#deprecations\n",
      "  predominant = (data_copy[feature].value_counts() / np.float(\n",
      "/var/folders/91/k98801wn6yd0ssq44m34fwlh0000gn/T/ipykernel_14588/1105400255.py:5: DeprecationWarning: `np.float` is a deprecated alias for the builtin `float`. To silence this warning, use `float` by itself. Doing this will not modify any behavior and is safe. If you specifically wanted the numpy scalar type, use `np.float64` here.\n",
      "Deprecated in NumPy 1.20; for more details and guidance: https://numpy.org/devdocs/release/1.20.0-notes.html#deprecations\n",
      "  predominant = (data_copy[feature].value_counts() / np.float(\n",
      "/var/folders/91/k98801wn6yd0ssq44m34fwlh0000gn/T/ipykernel_14588/1105400255.py:5: DeprecationWarning: `np.float` is a deprecated alias for the builtin `float`. To silence this warning, use `float` by itself. Doing this will not modify any behavior and is safe. If you specifically wanted the numpy scalar type, use `np.float64` here.\n",
      "Deprecated in NumPy 1.20; for more details and guidance: https://numpy.org/devdocs/release/1.20.0-notes.html#deprecations\n",
      "  predominant = (data_copy[feature].value_counts() / np.float(\n",
      "/var/folders/91/k98801wn6yd0ssq44m34fwlh0000gn/T/ipykernel_14588/1105400255.py:5: DeprecationWarning: `np.float` is a deprecated alias for the builtin `float`. To silence this warning, use `float` by itself. Doing this will not modify any behavior and is safe. If you specifically wanted the numpy scalar type, use `np.float64` here.\n",
      "Deprecated in NumPy 1.20; for more details and guidance: https://numpy.org/devdocs/release/1.20.0-notes.html#deprecations\n",
      "  predominant = (data_copy[feature].value_counts() / np.float(\n",
      "/var/folders/91/k98801wn6yd0ssq44m34fwlh0000gn/T/ipykernel_14588/1105400255.py:5: DeprecationWarning: `np.float` is a deprecated alias for the builtin `float`. To silence this warning, use `float` by itself. Doing this will not modify any behavior and is safe. If you specifically wanted the numpy scalar type, use `np.float64` here.\n",
      "Deprecated in NumPy 1.20; for more details and guidance: https://numpy.org/devdocs/release/1.20.0-notes.html#deprecations\n",
      "  predominant = (data_copy[feature].value_counts() / np.float(\n",
      "/var/folders/91/k98801wn6yd0ssq44m34fwlh0000gn/T/ipykernel_14588/1105400255.py:5: DeprecationWarning: `np.float` is a deprecated alias for the builtin `float`. To silence this warning, use `float` by itself. Doing this will not modify any behavior and is safe. If you specifically wanted the numpy scalar type, use `np.float64` here.\n",
      "Deprecated in NumPy 1.20; for more details and guidance: https://numpy.org/devdocs/release/1.20.0-notes.html#deprecations\n",
      "  predominant = (data_copy[feature].value_counts() / np.float(\n",
      "/var/folders/91/k98801wn6yd0ssq44m34fwlh0000gn/T/ipykernel_14588/1105400255.py:5: DeprecationWarning: `np.float` is a deprecated alias for the builtin `float`. To silence this warning, use `float` by itself. Doing this will not modify any behavior and is safe. If you specifically wanted the numpy scalar type, use `np.float64` here.\n",
      "Deprecated in NumPy 1.20; for more details and guidance: https://numpy.org/devdocs/release/1.20.0-notes.html#deprecations\n",
      "  predominant = (data_copy[feature].value_counts() / np.float(\n",
      "/var/folders/91/k98801wn6yd0ssq44m34fwlh0000gn/T/ipykernel_14588/1105400255.py:5: DeprecationWarning: `np.float` is a deprecated alias for the builtin `float`. To silence this warning, use `float` by itself. Doing this will not modify any behavior and is safe. If you specifically wanted the numpy scalar type, use `np.float64` here.\n",
      "Deprecated in NumPy 1.20; for more details and guidance: https://numpy.org/devdocs/release/1.20.0-notes.html#deprecations\n",
      "  predominant = (data_copy[feature].value_counts() / np.float(\n"
     ]
    }
   ],
   "source": [
    "quasi_constant_feature = constant_feature_detect(data=X_train,threshold=0.9)"
   ]
  },
  {
   "cell_type": "code",
   "execution_count": 56,
   "metadata": {
    "pycharm": {
     "name": "#%%\n"
    }
   },
   "outputs": [
    {
     "name": "stderr",
     "output_type": "stream",
     "text": [
      "/var/folders/91/k98801wn6yd0ssq44m34fwlh0000gn/T/ipykernel_14588/1105973674.py:2: DeprecationWarning: `np.float` is a deprecated alias for the builtin `float`. To silence this warning, use `float` by itself. Doing this will not modify any behavior and is safe. If you specifically wanted the numpy scalar type, use `np.float64` here.\n",
      "Deprecated in NumPy 1.20; for more details and guidance: https://numpy.org/devdocs/release/1.20.0-notes.html#deprecations\n",
      "  X_train.dummy.value_counts() / np.float(len(X_train))\n"
     ]
    },
    {
     "data": {
      "text/plain": "1.0    0.923077\n0.0    0.068132\n2.0    0.008791\nName: dummy, dtype: float64"
     },
     "execution_count": 56,
     "metadata": {},
     "output_type": "execute_result"
    }
   ],
   "source": [
    "X_train['dummy'] = np.floor(X_train['worst smoothness']*10)\n",
    "X_train.dummy.value_counts() / np.float(len(X_train))"
   ]
  },
  {
   "cell_type": "code",
   "execution_count": 57,
   "metadata": {
    "pycharm": {
     "name": "#%%\n"
    }
   },
   "outputs": [
    {
     "name": "stdout",
     "output_type": "stream",
     "text": [
      "1 константные переменные\n"
     ]
    },
    {
     "name": "stderr",
     "output_type": "stream",
     "text": [
      "/var/folders/91/k98801wn6yd0ssq44m34fwlh0000gn/T/ipykernel_14588/1105400255.py:5: DeprecationWarning: `np.float` is a deprecated alias for the builtin `float`. To silence this warning, use `float` by itself. Doing this will not modify any behavior and is safe. If you specifically wanted the numpy scalar type, use `np.float64` here.\n",
      "Deprecated in NumPy 1.20; for more details and guidance: https://numpy.org/devdocs/release/1.20.0-notes.html#deprecations\n",
      "  predominant = (data_copy[feature].value_counts() / np.float(\n",
      "/var/folders/91/k98801wn6yd0ssq44m34fwlh0000gn/T/ipykernel_14588/1105400255.py:5: DeprecationWarning: `np.float` is a deprecated alias for the builtin `float`. To silence this warning, use `float` by itself. Doing this will not modify any behavior and is safe. If you specifically wanted the numpy scalar type, use `np.float64` here.\n",
      "Deprecated in NumPy 1.20; for more details and guidance: https://numpy.org/devdocs/release/1.20.0-notes.html#deprecations\n",
      "  predominant = (data_copy[feature].value_counts() / np.float(\n",
      "/var/folders/91/k98801wn6yd0ssq44m34fwlh0000gn/T/ipykernel_14588/1105400255.py:5: DeprecationWarning: `np.float` is a deprecated alias for the builtin `float`. To silence this warning, use `float` by itself. Doing this will not modify any behavior and is safe. If you specifically wanted the numpy scalar type, use `np.float64` here.\n",
      "Deprecated in NumPy 1.20; for more details and guidance: https://numpy.org/devdocs/release/1.20.0-notes.html#deprecations\n",
      "  predominant = (data_copy[feature].value_counts() / np.float(\n",
      "/var/folders/91/k98801wn6yd0ssq44m34fwlh0000gn/T/ipykernel_14588/1105400255.py:5: DeprecationWarning: `np.float` is a deprecated alias for the builtin `float`. To silence this warning, use `float` by itself. Doing this will not modify any behavior and is safe. If you specifically wanted the numpy scalar type, use `np.float64` here.\n",
      "Deprecated in NumPy 1.20; for more details and guidance: https://numpy.org/devdocs/release/1.20.0-notes.html#deprecations\n",
      "  predominant = (data_copy[feature].value_counts() / np.float(\n",
      "/var/folders/91/k98801wn6yd0ssq44m34fwlh0000gn/T/ipykernel_14588/1105400255.py:5: DeprecationWarning: `np.float` is a deprecated alias for the builtin `float`. To silence this warning, use `float` by itself. Doing this will not modify any behavior and is safe. If you specifically wanted the numpy scalar type, use `np.float64` here.\n",
      "Deprecated in NumPy 1.20; for more details and guidance: https://numpy.org/devdocs/release/1.20.0-notes.html#deprecations\n",
      "  predominant = (data_copy[feature].value_counts() / np.float(\n",
      "/var/folders/91/k98801wn6yd0ssq44m34fwlh0000gn/T/ipykernel_14588/1105400255.py:5: DeprecationWarning: `np.float` is a deprecated alias for the builtin `float`. To silence this warning, use `float` by itself. Doing this will not modify any behavior and is safe. If you specifically wanted the numpy scalar type, use `np.float64` here.\n",
      "Deprecated in NumPy 1.20; for more details and guidance: https://numpy.org/devdocs/release/1.20.0-notes.html#deprecations\n",
      "  predominant = (data_copy[feature].value_counts() / np.float(\n",
      "/var/folders/91/k98801wn6yd0ssq44m34fwlh0000gn/T/ipykernel_14588/1105400255.py:5: DeprecationWarning: `np.float` is a deprecated alias for the builtin `float`. To silence this warning, use `float` by itself. Doing this will not modify any behavior and is safe. If you specifically wanted the numpy scalar type, use `np.float64` here.\n",
      "Deprecated in NumPy 1.20; for more details and guidance: https://numpy.org/devdocs/release/1.20.0-notes.html#deprecations\n",
      "  predominant = (data_copy[feature].value_counts() / np.float(\n",
      "/var/folders/91/k98801wn6yd0ssq44m34fwlh0000gn/T/ipykernel_14588/1105400255.py:5: DeprecationWarning: `np.float` is a deprecated alias for the builtin `float`. To silence this warning, use `float` by itself. Doing this will not modify any behavior and is safe. If you specifically wanted the numpy scalar type, use `np.float64` here.\n",
      "Deprecated in NumPy 1.20; for more details and guidance: https://numpy.org/devdocs/release/1.20.0-notes.html#deprecations\n",
      "  predominant = (data_copy[feature].value_counts() / np.float(\n",
      "/var/folders/91/k98801wn6yd0ssq44m34fwlh0000gn/T/ipykernel_14588/1105400255.py:5: DeprecationWarning: `np.float` is a deprecated alias for the builtin `float`. To silence this warning, use `float` by itself. Doing this will not modify any behavior and is safe. If you specifically wanted the numpy scalar type, use `np.float64` here.\n",
      "Deprecated in NumPy 1.20; for more details and guidance: https://numpy.org/devdocs/release/1.20.0-notes.html#deprecations\n",
      "  predominant = (data_copy[feature].value_counts() / np.float(\n",
      "/var/folders/91/k98801wn6yd0ssq44m34fwlh0000gn/T/ipykernel_14588/1105400255.py:5: DeprecationWarning: `np.float` is a deprecated alias for the builtin `float`. To silence this warning, use `float` by itself. Doing this will not modify any behavior and is safe. If you specifically wanted the numpy scalar type, use `np.float64` here.\n",
      "Deprecated in NumPy 1.20; for more details and guidance: https://numpy.org/devdocs/release/1.20.0-notes.html#deprecations\n",
      "  predominant = (data_copy[feature].value_counts() / np.float(\n",
      "/var/folders/91/k98801wn6yd0ssq44m34fwlh0000gn/T/ipykernel_14588/1105400255.py:5: DeprecationWarning: `np.float` is a deprecated alias for the builtin `float`. To silence this warning, use `float` by itself. Doing this will not modify any behavior and is safe. If you specifically wanted the numpy scalar type, use `np.float64` here.\n",
      "Deprecated in NumPy 1.20; for more details and guidance: https://numpy.org/devdocs/release/1.20.0-notes.html#deprecations\n",
      "  predominant = (data_copy[feature].value_counts() / np.float(\n",
      "/var/folders/91/k98801wn6yd0ssq44m34fwlh0000gn/T/ipykernel_14588/1105400255.py:5: DeprecationWarning: `np.float` is a deprecated alias for the builtin `float`. To silence this warning, use `float` by itself. Doing this will not modify any behavior and is safe. If you specifically wanted the numpy scalar type, use `np.float64` here.\n",
      "Deprecated in NumPy 1.20; for more details and guidance: https://numpy.org/devdocs/release/1.20.0-notes.html#deprecations\n",
      "  predominant = (data_copy[feature].value_counts() / np.float(\n",
      "/var/folders/91/k98801wn6yd0ssq44m34fwlh0000gn/T/ipykernel_14588/1105400255.py:5: DeprecationWarning: `np.float` is a deprecated alias for the builtin `float`. To silence this warning, use `float` by itself. Doing this will not modify any behavior and is safe. If you specifically wanted the numpy scalar type, use `np.float64` here.\n",
      "Deprecated in NumPy 1.20; for more details and guidance: https://numpy.org/devdocs/release/1.20.0-notes.html#deprecations\n",
      "  predominant = (data_copy[feature].value_counts() / np.float(\n",
      "/var/folders/91/k98801wn6yd0ssq44m34fwlh0000gn/T/ipykernel_14588/1105400255.py:5: DeprecationWarning: `np.float` is a deprecated alias for the builtin `float`. To silence this warning, use `float` by itself. Doing this will not modify any behavior and is safe. If you specifically wanted the numpy scalar type, use `np.float64` here.\n",
      "Deprecated in NumPy 1.20; for more details and guidance: https://numpy.org/devdocs/release/1.20.0-notes.html#deprecations\n",
      "  predominant = (data_copy[feature].value_counts() / np.float(\n",
      "/var/folders/91/k98801wn6yd0ssq44m34fwlh0000gn/T/ipykernel_14588/1105400255.py:5: DeprecationWarning: `np.float` is a deprecated alias for the builtin `float`. To silence this warning, use `float` by itself. Doing this will not modify any behavior and is safe. If you specifically wanted the numpy scalar type, use `np.float64` here.\n",
      "Deprecated in NumPy 1.20; for more details and guidance: https://numpy.org/devdocs/release/1.20.0-notes.html#deprecations\n",
      "  predominant = (data_copy[feature].value_counts() / np.float(\n",
      "/var/folders/91/k98801wn6yd0ssq44m34fwlh0000gn/T/ipykernel_14588/1105400255.py:5: DeprecationWarning: `np.float` is a deprecated alias for the builtin `float`. To silence this warning, use `float` by itself. Doing this will not modify any behavior and is safe. If you specifically wanted the numpy scalar type, use `np.float64` here.\n",
      "Deprecated in NumPy 1.20; for more details and guidance: https://numpy.org/devdocs/release/1.20.0-notes.html#deprecations\n",
      "  predominant = (data_copy[feature].value_counts() / np.float(\n",
      "/var/folders/91/k98801wn6yd0ssq44m34fwlh0000gn/T/ipykernel_14588/1105400255.py:5: DeprecationWarning: `np.float` is a deprecated alias for the builtin `float`. To silence this warning, use `float` by itself. Doing this will not modify any behavior and is safe. If you specifically wanted the numpy scalar type, use `np.float64` here.\n",
      "Deprecated in NumPy 1.20; for more details and guidance: https://numpy.org/devdocs/release/1.20.0-notes.html#deprecations\n",
      "  predominant = (data_copy[feature].value_counts() / np.float(\n",
      "/var/folders/91/k98801wn6yd0ssq44m34fwlh0000gn/T/ipykernel_14588/1105400255.py:5: DeprecationWarning: `np.float` is a deprecated alias for the builtin `float`. To silence this warning, use `float` by itself. Doing this will not modify any behavior and is safe. If you specifically wanted the numpy scalar type, use `np.float64` here.\n",
      "Deprecated in NumPy 1.20; for more details and guidance: https://numpy.org/devdocs/release/1.20.0-notes.html#deprecations\n",
      "  predominant = (data_copy[feature].value_counts() / np.float(\n",
      "/var/folders/91/k98801wn6yd0ssq44m34fwlh0000gn/T/ipykernel_14588/1105400255.py:5: DeprecationWarning: `np.float` is a deprecated alias for the builtin `float`. To silence this warning, use `float` by itself. Doing this will not modify any behavior and is safe. If you specifically wanted the numpy scalar type, use `np.float64` here.\n",
      "Deprecated in NumPy 1.20; for more details and guidance: https://numpy.org/devdocs/release/1.20.0-notes.html#deprecations\n",
      "  predominant = (data_copy[feature].value_counts() / np.float(\n",
      "/var/folders/91/k98801wn6yd0ssq44m34fwlh0000gn/T/ipykernel_14588/1105400255.py:5: DeprecationWarning: `np.float` is a deprecated alias for the builtin `float`. To silence this warning, use `float` by itself. Doing this will not modify any behavior and is safe. If you specifically wanted the numpy scalar type, use `np.float64` here.\n",
      "Deprecated in NumPy 1.20; for more details and guidance: https://numpy.org/devdocs/release/1.20.0-notes.html#deprecations\n",
      "  predominant = (data_copy[feature].value_counts() / np.float(\n",
      "/var/folders/91/k98801wn6yd0ssq44m34fwlh0000gn/T/ipykernel_14588/1105400255.py:5: DeprecationWarning: `np.float` is a deprecated alias for the builtin `float`. To silence this warning, use `float` by itself. Doing this will not modify any behavior and is safe. If you specifically wanted the numpy scalar type, use `np.float64` here.\n",
      "Deprecated in NumPy 1.20; for more details and guidance: https://numpy.org/devdocs/release/1.20.0-notes.html#deprecations\n",
      "  predominant = (data_copy[feature].value_counts() / np.float(\n",
      "/var/folders/91/k98801wn6yd0ssq44m34fwlh0000gn/T/ipykernel_14588/1105400255.py:5: DeprecationWarning: `np.float` is a deprecated alias for the builtin `float`. To silence this warning, use `float` by itself. Doing this will not modify any behavior and is safe. If you specifically wanted the numpy scalar type, use `np.float64` here.\n",
      "Deprecated in NumPy 1.20; for more details and guidance: https://numpy.org/devdocs/release/1.20.0-notes.html#deprecations\n",
      "  predominant = (data_copy[feature].value_counts() / np.float(\n",
      "/var/folders/91/k98801wn6yd0ssq44m34fwlh0000gn/T/ipykernel_14588/1105400255.py:5: DeprecationWarning: `np.float` is a deprecated alias for the builtin `float`. To silence this warning, use `float` by itself. Doing this will not modify any behavior and is safe. If you specifically wanted the numpy scalar type, use `np.float64` here.\n",
      "Deprecated in NumPy 1.20; for more details and guidance: https://numpy.org/devdocs/release/1.20.0-notes.html#deprecations\n",
      "  predominant = (data_copy[feature].value_counts() / np.float(\n",
      "/var/folders/91/k98801wn6yd0ssq44m34fwlh0000gn/T/ipykernel_14588/1105400255.py:5: DeprecationWarning: `np.float` is a deprecated alias for the builtin `float`. To silence this warning, use `float` by itself. Doing this will not modify any behavior and is safe. If you specifically wanted the numpy scalar type, use `np.float64` here.\n",
      "Deprecated in NumPy 1.20; for more details and guidance: https://numpy.org/devdocs/release/1.20.0-notes.html#deprecations\n",
      "  predominant = (data_copy[feature].value_counts() / np.float(\n",
      "/var/folders/91/k98801wn6yd0ssq44m34fwlh0000gn/T/ipykernel_14588/1105400255.py:5: DeprecationWarning: `np.float` is a deprecated alias for the builtin `float`. To silence this warning, use `float` by itself. Doing this will not modify any behavior and is safe. If you specifically wanted the numpy scalar type, use `np.float64` here.\n",
      "Deprecated in NumPy 1.20; for more details and guidance: https://numpy.org/devdocs/release/1.20.0-notes.html#deprecations\n",
      "  predominant = (data_copy[feature].value_counts() / np.float(\n",
      "/var/folders/91/k98801wn6yd0ssq44m34fwlh0000gn/T/ipykernel_14588/1105400255.py:5: DeprecationWarning: `np.float` is a deprecated alias for the builtin `float`. To silence this warning, use `float` by itself. Doing this will not modify any behavior and is safe. If you specifically wanted the numpy scalar type, use `np.float64` here.\n",
      "Deprecated in NumPy 1.20; for more details and guidance: https://numpy.org/devdocs/release/1.20.0-notes.html#deprecations\n",
      "  predominant = (data_copy[feature].value_counts() / np.float(\n",
      "/var/folders/91/k98801wn6yd0ssq44m34fwlh0000gn/T/ipykernel_14588/1105400255.py:5: DeprecationWarning: `np.float` is a deprecated alias for the builtin `float`. To silence this warning, use `float` by itself. Doing this will not modify any behavior and is safe. If you specifically wanted the numpy scalar type, use `np.float64` here.\n",
      "Deprecated in NumPy 1.20; for more details and guidance: https://numpy.org/devdocs/release/1.20.0-notes.html#deprecations\n",
      "  predominant = (data_copy[feature].value_counts() / np.float(\n",
      "/var/folders/91/k98801wn6yd0ssq44m34fwlh0000gn/T/ipykernel_14588/1105400255.py:5: DeprecationWarning: `np.float` is a deprecated alias for the builtin `float`. To silence this warning, use `float` by itself. Doing this will not modify any behavior and is safe. If you specifically wanted the numpy scalar type, use `np.float64` here.\n",
      "Deprecated in NumPy 1.20; for more details and guidance: https://numpy.org/devdocs/release/1.20.0-notes.html#deprecations\n",
      "  predominant = (data_copy[feature].value_counts() / np.float(\n",
      "/var/folders/91/k98801wn6yd0ssq44m34fwlh0000gn/T/ipykernel_14588/1105400255.py:5: DeprecationWarning: `np.float` is a deprecated alias for the builtin `float`. To silence this warning, use `float` by itself. Doing this will not modify any behavior and is safe. If you specifically wanted the numpy scalar type, use `np.float64` here.\n",
      "Deprecated in NumPy 1.20; for more details and guidance: https://numpy.org/devdocs/release/1.20.0-notes.html#deprecations\n",
      "  predominant = (data_copy[feature].value_counts() / np.float(\n",
      "/var/folders/91/k98801wn6yd0ssq44m34fwlh0000gn/T/ipykernel_14588/1105400255.py:5: DeprecationWarning: `np.float` is a deprecated alias for the builtin `float`. To silence this warning, use `float` by itself. Doing this will not modify any behavior and is safe. If you specifically wanted the numpy scalar type, use `np.float64` here.\n",
      "Deprecated in NumPy 1.20; for more details and guidance: https://numpy.org/devdocs/release/1.20.0-notes.html#deprecations\n",
      "  predominant = (data_copy[feature].value_counts() / np.float(\n",
      "/var/folders/91/k98801wn6yd0ssq44m34fwlh0000gn/T/ipykernel_14588/1105400255.py:5: DeprecationWarning: `np.float` is a deprecated alias for the builtin `float`. To silence this warning, use `float` by itself. Doing this will not modify any behavior and is safe. If you specifically wanted the numpy scalar type, use `np.float64` here.\n",
      "Deprecated in NumPy 1.20; for more details and guidance: https://numpy.org/devdocs/release/1.20.0-notes.html#deprecations\n",
      "  predominant = (data_copy[feature].value_counts() / np.float(\n"
     ]
    },
    {
     "data": {
      "text/plain": "['dummy']"
     },
     "execution_count": 57,
     "metadata": {},
     "output_type": "execute_result"
    }
   ],
   "source": [
    "quasi_constant_feature = constant_feature_detect(data=X_train,threshold=0.9)\n",
    "quasi_constant_feature"
   ]
  },
  {
   "cell_type": "code",
   "execution_count": 58,
   "metadata": {
    "pycharm": {
     "name": "#%%\n"
    }
   },
   "outputs": [
    {
     "name": "stdout",
     "output_type": "stream",
     "text": [
      "(455, 30)\n"
     ]
    }
   ],
   "source": [
    "X_train.drop(labels=quasi_constant_feature,axis=1,inplace=True)\n",
    "print(X_train.shape)"
   ]
  },
  {
   "cell_type": "markdown",
   "metadata": {
    "pycharm": {
     "name": "#%% md\n"
    }
   },
   "source": [
    "Корреляционная фильтрация"
   ]
  },
  {
   "cell_type": "code",
   "execution_count": 59,
   "metadata": {
    "collapsed": true,
    "pycharm": {
     "name": "#%%\n"
    }
   },
   "outputs": [],
   "source": [
    "def corr_feature_detect(data,threshold=0.8):\n",
    "    \n",
    "    corrmat = data.corr()\n",
    "    corrmat = corrmat.abs().unstack() \n",
    "    corrmat = corrmat.sort_values(ascending=False)\n",
    "    corrmat = corrmat[corrmat >= threshold]\n",
    "    corrmat = corrmat[corrmat < 1] \n",
    "    corrmat = pd.DataFrame(corrmat).reset_index()\n",
    "    corrmat.columns = ['feature1', 'feature2', 'corr']\n",
    "   \n",
    "    grouped_feature_ls = []\n",
    "    correlated_groups = []\n",
    "    \n",
    "    for feature in corrmat.feature1.unique():\n",
    "        if feature not in grouped_feature_ls:\n",
    "    \n",
    "            correlated_block = corrmat[corrmat.feature1 == feature]\n",
    "            grouped_feature_ls = grouped_feature_ls + list(\n",
    "                correlated_block.feature2.unique()) + [feature]\n",
    "    \n",
    "            correlated_groups.append(correlated_block)\n",
    "    return correlated_groups"
   ]
  },
  {
   "cell_type": "code",
   "execution_count": 60,
   "metadata": {
    "pycharm": {
     "name": "#%%\n"
    }
   },
   "outputs": [
    {
     "name": "stdout",
     "output_type": "stream",
     "text": [
      "          feature1         feature2      corr\n",
      "0   mean perimeter      mean radius  0.998185\n",
      "7   mean perimeter        mean area  0.986692\n",
      "14  mean perimeter  worst perimeter  0.970507\n",
      "19  mean perimeter     worst radius  0.969520\n",
      "32  mean perimeter       worst area  0.941920 \n",
      "\n",
      "           feature1      feature2      corr\n",
      "12  perimeter error  radius error  0.978323\n",
      "30  perimeter error    area error  0.944995 \n",
      "\n",
      "               feature1              feature2      corr\n",
      "36  mean concave points        mean concavity  0.914627\n",
      "41  mean concave points  worst concave points  0.906312 \n",
      "\n",
      "         feature1      feature2      corr\n",
      "38  worst texture  mean texture  0.908182 \n",
      "\n"
     ]
    }
   ],
   "source": [
    "corr = corr_feature_detect(data=X_train,threshold=0.9)\n",
    "for i in corr:\n",
    "    print(i,'\\n')"
   ]
  },
  {
   "cell_type": "markdown",
   "metadata": {
    "pycharm": {
     "name": "#%% md\n"
    }
   },
   "source": [
    "Взаимная информация"
   ]
  },
  {
   "cell_type": "code",
   "execution_count": 61,
   "metadata": {
    "collapsed": true,
    "pycharm": {
     "name": "#%%\n"
    }
   },
   "outputs": [],
   "source": [
    "def mutual_info(X,y,select_k=10):\n",
    "\n",
    "    if select_k >= 1:\n",
    "        sel_ = SelectKBest(mutual_info_classif, k=select_k).fit(X,y)\n",
    "        col = X.columns[sel_.get_support()]\n",
    "        \n",
    "    elif 0 < select_k < 1:\n",
    "        sel_ = SelectPercentile(mutual_info_classif, percentile=select_k*100).fit(X,y)\n",
    "        col = X.columns[sel_.get_support()]   \n",
    "        \n",
    "    else:\n",
    "        raise ValueError(\"select_k должно быть положительным значением\")\n",
    "    \n",
    "    return col"
   ]
  },
  {
   "cell_type": "code",
   "execution_count": 62,
   "metadata": {
    "pycharm": {
     "name": "#%%\n"
    }
   },
   "outputs": [
    {
     "name": "stdout",
     "output_type": "stream",
     "text": [
      "Index(['mean concave points', 'worst perimeter', 'worst area'], dtype='object')\n"
     ]
    }
   ],
   "source": [
    "mi = mutual_info(X=X_train,y=y_train,select_k=3)\n",
    "print(mi)"
   ]
  },
  {
   "cell_type": "code",
   "execution_count": 63,
   "metadata": {
    "pycharm": {
     "name": "#%%\n"
    }
   },
   "outputs": [
    {
     "name": "stdout",
     "output_type": "stream",
     "text": [
      "Index(['mean perimeter', 'mean concave points', 'worst radius',\n",
      "       'worst perimeter', 'worst area', 'worst concave points'],\n",
      "      dtype='object')\n"
     ]
    }
   ],
   "source": [
    "mi = mutual_info(X=X_train,y=y_train,select_k=0.2)\n",
    "print(mi)"
   ]
  },
  {
   "cell_type": "markdown",
   "metadata": {
    "pycharm": {
     "name": "#%% md\n"
    }
   },
   "source": [
    "Хи-квадрат тест"
   ]
  },
  {
   "cell_type": "code",
   "execution_count": 64,
   "metadata": {
    "collapsed": true,
    "pycharm": {
     "name": "#%%\n"
    }
   },
   "outputs": [],
   "source": [
    "def chi_square_test(X,y,select_k=10):\n",
    "\n",
    "    if select_k >= 1:\n",
    "        sel_ = SelectKBest(chi2, k=select_k).fit(X,y)\n",
    "        col = X.columns[sel_.get_support()]\n",
    "    elif 0 < select_k < 1:\n",
    "        sel_ = SelectPercentile(chi2, percentile=select_k*100).fit(X,y)\n",
    "        col = X.columns[sel_.get_support()]   \n",
    "    else:\n",
    "        raise ValueError(\"select_k должно быть положительным значением\")  \n",
    "    \n",
    "    return col"
   ]
  },
  {
   "cell_type": "code",
   "execution_count": 65,
   "metadata": {
    "pycharm": {
     "name": "#%%\n"
    }
   },
   "outputs": [
    {
     "name": "stdout",
     "output_type": "stream",
     "text": [
      "Index(['mean area', 'area error', 'worst area'], dtype='object')\n"
     ]
    }
   ],
   "source": [
    "chi = chi_square_test(X=X_train,y=y_train,select_k=3)\n",
    "print(chi)"
   ]
  },
  {
   "cell_type": "code",
   "execution_count": 66,
   "metadata": {
    "pycharm": {
     "name": "#%%\n"
    }
   },
   "outputs": [
    {
     "name": "stdout",
     "output_type": "stream",
     "text": [
      "Index(['mean perimeter', 'mean area', 'area error', 'worst radius',\n",
      "       'worst perimeter', 'worst area'],\n",
      "      dtype='object')\n"
     ]
    }
   ],
   "source": [
    "chi = chi_square_test(X=X_train,y=y_train,select_k=0.2)\n",
    "print(chi)"
   ]
  },
  {
   "cell_type": "markdown",
   "metadata": {
    "pycharm": {
     "name": "#%% md\n"
    }
   },
   "source": [
    "Одномерный ROC-AUC или MSE анализ"
   ]
  },
  {
   "cell_type": "code",
   "execution_count": 67,
   "metadata": {
    "collapsed": true,
    "pycharm": {
     "name": "#%%\n"
    }
   },
   "outputs": [],
   "source": [
    "def univariate_roc_auc(X_train,y_train,X_test,y_test,threshold):\n",
    "\n",
    "    roc_values = []\n",
    "    for feature in X_train.columns:\n",
    "        clf = DecisionTreeClassifier()\n",
    "        clf.fit(X_train[feature].to_frame(), y_train)\n",
    "        y_scored = clf.predict_proba(X_test[feature].to_frame())\n",
    "        roc_values.append(roc_auc_score(y_test, y_scored[:, 1]))\n",
    "    roc_values = pd.Series(roc_values)\n",
    "    roc_values.index = X_train.columns\n",
    "    print(roc_values.sort_values(ascending=False))\n",
    "    print(len(roc_values[roc_values > threshold]), len(X_train.columns))\n",
    "    keep_col = roc_values[roc_values > threshold]\n",
    "    return keep_col"
   ]
  },
  {
   "cell_type": "code",
   "execution_count": 68,
   "metadata": {
    "pycharm": {
     "name": "#%%\n"
    }
   },
   "outputs": [
    {
     "name": "stdout",
     "output_type": "stream",
     "text": [
      "worst perimeter            0.917275\n",
      "worst area                 0.895840\n",
      "worst radius               0.893458\n",
      "worst concave points       0.863131\n",
      "mean concavity             0.856939\n",
      "mean radius                0.849000\n",
      "mean area                  0.839314\n",
      "worst concavity            0.831375\n",
      "mean perimeter             0.829628\n",
      "mean concave points        0.826453\n",
      "area error                 0.812321\n",
      "worst compactness          0.742299\n",
      "radius error               0.740235\n",
      "mean compactness           0.734360\n",
      "perimeter error            0.680534\n",
      "worst texture              0.647666\n",
      "worst fractal dimension    0.640997\n",
      "concavity error            0.640203\n",
      "worst symmetry             0.620991\n",
      "concave points error       0.618133\n",
      "compactness error          0.607336\n",
      "mean symmetry              0.591775\n",
      "mean texture               0.573357\n",
      "texture error              0.568593\n",
      "worst smoothness           0.565100\n",
      "mean smoothness            0.557637\n",
      "fractal dimension error    0.542077\n",
      "smoothness error           0.522706\n",
      "symmetry error             0.493649\n",
      "mean fractal dimension     0.475548\n",
      "dtype: float64\n",
      "11 30\n",
      "mean radius             0.849000\n",
      "mean perimeter          0.829628\n",
      "mean area               0.839314\n",
      "mean concavity          0.856939\n",
      "mean concave points     0.826453\n",
      "area error              0.812321\n",
      "worst radius            0.893458\n",
      "worst perimeter         0.917275\n",
      "worst area              0.895840\n",
      "worst concavity         0.831375\n",
      "worst concave points    0.863131\n",
      "dtype: float64\n"
     ]
    }
   ],
   "source": [
    "uni_roc_auc = univariate_roc_auc(X_train=X_train,y_train=y_train,\n",
    "                                   X_test=X_test,y_test=y_test,threshold=0.8)\n",
    "print(uni_roc_auc)"
   ]
  },
  {
   "cell_type": "code",
   "execution_count": 68,
   "metadata": {
    "collapsed": true,
    "pycharm": {
     "name": "#%%\n"
    }
   },
   "outputs": [],
   "source": [
    "def univariate_mse(X_train,y_train,X_test,y_test,threshold):\n",
    "\n",
    "    mse_values = []\n",
    "    for feature in X_train.columns:\n",
    "        clf = DecisionTreeRegressor()\n",
    "        clf.fit(X_train[feature].to_frame(), y_train)\n",
    "        y_scored = clf.predict(X_test[feature].to_frame())\n",
    "        mse_values.append(mean_squared_error(y_test, y_scored))\n",
    "    mse_values = pd.Series(mse_values)\n",
    "    mse_values.index = X_train.columns\n",
    "    print(mse_values.sort_values(ascending=False))\n",
    "    print(len(mse_values[mse_values > threshold]), len(X_train.columns))\n",
    "    keep_col = mse_values[mse_values > threshold]\n",
    "    return keep_col   "
   ]
  },
  {
   "cell_type": "code",
   "execution_count": 69,
   "metadata": {
    "pycharm": {
     "name": "#%%\n"
    }
   },
   "outputs": [
    {
     "name": "stdout",
     "output_type": "stream",
     "text": [
      "mean fractal dimension     0.491228\n",
      "symmetry error             0.480750\n",
      "fractal dimension error    0.456140\n",
      "smoothness error           0.449561\n",
      "texture error              0.412281\n",
      "worst smoothness           0.403265\n",
      "mean smoothness            0.399123\n",
      "mean texture               0.396930\n",
      "mean symmetry              0.363060\n",
      "compactness error          0.361842\n",
      "concave points error       0.357456\n",
      "worst fractal dimension    0.355263\n",
      "worst symmetry             0.350877\n",
      "worst texture              0.333333\n",
      "concavity error            0.333333\n",
      "perimeter error            0.300439\n",
      "mean compactness           0.258772\n",
      "worst compactness          0.254386\n",
      "radius error               0.245614\n",
      "area error                 0.179825\n",
      "mean perimeter             0.166667\n",
      "mean concave points        0.166667\n",
      "worst concavity            0.162281\n",
      "mean radius                0.146930\n",
      "mean concavity             0.142544\n",
      "mean area                  0.140351\n",
      "worst concave points       0.123782\n",
      "worst area                 0.103070\n",
      "worst radius               0.100877\n",
      "worst perimeter            0.098684\n",
      "dtype: float64\n",
      "6 30\n",
      "mean fractal dimension     0.491228\n",
      "texture error              0.412281\n",
      "smoothness error           0.449561\n",
      "symmetry error             0.480750\n",
      "fractal dimension error    0.456140\n",
      "worst smoothness           0.403265\n",
      "dtype: float64\n"
     ]
    }
   ],
   "source": [
    "uni_mse = univariate_mse(X_train=X_train,y_train=y_train,\n",
    "                            X_test=X_test,y_test=y_test,threshold=0.4)\n",
    "print(uni_mse)"
   ]
  },
  {
   "cell_type": "markdown",
   "metadata": {
    "pycharm": {
     "name": "#%% md\n"
    }
   },
   "source": [
    "## Oversampling/undersampling "
   ]
  },
  {
   "cell_type": "code",
   "execution_count": 69,
   "metadata": {
    "pycharm": {
     "name": "#%%\n"
    }
   },
   "outputs": [
    {
     "data": {
      "text/plain": "455"
     },
     "execution_count": 69,
     "metadata": {},
     "output_type": "execute_result"
    }
   ],
   "source": [
    "len(y_train)"
   ]
  },
  {
   "cell_type": "code",
   "execution_count": 70,
   "metadata": {
    "collapsed": true,
    "pycharm": {
     "name": "#%%\n"
    }
   },
   "outputs": [],
   "source": [
    "sm = SMOTE(random_state=42)"
   ]
  },
  {
   "cell_type": "code",
   "execution_count": 71,
   "metadata": {
    "collapsed": true,
    "pycharm": {
     "name": "#%%\n"
    }
   },
   "outputs": [],
   "source": [
    "X_res, y_res = sm.fit_resample(X_train, y_train)"
   ]
  },
  {
   "cell_type": "code",
   "execution_count": 72,
   "metadata": {
    "pycharm": {
     "name": "#%%\n"
    }
   },
   "outputs": [
    {
     "data": {
      "text/plain": "580"
     },
     "execution_count": 72,
     "metadata": {},
     "output_type": "execute_result"
    }
   ],
   "source": [
    "len(y_res)"
   ]
  },
  {
   "cell_type": "code",
   "execution_count": 73,
   "metadata": {
    "collapsed": true,
    "pycharm": {
     "name": "#%%\n"
    }
   },
   "outputs": [],
   "source": [
    "cn = CondensedNearestNeighbour(random_state=42)"
   ]
  },
  {
   "cell_type": "code",
   "execution_count": 74,
   "metadata": {
    "collapsed": true,
    "pycharm": {
     "name": "#%%\n"
    }
   },
   "outputs": [],
   "source": [
    "X_res, y_res = cn.fit_resample(X_train, y_train)"
   ]
  },
  {
   "cell_type": "code",
   "execution_count": 75,
   "metadata": {
    "pycharm": {
     "name": "#%%\n"
    }
   },
   "outputs": [
    {
     "data": {
      "text/plain": "205"
     },
     "execution_count": 75,
     "metadata": {},
     "output_type": "execute_result"
    }
   ],
   "source": [
    "len(y_res)"
   ]
  },
  {
   "cell_type": "code",
   "execution_count": null,
   "metadata": {
    "collapsed": true,
    "pycharm": {
     "name": "#%%\n"
    }
   },
   "outputs": [],
   "source": []
  }
 ],
 "metadata": {
  "kernelspec": {
   "display_name": "Python 3",
   "language": "python",
   "name": "python3"
  },
  "language_info": {
   "codemirror_mode": {
    "name": "ipython",
    "version": 3
   },
   "file_extension": ".py",
   "mimetype": "text/x-python",
   "name": "python",
   "nbconvert_exporter": "python",
   "pygments_lexer": "ipython3",
   "version": "3.6.3"
  }
 },
 "nbformat": 4,
 "nbformat_minor": 2
}