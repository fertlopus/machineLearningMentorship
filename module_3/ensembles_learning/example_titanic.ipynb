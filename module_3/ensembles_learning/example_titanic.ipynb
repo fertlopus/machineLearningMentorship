{
 "cells": [
  {
   "cell_type": "markdown",
   "metadata": {
    "pycharm": {
     "name": "#%% md\n"
    }
   },
   "source": [
    "# Titanic: Machine Learning from Disaster"
   ]
  },
  {
   "cell_type": "code",
   "execution_count": 10,
   "metadata": {
    "collapsed": true,
    "pycharm": {
     "name": "#%%\n"
    },
    "ExecuteTime": {
     "end_time": "2023-06-21T12:21:59.279629Z",
     "start_time": "2023-06-21T12:21:59.268663Z"
    }
   },
   "outputs": [],
   "source": [
    "import sklearn\n",
    "import pandas as pd\n",
    "import numpy as np\n",
    "import warnings\n",
    "\n",
    "warnings.filterwarnings(\"ignore\")"
   ]
  },
  {
   "cell_type": "code",
   "execution_count": 11,
   "metadata": {
    "collapsed": true,
    "pycharm": {
     "name": "#%%\n"
    },
    "ExecuteTime": {
     "end_time": "2023-06-21T12:21:59.605135Z",
     "start_time": "2023-06-21T12:21:59.592790Z"
    }
   },
   "outputs": [],
   "source": [
    "# Загружаем данные из файлов\n",
    "train = pd.read_csv('./../classification_algorithms/data/titanic_train.csv')\n",
    "test = pd.read_csv('./../classification_algorithms/data/titanic_test.csv')"
   ]
  },
  {
   "cell_type": "code",
   "execution_count": 12,
   "metadata": {
    "collapsed": true,
    "pycharm": {
     "name": "#%%\n"
    },
    "ExecuteTime": {
     "end_time": "2023-06-21T12:21:59.996338Z",
     "start_time": "2023-06-21T12:21:59.964908Z"
    }
   },
   "outputs": [],
   "source": [
    "# сохраняем столбец идентификаторов пассажиров для тестовых данных\n",
    "test_passenger_id = test['PassengerId']"
   ]
  },
  {
   "cell_type": "code",
   "execution_count": 13,
   "metadata": {
    "pycharm": {
     "name": "#%%\n",
     "is_executing": true
    },
    "ExecuteTime": {
     "end_time": "2023-06-21T12:22:00.232300Z",
     "start_time": "2023-06-21T12:22:00.217194Z"
    }
   },
   "outputs": [
    {
     "data": {
      "text/plain": "   PassengerId  Survived  Pclass   \n0            1         0       3  \\\n1            2         1       1   \n2            3         1       3   \n3            4         1       1   \n4            5         0       3   \n\n                                                Name     Sex   Age  SibSp   \n0                            Braund, Mr. Owen Harris    male  22.0      1  \\\n1  Cumings, Mrs. John Bradley (Florence Briggs Th...  female  38.0      1   \n2                             Heikkinen, Miss. Laina  female  26.0      0   \n3       Futrelle, Mrs. Jacques Heath (Lily May Peel)  female  35.0      1   \n4                           Allen, Mr. William Henry    male  35.0      0   \n\n   Parch            Ticket     Fare Cabin Embarked  \n0      0         A/5 21171   7.2500   NaN        S  \n1      0          PC 17599  71.2833   C85        C  \n2      0  STON/O2. 3101282   7.9250   NaN        S  \n3      0            113803  53.1000  C123        S  \n4      0            373450   8.0500   NaN        S  ",
      "text/html": "<div>\n<style scoped>\n    .dataframe tbody tr th:only-of-type {\n        vertical-align: middle;\n    }\n\n    .dataframe tbody tr th {\n        vertical-align: top;\n    }\n\n    .dataframe thead th {\n        text-align: right;\n    }\n</style>\n<table border=\"1\" class=\"dataframe\">\n  <thead>\n    <tr style=\"text-align: right;\">\n      <th></th>\n      <th>PassengerId</th>\n      <th>Survived</th>\n      <th>Pclass</th>\n      <th>Name</th>\n      <th>Sex</th>\n      <th>Age</th>\n      <th>SibSp</th>\n      <th>Parch</th>\n      <th>Ticket</th>\n      <th>Fare</th>\n      <th>Cabin</th>\n      <th>Embarked</th>\n    </tr>\n  </thead>\n  <tbody>\n    <tr>\n      <th>0</th>\n      <td>1</td>\n      <td>0</td>\n      <td>3</td>\n      <td>Braund, Mr. Owen Harris</td>\n      <td>male</td>\n      <td>22.0</td>\n      <td>1</td>\n      <td>0</td>\n      <td>A/5 21171</td>\n      <td>7.2500</td>\n      <td>NaN</td>\n      <td>S</td>\n    </tr>\n    <tr>\n      <th>1</th>\n      <td>2</td>\n      <td>1</td>\n      <td>1</td>\n      <td>Cumings, Mrs. John Bradley (Florence Briggs Th...</td>\n      <td>female</td>\n      <td>38.0</td>\n      <td>1</td>\n      <td>0</td>\n      <td>PC 17599</td>\n      <td>71.2833</td>\n      <td>C85</td>\n      <td>C</td>\n    </tr>\n    <tr>\n      <th>2</th>\n      <td>3</td>\n      <td>1</td>\n      <td>3</td>\n      <td>Heikkinen, Miss. Laina</td>\n      <td>female</td>\n      <td>26.0</td>\n      <td>0</td>\n      <td>0</td>\n      <td>STON/O2. 3101282</td>\n      <td>7.9250</td>\n      <td>NaN</td>\n      <td>S</td>\n    </tr>\n    <tr>\n      <th>3</th>\n      <td>4</td>\n      <td>1</td>\n      <td>1</td>\n      <td>Futrelle, Mrs. Jacques Heath (Lily May Peel)</td>\n      <td>female</td>\n      <td>35.0</td>\n      <td>1</td>\n      <td>0</td>\n      <td>113803</td>\n      <td>53.1000</td>\n      <td>C123</td>\n      <td>S</td>\n    </tr>\n    <tr>\n      <th>4</th>\n      <td>5</td>\n      <td>0</td>\n      <td>3</td>\n      <td>Allen, Mr. William Henry</td>\n      <td>male</td>\n      <td>35.0</td>\n      <td>0</td>\n      <td>0</td>\n      <td>373450</td>\n      <td>8.0500</td>\n      <td>NaN</td>\n      <td>S</td>\n    </tr>\n  </tbody>\n</table>\n</div>"
     },
     "execution_count": 13,
     "metadata": {},
     "output_type": "execute_result"
    }
   ],
   "source": [
    "train.head()"
   ]
  },
  {
   "cell_type": "markdown",
   "metadata": {
    "pycharm": {
     "name": "#%% md\n"
    }
   },
   "source": [
    "## Предобработка данных, добавление признаков"
   ]
  },
  {
   "cell_type": "code",
   "execution_count": 14,
   "metadata": {
    "collapsed": true,
    "pycharm": {
     "name": "#%%\n"
    },
    "ExecuteTime": {
     "end_time": "2023-06-21T12:22:01.151834Z",
     "start_time": "2023-06-21T12:22:01.123128Z"
    }
   },
   "outputs": [],
   "source": [
    "import re\n",
    "\n",
    "RARE_TITLES = ['Lady', 'Countess','Capt', 'Col', 'Don', 'Dr', 'Major', 'Rev', 'Sir', 'Jonkheer', 'Dona']\n",
    "\n",
    "# создаем словарь для исправления префиксов имени\n",
    "TITLES = dict((title, 'Rare') for title in RARE_TITLES)\n",
    "TITLES['Mlle'] = 'Miss'\n",
    "TITLES['Ms'] = 'Miss'\n",
    "TITLES['Mme'] = 'Mrs'\n",
    "\n",
    "\n",
    "def get_title(name):\n",
    "    \"\"\" Возвращает префикс имени \"\"\"\n",
    "    match = re.search(' ([A-Za-z]+)\\.', name)\n",
    "    if match:\n",
    "        # исправляем опечатки в префиксе имени\n",
    "        return TITLES.get(match.group(1), match.group(1))\n",
    "    return ''\n",
    "\n",
    "# Применяем процесс для обучающего и тестового наборов\n",
    "for dataset in [test, train]:\n",
    "    # длина имени\n",
    "    dataset['Name_Length'] = train['Name'].apply(len)\n",
    "    # была ли каюта у пассажира\n",
    "    dataset['Has_Cabin'] = train[\"Cabin\"].apply(lambda x: 0 if type(x) == float else 1)\n",
    "    # сколько членов семьи было на корабле\n",
    "    dataset['FamilySize'] = dataset['SibSp'] + dataset['Parch'] + 1\n",
    "    # флаг = 1, если путешествует в одиночестве\n",
    "    dataset['IsAlone'] = 0\n",
    "    dataset.loc[dataset['FamilySize'] == 1, 'IsAlone'] = 1\n",
    "    # заполняем пропуски для Embarked\n",
    "    dataset['Embarked'] = dataset['Embarked'].fillna('S')\n",
    "    # заполняем индексами\n",
    "    dataset['Embarked'] = dataset['Embarked'].map( {'S': 0, 'C': 1, 'Q': 2} ).astype(int)\n",
    "    # заполняем пропуски Fare медианой\n",
    "    dataset['Fare'] = dataset['Fare'].fillna(train['Fare'].median())\n",
    "    # заполняем пропуски возраста медианой\n",
    "    dataset['Age'] = dataset['Age'].fillna(train['Age'].median())\n",
    "    # добавляем префикс имени как отдельный категориальный признак\n",
    "    dataset['Title'] = dataset['Name'].apply(get_title)\n",
    "    dataset['Title'] = dataset['Title'].map( {'Mr': 1, \n",
    "                                              'Miss': 2, \n",
    "                                              'Mrs': 3,\n",
    "                                              'Master': 4,\n",
    "                                              'Rare': 5} )\n",
    "    # заполняем неизвестные префиксы нулями\n",
    "    dataset['Title'] = dataset['Title'].fillna(0)\n",
    "    # бинаризуем пол\n",
    "    dataset['Sex'] = dataset['Sex'].map( {'female': 0, 'male': 1} ).astype(int)\n",
    "    # категоризируем стоимость билета\n",
    "    dataset.loc[dataset['Fare'] <= 7.91, 'Fare'] = 0\n",
    "    dataset.loc[(dataset['Fare'] > 7.91) & (dataset['Fare'] <= 14.454), 'Fare'] = 1\n",
    "    dataset.loc[(dataset['Fare'] > 14.454) & (dataset['Fare'] <= 31), 'Fare'] = 2\n",
    "    dataset.loc[dataset['Fare'] > 31, 'Fare'] = 3\n",
    "    dataset['Fare'] = dataset['Fare'].astype(int)\n",
    "    # категоризируем возраст\n",
    "    dataset.loc[dataset['Age'] <= 16, 'Age'] = 0\n",
    "    dataset.loc[(dataset['Age'] > 16) & (dataset['Age'] <= 32), 'Age'] = 1\n",
    "    dataset.loc[(dataset['Age'] > 32) & (dataset['Age'] <= 48), 'Age'] = 2\n",
    "    dataset.loc[(dataset['Age'] > 48) & (dataset['Age'] <= 64), 'Age'] = 3\n",
    "    dataset.loc[dataset['Age'] > 64, 'Age']"
   ]
  },
  {
   "cell_type": "code",
   "execution_count": 15,
   "metadata": {
    "collapsed": true,
    "pycharm": {
     "name": "#%%\n"
    },
    "ExecuteTime": {
     "end_time": "2023-06-21T12:22:01.494309Z",
     "start_time": "2023-06-21T12:22:01.480716Z"
    }
   },
   "outputs": [],
   "source": [
    "# Удаляем неиспользуемые столбцы\n",
    "DROP_COL = ['PassengerId', 'Name', 'Ticket', 'Cabin']\n",
    "\n",
    "X_train = np.array(train.drop(DROP_COL + ['Survived'], axis=1))\n",
    "y_train = np.array(train['Survived'])\n",
    "X_test = np.array(test.drop(DROP_COL, axis=1))"
   ]
  },
  {
   "cell_type": "markdown",
   "metadata": {
    "pycharm": {
     "name": "#%% md\n"
    }
   },
   "source": [
    "## Предсказание моделей для стеккинга"
   ]
  },
  {
   "cell_type": "code",
   "execution_count": 16,
   "metadata": {
    "pycharm": {
     "name": "#%%\n"
    },
    "ExecuteTime": {
     "end_time": "2023-06-21T12:22:05.959093Z",
     "start_time": "2023-06-21T12:22:02.281016Z"
    }
   },
   "outputs": [],
   "source": [
    "import numpy as np\n",
    "from sklearn.model_selection import cross_val_predict\n",
    "from sklearn.model_selection import KFold\n",
    "from sklearn.ensemble import RandomForestClassifier\n",
    "from sklearn.ensemble import ExtraTreesClassifier\n",
    "from sklearn.ensemble import GradientBoostingClassifier\n",
    "from sklearn.ensemble import AdaBoostClassifier\n",
    "\n",
    "def cross_val_predict_proba(estimator, X_train, y_train, X_test, random_state=None, n_splits=5):\n",
    "    y_test = np.zeros((len(X_test), n_splits), np.float32)\n",
    "    \n",
    "    kfold = KFold(n_splits=n_splits, \n",
    "                  shuffle=True,\n",
    "                  random_state=random_state)\n",
    "\n",
    "    y_predict = np.zeros_like(y_train, np.float32)\n",
    "    for i, (train_idx, test_idx) in enumerate(kfold.split(y_train)):\n",
    "        estimator.fit(X_train[train_idx], y_train[train_idx])\n",
    "        y_predict[test_idx] = estimator.predict_proba(X_train[test_idx])[:, 1]\n",
    "        y_test[:, i] = estimator.predict_proba(X_test)[:, 1]\n",
    "    \n",
    "    return y_predict, np.mean(y_test, axis=1)\n",
    "\n",
    "# TODO: подобрать гиперпараметры отдельных моделей\n",
    "\n",
    "# инициализирем модели с подобранными гиперпараметрами\n",
    "estimators = [RandomForestClassifier(random_state=42),\n",
    "              ExtraTreesClassifier(random_state=24),\n",
    "              AdaBoostClassifier(random_state=24),\n",
    "              GradientBoostingClassifier(random_state=42)]\n",
    "\n",
    "# получаем предсказания вероятностей ансамблей на кросс-валидации для обучающей выборки\n",
    "predicted = [cross_val_predict_proba(est, X_train, y_train, X_test) for est in estimators]\n",
    "\n",
    "X_train_stack = np.stack([p[0] for p in predicted], axis=1)\n",
    "X_test_stack = np.stack([p[1] for p in predicted], axis=1)"
   ]
  },
  {
   "cell_type": "markdown",
   "metadata": {
    "pycharm": {
     "name": "#%% md\n"
    }
   },
   "source": [
    "## Объединяем предсказания ансамблей с помощью логистической регрессии"
   ]
  },
  {
   "cell_type": "code",
   "execution_count": 17,
   "metadata": {
    "pycharm": {
     "name": "#%%\n",
     "is_executing": true
    },
    "ExecuteTime": {
     "end_time": "2023-06-21T12:22:06.489321Z",
     "start_time": "2023-06-21T12:22:05.963036Z"
    }
   },
   "outputs": [
    {
     "data": {
      "text/plain": "    mean_fit_time  std_fit_time  mean_score_time  std_score_time param_C   \n27       0.005225      0.000395         0.001459        0.000051     3.5  \\\n23       0.005066      0.000350         0.001423        0.000062     3.0   \n31       0.005392      0.000595         0.001550        0.000047     4.0   \n\n   param_class_weight param_penalty   \n27               None            l2  \\\n23               None            l2   \n31               None            l2   \n\n                                               params  split0_test_score   \n27  {'C': 3.5, 'class_weight': None, 'penalty': 'l2'}          -0.461220  \\\n23  {'C': 3.0, 'class_weight': None, 'penalty': 'l2'}          -0.461146   \n31  {'C': 4.0, 'class_weight': None, 'penalty': 'l2'}          -0.461285   \n\n    split1_test_score  split2_test_score  split3_test_score  mean_test_score   \n27          -0.418203          -0.389596          -0.382805        -0.412956  \\\n23          -0.418272          -0.389912          -0.382516        -0.412961   \n31          -0.418162          -0.389364          -0.383057        -0.412967   \n\n    std_test_score  rank_test_score  \n27        0.030870                1  \n23        0.030855                2  \n31        0.030876                3  ",
      "text/html": "<div>\n<style scoped>\n    .dataframe tbody tr th:only-of-type {\n        vertical-align: middle;\n    }\n\n    .dataframe tbody tr th {\n        vertical-align: top;\n    }\n\n    .dataframe thead th {\n        text-align: right;\n    }\n</style>\n<table border=\"1\" class=\"dataframe\">\n  <thead>\n    <tr style=\"text-align: right;\">\n      <th></th>\n      <th>mean_fit_time</th>\n      <th>std_fit_time</th>\n      <th>mean_score_time</th>\n      <th>std_score_time</th>\n      <th>param_C</th>\n      <th>param_class_weight</th>\n      <th>param_penalty</th>\n      <th>params</th>\n      <th>split0_test_score</th>\n      <th>split1_test_score</th>\n      <th>split2_test_score</th>\n      <th>split3_test_score</th>\n      <th>mean_test_score</th>\n      <th>std_test_score</th>\n      <th>rank_test_score</th>\n    </tr>\n  </thead>\n  <tbody>\n    <tr>\n      <th>27</th>\n      <td>0.005225</td>\n      <td>0.000395</td>\n      <td>0.001459</td>\n      <td>0.000051</td>\n      <td>3.5</td>\n      <td>None</td>\n      <td>l2</td>\n      <td>{'C': 3.5, 'class_weight': None, 'penalty': 'l2'}</td>\n      <td>-0.461220</td>\n      <td>-0.418203</td>\n      <td>-0.389596</td>\n      <td>-0.382805</td>\n      <td>-0.412956</td>\n      <td>0.030870</td>\n      <td>1</td>\n    </tr>\n    <tr>\n      <th>23</th>\n      <td>0.005066</td>\n      <td>0.000350</td>\n      <td>0.001423</td>\n      <td>0.000062</td>\n      <td>3.0</td>\n      <td>None</td>\n      <td>l2</td>\n      <td>{'C': 3.0, 'class_weight': None, 'penalty': 'l2'}</td>\n      <td>-0.461146</td>\n      <td>-0.418272</td>\n      <td>-0.389912</td>\n      <td>-0.382516</td>\n      <td>-0.412961</td>\n      <td>0.030855</td>\n      <td>2</td>\n    </tr>\n    <tr>\n      <th>31</th>\n      <td>0.005392</td>\n      <td>0.000595</td>\n      <td>0.001550</td>\n      <td>0.000047</td>\n      <td>4.0</td>\n      <td>None</td>\n      <td>l2</td>\n      <td>{'C': 4.0, 'class_weight': None, 'penalty': 'l2'}</td>\n      <td>-0.461285</td>\n      <td>-0.418162</td>\n      <td>-0.389364</td>\n      <td>-0.383057</td>\n      <td>-0.412967</td>\n      <td>0.030876</td>\n      <td>3</td>\n    </tr>\n  </tbody>\n</table>\n</div>"
     },
     "execution_count": 17,
     "metadata": {},
     "output_type": "execute_result"
    }
   ],
   "source": [
    "from sklearn.model_selection import GridSearchCV\n",
    "from sklearn.linear_model import LogisticRegression\n",
    "\n",
    "kfold = KFold(shuffle=True, n_splits=4, random_state=19746)\n",
    "params = {'class_weight': ['balanced', None],\n",
    "          'penalty': ['l1', 'l2'],\n",
    "          'C': [0.4, 0.5, 1., 2., 2.5, 3., 3.5, 4.]}\n",
    "\n",
    "grid = GridSearchCV(LogisticRegression(), params, scoring='neg_log_loss', cv=kfold)\n",
    "grid.fit(X_train_stack, y_train)\n",
    "pd.DataFrame(grid.cv_results_).sort_values('rank_test_score')[:3]"
   ]
  },
  {
   "cell_type": "code",
   "execution_count": 18,
   "metadata": {
    "pycharm": {
     "name": "#%%\n"
    },
    "ExecuteTime": {
     "end_time": "2023-06-21T12:22:07.710689Z",
     "start_time": "2023-06-21T12:22:07.698690Z"
    }
   },
   "outputs": [
    {
     "data": {
      "text/plain": "array([[1.34336007, 0.0834541 , 0.53087267, 3.71098135]])"
     },
     "execution_count": 18,
     "metadata": {},
     "output_type": "execute_result"
    }
   ],
   "source": [
    "grid.best_estimator_.coef_"
   ]
  },
  {
   "cell_type": "code",
   "execution_count": 19,
   "metadata": {
    "pycharm": {
     "name": "#%%\n"
    },
    "ExecuteTime": {
     "end_time": "2023-06-21T12:22:08.884551Z",
     "start_time": "2023-06-21T12:22:08.871233Z"
    }
   },
   "outputs": [
    {
     "data": {
      "text/plain": "LogisticRegression(C=3.5)",
      "text/html": "<style>#sk-container-id-1 {color: black;background-color: white;}#sk-container-id-1 pre{padding: 0;}#sk-container-id-1 div.sk-toggleable {background-color: white;}#sk-container-id-1 label.sk-toggleable__label {cursor: pointer;display: block;width: 100%;margin-bottom: 0;padding: 0.3em;box-sizing: border-box;text-align: center;}#sk-container-id-1 label.sk-toggleable__label-arrow:before {content: \"▸\";float: left;margin-right: 0.25em;color: #696969;}#sk-container-id-1 label.sk-toggleable__label-arrow:hover:before {color: black;}#sk-container-id-1 div.sk-estimator:hover label.sk-toggleable__label-arrow:before {color: black;}#sk-container-id-1 div.sk-toggleable__content {max-height: 0;max-width: 0;overflow: hidden;text-align: left;background-color: #f0f8ff;}#sk-container-id-1 div.sk-toggleable__content pre {margin: 0.2em;color: black;border-radius: 0.25em;background-color: #f0f8ff;}#sk-container-id-1 input.sk-toggleable__control:checked~div.sk-toggleable__content {max-height: 200px;max-width: 100%;overflow: auto;}#sk-container-id-1 input.sk-toggleable__control:checked~label.sk-toggleable__label-arrow:before {content: \"▾\";}#sk-container-id-1 div.sk-estimator input.sk-toggleable__control:checked~label.sk-toggleable__label {background-color: #d4ebff;}#sk-container-id-1 div.sk-label input.sk-toggleable__control:checked~label.sk-toggleable__label {background-color: #d4ebff;}#sk-container-id-1 input.sk-hidden--visually {border: 0;clip: rect(1px 1px 1px 1px);clip: rect(1px, 1px, 1px, 1px);height: 1px;margin: -1px;overflow: hidden;padding: 0;position: absolute;width: 1px;}#sk-container-id-1 div.sk-estimator {font-family: monospace;background-color: #f0f8ff;border: 1px dotted black;border-radius: 0.25em;box-sizing: border-box;margin-bottom: 0.5em;}#sk-container-id-1 div.sk-estimator:hover {background-color: #d4ebff;}#sk-container-id-1 div.sk-parallel-item::after {content: \"\";width: 100%;border-bottom: 1px solid gray;flex-grow: 1;}#sk-container-id-1 div.sk-label:hover label.sk-toggleable__label {background-color: #d4ebff;}#sk-container-id-1 div.sk-serial::before {content: \"\";position: absolute;border-left: 1px solid gray;box-sizing: border-box;top: 0;bottom: 0;left: 50%;z-index: 0;}#sk-container-id-1 div.sk-serial {display: flex;flex-direction: column;align-items: center;background-color: white;padding-right: 0.2em;padding-left: 0.2em;position: relative;}#sk-container-id-1 div.sk-item {position: relative;z-index: 1;}#sk-container-id-1 div.sk-parallel {display: flex;align-items: stretch;justify-content: center;background-color: white;position: relative;}#sk-container-id-1 div.sk-item::before, #sk-container-id-1 div.sk-parallel-item::before {content: \"\";position: absolute;border-left: 1px solid gray;box-sizing: border-box;top: 0;bottom: 0;left: 50%;z-index: -1;}#sk-container-id-1 div.sk-parallel-item {display: flex;flex-direction: column;z-index: 1;position: relative;background-color: white;}#sk-container-id-1 div.sk-parallel-item:first-child::after {align-self: flex-end;width: 50%;}#sk-container-id-1 div.sk-parallel-item:last-child::after {align-self: flex-start;width: 50%;}#sk-container-id-1 div.sk-parallel-item:only-child::after {width: 0;}#sk-container-id-1 div.sk-dashed-wrapped {border: 1px dashed gray;margin: 0 0.4em 0.5em 0.4em;box-sizing: border-box;padding-bottom: 0.4em;background-color: white;}#sk-container-id-1 div.sk-label label {font-family: monospace;font-weight: bold;display: inline-block;line-height: 1.2em;}#sk-container-id-1 div.sk-label-container {text-align: center;}#sk-container-id-1 div.sk-container {/* jupyter's `normalize.less` sets `[hidden] { display: none; }` but bootstrap.min.css set `[hidden] { display: none !important; }` so we also need the `!important` here to be able to override the default hidden behavior on the sphinx rendered scikit-learn.org. See: https://github.com/scikit-learn/scikit-learn/issues/21755 */display: inline-block !important;position: relative;}#sk-container-id-1 div.sk-text-repr-fallback {display: none;}</style><div id=\"sk-container-id-1\" class=\"sk-top-container\"><div class=\"sk-text-repr-fallback\"><pre>LogisticRegression(C=3.5)</pre><b>In a Jupyter environment, please rerun this cell to show the HTML representation or trust the notebook. <br />On GitHub, the HTML representation is unable to render, please try loading this page with nbviewer.org.</b></div><div class=\"sk-container\" hidden><div class=\"sk-item\"><div class=\"sk-estimator sk-toggleable\"><input class=\"sk-toggleable__control sk-hidden--visually\" id=\"sk-estimator-id-1\" type=\"checkbox\" checked><label for=\"sk-estimator-id-1\" class=\"sk-toggleable__label sk-toggleable__label-arrow\">LogisticRegression</label><div class=\"sk-toggleable__content\"><pre>LogisticRegression(C=3.5)</pre></div></div></div></div></div>"
     },
     "execution_count": 19,
     "metadata": {},
     "output_type": "execute_result"
    }
   ],
   "source": [
    "grid.best_estimator_.fit(X_train_stack, y_train)"
   ]
  },
  {
   "cell_type": "code",
   "execution_count": 20,
   "metadata": {
    "pycharm": {
     "name": "#%%\n"
    },
    "ExecuteTime": {
     "end_time": "2023-06-21T12:22:09.953925Z",
     "start_time": "2023-06-21T12:22:09.936566Z"
    }
   },
   "outputs": [
    {
     "data": {
      "text/plain": "array([[1.34336007, 0.0834541 , 0.53087267, 3.71098135]])"
     },
     "execution_count": 20,
     "metadata": {},
     "output_type": "execute_result"
    }
   ],
   "source": [
    "grid.best_estimator_.coef_"
   ]
  },
  {
   "cell_type": "code",
   "execution_count": 21,
   "metadata": {
    "collapsed": true,
    "pycharm": {
     "name": "#%%\n"
    },
    "ExecuteTime": {
     "end_time": "2023-06-21T12:22:10.934819Z",
     "start_time": "2023-06-21T12:22:10.911691Z"
    }
   },
   "outputs": [],
   "source": [
    "predicted = grid.best_estimator_.predict(X_test_stack)"
   ]
  },
  {
   "cell_type": "code",
   "execution_count": null,
   "outputs": [],
   "source": [],
   "metadata": {
    "collapsed": false
   }
  }
 ],
 "metadata": {
  "kernelspec": {
   "display_name": "Python 3",
   "language": "python",
   "name": "python3"
  },
  "language_info": {
   "codemirror_mode": {
    "name": "ipython",
    "version": 3
   },
   "file_extension": ".py",
   "mimetype": "text/x-python",
   "name": "python",
   "nbconvert_exporter": "python",
   "pygments_lexer": "ipython3",
   "version": "3.6.1"
  }
 },
 "nbformat": 4,
 "nbformat_minor": 2
}
