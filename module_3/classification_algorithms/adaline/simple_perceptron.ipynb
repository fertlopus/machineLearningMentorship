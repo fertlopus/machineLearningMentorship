{
 "cells": [
  {
   "cell_type": "markdown",
   "source": [
    "<center>\n",
    "\n",
    "# Simple Perceptron Classifier. Rosenblat's Perceptron.\n",
    "\n",
    "<center>\n",
    "\n"
   ],
   "metadata": {
    "collapsed": false,
    "pycharm": {
     "name": "#%% md\n"
    }
   }
  },
  {
   "cell_type": "markdown",
   "source": [
    "#####  Прежде чем реализовывать модель, вы должны понимать, какие методы дадут наибольший прирост в скорости вычислений во время выполнения операций над векторами/матрицами (пока рассматриваем вычисления только на CPU).\n",
    "\n",
    "-----\n",
    "В Python мы можем реализовывать вычисления при помощи:\n",
    "\n",
    "1. For/While loop\n",
    "2. Comprehensions\n",
    "3. NumPy Operations (3rd party package)\n",
    "-----\n",
    "\n",
    "\n",
    "### For Loop"
   ],
   "metadata": {
    "collapsed": false
   }
  },
  {
   "cell_type": "code",
   "execution_count": 21,
   "outputs": [
    {
     "name": "stdout",
     "output_type": "stream",
     "text": [
      "0.3614\n"
     ]
    }
   ],
   "source": [
    "x_0, x_1, x_2 = 0.75, 1.2, 3.22\n",
    "bias, w1, w2 = 0.001, 0.3, 0.0002\n",
    "\n",
    "X = [x_0, x_1, x_2]\n",
    "W = [bias, w1, w2]\n",
    "\n",
    "z = 0.\n",
    "\n",
    "for i in range(len(X)):\n",
    "    z += X[i] * W[i]\n",
    "\n",
    "print(round(z,4))"
   ],
   "metadata": {
    "collapsed": false,
    "pycharm": {
     "name": "#%%\n"
    },
    "ExecuteTime": {
     "end_time": "2023-06-09T16:11:49.832561Z",
     "start_time": "2023-06-09T16:11:49.812976Z"
    }
   }
  },
  {
   "cell_type": "markdown",
   "source": [
    "### List Comprehensions"
   ],
   "metadata": {
    "collapsed": false,
    "pycharm": {
     "name": "#%% md\n"
    }
   }
  },
  {
   "cell_type": "code",
   "execution_count": 22,
   "outputs": [
    {
     "name": "stdout",
     "output_type": "stream",
     "text": [
      "0.3614\n"
     ]
    }
   ],
   "source": [
    "z = sum(x_i*w_i for x_i, w_i in zip(X,W))\n",
    "print(round(z,4))"
   ],
   "metadata": {
    "collapsed": false,
    "pycharm": {
     "name": "#%%\n"
    },
    "ExecuteTime": {
     "end_time": "2023-06-09T16:11:50.408917Z",
     "start_time": "2023-06-09T16:11:50.404171Z"
    }
   }
  },
  {
   "cell_type": "markdown",
   "source": [
    "### NumPy (векторизированные вычисления)"
   ],
   "metadata": {
    "collapsed": false,
    "pycharm": {
     "name": "#%% md\n"
    }
   }
  },
  {
   "cell_type": "code",
   "execution_count": 23,
   "outputs": [
    {
     "name": "stdout",
     "output_type": "stream",
     "text": [
      "0.3614\n"
     ]
    }
   ],
   "source": [
    "import numpy as np\n",
    "from timeit import timeit\n",
    "\n",
    "x_vec, w_vec = np.array(X), np.array(W)\n",
    "z = (x_vec.transpose()).dot(w_vec)\n",
    "print(round(z, 4))"
   ],
   "metadata": {
    "collapsed": false,
    "pycharm": {
     "name": "#%%\n"
    },
    "ExecuteTime": {
     "end_time": "2023-06-09T16:11:51.689766Z",
     "start_time": "2023-06-09T16:11:51.654559Z"
    }
   }
  },
  {
   "cell_type": "markdown",
   "source": [
    "### Какой метод будет самым быстрым?"
   ],
   "metadata": {
    "collapsed": false,
    "pycharm": {
     "name": "#%% md\n"
    }
   }
  },
  {
   "cell_type": "code",
   "execution_count": 24,
   "outputs": [],
   "source": [
    "def looping(x, w):\n",
    "    z = 0.\n",
    "    for i in range(len(x)):\n",
    "        z += x[i]*w[i]\n",
    "    return round(z, 4)\n",
    "\n",
    "\n",
    "def comprehensioned(x, w):\n",
    "    return round(sum(x_i*w_i for x_i, w_i in zip(x, w)), 4)\n",
    "\n",
    "\n",
    "def vectorized(x: np.ndarray, w: np.ndarray):\n",
    "    return x.dot(w)"
   ],
   "metadata": {
    "collapsed": false,
    "pycharm": {
     "name": "#%%\n"
    },
    "ExecuteTime": {
     "end_time": "2023-06-09T16:12:01.354404Z",
     "start_time": "2023-06-09T16:12:01.344849Z"
    }
   }
  },
  {
   "cell_type": "code",
   "execution_count": 25,
   "outputs": [],
   "source": [
    "x, w = np.random.rand(100_000), np.random.rand(100_000)"
   ],
   "metadata": {
    "collapsed": false,
    "pycharm": {
     "name": "#%%\n"
    },
    "ExecuteTime": {
     "end_time": "2023-06-09T16:12:02.355179Z",
     "start_time": "2023-06-09T16:12:02.342994Z"
    }
   }
  },
  {
   "cell_type": "code",
   "execution_count": 26,
   "outputs": [
    {
     "name": "stdout",
     "output_type": "stream",
     "text": [
      "40.9 ms ± 4.01 ms per loop (mean ± std. dev. of 100 runs, 10 loops each)\n"
     ]
    }
   ],
   "source": [
    "%timeit -r 100 -n 10 looping(x,w)"
   ],
   "metadata": {
    "collapsed": false,
    "pycharm": {
     "name": "#%%\n",
     "is_executing": true
    },
    "ExecuteTime": {
     "end_time": "2023-06-09T16:12:43.556322Z",
     "start_time": "2023-06-09T16:12:02.745312Z"
    }
   }
  },
  {
   "cell_type": "code",
   "execution_count": 27,
   "outputs": [
    {
     "name": "stdout",
     "output_type": "stream",
     "text": [
      "28.6 ms ± 314 µs per loop (mean ± std. dev. of 100 runs, 10 loops each)\n"
     ]
    }
   ],
   "source": [
    "%timeit -r 100 -n 10 comprehensioned(x,w)"
   ],
   "metadata": {
    "collapsed": false,
    "pycharm": {
     "name": "#%%\n",
     "is_executing": true
    },
    "ExecuteTime": {
     "end_time": "2023-06-09T16:13:12.163229Z",
     "start_time": "2023-06-09T16:12:43.567527Z"
    }
   }
  },
  {
   "cell_type": "code",
   "execution_count": 28,
   "outputs": [
    {
     "name": "stdout",
     "output_type": "stream",
     "text": [
      "The slowest run took 30.44 times longer than the fastest. This could mean that an intermediate result is being cached.\n",
      "10.9 µs ± 18 µs per loop (mean ± std. dev. of 100 runs, 10 loops each)\n"
     ]
    }
   ],
   "source": [
    "%timeit -r 100 -n 10 vectorized(x,w)"
   ],
   "metadata": {
    "collapsed": false,
    "pycharm": {
     "name": "#%%\n",
     "is_executing": true
    },
    "ExecuteTime": {
     "end_time": "2023-06-09T16:13:12.212220Z",
     "start_time": "2023-06-09T16:13:12.166537Z"
    }
   }
  },
  {
   "cell_type": "markdown",
   "source": [
    "# Реализация примитивной модели Perceptron'a\n",
    "\n",
    "Согласно логике работы персептрона, попробуйте реализовать класс `SimplePerceptronClassifier()` и расписать логику обучения модели простого персептрона (предка первой нейронной сети).\n",
    "\n",
    "Помощь:\n",
    "\n",
    "1. При инициализации алгоритма (вашего объекта) алгоритм должен знать следующие параметры:\n",
    "    a) learning rate (eta, lr) диапазон которого должен быть от 0.0 до 1.0\n",
    "    b) количество итераций при обучении (эпох, epochs) - целочисленная переменная\n",
    "    c) random state для воспроизводимости эксперимента с обучением модели\n",
    "\n",
    "   ```Итого ваш конструктор класса должен иметь 3 соответствующих аргумента.```\n",
    "\n",
    "<br>\n",
    "\n",
    "2. Реализуйте метод fit который принимает 2 аргумента - матрицу признаков Х и вектор реальных значений целевой переменной у.\n",
    "   В данном методе у вас должна быть прописана логика инициализации случайного генератора числе (```random_generator = np.random.RandomState```) и инициализация матрицы (вектора) весов W с соответствующими нормально распределенными элементами в диапазоне от 0.00 до 0.01. Необходимо реализовать вектор (скаляр) случайных ошибок b. Далее необходимо реализовать логику обучения персептрона, которая была представленна на лекции. Слайд логика работы алгоритма.\n",
    "\n",
    "<br>\n",
    "\n",
    "3. Реализуйте метод net_input (линейная комбинация Х и b + случайная ошибка). Данный метод будет участвовать в методе predict().\n",
    "\n",
    "<br>\n",
    "\n",
    "4. Реализуйте метод predict() который будет выводить принадлежность к определенному классу согласно прописанной логике алгоритма, представленной на слайде.\n",
    "\n"
   ],
   "metadata": {
    "collapsed": false,
    "pycharm": {
     "name": "#%% md\n"
    }
   }
  },
  {
   "cell_type": "code",
   "execution_count": 29,
   "outputs": [],
   "source": [
    "import numpy as np\n",
    "\n",
    "class SimplePerceptronClassifier(object):\n",
    "    \"\"\"\n",
    "    Simple Perceptron Classifier.\n",
    "\n",
    "    Parameters:\n",
    "        lr: float\n",
    "            Learning rate (range between 0.0 and 1.0).\n",
    "        epochs: int\n",
    "            Number of passes through training sample.\n",
    "        random_state: int\n",
    "            Random number pseudo generator for random weight initialization.\n",
    "\n",
    "    Attributes:\n",
    "        w_ : 1d ndarray\n",
    "            Weights after training epoch\n",
    "        b_: Scalar value\n",
    "            Bias after training epoch\n",
    "        errors_ : list\n",
    "            Number of missclassified samples for each epoch (iteration)\n",
    "    \"\"\"\n",
    "    def __init__(self, lr=0.01, epochs=50, random_state=42):\n",
    "        self.lr = lr\n",
    "        self.epochs = epochs\n",
    "        self.random_state = random_state\n",
    "\n",
    "    def fit(self, X, y):\n",
    "        \"\"\"\n",
    "        Training function for X - feature array and y - array of binary classes.\n",
    "        :param X: {array-like}, shape = [n_rows, n_cols]\n",
    "            Training vectors, where n_rows is the number of observations in the sample\n",
    "            and n_cols is the number of features in the sample (e.g. height, weight and etc.)\n",
    "        :param y: array-like, shape = [n_rows]\n",
    "            Target variable with real classes (labels)\n",
    "        :return: self.object\n",
    "        \"\"\"\n",
    "        random_generator = np.random.RandomState(self.random_state)\n",
    "        self.w_ = random_generator.normal(loc=0.0, scale=0.01, size=X.shape[1])\n",
    "        self.b_ = np.float_(0.)\n",
    "        self.errors_ = []\n",
    "\n",
    "        for _ in range(self.epochs):\n",
    "            errors = 0.0\n",
    "            for x_i, label in zip(X, y):\n",
    "                update = self.lr * (label - self.predict(x_i))\n",
    "                self.w_ += update * x_i\n",
    "                self.b_ += update\n",
    "                errors += int(update != 0.0)\n",
    "            print(\"Epoch {}: \\nError: {}\\n\".format(_, float(errors)))\n",
    "            self.errors_.append(errors)\n",
    "        return self\n",
    "\n",
    "    def net_input(self, X):\n",
    "        return np.dot(X, self.w_) + self.b_\n",
    "\n",
    "    def predict(self, X):\n",
    "        return np.where(self.net_input(X) >= 0.0, 1, 0)\n"
   ],
   "metadata": {
    "collapsed": false,
    "pycharm": {
     "name": "#%%\n"
    },
    "ExecuteTime": {
     "end_time": "2023-06-09T16:15:35.296024Z",
     "start_time": "2023-06-09T16:15:35.289155Z"
    }
   }
  },
  {
   "cell_type": "markdown",
   "source": [
    "### Посмотрим на работу алгоритма"
   ],
   "metadata": {
    "collapsed": false,
    "pycharm": {
     "name": "#%% md\n"
    }
   }
  },
  {
   "cell_type": "code",
   "execution_count": 30,
   "outputs": [
    {
     "data": {
      "text/plain": "     0    1    2    3            4\n0  5.1  3.5  1.4  0.2  Iris-setosa\n1  4.9  3.0  1.4  0.2  Iris-setosa\n2  4.7  3.2  1.3  0.2  Iris-setosa\n3  4.6  3.1  1.5  0.2  Iris-setosa\n4  5.0  3.6  1.4  0.2  Iris-setosa",
      "text/html": "<div>\n<style scoped>\n    .dataframe tbody tr th:only-of-type {\n        vertical-align: middle;\n    }\n\n    .dataframe tbody tr th {\n        vertical-align: top;\n    }\n\n    .dataframe thead th {\n        text-align: right;\n    }\n</style>\n<table border=\"1\" class=\"dataframe\">\n  <thead>\n    <tr style=\"text-align: right;\">\n      <th></th>\n      <th>0</th>\n      <th>1</th>\n      <th>2</th>\n      <th>3</th>\n      <th>4</th>\n    </tr>\n  </thead>\n  <tbody>\n    <tr>\n      <th>0</th>\n      <td>5.1</td>\n      <td>3.5</td>\n      <td>1.4</td>\n      <td>0.2</td>\n      <td>Iris-setosa</td>\n    </tr>\n    <tr>\n      <th>1</th>\n      <td>4.9</td>\n      <td>3.0</td>\n      <td>1.4</td>\n      <td>0.2</td>\n      <td>Iris-setosa</td>\n    </tr>\n    <tr>\n      <th>2</th>\n      <td>4.7</td>\n      <td>3.2</td>\n      <td>1.3</td>\n      <td>0.2</td>\n      <td>Iris-setosa</td>\n    </tr>\n    <tr>\n      <th>3</th>\n      <td>4.6</td>\n      <td>3.1</td>\n      <td>1.5</td>\n      <td>0.2</td>\n      <td>Iris-setosa</td>\n    </tr>\n    <tr>\n      <th>4</th>\n      <td>5.0</td>\n      <td>3.6</td>\n      <td>1.4</td>\n      <td>0.2</td>\n      <td>Iris-setosa</td>\n    </tr>\n  </tbody>\n</table>\n</div>"
     },
     "execution_count": 30,
     "metadata": {},
     "output_type": "execute_result"
    }
   ],
   "source": [
    "import pandas as pd\n",
    "import matplotlib.pyplot as plt\n",
    "from matplotlib.colors import ListedColormap\n",
    "import seaborn as sns\n",
    "import warnings\n",
    "warnings.filterwarnings(\"ignore\")\n",
    "\n",
    "# Sometimes there is an error with web certificates (just update them)\n",
    "# https://stackoverflow.com/questions/27835619/urllib-and-ssl-certificate-verify-failed-error\n",
    "# /Applications/Python\\ 3.10/Install\\ Certificates.command\n",
    "\n",
    "df = pd.read_csv(\"https://archive.ics.uci.edu/ml/machine-learning-databases/iris/iris.data\", header=None, encoding=\"utf-8\")\n",
    "df.head()"
   ],
   "metadata": {
    "collapsed": false,
    "pycharm": {
     "name": "#%%\n",
     "is_executing": true
    },
    "ExecuteTime": {
     "end_time": "2023-06-09T16:15:37.172895Z",
     "start_time": "2023-06-09T16:15:36.552429Z"
    }
   }
  },
  {
   "cell_type": "code",
   "execution_count": 31,
   "outputs": [
    {
     "data": {
      "text/plain": "<Figure size 1000x1000 with 1 Axes>",
      "image/png": "[encoded data removed]"
     },
     "metadata": {},
     "output_type": "display_data"
    }
   ],
   "source": [
    "y = df.iloc[0:100, 4].values\n",
    "\n",
    "y = np.where(y == \"Iris-setosa\", 0, 1)\n",
    "\n",
    "X = df.iloc[0:100, [0, 2]].values\n",
    "\n",
    "plt.figure(figsize=(10, 10))\n",
    "plt.scatter(X[:50, 0], X[:50, 1], color=\"blue\", marker=\"x\", label=\"Setosa\")\n",
    "plt.scatter(X[50:100, 0], X[50:100, 1], color=\"green\", marker=\"d\", label=\"Versicolor\")\n",
    "plt.xlabel(\"Sepal length, cm\")\n",
    "plt.ylabel(\"Petal length, cm\")\n",
    "plt.legend(loc=\"upper left\")\n",
    "plt.show();"
   ],
   "metadata": {
    "collapsed": false,
    "pycharm": {
     "name": "#%%\n",
     "is_executing": true
    },
    "ExecuteTime": {
     "end_time": "2023-06-09T16:15:38.515734Z",
     "start_time": "2023-06-09T16:15:38.149448Z"
    }
   }
  },
  {
   "cell_type": "code",
   "execution_count": 32,
   "outputs": [
    {
     "name": "stdout",
     "output_type": "stream",
     "text": [
      "Epoch 0: \n",
      "Error: 2.0\n",
      "\n",
      "Epoch 1: \n",
      "Error: 2.0\n",
      "\n",
      "Epoch 2: \n",
      "Error: 3.0\n",
      "\n",
      "Epoch 3: \n",
      "Error: 2.0\n",
      "\n",
      "Epoch 4: \n",
      "Error: 1.0\n",
      "\n",
      "Epoch 5: \n",
      "Error: 0.0\n",
      "\n",
      "Epoch 6: \n",
      "Error: 0.0\n",
      "\n",
      "Epoch 7: \n",
      "Error: 0.0\n",
      "\n",
      "Epoch 8: \n",
      "Error: 0.0\n",
      "\n",
      "Epoch 9: \n",
      "Error: 0.0\n",
      "\n",
      "Epoch 10: \n",
      "Error: 0.0\n",
      "\n",
      "Epoch 11: \n",
      "Error: 0.0\n",
      "\n",
      "Epoch 12: \n",
      "Error: 0.0\n",
      "\n",
      "Epoch 13: \n",
      "Error: 0.0\n",
      "\n",
      "Epoch 14: \n",
      "Error: 0.0\n",
      "\n",
      "Epoch 15: \n",
      "Error: 0.0\n",
      "\n",
      "Epoch 16: \n",
      "Error: 0.0\n",
      "\n",
      "Epoch 17: \n",
      "Error: 0.0\n",
      "\n",
      "Epoch 18: \n",
      "Error: 0.0\n",
      "\n",
      "Epoch 19: \n",
      "Error: 0.0\n",
      "\n"
     ]
    },
    {
     "data": {
      "text/plain": "<__main__.SimplePerceptronClassifier at 0x13f86a320>"
     },
     "execution_count": 32,
     "metadata": {},
     "output_type": "execute_result"
    }
   ],
   "source": [
    "perceptron_classifier_instance = SimplePerceptronClassifier(lr=0.01, epochs=20)\n",
    "perceptron_classifier_instance.fit(X, y)"
   ],
   "metadata": {
    "collapsed": false,
    "pycharm": {
     "name": "#%%\n",
     "is_executing": true
    },
    "ExecuteTime": {
     "end_time": "2023-06-09T16:15:39.452372Z",
     "start_time": "2023-06-09T16:15:39.390051Z"
    }
   }
  },
  {
   "cell_type": "code",
   "execution_count": 33,
   "outputs": [
    {
     "data": {
      "text/plain": "<Figure size 1000x1000 with 1 Axes>",
      "image/png": "[encoded data removed]"
     },
     "metadata": {},
     "output_type": "display_data"
    }
   ],
   "source": [
    "plt.figure(figsize=(10, 10))\n",
    "plt.plot(range(1, len(perceptron_classifier_instance.errors_) + 1), perceptron_classifier_instance.errors_, marker=\"x\", mfc=\"red\", mec=\"k\")\n",
    "plt.xlabel(\"Epochs\")\n",
    "plt.ylabel(\"# Updates\")\n",
    "plt.show();"
   ],
   "metadata": {
    "collapsed": false,
    "pycharm": {
     "name": "#%%\n",
     "is_executing": true
    },
    "ExecuteTime": {
     "end_time": "2023-06-09T16:15:40.742054Z",
     "start_time": "2023-06-09T16:15:40.364470Z"
    }
   }
  },
  {
   "cell_type": "code",
   "execution_count": 34,
   "outputs": [],
   "source": [
    "def plot_decision_boundary(X, y, classifier, resolution=0.02):\n",
    "    markers = ('o', 's', '^', 'v', '<')\n",
    "    colors = (\"red\", \"green\", \"blue\", \"lightgreen\", \"gray\", \"cyan\")\n",
    "    cmap = ListedColormap(colors[:len(np.unique(y))])\n",
    "\n",
    "    x_1_minima, x_1_maxima = X[:, 0].min() - 1, X[:, 0].max() + 1\n",
    "    x_2_minima, x_2_maxima = X[:, 1].min() - 1, X[:, 1].max() + 1\n",
    "\n",
    "    xx_1, xx_2 = np.meshgrid(np.arange(x_1_minima, x_1_maxima, resolution), np.arange(x_2_minima, x_2_maxima, resolution))\n",
    "    regions = perceptron_classifier_instance.predict(np.array([xx_1.ravel(), xx_2.ravel()]).T)\n",
    "    regions = regions.reshape(xx_1.shape)\n",
    "    plt.contourf(xx_1, xx_2, regions, alpha=0.3, cmap=cmap)\n",
    "    plt.xlim(xx_1.min(), xx_1.max())\n",
    "    plt.ylim(xx_2.min(), xx_2.max())\n",
    "\n",
    "    for i, label in enumerate(np.unique(y)):\n",
    "        plt.scatter(x=X[y == label, 0], y=X[y == label, 1], alpha=0.8, c=colors[i], marker=markers[i], label=f'Класс {label}', edgecolor='black')"
   ],
   "metadata": {
    "collapsed": false,
    "pycharm": {
     "name": "#%%\n"
    },
    "ExecuteTime": {
     "end_time": "2023-06-09T16:15:41.409175Z",
     "start_time": "2023-06-09T16:15:41.401603Z"
    }
   }
  },
  {
   "cell_type": "code",
   "execution_count": 35,
   "outputs": [
    {
     "data": {
      "text/plain": "<Figure size 1000x1000 with 1 Axes>",
      "image/png": "[encoded data removed]"
     },
     "metadata": {},
     "output_type": "display_data"
    }
   ],
   "source": [
    "plt.figure(figsize=(10, 10))\n",
    "plot_decision_boundary(X, y, classifier=perceptron_classifier_instance)\n",
    "plt.xlabel(\"Sepal length, cm\")\n",
    "plt.ylabel(\"Petal length, cm\")\n",
    "plt.legend(loc=\"best\")\n",
    "plt.show();"
   ],
   "metadata": {
    "collapsed": false,
    "pycharm": {
     "name": "#%%\n",
     "is_executing": true
    },
    "ExecuteTime": {
     "end_time": "2023-06-09T16:15:43.132433Z",
     "start_time": "2023-06-09T16:15:42.505036Z"
    }
   }
  },
  {
   "cell_type": "code",
   "execution_count": null,
   "outputs": [],
   "source": [],
   "metadata": {
    "collapsed": false
   }
  }
 ],
 "metadata": {
  "kernelspec": {
   "display_name": "Python 3",
   "language": "python",
   "name": "python3"
  },
  "language_info": {
   "codemirror_mode": {
    "name": "ipython",
    "version": 2
   },
   "file_extension": ".py",
   "mimetype": "text/x-python",
   "name": "python",
   "nbconvert_exporter": "python",
   "pygments_lexer": "ipython2",
   "version": "2.7.6"
  }
 },
 "nbformat": 4,
 "nbformat_minor": 0
}
