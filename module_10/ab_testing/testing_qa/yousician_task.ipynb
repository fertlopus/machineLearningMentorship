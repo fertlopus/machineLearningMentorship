{
 "cells": [
  {
   "cell_type": "markdown",
   "metadata": {},
   "source": [
    "# Test task Data Scientist\n",
    "The task itself:\n",
    "\n",
    "Imagine you are part of a company developing a simple game that we will\n",
    "call \"Wild Wild Chords\". The users can install the app on their phones,\n",
    "create an account and play different kind of songs with a ukulele. Subscribing\n",
    "allows them to play some different songs than the \"free\" ones. A subscription\n",
    "costs \\$5 a week and is renewed automatically. The user can unsubscribe at any\n",
    "time.\n",
    "\n",
    "\n",
    "Provided with this text file is a .csv containing a number of what we\n",
    "define as events. They were randomly generated so don't pay attention to some\n",
    "of the weird patterns you might find. The events represent some actions that\n",
    "our users did. We would like to analyse those in order to find out some\n",
    "results that will help our company to grow. Before digging in the data we need\n",
    "to say that the users are distributed evenly in three different groups. The\n",
    "groups are called \"a\", \"b\" and \"c\". Imagine them as different a/b tests.\n",
    "\n",
    "\n",
    "Group A: This group is the control group. No specific experiment is running\n",
    "on it.\n",
    "\n",
    "Group B: This group contains voiceovers that try to guide the user through the\n",
    "interface of the game. (Example: A voice saying: \"Try this song once you reach\n",
    "level 2, it's very fun\" to try and motivate the users).\n",
    "\n",
    "Group C: This group contains a different type of subscription, where one user\n",
    "can only pay per day instead of per week. The pricing of the day is \\$0,80\n",
    "\n",
    "\n",
    "1. Calculate the average number of song/minigame_plays before a user subscribes.\n",
    "2. Does the group B have a better conversion rate between account created and\n",
    "the first song played than the control group?\n",
    "3. In your opinion, is the experiment of the group C bringing more money to the\n",
    "company? Please explain why."
   ]
  },
  {
   "cell_type": "code",
   "execution_count": 35,
   "metadata": {
    "collapsed": true
   },
   "outputs": [],
   "source": [
    "import pandas as pd\n",
    "import matplotlib.pyplot as plt\n",
    "import numpy as np\n",
    "import scipy.stats as st\n",
    "import statsmodels.api as sm\n",
    "\n",
    "import seaborn as sns\n",
    "from tqdm import tqdm_notebook # useful for progress visualizations\n",
    "%matplotlib inline"
   ]
  },
  {
   "cell_type": "code",
   "execution_count": 2,
   "metadata": {},
   "outputs": [
    {
     "data": {
      "text/html": [
       "<div>\n",
       "<style>\n",
       "    .dataframe thead tr:only-child th {\n",
       "        text-align: right;\n",
       "    }\n",
       "\n",
       "    .dataframe thead th {\n",
       "        text-align: left;\n",
       "    }\n",
       "\n",
       "    .dataframe tbody tr th {\n",
       "        vertical-align: top;\n",
       "    }\n",
       "</style>\n",
       "<table border=\"1\" class=\"dataframe\">\n",
       "  <thead>\n",
       "    <tr style=\"text-align: right;\">\n",
       "      <th></th>\n",
       "      <th>event</th>\n",
       "      <th>uid</th>\n",
       "      <th>group</th>\n",
       "      <th>date</th>\n",
       "    </tr>\n",
       "  </thead>\n",
       "  <tbody>\n",
       "    <tr>\n",
       "      <th>0</th>\n",
       "      <td>app install</td>\n",
       "      <td>7fa732b517cbed14a48843d74526c11a</td>\n",
       "      <td>b</td>\n",
       "      <td>2015-03-04 11:07:41</td>\n",
       "    </tr>\n",
       "    <tr>\n",
       "      <th>1</th>\n",
       "      <td>app install</td>\n",
       "      <td>8df707a948fac1b4a0f97aa554886ec8</td>\n",
       "      <td>b</td>\n",
       "      <td>2015-03-04 12:05:36</td>\n",
       "    </tr>\n",
       "    <tr>\n",
       "      <th>2</th>\n",
       "      <td>app install</td>\n",
       "      <td>6e7b33fdea3adc80ebd648fffb665bb8</td>\n",
       "      <td>a</td>\n",
       "      <td>2015-03-04 12:09:50</td>\n",
       "    </tr>\n",
       "    <tr>\n",
       "      <th>3</th>\n",
       "      <td>account created</td>\n",
       "      <td>6e7b33fdea3adc80ebd648fffb665bb8</td>\n",
       "      <td>a</td>\n",
       "      <td>2015-03-04 12:17:50</td>\n",
       "    </tr>\n",
       "    <tr>\n",
       "      <th>4</th>\n",
       "      <td>minigame_played</td>\n",
       "      <td>6e7b33fdea3adc80ebd648fffb665bb8</td>\n",
       "      <td>a</td>\n",
       "      <td>2015-03-04 12:24:50</td>\n",
       "    </tr>\n",
       "  </tbody>\n",
       "</table>\n",
       "</div>"
      ],
      "text/plain": [
       "             event                               uid group  \\\n",
       "0      app install  7fa732b517cbed14a48843d74526c11a     b   \n",
       "1      app install  8df707a948fac1b4a0f97aa554886ec8     b   \n",
       "2      app install  6e7b33fdea3adc80ebd648fffb665bb8     a   \n",
       "3  account created  6e7b33fdea3adc80ebd648fffb665bb8     a   \n",
       "4  minigame_played  6e7b33fdea3adc80ebd648fffb665bb8     a   \n",
       "\n",
       "                  date  \n",
       "0  2015-03-04 11:07:41  \n",
       "1  2015-03-04 12:05:36  \n",
       "2  2015-03-04 12:09:50  \n",
       "3  2015-03-04 12:17:50  \n",
       "4  2015-03-04 12:24:50  "
      ]
     },
     "execution_count": 2,
     "metadata": {},
     "output_type": "execute_result"
    }
   ],
   "source": [
    "events = pd.read_csv(\"events.csv\")\n",
    "events.head()"
   ]
  },
  {
   "cell_type": "code",
   "execution_count": 3,
   "metadata": {},
   "outputs": [
    {
     "data": {
      "text/html": [
       "<div>\n",
       "<style>\n",
       "    .dataframe thead tr:only-child th {\n",
       "        text-align: right;\n",
       "    }\n",
       "\n",
       "    .dataframe thead th {\n",
       "        text-align: left;\n",
       "    }\n",
       "\n",
       "    .dataframe tbody tr th {\n",
       "        vertical-align: top;\n",
       "    }\n",
       "</style>\n",
       "<table border=\"1\" class=\"dataframe\">\n",
       "  <thead>\n",
       "    <tr style=\"text-align: right;\">\n",
       "      <th></th>\n",
       "      <th>event</th>\n",
       "      <th>uid</th>\n",
       "      <th>group</th>\n",
       "      <th>date</th>\n",
       "    </tr>\n",
       "  </thead>\n",
       "  <tbody>\n",
       "    <tr>\n",
       "      <th>10950</th>\n",
       "      <td>minigame_played</td>\n",
       "      <td>fe7ee8fc1959cc7214fa21c4840dff0a</td>\n",
       "      <td>c</td>\n",
       "      <td>2015-04-05 19:24:00</td>\n",
       "    </tr>\n",
       "    <tr>\n",
       "      <th>10951</th>\n",
       "      <td>song_played</td>\n",
       "      <td>fe7ee8fc1959cc7214fa21c4840dff0a</td>\n",
       "      <td>c</td>\n",
       "      <td>2015-04-06 19:24:00</td>\n",
       "    </tr>\n",
       "    <tr>\n",
       "      <th>10952</th>\n",
       "      <td>song_played</td>\n",
       "      <td>fe7ee8fc1959cc7214fa21c4840dff0a</td>\n",
       "      <td>c</td>\n",
       "      <td>2015-04-08 19:24:00</td>\n",
       "    </tr>\n",
       "    <tr>\n",
       "      <th>10953</th>\n",
       "      <td>song_played</td>\n",
       "      <td>fe7ee8fc1959cc7214fa21c4840dff0a</td>\n",
       "      <td>c</td>\n",
       "      <td>2015-04-08 19:27:00</td>\n",
       "    </tr>\n",
       "    <tr>\n",
       "      <th>10954</th>\n",
       "      <td>minigame_played</td>\n",
       "      <td>fe7ee8fc1959cc7214fa21c4840dff0a</td>\n",
       "      <td>c</td>\n",
       "      <td>2015-04-09 19:27:00</td>\n",
       "    </tr>\n",
       "  </tbody>\n",
       "</table>\n",
       "</div>"
      ],
      "text/plain": [
       "                 event                               uid group  \\\n",
       "10950  minigame_played  fe7ee8fc1959cc7214fa21c4840dff0a     c   \n",
       "10951      song_played  fe7ee8fc1959cc7214fa21c4840dff0a     c   \n",
       "10952      song_played  fe7ee8fc1959cc7214fa21c4840dff0a     c   \n",
       "10953      song_played  fe7ee8fc1959cc7214fa21c4840dff0a     c   \n",
       "10954  minigame_played  fe7ee8fc1959cc7214fa21c4840dff0a     c   \n",
       "\n",
       "                      date  \n",
       "10950  2015-04-05 19:24:00  \n",
       "10951  2015-04-06 19:24:00  \n",
       "10952  2015-04-08 19:24:00  \n",
       "10953  2015-04-08 19:27:00  \n",
       "10954  2015-04-09 19:27:00  "
      ]
     },
     "execution_count": 3,
     "metadata": {},
     "output_type": "execute_result"
    }
   ],
   "source": [
    "events.tail()"
   ]
  },
  {
   "cell_type": "code",
   "execution_count": 4,
   "metadata": {},
   "outputs": [
    {
     "data": {
      "text/plain": [
       "999"
      ]
     },
     "execution_count": 4,
     "metadata": {},
     "output_type": "execute_result"
    }
   ],
   "source": [
    "len(events.uid.unique())"
   ]
  },
  {
   "cell_type": "code",
   "execution_count": 5,
   "metadata": {},
   "outputs": [
    {
     "data": {
      "text/plain": [
       "song_played        4084\n",
       "minigame_played    4055\n",
       "account created     995\n",
       "app install         992\n",
       "subscribed          605\n",
       "unsubscribed        224\n",
       "Name: event, dtype: int64"
      ]
     },
     "execution_count": 5,
     "metadata": {},
     "output_type": "execute_result"
    }
   ],
   "source": [
    "events.event.value_counts()"
   ]
  },
  {
   "cell_type": "markdown",
   "metadata": {},
   "source": [
    "unique users > account created > app installs\n",
    "\n",
    "Hmmm...Probably, one of the weird patterns from random generation. Or maybe some users created a couple of accounts on single installed app. "
   ]
  },
  {
   "cell_type": "markdown",
   "metadata": {},
   "source": [
    "## Question 1"
   ]
  },
  {
   "cell_type": "markdown",
   "metadata": {},
   "source": [
    "Let's make sure that the events per user are going in the chronological order"
   ]
  },
  {
   "cell_type": "code",
   "execution_count": 6,
   "metadata": {
    "collapsed": true
   },
   "outputs": [],
   "source": [
    "events_reindexed = events.sort_values(by=['uid', 'date']).drop(['date', 'group'], axis=1)\n",
    "events_reindexed = events_reindexed.set_index(['uid'])\n",
    "\n",
    "# selecting only users who subscribed\n",
    "subscribed_users = events_reindexed[events_reindexed.event=='subscribed'].index\n",
    "events_reindexed = events_reindexed[events_reindexed.index.isin(subscribed_users)]\n",
    "\n",
    "# transforming dataset into \"long\" format instead of \"tall\"\n",
    "events_reindexed = events_reindexed.groupby('uid').apply(lambda x: list(x['event'].values))\n",
    "events_reindexed = pd.DataFrame(events_reindexed, columns=['event'])\n",
    "\n",
    "# finding index of the subscription event\n",
    "events_reindexed['subscribed_event_index'] = events_reindexed['event'].apply(\n",
    "    lambda x: x.index('subscribed')\n",
    ")\n",
    "\n",
    "# just out of curiosity - how many events are there per player\n",
    "events_reindexed['total_events_number'] = events_reindexed['event'].apply(len)"
   ]
  },
  {
   "cell_type": "code",
   "execution_count": 7,
   "metadata": {},
   "outputs": [
    {
     "data": {
      "text/html": [
       "<div>\n",
       "<style>\n",
       "    .dataframe thead tr:only-child th {\n",
       "        text-align: right;\n",
       "    }\n",
       "\n",
       "    .dataframe thead th {\n",
       "        text-align: left;\n",
       "    }\n",
       "\n",
       "    .dataframe tbody tr th {\n",
       "        vertical-align: top;\n",
       "    }\n",
       "</style>\n",
       "<table border=\"1\" class=\"dataframe\">\n",
       "  <thead>\n",
       "    <tr style=\"text-align: right;\">\n",
       "      <th></th>\n",
       "      <th>event</th>\n",
       "      <th>subscribed_event_index</th>\n",
       "      <th>total_events_number</th>\n",
       "    </tr>\n",
       "    <tr>\n",
       "      <th>uid</th>\n",
       "      <th></th>\n",
       "      <th></th>\n",
       "      <th></th>\n",
       "    </tr>\n",
       "  </thead>\n",
       "  <tbody>\n",
       "    <tr>\n",
       "      <th>00411460f7c92d2124a67ea0f4cb5f85</th>\n",
       "      <td>[app install, account created, song_played, so...</td>\n",
       "      <td>8</td>\n",
       "      <td>9</td>\n",
       "    </tr>\n",
       "    <tr>\n",
       "      <th>00ec53c4682d36f5c4359f4ae7bd7ba1</th>\n",
       "      <td>[app install, account created, song_played, so...</td>\n",
       "      <td>5</td>\n",
       "      <td>14</td>\n",
       "    </tr>\n",
       "    <tr>\n",
       "      <th>01161aaa0b6d1345dd8fe4e481144d84</th>\n",
       "      <td>[app install, account created, subscribed, min...</td>\n",
       "      <td>2</td>\n",
       "      <td>20</td>\n",
       "    </tr>\n",
       "    <tr>\n",
       "      <th>01386bd6d8e091c2ab4c7c7de644d37b</th>\n",
       "      <td>[app install, account created, song_played, mi...</td>\n",
       "      <td>8</td>\n",
       "      <td>11</td>\n",
       "    </tr>\n",
       "    <tr>\n",
       "      <th>013d407166ec4fa56eb1e1f8cbe183b9</th>\n",
       "      <td>[app install, account created, minigame_played...</td>\n",
       "      <td>4</td>\n",
       "      <td>7</td>\n",
       "    </tr>\n",
       "  </tbody>\n",
       "</table>\n",
       "</div>"
      ],
      "text/plain": [
       "                                                                              event  \\\n",
       "uid                                                                                   \n",
       "00411460f7c92d2124a67ea0f4cb5f85  [app install, account created, song_played, so...   \n",
       "00ec53c4682d36f5c4359f4ae7bd7ba1  [app install, account created, song_played, so...   \n",
       "01161aaa0b6d1345dd8fe4e481144d84  [app install, account created, subscribed, min...   \n",
       "01386bd6d8e091c2ab4c7c7de644d37b  [app install, account created, song_played, mi...   \n",
       "013d407166ec4fa56eb1e1f8cbe183b9  [app install, account created, minigame_played...   \n",
       "\n",
       "                                  subscribed_event_index  total_events_number  \n",
       "uid                                                                            \n",
       "00411460f7c92d2124a67ea0f4cb5f85                       8                    9  \n",
       "00ec53c4682d36f5c4359f4ae7bd7ba1                       5                   14  \n",
       "01161aaa0b6d1345dd8fe4e481144d84                       2                   20  \n",
       "01386bd6d8e091c2ab4c7c7de644d37b                       8                   11  \n",
       "013d407166ec4fa56eb1e1f8cbe183b9                       4                    7  "
      ]
     },
     "execution_count": 7,
     "metadata": {},
     "output_type": "execute_result"
    }
   ],
   "source": [
    "events_reindexed.head()"
   ]
  },
  {
   "cell_type": "markdown",
   "metadata": {},
   "source": [
    "Perfect! Seems like some users purchase subscription right after installations, while for others it took quite a lot of events to get to that point. Let's check, how many of our target events (song_played and minigame_played) took place before the user subscribed."
   ]
  },
  {
   "cell_type": "code",
   "execution_count": 8,
   "metadata": {
    "collapsed": true
   },
   "outputs": [],
   "source": [
    "def countEvents(row, event_name):\n",
    "    \"\"\"\n",
    "       Returns the number of target events happened before subscription    \n",
    "       \n",
    "       row: pd.Series\n",
    "           row from the target dataset\n",
    "           \n",
    "        event_name: string\n",
    "            name of the event that has to be found\n",
    "    \"\"\"\n",
    "    index = np.where(np.array(row['event'])==event_name)[0]\n",
    "    index = index < row['subscribed_event_index']\n",
    "    return sum(index)"
   ]
  },
  {
   "cell_type": "code",
   "execution_count": 9,
   "metadata": {
    "collapsed": true
   },
   "outputs": [],
   "source": [
    "events_reindexed['song_played_number'] = events_reindexed.apply(\n",
    "    lambda x: countEvents(x, 'song_played'), axis=1)\n",
    "\n",
    "events_reindexed['minigame_played_number'] = events_reindexed.apply(\n",
    "    lambda x: countEvents(x, 'minigame_played'), axis=1)\n",
    "\n",
    "events_reindexed.drop(['event'], axis=1, inplace=True)"
   ]
  },
  {
   "cell_type": "code",
   "execution_count": 10,
   "metadata": {},
   "outputs": [
    {
     "data": {
      "text/html": [
       "<div>\n",
       "<style>\n",
       "    .dataframe thead tr:only-child th {\n",
       "        text-align: right;\n",
       "    }\n",
       "\n",
       "    .dataframe thead th {\n",
       "        text-align: left;\n",
       "    }\n",
       "\n",
       "    .dataframe tbody tr th {\n",
       "        vertical-align: top;\n",
       "    }\n",
       "</style>\n",
       "<table border=\"1\" class=\"dataframe\">\n",
       "  <thead>\n",
       "    <tr style=\"text-align: right;\">\n",
       "      <th></th>\n",
       "      <th>subscribed_event_index</th>\n",
       "      <th>total_events_number</th>\n",
       "      <th>song_played_number</th>\n",
       "      <th>minigame_played_number</th>\n",
       "    </tr>\n",
       "    <tr>\n",
       "      <th>uid</th>\n",
       "      <th></th>\n",
       "      <th></th>\n",
       "      <th></th>\n",
       "      <th></th>\n",
       "    </tr>\n",
       "  </thead>\n",
       "  <tbody>\n",
       "    <tr>\n",
       "      <th>00411460f7c92d2124a67ea0f4cb5f85</th>\n",
       "      <td>8</td>\n",
       "      <td>9</td>\n",
       "      <td>4</td>\n",
       "      <td>2</td>\n",
       "    </tr>\n",
       "    <tr>\n",
       "      <th>00ec53c4682d36f5c4359f4ae7bd7ba1</th>\n",
       "      <td>5</td>\n",
       "      <td>14</td>\n",
       "      <td>2</td>\n",
       "      <td>1</td>\n",
       "    </tr>\n",
       "    <tr>\n",
       "      <th>01161aaa0b6d1345dd8fe4e481144d84</th>\n",
       "      <td>2</td>\n",
       "      <td>20</td>\n",
       "      <td>0</td>\n",
       "      <td>0</td>\n",
       "    </tr>\n",
       "    <tr>\n",
       "      <th>01386bd6d8e091c2ab4c7c7de644d37b</th>\n",
       "      <td>8</td>\n",
       "      <td>11</td>\n",
       "      <td>2</td>\n",
       "      <td>4</td>\n",
       "    </tr>\n",
       "    <tr>\n",
       "      <th>013d407166ec4fa56eb1e1f8cbe183b9</th>\n",
       "      <td>4</td>\n",
       "      <td>7</td>\n",
       "      <td>1</td>\n",
       "      <td>1</td>\n",
       "    </tr>\n",
       "  </tbody>\n",
       "</table>\n",
       "</div>"
      ],
      "text/plain": [
       "                                  subscribed_event_index  total_events_number  \\\n",
       "uid                                                                             \n",
       "00411460f7c92d2124a67ea0f4cb5f85                       8                    9   \n",
       "00ec53c4682d36f5c4359f4ae7bd7ba1                       5                   14   \n",
       "01161aaa0b6d1345dd8fe4e481144d84                       2                   20   \n",
       "01386bd6d8e091c2ab4c7c7de644d37b                       8                   11   \n",
       "013d407166ec4fa56eb1e1f8cbe183b9                       4                    7   \n",
       "\n",
       "                                  song_played_number  minigame_played_number  \n",
       "uid                                                                           \n",
       "00411460f7c92d2124a67ea0f4cb5f85                   4                       2  \n",
       "00ec53c4682d36f5c4359f4ae7bd7ba1                   2                       1  \n",
       "01161aaa0b6d1345dd8fe4e481144d84                   0                       0  \n",
       "01386bd6d8e091c2ab4c7c7de644d37b                   2                       4  \n",
       "013d407166ec4fa56eb1e1f8cbe183b9                   1                       1  "
      ]
     },
     "execution_count": 10,
     "metadata": {},
     "output_type": "execute_result"
    }
   ],
   "source": [
    "events_reindexed.head()"
   ]
  },
  {
   "cell_type": "code",
   "execution_count": 11,
   "metadata": {},
   "outputs": [
    {
     "data": {
      "text/plain": [
       "subscribed_event_index     5.535537\n",
       "total_events_number       11.560331\n",
       "song_played_number         1.803306\n",
       "minigame_played_number     1.743802\n",
       "dtype: float64"
      ]
     },
     "execution_count": 11,
     "metadata": {},
     "output_type": "execute_result"
    }
   ],
   "source": [
    "events_reindexed.mean()"
   ]
  },
  {
   "cell_type": "code",
   "execution_count": 12,
   "metadata": {},
   "outputs": [
    {
     "data": {
      "image/png": "[encoded data removed]",
      "text/plain": [
       "<matplotlib.figure.Figure at 0x1134d95c0>"
      ]
     },
     "metadata": {},
     "output_type": "display_data"
    }
   ],
   "source": [
    "events_reindexed.boxplot(figsize = (10, 5));"
   ]
  },
  {
   "cell_type": "code",
   "execution_count": 13,
   "metadata": {},
   "outputs": [
    {
     "data": {
      "image/png": "[encoded data removed]",
      "text/plain": [
       "<matplotlib.figure.Figure at 0x1138cf668>"
      ]
     },
     "metadata": {},
     "output_type": "display_data"
    }
   ],
   "source": [
    "events_reindexed.hist(figsize = (10, 10));"
   ]
  },
  {
   "cell_type": "markdown",
   "metadata": {},
   "source": [
    "Voila, on average, players who subscribed played 1.8 songs and 1.74 minigames before subscribing. However, if we take a look at the histograms we notice, that the number of songs and minigames played are actually right-skewed. So simple average is not the best metric to characterize the behaviour of players since some outliers might greatly affect and shift its value."
   ]
  },
  {
   "cell_type": "markdown",
   "metadata": {},
   "source": [
    "## Question 2"
   ]
  },
  {
   "cell_type": "code",
   "execution_count": 14,
   "metadata": {
    "collapsed": true
   },
   "outputs": [],
   "source": [
    "# take only 2 groups that we are interested in\n",
    "song_conversion = events[events.group.isin(['a', 'b'])].drop(['date'], axis=1)\n",
    "song_conversion = song_conversion.groupby(['group', 'uid'], as_index=False)\n",
    "song_conversion = song_conversion.apply(lambda x: list(x['event'].values))\n",
    "song_conversion = pd.DataFrame(song_conversion, columns=['event'])\n",
    "\n",
    "# find out if user converted into playing a song\n",
    "song_conversion['converted'] = song_conversion['event'].apply(lambda x: 'song_played' in x)"
   ]
  },
  {
   "cell_type": "code",
   "execution_count": 15,
   "metadata": {},
   "outputs": [
    {
     "name": "stdout",
     "output_type": "stream",
     "text": [
      "group\n",
      "a    0.981982\n",
      "b    0.993994\n",
      "Name: converted, dtype: float64\n",
      "The difference is: 1.20%\n"
     ]
    }
   ],
   "source": [
    "averages = song_conversion.groupby('group').converted.mean()\n",
    "print(averages)\n",
    "print('The difference is: {:.2f}%'.format((averages['b'] - averages['a'])*100))"
   ]
  },
  {
   "cell_type": "markdown",
   "metadata": {},
   "source": [
    "Well, it seems like we have a 1.2% difference in our configs in favour of group B. Let's find oud if it's significant. First, we need to agree on significance level to make sure it meets our business needs and accounts for possible risks (preferably by discussing it with feature owners of \"Wild Wild Chords\"). But for now just assume it's a good old 5%."
   ]
  },
  {
   "cell_type": "code",
   "execution_count": 16,
   "metadata": {
    "collapsed": true
   },
   "outputs": [],
   "source": [
    "n_rows_a = len(song_conversion.query(\"group == 'a'\"))\n",
    "n_rows_b = len(song_conversion.query(\"group == 'b'\"))\n",
    "\n",
    "convert_a = sum(song_conversion.query(\"group == 'a'\")['converted'])\n",
    "convert_b = sum(song_conversion.query(\"group == 'b'\")['converted'])\n",
    "\n",
    "p_a = averages['a']\n",
    "p_b = averages['b']"
   ]
  },
  {
   "cell_type": "markdown",
   "metadata": {},
   "source": [
    "First - just a simple confidence interval for difference"
   ]
  },
  {
   "cell_type": "code",
   "execution_count": 17,
   "metadata": {},
   "outputs": [
    {
     "name": "stdout",
     "output_type": "stream",
     "text": [
      "Lower bond: -0.005%, upper bond: 0.029%\n"
     ]
    }
   ],
   "source": [
    "interval = 1.96 * np.sqrt((p_a*(1-p_a)/n_rows_a) + (p_b*(1-p_b)/n_rows_b))\n",
    "print(\"Lower bond: {0:.3f}%, upper bond: {1:.3f}%\".format(p_b-p_a-interval, p_b-p_a+interval))"
   ]
  },
  {
   "cell_type": "markdown",
   "metadata": {},
   "source": [
    "Seems like with significance level 0.05, the interval is wide enough to include zero, so we don't have enough evidence to say the groups are different.\n",
    "\n",
    "Since we have enough observations and central limit theorem works in our favour, let's run a proportion Z-test to get p-value and see on what confidence level we can be sure that the goups are actually different."
   ]
  },
  {
   "cell_type": "code",
   "execution_count": 18,
   "metadata": {},
   "outputs": [
    {
     "name": "stdout",
     "output_type": "stream",
     "text": [
      "Z-score=-1.423,  p_value=0.077\n"
     ]
    }
   ],
   "source": [
    "z_score, p_value = sm.stats.proportions_ztest([convert_a, convert_b], \n",
    "                                              [n_rows_a, n_rows_b], \n",
    "                                              alternative='smaller')\n",
    "print(\"Z-score={0:.3f},  p_value={1:.3f}\".format(z_score, p_value))"
   ]
  },
  {
   "cell_type": "markdown",
   "metadata": {},
   "source": [
    "Great! Looks like even though we failed to detect any changes with significance of .05, if we lower our standards and agree on 10% probability of rejecting the null hypothesis (even though it's true), we may state that the configs are actually different and B-group is better than A. \n",
    "\n",
    "Finally, let's imagine that I do not remember any statistical tests at all and run a bootstrap for testing. "
   ]
  },
  {
   "cell_type": "code",
   "execution_count": 19,
   "metadata": {},
   "outputs": [
    {
     "name": "stderr",
     "output_type": "stream",
     "text": [
      "Widget Javascript not detected.  It may not be installed or enabled properly.\n"
     ]
    },
    {
     "data": {
      "application/vnd.jupyter.widget-view+json": {
       "model_id": "5793badc39b4449dadaee7d602ceddf9"
      }
     },
     "metadata": {},
     "output_type": "display_data"
    },
    {
     "name": "stdout",
     "output_type": "stream",
     "text": [
      "\n"
     ]
    },
    {
     "data": {
      "image/png": "[encoded data removed]",
      "text/plain": [
       "<matplotlib.figure.Figure at 0x1139cfe10>"
      ]
     },
     "metadata": {},
     "output_type": "display_data"
    }
   ],
   "source": [
    "iterations = 1000\n",
    "# Bootstrapped means for each AB-group\n",
    "boot_song_conversion = []\n",
    "for i in tqdm_notebook(range(iterations)):\n",
    "    boot_mean = song_conversion.sample(frac=1, replace=True).groupby('group').converted.mean()\n",
    "    boot_song_conversion.append(boot_mean)\n",
    "boot_song_conversion = pd.DataFrame(boot_song_conversion)\n",
    "    \n",
    "# A kernel density estimate plot of the bootstrap distributions\n",
    "boot_song_conversion.plot.kde();"
   ]
  },
  {
   "cell_type": "markdown",
   "metadata": {},
   "source": [
    "Indeed it's clearly visible that bootstrapped mean distributions are quite different. Time to calculate the exact percantage differences!"
   ]
  },
  {
   "cell_type": "code",
   "execution_count": 20,
   "metadata": {},
   "outputs": [
    {
     "data": {
      "image/png": "[encoded data removed]",
      "text/plain": [
       "<matplotlib.figure.Figure at 0x113d6b6a0>"
      ]
     },
     "metadata": {},
     "output_type": "display_data"
    }
   ],
   "source": [
    "boot_song_conversion['diff'] = \\\n",
    "    (boot_song_conversion['b']-boot_song_conversion['a'])/boot_song_conversion['a'] * 100\n",
    "boot_song_conversion['diff'].plot.kde();"
   ]
  },
  {
   "cell_type": "markdown",
   "metadata": {},
   "source": [
    "Perfect, the difference distribution is clearly above zero for the most part of it. Now I can calculate the probability that conversion to song is greater in b group."
   ]
  },
  {
   "cell_type": "code",
   "execution_count": 21,
   "metadata": {},
   "outputs": [
    {
     "name": "stdout",
     "output_type": "stream",
     "text": [
      "92.7%\n"
     ]
    }
   ],
   "source": [
    "prob = (boot_song_conversion['diff']>0).mean()\n",
    "print('{:.1%}'.format(prob))"
   ]
  },
  {
   "cell_type": "markdown",
   "metadata": {},
   "source": [
    "And there we go, the bootstrapped probability of group B being better than group A is 93.6%. Again, if it's safe and buisiness-justified for us to make mistakes 1 time out of 10, we can say that the groups are indeed different. "
   ]
  },
  {
   "cell_type": "markdown",
   "metadata": {},
   "source": [
    "## Question 3"
   ]
  },
  {
   "cell_type": "markdown",
   "metadata": {},
   "source": [
    "Again take only a subset with target groups"
   ]
  },
  {
   "cell_type": "code",
   "execution_count": 22,
   "metadata": {
    "collapsed": true
   },
   "outputs": [],
   "source": [
    "subscription_test = events[(events.group.isin(['a', 'c']))].copy()\n",
    "subscription_test['date'] = pd.to_datetime(subscription_test['date'])"
   ]
  },
  {
   "cell_type": "markdown",
   "metadata": {},
   "source": [
    "And again transform \"tall\" into \"long\" dataset, adding dates and events lists for future calculations"
   ]
  },
  {
   "cell_type": "code",
   "execution_count": 23,
   "metadata": {},
   "outputs": [
    {
     "data": {
      "text/html": [
       "<div>\n",
       "<style>\n",
       "    .dataframe thead tr:only-child th {\n",
       "        text-align: right;\n",
       "    }\n",
       "\n",
       "    .dataframe thead th {\n",
       "        text-align: left;\n",
       "    }\n",
       "\n",
       "    .dataframe tbody tr th {\n",
       "        vertical-align: top;\n",
       "    }\n",
       "</style>\n",
       "<table border=\"1\" class=\"dataframe\">\n",
       "  <thead>\n",
       "    <tr style=\"text-align: right;\">\n",
       "      <th></th>\n",
       "      <th>group</th>\n",
       "      <th>uid</th>\n",
       "      <th>dates</th>\n",
       "      <th>events</th>\n",
       "    </tr>\n",
       "  </thead>\n",
       "  <tbody>\n",
       "    <tr>\n",
       "      <th>0</th>\n",
       "      <td>a</td>\n",
       "      <td>00411460f7c92d2124a67ea0f4cb5f85</td>\n",
       "      <td>[2015-03-15T09:08:45.000000000, 2015-03-15T09:...</td>\n",
       "      <td>[app install, account created, song_played, so...</td>\n",
       "    </tr>\n",
       "    <tr>\n",
       "      <th>1</th>\n",
       "      <td>a</td>\n",
       "      <td>006f52e9102a8d3be2fe5614f42ba989</td>\n",
       "      <td>[2015-03-13T07:10:48.000000000, 2015-03-13T07:...</td>\n",
       "      <td>[app install, account created, minigame_played...</td>\n",
       "    </tr>\n",
       "    <tr>\n",
       "      <th>2</th>\n",
       "      <td>a</td>\n",
       "      <td>00ec53c4682d36f5c4359f4ae7bd7ba1</td>\n",
       "      <td>[2015-03-10T17:07:24.000000000, 2015-03-10T17:...</td>\n",
       "      <td>[app install, account created, song_played, so...</td>\n",
       "    </tr>\n",
       "    <tr>\n",
       "      <th>3</th>\n",
       "      <td>a</td>\n",
       "      <td>01386bd6d8e091c2ab4c7c7de644d37b</td>\n",
       "      <td>[2015-03-20T02:00:27.000000000, 2015-03-20T02:...</td>\n",
       "      <td>[app install, account created, song_played, mi...</td>\n",
       "    </tr>\n",
       "    <tr>\n",
       "      <th>4</th>\n",
       "      <td>a</td>\n",
       "      <td>013d407166ec4fa56eb1e1f8cbe183b9</td>\n",
       "      <td>[2015-03-17T17:00:05.000000000, 2015-03-19T17:...</td>\n",
       "      <td>[app install, account created, minigame_played...</td>\n",
       "    </tr>\n",
       "  </tbody>\n",
       "</table>\n",
       "</div>"
      ],
      "text/plain": [
       "  group                               uid  \\\n",
       "0     a  00411460f7c92d2124a67ea0f4cb5f85   \n",
       "1     a  006f52e9102a8d3be2fe5614f42ba989   \n",
       "2     a  00ec53c4682d36f5c4359f4ae7bd7ba1   \n",
       "3     a  01386bd6d8e091c2ab4c7c7de644d37b   \n",
       "4     a  013d407166ec4fa56eb1e1f8cbe183b9   \n",
       "\n",
       "                                               dates  \\\n",
       "0  [2015-03-15T09:08:45.000000000, 2015-03-15T09:...   \n",
       "1  [2015-03-13T07:10:48.000000000, 2015-03-13T07:...   \n",
       "2  [2015-03-10T17:07:24.000000000, 2015-03-10T17:...   \n",
       "3  [2015-03-20T02:00:27.000000000, 2015-03-20T02:...   \n",
       "4  [2015-03-17T17:00:05.000000000, 2015-03-19T17:...   \n",
       "\n",
       "                                              events  \n",
       "0  [app install, account created, song_played, so...  \n",
       "1  [app install, account created, minigame_played...  \n",
       "2  [app install, account created, song_played, so...  \n",
       "3  [app install, account created, song_played, mi...  \n",
       "4  [app install, account created, minigame_played...  "
      ]
     },
     "execution_count": 23,
     "metadata": {},
     "output_type": "execute_result"
    }
   ],
   "source": [
    "subscription_test = subscription_test.groupby(['group', 'uid'], as_index=False)\n",
    "\n",
    "subscription_events = subscription_test.apply(lambda x: list(x['event'].values))\n",
    "subscription_dates = subscription_test.apply(lambda x: list(x['date'].values))\n",
    "\n",
    "subscription_test = pd.concat([subscription_dates, subscription_events], axis=1)\n",
    "subscription_test.columns = ['dates', 'events']\n",
    "subscription_test.reset_index(inplace=True)\n",
    "\n",
    "subscription_test.head()"
   ]
  },
  {
   "cell_type": "code",
   "execution_count": 24,
   "metadata": {
    "code_folding": [],
    "collapsed": true
   },
   "outputs": [],
   "source": [
    "def subscriptionDays(row):\n",
    "    \"\"\"\n",
    "        Calculate number of days before subscription,\n",
    "        while user was active, and before unsubscribing\n",
    "    \"\"\"\n",
    "    zero_day = row['dates'][0]\n",
    "    last_day = row['dates'][-1]\n",
    "    \n",
    "    days_to_sub = np.NaN\n",
    "    days_alive = np.NaN\n",
    "    days_to_unsub = np.NaN\n",
    "    \n",
    "    def dateDiff(date_1, date_2):\n",
    "        \"\"\"\n",
    "            Auxillary function to get the amount of days between dates\n",
    "        \"\"\"\n",
    "        day_delta = (date_1 - date_2).astype('timedelta64[D]')\n",
    "        day_delta = day_delta/np.timedelta64(1, 'D')\n",
    "        return day_delta\n",
    "\n",
    "    if 'subscribed' in row['events']:\n",
    "        sub_index = row['events'].index('subscribed')\n",
    "        days_to_sub = dateDiff(row['dates'][sub_index], zero_day)\n",
    "        days_alive = dateDiff(last_day, zero_day)\n",
    "\n",
    "        if 'unsubscribed' in row['events']:\n",
    "            unsub_index = row['events'].index('unsubscribed')\n",
    "            days_to_unsub = dateDiff(row['dates'][unsub_index], zero_day)\n",
    "            \n",
    "    return days_to_sub, days_alive, days_to_unsub"
   ]
  },
  {
   "cell_type": "code",
   "execution_count": 25,
   "metadata": {
    "collapsed": true
   },
   "outputs": [],
   "source": [
    "subscription_days = subscription_test.apply(subscriptionDays, axis=1)\n",
    "subscription_days = pd.DataFrame(subscription_days.tolist(), \n",
    "             columns=['days_to_sub', 'days_alive', 'days_to_unsub'])\n",
    "subscription_test = pd.concat([subscription_test, subscription_days], axis=1)"
   ]
  },
  {
   "cell_type": "markdown",
   "metadata": {},
   "source": [
    "Now I'll add a couple more useful variables - if user converted to subscription, unsubscribed and how many days the subscription was active"
   ]
  },
  {
   "cell_type": "code",
   "execution_count": 26,
   "metadata": {
    "collapsed": true
   },
   "outputs": [],
   "source": [
    "subscription_test['converted'] = subscription_test['days_to_sub'].notnull()\n",
    "subscription_test['unsubscribed'] = subscription_test['days_to_unsub'].notnull()\n",
    "\n",
    "subscription_test['days_sub_active'] = subscription_test['days_to_unsub']-\\\n",
    "                                  subscription_test['days_to_sub']\n",
    "subscription_test['days_sub_active'].fillna(subscription_test['days_alive']-\\\n",
    "                                       subscription_test['days_to_sub'], inplace=True)\n",
    "\n",
    "subscription_test.drop(['uid', 'dates', 'events'], axis=1, inplace=True)"
   ]
  },
  {
   "cell_type": "markdown",
   "metadata": {},
   "source": [
    "Finally, adding revenue"
   ]
  },
  {
   "cell_type": "code",
   "execution_count": 27,
   "metadata": {
    "collapsed": true
   },
   "outputs": [],
   "source": [
    "def calculateRevenue(row):\n",
    "    \"\"\"\n",
    "        Calculates revenue for single user (row)\n",
    "    \"\"\"\n",
    "    revenue = 0\n",
    "    if row.converted:\n",
    "        if row.group=='a':\n",
    "            # each week the subscription is autorenewed\n",
    "            # assuming the first payment is not refundable\n",
    "            revenue = 5. + 5. * row.days_sub_active//7\n",
    "        else:\n",
    "            # each day the subscription is autorenewed\n",
    "            # assuming the first payment is not refundable\n",
    "            revenue = 0.8 + 0.8 * row.days_sub_active\n",
    "        \n",
    "    return revenue"
   ]
  },
  {
   "cell_type": "code",
   "execution_count": 28,
   "metadata": {
    "collapsed": true
   },
   "outputs": [],
   "source": [
    "subscription_test['revenue'] = subscription_test.apply(calculateRevenue, axis=1)"
   ]
  },
  {
   "cell_type": "code",
   "execution_count": 29,
   "metadata": {},
   "outputs": [
    {
     "data": {
      "image/png": "[encoded data removed]",
      "text/plain": [
       "<matplotlib.figure.Figure at 0x1139cf630>"
      ]
     },
     "metadata": {},
     "output_type": "display_data"
    }
   ],
   "source": [
    "subscription_test.groupby('group').revenue.hist(alpha=0.6, normed=True);"
   ]
  },
  {
   "cell_type": "code",
   "execution_count": 30,
   "metadata": {},
   "outputs": [
    {
     "data": {
      "text/html": [
       "<div>\n",
       "<style>\n",
       "    .dataframe thead tr:only-child th {\n",
       "        text-align: right;\n",
       "    }\n",
       "\n",
       "    .dataframe thead th {\n",
       "        text-align: left;\n",
       "    }\n",
       "\n",
       "    .dataframe tbody tr th {\n",
       "        vertical-align: top;\n",
       "    }\n",
       "</style>\n",
       "<table border=\"1\" class=\"dataframe\">\n",
       "  <thead>\n",
       "    <tr style=\"text-align: right;\">\n",
       "      <th>group</th>\n",
       "      <th>a</th>\n",
       "      <th>c</th>\n",
       "    </tr>\n",
       "  </thead>\n",
       "  <tbody>\n",
       "    <tr>\n",
       "      <th>days_to_sub</th>\n",
       "      <td>2.900498</td>\n",
       "      <td>2.653266</td>\n",
       "    </tr>\n",
       "    <tr>\n",
       "      <th>days_alive</th>\n",
       "      <td>5.278607</td>\n",
       "      <td>5.185930</td>\n",
       "    </tr>\n",
       "    <tr>\n",
       "      <th>days_to_unsub</th>\n",
       "      <td>3.800000</td>\n",
       "      <td>4.105263</td>\n",
       "    </tr>\n",
       "    <tr>\n",
       "      <th>converted</th>\n",
       "      <td>0.603604</td>\n",
       "      <td>0.597598</td>\n",
       "    </tr>\n",
       "    <tr>\n",
       "      <th>unsubscribed</th>\n",
       "      <td>0.225225</td>\n",
       "      <td>0.228228</td>\n",
       "    </tr>\n",
       "    <tr>\n",
       "      <th>days_sub_active</th>\n",
       "      <td>1.646766</td>\n",
       "      <td>1.909548</td>\n",
       "    </tr>\n",
       "    <tr>\n",
       "      <th>revenue</th>\n",
       "      <td>3.528529</td>\n",
       "      <td>1.390991</td>\n",
       "    </tr>\n",
       "  </tbody>\n",
       "</table>\n",
       "</div>"
      ],
      "text/plain": [
       "group                   a         c\n",
       "days_to_sub      2.900498  2.653266\n",
       "days_alive       5.278607  5.185930\n",
       "days_to_unsub    3.800000  4.105263\n",
       "converted        0.603604  0.597598\n",
       "unsubscribed     0.225225  0.228228\n",
       "days_sub_active  1.646766  1.909548\n",
       "revenue          3.528529  1.390991"
      ]
     },
     "execution_count": 30,
     "metadata": {},
     "output_type": "execute_result"
    }
   ],
   "source": [
    "subscription_test.groupby('group').mean().T"
   ]
  },
  {
   "cell_type": "markdown",
   "metadata": {},
   "source": [
    "So, at first glance, it seems that people in the C group have less ARPU than in the A group, conversion is slightly lower as well. Let's check if those differences are significants:"
   ]
  },
  {
   "cell_type": "markdown",
   "metadata": {},
   "source": [
    "### Days of active subscription"
   ]
  },
  {
   "cell_type": "code",
   "execution_count": 31,
   "metadata": {},
   "outputs": [
    {
     "name": "stdout",
     "output_type": "stream",
     "text": [
      "Z-score=-1.064,  p_value=0.144\n"
     ]
    }
   ],
   "source": [
    "days_sub_active_control = subscription_test.query(\"group == 'a'\")['days_sub_active'].fillna(0)\n",
    "days_sub_active_treat = subscription_test.query(\"group == 'c'\")['days_sub_active'].fillna(0)\n",
    "\n",
    "z_score, p_value = sm.stats.ztest(days_sub_active_control, \n",
    "                                  days_sub_active_treat, alternative='smaller')\n",
    "print(\"Z-score={0:.3f},  p_value={1:.3f}\".format(z_score, p_value))"
   ]
  },
  {
   "cell_type": "markdown",
   "metadata": {},
   "source": [
    "The results show that the average amount of days of the subscruption being active is pretty much the same between the two groups. That means that no matter the type of the sub players, on average, tend to cancel it pretty soon. "
   ]
  },
  {
   "cell_type": "markdown",
   "metadata": {},
   "source": [
    "### ARPU (average revenue per user)"
   ]
  },
  {
   "cell_type": "code",
   "execution_count": 32,
   "metadata": {},
   "outputs": [
    {
     "name": "stdout",
     "output_type": "stream",
     "text": [
      "Z-score=11.183,  p_value=0.000\n"
     ]
    }
   ],
   "source": [
    "revenue_control = subscription_test.query(\"group == 'a'\")['revenue']\n",
    "revenue_treat = subscription_test.query(\"group == 'c'\")['revenue']\n",
    "\n",
    "z_score, p_value = sm.stats.ztest(revenue_control, revenue_treat, alternative='larger')\n",
    "print(\"Z-score={0:.3f},  p_value={1:.3f}\".format(z_score, p_value))"
   ]
  },
  {
   "cell_type": "markdown",
   "metadata": {},
   "source": [
    "Well, first impression was correct, ARPU of the control group with weekly subscriptions is indeed higher, so potentially those users will bring us more. "
   ]
  },
  {
   "cell_type": "markdown",
   "metadata": {},
   "source": [
    "### Conversions to subscription"
   ]
  },
  {
   "cell_type": "code",
   "execution_count": 33,
   "metadata": {},
   "outputs": [
    {
     "name": "stdout",
     "output_type": "stream",
     "text": [
      "Z-score=0.158,  p_value=0.563\n"
     ]
    }
   ],
   "source": [
    "n_rows_a = len(subscription_test.query(\"group == 'a'\"))\n",
    "n_rows_c = len(subscription_test.query(\"group == 'c'\"))\n",
    "\n",
    "convert_a = sum(subscription_test.query(\"group == 'a'\")['converted'])\n",
    "convert_c = sum(subscription_test.query(\"group == 'c'\")['converted'])\n",
    "\n",
    "z_score, p_value = sm.stats.proportions_ztest([convert_a, convert_c], \n",
    "                                              [n_rows_a, n_rows_c], \n",
    "                                              alternative='smaller')\n",
    "print(\"Z-score={0:.3f},  p_value={1:.3f}\".format(z_score, p_value))"
   ]
  },
  {
   "cell_type": "code",
   "execution_count": 34,
   "metadata": {},
   "outputs": [
    {
     "data": {
      "image/png": "[encoded data removed]",
      "text/plain": [
       "<matplotlib.figure.Figure at 0x113db9588>"
      ]
     },
     "metadata": {},
     "output_type": "display_data"
    }
   ],
   "source": [
    "subscription_test.days_alive.hist(bins=20, normed=True)\n",
    "subscription_test.days_alive.plot.kde()\n",
    "plt.title('Distribution of days in game')\n",
    "plt.xlim(0, 25);"
   ]
  },
  {
   "cell_type": "markdown",
   "metadata": {},
   "source": [
    "So, we don't have enough evidence to say that conversions are any different, while ARPU is clearly bigger in the A group. That means, given the same amount of installs for both groups we will get the same amount of subscribers, but less money in C group. \n",
    "\n",
    "Possible explanation - retention problems. In this particular dataset we don't have users who've lived more than 20 days in the app and. On average, users have been active for 5-6 days only. That means, we rarely see any engaged players who are not willing to cancel subscription. Under these circumstances group A option of subscription obviously brings more money to the company - just because of the price that users manage to pay before leaving. \n",
    "\n",
    "It would be best to first address the retention problem because right now monetization depends more on the price of the offer, rather than on its type. The situation with similar conversions possibly implies that users are willing to try the paid content no matter the price range. However pretty soon they churn, leaving us wondering - why?\n",
    "\n",
    "But that is a story for another day...\n",
    "\n",
    "Thank you for reading!"
   ]
  }
 ],
 "metadata": {
  "kernelspec": {
   "display_name": "Python 3",
   "language": "python",
   "name": "python3"
  },
  "language_info": {
   "codemirror_mode": {
    "name": "ipython",
    "version": 3
   },
   "file_extension": ".py",
   "mimetype": "text/x-python",
   "name": "python",
   "nbconvert_exporter": "python",
   "pygments_lexer": "ipython3",
   "version": "3.6.1"
  },
  "varInspector": {
   "cols": {
    "lenName": 16,
    "lenType": 16,
    "lenVar": 40
   },
   "kernels_config": {
    "python": {
     "delete_cmd_postfix": "",
     "delete_cmd_prefix": "del ",
     "library": "var_list.py",
     "varRefreshCmd": "print(var_dic_list())"
    },
    "r": {
     "delete_cmd_postfix": ") ",
     "delete_cmd_prefix": "rm(",
     "library": "var_list.r",
     "varRefreshCmd": "cat(var_dic_list()) "
    }
   },
   "types_to_exclude": [
    "module",
    "function",
    "builtin_function_or_method",
    "instance",
    "_Feature"
   ],
   "window_display": false
  }
 },
 "nbformat": 4,
 "nbformat_minor": 2
}
